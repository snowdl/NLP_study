{
 "cells": [
  {
   "cell_type": "code",
   "execution_count": 36,
   "id": "5d65c74f-c648-44d8-bd79-3daa4b0af83d",
   "metadata": {},
   "outputs": [],
   "source": [
    "from transformers import AutoTokenizer, AutoModelForSeq2SeqLM\n",
    "import torch"
   ]
  },
  {
   "cell_type": "code",
   "execution_count": 37,
   "id": "d9b17da9-d3bb-4651-8cf2-9a9c67cf3569",
   "metadata": {},
   "outputs": [],
   "source": [
    "# Load the pretrained tokenizer and model for flan-t5-base\n",
    "model_name = \"google/flan-t5-base\"\n",
    "tokenizer = AutoTokenizer.from_pretrained(model_name)\n",
    "model = AutoModelForSeq2SeqLM.from_pretrained(model_name)"
   ]
  },
  {
   "cell_type": "code",
   "execution_count": 38,
   "id": "40bd3c6f-352a-4451-8d55-76c169ee4431",
   "metadata": {},
   "outputs": [],
   "source": [
    "# Define the input prompt/question clearly\n",
    "prompt = \"Question: What is the capital city of France? Answer:\""
   ]
  },
  {
   "cell_type": "code",
   "execution_count": 39,
   "id": "5a5ae59c-f0f1-40e0-a604-5a3591a685cc",
   "metadata": {},
   "outputs": [],
   "source": [
    "# Tokenize the input prompt to convert it into model-readable format\n",
    "inputs = tokenizer(prompt, return_tensors=\"pt\")"
   ]
  },
  {
   "cell_type": "code",
   "execution_count": 45,
   "id": "86d3821b-ff6b-4b56-b555-5c34c8df45f6",
   "metadata": {},
   "outputs": [
    {
     "name": "stdout",
     "output_type": "stream",
     "text": [
      "🌀 Generating...\n"
     ]
    }
   ],
   "source": [
    "print(\"🌀 Generating...\")"
   ]
  },
  {
   "cell_type": "code",
   "execution_count": 46,
   "id": "980acd58-d6fa-4db6-819a-9d6d03dcdeec",
   "metadata": {},
   "outputs": [],
   "source": [
    "# Generate output tokens from the model\n",
    "# - max_new_tokens: limit the length of generated tokens\n",
    "# - num_beams: use beam search to improve output quality\n",
    "# - early_stopping: stop generation when an end condition is met\n",
    "outputs = model.generate(\n",
    "    **inputs,\n",
    "    max_new_tokens=50,\n",
    "    num_beams=5,\n",
    "    early_stopping=True\n",
    ")"
   ]
  },
  {
   "cell_type": "code",
   "execution_count": 47,
   "id": "668b999e-3d51-4037-8097-6919ccfe4ea8",
   "metadata": {},
   "outputs": [],
   "source": [
    "# Decode the generated tokens back into human-readable text\n",
    "result = tokenizer.decode(outputs[0], skip_special_tokens=True)"
   ]
  },
  {
   "cell_type": "code",
   "execution_count": 48,
   "id": "955abbfe-a143-43e8-adf1-1107c383c1f6",
   "metadata": {},
   "outputs": [
    {
     "name": "stdout",
     "output_type": "stream",
     "text": [
      "📤 Model output: paris\n"
     ]
    }
   ],
   "source": [
    "# Print the model's response\n",
    "print(\"📤 Model output:\", result)"
   ]
  },
  {
   "cell_type": "code",
   "execution_count": null,
   "id": "c6590c7b-350c-4e9f-8627-f4138938ea7e",
   "metadata": {},
   "outputs": [],
   "source": []
  }
 ],
 "metadata": {
  "kernelspec": {
   "display_name": "Python 3.11 (pyenv)",
   "language": "python",
   "name": "pyenv311"
  },
  "language_info": {
   "codemirror_mode": {
    "name": "ipython",
    "version": 3
   },
   "file_extension": ".py",
   "mimetype": "text/x-python",
   "name": "python",
   "nbconvert_exporter": "python",
   "pygments_lexer": "ipython3",
   "version": "3.11.11"
  }
 },
 "nbformat": 4,
 "nbformat_minor": 5
}
