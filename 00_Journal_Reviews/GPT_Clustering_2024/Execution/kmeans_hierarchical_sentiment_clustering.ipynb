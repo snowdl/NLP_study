{
 "cells": [
  {
   "cell_type": "code",
   "execution_count": null,
   "id": "cf57bf10-4294-4090-8a89-35a5f5a87b52",
   "metadata": {},
   "outputs": [],
   "source": [
    "#emoji removal\n",
    "import emoji"
   ]
  },
  {
   "cell_type": "code",
   "execution_count": 133,
   "id": "b253d28e-8976-4165-8cd1-1465420da542",
   "metadata": {},
   "outputs": [],
   "source": [
    "#Hugging Transformers\n",
    "from transformers import AutoTokenizer, AutoModelForSequenceClassification"
   ]
  },
  {
   "cell_type": "code",
   "execution_count": 135,
   "id": "5b3ef945-c4fb-4718-8ffb-cbbc38b30c6d",
   "metadata": {},
   "outputs": [],
   "source": [
    "#Sentence Transformer\n",
    "from sentence_transformers import SentenceTransformer"
   ]
  },
  {
   "cell_type": "code",
   "execution_count": 136,
   "id": "7a6da43c-111c-4b66-9ce9-ad1dd5647986",
   "metadata": {},
   "outputs": [],
   "source": [
    "#model + data procesing\n",
    "from sentence_transformers import SentenceTransformer\n",
    "from transformers import AutoTokenizer, AutoModelForSequenceClassification"
   ]
  },
  {
   "cell_type": "code",
   "execution_count": 96,
   "id": "1ceac280-2bbe-4546-80c8-39873b664e45",
   "metadata": {},
   "outputs": [],
   "source": [
    "# mathematical \n",
    "import numpy as np\n",
    "import torch"
   ]
  },
  {
   "cell_type": "code",
   "execution_count": 137,
   "id": "9939ed24-195b-4cd9-829c-be894cd48400",
   "metadata": {},
   "outputs": [],
   "source": [
    "#clustering + dimentional\n",
    "from sklearn.cluster import KMeans\n",
    "from sklearn.decomposition import PCA\n",
    "from collections import defaultdict"
   ]
  },
  {
   "cell_type": "code",
   "execution_count": 138,
   "id": "326de215-7355-4f31-8f71-7c3b1b05957d",
   "metadata": {},
   "outputs": [],
   "source": [
    "#Visualization\n",
    "import matplotlib.pyplot as plt"
   ]
  },
  {
   "cell_type": "code",
   "execution_count": 139,
   "id": "0367c0b5-be04-40a3-b93a-022e8f395c8f",
   "metadata": {},
   "outputs": [],
   "source": [
    "#utils\n",
    "from collections import defaultdict"
   ]
  },
  {
   "cell_type": "code",
   "execution_count": 140,
   "id": "d2b6df7f-5000-4b12-9b96-6c64d0ee8a52",
   "metadata": {},
   "outputs": [],
   "source": [
    "#sample text data"
   ]
  },
  {
   "cell_type": "code",
   "execution_count": 141,
   "id": "1e24a0b4-0f6f-4952-b613-256560a921ca",
   "metadata": {},
   "outputs": [],
   "source": [
    "texts = [\n",
    "    \"The food was great and the service was excellent.\",\n",
    "    \"I loved the ambiance and the friendly staff.\",\n",
    "    \"The product quality was poor and broke quickly.\",\n",
    "    \"Shipping was delayed and the package was damaged.\",\n",
    "    \"Amazing experience! Highly recommend to everyone.\",\n",
    "    \"Terrible customer service. Will not buy again.\",\n",
    "    \"Delicious meals and fast delivery.\",\n",
    "    \"The item did not match the description.\",\n",
    "    \"Staff was helpful and very polite.\",\n",
    "    \"Received the wrong product and no response from support.\"\n",
    "]"
   ]
  },
  {
   "cell_type": "code",
   "execution_count": 142,
   "id": "58d08f35-0d71-407f-9bbe-9b9ea041d469",
   "metadata": {},
   "outputs": [],
   "source": [
    "#embedding"
   ]
  },
  {
   "cell_type": "code",
   "execution_count": 143,
   "id": "90dcb1bd-e4e5-4a42-b694-362de2d58ff7",
   "metadata": {},
   "outputs": [],
   "source": [
    "model = SentenceTransformer('all-MiniLM-L6-v2')\n",
    "embeddings = model.encode(texts)"
   ]
  },
  {
   "cell_type": "code",
   "execution_count": 144,
   "id": "5164814d-99d3-4c0a-8611-7a5989f0283f",
   "metadata": {},
   "outputs": [],
   "source": [
    "#Kmeans clustering"
   ]
  },
  {
   "cell_type": "code",
   "execution_count": 145,
   "id": "da120602-02d0-44f3-be3d-bbcaef5089c7",
   "metadata": {},
   "outputs": [
    {
     "data": {
      "text/html": [
       "<style>#***REMOVED***container-id-4 {\n",
       "  /* Definition of color scheme common for light and dark mode */\n",
       "  --sklearn-color-text: #000;\n",
       "  --sklearn-color-text-muted: #666;\n",
       "  --sklearn-color-line: gray;\n",
       "  /* Definition of color scheme for unfitted estimators */\n",
       "  --sklearn-color-unfitted-level-0: #fff5e6;\n",
       "  --sklearn-color-unfitted-level-1: #f6e4d2;\n",
       "  --sklearn-color-unfitted-level-2: #ffe0b3;\n",
       "  --sklearn-color-unfitted-level-3: chocolate;\n",
       "  /* Definition of color scheme for fitted estimators */\n",
       "  --sklearn-color-fitted-level-0: #f0f8ff;\n",
       "  --sklearn-color-fitted-level-1: #d4ebff;\n",
       "  --sklearn-color-fitted-level-2: #b3dbfd;\n",
       "  --sklearn-color-fitted-level-3: cornflowerblue;\n",
       "\n",
       "  /* Specific color for light theme */\n",
       "  --sklearn-color-text-on-default-background: var(--sg-text-color, var(--theme-code-foreground, var(--jp-content-font-color1, black)));\n",
       "  --sklearn-color-background: var(--sg-background-color, var(--theme-background, var(--jp-layout-color0, white)));\n",
       "  --sklearn-color-border-box: var(--sg-text-color, var(--theme-code-foreground, var(--jp-content-font-color1, black)));\n",
       "  --sklearn-color-icon: #696969;\n",
       "\n",
       "  @media (prefers-color-scheme: dark) {\n",
       "    /* Redefinition of color scheme for dark theme */\n",
       "    --sklearn-color-text-on-default-background: var(--sg-text-color, var(--theme-code-foreground, var(--jp-content-font-color1, white)));\n",
       "    --sklearn-color-background: var(--sg-background-color, var(--theme-background, var(--jp-layout-color0, #111)));\n",
       "    --sklearn-color-border-box: var(--sg-text-color, var(--theme-code-foreground, var(--jp-content-font-color1, white)));\n",
       "    --sklearn-color-icon: #878787;\n",
       "  }\n",
       "}\n",
       "\n",
       "#***REMOVED***container-id-4 {\n",
       "  color: var(--sklearn-color-text);\n",
       "}\n",
       "\n",
       "#***REMOVED***container-id-4 pre {\n",
       "  padding: 0;\n",
       "}\n",
       "\n",
       "#***REMOVED***container-id-4 input.***REMOVED***hidden--visually {\n",
       "  border: 0;\n",
       "  clip: rect(1px 1px 1px 1px);\n",
       "  clip: rect(1px, 1px, 1px, 1px);\n",
       "  height: 1px;\n",
       "  margin: -1px;\n",
       "  overflow: hidden;\n",
       "  padding: 0;\n",
       "  position: absolute;\n",
       "  width: 1px;\n",
       "}\n",
       "\n",
       "#***REMOVED***container-id-4 div.***REMOVED***dashed-wrapped {\n",
       "  border: 1px dashed var(--sklearn-color-line);\n",
       "  margin: 0 0.4em 0.5em 0.4em;\n",
       "  box-sizing: border-box;\n",
       "  padding-bottom: 0.4em;\n",
       "  background-color: var(--sklearn-color-background);\n",
       "}\n",
       "\n",
       "#***REMOVED***container-id-4 div.***REMOVED***container {\n",
       "  /* jupyter's `normalize.less` sets `[hidden] { display: none; }`\n",
       "     but bootstrap.min.css set `[hidden] { display: none !important; }`\n",
       "     so we also need the `!important` here to be able to override the\n",
       "     default hidden behavior on the sphinx rendered scikit-learn.org.\n",
       "     See: https://github.com/scikit-learn/scikit-learn/issues/21755 */\n",
       "  display: inline-block !important;\n",
       "  position: relative;\n",
       "}\n",
       "\n",
       "#***REMOVED***container-id-4 div.***REMOVED***text-repr-fallback {\n",
       "  display: none;\n",
       "}\n",
       "\n",
       "div.***REMOVED***parallel-item,\n",
       "div.***REMOVED***serial,\n",
       "div.***REMOVED***item {\n",
       "  /* draw centered vertical line to link estimators */\n",
       "  background-image: linear-gradient(var(--sklearn-color-text-on-default-background), var(--sklearn-color-text-on-default-background));\n",
       "  background-size: 2px 100%;\n",
       "  background-repeat: no-repeat;\n",
       "  background-position: center center;\n",
       "}\n",
       "\n",
       "/* Parallel-specific style estimator block */\n",
       "\n",
       "#***REMOVED***container-id-4 div.***REMOVED***parallel-item::after {\n",
       "  content: \"\";\n",
       "  width: 100%;\n",
       "  border-bottom: 2px solid var(--sklearn-color-text-on-default-background);\n",
       "  flex-grow: 1;\n",
       "}\n",
       "\n",
       "#***REMOVED***container-id-4 div.***REMOVED***parallel {\n",
       "  display: flex;\n",
       "  align-items: stretch;\n",
       "  justify-content: center;\n",
       "  background-color: var(--sklearn-color-background);\n",
       "  position: relative;\n",
       "}\n",
       "\n",
       "#***REMOVED***container-id-4 div.***REMOVED***parallel-item {\n",
       "  display: flex;\n",
       "  flex-direction: column;\n",
       "}\n",
       "\n",
       "#***REMOVED***container-id-4 div.***REMOVED***parallel-item:first-child::after {\n",
       "  align-self: flex-end;\n",
       "  width: 50%;\n",
       "}\n",
       "\n",
       "#***REMOVED***container-id-4 div.***REMOVED***parallel-item:last-child::after {\n",
       "  align-self: flex-start;\n",
       "  width: 50%;\n",
       "}\n",
       "\n",
       "#***REMOVED***container-id-4 div.***REMOVED***parallel-item:only-child::after {\n",
       "  width: 0;\n",
       "}\n",
       "\n",
       "/* Serial-specific style estimator block */\n",
       "\n",
       "#***REMOVED***container-id-4 div.***REMOVED***serial {\n",
       "  display: flex;\n",
       "  flex-direction: column;\n",
       "  align-items: center;\n",
       "  background-color: var(--sklearn-color-background);\n",
       "  padding-right: 1em;\n",
       "  padding-left: 1em;\n",
       "}\n",
       "\n",
       "\n",
       "/* Toggleable style: style used for estimator/Pipeline/ColumnTransformer box that is\n",
       "clickable and can be expanded/collapsed.\n",
       "- Pipeline and ColumnTransformer use this feature and define the default style\n",
       "- Estimators will overwrite some part of the style using the `***REMOVED***estimator` class\n",
       "*/\n",
       "\n",
       "/* Pipeline and ColumnTransformer style (default) */\n",
       "\n",
       "#***REMOVED***container-id-4 div.***REMOVED***toggleable {\n",
       "  /* Default theme specific background. It is overwritten whether we have a\n",
       "  specific estimator or a Pipeline/ColumnTransformer */\n",
       "  background-color: var(--sklearn-color-background);\n",
       "}\n",
       "\n",
       "/* Toggleable label */\n",
       "#***REMOVED***container-id-4 label.***REMOVED***toggleable__label {\n",
       "  cursor: pointer;\n",
       "  display: flex;\n",
       "  width: 100%;\n",
       "  margin-bottom: 0;\n",
       "  padding: 0.5em;\n",
       "  box-sizing: border-box;\n",
       "  text-align: center;\n",
       "  align-items: start;\n",
       "  justify-content: space-between;\n",
       "  gap: 0.5em;\n",
       "}\n",
       "\n",
       "#***REMOVED***container-id-4 label.***REMOVED***toggleable__label .caption {\n",
       "  font-size: 0.6rem;\n",
       "  font-weight: lighter;\n",
       "  color: var(--sklearn-color-text-muted);\n",
       "}\n",
       "\n",
       "#***REMOVED***container-id-4 label.***REMOVED***toggleable__label-arrow:before {\n",
       "  /* Arrow on the left of the label */\n",
       "  content: \"▸\";\n",
       "  float: left;\n",
       "  margin-right: 0.25em;\n",
       "  color: var(--sklearn-color-icon);\n",
       "}\n",
       "\n",
       "#***REMOVED***container-id-4 label.***REMOVED***toggleable__label-arrow:hover:before {\n",
       "  color: var(--sklearn-color-text);\n",
       "}\n",
       "\n",
       "/* Toggleable content - dropdown */\n",
       "\n",
       "#***REMOVED***container-id-4 div.***REMOVED***toggleable__content {\n",
       "  max-height: 0;\n",
       "  max-width: 0;\n",
       "  overflow: hidden;\n",
       "  text-align: left;\n",
       "  /* unfitted */\n",
       "  background-color: var(--sklearn-color-unfitted-level-0);\n",
       "}\n",
       "\n",
       "#***REMOVED***container-id-4 div.***REMOVED***toggleable__content.fitted {\n",
       "  /* fitted */\n",
       "  background-color: var(--sklearn-color-fitted-level-0);\n",
       "}\n",
       "\n",
       "#***REMOVED***container-id-4 div.***REMOVED***toggleable__content pre {\n",
       "  margin: 0.2em;\n",
       "  border-radius: 0.25em;\n",
       "  color: var(--sklearn-color-text);\n",
       "  /* unfitted */\n",
       "  background-color: var(--sklearn-color-unfitted-level-0);\n",
       "}\n",
       "\n",
       "#***REMOVED***container-id-4 div.***REMOVED***toggleable__content.fitted pre {\n",
       "  /* unfitted */\n",
       "  background-color: var(--sklearn-color-fitted-level-0);\n",
       "}\n",
       "\n",
       "#***REMOVED***container-id-4 input.***REMOVED***toggleable__control:checked~div.***REMOVED***toggleable__content {\n",
       "  /* Expand drop-down */\n",
       "  max-height: 200px;\n",
       "  max-width: 100%;\n",
       "  overflow: auto;\n",
       "}\n",
       "\n",
       "#***REMOVED***container-id-4 input.***REMOVED***toggleable__control:checked~label.***REMOVED***toggleable__label-arrow:before {\n",
       "  content: \"▾\";\n",
       "}\n",
       "\n",
       "/* Pipeline/ColumnTransformer-specific style */\n",
       "\n",
       "#***REMOVED***container-id-4 div.***REMOVED***label input.***REMOVED***toggleable__control:checked~label.***REMOVED***toggleable__label {\n",
       "  color: var(--sklearn-color-text);\n",
       "  background-color: var(--sklearn-color-unfitted-level-2);\n",
       "}\n",
       "\n",
       "#***REMOVED***container-id-4 div.***REMOVED***label.fitted input.***REMOVED***toggleable__control:checked~label.***REMOVED***toggleable__label {\n",
       "  background-color: var(--sklearn-color-fitted-level-2);\n",
       "}\n",
       "\n",
       "/* Estimator-specific style */\n",
       "\n",
       "/* Colorize estimator box */\n",
       "#***REMOVED***container-id-4 div.***REMOVED***estimator input.***REMOVED***toggleable__control:checked~label.***REMOVED***toggleable__label {\n",
       "  /* unfitted */\n",
       "  background-color: var(--sklearn-color-unfitted-level-2);\n",
       "}\n",
       "\n",
       "#***REMOVED***container-id-4 div.***REMOVED***estimator.fitted input.***REMOVED***toggleable__control:checked~label.***REMOVED***toggleable__label {\n",
       "  /* fitted */\n",
       "  background-color: var(--sklearn-color-fitted-level-2);\n",
       "}\n",
       "\n",
       "#***REMOVED***container-id-4 div.***REMOVED***label label.***REMOVED***toggleable__label,\n",
       "#***REMOVED***container-id-4 div.***REMOVED***label label {\n",
       "  /* The background is the default theme color */\n",
       "  color: var(--sklearn-color-text-on-default-background);\n",
       "}\n",
       "\n",
       "/* On hover, darken the color of the background */\n",
       "#***REMOVED***container-id-4 div.***REMOVED***label:hover label.***REMOVED***toggleable__label {\n",
       "  color: var(--sklearn-color-text);\n",
       "  background-color: var(--sklearn-color-unfitted-level-2);\n",
       "}\n",
       "\n",
       "/* Label box, darken color on hover, fitted */\n",
       "#***REMOVED***container-id-4 div.***REMOVED***label.fitted:hover label.***REMOVED***toggleable__label.fitted {\n",
       "  color: var(--sklearn-color-text);\n",
       "  background-color: var(--sklearn-color-fitted-level-2);\n",
       "}\n",
       "\n",
       "/* Estimator label */\n",
       "\n",
       "#***REMOVED***container-id-4 div.***REMOVED***label label {\n",
       "  font-family: monospace;\n",
       "  font-weight: bold;\n",
       "  display: inline-block;\n",
       "  line-height: 1.2em;\n",
       "}\n",
       "\n",
       "#***REMOVED***container-id-4 div.***REMOVED***label-container {\n",
       "  text-align: center;\n",
       "}\n",
       "\n",
       "/* Estimator-specific */\n",
       "#***REMOVED***container-id-4 div.***REMOVED***estimator {\n",
       "  font-family: monospace;\n",
       "  border: 1px dotted var(--sklearn-color-border-box);\n",
       "  border-radius: 0.25em;\n",
       "  box-sizing: border-box;\n",
       "  margin-bottom: 0.5em;\n",
       "  /* unfitted */\n",
       "  background-color: var(--sklearn-color-unfitted-level-0);\n",
       "}\n",
       "\n",
       "#***REMOVED***container-id-4 div.***REMOVED***estimator.fitted {\n",
       "  /* fitted */\n",
       "  background-color: var(--sklearn-color-fitted-level-0);\n",
       "}\n",
       "\n",
       "/* on hover */\n",
       "#***REMOVED***container-id-4 div.***REMOVED***estimator:hover {\n",
       "  /* unfitted */\n",
       "  background-color: var(--sklearn-color-unfitted-level-2);\n",
       "}\n",
       "\n",
       "#***REMOVED***container-id-4 div.***REMOVED***estimator.fitted:hover {\n",
       "  /* fitted */\n",
       "  background-color: var(--sklearn-color-fitted-level-2);\n",
       "}\n",
       "\n",
       "/* Specification for estimator info (e.g. \"i\" and \"?\") */\n",
       "\n",
       "/* Common style for \"i\" and \"?\" */\n",
       "\n",
       ".***REMOVED***estimator-doc-link,\n",
       "a:link.***REMOVED***estimator-doc-link,\n",
       "a:visited.***REMOVED***estimator-doc-link {\n",
       "  float: right;\n",
       "  font-size: smaller;\n",
       "  line-height: 1em;\n",
       "  font-family: monospace;\n",
       "  background-color: var(--sklearn-color-background);\n",
       "  border-radius: 1em;\n",
       "  height: 1em;\n",
       "  width: 1em;\n",
       "  text-decoration: none !important;\n",
       "  margin-left: 0.5em;\n",
       "  text-align: center;\n",
       "  /* unfitted */\n",
       "  border: var(--sklearn-color-unfitted-level-1) 1pt solid;\n",
       "  color: var(--sklearn-color-unfitted-level-1);\n",
       "}\n",
       "\n",
       ".***REMOVED***estimator-doc-link.fitted,\n",
       "a:link.***REMOVED***estimator-doc-link.fitted,\n",
       "a:visited.***REMOVED***estimator-doc-link.fitted {\n",
       "  /* fitted */\n",
       "  border: var(--sklearn-color-fitted-level-1) 1pt solid;\n",
       "  color: var(--sklearn-color-fitted-level-1);\n",
       "}\n",
       "\n",
       "/* On hover */\n",
       "div.***REMOVED***estimator:hover .***REMOVED***estimator-doc-link:hover,\n",
       ".***REMOVED***estimator-doc-link:hover,\n",
       "div.***REMOVED***label-container:hover .***REMOVED***estimator-doc-link:hover,\n",
       ".***REMOVED***estimator-doc-link:hover {\n",
       "  /* unfitted */\n",
       "  background-color: var(--sklearn-color-unfitted-level-3);\n",
       "  color: var(--sklearn-color-background);\n",
       "  text-decoration: none;\n",
       "}\n",
       "\n",
       "div.***REMOVED***estimator.fitted:hover .***REMOVED***estimator-doc-link.fitted:hover,\n",
       ".***REMOVED***estimator-doc-link.fitted:hover,\n",
       "div.***REMOVED***label-container:hover .***REMOVED***estimator-doc-link.fitted:hover,\n",
       ".***REMOVED***estimator-doc-link.fitted:hover {\n",
       "  /* fitted */\n",
       "  background-color: var(--sklearn-color-fitted-level-3);\n",
       "  color: var(--sklearn-color-background);\n",
       "  text-decoration: none;\n",
       "}\n",
       "\n",
       "/* Span, style for the box shown on hovering the info icon */\n",
       ".***REMOVED***estimator-doc-link span {\n",
       "  display: none;\n",
       "  z-index: 9999;\n",
       "  position: relative;\n",
       "  font-weight: normal;\n",
       "  right: .2ex;\n",
       "  padding: .5ex;\n",
       "  margin: .5ex;\n",
       "  width: min-content;\n",
       "  min-width: 20ex;\n",
       "  max-width: 50ex;\n",
       "  color: var(--sklearn-color-text);\n",
       "  box-shadow: 2pt 2pt 4pt #999;\n",
       "  /* unfitted */\n",
       "  background: var(--sklearn-color-unfitted-level-0);\n",
       "  border: .5pt solid var(--sklearn-color-unfitted-level-3);\n",
       "}\n",
       "\n",
       ".***REMOVED***estimator-doc-link.fitted span {\n",
       "  /* fitted */\n",
       "  background: var(--sklearn-color-fitted-level-0);\n",
       "  border: var(--sklearn-color-fitted-level-3);\n",
       "}\n",
       "\n",
       ".***REMOVED***estimator-doc-link:hover span {\n",
       "  display: block;\n",
       "}\n",
       "\n",
       "/* \"?\"-specific style due to the `<a>` HTML tag */\n",
       "\n",
       "#***REMOVED***container-id-4 a.estimator_doc_link {\n",
       "  float: right;\n",
       "  font-size: 1rem;\n",
       "  line-height: 1em;\n",
       "  font-family: monospace;\n",
       "  background-color: var(--sklearn-color-background);\n",
       "  border-radius: 1rem;\n",
       "  height: 1rem;\n",
       "  width: 1rem;\n",
       "  text-decoration: none;\n",
       "  /* unfitted */\n",
       "  color: var(--sklearn-color-unfitted-level-1);\n",
       "  border: var(--sklearn-color-unfitted-level-1) 1pt solid;\n",
       "}\n",
       "\n",
       "#***REMOVED***container-id-4 a.estimator_doc_link.fitted {\n",
       "  /* fitted */\n",
       "  border: var(--sklearn-color-fitted-level-1) 1pt solid;\n",
       "  color: var(--sklearn-color-fitted-level-1);\n",
       "}\n",
       "\n",
       "/* On hover */\n",
       "#***REMOVED***container-id-4 a.estimator_doc_link:hover {\n",
       "  /* unfitted */\n",
       "  background-color: var(--sklearn-color-unfitted-level-3);\n",
       "  color: var(--sklearn-color-background);\n",
       "  text-decoration: none;\n",
       "}\n",
       "\n",
       "#***REMOVED***container-id-4 a.estimator_doc_link.fitted:hover {\n",
       "  /* fitted */\n",
       "  background-color: var(--sklearn-color-fitted-level-3);\n",
       "}\n",
       "</style><div id=\"***REMOVED***container-id-4\" class=\"***REMOVED***top-container\"><div class=\"***REMOVED***text-repr-fallback\"><pre>KMeans(n_clusters=2, random_state=42)</pre><b>In a Jupyter environment, please rerun this cell to show the HTML representation or trust the notebook. <br />On GitHub, the HTML representation is unable to render, please try loading this page with nbviewer.org.</b></div><div class=\"***REMOVED***container\" hidden><div class=\"***REMOVED***item\"><div class=\"***REMOVED***estimator fitted ***REMOVED***toggleable\"><input class=\"***REMOVED***toggleable__control ***REMOVED***hidden--visually\" id=\"***REMOVED***estimator-id-4\" type=\"checkbox\" checked><label for=\"***REMOVED***estimator-id-4\" class=\"***REMOVED***toggleable__label fitted ***REMOVED***toggleable__label-arrow\"><div><div>KMeans</div></div><div><a class=\"***REMOVED***estimator-doc-link fitted\" rel=\"noreferrer\" target=\"_blank\" href=\"https://scikit-learn.org/1.6/modules/generated/sklearn.cluster.KMeans.html\">?<span>Documentation for KMeans</span></a><span class=\"***REMOVED***estimator-doc-link fitted\">i<span>Fitted</span></span></div></label><div class=\"***REMOVED***toggleable__content fitted\"><pre>KMeans(n_clusters=2, random_state=42)</pre></div> </div></div></div></div>"
      ],
      "text/plain": [
       "KMeans(n_clusters=2, random_state=42)"
      ]
     },
     "execution_count": 145,
     "metadata": {},
     "output_type": "execute_result"
    }
   ],
   "source": [
    "num_clusters = 2\n",
    "kmeans = KMeans(n_clusters=num_clusters, random_state=42)\n",
    "kmeans.fit(embeddings)"
   ]
  },
  {
   "cell_type": "code",
   "execution_count": 146,
   "id": "a08c571b-382a-49cf-baea-27187f7c7ee3",
   "metadata": {},
   "outputs": [
    {
     "name": "stdout",
     "output_type": "stream",
     "text": [
      "Cluster labels: [0 0 1 0 1 1 0 0 0 1]\n",
      "Cluster centers: [[-4.12927307e-02  6.62571490e-02  4.13937457e-02  1.20262736e-02\n",
      "  -2.53921319e-02 -1.21527594e-02  1.95134040e-02 -3.15698460e-02\n",
      "  -3.10381409e-02 -6.39109313e-03  6.66016564e-02  5.89599833e-03\n",
      "   5.79207204e-03 -4.82434593e-03 -1.15640247e-02 -4.47319299e-02\n",
      "   8.02805573e-02 -5.50512895e-02 -1.22089405e-02 -2.93369927e-02\n",
      "  -3.73206399e-02  3.57590578e-02  2.01935451e-02  2.33321823e-02\n",
      "  -3.11348084e-02  1.19550861e-02 -5.42573854e-02  1.02825928e-02\n",
      "   6.76778099e-03 -4.26337942e-02 -2.02461481e-02  1.99992377e-02\n",
      "   2.07362734e-02  3.31871957e-02 -6.77680690e-03  7.43167102e-02\n",
      "   6.21820837e-02 -4.68872599e-02  1.67781189e-02 -1.82847865e-03\n",
      "  -2.16489949e-04 -2.83996388e-02  1.73004232e-02  1.09468000e-02\n",
      "  -1.05345007e-02 -3.34262773e-02  7.48704001e-03 -2.04732288e-02\n",
      "   3.64259295e-02 -3.26114660e-03  2.43571997e-02 -2.16793530e-02\n",
      "  -1.83567982e-02 -4.43001613e-02  2.42742356e-02  5.53625561e-02\n",
      "  -1.82840228e-02 -3.34584862e-02 -6.37146737e-03 -7.79700466e-03\n",
      "  -1.32316696e-02 -3.57680991e-02 -2.50371993e-02  4.55292538e-02\n",
      "   4.62861545e-03 -4.85930182e-02 -6.62053972e-02 -5.41575477e-02\n",
      "  -1.16686355e-02 -4.54681739e-02  3.65821272e-03 -6.96146954e-03\n",
      "   8.35975409e-02  2.92215869e-03 -1.65336188e-02  7.53359497e-03\n",
      "   4.13742587e-02 -3.40586305e-02 -7.61978514e-03 -4.18530852e-02\n",
      "  -3.65601853e-02 -5.88192008e-02  9.23132990e-03  4.67241555e-02\n",
      "  -1.32662822e-02 -4.29792181e-02  3.17565240e-02 -3.72169614e-02\n",
      "  -5.38962614e-03 -8.93906131e-03  7.02678636e-02  2.35328898e-02\n",
      "  -8.76358710e-03 -8.52876715e-03 -1.65573508e-02 -3.73873189e-02\n",
      "  -1.73041280e-02 -1.47669539e-02 -3.05005684e-02  8.03864151e-02\n",
      "   1.31018944e-02  5.92507869e-02 -1.50850285e-02 -8.00788961e-03\n",
      "  -2.87261754e-02 -4.27129418e-02 -2.48448402e-02 -2.00516712e-02\n",
      "  -2.37844642e-02  7.40934629e-03 -5.17442748e-02  3.01115513e-02\n",
      "  -3.28507759e-02 -4.70166048e-03 -1.44089134e-02  2.54388954e-02\n",
      "  -9.32904426e-03 -9.54378769e-03  2.47166306e-03 -3.78894843e-02\n",
      "   4.73954678e-02  3.53682078e-02 -1.99206583e-02 -5.33661991e-03\n",
      "  -5.75645491e-02  1.57798082e-02  9.63851213e-02 -5.04083055e-33\n",
      "  -4.56571057e-02  3.60539323e-03  8.85169674e-03 -7.87136890e-03\n",
      "   8.46129805e-02 -2.48661172e-03 -3.30226049e-02 -2.58143898e-03\n",
      "  -3.55135929e-03 -1.82001572e-03 -1.85478032e-02  8.30027275e-03\n",
      "   9.23679024e-03 -2.98186354e-02 -3.92327197e-02 -3.53642516e-02\n",
      "  -6.46243691e-02  7.28363693e-02  1.44922175e-03  3.42462063e-02\n",
      "  -3.29504535e-02 -1.46015994e-02  4.17674566e-03  1.93255041e-02\n",
      "   2.28406321e-02  4.52199765e-03 -1.56489760e-03  5.51972212e-03\n",
      "   5.44649102e-02  2.75387838e-02 -2.76542176e-03 -1.88756734e-03\n",
      "   2.35294551e-02 -1.41815273e-02  1.29459682e-03  1.10866576e-02\n",
      "  -4.38118614e-02 -1.04033843e-01 -2.89753266e-02  1.17314979e-02\n",
      "   2.00302638e-02  1.14906654e-02  3.07321064e-02  3.65967378e-02\n",
      "  -1.02591254e-02  2.28368789e-02  2.04687119e-02  1.30573725e-02\n",
      "   3.16424072e-02 -6.55250158e-03 -4.02683541e-02  1.22831948e-02\n",
      "   3.69884372e-02  1.24830753e-02 -4.65388224e-03 -4.82200272e-03\n",
      "   3.61989439e-02  5.77282570e-02  1.22186728e-04 -1.84326991e-02\n",
      "   3.04658711e-02  4.11230810e-02 -9.87362117e-04 -3.15889418e-02\n",
      "   2.17383690e-02 -5.15736975e-02 -4.56288457e-03  2.18067020e-02\n",
      "   4.34780493e-02 -1.72247887e-02 -1.41166458e-02  4.24654558e-02\n",
      "   6.46657571e-02 -1.16901034e-02 -2.46306341e-02  8.26626550e-03\n",
      "  -1.92672163e-02 -2.87884418e-02  3.08182947e-02 -3.71771865e-02\n",
      "   3.76675315e-02 -6.19876385e-03  8.84647761e-03  1.60149690e-02\n",
      "   3.07653658e-02  2.69906763e-02  3.12115401e-02 -3.47956717e-02\n",
      "   6.97420910e-06  3.41606401e-02 -2.79902015e-02  1.33118108e-02\n",
      "   3.50663960e-02 -1.95049569e-02 -2.16046907e-02  3.16782393e-33\n",
      "   1.76268928e-02  1.93663426e-02 -5.23680486e-02  3.40308845e-02\n",
      "   3.46272625e-02  2.22775992e-03 -5.01271598e-02  1.40992105e-02\n",
      "   6.07757736e-03  4.51830141e-02 -2.02082843e-02  9.42736119e-03\n",
      "   9.37684346e-03 -1.82031710e-02 -1.95267051e-02  2.80082859e-02\n",
      "   3.76933441e-02 -1.07639190e-02  3.27201411e-02 -1.69022009e-03\n",
      "   2.22195089e-02  8.35536346e-02 -3.67606245e-02  3.87105197e-02\n",
      "  -2.56912820e-02  6.97055832e-02  3.47583368e-03 -1.75694153e-02\n",
      "  -6.94227517e-02 -3.18913348e-02  3.53958942e-02  4.80554625e-03\n",
      "  -3.92779633e-02  3.03535853e-02 -7.81389698e-03  3.76007110e-02\n",
      "   1.11472122e-02  3.10874376e-02 -1.94965117e-02  1.03216646e-02\n",
      "   3.97434011e-02 -1.80685800e-02 -1.40099395e-02  6.05729446e-02\n",
      "  -6.91858260e-03 -3.42895910e-02  1.68305598e-02 -6.76381737e-02\n",
      "  -1.05543099e-02  2.30120961e-02 -7.27106854e-02 -2.27215905e-02\n",
      "  -2.47055404e-02 -5.09121269e-03 -1.89034417e-02  2.29565706e-02\n",
      "   2.87018158e-02 -4.44530621e-02  2.02430338e-02 -5.66561297e-02\n",
      "  -4.91864979e-02  4.47790138e-03 -2.98996549e-03  1.22502912e-02\n",
      "   7.00151250e-02 -2.09757555e-02  3.36318947e-02 -2.36085355e-02\n",
      "  -1.23165073e-02 -1.11973763e-03 -1.88349821e-02 -1.08552445e-03\n",
      "   7.06510246e-03  2.54382808e-02 -6.23176713e-03 -2.14325339e-02\n",
      "  -8.69422778e-03 -2.26777233e-02 -2.06708033e-02  2.62583811e-02\n",
      "  -6.81361323e-03 -9.41675901e-03 -1.34155266e-02  2.63877623e-02\n",
      "   3.85081582e-03  1.45441657e-02  2.86571309e-02 -2.66929977e-02\n",
      "  -3.45342699e-03  4.62845638e-02  1.69761777e-02 -1.17401164e-02\n",
      "   1.01351645e-02  1.31680211e-02  3.72230187e-02 -1.91147826e-08\n",
      "   3.29869837e-02 -2.22406816e-03 -2.89208777e-02  1.71825569e-03\n",
      "   1.96160767e-02 -7.24059418e-02 -9.39780101e-03  1.61725581e-02\n",
      "  -1.56356618e-02  8.08188319e-02 -6.31346032e-02  2.69802734e-02\n",
      "  -4.09651771e-02  3.88080850e-02  4.90152985e-02 -3.09807342e-03\n",
      "   2.04094313e-03  3.20630111e-02 -6.21452108e-02 -2.78187729e-03\n",
      "  -5.24287950e-03  6.54637814e-02  1.46018080e-02 -3.84386517e-02\n",
      "  -1.18140755e-02  3.20859626e-02 -4.68916111e-02 -1.49290701e-02\n",
      "   1.30702294e-02  1.07679814e-02  1.02026882e-02  1.87785365e-03\n",
      "  -6.72177877e-03 -1.67831555e-02 -5.81187755e-03  4.73498926e-03\n",
      "  -6.75049722e-02 -2.25783922e-02  3.72452997e-02 -3.58281508e-02\n",
      "  -2.57427469e-02 -1.30837029e-02 -1.57714728e-02  2.06500795e-02\n",
      "   5.43075278e-02  3.10968459e-02 -5.54042161e-02  4.51962277e-02\n",
      "  -3.12434118e-02  1.83192939e-02  1.00548808e-02  1.70378089e-02\n",
      "  -8.92981328e-03  4.17835414e-02  2.18881387e-02 -3.16208601e-02\n",
      "  -6.25177147e-03 -4.89908867e-02  5.36397845e-02  3.28579433e-02\n",
      "  -1.40186138e-02  9.58481245e-03 -6.52520545e-03 -3.72773036e-04]\n",
      " [-3.70293595e-02  1.79392807e-02  1.15402788e-02 -2.11247578e-02\n",
      "  -4.44112234e-02 -2.70947032e-02 -3.26720886e-02 -3.92796285e-03\n",
      "  -1.16504496e-02 -5.50492629e-02  8.68126675e-02  6.50235787e-02\n",
      "   1.98280793e-02  3.82635146e-02 -3.09878159e-02  1.89821571e-02\n",
      "   1.89510472e-02 -4.76429947e-02 -1.55135915e-02 -1.45858489e-02\n",
      "  -1.72914751e-03 -6.11303151e-02  6.32168725e-04  7.61652924e-03\n",
      "  -4.74844798e-02 -8.66722502e-03 -4.83980663e-02  2.31548715e-02\n",
      "  -1.63417570e-02 -7.13797808e-02 -4.02604043e-03  1.75212044e-02\n",
      "  -1.71881467e-02 -3.21784392e-02  2.04140991e-02 -2.83225328e-02\n",
      "   5.81322983e-03 -5.09895831e-02 -6.22512810e-02 -1.78569406e-02\n",
      "   1.60700246e-03 -1.39803598e-02  2.18914915e-03 -4.63679945e-03\n",
      "   4.10800874e-02  1.74242873e-02  4.41456810e-02  2.16588490e-02\n",
      "   9.33653563e-02  1.23656821e-02 -1.93497576e-02 -5.61734140e-02\n",
      "  -4.82551008e-03  2.95452215e-03 -4.24560793e-02  3.90303135e-02\n",
      "  -4.73584980e-02  3.11873499e-02  1.54109243e-02  1.31358718e-03\n",
      "   4.05563936e-02 -4.21016589e-02 -5.49176559e-02  6.66769668e-02\n",
      "   4.50522788e-02 -1.23660062e-02 -2.94668376e-02 -6.16972819e-02\n",
      "  -4.26531620e-02  4.15547378e-03 -5.91938607e-02  4.54697944e-03\n",
      "   4.85457629e-02  5.11304289e-02  7.83042237e-03  4.66221794e-02\n",
      "   2.30823606e-02 -4.52207066e-02 -2.78364103e-02  4.00082655e-02\n",
      "  -1.44905746e-02 -5.08310646e-03  7.84104690e-03  4.44543622e-02\n",
      "   3.82637568e-02 -4.59563509e-02  4.30003256e-02  7.85915181e-04\n",
      "  -1.04137547e-02 -3.35413590e-02  1.31059252e-02  7.55010098e-02\n",
      "   1.40642198e-02 -6.08516857e-03 -4.60322797e-02  7.92952068e-03\n",
      "   2.48786267e-02 -7.76413456e-02 -3.54206711e-02  5.39871752e-02\n",
      "  -2.09804419e-02  1.30175464e-02 -6.50055241e-03 -4.76996377e-02\n",
      "  -2.68693194e-02 -5.38428910e-02 -1.09315114e-02  6.17874116e-02\n",
      "   2.43204087e-03  5.47111221e-03 -3.72754633e-02 -1.97553169e-02\n",
      "  -4.35002148e-02 -1.02501707e-02 -1.10519771e-03  4.09291312e-02\n",
      "   9.22659412e-04  3.97941507e-02  1.81049518e-02 -3.58888283e-02\n",
      "  -5.59978001e-03  3.37345190e-02  1.35703776e-02 -3.09090428e-02\n",
      "  -5.69365136e-02 -3.43270302e-02  7.64219686e-02 -2.17169055e-33\n",
      "  -4.53530140e-02  1.15566868e-02 -5.24381455e-03 -3.25052254e-03\n",
      "   1.32864229e-02  3.67224030e-02 -2.33632401e-02  7.79255526e-03\n",
      "  -2.28342433e-02  3.61226276e-02  2.94074118e-02  5.22831269e-03\n",
      "  -1.01413010e-02 -3.35015357e-05 -3.52809764e-03 -1.12090977e-02\n",
      "  -7.50438049e-02  9.20039341e-02 -1.99400224e-02  1.29183680e-02\n",
      "  -5.16439676e-02 -6.13062037e-03 -1.93114784e-02  4.54069674e-03\n",
      "   2.43226569e-02 -3.74654448e-03  3.09554003e-02  2.22725198e-02\n",
      "   1.09688856e-01  9.30884108e-03  6.63723983e-03 -3.82228717e-02\n",
      "   4.43055555e-02 -4.05747816e-02  2.90006259e-03  5.03821634e-02\n",
      "  -2.52886880e-02 -3.26212682e-02 -2.34097503e-02 -6.12314511e-03\n",
      "  -2.69663390e-02  1.41234957e-02 -8.34142324e-03 -5.55442646e-03\n",
      "  -1.62347648e-02  4.84120660e-03  2.52090208e-03  2.96602733e-02\n",
      "  -1.79741122e-02  7.40076555e-03 -7.40468800e-02  2.36406736e-02\n",
      "  -2.48355176e-02  7.76093081e-02 -2.79435068e-02  8.52926169e-03\n",
      "   4.82003391e-03 -3.02882865e-03  2.50244103e-02  4.13955748e-03\n",
      "   4.94761504e-02  5.58252260e-02 -1.68923009e-02 -6.83438331e-02\n",
      "  -4.60463837e-02 -4.76734526e-03  5.04757985e-02 -1.99807659e-02\n",
      "  -3.28735113e-02  1.32985264e-02  1.12315062e-02  4.27950993e-02\n",
      "   8.23241994e-02 -3.03834714e-02 -8.11928958e-02  4.67088539e-04\n",
      "  -6.26322106e-02  1.02007389e-03  1.08320545e-02 -2.07677819e-02\n",
      "   1.94768831e-02 -3.50703159e-03  4.78957035e-02  1.82732232e-02\n",
      "   1.78054720e-02  2.57957093e-02 -2.09769960e-02 -4.93656844e-02\n",
      "  -6.96803210e-03  2.11292692e-02 -6.42165542e-05 -6.15051528e-03\n",
      "   6.95805997e-02 -7.35118287e-03 -1.23264920e-03  1.06447571e-33\n",
      "  -1.59266870e-02 -6.27369247e-03  2.82672383e-02  1.45822950e-03\n",
      "   3.08334380e-02 -1.93803944e-02 -5.72247803e-03  1.01215854e-01\n",
      "   2.84765400e-02  6.03214093e-02  1.40341036e-02  7.82112870e-03\n",
      "   7.48449843e-03  2.57749315e-02 -1.86636783e-02  1.29807498e-02\n",
      "   5.44164628e-02  1.20989233e-03  1.40150366e-02 -6.60874918e-02\n",
      "   1.22586200e-02  1.03201397e-01 -1.88637488e-02  4.41447385e-02\n",
      "  -7.10456818e-02  3.89812998e-02  2.89459005e-02  2.76151337e-02\n",
      "   8.79241526e-03 -1.14065632e-02  5.08680344e-02 -9.45537118e-04\n",
      "  -7.47947469e-02  6.27579466e-02  1.48082487e-02  2.02108622e-02\n",
      "   2.10371986e-02  3.76666933e-02 -7.70870596e-04 -4.89370637e-02\n",
      "   2.78062932e-02  1.89888217e-02  3.00537795e-04 -2.36912072e-03\n",
      "   1.70224477e-02 -5.50572574e-02  9.42959189e-02 -4.51205224e-02\n",
      "  -1.70981288e-02  3.72302756e-02 -5.86508475e-02 -2.40470413e-02\n",
      "   5.41326962e-02 -3.00693065e-02 -1.59190632e-02 -2.48994920e-02\n",
      "   7.79691190e-02 -1.72304176e-02 -1.08466465e-02 -1.44945122e-02\n",
      "   2.40116306e-02  4.17857841e-02 -3.35338376e-02 -2.93596890e-02\n",
      "   1.08513407e-01  1.76599845e-02  4.05243039e-02  9.75236855e-03\n",
      "   2.54637655e-03 -3.46766179e-03  1.74887106e-02  2.36156955e-02\n",
      "   5.05143516e-02  4.20576800e-03  2.55205780e-02 -2.31527463e-02\n",
      "  -3.47496942e-02 -3.67911533e-02 -3.02313734e-02 -1.49246771e-02\n",
      "  -1.70592256e-02 -1.72409061e-02  4.94541340e-02 -2.16728989e-02\n",
      "   6.69351667e-02 -6.86817989e-03  6.32632673e-02 -5.26261609e-03\n",
      "  -3.98978293e-02  2.32510194e-02 -1.35170557e-02  8.32458306e-03\n",
      "  -5.24519756e-02  1.34093091e-02  4.08456624e-02 -2.20837322e-08\n",
      "  -4.59076166e-02  2.10509412e-02  4.88061924e-03  3.59694585e-02\n",
      "   1.31832603e-02 -7.22016767e-02  1.21248914e-02  1.12548042e-02\n",
      "  -2.16583032e-02  2.13792548e-02 -4.88092303e-02  7.23166764e-03\n",
      "  -4.43482585e-02  7.04562366e-02  3.07540521e-02 -1.45937167e-02\n",
      "   1.91882383e-02  1.16797864e-01 -5.59205338e-02 -3.13195363e-02\n",
      "  -4.17221524e-03  2.99282949e-02  4.25655320e-02 -4.42057773e-02\n",
      "  -2.41452903e-02  1.11896284e-02 -8.61813501e-03  4.37365286e-02\n",
      "   3.88342217e-02 -6.56455532e-02 -2.95274667e-02 -2.75686271e-02\n",
      "   1.53052853e-02 -6.95261359e-03 -5.61336130e-02 -6.41068369e-02\n",
      "   2.54501402e-03  4.32294235e-03  1.52976410e-02 -2.44634505e-02\n",
      "  -5.06402589e-02 -3.66233177e-02 -6.71843812e-03 -3.85708828e-03\n",
      "   3.11470591e-02 -1.17312558e-03  3.64042222e-02  7.18272664e-03\n",
      "  -2.04068813e-02  2.98908241e-02 -2.99427193e-02  1.90410111e-03\n",
      "   1.99405868e-02  7.29677640e-03  3.07768434e-02 -3.59804258e-02\n",
      "  -7.15282653e-03 -3.89133617e-02  1.30941272e-02  3.39402296e-02\n",
      "   1.58982109e-02 -2.59563029e-02  1.67851672e-02  7.74755925e-02]]\n"
     ]
    }
   ],
   "source": [
    "labels = kmeans.labels_\n",
    "print(\"Cluster labels:\", labels)\n",
    "print(\"Cluster centers:\", kmeans.cluster_centers_)"
   ]
  },
  {
   "cell_type": "code",
   "execution_count": 148,
   "id": "66d9a9f3-ac74-4978-a4c0-4ce9960bae23",
   "metadata": {},
   "outputs": [],
   "source": [
    "#data classification"
   ]
  },
  {
   "cell_type": "code",
   "execution_count": 149,
   "id": "43b803a1-7087-44e7-80f4-7d68a35b2359",
   "metadata": {},
   "outputs": [],
   "source": [
    "from collections import defaultdict"
   ]
  },
  {
   "cell_type": "code",
   "execution_count": 150,
   "id": "65ee3a80-ea7f-4fab-8b95-af25e2890ffb",
   "metadata": {},
   "outputs": [
    {
     "name": "stdout",
     "output_type": "stream",
     "text": [
      "Cluster 0:\n",
      " - The food was great and the service was excellent.\n",
      " - I loved the ambiance and the friendly staff.\n",
      " - Shipping was delayed and the package was damaged.\n",
      " - Delicious meals and fast delivery.\n",
      " - The item did not match the description.\n",
      " - Staff was helpful and very polite.\n",
      "Cluster 1:\n",
      " - The product quality was poor and broke quickly.\n",
      " - Amazing experience! Highly recommend to everyone.\n",
      " - Terrible customer service. Will not buy again.\n",
      " - Received the wrong product and no response from support.\n"
     ]
    }
   ],
   "source": [
    "cluster_dict = defaultdict(list)\n",
    "\n",
    "#returns pairs of index and value when iterating over a sequence => allowing to access both position n element\n",
    "for idx, label in enumerate(labels):\n",
    "    cluster_dict[label].append(texts[idx])  # Append the original text to the list corresponding to its cluster label\n",
    "\n",
    "#iterates over the dictionary cluster_dict\n",
    "for cluster_id, texts_in_cluster in cluster_dict.items():\n",
    "    print(f\"Cluster {cluster_id}:\")\n",
    "    for t in texts_in_cluster:\n",
    "        print(\" -\", t)"
   ]
  },
  {
   "cell_type": "code",
   "execution_count": 151,
   "id": "0de04deb-c8bf-47af-8127-cc6340987ade",
   "metadata": {},
   "outputs": [],
   "source": [
    "#text embedding extraction"
   ]
  },
  {
   "cell_type": "code",
   "execution_count": 152,
   "id": "7709509e-4dea-4fa2-b297-c63813c392cb",
   "metadata": {},
   "outputs": [],
   "source": [
    "texts = [\n",
    "    \"The food was great and the service was excellent.\"\n",
    "]"
   ]
  },
  {
   "cell_type": "code",
   "execution_count": 153,
   "id": "7c50c4db-b894-4845-ac47-eea5c99db0fb",
   "metadata": {},
   "outputs": [],
   "source": [
    "# pretrained sentence embedding model 불러오기\n",
    "model = SentenceTransformer('all-MiniLM-L6-v2')"
   ]
  },
  {
   "cell_type": "code",
   "execution_count": 154,
   "id": "79c64dce-3ff1-4071-ba1f-a78017f91042",
   "metadata": {},
   "outputs": [],
   "source": [
    "#vectorize"
   ]
  },
  {
   "cell_type": "code",
   "execution_count": 155,
   "id": "a0d009c4-7c88-4e3b-99c9-371f2d87c32b",
   "metadata": {},
   "outputs": [],
   "source": [
    "embeddings = model.encode(texts)"
   ]
  },
  {
   "cell_type": "code",
   "execution_count": 156,
   "id": "fd7df63a-e321-49f6-9289-92207dabb752",
   "metadata": {},
   "outputs": [
    {
     "name": "stdout",
     "output_type": "stream",
     "text": [
      "(1, 384)\n"
     ]
    }
   ],
   "source": [
    "print(embeddings.shape)"
   ]
  },
  {
   "cell_type": "code",
   "execution_count": 157,
   "id": "ab1c665c-5604-4380-9493-b52ba0cdffce",
   "metadata": {},
   "outputs": [],
   "source": [
    "#Hierarchical Clustering "
   ]
  },
  {
   "cell_type": "code",
   "execution_count": 158,
   "id": "245c0458-52f4-4b32-a87b-ff4c28ee38ce",
   "metadata": {},
   "outputs": [],
   "source": [
    "from collections import defaultdict\n",
    "\n",
    "texts = [\n",
    "    \"The hotel room was clean and very comfortable.\",\n",
    "    \"I enjoyed the beautiful view from the balcony.\",\n",
    "    \"Amazing tour guide and well-organized itinerary.\",\n",
    "    \"Lovely beaches and perfect weather during our stay.\",\n",
    "    \"We had an unforgettable experience exploring the city.\",\n",
    "    \"The staff at the reception were friendly and helpful.\",\n",
    "    \"The flight was delayed and the service was poor.\",\n",
    "    \"The food at the resort was bland and overpriced.\",\n",
    "    \"The shuttle service was late and unhelpful.\",\n",
    "    \"The hotel amenities did not meet my expectations.\"\n",
    "]\n"
   ]
  },
  {
   "cell_type": "code",
   "execution_count": 159,
   "id": "2a78af6c-0234-4000-b653-47bae7ef5e28",
   "metadata": {},
   "outputs": [],
   "source": [
    "#Embedding creation"
   ]
  },
  {
   "cell_type": "code",
   "execution_count": 160,
   "id": "c21fb645-8a9d-4468-b4bb-88c468888fcf",
   "metadata": {},
   "outputs": [],
   "source": [
    "model = SentenceTransformer('all-MiniLM-L6-v2')\n",
    "embeddings = model.encode(texts)"
   ]
  },
  {
   "cell_type": "code",
   "execution_count": 161,
   "id": "afc0c782-bd3f-4812-bec5-779b44cc96d3",
   "metadata": {},
   "outputs": [],
   "source": [
    "num_clusters = 2\n",
    "agglo = AgglomerativeClustering(n_clusters=num_clusters)\n",
    "labels = agglo.fit_predict(embeddings)"
   ]
  },
  {
   "cell_type": "code",
   "execution_count": 162,
   "id": "e3d31d89-de7a-45f9-86da-962fee9a7f34",
   "metadata": {},
   "outputs": [],
   "source": [
    "cluster_dict = defaultdict(list)\n",
    "for idx, label in enumerate(labels):\n",
    "    cluster_dict[label].append(texts[idx])\n"
   ]
  },
  {
   "cell_type": "code",
   "execution_count": 163,
   "id": "cc05b077-041b-4041-93bf-e0ce8eaa9a6d",
   "metadata": {},
   "outputs": [
    {
     "name": "stdout",
     "output_type": "stream",
     "text": [
      "Cluster 0:\n",
      " - The hotel room was clean and very comfortable.\n",
      " - The flight was delayed and the service was poor.\n",
      " - The food at the resort was bland and overpriced.\n",
      " - The shuttle service was late and unhelpful.\n",
      " - The hotel amenities did not meet my expectations.\n",
      "Cluster 1:\n",
      " - I enjoyed the beautiful view from the balcony.\n",
      " - Amazing tour guide and well-organized itinerary.\n",
      " - Lovely beaches and perfect weather during our stay.\n",
      " - We had an unforgettable experience exploring the city.\n",
      " - The staff at the reception were friendly and helpful.\n"
     ]
    }
   ],
   "source": [
    "for cluster_id, texts_in_cluster in cluster_dict.items():\n",
    "    print(f\"Cluster {cluster_id}:\")\n",
    "    for t in texts_in_cluster:\n",
    "        print(\" -\", t)\n"
   ]
  },
  {
   "cell_type": "code",
   "execution_count": 164,
   "id": "26794b0a-1bac-43a4-bac2-47802d92cd17",
   "metadata": {},
   "outputs": [
    {
     "data": {
      "text/plain": [
       "'\\nIncrease the Number of Clusters\\nApply Sentiment Analysis in Advance\\nChange or Combine Embedding Models\\nEnhance Text Preprocessing\\nCombine Topic and Sentiment for Clustering\\n'"
      ]
     },
     "execution_count": 164,
     "metadata": {},
     "output_type": "execute_result"
    }
   ],
   "source": [
    "# Did not like the output, will improve by following \n",
    "\"\"\"\n",
    "Increase the Number of Clusters\n",
    "Apply Sentiment Analysis in Advance\n",
    "Change or Combine Embedding Models\n",
    "Enhance Text Preprocessing\n",
    "Combine Topic and Sentiment for Clustering\n",
    "\"\"\""
   ]
  },
  {
   "cell_type": "code",
   "execution_count": 165,
   "id": "7f45d2df-46f6-45dc-88d6-3123d02beee6",
   "metadata": {},
   "outputs": [],
   "source": [
    "#Increase the Number of Clusters"
   ]
  },
  {
   "cell_type": "code",
   "execution_count": 166,
   "id": "b9f6350e-e27f-4bac-90ec-e45b86aa3845",
   "metadata": {},
   "outputs": [],
   "source": [
    "# Increase number of clusters from 2 to 4\n",
    "num_clusters = 4\n",
    "kmeans = KMeans(n_clusters=num_clusters, random_state=42)\n",
    "kmeans.fit(embeddings)\n",
    "labels = kmeans.labels_\n"
   ]
  },
  {
   "cell_type": "code",
   "execution_count": 167,
   "id": "ffda385c-b7c7-42b8-b0c8-bc08ea1c9f64",
   "metadata": {},
   "outputs": [],
   "source": [
    "# Group texts by cluster\n",
    "cluster_dict = defaultdict(list)\n",
    "for idx, label in enumerate(labels):\n",
    "    cluster_dict[label].append(texts[idx])"
   ]
  },
  {
   "cell_type": "code",
   "execution_count": 168,
   "id": "537722aa-b957-49d3-b278-ed3fc31130e6",
   "metadata": {},
   "outputs": [
    {
     "name": "stdout",
     "output_type": "stream",
     "text": [
      "Cluster 2:\n",
      " - The hotel room was clean and very comfortable.\n",
      " - The hotel amenities did not meet my expectations.\n",
      "\n",
      "Cluster 0:\n",
      " - I enjoyed the beautiful view from the balcony.\n",
      " - Amazing tour guide and well-organized itinerary.\n",
      " - Lovely beaches and perfect weather during our stay.\n",
      " - We had an unforgettable experience exploring the city.\n",
      "\n",
      "Cluster 3:\n",
      " - The staff at the reception were friendly and helpful.\n",
      "\n",
      "Cluster 1:\n",
      " - The flight was delayed and the service was poor.\n",
      " - The food at the resort was bland and overpriced.\n",
      " - The shuttle service was late and unhelpful.\n",
      "\n"
     ]
    }
   ],
   "source": [
    "# Print clusters\n",
    "for cluster_id, texts_in_cluster in cluster_dict.items():\n",
    "    print(f\"Cluster {cluster_id}:\")\n",
    "    for t in texts_in_cluster:\n",
    "        print(\" -\", t)\n",
    "    print()"
   ]
  },
  {
   "cell_type": "code",
   "execution_count": 169,
   "id": "1a1797d2-4619-4804-81ad-66628c1bb007",
   "metadata": {},
   "outputs": [
    {
     "name": "stderr",
     "output_type": "stream",
     "text": [
      "huggingface/tokenizers: The current process just got forked, after parallelism has already been used. Disabling parallelism to avoid deadlocks...\n",
      "To disable this warning, you can either:\n",
      "\t- Avoid using `tokenizers` before the fork if possible\n",
      "\t- Explicitly set the environment variable TOKENIZERS_PARALLELISM=(true | false)\n"
     ]
    }
   ],
   "source": [
    "!pip install sentence-transformers transformers emoji --quiet"
   ]
  },
  {
   "cell_type": "code",
   "execution_count": 170,
   "id": "a7cc84c9-8b09-4f47-a259-c8b4c3051017",
   "metadata": {},
   "outputs": [],
   "source": [
    "#2. Apply Sentiment Analysis in Advance -use instragram"
   ]
  },
  {
   "cell_type": "code",
   "execution_count": 171,
   "id": "c9495add-22ba-4c1c-ac81-c82124fcf4fb",
   "metadata": {},
   "outputs": [],
   "source": [
    "import emoji\n",
    "from transformers import AutoTokenizer, AutoModelForSequenceClassification\n",
    "import torch\n",
    "import numpy as np\n",
    "from sentence_transformers import SentenceTransformer\n",
    "from sklearn.cluster import KMeans\n",
    "from collections import defaultdict"
   ]
  },
  {
   "cell_type": "code",
   "execution_count": 172,
   "id": "8fa1e1a3-62c3-448b-a6f5-9f1f3a0760ce",
   "metadata": {},
   "outputs": [],
   "source": [
    "#sample instragrm text"
   ]
  },
  {
   "cell_type": "code",
   "execution_count": 190,
   "id": "f996b71d-0f2c-4189-9c06-0553b74604bb",
   "metadata": {},
   "outputs": [],
   "source": [
    "texts = [\n",
    "    \"Love this! 😍 Such a beautiful view!\",\n",
    "    \"Worst experience ever... Will never come back! 😡\",\n",
    "    \"So-so service, nothing special.\",\n",
    "    \"Amazing food and great vibes! 🍕✨\",\n",
    "    \"Totally disappointed with the delay 😞\",\n",
    "    \"Staff were super friendly and helpful.\",\n",
    "    \"Not worth the price, very bad quality.\",\n",
    "    \"Had a fantastic time, thanks for everything! 😊\",\n",
    "    \"Terrible customer support, no response.\",\n",
    "    \"Beautiful location but service was average.\"\n",
    "]"
   ]
  },
  {
   "cell_type": "code",
   "execution_count": 191,
   "id": "609f02b5-258f-4a0f-a291-009faf10eb7d",
   "metadata": {},
   "outputs": [],
   "source": [
    "#pre processing func => turn emoji to text"
   ]
  },
  {
   "cell_type": "code",
   "execution_count": 192,
   "id": "279a5753-0168-4f68-9602-32997885a6e4",
   "metadata": {},
   "outputs": [],
   "source": [
    "def preprocess_text(text):\n",
    "    return emoji.demojize(text)\n",
    "\n",
    "processed_texts = [preprocess_text(t) for t in texts]"
   ]
  },
  {
   "cell_type": "code",
   "execution_count": 193,
   "id": "f2265176-2e6f-4a0f-89dd-75d033ae8644",
   "metadata": {},
   "outputs": [
    {
     "name": "stdout",
     "output_type": "stream",
     "text": [
      "['Love this! :smiling_face_with_heart-eyes: Such a beautiful view!', 'Worst experience ever... Will never come back! :enraged_face:', 'So-so service, nothing special.', 'Amazing food and great vibes! :pizza::sparkles:', 'Totally disappointed with the delay :disappointed_face:', 'Staff were super friendly and helpful.', 'Not worth the price, very bad quality.', 'Had a fantastic time, thanks for everything! :smiling_face_with_smiling_eyes:', 'Terrible customer support, no response.', 'Beautiful location but service was average.']\n"
     ]
    }
   ],
   "source": [
    "print(processed_texts)"
   ]
  },
  {
   "cell_type": "code",
   "execution_count": 194,
   "id": "155c1d4c-c7ea-4985-addb-87dd05d97653",
   "metadata": {},
   "outputs": [],
   "source": [
    "#sentimental preparation"
   ]
  },
  {
   "cell_type": "code",
   "execution_count": 199,
   "id": "70b5a245-cbfd-49df-9a5c-5e9cfe88586f",
   "metadata": {},
   "outputs": [
    {
     "name": "stderr",
     "output_type": "stream",
     "text": [
      "Some weights of the model checkpoint at cardiffnlp/twitter-roberta-base-sentiment-latest were not used when initializing RobertaForSequenceClassification: ['roberta.pooler.dense.bias', 'roberta.pooler.dense.weight']\n",
      "- This IS expected if you are initializing RobertaForSequenceClassification from the checkpoint of a model trained on another task or with another architecture (e.g. initializing a BertForSequenceClassification model from a BertForPreTraining model).\n",
      "- This IS NOT expected if you are initializing RobertaForSequenceClassification from the checkpoint of a model that you expect to be exactly identical (initializing a BertForSequenceClassification model from a BertForSequenceClassification model).\n"
     ]
    }
   ],
   "source": [
    "# Load model and tokenizer\n",
    "tokenizer = AutoTokenizer.from_pretrained(\"cardiffnlp/twitter-roberta-base-sentiment-latest\")\n",
    "model = AutoModelForSequenceClassification.from_pretrained(\"cardiffnlp/twitter-roberta-base-sentiment-latest\")"
   ]
  },
  {
   "cell_type": "code",
   "execution_count": 200,
   "id": "4e132640-066a-4083-8e4c-74cbbccdbaee",
   "metadata": {},
   "outputs": [],
   "source": [
    "# Get sentiment score\n",
    "def get_sentiment_scores(text):\n",
    "    # Tokenize input\n",
    "    inputs = tokenizer(text, return_tensors=\"pt\", truncation=True)\n",
    "\n",
    "    # Get raw model outputs\n",
    "    outputs = model(**inputs)\n",
    "\n",
    "    # Get logits as numpy array\n",
    "    scores = outputs.logits.detach().numpy()[0]\n",
    "\n",
    "    # Apply softmax to convert to probabilities\n",
    "    scores = np.exp(scores) / np.sum(np.exp(scores))  # softmax\n",
    "\n",
    "    # Print for debugging\n",
    "    print(f\"Text: {text}\")\n",
    "    print(f\"Sentiment scores (neg, neu, pos): {scores}\")\n",
    "    print(f\"Sentiment score (pos - neg): {scores[2] - scores[0]}\")\n",
    "    print(\"=\" * 50)\n",
    "\n",
    "    # Return sentiment score (positive - negative)\n",
    "    return float(scores[2] - scores[0])\n"
   ]
  },
  {
   "cell_type": "code",
   "execution_count": 197,
   "id": "fae85a02-33b8-4cd2-b144-8ddeca8c8ae8",
   "metadata": {},
   "outputs": [
    {
     "name": "stderr",
     "output_type": "stream",
     "text": [
      "Asking to truncate to max_length but no maximum length is provided and the model has no predefined maximum length. Default to no truncation.\n"
     ]
    },
    {
     "name": "stdout",
     "output_type": "stream",
     "text": [
      "Text: I absolutely loved the hotel service and amenities.\n",
      "Sentiment scores (neg, neu, pos): [0.00479938 0.01072141 0.9844792 ]\n",
      "Sentiment score (pos - neg): 0.9796798229217529\n",
      "==================================================\n"
     ]
    },
    {
     "data": {
      "text/plain": [
       "0.9796798229217529"
      ]
     },
     "execution_count": 197,
     "metadata": {},
     "output_type": "execute_result"
    }
   ],
   "source": [
    "get_sentiment_scores(\"I absolutely loved the hotel service and amenities.\")"
   ]
  },
  {
   "cell_type": "code",
   "execution_count": 201,
   "id": "54b26a5d-7d98-45be-a799-c309c53f6282",
   "metadata": {},
   "outputs": [
    {
     "name": "stderr",
     "output_type": "stream",
     "text": [
      "Asking to truncate to max_length but no maximum length is provided and the model has no predefined maximum length. Default to no truncation.\n"
     ]
    },
    {
     "name": "stdout",
     "output_type": "stream",
     "text": [
      "Text: Love this! :smiling_face_with_heart-eyes: Such a beautiful view!\n",
      "Sentiment scores (neg, neu, pos): [0.00374076 0.00854175 0.9877175 ]\n",
      "Sentiment score (pos - neg): 0.9839767217636108\n",
      "==================================================\n",
      "Text: Worst experience ever... Will never come back! :enraged_face:\n",
      "Sentiment scores (neg, neu, pos): [0.95321196 0.03914679 0.00764121]\n",
      "Sentiment score (pos - neg): -0.9455707669258118\n",
      "==================================================\n",
      "Text: So-so service, nothing special.\n",
      "Sentiment scores (neg, neu, pos): [0.79025877 0.18673494 0.02300624]\n",
      "Sentiment score (pos - neg): -0.767252504825592\n",
      "==================================================\n",
      "Text: Amazing food and great vibes! :pizza::sparkles:\n",
      "Sentiment scores (neg, neu, pos): [0.00290609 0.00676264 0.9903313 ]\n",
      "Sentiment score (pos - neg): 0.9874252080917358\n",
      "==================================================\n",
      "Text: Totally disappointed with the delay :disappointed_face:\n",
      "Sentiment scores (neg, neu, pos): [0.94139695 0.05163357 0.00696946]\n",
      "Sentiment score (pos - neg): -0.9344274997711182\n",
      "==================================================\n",
      "Text: Staff were super friendly and helpful.\n",
      "Sentiment scores (neg, neu, pos): [0.00983074 0.02178782 0.9683814 ]\n",
      "Sentiment score (pos - neg): 0.9585506916046143\n",
      "==================================================\n",
      "Text: Not worth the price, very bad quality.\n",
      "Sentiment scores (neg, neu, pos): [0.9200542  0.06944075 0.010505  ]\n",
      "Sentiment score (pos - neg): -0.9095491766929626\n",
      "==================================================\n",
      "Text: Had a fantastic time, thanks for everything! :smiling_face_with_smiling_eyes:\n",
      "Sentiment scores (neg, neu, pos): [0.00278637 0.00753583 0.9896778 ]\n",
      "Sentiment score (pos - neg): 0.9868913888931274\n",
      "==================================================\n",
      "Text: Terrible customer support, no response.\n",
      "Sentiment scores (neg, neu, pos): [0.941263   0.05068095 0.00805598]\n",
      "Sentiment score (pos - neg): -0.9332070350646973\n",
      "==================================================\n",
      "Text: Beautiful location but service was average.\n",
      "Sentiment scores (neg, neu, pos): [0.6256007  0.18325044 0.19114888]\n",
      "Sentiment score (pos - neg): -0.4344518184661865\n",
      "==================================================\n"
     ]
    }
   ],
   "source": [
    "# Apply to all texts\n",
    "sentiment_scores = [get_sentiment_scores(text) for text in processed_texts]"
   ]
  },
  {
   "cell_type": "code",
   "execution_count": 188,
   "id": "33ab197c-4811-440b-930f-8481f5fff611",
   "metadata": {},
   "outputs": [],
   "source": [
    "#Visualization using scatterplot or histogram"
   ]
  },
  {
   "cell_type": "code",
   "execution_count": 202,
   "id": "0e3af625-0ad8-48a4-abbe-2d6a52356988",
   "metadata": {},
   "outputs": [
    {
     "data": {
      "image/png": "[encoded data removed]",
      "text/plain": [
       "<Figure size 800x500 with 1 Axes>"
      ]
     },
     "metadata": {},
     "output_type": "display_data"
    }
   ],
   "source": [
    "# Plot histogram\n",
    "plt.figure(figsize=(8, 5))\n",
    "plt.hist(sentiment_scores, bins=5, color='skyblue', edgecolor='black')\n",
    "plt.title(\"Sentiment Score Distribution (Positive - Negative)\")\n",
    "plt.xlabel(\"Sentiment Score\")\n",
    "plt.ylabel(\"Frequency\")\n",
    "plt.grid(True)\n",
    "plt.show()"
   ]
  },
  {
   "cell_type": "code",
   "execution_count": null,
   "id": "42539850-2269-401e-a65d-9ab2f9dffbea",
   "metadata": {},
   "outputs": [],
   "source": []
  }
 ],
 "metadata": {
  "kernelspec": {
   "display_name": "Python (nlp_env)",
   "language": "python",
   "name": "nlp_env"
  },
  "language_info": {
   "codemirror_mode": {
    "name": "ipython",
    "version": 3
   },
   "file_extension": ".py",
   "mimetype": "text/x-python",
   "name": "python",
   "nbconvert_exporter": "python",
   "pygments_lexer": "ipython3",
   "version": "3.11.11"
  }
 },
 "nbformat": 4,
 "nbformat_minor": 5
}
