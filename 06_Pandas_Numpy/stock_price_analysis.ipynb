{
 "cells": [
  {
   "cell_type": "code",
   "execution_count": 10,
   "id": "05db5809-17ad-4322-a3ae-6814e1b56cd1",
   "metadata": {},
   "outputs": [
    {
     "name": "stdout",
     "output_type": "stream",
     "text": [
      "Requirement already satisfied: pandas-datareader in /Users/jessicahong/.pyenv/versions/3.11.11/lib/python3.11/site-packages (0.11.0.dev76+g4ff6214)\n",
      "Requirement already satisfied: lxml in /Users/jessicahong/.pyenv/versions/3.11.11/lib/python3.11/site-packages (from pandas-datareader) (5.3.1)\n",
      "Requirement already satisfied: pandas>=1.5.3 in /Users/jessicahong/.pyenv/versions/3.11.11/lib/python3.11/site-packages (from pandas-datareader) (2.2.3)\n",
      "Requirement already satisfied: requests>=2.19.0 in /Users/jessicahong/.pyenv/versions/3.11.11/lib/python3.11/site-packages (from pandas-datareader) (2.32.3)\n",
      "Requirement already satisfied: numpy>=1.23.2 in /Users/jessicahong/.pyenv/versions/3.11.11/lib/python3.11/site-packages (from pandas>=1.5.3->pandas-datareader) (2.1.3)\n",
      "Requirement already satisfied: python-dateutil>=2.8.2 in /Users/jessicahong/.pyenv/versions/3.11.11/lib/python3.11/site-packages (from pandas>=1.5.3->pandas-datareader) (2.8.2)\n",
      "Requirement already satisfied: pytz>=2020.1 in /Users/jessicahong/.pyenv/versions/3.11.11/lib/python3.11/site-packages (from pandas>=1.5.3->pandas-datareader) (2025.1)\n",
      "Requirement already satisfied: tzdata>=2022.7 in /Users/jessicahong/.pyenv/versions/3.11.11/lib/python3.11/site-packages (from pandas>=1.5.3->pandas-datareader) (2025.1)\n",
      "Requirement already satisfied: six>=1.5 in /Users/jessicahong/.pyenv/versions/3.11.11/lib/python3.11/site-packages (from python-dateutil>=2.8.2->pandas>=1.5.3->pandas-datareader) (1.17.0)\n",
      "Requirement already satisfied: charset-normalizer<4,>=2 in /Users/jessicahong/.pyenv/versions/3.11.11/lib/python3.11/site-packages (from requests>=2.19.0->pandas-datareader) (3.4.1)\n",
      "Requirement already satisfied: idna<4,>=2.5 in /Users/jessicahong/.pyenv/versions/3.11.11/lib/python3.11/site-packages (from requests>=2.19.0->pandas-datareader) (3.10)\n",
      "Requirement already satisfied: urllib3<3,>=1.21.1 in /Users/jessicahong/.pyenv/versions/3.11.11/lib/python3.11/site-packages (from requests>=2.19.0->pandas-datareader) (2.3.0)\n",
      "Requirement already satisfied: certifi>=2017.4.17 in /Users/jessicahong/.pyenv/versions/3.11.11/lib/python3.11/site-packages (from requests>=2.19.0->pandas-datareader) (2025.1.31)\n"
     ]
    }
   ],
   "source": [
    "!pip install pandas-datareader  # package helps you easily fetch financial, economic, and other public data from online sources."
   ]
  },
  {
   "cell_type": "code",
   "execution_count": 2,
   "id": "55415bc7-806c-45a7-8374-d2d9d906e690",
   "metadata": {},
   "outputs": [
    {
     "name": "stdout",
     "output_type": "stream",
     "text": [
      "Requirement already satisfied: pandas_datareader in /Users/jessicahong/.pyenv/versions/3.11.11/lib/python3.11/site-packages (0.11.0.dev76+g4ff6214)\n",
      "Requirement already satisfied: lxml in /Users/jessicahong/.pyenv/versions/3.11.11/lib/python3.11/site-packages (from pandas_datareader) (5.3.1)\n",
      "Requirement already satisfied: pandas>=1.5.3 in /Users/jessicahong/.pyenv/versions/3.11.11/lib/python3.11/site-packages (from pandas_datareader) (2.2.3)\n",
      "Requirement already satisfied: requests>=2.19.0 in /Users/jessicahong/.pyenv/versions/3.11.11/lib/python3.11/site-packages (from pandas_datareader) (2.32.3)\n",
      "Requirement already satisfied: numpy>=1.23.2 in /Users/jessicahong/.pyenv/versions/3.11.11/lib/python3.11/site-packages (from pandas>=1.5.3->pandas_datareader) (2.1.3)\n",
      "Requirement already satisfied: python-dateutil>=2.8.2 in /Users/jessicahong/.pyenv/versions/3.11.11/lib/python3.11/site-packages (from pandas>=1.5.3->pandas_datareader) (2.8.2)\n",
      "Requirement already satisfied: pytz>=2020.1 in /Users/jessicahong/.pyenv/versions/3.11.11/lib/python3.11/site-packages (from pandas>=1.5.3->pandas_datareader) (2025.1)\n",
      "Requirement already satisfied: tzdata>=2022.7 in /Users/jessicahong/.pyenv/versions/3.11.11/lib/python3.11/site-packages (from pandas>=1.5.3->pandas_datareader) (2025.1)\n",
      "Requirement already satisfied: six>=1.5 in /Users/jessicahong/.pyenv/versions/3.11.11/lib/python3.11/site-packages (from python-dateutil>=2.8.2->pandas>=1.5.3->pandas_datareader) (1.17.0)\n",
      "Requirement already satisfied: charset-normalizer<4,>=2 in /Users/jessicahong/.pyenv/versions/3.11.11/lib/python3.11/site-packages (from requests>=2.19.0->pandas_datareader) (3.4.1)\n",
      "Requirement already satisfied: idna<4,>=2.5 in /Users/jessicahong/.pyenv/versions/3.11.11/lib/python3.11/site-packages (from requests>=2.19.0->pandas_datareader) (3.10)\n",
      "Requirement already satisfied: urllib3<3,>=1.21.1 in /Users/jessicahong/.pyenv/versions/3.11.11/lib/python3.11/site-packages (from requests>=2.19.0->pandas_datareader) (2.3.0)\n",
      "Requirement already satisfied: certifi>=2017.4.17 in /Users/jessicahong/.pyenv/versions/3.11.11/lib/python3.11/site-packages (from requests>=2.19.0->pandas_datareader) (2025.1.31)\n"
     ]
    }
   ],
   "source": [
    "!pip install --upgrade pandas_datareader"
   ]
  },
  {
   "cell_type": "code",
   "execution_count": 11,
   "id": "46a27b89-542a-47d9-a7cc-4ee075b2c6ec",
   "metadata": {},
   "outputs": [
    {
     "name": "stdout",
     "output_type": "stream",
     "text": [
      "Requirement already satisfied: yfinance in /Users/jessicahong/.pyenv/versions/3.11.11/lib/python3.11/site-packages (0.2.55)\n",
      "Requirement already satisfied: pandas>=1.3.0 in /Users/jessicahong/.pyenv/versions/3.11.11/lib/python3.11/site-packages (from yfinance) (2.2.3)\n",
      "Requirement already satisfied: numpy>=1.16.5 in /Users/jessicahong/.pyenv/versions/3.11.11/lib/python3.11/site-packages (from yfinance) (2.1.3)\n",
      "Requirement already satisfied: requests>=2.31 in /Users/jessicahong/.pyenv/versions/3.11.11/lib/python3.11/site-packages (from yfinance) (2.32.3)\n",
      "Requirement already satisfied: multitasking>=0.0.7 in /Users/jessicahong/.pyenv/versions/3.11.11/lib/python3.11/site-packages (from yfinance) (0.0.11)\n",
      "Requirement already satisfied: platformdirs>=2.0.0 in /Users/jessicahong/.pyenv/versions/3.11.11/lib/python3.11/site-packages (from yfinance) (4.3.7)\n",
      "Requirement already satisfied: pytz>=2022.5 in /Users/jessicahong/.pyenv/versions/3.11.11/lib/python3.11/site-packages (from yfinance) (2025.1)\n",
      "Requirement already satisfied: frozendict>=2.3.4 in /Users/jessicahong/.pyenv/versions/3.11.11/lib/python3.11/site-packages (from yfinance) (2.4.6)\n",
      "Requirement already satisfied: peewee>=3.16.2 in /Users/jessicahong/.pyenv/versions/3.11.11/lib/python3.11/site-packages (from yfinance) (3.17.9)\n",
      "Requirement already satisfied: beautifulsoup4>=4.11.1 in /Users/jessicahong/.pyenv/versions/3.11.11/lib/python3.11/site-packages (from yfinance) (4.13.3)\n",
      "Requirement already satisfied: soupsieve>1.2 in /Users/jessicahong/.pyenv/versions/3.11.11/lib/python3.11/site-packages (from beautifulsoup4>=4.11.1->yfinance) (2.6)\n",
      "Requirement already satisfied: typing-extensions>=4.0.0 in /Users/jessicahong/.pyenv/versions/3.11.11/lib/python3.11/site-packages (from beautifulsoup4>=4.11.1->yfinance) (4.14.0)\n",
      "Requirement already satisfied: python-dateutil>=2.8.2 in /Users/jessicahong/.pyenv/versions/3.11.11/lib/python3.11/site-packages (from pandas>=1.3.0->yfinance) (2.8.2)\n",
      "Requirement already satisfied: tzdata>=2022.7 in /Users/jessicahong/.pyenv/versions/3.11.11/lib/python3.11/site-packages (from pandas>=1.3.0->yfinance) (2025.1)\n",
      "Requirement already satisfied: six>=1.5 in /Users/jessicahong/.pyenv/versions/3.11.11/lib/python3.11/site-packages (from python-dateutil>=2.8.2->pandas>=1.3.0->yfinance) (1.17.0)\n",
      "Requirement already satisfied: charset-normalizer<4,>=2 in /Users/jessicahong/.pyenv/versions/3.11.11/lib/python3.11/site-packages (from requests>=2.31->yfinance) (3.4.1)\n",
      "Requirement already satisfied: idna<4,>=2.5 in /Users/jessicahong/.pyenv/versions/3.11.11/lib/python3.11/site-packages (from requests>=2.31->yfinance) (3.10)\n",
      "Requirement already satisfied: urllib3<3,>=1.21.1 in /Users/jessicahong/.pyenv/versions/3.11.11/lib/python3.11/site-packages (from requests>=2.31->yfinance) (2.3.0)\n",
      "Requirement already satisfied: certifi>=2017.4.17 in /Users/jessicahong/.pyenv/versions/3.11.11/lib/python3.11/site-packages (from requests>=2.31->yfinance) (2025.1.31)\n"
     ]
    }
   ],
   "source": [
    "!pip install yfinance #downaload yahoo finance"
   ]
  },
  {
   "cell_type": "code",
   "execution_count": 12,
   "id": "b89aaf81-ca57-4953-b450-42b5e19faaf5",
   "metadata": {},
   "outputs": [],
   "source": [
    "#imports the data submodule from the pandas_datareader package and gives it the alias web.\n",
    "import pandas_datareader.data as web  "
   ]
  },
  {
   "cell_type": "code",
   "execution_count": 13,
   "id": "7c9a8f1b-9fbf-4976-a596-7956c530577e",
   "metadata": {},
   "outputs": [],
   "source": [
    "import pandas_datareader as pdr\n",
    "import datetime as dt"
   ]
  },
  {
   "cell_type": "code",
   "execution_count": 14,
   "id": "b563f638-90d8-423b-b977-1025acc0830f",
   "metadata": {},
   "outputs": [],
   "source": [
    "import pandas as pd\n",
    "import numpy as np\n",
    "%matplotlib inline"
   ]
  },
  {
   "cell_type": "code",
   "execution_count": 15,
   "id": "81e797df-359d-4006-925e-ef0988648f93",
   "metadata": {},
   "outputs": [],
   "source": [
    "#Imports the yfinance library with the alias yf.\n",
    "#start = \"2006-01-01\" Sets the start date for data retrieval (January 1, 2006).\n",
    "#end = \"2016-01-01\"Sets the end date for data retrieval (January 1, 2016).\n",
    "\n",
    "import yfinance as yf\n",
    "start = \"2006-01-01\"\n",
    "end = \"2016-01-01\"\n"
   ]
  },
  {
   "cell_type": "code",
   "execution_count": 16,
   "id": "f230280e-3816-426a-9664-9e7bf69a41ea",
   "metadata": {},
   "outputs": [
    {
     "name": "stderr",
     "output_type": "stream",
     "text": [
      "[*********************100%***********************]  1 of 1 completed\n",
      "\n",
      "1 Failed download:\n",
      "['BAC']: YFRateLimitError('Too Many Requests. Rate limited. Try after a while.')\n"
     ]
    }
   ],
   "source": [
    "yf_data= yf.download(\"BAC\", start=start, end=end)"
   ]
  },
  {
   "cell_type": "code",
   "execution_count": 28,
   "id": "e76bfa74-d20b-418c-87da-2580d601967e",
   "metadata": {},
   "outputs": [
    {
     "name": "stdout",
     "output_type": "stream",
     "text": [
      "Price           Close       High        Low       Open    Volume\n",
      "Ticker            BAC        BAC        BAC        BAC       BAC\n",
      "Date                                                            \n",
      "2006-01-03  31.173681  31.239895  30.557888  31.067736  16296700\n",
      "2006-01-04  30.842604  31.279618  30.756524  31.120702  17757900\n",
      "2006-01-05  30.882326  31.008135  30.670441  30.842599  14970700\n",
      "2006-01-06  30.835978  31.061106  30.690305  30.988270  12599800\n",
      "2006-01-09  30.855852  31.100847  30.696939  30.935311  15619400\n"
     ]
    }
   ],
   "source": [
    "print(df.head())"
   ]
  },
  {
   "cell_type": "code",
   "execution_count": 29,
   "id": "0bf410ac-9325-4cfb-816a-3c487494019f",
   "metadata": {},
   "outputs": [
    {
     "data": {
      "text/html": [
       "<div>\n",
       "<style scoped>\n",
       "    .dataframe tbody tr th:only-of-type {\n",
       "        vertical-align: middle;\n",
       "    }\n",
       "\n",
       "    .dataframe tbody tr th {\n",
       "        vertical-align: top;\n",
       "    }\n",
       "\n",
       "    .dataframe thead th {\n",
       "        text-align: right;\n",
       "    }\n",
       "</style>\n",
       "<table border=\"1\" class=\"dataframe\">\n",
       "  <thead>\n",
       "    <tr style=\"text-align: right;\">\n",
       "      <th></th>\n",
       "      <th>Open</th>\n",
       "      <th>High</th>\n",
       "      <th>Low</th>\n",
       "      <th>Close</th>\n",
       "      <th>Volume</th>\n",
       "    </tr>\n",
       "    <tr>\n",
       "      <th>Date</th>\n",
       "      <th></th>\n",
       "      <th></th>\n",
       "      <th></th>\n",
       "      <th></th>\n",
       "      <th></th>\n",
       "    </tr>\n",
       "  </thead>\n",
       "  <tbody>\n",
       "    <tr>\n",
       "      <th>2006-01-02</th>\n",
       "      <td>13280</td>\n",
       "      <td>13360</td>\n",
       "      <td>13120</td>\n",
       "      <td>13180</td>\n",
       "      <td>419111</td>\n",
       "    </tr>\n",
       "    <tr>\n",
       "      <th>2006-01-03</th>\n",
       "      <td>13200</td>\n",
       "      <td>13320</td>\n",
       "      <td>13119</td>\n",
       "      <td>13300</td>\n",
       "      <td>358018</td>\n",
       "    </tr>\n",
       "    <tr>\n",
       "      <th>2006-01-04</th>\n",
       "      <td>13500</td>\n",
       "      <td>14000</td>\n",
       "      <td>13459</td>\n",
       "      <td>13980</td>\n",
       "      <td>785812</td>\n",
       "    </tr>\n",
       "    <tr>\n",
       "      <th>2006-01-05</th>\n",
       "      <td>13900</td>\n",
       "      <td>13900</td>\n",
       "      <td>13420</td>\n",
       "      <td>13580</td>\n",
       "      <td>710373</td>\n",
       "    </tr>\n",
       "    <tr>\n",
       "      <th>2006-01-06</th>\n",
       "      <td>13700</td>\n",
       "      <td>13759</td>\n",
       "      <td>13580</td>\n",
       "      <td>13740</td>\n",
       "      <td>353915</td>\n",
       "    </tr>\n",
       "  </tbody>\n",
       "</table>\n",
       "</div>"
      ],
      "text/plain": [
       "             Open   High    Low  Close  Volume\n",
       "Date                                          \n",
       "2006-01-02  13280  13360  13120  13180  419111\n",
       "2006-01-03  13200  13320  13119  13300  358018\n",
       "2006-01-04  13500  14000  13459  13980  785812\n",
       "2006-01-05  13900  13900  13420  13580  710373\n",
       "2006-01-06  13700  13759  13580  13740  353915"
      ]
     },
     "execution_count": 29,
     "metadata": {},
     "output_type": "execute_result"
    }
   ],
   "source": [
    "naver_data = web.DataReader('005930', 'naver', start='2006-01-01', end='2016-01-01')\n",
    "naver_data.head()"
   ]
  },
  {
   "cell_type": "code",
   "execution_count": 30,
   "id": "bc7f48bf-f45c-4a8e-ad20-8aca549226a3",
   "metadata": {},
   "outputs": [],
   "source": [
    "tickers = ['yf_data', 'naver_data']"
   ]
  },
  {
   "cell_type": "code",
   "execution_count": 37,
   "id": "1f976f2b-d028-47fe-9cce-69b2c4aa3fc2",
   "metadata": {},
   "outputs": [
    {
     "name": "stderr",
     "output_type": "stream",
     "text": [
      "404 Client Error: Not Found for url: https://query2.finance.yahoo.com/v10/finance/quoteSummary/YF_DATA?modules=financialData%2CquoteType%2CdefaultKeyStatistics%2CassetProfile%2CsummaryDetail&corsDomain=finance.yahoo.com&formatted=false&symbol=YF_DATA&crumb=SEVlwtjBKhu\n",
      "404 Client Error: Not Found for url: https://query2.finance.yahoo.com/v10/finance/quoteSummary/NAVER_DATA?modules=financialData%2CquoteType%2CdefaultKeyStatistics%2CassetProfile%2CsummaryDetail&corsDomain=finance.yahoo.com&formatted=false&symbol=NAVER_DATA&crumb=SEVlwtjBKhu\n",
      "[*********************100%***********************]  2 of 2 completed\n",
      "\n",
      "2 Failed downloads:\n",
      "['YF_DATA', 'NAVER_DATA']: AttributeError(\"'NoneType' object has no attribute 'update'\")\n"
     ]
    }
   ],
   "source": [
    "yf_data = yf.download(tickers, start='2006-01-01', end='2016-01-01')"
   ]
  },
  {
   "cell_type": "code",
   "execution_count": 38,
   "id": "36178534-54aa-4e02-8fe6-ff69e3b1bee4",
   "metadata": {},
   "outputs": [],
   "source": [
    "yf_data_reset = yf_data.reset_index()"
   ]
  },
  {
   "cell_type": "code",
   "execution_count": 39,
   "id": "391c0e93-b556-4501-bdab-32949e867ba1",
   "metadata": {},
   "outputs": [
    {
     "name": "stderr",
     "output_type": "stream",
     "text": [
      "[*********************100%***********************]  1 of 1 completed\n"
     ]
    }
   ],
   "source": [
    "naver_data = yf.download('005930.KS', start='2006-01-01', end='2016-01-01')\n",
    "naver_data_reset = naver_data.reset_index()\n"
   ]
  },
  {
   "cell_type": "code",
   "execution_count": 40,
   "id": "ebb2f54a-3403-48a0-9a6c-6bb39e89485f",
   "metadata": {},
   "outputs": [],
   "source": [
    "bank_stocks = pd.concat([yf_data_reset, naver_data_reset], axis=1, keys=tickers)\n"
   ]
  },
  {
   "cell_type": "code",
   "execution_count": 41,
   "id": "5e45f682-8d94-4cb2-aee1-8a9f8fae7347",
   "metadata": {
    "scrolled": true
   },
   "outputs": [
    {
     "name": "stdout",
     "output_type": "stream",
     "text": [
      "       yf_data                                                           \\\n",
      "Price     Date  Adj Close              Close               High           \n",
      "Ticker         NAVER_DATA YF_DATA NAVER_DATA YF_DATA NAVER_DATA YF_DATA   \n",
      "0          NaT        NaN     NaN        NaN     NaN        NaN     NaN   \n",
      "1          NaT        NaN     NaN        NaN     NaN        NaN     NaN   \n",
      "2          NaT        NaN     NaN        NaN     NaN        NaN     NaN   \n",
      "3          NaT        NaN     NaN        NaN     NaN        NaN     NaN   \n",
      "4          NaT        NaN     NaN        NaN     NaN        NaN     NaN   \n",
      "\n",
      "                                                                naver_data  \\\n",
      "Price         Low               Open             Volume               Date   \n",
      "Ticker NAVER_DATA YF_DATA NAVER_DATA YF_DATA NAVER_DATA YF_DATA              \n",
      "0             NaN     NaN        NaN     NaN        NaN     NaN 2006-01-02   \n",
      "1             NaN     NaN        NaN     NaN        NaN     NaN 2006-01-03   \n",
      "2             NaN     NaN        NaN     NaN        NaN     NaN 2006-01-04   \n",
      "3             NaN     NaN        NaN     NaN        NaN     NaN 2006-01-05   \n",
      "4             NaN     NaN        NaN     NaN        NaN     NaN 2006-01-06   \n",
      "\n",
      "                                                                       \n",
      "Price         Close          High          Low         Open    Volume  \n",
      "Ticker    005930.KS     005930.KS    005930.KS    005930.KS 005930.KS  \n",
      "0       9452.580078   9567.156806  9395.291714  9509.868442  16985900  \n",
      "1       9509.869141   9538.513325  9395.292404  9452.580772  17385550  \n",
      "2       9982.500000  10025.466284  9638.769727  9667.413917  38604500  \n",
      "3       9724.702148   9953.855660  9610.125393  9953.855660  25783750  \n",
      "4       9796.315430   9853.603824  9724.704937  9810.637528  17394550  \n"
     ]
    }
   ],
   "source": [
    "print(bank_stocks.head())"
   ]
  },
  {
   "cell_type": "code",
   "execution_count": 44,
   "id": "7d9cd832-ad2b-4884-ab3b-e3e3b0c11db7",
   "metadata": {},
   "outputs": [
    {
     "name": "stdout",
     "output_type": "stream",
     "text": [
      "3\n"
     ]
    }
   ],
   "source": [
    "print(bank_stocks.columns.nlevels)"
   ]
  },
  {
   "cell_type": "code",
   "execution_count": 45,
   "id": "bb326264-92ea-4573-8d32-131085c04382",
   "metadata": {},
   "outputs": [],
   "source": [
    "bank_stocks.columns.names = ['Ticker', 'Date', 'Stock Info']"
   ]
  },
  {
   "cell_type": "markdown",
   "id": "6f205a7b-b779-46bd-aeb9-80ab28320e9b",
   "metadata": {},
   "source": [
    "print(bank_stocks.head())"
   ]
  },
  {
   "cell_type": "code",
   "execution_count": 46,
   "id": "0cac0c05-d401-4071-b485-9f65551079c3",
   "metadata": {},
   "outputs": [
    {
     "name": "stdout",
     "output_type": "stream",
     "text": [
      "Ticker     yf_data                                                           \\\n",
      "Date          Date  Adj Close              Close               High           \n",
      "Stock Info         NAVER_DATA YF_DATA NAVER_DATA YF_DATA NAVER_DATA YF_DATA   \n",
      "0              NaT        NaN     NaN        NaN     NaN        NaN     NaN   \n",
      "1              NaT        NaN     NaN        NaN     NaN        NaN     NaN   \n",
      "2              NaT        NaN     NaN        NaN     NaN        NaN     NaN   \n",
      "3              NaT        NaN     NaN        NaN     NaN        NaN     NaN   \n",
      "4              NaT        NaN     NaN        NaN     NaN        NaN     NaN   \n",
      "\n",
      "Ticker                                                               \\\n",
      "Date              Low               Open             Volume           \n",
      "Stock Info NAVER_DATA YF_DATA NAVER_DATA YF_DATA NAVER_DATA YF_DATA   \n",
      "0                 NaN     NaN        NaN     NaN        NaN     NaN   \n",
      "1                 NaN     NaN        NaN     NaN        NaN     NaN   \n",
      "2                 NaN     NaN        NaN     NaN        NaN     NaN   \n",
      "3                 NaN     NaN        NaN     NaN        NaN     NaN   \n",
      "4                 NaN     NaN        NaN     NaN        NaN     NaN   \n",
      "\n",
      "Ticker     naver_data                                                       \\\n",
      "Date             Date        Close          High          Low         Open   \n",
      "Stock Info               005930.KS     005930.KS    005930.KS    005930.KS   \n",
      "0          2006-01-02  9452.580078   9567.156806  9395.291714  9509.868442   \n",
      "1          2006-01-03  9509.869141   9538.513325  9395.292404  9452.580772   \n",
      "2          2006-01-04  9982.500000  10025.466284  9638.769727  9667.413917   \n",
      "3          2006-01-05  9724.702148   9953.855660  9610.125393  9953.855660   \n",
      "4          2006-01-06  9796.315430   9853.603824  9724.704937  9810.637528   \n",
      "\n",
      "Ticker                \n",
      "Date          Volume  \n",
      "Stock Info 005930.KS  \n",
      "0           16985900  \n",
      "1           17385550  \n",
      "2           38604500  \n",
      "3           25783750  \n",
      "4           17394550  \n"
     ]
    }
   ],
   "source": [
    "print(bank_stocks.head())"
   ]
  },
  {
   "cell_type": "code",
   "execution_count": null,
   "id": "65f87984-3d7f-4aa3-a2f5-bca4b53cdc7e",
   "metadata": {},
   "outputs": [],
   "source": []
  }
 ],
 "metadata": {
  "kernelspec": {
   "display_name": "Python 3 (ipykernel)",
   "language": "python",
   "name": "python3"
  },
  "language_info": {
   "codemirror_mode": {
    "name": "ipython",
    "version": 3
   },
   "file_extension": ".py",
   "mimetype": "text/x-python",
   "name": "python",
   "nbconvert_exporter": "python",
   "pygments_lexer": "ipython3",
   "version": "3.11.11"
  }
 },
 "nbformat": 4,
 "nbformat_minor": 5
}
