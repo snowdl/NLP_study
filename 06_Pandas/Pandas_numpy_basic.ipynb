{
 "cells": [
  {
   "cell_type": "code",
   "execution_count": 1,
   "id": "24ca0674-4fc1-4f5c-8058-0cb163c40b4f",
   "metadata": {},
   "outputs": [],
   "source": [
    "import pandas as pd"
   ]
  },
  {
   "cell_type": "code",
   "execution_count": 4,
   "id": "418a4323-ebec-47e9-9010-20b8b57f5e8b",
   "metadata": {},
   "outputs": [
    {
     "name": "stdout",
     "output_type": "stream",
     "text": [
      "series output :\n",
      "---------------\n",
      "pizza      17000\n",
      "chicken    18000\n",
      "cola        1000\n",
      "beer        5000\n",
      "dtype: int64\n"
     ]
    }
   ],
   "source": [
    "#series = 1차원 배열\n",
    "sr = pd.Series([17000, 18000, 1000, 5000],\n",
    "               index=[\"pizza\", \"chicken\", \"cola\", \"beer\"])\n",
    "print('series output :')\n",
    "print('-'*15)\n",
    "print(sr)"
   ]
  },
  {
   "cell_type": "code",
   "execution_count": 3,
   "id": "a4834e78-7101-45ad-a321-7c41a84810f0",
   "metadata": {},
   "outputs": [
    {
     "name": "stdout",
     "output_type": "stream",
     "text": [
      "value of series : [17000 18000  1000  5000]\n",
      "index: Index(['pizza', 'chicken', 'cola', 'beer'], dtype='object')\n"
     ]
    }
   ],
   "source": [
    "print('value of series : {}'.format(sr.values))\n",
    "print('index: {}'.format(sr.index))"
   ]
  },
  {
   "cell_type": "code",
   "execution_count": 5,
   "id": "cf6e5b4d-bcbb-418e-9b17-e36c1a044aee",
   "metadata": {},
   "outputs": [
    {
     "name": "stdout",
     "output_type": "stream",
     "text": [
      "dataframe output :\n",
      "------------------\n",
      "       A  B  C\n",
      "one    1  2  3\n",
      "two    4  5  6\n",
      "three  7  8  9\n"
     ]
    }
   ],
   "source": [
    "#dataframe = 2 차원 리스트\n",
    "values = [[1, 2, 3], [4, 5, 6], [7, 8, 9]]\n",
    "index = ['one', 'two', 'three']\n",
    "columns = ['A', 'B', 'C']\n",
    "\n",
    "df = pd.DataFrame(values, index=index, columns=columns)\n",
    "\n",
    "print('dataframe output :')\n",
    "print('-'*18)\n",
    "print(df)"
   ]
  },
  {
   "cell_type": "code",
   "execution_count": 6,
   "id": "991bd039-292f-4698-8564-74335838ef27",
   "metadata": {},
   "outputs": [
    {
     "name": "stdout",
     "output_type": "stream",
     "text": [
      "Dataframe index : Index(['one', 'two', 'three'], dtype='object')\n",
      "Dataframe columns: Index(['A', 'B', 'C'], dtype='object')\n",
      "Dataframe value :\n",
      "------------------\n",
      "[[1 2 3]\n",
      " [4 5 6]\n",
      " [7 8 9]]\n"
     ]
    }
   ],
   "source": [
    "print('Dataframe index : {}'.format(df.index))\n",
    "print('Dataframe columns: {}'.format(df.columns))\n",
    "print('Dataframe value :')\n",
    "print('-'*18)\n",
    "print(df.values)"
   ]
  },
  {
   "cell_type": "code",
   "execution_count": 7,
   "id": "dbb88cd5-05df-4c05-976d-a9e54726cc3c",
   "metadata": {},
   "outputs": [
    {
     "name": "stdout",
     "output_type": "stream",
     "text": [
      "      0         1      2\n",
      "0  1000     Steve  90.72\n",
      "1  1001     James  78.09\n",
      "2  1002    Doyeon  98.43\n",
      "3  1003      Jane  64.19\n",
      "4  1004  Pilwoong  81.30\n",
      "5  1005      Tony  99.14\n"
     ]
    }
   ],
   "source": [
    "\n",
    "data = [\n",
    "    ['1000', 'Steve', 90.72], \n",
    "    ['1001', 'James', 78.09], \n",
    "    ['1002', 'Doyeon', 98.43], \n",
    "    ['1003', 'Jane', 64.19], \n",
    "    ['1004', 'Pilwoong', 81.30],\n",
    "    ['1005', 'Tony', 99.14],\n",
    "]\n",
    "\n",
    "df = pd.DataFrame(data)\n",
    "print(df)\n"
   ]
  },
  {
   "cell_type": "code",
   "execution_count": 9,
   "id": "6fe45efa-be65-43cb-8497-73bb7736bb81",
   "metadata": {},
   "outputs": [
    {
     "name": "stdout",
     "output_type": "stream",
     "text": [
      "     id      name  score\n",
      "0  1000     Steve  90.72\n",
      "1  1001     James  78.09\n",
      "2  1002    Doyeon  98.43\n",
      "3  1003      Jane  64.19\n",
      "4  1004  Pilwoong  81.30\n",
      "5  1005      Tony  99.14\n"
     ]
    }
   ],
   "source": [
    "df = pd.DataFrame(data, columns=['id', 'name', 'score'])\n",
    "print(df)"
   ]
  },
  {
   "cell_type": "code",
   "execution_count": 10,
   "id": "275de937-e62c-425a-a8aa-25087537528e",
   "metadata": {},
   "outputs": [
    {
     "name": "stdout",
     "output_type": "stream",
     "text": [
      "     id    name  score\n",
      "0  1000   Steve  90.72\n",
      "1  1001   James  78.09\n",
      "2  1002  Doyeon  98.43\n"
     ]
    }
   ],
   "source": [
    "print(df.head(3))"
   ]
  },
  {
   "cell_type": "code",
   "execution_count": 11,
   "id": "7eaeeea3-bd2b-454f-a6c5-6ed4d2d6e41c",
   "metadata": {},
   "outputs": [
    {
     "name": "stdout",
     "output_type": "stream",
     "text": [
      "0    1000\n",
      "1    1001\n",
      "2    1002\n",
      "3    1003\n",
      "4    1004\n",
      "5    1005\n",
      "Name: id, dtype: object\n"
     ]
    }
   ],
   "source": [
    "# '학번'에 해당되는 열을 보기\n",
    "print(df['id'])\n"
   ]
  },
  {
   "cell_type": "code",
   "execution_count": 12,
   "id": "e8f10a16-c311-4d47-802c-53f9483f84b7",
   "metadata": {},
   "outputs": [],
   "source": [
    "import numpy as np"
   ]
  },
  {
   "cell_type": "code",
   "execution_count": 13,
   "id": "e99c9d24-22fc-4044-b361-b33c30fab574",
   "metadata": {},
   "outputs": [
    {
     "name": "stdout",
     "output_type": "stream",
     "text": [
      "[1 2 3 4 5]\n"
     ]
    }
   ],
   "source": [
    "vec = np.array([1, 2, 3, 4, 5])\n",
    "print(vec)"
   ]
  },
  {
   "cell_type": "code",
   "execution_count": 14,
   "id": "8e87254a-f17f-4e8e-87cf-cb177025168a",
   "metadata": {},
   "outputs": [
    {
     "name": "stdout",
     "output_type": "stream",
     "text": [
      "[[10 20 30]\n",
      " [60 70 80]]\n"
     ]
    }
   ],
   "source": [
    "mat = np.array([[10, 20, 30], [ 60, 70, 80]]) \n",
    "print(mat)"
   ]
  },
  {
   "cell_type": "code",
   "execution_count": 15,
   "id": "a5efbd16-78a5-49b8-a859-d0f2bd456d7f",
   "metadata": {},
   "outputs": [
    {
     "name": "stdout",
     "output_type": "stream",
     "text": [
      "vec의 타입 : <class 'numpy.ndarray'>\n",
      "mat의 타입 : <class 'numpy.ndarray'>\n"
     ]
    }
   ],
   "source": [
    "print('vec의 타입 :',type(vec))\n",
    "print('mat의 타입 :',type(mat))"
   ]
  },
  {
   "cell_type": "code",
   "execution_count": 16,
   "id": "685c6e1b-2d6b-406c-9874-15e4aab072e1",
   "metadata": {},
   "outputs": [
    {
     "name": "stdout",
     "output_type": "stream",
     "text": [
      "vec의 축의 개수 : 1\n",
      "vec의 크기(shape) : (5,)\n"
     ]
    }
   ],
   "source": [
    "print('vec의 축의 개수 :',vec.ndim) # 축의 개수 출력\n",
    "print('vec의 크기(shape) :',vec.shape) # 크기 출력"
   ]
  },
  {
   "cell_type": "code",
   "execution_count": 17,
   "id": "435dd04a-7d2e-4798-a30d-eb4b0caf174b",
   "metadata": {},
   "outputs": [
    {
     "name": "stdout",
     "output_type": "stream",
     "text": [
      "[[0. 0. 0.]\n",
      " [0. 0. 0.]]\n"
     ]
    }
   ],
   "source": [
    "# 모든 값이 0인 2x3 배열 생성.\n",
    "zero_mat = np.zeros((2,3))\n",
    "print(zero_mat)"
   ]
  },
  {
   "cell_type": "code",
   "execution_count": 18,
   "id": "1a21eed1-ee80-47db-ba74-bd8d62657bb1",
   "metadata": {},
   "outputs": [
    {
     "name": "stdout",
     "output_type": "stream",
     "text": [
      "[[1. 1. 1.]\n",
      " [1. 1. 1.]]\n"
     ]
    }
   ],
   "source": [
    "one_mat = np.ones((2,3))\n",
    "print(one_mat)\n"
   ]
  },
  {
   "cell_type": "code",
   "execution_count": 19,
   "id": "65985c6a-31f7-4cc8-a20d-c0b8ef41251d",
   "metadata": {},
   "outputs": [
    {
     "name": "stdout",
     "output_type": "stream",
     "text": [
      "[[7 7]\n",
      " [7 7]]\n"
     ]
    }
   ],
   "source": [
    "same_value_mat = np.full((2,2), 7)\n",
    "print(same_value_mat)"
   ]
  },
  {
   "cell_type": "code",
   "execution_count": 21,
   "id": "4f707c98-66e5-4b91-a04c-f8ad482a979c",
   "metadata": {},
   "outputs": [
    {
     "name": "stdout",
     "output_type": "stream",
     "text": [
      "[[1. 0. 0.]\n",
      " [0. 1. 0.]\n",
      " [0. 0. 1.]]\n"
     ]
    }
   ],
   "source": [
    "#a 3×3 identity matrix \n",
    "#a square matrix with 1's on the diagonal \n",
    "eye_mat = np.eye(3)\n",
    "print(eye_mat)"
   ]
  },
  {
   "cell_type": "code",
   "execution_count": 22,
   "id": "9e38cec7-3e1f-4afe-bd5f-5c18f8a67ec2",
   "metadata": {},
   "outputs": [
    {
     "name": "stdout",
     "output_type": "stream",
     "text": [
      "[[0.15922279 0.76521034]\n",
      " [0.34504965 0.58818135]]\n"
     ]
    }
   ],
   "source": [
    "random_mat = np.random.random((2,2)) # 임의의 값으로 채워진 배열 생성\n",
    "print(random_mat)"
   ]
  },
  {
   "cell_type": "code",
   "execution_count": 23,
   "id": "95bb50da-6d76-40e6-8b9f-93b271681c07",
   "metadata": {},
   "outputs": [
    {
     "name": "stdout",
     "output_type": "stream",
     "text": [
      "[0 1 2 3 4 5 6 7 8 9]\n"
     ]
    }
   ],
   "source": [
    "# 0부터 9까지\n",
    "range_vec = np.arange(10)\n",
    "print(range_vec)"
   ]
  },
  {
   "cell_type": "code",
   "execution_count": 25,
   "id": "297330f5-7cd2-4b8b-a589-14457905a805",
   "metadata": {},
   "outputs": [
    {
     "name": "stdout",
     "output_type": "stream",
     "text": [
      "[1 3 5 7 9]\n"
     ]
    }
   ],
   "source": [
    "# 1부터 9까지 +2씩 적용되는 범위\n",
    "#starts from 1, stops before 10, increments by 2\n",
    "n = 2\n",
    "range_n_step_vec = np.arange(1, 10, n)\n",
    "print(range_n_step_vec)"
   ]
  },
  {
   "cell_type": "code",
   "execution_count": 26,
   "id": "89a64b3a-2b45-4453-b4d1-2b27e96314db",
   "metadata": {},
   "outputs": [
    {
     "name": "stdout",
     "output_type": "stream",
     "text": [
      "[[ 0  1  2  3  4  5]\n",
      " [ 6  7  8  9 10 11]\n",
      " [12 13 14 15 16 17]\n",
      " [18 19 20 21 22 23]\n",
      " [24 25 26 27 28 29]]\n"
     ]
    }
   ],
   "source": [
    "reshape_mat = np.array(np.arange(30)).reshape((5,6))\n",
    "print(reshape_mat)"
   ]
  },
  {
   "cell_type": "code",
   "execution_count": 27,
   "id": "c6e4452b-e7dd-4530-852d-fb8b88dfb2e9",
   "metadata": {},
   "outputs": [
    {
     "name": "stdout",
     "output_type": "stream",
     "text": [
      "[[1 2 3]\n",
      " [4 5 6]]\n"
     ]
    }
   ],
   "source": [
    "mat = np.array([[1, 2, 3], [4, 5, 6]])\n",
    "print(mat)"
   ]
  },
  {
   "cell_type": "code",
   "execution_count": 28,
   "id": "d7cce450-ea35-4958-a1b5-f1cfe233db7f",
   "metadata": {},
   "outputs": [
    {
     "name": "stdout",
     "output_type": "stream",
     "text": [
      "[1 2 3]\n"
     ]
    }
   ],
   "source": [
    "#slicing\n",
    "slicing_mat = mat[0, :]\n",
    "print(slicing_mat)"
   ]
  },
  {
   "cell_type": "code",
   "execution_count": 29,
   "id": "a4a60964-c255-4399-b4f3-3a7de257d3ec",
   "metadata": {},
   "outputs": [
    {
     "name": "stdout",
     "output_type": "stream",
     "text": [
      "[2 5]\n"
     ]
    }
   ],
   "source": [
    "slicing_mat = mat[:, 1]\n",
    "print(slicing_mat)"
   ]
  },
  {
   "cell_type": "code",
   "execution_count": 31,
   "id": "d934cac1-c14b-443e-a930-1b63aa62711e",
   "metadata": {},
   "outputs": [],
   "source": [
    "#integer indexing"
   ]
  },
  {
   "cell_type": "code",
   "execution_count": 32,
   "id": "784e71ff-cee7-40bd-82fc-205a365d062d",
   "metadata": {},
   "outputs": [
    {
     "name": "stdout",
     "output_type": "stream",
     "text": [
      "[[1 2]\n",
      " [4 5]\n",
      " [7 8]]\n"
     ]
    }
   ],
   "source": [
    "mat = np.array([[1, 2], [4, 5], [7, 8]])\n",
    "print(mat)"
   ]
  },
  {
   "cell_type": "code",
   "execution_count": 33,
   "id": "0b8361e6-66ce-469a-97e1-d83e64169eb0",
   "metadata": {},
   "outputs": [],
   "source": [
    "x = np.array([1,2,3])\n",
    "y = np.array([4,5,6])"
   ]
  },
  {
   "cell_type": "code",
   "execution_count": 34,
   "id": "12b977f1-c577-4eb7-bd09-09828c992346",
   "metadata": {},
   "outputs": [
    {
     "name": "stdout",
     "output_type": "stream",
     "text": [
      "[5 7 9]\n"
     ]
    }
   ],
   "source": [
    "result = x + y\n",
    "print(result)\n"
   ]
  },
  {
   "cell_type": "code",
   "execution_count": 35,
   "id": "c2d8545e-d90b-4f3f-b5dc-fe11ad6e81e5",
   "metadata": {},
   "outputs": [
    {
     "name": "stdout",
     "output_type": "stream",
     "text": [
      "[-3 -3 -3]\n"
     ]
    }
   ],
   "source": [
    "result = x - y\n",
    "print(result)"
   ]
  },
  {
   "cell_type": "code",
   "execution_count": 36,
   "id": "6d9a18de-7903-4128-9986-ad2d1a0831bb",
   "metadata": {},
   "outputs": [
    {
     "name": "stdout",
     "output_type": "stream",
     "text": [
      "[-3 -6 -9]\n"
     ]
    }
   ],
   "source": [
    "result = result * x\n",
    "print(result)"
   ]
  },
  {
   "cell_type": "code",
   "execution_count": 37,
   "id": "a550025f-723d-4552-9eb1-63833f1e448e",
   "metadata": {},
   "outputs": [
    {
     "name": "stdout",
     "output_type": "stream",
     "text": [
      "[[19 22]\n",
      " [43 50]]\n"
     ]
    }
   ],
   "source": [
    "mat1 = np.array([[1,2],[3,4]])\n",
    "mat2 = np.array([[5,6],[7,8]])\n",
    "mat3 = np.dot(mat1, mat2)\n",
    "print(mat3)"
   ]
  },
  {
   "cell_type": "code",
   "execution_count": null,
   "id": "092f115d-f9d4-48c6-bdb8-b6f66ab1871b",
   "metadata": {},
   "outputs": [],
   "source": []
  }
 ],
 "metadata": {
  "kernelspec": {
   "display_name": "Python 3 (ipykernel)",
   "language": "python",
   "name": "python3"
  },
  "language_info": {
   "codemirror_mode": {
    "name": "ipython",
    "version": 3
   },
   "file_extension": ".py",
   "mimetype": "text/x-python",
   "name": "python",
   "nbconvert_exporter": "python",
   "pygments_lexer": "ipython3",
   "version": "3.11.11"
  }
 },
 "nbformat": 4,
 "nbformat_minor": 5
}
