{
 "cells": [
  {
   "cell_type": "code",
   "execution_count": 1,
   "id": "1ecf478d-6564-404f-8df1-8f95ca81bcd9",
   "metadata": {},
   "outputs": [],
   "source": [
    "#Imports & Config"
   ]
  },
  {
   "cell_type": "code",
   "execution_count": 2,
   "id": "12a4919e-95a0-44e4-8099-8b1488fa973b",
   "metadata": {},
   "outputs": [],
   "source": [
    "import re\n",
    "from typing import Dict, List, Tuple, Any, Optional\n",
    "\n",
    "THRESHOLD = 1  # accept intent if we have >= 1 keyword hit"
   ]
  },
  {
   "cell_type": "code",
   "execution_count": 3,
   "id": "cb1a0c2a-9515-45fe-973c-2f2bbe4450b7",
   "metadata": {},
   "outputs": [],
   "source": [
    "#Normalizer"
   ]
  },
  {
   "cell_type": "code",
   "execution_count": 17,
   "id": "6c01a4ac-a547-4b18-a87e-df21d3152a40",
   "metadata": {},
   "outputs": [],
   "source": [
    "# Text normalizer:\n",
    "# - Convert to lowercase\n",
    "# - Remove symbols/punctuation (keep letters, numbers, Korean)\n",
    "# - Collapse multiple spaces into one\n",
    "_WS = re.compile(r\"\\s+\")\n",
    "\n",
    "def normalize_text(s: str) -> str:\n",
    "    s = s.lower()\n",
    "    s = re.sub(r\"[^0-9a-z가-힣\\s]\", \" \", s)\n",
    "    return _WS.sub(\" \", s).strip()"
   ]
  },
  {
   "cell_type": "code",
   "execution_count": 18,
   "id": "a5df5a8c-b01e-43f1-866f-3f0fef076e9c",
   "metadata": {},
   "outputs": [
    {
     "name": "stdout",
     "output_type": "stream",
     "text": [
      "Input : Hello, WORLD!!!\n",
      "Output: hello world\n",
      "----------------------------------------\n",
      "Input : Card stolen!!! 123\n",
      "Output: card stolen 123\n",
      "----------------------------------------\n",
      "Input : 분실 신고 해주세요!!!\n",
      "Output: 분실 신고 해주세요\n",
      "----------------------------------------\n",
      "Input : Multiple     spaces here\n",
      "Output: multiple spaces here\n",
      "----------------------------------------\n"
     ]
    }
   ],
   "source": [
    "# === Quick check for normalize_text ===\n",
    "samples = [\n",
    "    \"Hello, WORLD!!!\",          # English with punctuation\n",
    "    \"Card stolen!!! 123\",       # Mixed with numbers\n",
    "    \"분실 신고 해주세요!!!\",       # Korean with punctuation\n",
    "    \"Multiple     spaces here\", # Extra spaces\n",
    "]\n",
    "\n",
    "for s in samples:\n",
    "    print(f\"Input : {s}\")\n",
    "    print(f\"Output: {normalize_text(s)}\")\n",
    "    print(\"-\" * 40)"
   ]
  },
  {
   "cell_type": "code",
   "execution_count": 5,
   "id": "8cd3bbdb-90e2-48e1-bba8-adf085967e85",
   "metadata": {},
   "outputs": [],
   "source": [
    "#Rules (in-code)"
   ]
  },
  {
   "cell_type": "code",
   "execution_count": 19,
   "id": "1d575d91-e40e-4f00-a321-d774c4c259de",
   "metadata": {},
   "outputs": [],
   "source": [
    "# === Rules: intents and their keywords ===\n",
    "# - Each intent has a list of keywords that may appear in user text\n",
    "# - \"args\" tells us what parameters are required (user_id or card_id)\n",
    "\n",
    "RULES: Dict[str, Dict[str, List[str]]] = {\n",
    "    \"report_card_lost\": {\n",
    "        \"keywords\": [\n",
    "            \"lost my card\", \"card stolen\", \"card missing\",\n",
    "            \"misplaced\", \"lost\", \"missing card\"\n",
    "        ],\n",
    "        \"args\": [\"user_id\"],\n",
    "    },\n",
    "    \"check_card_delivery\": {\n",
    "        \"keywords\": [\n",
    "            \"track my card\", \"where is my card\", \"card not arrived\",\n",
    "            \"delivered\", \"delivery\", \"card delivery\", \"when will my card arrive\"\n",
    "        ],\n",
    "        \"args\": [\"card_id\"],\n",
    "    },\n",
    "    \"request_new_card\": {\n",
    "        \"keywords\": [\n",
    "            \"order new card\", \"replace my card\", \"new card\",\n",
    "            \"replacement\", \"get replacement\", \"physical card\"\n",
    "        ],\n",
    "        \"args\": [\"user_id\"],\n",
    "    },\n",
    "}"
   ]
  },
  {
   "cell_type": "code",
   "execution_count": 7,
   "id": "d44ad05c-4c57-4a33-95dd-8f67139ad2b9",
   "metadata": {},
   "outputs": [],
   "source": [
    "#Mock action handlers"
   ]
  },
  {
   "cell_type": "code",
   "execution_count": 20,
   "id": "f99caaa7-2cf2-44f2-b1b4-12f6db556326",
   "metadata": {},
   "outputs": [],
   "source": [
    "def report_card_lost(user_id: Optional[str] = None) -> Dict[str, Any]:\n",
    "    \"\"\"\n",
    "    Simulate reporting a lost card.\n",
    "    Args:\n",
    "        user_id (str, optional): ID of the user who lost the card.\n",
    "    Returns:\n",
    "        dict: result with ok flag, fake ticket_id, and user_id\n",
    "    \"\"\"\n",
    "    return {\"ok\": True, \"ticket_id\": \"T12345\", \"user_id\": user_id}"
   ]
  },
  {
   "cell_type": "code",
   "execution_count": 21,
   "id": "12410c65-4b39-45b0-a77e-6f69ab8e8420",
   "metadata": {},
   "outputs": [
    {
     "name": "stdout",
     "output_type": "stream",
     "text": [
      "Test report_card_lost:\n",
      "{'ok': True, 'ticket_id': 'T12345', 'user_id': 'U123'}\n"
     ]
    }
   ],
   "source": [
    "print(\"Test report_card_lost:\")\n",
    "print(report_card_lost(\"U123\"))"
   ]
  },
  {
   "cell_type": "code",
   "execution_count": 22,
   "id": "8b5dae62-c3ec-45b2-b59e-453786059f05",
   "metadata": {},
   "outputs": [],
   "source": [
    "def check_card_delivery(card_id: Optional[str] = None) -> Dict[str, Any]:\n",
    "    \"\"\"\n",
    "    Simulate checking the delivery status of a card.\n",
    "    Args:\n",
    "        card_id (str, optional): ID of the card being tracked.\n",
    "    Returns:\n",
    "        dict: result with ok flag, card_id, carrier, eta, and status\n",
    "    \"\"\"\n",
    "    return {\n",
    "        \"ok\": True,\n",
    "        \"card_id\": card_id,\n",
    "        \"carrier\": \"UPS\",\n",
    "        \"eta\": \"3-5 business days\",\n",
    "        \"last_update\": \"out for delivery\",\n",
    "    }"
   ]
  },
  {
   "cell_type": "code",
   "execution_count": 23,
   "id": "10388ed0-e6a4-4522-81fa-89ee557ee435",
   "metadata": {},
   "outputs": [
    {
     "name": "stdout",
     "output_type": "stream",
     "text": [
      "\n",
      "Test check_card_delivery:\n",
      "{'ok': True, 'card_id': 'C5555', 'carrier': 'UPS', 'eta': '3-5 business days', 'last_update': 'out for delivery'}\n"
     ]
    }
   ],
   "source": [
    "print(\"\\nTest check_card_delivery:\")\n",
    "print(check_card_delivery(\"C5555\"))"
   ]
  },
  {
   "cell_type": "code",
   "execution_count": 24,
   "id": "66fd77ae-3e88-4833-8a13-bf912d709065",
   "metadata": {},
   "outputs": [],
   "source": [
    "def request_new_card(user_id: Optional[str] = None) -> Dict[str, Any]:\n",
    "    \"\"\"\n",
    "    Simulate placing a new card order.\n",
    "    Args:\n",
    "        user_id (str, optional): ID of the user requesting a new card.\n",
    "    Returns:\n",
    "        dict: result with ok flag, fake order_id, and user_id\n",
    "    \"\"\"\n",
    "    return {\"ok\": True, \"order_id\": \"O98765\", \"user_id\": user_id}"
   ]
  },
  {
   "cell_type": "code",
   "execution_count": 25,
   "id": "909652e9-c899-4333-bfcc-6e9c298d764b",
   "metadata": {},
   "outputs": [
    {
     "name": "stdout",
     "output_type": "stream",
     "text": [
      "\n",
      "Test request_new_card:\n",
      "{'ok': True, 'order_id': 'O98765', 'user_id': 'U999'}\n"
     ]
    }
   ],
   "source": [
    "print(\"\\nTest request_new_card:\")\n",
    "print(request_new_card(\"U999\"))"
   ]
  },
  {
   "cell_type": "code",
   "execution_count": 27,
   "id": "0f3416c2-98a0-45e0-8d66-b673c49496d6",
   "metadata": {},
   "outputs": [
    {
     "data": {
      "text/plain": [
       "'\\n    Predict the intent of a given text based on keyword rules.\\n\\n    Args:\\n        text (str): User input message.\\n        rules (dict): Dictionary of intents. Each intent contains:\\n                      - \"keywords\": list of strings to match\\n                      - \"args\": list of required arguments (optional)\\n\\n    Returns:\\n        (intent, hits):\\n            - intent (str): name of the best-matching intent,\\n                            or \"nlu_fallback\" if no keywords matched\\n            - hits (int): how many keywords matched\\n'"
      ]
     },
     "execution_count": 27,
     "metadata": {},
     "output_type": "execute_result"
    }
   ],
   "source": [
    "#Intent detector (count hits only)\n",
    "\"\"\"\n",
    "    Predict the intent of a given text based on keyword rules.\n",
    "\n",
    "    Args:\n",
    "        text (str): User input message.\n",
    "        rules (dict): Dictionary of intents. Each intent contains:\n",
    "                      - \"keywords\": list of strings to match\n",
    "                      - \"args\": list of required arguments (optional)\n",
    "\n",
    "    Returns:\n",
    "        (intent, hits):\n",
    "            - intent (str): name of the best-matching intent,\n",
    "                            or \"nlu_fallback\" if no keywords matched\n",
    "            - hits (int): how many keywords matched\n",
    "\"\"\""
   ]
  },
  {
   "cell_type": "code",
   "execution_count": 28,
   "id": "1e28d3a9-3c56-4f45-9cc0-7cdbbc603950",
   "metadata": {},
   "outputs": [],
   "source": [
    "def predict_intent(text: str, rules: Dict[str, Dict]) -> Tuple[str, int]:\n",
    "\n",
    "    # Normalize text and pad with spaces for safe matching\n",
    "    t = \" \" + normalize_text(text) + \" \"\n",
    "\n",
    "    # Default = fallback intent (no matches)\n",
    "    best = (\"nlu_fallback\", 0)\n",
    "\n",
    "    # Loop through each intent and count keyword matches\n",
    "    for intent, cfg in rules.items():\n",
    "        hits = 0\n",
    "        for kw in cfg.get(\"keywords\", []):\n",
    "            # Normalize each keyword and check if it's in the text\n",
    "            if kw.strip() and (\" \" + normalize_text(kw) + \" \") in t:\n",
    "                hits += 1\n",
    "        # Keep the intent with the highest number of matches\n",
    "        if hits > best[1]:\n",
    "            best = (intent, hits)\n",
    "\n",
    "    return best\n"
   ]
  },
  {
   "cell_type": "code",
   "execution_count": 29,
   "id": "f8e5f8d3-9039-431c-9f35-c3f65588e09c",
   "metadata": {},
   "outputs": [
    {
     "name": "stdout",
     "output_type": "stream",
     "text": [
      "Input: I lost my card yesterday\n",
      " → Predicted intent: report_card_lost, keyword matches=1\n",
      "\n",
      "Input: Can you track my card delivery?\n",
      " → Predicted intent: check_card_delivery, keyword matches=2\n",
      "\n",
      "Input: Please order a new card for me\n",
      " → Predicted intent: request_new_card, keyword matches=1\n",
      "\n",
      "Input: When will my card be delivered?\n",
      " → Predicted intent: nlu_fallback, keyword matches=0\n",
      "\n",
      "Input: What is the weather today?\n",
      " → Predicted intent: nlu_fallback, keyword matches=0\n",
      "\n"
     ]
    }
   ],
   "source": [
    "# === Quick test for predict_intent ===\n",
    "\n",
    "# Example rules\n",
    "rules = {\n",
    "    \"report_card_lost\": {\n",
    "        \"keywords\": [\"lost my card\", \"card stolen\", \"card missing\", \"misplaced\"],\n",
    "    },\n",
    "    \"check_card_delivery\": {\n",
    "        \"keywords\": [\"track my card\", \"where is my card\", \"card not arrived\", \"delivery\"],\n",
    "    },\n",
    "    \"request_new_card\": {\n",
    "        \"keywords\": [\"order new card\", \"replace my card\", \"new card\", \"replacement\"],\n",
    "    },\n",
    "}\n",
    "\n",
    "# Example test sentences\n",
    "tests = [\n",
    "    \"I lost my card yesterday\",\n",
    "    \"Can you track my card delivery?\",\n",
    "    \"Please order a new card for me\",\n",
    "    \"When will my card be delivered?\",\n",
    "    \"What is the weather today?\"  # should fallback\n",
    "]\n",
    "\n",
    "# Run predictions\n",
    "for t in tests:\n",
    "    intent, hits = predict_intent(t, rules)\n",
    "    print(f\"Input: {t}\")\n",
    "    print(f\" → Predicted intent: {intent}, keyword matches={hits}\\n\")\n"
   ]
  },
  {
   "cell_type": "code",
   "execution_count": 11,
   "id": "bcdce265-2935-4dfb-a4f7-025c156f23d1",
   "metadata": {},
   "outputs": [],
   "source": [
    "#Routing helpers"
   ]
  },
  {
   "cell_type": "code",
   "execution_count": 30,
   "id": "144b26f3-ece4-42ae-97e0-4299e93463ca",
   "metadata": {},
   "outputs": [],
   "source": [
    "# Block 6: handler map + small helper for required args\n",
    "INTENT_TO_FUNC = {\n",
    "    \"report_card_lost\": report_card_lost,\n",
    "    \"check_card_delivery\": check_card_delivery,\n",
    "    \"request_new_card\": request_new_card,\n",
    "}\n",
    "\n",
    "def required_args_present(intent: str, need: List[str], user_id: Optional[str], card_id: Optional[str]) -> Tuple[bool, List[str]]:\n",
    "    bag = {\"user_id\": user_id, \"card_id\": card_id}\n",
    "    missing = [k for k in need if bag.get(k) is None]\n",
    "    return (len(missing) == 0, missing)"
   ]
  },
  {
   "cell_type": "code",
   "execution_count": 32,
   "id": "1a2c46dc-07e8-4630-8480-712c38c1c78f",
   "metadata": {},
   "outputs": [
    {
     "data": {
      "text/plain": [
       "'\\n    End-to-end pipeline for handling user requests.\\n\\n    Steps:\\n    1. Detect the intent of the input text using predict_intent().\\n    2. If no intent (hits < THRESHOLD), return fallback message.\\n    3. If intent is found, look up the matching handler function.\\n    4. Check if required arguments (user_id, card_id) are provided.\\n    5. If arguments are missing, ask the user to provide them.\\n    6. Otherwise, call the handler and return its result.\\n'"
      ]
     },
     "execution_count": 32,
     "metadata": {},
     "output_type": "execute_result"
    }
   ],
   "source": [
    "#Pipeline\n",
    "\"\"\"\n",
    "    End-to-end pipeline for handling user requests.\n",
    "\n",
    "    Steps:\n",
    "    1. Detect the intent of the input text using predict_intent().\n",
    "    2. If no intent (hits < THRESHOLD), return fallback message.\n",
    "    3. If intent is found, look up the matching handler function.\n",
    "    4. Check if required arguments (user_id, card_id) are provided.\n",
    "    5. If arguments are missing, ask the user to provide them.\n",
    "    6. Otherwise, call the handler and return its result.\n",
    "\"\"\""
   ]
  },
  {
   "cell_type": "code",
   "execution_count": 33,
   "id": "ee0aa723-0044-4296-847a-df28a6b07762",
   "metadata": {},
   "outputs": [],
   "source": [
    "# === run_pipeline — detect → fallback → call handler ===\n",
    "def run_pipeline(text: str, user_id: Optional[str] = None, card_id: Optional[str] = None) -> Dict[str, Any]:\n",
    "    # Step 1: detect intent\n",
    "    intent, hits = predict_intent(text, RULES)\n",
    "\n",
    "    # Step 2: handle fallback (low confidence)\n",
    "    if hits < THRESHOLD:\n",
    "        return {\n",
    "            \"message\": \"Sorry, I couldn't understand. Please rephrase.\",\n",
    "            \"intent\": \"nlu_fallback\",\n",
    "            \"hits\": hits,\n",
    "            \"called\": None,\n",
    "            \"result\": None,\n",
    "        }\n",
    "\n",
    "    # Step 3: find the handler function for the detected intent\n",
    "    fn = INTENT_TO_FUNC.get(intent)\n",
    "    if not fn:\n",
    "        return {\n",
    "            \"message\": f\"Detected intent '{intent}' but no handler is set.\",\n",
    "            \"intent\": intent,\n",
    "            \"hits\": hits,\n",
    "            \"called\": None,\n",
    "            \"result\": None,\n",
    "        }\n",
    "\n",
    "    # Step 4: check if required arguments are provided\n",
    "    need = RULES[intent].get(\"args\", [])\n",
    "    ok, missing = required_args_present(intent, need, user_id, card_id)\n",
    "    if not ok:\n",
    "        return {\n",
    "            \"message\": f\"Please provide your {', '.join(missing)}.\",\n",
    "            \"intent\": intent,\n",
    "            \"hits\": hits,\n",
    "            \"called\": None,\n",
    "            \"result\": None,\n",
    "        }\n",
    "\n",
    "    # Step 5: prepare kwargs and call the handler\n",
    "    kwargs = {}\n",
    "    if \"user_id\" in need:\n",
    "        kwargs[\"user_id\"] = user_id\n",
    "    if \"card_id\" in need:\n",
    "        kwargs[\"card_id\"] = card_id\n",
    "    res = fn(**kwargs)\n",
    "\n",
    "    # Step 6: return success response\n",
    "    return {\n",
    "        \"message\": f\"✅ {intent} done.\",\n",
    "        \"intent\": intent,\n",
    "        \"hits\": hits,\n",
    "        \"called\": fn.__name__,\n",
    "        \"result\": res,\n",
    "    }\n"
   ]
  },
  {
   "cell_type": "code",
   "execution_count": 34,
   "id": "faeb1dbf-234e-48cc-8165-c1e5e5614ab8",
   "metadata": {},
   "outputs": [],
   "source": [
    "#Tiny smoke test"
   ]
  },
  {
   "cell_type": "code",
   "execution_count": 36,
   "id": "7a545fd8-34cb-4c20-8116-303831ea30d5",
   "metadata": {},
   "outputs": [
    {
     "name": "stdout",
     "output_type": "stream",
     "text": [
      "I lost my card yesterday -> {'message': '✅ report_card_lost done.', 'intent': 'report_card_lost', 'hits': 2, 'called': 'report_card_lost', 'result': {'ok': True, 'ticket_id': 'T12345', 'user_id': 'U1'}}\n",
      "Where is my card? It hasn't arrived. -> {'message': '✅ check_card_delivery done.', 'intent': 'check_card_delivery', 'hits': 1, 'called': 'check_card_delivery', 'result': {'ok': True, 'card_id': 'C1', 'carrier': 'UPS', 'eta': '3-5 business days', 'last_update': 'out for delivery'}}\n",
      "Please order a new card -> {'message': '✅ request_new_card done.', 'intent': 'request_new_card', 'hits': 1, 'called': 'request_new_card', 'result': {'ok': True, 'order_id': 'O98765', 'user_id': 'U2'}}\n",
      "My card went missing last night -> {'message': \"Sorry, I couldn't understand. Please rephrase.\", 'intent': 'nlu_fallback', 'hits': 0, 'called': None, 'result': None}\n",
      "When will my card be delivered? -> {'message': '✅ check_card_delivery done.', 'intent': 'check_card_delivery', 'hits': 1, 'called': 'check_card_delivery', 'result': {'ok': True, 'card_id': 'C2', 'carrier': 'UPS', 'eta': '3-5 business days', 'last_update': 'out for delivery'}}\n",
      "Hello, can you help me? -> {'message': \"Sorry, I couldn't understand. Please rephrase.\", 'intent': 'nlu_fallback', 'hits': 0, 'called': None, 'result': None}\n"
     ]
    }
   ],
   "source": [
    "tests = [\n",
    "    {\"text\": \"I lost my card yesterday\", \"user_id\": \"U1\"},               # lost card\n",
    "    {\"text\": \"Where is my card? It hasn't arrived.\", \"card_id\": \"C1\"},   # delivery check\n",
    "    {\"text\": \"Please order a new card\", \"user_id\": \"U2\"},                # new card request\n",
    "    {\"text\": \"My card went missing last night\", \"user_id\": \"U3\"},        # lost card (alt phrasing)\n",
    "    {\"text\": \"When will my card be delivered?\", \"card_id\": \"C2\"},        # delivery check (alt phrasing)\n",
    "    {\"text\": \"Hello, can you help me?\"},                                 # fallback expected\n",
    "]\n",
    "\n",
    "for t in tests:\n",
    "    out = run_pipeline(t[\"text\"], user_id=t.get(\"user_id\"), card_id=t.get(\"card_id\"))\n",
    "    print(t[\"text\"], \"->\", out)"
   ]
  },
  {
   "cell_type": "code",
   "execution_count": null,
   "id": "a6853610-4868-4bcc-a2e5-3d650a84c438",
   "metadata": {},
   "outputs": [],
   "source": []
  }
 ],
 "metadata": {
  "kernelspec": {
   "display_name": "Python (nlp_env)",
   "language": "python",
   "name": "nlp_env"
  },
  "language_info": {
   "codemirror_mode": {
    "name": "ipython",
    "version": 3
   },
   "file_extension": ".py",
   "mimetype": "text/x-python",
   "name": "python",
   "nbconvert_exporter": "python",
   "pygments_lexer": "ipython3",
   "version": "3.10.12"
  }
 },
 "nbformat": 4,
 "nbformat_minor": 5
}
