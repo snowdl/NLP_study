{
 "cells": [
  {
   "cell_type": "code",
   "execution_count": 3,
   "id": "647bb2aa-7d3a-4310-b1ff-093317dc0aef",
   "metadata": {},
   "outputs": [
    {
     "ename": "ModuleNotFoundError",
     "evalue": "No module named 'openai'",
     "output_type": "error",
     "traceback": [
      "\u001b[0;31m---------------------------------------------------------------------------\u001b[0m",
      "\u001b[0;31mModuleNotFoundError\u001b[0m                       Traceback (most recent call last)",
      "Cell \u001b[0;32mIn[3], line 1\u001b[0m\n\u001b[0;32m----> 1\u001b[0m \u001b[38;5;28;01mfrom\u001b[39;00m\u001b[38;5;250m \u001b[39m\u001b[38;5;21;01mopenai\u001b[39;00m\u001b[38;5;250m \u001b[39m\u001b[38;5;28;01mimport\u001b[39;00m OpenAI\n\u001b[1;32m      3\u001b[0m client \u001b[38;5;241m=\u001b[39m OpenAI()\n\u001b[1;32m      4\u001b[0m user_question \u001b[38;5;241m=\u001b[39m \u001b[38;5;124m\"\u001b[39m\u001b[38;5;124mWhat is the capital of Canada?\u001b[39m\u001b[38;5;124m\"\u001b[39m\n",
      "\u001b[0;31mModuleNotFoundError\u001b[0m: No module named 'openai'"
     ]
    }
   ],
   "source": [
    "from openai import OpenAI\n",
    "\n",
    "client = OpenAI()\n",
    "user_question = \"What is the capital of Canada?\""
   ]
  },
  {
   "cell_type": "code",
   "execution_count": 4,
   "id": "bee82806-41c8-4487-8d02-5e1974be423f",
   "metadata": {},
   "outputs": [
    {
     "ename": "ModuleNotFoundError",
     "evalue": "No module named 'openai'",
     "output_type": "error",
     "traceback": [
      "\u001b[0;31m---------------------------------------------------------------------------\u001b[0m",
      "\u001b[0;31mModuleNotFoundError\u001b[0m                       Traceback (most recent call last)",
      "Cell \u001b[0;32mIn[4], line 1\u001b[0m\n\u001b[0;32m----> 1\u001b[0m \u001b[38;5;28;01mfrom\u001b[39;00m\u001b[38;5;250m \u001b[39m\u001b[38;5;21;01mopenai\u001b[39;00m\u001b[38;5;250m \u001b[39m\u001b[38;5;28;01mimport\u001b[39;00m OpenAI\n\u001b[1;32m      3\u001b[0m client \u001b[38;5;241m=\u001b[39m OpenAI()\n\u001b[1;32m      5\u001b[0m \u001b[38;5;66;03m# 1️⃣ 사용자 질문\u001b[39;00m\n",
      "\u001b[0;31mModuleNotFoundError\u001b[0m: No module named 'openai'"
     ]
    }
   ],
   "source": [
    "from openai import OpenAI\n",
    "\n",
    "client = OpenAI()\n",
    "\n",
    "# 1️⃣ 사용자 질문\n",
    "user_question = \"What is the capital of Canada?\"\n",
    "\n",
    "# 2️⃣ 1차 답변 생성\n",
    "response_1 = client.chat.completions.create(\n",
    "    model=\"gpt-4o-mini\",\n",
    "    messages=[\n",
    "        {\"role\": \"system\", \"content\": \"You are a helpful assistant.\"},\n",
    "        {\"role\": \"user\", \"content\": user_question}\n",
    "    ]\n",
    ")\n",
    "first_answer = response_1.choices[0].message.content\n",
    "print(\"First Answer:\", first_answer)\n",
    "\n",
    "\n",
    "# 3️⃣ 평가 단계\n",
    "# 모델에게 \"내 답변이 맞는지/부족한지\" 스스로 평가시킴\n",
    "evaluation_prompt = f\"\"\"\n",
    "You gave this answer: \"{first_answer}\"\n",
    "\n",
    "Task:\n",
    "1. Judge if the answer is factually correct and complete.\n",
    "2. If it is wrong or incomplete, explain why.\n",
    "3. Provide a corrected or improved version.\n",
    "\"\"\"\n",
    "eval_response = client.chat.completions.create(\n",
    "    model=\"gpt-4o-mini\",\n",
    "    messages=[\n",
    "        {\"role\": \"system\", \"content\": \"You are a critical evaluator of answers.\"},\n",
    "        {\"role\": \"user\", \"content\": evaluation_prompt}\n",
    "    ]\n",
    ")\n",
    "evaluation = eval_response.choices[0].message.content\n",
    "print(\"Evaluation + Feedback:\", evaluation)\n",
    "\n",
    "\n",
    "# 4️⃣ 개선 단계\n",
    "# 위 평가 내용을 바탕으로 '최종 개선 답변'을 다시 요청\n",
    "improvement_prompt = f\"\"\"\n",
    "Original Question: \"{user_question}\"\n",
    "First Answer: \"{first_answer}\"\n",
    "Evaluator Feedback: \"{evaluation}\"\n",
    "\n",
    "Now, please provide the final improved answer,\n",
    "incorporating the evaluator's feedback.\n",
    "\"\"\"\n",
    "improved_response = client.chat.completions.create(\n",
    "    model=\"gpt-4o-mini\",\n",
    "    messages=[\n",
    "        {\"role\": \"system\", \"content\": \"You are a self-improving assistant.\"},\n",
    "        {\"role\": \"user\", \"content\": improvement_prompt}\n",
    "    ]\n",
    ")\n",
    "final_answer = improved_response.choices[0].message.content\n",
    "print(\"Final Improved Answer:\", final_answer)\n"
   ]
  },
  {
   "cell_type": "code",
   "execution_count": null,
   "id": "0c817b29-8b08-4548-b509-aef410cdc0a4",
   "metadata": {},
   "outputs": [],
   "source": []
  }
 ],
 "metadata": {
  "kernelspec": {
   "display_name": "Python (nlp_env)",
   "language": "python",
   "name": "nlp_env"
  },
  "language_info": {
   "codemirror_mode": {
    "name": "ipython",
    "version": 3
   },
   "file_extension": ".py",
   "mimetype": "text/x-python",
   "name": "python",
   "nbconvert_exporter": "python",
   "pygments_lexer": "ipython3",
   "version": "3.10.12"
  }
 },
 "nbformat": 4,
 "nbformat_minor": 5
}
