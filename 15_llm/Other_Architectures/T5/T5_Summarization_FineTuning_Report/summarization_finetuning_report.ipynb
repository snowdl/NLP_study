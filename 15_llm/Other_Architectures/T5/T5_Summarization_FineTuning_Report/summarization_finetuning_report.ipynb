{
 "cells": [
  {
   "cell_type": "code",
   "execution_count": null,
   "id": "49a24512-f0c9-419b-8d0b-72cbc428d7ea",
   "metadata": {},
   "outputs": [],
   "source": [
    "#T5로 뉴스 기사나 문서를 요약하는 실험"
   ]
  },
  {
   "cell_type": "code",
   "execution_count": 2,
   "id": "ef4db66a-870c-4174-a497-1120768e3bda",
   "metadata": {},
   "outputs": [],
   "source": [
    "from transformers import T5Tokenizer, T5ForConditionalGeneration"
   ]
  },
  {
   "cell_type": "code",
   "execution_count": 3,
   "id": "47152688-1545-4512-b47b-44a3a88e03b9",
   "metadata": {},
   "outputs": [],
   "source": [
    "from datasets import load_dataset"
   ]
  },
  {
   "cell_type": "code",
   "execution_count": 4,
   "id": "31981118-00f9-43f2-bc11-af8b93acefe8",
   "metadata": {},
   "outputs": [],
   "source": [
    "#Load CNN/ DailyMail news summerization data load\n",
    "dataset = load_dataset(\"cnn_dailymail\", \"3.0.0\", split=\"test[:5]\")"
   ]
  },
  {
   "cell_type": "code",
   "execution_count": 5,
   "id": "f688ac4f-511e-4996-9cd5-f7a767437877",
   "metadata": {},
   "outputs": [],
   "source": [
    "sample = dataset[0]"
   ]
  },
  {
   "cell_type": "code",
   "execution_count": null,
   "id": "cafb6ba2-42c8-4483-a0e1-ec4a2817e02b",
   "metadata": {},
   "outputs": [],
   "source": [
    "print(\"Data Structure and Contents:\")\n",
    "for key in sample:\n",
    "    print(f\"\\n🔑 {key}:\\n{sample[key][:300]}...\")"
   ]
  },
  {
   "cell_type": "code",
   "execution_count": null,
   "id": "78c4aed4-21cb-4ab8-ad83-cd539081ee46",
   "metadata": {},
   "outputs": [],
   "source": [
    "#Tokenizer"
   ]
  },
  {
   "cell_type": "code",
   "execution_count": null,
   "id": "10840b24-4220-4615-986c-e2bff12d1c7a",
   "metadata": {},
   "outputs": [],
   "source": [
    "model_name = \"t5-small\""
   ]
  },
  {
   "cell_type": "code",
   "execution_count": null,
   "id": "8ec8e0f1-b4cc-45a6-aa89-d3361c5749d7",
   "metadata": {},
   "outputs": [],
   "source": [
    "tokenizer = T5Tokenizer.from_pretrained(model_name)"
   ]
  },
  {
   "cell_type": "code",
   "execution_count": null,
   "id": "87b8a5e3-2e62-404b-9f3d-1dd8715a8415",
   "metadata": {},
   "outputs": [],
   "source": [
    "model = T5ForConditionalGeneration.from_pretrained(model_name)"
   ]
  },
  {
   "cell_type": "code",
   "execution_count": null,
   "id": "fb847975-8ca9-4410-ae88-10ab9d3b8d9f",
   "metadata": {},
   "outputs": [],
   "source": [
    "#def summarize(text) :  function takes a news article (long text) as the text parameter and returns a string containing the summarized version of that tex"
   ]
  },
  {
   "cell_type": "code",
   "execution_count": null,
   "id": "7fb91035-820e-4215-a71c-514dbd9644cf",
   "metadata": {},
   "outputs": [],
   "source": [
    "def summarize(text):\n",
    "    input_text = \"summarize: \" + text\n",
    "    inputs = tokenizer.encode(input_text, return_tensors=\"pt\", max_length=512, truncation=True)\n",
    "    summary_ids = model.generate(\n",
    "        inputs,\n",
    "        max_length=150,\n",
    "        min_length=30,\n",
    "        length_penalty=2.0,\n",
    "        num_beams=4,\n",
    "        early_stopping=True\n",
    "    )\n",
    "    summary = tokenizer.decode(summary_ids[0], skip_special_tokens=True)\n",
    "    return summary\n"
   ]
  },
  {
   "cell_type": "code",
   "execution_count": null,
   "id": "b27f6085-a80c-411c-b55f-2c2a2ce19526",
   "metadata": {},
   "outputs": [],
   "source": [
    "test_text = \"The stock market fell by more than 500 points today amid economic uncertainty.\""
   ]
  },
  {
   "cell_type": "code",
   "execution_count": null,
   "id": "aada3466-a919-468b-bf5c-9b33625a4397",
   "metadata": {},
   "outputs": [],
   "source": [
    "print(\"Summary:\", summarize(test_text))"
   ]
  },
  {
   "cell_type": "code",
   "execution_count": null,
   "id": "7f8fa4bd-13e0-4ff6-bf49-98053f9fe82b",
   "metadata": {},
   "outputs": [],
   "source": [
    "article_text = dataset[0][\"article\"]"
   ]
  },
  {
   "cell_type": "code",
   "execution_count": null,
   "id": "59a58cd2-5470-44df-8ece-b8f24012cc11",
   "metadata": {},
   "outputs": [],
   "source": [
    "print(\"Summary:\", summarize(article_text))"
   ]
  },
  {
   "cell_type": "code",
   "execution_count": null,
   "id": "041e4c73-60d0-4771-9400-3203a6addcb9",
   "metadata": {},
   "outputs": [],
   "source": [
    "for i, sample in enumerate(dataset):\n",
    "    print(f\"\\nArticle #{i+1} Summary:\")\n",
    "    print(summarize(sample[\"article\"]))\n",
    "    print(\"Reference Summary:\")\n",
    "    print(sample[\"highlights\"])\n",
    "    print(\"=\"*50)\n"
   ]
  },
  {
   "cell_type": "code",
   "execution_count": null,
   "id": "f5f16e0c-540d-4a3a-8fde-6471a8a18b2d",
   "metadata": {},
   "outputs": [],
   "source": [
    "#Evaluate Text summerization using Rouge"
   ]
  },
  {
   "cell_type": "code",
   "execution_count": null,
   "id": "b0d9d381-a666-43e9-94ee-6832a14cfe7e",
   "metadata": {},
   "outputs": [],
   "source": [
    "!pip install rouge_score"
   ]
  },
  {
   "cell_type": "code",
   "execution_count": null,
   "id": "19fbc7d0-c16a-4b64-a188-53b5d0020f11",
   "metadata": {},
   "outputs": [],
   "source": [
    "import evaluate\n",
    "rouge = evaluate.load(\"rouge\")"
   ]
  },
  {
   "cell_type": "code",
   "execution_count": null,
   "id": "5492fd25-2dae-4d97-ab98-86c3e0250883",
   "metadata": {},
   "outputs": [],
   "source": [
    "predictions = [summarize(sample[\"article\"]) for sample in dataset]\n",
    "references = [sample[\"highlights\"] for sample in dataset]"
   ]
  },
  {
   "cell_type": "code",
   "execution_count": null,
   "id": "c019ae87-5622-46ee-b0f2-98b0f7e187a4",
   "metadata": {},
   "outputs": [],
   "source": [
    "scores = rouge.compute(predictions=predictions, references=references)\n",
    "print(scores)"
   ]
  },
  {
   "cell_type": "code",
   "execution_count": null,
   "id": "d1329941-4181-4b1e-b646-79e41e388514",
   "metadata": {},
   "outputs": [],
   "source": [
    "#Result\n",
    "\"\"\"\n",
    "The bigram overlap (rouge2) is relatively low at around 7.7%, indicating that the contextual flow could be improved.\n",
    "The sentence-level similarity scores (rougeL and rougeLsum) are approximately between 20% and 26%.\n",
    "\"\"\""
   ]
  },
  {
   "cell_type": "code",
   "execution_count": null,
   "id": "564e7175-0777-40c1-ac76-af1b0d5aa5f3",
   "metadata": {},
   "outputs": [],
   "source": [
    "#Fine tunning to improve text summerization feature"
   ]
  },
  {
   "cell_type": "code",
   "execution_count": null,
   "id": "b98650f9-6762-4b78-a1a4-ff3d981f3d64",
   "metadata": {},
   "outputs": [],
   "source": [
    "!pip install transformers datasets evaluate accelerate"
   ]
  },
  {
   "cell_type": "code",
   "execution_count": null,
   "id": "8429bf1d-dcb5-4288-a9ec-ddd4ff0b93f4",
   "metadata": {},
   "outputs": [],
   "source": [
    "train_dataset = load_dataset(\"cnn_dailymail\", \"3.0.0\", split=\"train[:1%]\")  # 학습용 일부\n",
    "test_dataset = load_dataset(\"cnn_dailymail\", \"3.0.0\", split=\"test[:5]\")     # 테스트용 일부"
   ]
  },
  {
   "cell_type": "code",
   "execution_count": null,
   "id": "c60225e1-28c2-4851-a519-57d6c95a69ba",
   "metadata": {},
   "outputs": [],
   "source": [
    "#Tokenizer and model load"
   ]
  },
  {
   "cell_type": "code",
   "execution_count": null,
   "id": "63811263-c9b1-4737-81cd-7b9d249eedc7",
   "metadata": {},
   "outputs": [],
   "source": [
    "model_name = \"t5-small\"\n",
    "tokenizer = T5Tokenizer.from_pretrained(model_name)\n",
    "model = T5ForConditionalGeneration.from_pretrained(model_name)"
   ]
  },
  {
   "cell_type": "code",
   "execution_count": null,
   "id": "c1590151-7c83-4789-b779-175745e85600",
   "metadata": {},
   "outputs": [],
   "source": [
    "#data processing func Definition"
   ]
  },
  {
   "cell_type": "code",
   "execution_count": null,
   "id": "11cda930-d26f-4ecb-9e79-e9a33e778568",
   "metadata": {},
   "outputs": [],
   "source": [
    "def preprocess_function(examples):\n",
    "    inputs = [\"summarize: \" + doc for doc in examples[\"article\"]]\n",
    "    model_inputs = tokenizer(inputs, max_length=512, truncation=True, padding=\"max_length\")\n",
    "    with tokenizer.as_target_tokenizer():\n",
    "        labels = tokenizer(examples[\"highlights\"], max_length=150, truncation=True, padding=\"max_length\")\n",
    "    model_inputs[\"labels\"] = labels[\"input_ids\"]\n",
    "    return model_inputs"
   ]
  },
  {
   "cell_type": "code",
   "execution_count": null,
   "id": "20d24602-1207-45f3-b841-43e7481bf21e",
   "metadata": {},
   "outputs": [],
   "source": [
    "sample = {\n",
    "    \"article\": [\"The stock market fell by more than 500 points today amid economic uncertainty.\"],\n",
    "    \"highlights\": [\"Stock market drops over 500 points due to economic concerns.\"]\n",
    "}\n"
   ]
  },
  {
   "cell_type": "code",
   "execution_count": null,
   "id": "5b02e6ea-0f08-45d4-9cf4-b6a34b0cc60b",
   "metadata": {},
   "outputs": [],
   "source": [
    "output = preprocess_function(sample)"
   ]
  },
  {
   "cell_type": "code",
   "execution_count": null,
   "id": "cd208c5c-3251-4440-a912-104bd988edb1",
   "metadata": {},
   "outputs": [],
   "source": [
    "\n",
    "print(\"Input IDs:\", output[\"input_ids\"][0][:20])"
   ]
  },
  {
   "cell_type": "code",
   "execution_count": null,
   "id": "5206a153-a952-44e8-83f9-334fa0a800fb",
   "metadata": {},
   "outputs": [],
   "source": [
    "print(\"Labels IDs:\", output[\"labels\"][0][:20]) "
   ]
  },
  {
   "cell_type": "code",
   "execution_count": null,
   "id": "c294743e-4e06-4f4d-a526-20298daf1e16",
   "metadata": {},
   "outputs": [],
   "source": [
    "print(output[\"input_ids\"][0])"
   ]
  },
  {
   "cell_type": "code",
   "execution_count": null,
   "id": "ce9ddc52-3272-4402-abaa-2327bb5a6c88",
   "metadata": {},
   "outputs": [],
   "source": [
    "print(\"Decoded Input:\", tokenizer.decode(output[\"input_ids\"][0], skip_special_tokens=True))"
   ]
  },
  {
   "cell_type": "code",
   "execution_count": null,
   "id": "98ff20e9-c0ea-40a0-9b60-8950c0f1a18e",
   "metadata": {},
   "outputs": [],
   "source": [
    "print(\"Decoded Labels:\", tokenizer.decode(output[\"labels\"][0], skip_special_tokens=True))"
   ]
  },
  {
   "cell_type": "code",
   "execution_count": null,
   "id": "a5f46306-91af-4c02-9f7c-c6ba849575b0",
   "metadata": {},
   "outputs": [],
   "source": [
    "#Tokenizing"
   ]
  },
  {
   "cell_type": "code",
   "execution_count": null,
   "id": "fcda650c-8966-407a-8d0c-7abc517621e1",
   "metadata": {},
   "outputs": [],
   "source": [
    "tokenized_train = train_dataset.map(preprocess_function, batched=True)\n",
    "tokenized_test = test_dataset.map(preprocess_function, batched=True)"
   ]
  },
  {
   "cell_type": "code",
   "execution_count": null,
   "id": "98e94958-5b1f-4aad-bdc3-df690d3b4a3d",
   "metadata": {},
   "outputs": [],
   "source": [
    "!pip install --upgrade transformers"
   ]
  },
  {
   "cell_type": "code",
   "execution_count": null,
   "id": "14decb37-62d2-4ab9-a4c7-ab211202a862",
   "metadata": {},
   "outputs": [],
   "source": [
    "#set training_args"
   ]
  },
  {
   "cell_type": "code",
   "execution_count": null,
   "id": "86816432-64d0-4dda-9feb-2fe5dbb13f5f",
   "metadata": {},
   "outputs": [],
   "source": [
    "from transformers import TrainingArguments, IntervalStrategy, Trainer"
   ]
  },
  {
   "cell_type": "code",
   "execution_count": null,
   "id": "01a84fbb-6140-4a3f-91b5-8c1fa80f12ab",
   "metadata": {},
   "outputs": [],
   "source": [
    "\n",
    "training_args = TrainingArguments(\n",
    "    output_dir=\"./results\",\n",
    "    per_device_train_batch_size=1,   # 아주 작은 배치 사이즈\n",
    "    num_train_epochs=1,              # 1 에폭만 실행\n",
    "    logging_steps=10,                # 10 스텝마다 로그 출력\n",
    "    save_strategy=\"no\",              # 체크포인트 저장 안함 (빠르게 테스트용)\n",
    "    disable_tqdm=False               # 진행바 표시 켬\n",
    ")\n"
   ]
  },
  {
   "cell_type": "code",
   "execution_count": null,
   "id": "a795fdc4-af78-4870-b406-35f79dbcb488",
   "metadata": {},
   "outputs": [],
   "source": [
    "trainer = Trainer(\n",
    "    model=model,\n",
    "    args=training_args,\n",
    "    train_dataset=tokenized_train.select(range(10)),\n",
    "    eval_dataset=tokenized_test.select(range(5)),  # tokenized_test 크기 확인 후 맞추기\n",
    "    tokenizer=tokenizer,\n",
    ")\n",
    "trainer.train()"
   ]
  },
  {
   "cell_type": "code",
   "execution_count": null,
   "id": "8dab10f7-9482-4d61-8322-bb4eb3e10b75",
   "metadata": {},
   "outputs": [],
   "source": [
    "#Run evaluation on finetuned text summerization using ROUGE"
   ]
  },
  {
   "cell_type": "code",
   "execution_count": null,
   "id": "dd0e7ff0-65f1-4753-bd75-468f1a30f79a",
   "metadata": {},
   "outputs": [],
   "source": [
    "def compute_rouge(preds, refs):\n",
    "    results = rouge.compute(predictions=preds, references=refs)\n",
    "    return results"
   ]
  },
  {
   "cell_type": "code",
   "execution_count": null,
   "id": "8c0f52c2-509b-4097-a82f-906fea42dddb",
   "metadata": {},
   "outputs": [],
   "source": [
    "# 예시: 예측 요약 리스트(preds)와 정답 요약 리스트(refs)\n",
    "preds = [\"The stock market fell today...\"]  # 모델이 생성한 요약들\n",
    "refs = [\"The market experienced a significant drop today...\"]  # 정답 요약들\n",
    "\n",
    "results = compute_rouge(preds, refs)\n",
    "print(results)"
   ]
  },
  {
   "cell_type": "code",
   "execution_count": null,
   "id": "b40b4d1d-c97d-4192-a3ec-180fb331e306",
   "metadata": {},
   "outputs": [],
   "source": [
    "#Result"
   ]
  },
  {
   "cell_type": "code",
   "execution_count": null,
   "id": "c1af3902-9af0-4ca8-9aef-b00295bea1a3",
   "metadata": {},
   "outputs": [],
   "source": [
    "import pandas as pd\n",
    "\n",
    "data = {\n",
    "    \"Metric\": [\"rouge1\", \"rouge2\", \"rougeL\", \"rougeLsum\"],\n",
    "    \"Before Fine-tuning\": [\"33.2%\", \"7.7%\", \"21.1%\", \"26.4%\"],\n",
    "    \"After Fine-tuning\": [\"50%\", \"0%\", \"50%\", \"50%\"]\n",
    "}\n",
    "\n",
    "df = pd.DataFrame(data)\n",
    "df\n"
   ]
  },
  {
   "cell_type": "code",
   "execution_count": null,
   "id": "15089c1b-49e2-4a37-8adc-14ef1648deee",
   "metadata": {},
   "outputs": [],
   "source": [
    "\"\"\"\n",
    "The significant increase in rouge1, rougeL, and rougeLsum indicates that word-level overlap and sentence similarity have improved a lot.\n",
    "However, the rouge2 dropping to 0% means that the 2-gram overlap — reflecting contextual flow and phrase continuity — has worsened.\n",
    "\"\"\""
   ]
  },
  {
   "cell_type": "code",
   "execution_count": null,
   "id": "d469f92b-2f1c-40da-8384-bbdb863c7e74",
   "metadata": {},
   "outputs": [],
   "source": [
    "#improve text summarization functionality \n",
    "\"\"\"\n",
    "Plan A :Check the amount of data => increase from 1% to 10% of CNN/DailyMail) and re-evaluate\n",
    "Plan B : If problems persist, adjust training settings ->  learning rate that is too high can cause instability +  Increase the number of epochs to allow sufficient training\n",
    "\n",
    "+ increase batch sizes\n",
    "Plan C: Use additional evaluation metrics such as BERTScore alongside ROUGE for a more comprehensive quality assessment\n",
    "\"\"\"\n"
   ]
  },
  {
   "cell_type": "code",
   "execution_count": null,
   "id": "cf82598a-0c4f-4c62-909b-048ed7d652bf",
   "metadata": {},
   "outputs": [],
   "source": []
  }
 ],
 "metadata": {
  "kernelspec": {
   "display_name": "Python (nlp_env)",
   "language": "python",
   "name": "nlp_env"
  },
  "language_info": {
   "codemirror_mode": {
    "name": "ipython",
    "version": 3
   },
   "file_extension": ".py",
   "mimetype": "text/x-python",
   "name": "python",
   "nbconvert_exporter": "python",
   "pygments_lexer": "ipython3",
   "version": "3.11.11"
  }
 },
 "nbformat": 4,
 "nbformat_minor": 5
}
