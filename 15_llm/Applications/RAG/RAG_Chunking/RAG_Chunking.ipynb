{
 "cells": [
  {
   "cell_type": "code",
   "execution_count": 54,
   "id": "d34b344e-e96e-4031-ac5f-c63de2581acd",
   "metadata": {},
   "outputs": [
    {
     "data": {
      "text/plain": [
       "'\\nBuild chunks with different sizes (e.g., 256/512/1024 tokens [approx words]).\\n- Compare retrieval performance across chunk sizes.\\n- Try Fusion Retriever: BM25 + Embedding (late fusion with weighted sum).\\n'"
      ]
     },
     "execution_count": 54,
     "metadata": {},
     "output_type": "execute_result"
    }
   ],
   "source": [
    "\"\"\"\n",
    "Build chunks with different sizes (e.g., 256/512/1024 tokens [approx words]).\n",
    "- Compare retrieval performance across chunk sizes.\n",
    "- Try Fusion Retriever: BM25 + Embedding (late fusion with weighted sum).\n",
    "\"\"\""
   ]
  },
  {
   "cell_type": "code",
   "execution_count": 22,
   "id": "4d6709d6-365f-4ecd-b288-26a972225bc1",
   "metadata": {},
   "outputs": [],
   "source": [
    "import os\n",
    "os.environ[\"TRANSFORMERS_NO_TF\"]=\"1\"\n",
    "os.environ[\"TRANSFORMERS_NO_FLAX\"]=\"1\""
   ]
  },
  {
   "cell_type": "code",
   "execution_count": 23,
   "id": "ef71e491-91a9-4f26-b5ea-6f3541f470b5",
   "metadata": {},
   "outputs": [],
   "source": [
    "from pathlib import Path\n",
    "import shutil, os"
   ]
  },
  {
   "cell_type": "code",
   "execution_count": 55,
   "id": "f9da753a-3ce3-4b2f-a867-2d610b882c45",
   "metadata": {},
   "outputs": [],
   "source": [
    "# 1) set your file path (absolute path is safest)"
   ]
  },
  {
   "cell_type": "code",
   "execution_count": 74,
   "id": "d6e048d9-2dc7-42b0-868a-5965a3d1e1d2",
   "metadata": {},
   "outputs": [],
   "source": [
    "#get current working directory\n",
    "root = Path.cwd()\n",
    "# set the source file using relative path (go 2 levels up, then into 11_data)\n",
    "src = Path(\"../../../11_data/01 Harry Potter and the Sorcerers Stone.txt\")\n",
    "#make a \"corpus\" folder inside current working directory\n",
    "corpus_dir = root / \"corpus\"\n",
    "corpus_dir.mkdir(exist_ok=True, parents=True)"
   ]
  },
  {
   "cell_type": "code",
   "execution_count": 75,
   "id": "99e84b97-8ae1-4aab-a9bd-b83435458f06",
   "metadata": {},
   "outputs": [
    {
     "data": {
      "text/plain": [
       "(PosixPath('/Users/jessicahong/gitclone/NLP_study/15_llm/Applications/RAG/corpus/01 Harry Potter and the Sorcerers Stone.txt'),\n",
       " ['01 Harry Potter and the Sorcerers Stone.txt'])"
      ]
     },
     "execution_count": 75,
     "metadata": {},
     "output_type": "execute_result"
    }
   ],
   "source": [
    "#check the source file really exists, stop if nots\n",
    "assert src.exists(), f\"File not found: {src}\"\n",
    "\n",
    "\n",
    "# copy the file into the corpus folder (only if not already copied)\n",
    "dst = corpus_dir / src.name\n",
    "if not dst.exists():\n",
    "    shutil.copy2(src, dst)\n",
    "dst, list(p.name for p in corpus_dir.glob(\"*\"))"
   ]
  },
  {
   "cell_type": "code",
   "execution_count": 77,
   "id": "e61b42a7-4c1b-4bb8-b919-46d88090c239",
   "metadata": {},
   "outputs": [
    {
     "name": "stdout",
     "output_type": "stream",
     "text": [
      "True ../../../11_data/01 Harry Potter and the Sorcerers Stone.txt\n"
     ]
    }
   ],
   "source": [
    "# 3) simple loader for utf-8 txt files\n",
    "def load_txt(path: Path) -> str:\n",
    "    \"\"\"Read a UTF-8 text file and return as a string\"\"\"\n",
    "    return path.read_text(encoding=\"utf-8\", errors=\"ignore\")\n",
    "\n",
    "# check again that the file exists (optional, for debugging)\n",
    "print(src.exists(), src)"
   ]
  },
  {
   "cell_type": "code",
   "execution_count": 78,
   "id": "b989f963-d326-4391-8d07-82420c99ecca",
   "metadata": {},
   "outputs": [
    {
     "name": "stdout",
     "output_type": "stream",
     "text": [
      "num chars: 439478\n",
      "\n",
      "=== preview (first 600 chars) ===\n",
      " M r. and Mrs. Dursley, of number four, Privet Drive, were proud to say that they were perfectly normal, thank you very much. They were the last people you’d expect to be involved in anything strange or mysterious, because they just didn’t hold with such nonsense.\n",
      "\n",
      "Mr. Dursley was the director of a firm called Grunnings, which made drills. He was a big, beefy man with hardly any neck, although he did have a very large mustache. Mrs. Dursley was thin and blonde and had nearly twice the usual amount of neck, which came in very useful as she spent so much of her time craning over garden fences, sp\n"
     ]
    }
   ],
   "source": [
    "# 4) actually read the text into memory\n",
    "text = load_txt(src)\n",
    "\n",
    "# show number of characters and preview\n",
    "print(\"num chars:\", len(text))\n",
    "print(\"\\n=== preview (first 600 chars) ===\\n\", text[:600])\n"
   ]
  },
  {
   "cell_type": "code",
   "execution_count": 79,
   "id": "64f3f55f-274d-45bd-a3c7-db633fa79f4a",
   "metadata": {},
   "outputs": [],
   "source": [
    "# --- Clean up the raw text ---\n",
    "\n",
    "import re, unicodedata\n",
    "\n",
    "def normalize_text(t: str) -> str:\n",
    "    # 1) normalize unicode (e.g., full-width to normal width)\n",
    "    t = unicodedata.normalize(\"NFKC\", t)\n",
    "\n",
    "    # 2) replace multiple spaces or tabs with a single space\n",
    "    t = re.sub(r\"[ \\t]+\", \" \", t)\n",
    "\n",
    "    # 3) if there are 3 or more newlines, shrink to just 2 newlines\n",
    "    t = re.sub(r\"\\n{3,}\", \"\\n\\n\", t)\n",
    "\n",
    "    # 4) remove extra spaces at start and end\n",
    "    return t.strip()\n",
    "\n",
    "# apply the cleaning function\n",
    "text = normalize_text(text)"
   ]
  },
  {
   "cell_type": "code",
   "execution_count": 81,
   "id": "873e3663-48e9-46e3-b1c0-17ecbcb11640",
   "metadata": {},
   "outputs": [
    {
     "name": "stdout",
     "output_type": "stream",
     "text": [
      "num chars after clean: 439606\n",
      "M r. and Mrs. Dursley, of number four, Privet Drive, were proud to say that they were perfectly normal, thank you very much. They were the last people you’d expect to be involved in anything strange or mysterious, because they just didn’t hold with such nonsense.\n",
      "\n",
      "Mr. Dursley was the director of a firm called Grunnings, which made drills. He was a big, beefy man with hardly any neck, although he d\n"
     ]
    }
   ],
   "source": [
    "# check new length and preview first 400 characters\n",
    "print(\"num chars after clean:\", len(text))\n",
    "print(text[:400])"
   ]
  },
  {
   "cell_type": "code",
   "execution_count": 65,
   "id": "5c145d00-d388-431e-adcc-6a3b3bfeaf93",
   "metadata": {},
   "outputs": [],
   "source": [
    "#chunking by words\n",
    "# we split the text into pieces (chunks) of N words\n",
    "# to keep some context, we overlap chunks by a small amount"
   ]
  },
  {
   "cell_type": "code",
   "execution_count": 82,
   "id": "edbd6639-c2be-431d-81d6-7f5337ac7b1b",
   "metadata": {},
   "outputs": [],
   "source": [
    "from typing import List\n",
    "\n",
    "# pattern to split into words and punctuation\n",
    "WORD_SPLIT = re.compile(r\"\\w+|[^\\w\\s]\")  \n",
    "\n",
    "def simple_tokenize(t: str) -> List[str]:\n",
    "    \"\"\"Turn text into a list of lowercase tokens (words + punctuation).\"\"\"\n",
    "    return WORD_SPLIT.findall(t.lower())\n"
   ]
  },
  {
   "cell_type": "code",
   "execution_count": 83,
   "id": "d4571860-ef39-405a-9539-1f0270f516d8",
   "metadata": {},
   "outputs": [],
   "source": [
    "def chunk_by_words(text: str, chunk_size: int = 512, overlap: int = 50) -> List[str]:\n",
    "    \"\"\"\n",
    "    Split text into chunks by word count.\n",
    "    - Each chunk has about `chunk_size` words\n",
    "    - Neighbor chunks overlap by `overlap` words\n",
    "    \"\"\"\n",
    "    # 1) tokenize the text\n",
    "    words = simple_tokenize(text)\n",
    "    chunks = []\n",
    "\n",
    "    # 2) step size = chunk_size - overlap\n",
    "    step = max(1, chunk_size - overlap)\n",
    "\n",
    "    # 3) slide through the words list with this step size\n",
    "    for i in range(0, len(words), step):\n",
    "        # take words from i to i+chunk_size\n",
    "        w = words[i:i+chunk_size]\n",
    "        if not w:\n",
    "            break\n",
    "\n",
    "        # 4) join words back into a string (collapse spaces)\n",
    "        chunk = re.sub(r\"\\s+\", \" \", \" \".join(w)).strip()\n",
    "        chunks.append(chunk)\n",
    "\n",
    "        # 5) stop if we reach the end\n",
    "        if i + chunk_size >= len(words):\n",
    "            break\n",
    "\n",
    "    return chunks"
   ]
  },
  {
   "cell_type": "code",
   "execution_count": 84,
   "id": "9c601d8f-0426-4562-9e68-25b1a1af3556",
   "metadata": {},
   "outputs": [
    {
     "name": "stdout",
     "output_type": "stream",
     "text": [
      "chunk_size=256 -> number of chunks: 502\n",
      "chunk_size=512 -> number of chunks: 224\n",
      "chunk_size=1024 -> number of chunks: 107\n",
      "\n",
      "=== Sample from chunk_size=256 ===\n",
      "Chunk 0: m r . and mrs . dursley , of number four , privet drive , were proud to say that they were perfectly normal , thank you very much . they were the last people you ’ d expect to be involved in anything  ...\n",
      "Chunk 1: sister , but they hadn ’ t met for several years ; in fact , mrs . dursley pretended she didn ’ t have a sister , because her sister and her good - for - nothing husband were as undursleyish as it was ...\n",
      "\n",
      "=== Sample from chunk_size=512 ===\n",
      "Chunk 0: m r . and mrs . dursley , of number four , privet drive , were proud to say that they were perfectly normal , thank you very much . they were the last people you ’ d expect to be involved in anything  ...\n",
      "Chunk 1: . dursley as he left the house . he got into his car and backed out of number four ’ s drive . it was on the corner of the street that he noticed the first sign of something peculiar — a cat reading a ...\n",
      "\n",
      "=== Sample from chunk_size=1024 ===\n",
      "Chunk 0: m r . and mrs . dursley , of number four , privet drive , were proud to say that they were perfectly normal , thank you very much . they were the last people you ’ d expect to be involved in anything  ...\n",
      "Chunk 1: nighttime . mr . dursley , however , had a perfectly normal , owl - free morning . he yelled at five different people . he made several important telephone calls and shouted a bit more . he was in a v ...\n"
     ]
    }
   ],
   "source": [
    "# --- Test the chunking function ---\n",
    "\n",
    "# choose chunk sizes to compare\n",
    "CHUNK_SIZES = [256, 512, 1024]\n",
    "OVERLAP = 50\n",
    "\n",
    "chunked_map = {}\n",
    "for sz in CHUNK_SIZES:\n",
    "    ch = chunk_by_words(text, chunk_size=sz, overlap=OVERLAP)\n",
    "    chunked_map[sz] = ch\n",
    "    print(f\"chunk_size={sz} -> number of chunks: {len(ch)}\")\n",
    "\n",
    "# preview: show the first 1–2 chunks for each size\n",
    "for sz in CHUNK_SIZES:\n",
    "    print(f\"\\n=== Sample from chunk_size={sz} ===\")\n",
    "    print(\"Chunk 0:\", chunked_map[sz][0][:200], \"...\")\n",
    "    if len(chunked_map[sz]) > 1:\n",
    "        print(\"Chunk 1:\", chunked_map[sz][1][:200], \"...\")\n"
   ]
  },
  {
   "cell_type": "code",
   "execution_count": 85,
   "id": "79e5040f-a3d9-4d84-bf4e-0d995bcb9910",
   "metadata": {},
   "outputs": [
    {
     "name": "stdout",
     "output_type": "stream",
     "text": [
      "✅ saved to: rag_lab_outputs/chunking_summary.csv\n"
     ]
    },
    {
     "data": {
      "text/html": [
       "<div>\n",
       "<style scoped>\n",
       "    .dataframe tbody tr th:only-of-type {\n",
       "        vertical-align: middle;\n",
       "    }\n",
       "\n",
       "    .dataframe tbody tr th {\n",
       "        vertical-align: top;\n",
       "    }\n",
       "\n",
       "    .dataframe thead th {\n",
       "        text-align: right;\n",
       "    }\n",
       "</style>\n",
       "<table border=\"1\" class=\"dataframe\">\n",
       "  <thead>\n",
       "    <tr style=\"text-align: right;\">\n",
       "      <th></th>\n",
       "      <th>doc_name</th>\n",
       "      <th>chunk_size</th>\n",
       "      <th>chunk_idx</th>\n",
       "      <th>chunk_preview</th>\n",
       "      <th>chunk_len_words</th>\n",
       "    </tr>\n",
       "  </thead>\n",
       "  <tbody>\n",
       "    <tr>\n",
       "      <th>0</th>\n",
       "      <td>01 Harry Potter and the Sorcerers Stone.txt</td>\n",
       "      <td>256</td>\n",
       "      <td>0</td>\n",
       "      <td>m r . and mrs . dursley , of number four , pri...</td>\n",
       "      <td>256</td>\n",
       "    </tr>\n",
       "    <tr>\n",
       "      <th>1</th>\n",
       "      <td>01 Harry Potter and the Sorcerers Stone.txt</td>\n",
       "      <td>256</td>\n",
       "      <td>1</td>\n",
       "      <td>sister , but they hadn ’ t met for several yea...</td>\n",
       "      <td>256</td>\n",
       "    </tr>\n",
       "    <tr>\n",
       "      <th>2</th>\n",
       "      <td>01 Harry Potter and the Sorcerers Stone.txt</td>\n",
       "      <td>256</td>\n",
       "      <td>2</td>\n",
       "      <td>, mr . dursley picked up his briefcase , pecke...</td>\n",
       "      <td>256</td>\n",
       "    </tr>\n",
       "    <tr>\n",
       "      <th>3</th>\n",
       "      <td>01 Harry Potter and the Sorcerers Stone.txt</td>\n",
       "      <td>256</td>\n",
       "      <td>3</td>\n",
       "      <td>said privet drive — no , looking at the sign ;...</td>\n",
       "      <td>256</td>\n",
       "    </tr>\n",
       "    <tr>\n",
       "      <th>4</th>\n",
       "      <td>01 Harry Potter and the Sorcerers Stone.txt</td>\n",
       "      <td>256</td>\n",
       "      <td>4</td>\n",
       "      <td>- green cloak ! the nerve of him ! but then it...</td>\n",
       "      <td>256</td>\n",
       "    </tr>\n",
       "    <tr>\n",
       "      <th>5</th>\n",
       "      <td>01 Harry Potter and the Sorcerers Stone.txt</td>\n",
       "      <td>256</td>\n",
       "      <td>5</td>\n",
       "      <td>and walk across the road to buy himself a bun ...</td>\n",
       "      <td>256</td>\n",
       "    </tr>\n",
       "    <tr>\n",
       "      <th>6</th>\n",
       "      <td>01 Harry Potter and the Sorcerers Stone.txt</td>\n",
       "      <td>256</td>\n",
       "      <td>6</td>\n",
       "      <td>. he put the receiver back down and stroked hi...</td>\n",
       "      <td>256</td>\n",
       "    </tr>\n",
       "    <tr>\n",
       "      <th>7</th>\n",
       "      <td>01 Harry Potter and the Sorcerers Stone.txt</td>\n",
       "      <td>256</td>\n",
       "      <td>7</td>\n",
       "      <td>that the man was wearing a violet cloak . he d...</td>\n",
       "      <td>256</td>\n",
       "    </tr>\n",
       "  </tbody>\n",
       "</table>\n",
       "</div>"
      ],
      "text/plain": [
       "                                      doc_name  chunk_size  chunk_idx  \\\n",
       "0  01 Harry Potter and the Sorcerers Stone.txt         256          0   \n",
       "1  01 Harry Potter and the Sorcerers Stone.txt         256          1   \n",
       "2  01 Harry Potter and the Sorcerers Stone.txt         256          2   \n",
       "3  01 Harry Potter and the Sorcerers Stone.txt         256          3   \n",
       "4  01 Harry Potter and the Sorcerers Stone.txt         256          4   \n",
       "5  01 Harry Potter and the Sorcerers Stone.txt         256          5   \n",
       "6  01 Harry Potter and the Sorcerers Stone.txt         256          6   \n",
       "7  01 Harry Potter and the Sorcerers Stone.txt         256          7   \n",
       "\n",
       "                                       chunk_preview  chunk_len_words  \n",
       "0  m r . and mrs . dursley , of number four , pri...              256  \n",
       "1  sister , but they hadn ’ t met for several yea...              256  \n",
       "2  , mr . dursley picked up his briefcase , pecke...              256  \n",
       "3  said privet drive — no , looking at the sign ;...              256  \n",
       "4  - green cloak ! the nerve of him ! but then it...              256  \n",
       "5  and walk across the road to buy himself a bun ...              256  \n",
       "6  . he put the receiver back down and stroked hi...              256  \n",
       "7  that the man was wearing a violet cloak . he d...              256  "
      ]
     },
     "execution_count": 85,
     "metadata": {},
     "output_type": "execute_result"
    }
   ],
   "source": [
    "import pandas as pd\n",
    "from pathlib import Path\n",
    "\n",
    "# 1) make an output folder (rag_lab_outputs)\n",
    "out_dir = Path(\"rag_lab_outputs\")\n",
    "out_dir.mkdir(exist_ok=True, parents=True)\n",
    "\n",
    "# 2) collect chunk info into a list of dicts\n",
    "rows = []\n",
    "for sz, chunks in chunked_map.items():\n",
    "    for i, ch in enumerate(chunks):\n",
    "        rows.append({\n",
    "            \"doc_name\": src.name,                     # which file\n",
    "            \"chunk_size\": sz,                         # size setting\n",
    "            \"chunk_idx\": i,                           # index number\n",
    "            \"chunk_preview\": ch[:160].replace(\"\\n\",\" \"), # first 160 chars\n",
    "            \"chunk_len_words\": len(simple_tokenize(ch)), # number of words\n",
    "        })\n",
    "\n",
    "# 3) convert list into a pandas DataFrame (table)\n",
    "df = pd.DataFrame(rows)\n",
    "\n",
    "# 4) save DataFrame to CSV file\n",
    "csv_path = out_dir / \"chunking_summary.csv\"\n",
    "df.to_csv(csv_path, index=False, encoding=\"utf-8\")\n",
    "\n",
    "print(\"✅ saved to:\", csv_path)\n",
    "\n",
    "# 5) show the first 8 rows as a quick preview\n",
    "df.head(8)\n"
   ]
  },
  {
   "cell_type": "code",
   "execution_count": 87,
   "id": "ab08f96f-1fab-456b-80cf-7698f3929c3e",
   "metadata": {},
   "outputs": [
    {
     "name": "stdout",
     "output_type": "stream",
     "text": [
      "=== number of chunks ===\n",
      "    chunk_size  num_chunks\n",
      "0         256         502\n",
      "1         512         224\n",
      "2        1024         107 \n",
      "\n",
      "=== average words per chunk ===\n",
      "    chunk_size  avg_words\n",
      "0         256      255.9\n",
      "1         512      511.4\n",
      "2        1024     1015.9\n"
     ]
    }
   ],
   "source": [
    "# --- Simple statistics by chunk size ---\n",
    "\n",
    "# 1) count how many chunks were created for each chunk_size\n",
    "cnt = (\n",
    "    df.groupby(\"chunk_size\")[\"chunk_idx\"]\n",
    "      .count()\n",
    "      .rename(\"num_chunks\")\n",
    "      .reset_index()\n",
    ")\n",
    "\n",
    "# 2) compute the average number of words in chunks (rounded to 1 decimal)\n",
    "avg = (\n",
    "    df.groupby(\"chunk_size\")[\"chunk_len_words\"]\n",
    "      .mean()\n",
    "      .round(1)\n",
    "      .rename(\"avg_words\")\n",
    "      .reset_index()\n",
    ")\n",
    "\n",
    "# 3) print the tables\n",
    "print(\"=== number of chunks ===\\n\", cnt, \"\\n\")\n",
    "print(\"=== average words per chunk ===\\n\", avg)\n"
   ]
  },
  {
   "cell_type": "code",
   "execution_count": 88,
   "id": "c5487f26-5af1-4606-88ab-1a2c4092d4e1",
   "metadata": {},
   "outputs": [
    {
     "data": {
      "image/png": "[encoded data removed]",
      "text/plain": [
       "<Figure size 640x480 with 1 Axes>"
      ]
     },
     "metadata": {},
     "output_type": "display_data"
    },
    {
     "data": {
      "image/png": "[encoded data removed]",
      "text/plain": [
       "<Figure size 640x480 with 1 Axes>"
      ]
     },
     "metadata": {},
     "output_type": "display_data"
    }
   ],
   "source": [
    "import matplotlib.pyplot as plt\n",
    "\n",
    "# --- Plot number of chunks per chunk_size ---\n",
    "plt.bar(cnt[\"chunk_size\"].astype(str), cnt[\"num_chunks\"])\n",
    "plt.xlabel(\"Chunk size (words)\")\n",
    "plt.ylabel(\"Number of chunks\")\n",
    "plt.title(\"Number of chunks by chunk size\")\n",
    "plt.show()\n",
    "\n",
    "# --- Plot average words per chunk_size ---\n",
    "plt.bar(avg[\"chunk_size\"].astype(str), avg[\"avg_words\"])\n",
    "plt.xlabel(\"Chunk size (words)\")\n",
    "plt.ylabel(\"Average words in chunk\")\n",
    "plt.title(\"Average chunk length by chunk size\")\n",
    "plt.show()\n"
   ]
  },
  {
   "cell_type": "code",
   "execution_count": null,
   "id": "6c33b151-6257-4367-90f1-c4a3c4bef0ca",
   "metadata": {},
   "outputs": [],
   "source": []
  }
 ],
 "metadata": {
  "kernelspec": {
   "display_name": "Python (nlp_env)",
   "language": "python",
   "name": "nlp_env"
  },
  "language_info": {
   "codemirror_mode": {
    "name": "ipython",
    "version": 3
   },
   "file_extension": ".py",
   "mimetype": "text/x-python",
   "name": "python",
   "nbconvert_exporter": "python",
   "pygments_lexer": "ipython3",
   "version": "3.10.12"
  }
 },
 "nbformat": 4,
 "nbformat_minor": 5
}
