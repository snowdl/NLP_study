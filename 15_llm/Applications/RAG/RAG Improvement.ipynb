{
 "cells": [
  {
   "cell_type": "code",
   "execution_count": null,
   "id": "8c5f8fe6-45ea-4b37-97c5-f1a206afcdb6",
   "metadata": {},
   "outputs": [],
   "source": [
    "# RAG Improvement — Action List (Prioritized)\n",
    "\n",
    "## 1) Index / Chunking\n",
    "- 200–400 tokens, **10–20% overlap** (Korean/Chinese: **2–4 sentences**).\n",
    "- Preserve structure: prepend `section_path`; keep tables/code as **block chunks** with captions.\n",
    "- De-dup: **5-gram shingling + MinHash/SimHash** before indexing.\n",
    "- Metadata: `{doc_id, section_path, chunk_id, lang, version, date, source, topic, pii_flag, index_version, embed_model}`\n",
    "\n",
    "## 2) Retriever (Recall ↑)\n",
    "- **Hybrid**: BM25 **0.4** + Dense **0.6** (RRF/weighted).\n",
    "- **Multi-Query (3–5)** → **BM25 prefilter k≈200** → RRF merge.\n",
    "- **MMR** for diversity (k=50 → m=8, λ=0.3).\n",
    "- hyDE with **vague-text filter** (length, proper-noun/number density).\n",
    "- Multilingual: detect → **original + translated** queries, RRF.\n",
    "\n",
    "## 3) Reranker (Precision ↑)\n",
    "- Cross-encoder on **top-50** → keep **top-m=8**.\n",
    "- **Dynamic m** via **score entropy** (5–10).\n",
    "- Timeout → **BM25-weighted** fallback.\n",
    "\n",
    "## 4) Generator (Hallucination ↓)\n",
    "- Prompt guardrails: **require citations**, forbid out-of-citation content, allow “I don’t know.”\n",
    "- **Context budgeting** to target ~**200 tokens** answer.\n",
    "- **Auto re-search** if `citation_coverage < τ` or numeric/date question lacks evidence.\n",
    "\n",
    "## 5) Efficiency / Cost\n",
    "- ANN tuning: IVF (`nlist≈√N`, `nprobe 8→64`), HNSW (`M=32`, `efC=200`, `efS 64→256`).\n",
    "- Cache key: `hash(norm_query + filters + index_version + reranker_version)`.\n",
    "- Batch/pipeline; optimize reranker/LLM with **INT8/ONNX/VLLM**.\n",
    "\n",
    "## 6) Training Data\n",
    "- Maintain **hard-negative pool** (recent false-positives).\n",
    "- **Contrastive fine-tuning** (InfoNCE/Triplet, in-batch negatives) with small data.\n",
    "- **Distill** heavy reranker labels into a lighter reranker/dual-encoder.\n",
    "\n",
    "## 7) Evaluation / Monitoring\n",
    "- Retrieval: **Recall@20, nDCG@20, MRR**\n",
    "- Generation: **EM/F1 (QA), ROUGE-L (summarization)**\n",
    "- Grounding: **citation coverage, false-cite rate, unique sources**\n",
    "- Ops: **p50/p95 latency, $/1000 queries, source age_days**\n",
    "- Online guardrails: if coverage < Y% or false-cite > X% → **increase m / re-search**.\n",
    "\n",
    "## 8) Quick Defaults (Starter Combo)\n",
    "- BM25+Dense (RRF 0.4/0.6) + **MQ×3** + **MMR**\n",
    "- Rerank **top-50 → m=8**, **dynamic m**\n",
    "- Prompt **citation-required + self-check**\n",
    "- ANN tuning + batching + caching\n"
   ]
  }
 ],
 "metadata": {
  "kernelspec": {
   "display_name": "Python (nlp_env)",
   "language": "python",
   "name": "nlp_env"
  },
  "language_info": {
   "codemirror_mode": {
    "name": "ipython",
    "version": 3
   },
   "file_extension": ".py",
   "mimetype": "text/x-python",
   "name": "python",
   "nbconvert_exporter": "python",
   "pygments_lexer": "ipython3",
   "version": "3.10.12"
  }
 },
 "nbformat": 4,
 "nbformat_minor": 5
}
