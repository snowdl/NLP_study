{
 "cells": [
  {
   "cell_type": "code",
   "execution_count": 209,
   "id": "c2c593e3-7b88-4e0b-abba-dd92fbcecd78",
   "metadata": {},
   "outputs": [],
   "source": [
    "# ✅ 1. Install required libraries\n",
    "!pip install --quiet langchain langchain-openai faiss-cpu python-dotenv pymupdf openai"
   ]
  },
  {
   "cell_type": "code",
   "execution_count": 210,
   "id": "b2f7f6a5-056f-425d-abda-cf4cb6806f35",
   "metadata": {},
   "outputs": [],
   "source": [
    "# ✅ 2. Import necessary packages\n",
    "import os\n",
    "import re\n",
    "from dotenv import load_dotenv\n",
    "from langchain.document_loaders import PyMuPDFLoader\n",
    "from langchain.text_splitter import RecursiveCharacterTextSplitter\n",
    "from langchain_openai import OpenAIEmbeddings\n",
    "from langchain.vectorstores import FAISS\n",
    "from langchain.chains import RetrievalQA\n",
    "from langchain.llms import OpenAI\n"
   ]
  },
  {
   "cell_type": "code",
   "execution_count": 211,
   "id": "56055fac-e68e-4ecb-9b24-b9afffa183ef",
   "metadata": {},
   "outputs": [],
   "source": [
    "import os\n",
    "from dotenv import load_dotenv\n",
    "load_dotenv()\n",
    "api_key = os.getenv(\"OPENAI_API_KEY\")\n",
    "\n",
    "embeddings = OpenAIEmbeddings(openai_api_key=api_key)\n",
    "llm = OpenAI(openai_api_key=api_key)\n"
   ]
  },
  {
   "cell_type": "code",
   "execution_count": 212,
   "id": "6abc3c9d-63df-45be-a614-cc639360f88d",
   "metadata": {},
   "outputs": [],
   "source": [
    "#pdf loader"
   ]
  },
  {
   "cell_type": "code",
   "execution_count": 213,
   "id": "8c782169-2ad7-49e8-8fb0-03e2ed342ce5",
   "metadata": {},
   "outputs": [],
   "source": [
    "from langchain.document_loaders import PyMuPDFLoader"
   ]
  },
  {
   "cell_type": "code",
   "execution_count": 214,
   "id": "cc10870a-9c4c-4ae1-aa45-193d60f56dd1",
   "metadata": {},
   "outputs": [],
   "source": [
    "# ✅ Load PDF document\n",
    "pdf_path = \"/Users/jessicahong/Desktop/textclustering.pdf\"\n",
    "loader = PyMuPDFLoader(pdf_path)"
   ]
  },
  {
   "cell_type": "code",
   "execution_count": 215,
   "id": "afe48077-d6a1-43c6-b20e-a033d31a317b",
   "metadata": {},
   "outputs": [],
   "source": [
    "# ✅ Load the documents as a list of LangChain Document objects\n",
    "documents = loader.load()"
   ]
  },
  {
   "cell_type": "code",
   "execution_count": 216,
   "id": "64b5aaa8-3726-40ae-af82-df4b0f11e608",
   "metadata": {},
   "outputs": [
    {
     "name": "stdout",
     "output_type": "stream",
     "text": [
      "The peer-reviewed version of this paper is published in the International Journal of Cognitive Compu\n"
     ]
    }
   ],
   "source": [
    "# ✅ Preview the first 100 characters of the first page\n",
    "print(documents[0].page_content[:100])"
   ]
  },
  {
   "cell_type": "code",
   "execution_count": 217,
   "id": "c34cac67-19c3-41d0-8069-4eb6f430646c",
   "metadata": {},
   "outputs": [],
   "source": [
    "#Text Splitting"
   ]
  },
  {
   "cell_type": "code",
   "execution_count": 218,
   "id": "5aa5eb94-bece-4130-9304-0e310ea967cc",
   "metadata": {},
   "outputs": [],
   "source": [
    "from langchain.text_splitter import RecursiveCharacterTextSplitter"
   ]
  },
  {
   "cell_type": "code",
   "execution_count": 219,
   "id": "572a1e16-5104-48f0-82b6-b51021571be2",
   "metadata": {},
   "outputs": [],
   "source": [
    "# ✅ Initialize the text splitter\n",
    "# chunk_size: Maximum number of characters per chunk\n",
    "# chunk_overlap: Number of overlapping characters between chunks\n",
    "text_splitter = RecursiveCharacterTextSplitter(\n",
    "    chunk_size=1000,\n",
    "    chunk_overlap=100\n",
    ")"
   ]
  },
  {
   "cell_type": "code",
   "execution_count": 220,
   "id": "495ed67f-405d-452a-887b-33c787c433e3",
   "metadata": {},
   "outputs": [],
   "source": [
    "# ✅ Split the loaded documents into smaller chunks\n",
    "# Input should be a list of Document objects\n",
    "texts = text_splitter.split_documents(documents)"
   ]
  },
  {
   "cell_type": "code",
   "execution_count": 221,
   "id": "6bca2508-7d10-445e-a520-b809f52ea18f",
   "metadata": {},
   "outputs": [
    {
     "name": "stdout",
     "output_type": "stream",
     "text": [
      "Number of text chunks: 71\n"
     ]
    }
   ],
   "source": [
    "# ✅ Print how many chunks were created\n",
    "print(f\"Number of text chunks: {len(texts)}\")"
   ]
  },
  {
   "cell_type": "code",
   "execution_count": 222,
   "id": "78f84c78-f0ce-4b6c-84c6-aecf824a715f",
   "metadata": {},
   "outputs": [],
   "source": [
    "#Embeddings"
   ]
  },
  {
   "cell_type": "code",
   "execution_count": 223,
   "id": "2339d18d-b8ae-4746-bfba-ae54e2606caa",
   "metadata": {},
   "outputs": [],
   "source": [
    "#RAG Chain creation"
   ]
  },
  {
   "cell_type": "code",
   "execution_count": 224,
   "id": "1bd61424-d5ae-4850-af3c-0a070f8ccc57",
   "metadata": {},
   "outputs": [],
   "source": [
    "embeddings = OpenAIEmbeddings(openai_api_key=api_key)"
   ]
  },
  {
   "cell_type": "code",
   "execution_count": 225,
   "id": "d474b40a-fcda-4fa2-ba4d-c85c01001fc9",
   "metadata": {},
   "outputs": [],
   "source": [
    "vectorstore = FAISS.from_documents(texts, embeddings)"
   ]
  },
  {
   "cell_type": "code",
   "execution_count": 226,
   "id": "9b37e6e7-e19c-4ef0-bc49-5db26bda163f",
   "metadata": {},
   "outputs": [],
   "source": [
    "# 5. Build RetrievalQA chain using OpenAI LLM and FAISS retriever\n",
    "qa_chain = RetrievalQA.from_chain_type(\n",
    "    llm=OpenAI(openai_api_key=api_key),  \n",
    "    retriever=vectorstore.as_retriever()\n",
    ")"
   ]
  },
  {
   "cell_type": "code",
   "execution_count": 227,
   "id": "eef3c10a-6c0a-4d97-b572-acc34357c7ca",
   "metadata": {},
   "outputs": [
    {
     "name": "stdout",
     "output_type": "stream",
     "text": [
      " The main contributions of this paper are testing and identifying optimal combinations of embeddings and clustering algorithms, evaluating the effectiveness of LLM embeddings compared to traditional techniques, and assessing the impact of model size and summarization techniques on clustering performance. \n"
     ]
    }
   ],
   "source": [
    "# 6. Run your query against the RAG system\n",
    "query = \"What are the main contributions of this paper?\"\n",
    "result = qa_chain.run(query)\n",
    "print(result)"
   ]
  },
  {
   "cell_type": "code",
   "execution_count": 228,
   "id": "8515afa0-a118-4b93-9e0d-ccb19f9f3ff6",
   "metadata": {},
   "outputs": [],
   "source": [
    "#Text cleaning"
   ]
  },
  {
   "cell_type": "code",
   "execution_count": 229,
   "id": "7cbe6ca1-7c4f-4f90-8a20-d875e718fbd1",
   "metadata": {},
   "outputs": [],
   "source": [
    "import re"
   ]
  },
  {
   "cell_type": "code",
   "execution_count": 230,
   "id": "3731eff8-853d-42f4-9280-aeebb419de4d",
   "metadata": {},
   "outputs": [],
   "source": [
    "#clean_text : cleans input text by removing page numbers, collapsing extra blank lines, and stripping unwanted line characters\n",
    "def clean_text(text):\n",
    "    # Remove page numbers, e.g., \"Page 1 of 10\"\n",
    "    text = re.sub(r\"Page \\d+ of \\d+\", \"\", text)\n",
    "    # Replace multiple newlines with a single newline\n",
    "    text = re.sub(r\"\\n\\s*\\n\", \"\\n\", text)\n",
    "    # Remove special characters except word characters, whitespace, and basic punctuation\n",
    "    text = re.sub(r\"[^\\w\\s.,?!]\", \"\", text)\n",
    "    # Trim leading and trailing whitespace\n",
    "    return text.strip()"
   ]
  },
  {
   "cell_type": "code",
   "execution_count": 231,
   "id": "061bc003-3ad5-49cb-84e0-c46c2f80368a",
   "metadata": {},
   "outputs": [],
   "source": [
    "documents = loader.load()"
   ]
  },
  {
   "cell_type": "code",
   "execution_count": 232,
   "id": "a9922142-de41-49c1-a75d-f30402463eaa",
   "metadata": {},
   "outputs": [],
   "source": [
    "#loops through each document object in the documents list\n",
    "for doc in documents:\n",
    "    # Clean the text content of each document using the clean_text function\n",
    "    doc.page_content = clean_text(doc.page_content)\n",
    "    #applies clean_text func to the page_content attribute of each document to remove unwanted characters, numbers, and extra blank lines"
   ]
  },
  {
   "cell_type": "code",
   "execution_count": 233,
   "id": "6eff8f9a-96b6-4ddc-a3fe-31b377199c00",
   "metadata": {},
   "outputs": [],
   "source": [
    "# Text splitting\n",
    "# Splits long texts into smaller chunks, each about 1000 characters long\n",
    "# chunk_overlap=100 means each chunk overlaps the previous chunk by 100 characters\n",
    "text_splitter = RecursiveCharacterTextSplitter(chunk_size=1000, chunk_overlap=100)\n",
    "texts = text_splitter.split_documents(documents)  # Split the cleaned documents into smaller chunks\n"
   ]
  },
  {
   "cell_type": "code",
   "execution_count": 234,
   "id": "ecb90171-89c0-4a93-aaba-5e12250bfee4",
   "metadata": {},
   "outputs": [],
   "source": [
    "#FAISS VECTORSTORE"
   ]
  },
  {
   "cell_type": "code",
   "execution_count": 235,
   "id": "76ddbe86-4e0d-4b3b-bb46-c5af8394ae2f",
   "metadata": {},
   "outputs": [],
   "source": [
    "# Save the FAISS vector store to local disk\n",
    "vectorstore.save_local(\"faiss_index\")"
   ]
  },
  {
   "cell_type": "code",
   "execution_count": 236,
   "id": "886f3d26-3c19-40b9-bcc1-8b4f5abeb367",
   "metadata": {},
   "outputs": [],
   "source": [
    "#Later, load from disk\n",
    "from langchain.vectorstores import FAISS\n",
    "from langchain.embeddings.openai import OpenAIEmbeddings"
   ]
  },
  {
   "cell_type": "code",
   "execution_count": 237,
   "id": "d5e008dd-1df5-410b-b649-943b5570a8fd",
   "metadata": {},
   "outputs": [],
   "source": [
    "# ✅ Set allow_dangerous_deserialization=True ONLY IF you trust the data source\n",
    "vectorstore = FAISS.load_local(\n",
    "    \"faiss_index\",\n",
    "    embeddings,\n",
    "    allow_dangerous_deserialization=True\n",
    ")"
   ]
  },
  {
   "cell_type": "code",
   "execution_count": 240,
   "id": "cc0d7dcb-5e2e-4769-9c2d-92a0f735c520",
   "metadata": {},
   "outputs": [],
   "source": [
    "# Recreate embedding object with your OpenAI API key\n",
    "embeddings = OpenAIEmbeddings(openai_api_key=api_key)"
   ]
  },
  {
   "cell_type": "code",
   "execution_count": 241,
   "id": "5e4f9d5a-8275-42a1-b1e4-eb1cc2c130f4",
   "metadata": {},
   "outputs": [],
   "source": [
    "#RAG"
   ]
  },
  {
   "cell_type": "code",
   "execution_count": 242,
   "id": "f010e987-397a-4bb9-93cc-1c2451c3393f",
   "metadata": {},
   "outputs": [],
   "source": [
    "# Initialize OpenAI LLM with your API key\n",
    "llm = OpenAI(openai_api_key=api_key)"
   ]
  },
  {
   "cell_type": "code",
   "execution_count": 243,
   "id": "a3b72068-ec3e-4a1d-bb5c-b68c2da146cb",
   "metadata": {},
   "outputs": [],
   "source": [
    "# Create the RetrievalQA chain with the vectorstore retriever\n",
    "qa_chain = RetrievalQA.from_chain_type(\n",
    "    llm=llm,\n",
    "    retriever=vectorstore.as_retriever()\n",
    ")\n"
   ]
  },
  {
   "cell_type": "code",
   "execution_count": 245,
   "id": "906c9270-fd31-4174-8b16-415436952f68",
   "metadata": {},
   "outputs": [],
   "source": [
    "# Run a query against your PDF documents\n",
    "query = \"What are the main contributions of this paper?\"\n",
    "result = qa_chain.run(query)"
   ]
  },
  {
   "cell_type": "code",
   "execution_count": 246,
   "id": "b6339a56-5485-45d8-b14e-c413513b1972",
   "metadata": {},
   "outputs": [
    {
     "name": "stdout",
     "output_type": "stream",
     "text": [
      " The main contribution of this paper is the testing and identifying of optimal combinations of embeddings and clustering algorithms for text clustering tasks. The paper also discusses advancements in text embeddings and their impact on clustering performance. Additionally, the paper explores the use of LLM embeddings and their superiority over traditional embedding techniques. The results of the study and recommendations for future developments are also presented. \n"
     ]
    }
   ],
   "source": [
    "print(result)"
   ]
  },
  {
   "cell_type": "code",
   "execution_count": 247,
   "id": "74d283a9-f9f7-44d0-bab4-0b359137174d",
   "metadata": {},
   "outputs": [],
   "source": [
    "#FAISS Index optimization => Create IVF(Inverted File index)"
   ]
  },
  {
   "cell_type": "code",
   "execution_count": 248,
   "id": "ca2a8cae-67c8-45fa-aed0-5eaca67d636f",
   "metadata": {},
   "outputs": [],
   "source": [
    "embeddings = OpenAIEmbeddings(openai_api_key=api_key)"
   ]
  },
  {
   "cell_type": "code",
   "execution_count": 249,
   "id": "fd3d8b50-93a6-4df1-a08e-0096283b5f9b",
   "metadata": {},
   "outputs": [],
   "source": [
    "vectorstore = FAISS.from_documents(texts, embeddings)"
   ]
  },
  {
   "cell_type": "code",
   "execution_count": 250,
   "id": "3ec0a78d-93e6-4a5f-9393-e16255e719fe",
   "metadata": {},
   "outputs": [],
   "source": [
    "import faiss\n",
    "import numpy as np"
   ]
  },
  {
   "cell_type": "code",
   "execution_count": 251,
   "id": "19b4c59d-6bfd-4868-9a71-8729cd2cfa2f",
   "metadata": {},
   "outputs": [],
   "source": [
    "# the length of the embedding vector\n",
    "dimension = len(embeddings.embed_query(\"test\"))"
   ]
  },
  {
   "cell_type": "code",
   "execution_count": 252,
   "id": "ada09b1a-854c-44df-97f3-04ed4bcb6f05",
   "metadata": {},
   "outputs": [
    {
     "name": "stdout",
     "output_type": "stream",
     "text": [
      "1536\n"
     ]
    }
   ],
   "source": [
    "print(dimension)"
   ]
  },
  {
   "cell_type": "code",
   "execution_count": 253,
   "id": "2e7df20c-bc95-4271-a93e-19260bbaa8bb",
   "metadata": {},
   "outputs": [
    {
     "data": {
      "text/plain": [
       "'\\nWhat is IVF : used to speed up vector similarity search by partitioning the entire vector space into multiple clusters (also called centroids), and assigning each vector to its nearest cluster.\\nwhy use IVF : Searching through all vectors in a large dataset is computationally expensive and slow. IVF helps by limiting the search to only the most relevant clusters, dramatically improving search speed.\\nHow it work? \\nThe vector space is first partitioned into n clusters using k-means clustering. This step requires calling index.train(vectors).\\nEach vector is assigned to its closest centroid (cluster center).\\nDuring search, instead of scanning all clusters, only a few relevant clusters are searched, making the process much faster.\\n'"
      ]
     },
     "execution_count": 253,
     "metadata": {},
     "output_type": "execute_result"
    }
   ],
   "source": [
    "#IVF(Inverted File index)\n",
    "\"\"\"\n",
    "What is IVF : used to speed up vector similarity search by partitioning the entire vector space into multiple clusters (also called centroids), and assigning each vector to its nearest cluster.\n",
    "why use IVF : Searching through all vectors in a large dataset is computationally expensive and slow. IVF helps by limiting the search to only the most relevant clusters, dramatically improving search speed.\n",
    "How it work? \n",
    "The vector space is first partitioned into n clusters using k-means clustering. This step requires calling index.train(vectors).\n",
    "Each vector is assigned to its closest centroid (cluster center).\n",
    "During search, instead of scanning all clusters, only a few relevant clusters are searched, making the process much faster.\n",
    "\"\"\""
   ]
  },
  {
   "cell_type": "code",
   "execution_count": 254,
   "id": "f0868f57-3743-45b5-8735-a25dded1307b",
   "metadata": {},
   "outputs": [],
   "source": [
    "# IVF index setup\n",
    "nlist = 10  # num of cluster\n",
    "quantizer = faiss.IndexFlatL2(dimension)  # # Flat index for L2 distance (used as the coarse quantizer)\n"
   ]
  },
  {
   "cell_type": "code",
   "execution_count": 255,
   "id": "530cb4f9-8931-4b7f-99c1-1562ac05ae6b",
   "metadata": {},
   "outputs": [],
   "source": [
    "# Create an IVF flat index (coarse quantizer + flat index within each cluster)\n",
    "# - quantizer: used to assign vectors to clusters\n",
    "# - dimension: dimensionality of the embedding vectors\n",
    "# - nlist: number of clusters (coarse centroids)\n",
    "# - faiss.METRIC_L2: use L2 (Euclidean) distance for similarity search\n",
    "index = faiss.IndexIVFFlat(quantizer, dimension, nlist, faiss.METRIC_L2)"
   ]
  },
  {
   "cell_type": "code",
   "execution_count": 256,
   "id": "9ab9f557-f5b4-4e48-9c78-8d415682dbc8",
   "metadata": {},
   "outputs": [],
   "source": [
    "# Retrieve vectors from the existing FAISS index inside the vectorstore\n",
    "# reconstruct_n(start, count) returns 'count' vectors starting from index 'start'\n",
    "vectors = vectorstore.index.reconstruct_n(0, vectorstore.index.ntotal)  # (ntotal, dimension) ndarray"
   ]
  },
  {
   "cell_type": "code",
   "execution_count": 257,
   "id": "f78a1fd7-7c2a-4698-aa4c-c464a7d7e908",
   "metadata": {},
   "outputs": [
    {
     "name": "stdout",
     "output_type": "stream",
     "text": [
      "<class 'numpy.ndarray'> (70, 1536)\n"
     ]
    }
   ],
   "source": [
    "# debugging\n",
    "print(type(vectors), vectors.shape)"
   ]
  },
  {
   "cell_type": "code",
   "execution_count": 258,
   "id": "93733311-f925-4ba6-9e09-a8a6aad3724a",
   "metadata": {},
   "outputs": [],
   "source": [
    " # vectors가 ndarray임을 확인했으면 별도 변환 불필요\n",
    "# 만약 리스트라면 numpy array로 변환\n",
    "if not isinstance(vectors, np.ndarray):\n",
    "    vectors = np.array(vectors).astype('float32')"
   ]
  },
  {
   "cell_type": "code",
   "execution_count": 259,
   "id": "8eff0767-4d54-4e28-83a3-88a575ef5338",
   "metadata": {},
   "outputs": [
    {
     "name": "stdout",
     "output_type": "stream",
     "text": [
      "Index is not trained. Training now...\n",
      "Vectors added successfully.\n"
     ]
    },
    {
     "name": "stderr",
     "output_type": "stream",
     "text": [
      "WARNING clustering 70 points to 10 centroids: please provide at least 390 training points\n"
     ]
    }
   ],
   "source": [
    "# 인덱스 학습 확인 후 학습\n",
    "if not index.is_trained:\n",
    "    print(\"Index is not trained. Training now...\")\n",
    "    index.train(vectors)   # 인덱스가 학습되지 않았으면 벡터로 학습함\n",
    "index.add(vectors)        # 학습된 인덱스에 벡터 추가\n",
    "print(\"Vectors added successfully.\")"
   ]
  },
  {
   "cell_type": "code",
   "execution_count": null,
   "id": "ff5258ea-6764-4f16-89e2-6179e9f9d1ad",
   "metadata": {},
   "outputs": [],
   "source": []
  },
  {
   "cell_type": "code",
   "execution_count": null,
   "id": "7e62e98e-2c7f-4e0d-b824-d1a868ea93f3",
   "metadata": {},
   "outputs": [],
   "source": []
  },
  {
   "cell_type": "code",
   "execution_count": null,
   "id": "921af47f-75ad-47e8-b540-a3c90896c558",
   "metadata": {},
   "outputs": [],
   "source": []
  }
 ],
 "metadata": {
  "kernelspec": {
   "display_name": "Python 3.11 (pyenv)",
   "language": "python",
   "name": "pyenv311"
  },
  "language_info": {
   "codemirror_mode": {
    "name": "ipython",
    "version": 3
   },
   "file_extension": ".py",
   "mimetype": "text/x-python",
   "name": "python",
   "nbconvert_exporter": "python",
   "pygments_lexer": "ipython3",
   "version": "3.11.11"
  }
 },
 "nbformat": 4,
 "nbformat_minor": 5
}
