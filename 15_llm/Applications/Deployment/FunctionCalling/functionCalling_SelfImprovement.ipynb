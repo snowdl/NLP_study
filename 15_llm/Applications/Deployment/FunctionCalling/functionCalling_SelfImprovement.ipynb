{
 "cells": [
  {
   "cell_type": "code",
   "execution_count": 3,
   "id": "c0a8b3e9-ab7d-4be8-82d0-5e5bf9de8f96",
   "metadata": {},
   "outputs": [],
   "source": [
    "# ==============================================\n",
    "# Cell 1 — Rules & tiny helpers (super simple)\n",
    "# ==============================================\n",
    "# Minimal one-off creation of rules.json (no helpers needed)\n",
    "from pathlib import Path\n",
    "import json"
   ]
  },
  {
   "cell_type": "code",
   "execution_count": 4,
   "id": "bbb35dd3-adbc-4696-b9a8-80a25777f043",
   "metadata": {},
   "outputs": [],
   "source": [
    "\n",
    "DEFAULT_RULES = {\n",
    "  \"report_card_lost\": {\n",
    "    \"keywords\": [\"lost my card\", \"card stolen\", \"card missing\", \"분실\", \"도난\"],\n",
    "    \"args\": [\"user_id\"]\n",
    "  },\n",
    "  \"check_card_delivery\": {\n",
    "    \"keywords\": [\"track my card\", \"where is my card\", \"card not arrived\", \"배송\", \"언제 도착\"],\n",
    "    \"args\": [\"card_id\"]\n",
    "  },\n",
    "  \"request_new_card\": {\n",
    "    \"keywords\": [\"order new card\", \"replace my card\", \"new card\", \"재발급\"],\n",
    "    \"args\": [\"user_id\"]\n",
    "  }\n",
    "}"
   ]
  },
  {
   "cell_type": "code",
   "execution_count": 5,
   "id": "98afdf80-41c9-4bbf-8fee-e25cb88d57f0",
   "metadata": {},
   "outputs": [
    {
     "name": "stdout",
     "output_type": "stream",
     "text": [
      "Created rules.json\n"
     ]
    }
   ],
   "source": [
    "Path(\"rules.json\").write_text(json.dumps(DEFAULT_RULES, ensure_ascii=False, indent=2), encoding=\"utf-8\")\n",
    "print(\"Created rules.json\")"
   ]
  },
  {
   "cell_type": "code",
   "execution_count": 6,
   "id": "070c911b-d31c-4f0f-a1d1-5eabc31a05fc",
   "metadata": {},
   "outputs": [],
   "source": [
    "# Load the rules you just created\n",
    "from pathlib import Path\n",
    "import json"
   ]
  },
  {
   "cell_type": "code",
   "execution_count": 7,
   "id": "2d35e05d-df3a-4191-9be3-13cf7067049d",
   "metadata": {},
   "outputs": [
    {
     "name": "stdout",
     "output_type": "stream",
     "text": [
      "intents: ['report_card_lost', 'check_card_delivery', 'request_new_card']\n"
     ]
    }
   ],
   "source": [
    "RULES_PATH = Path(\"rules.json\")\n",
    "RULES = json.loads(RULES_PATH.read_text(encoding=\"utf-8\"))\n",
    "\n",
    "THRESHOLD = 0.2  # you can try 0.3 later\n",
    "print(\"intents:\", list(RULES.keys()))\n"
   ]
  },
  {
   "cell_type": "code",
   "execution_count": 8,
   "id": "4c3afd60-f32b-4dfc-a529-c9178c81594f",
   "metadata": {},
   "outputs": [],
   "source": [
    "# Mock banking functions — replace with real APIs later\n",
    "import time"
   ]
  },
  {
   "cell_type": "code",
   "execution_count": 9,
   "id": "b3ebcee1-4209-429b-a42e-b3645f5f5e59",
   "metadata": {},
   "outputs": [],
   "source": [
    "def report_card_lost(user_id: str):\n",
    "    ticket_id = f\"T{int(time.time())%100000:05d}\"\n",
    "    return {\"ok\": True, \"ticket_id\": ticket_id, \"user_id\": user_id}\n",
    "\n",
    "def check_card_delivery(card_id: str):\n",
    "    return {\"ok\": True, \"card_id\": card_id, \"carrier\": \"UPS\",\n",
    "            \"eta\": \"3-5 business days\", \"last_update\": \"out for delivery\"}\n",
    "\n",
    "def request_new_card(user_id: str):\n",
    "    order_id = f\"O{int(time.time())%100000:05d}\"\n",
    "    return {\"ok\": True, \"order_id\": order_id, \"user_id\": user_id}\n"
   ]
  },
  {
   "cell_type": "code",
   "execution_count": 10,
   "id": "1888cdfb-2096-4f41-9e52-ec8a984ca831",
   "metadata": {},
   "outputs": [],
   "source": [
    "#Intent detection (super simple) + routing"
   ]
  },
  {
   "cell_type": "code",
   "execution_count": 11,
   "id": "9cae18a5-73e4-4715-a503-c6ba48ad89c9",
   "metadata": {},
   "outputs": [],
   "source": [
    "# Naive keyword matcher + function routing\n",
    "import re"
   ]
  },
  {
   "cell_type": "code",
   "execution_count": 12,
   "id": "6df9ca59-6879-4573-adca-5f2a9572beb6",
   "metadata": {},
   "outputs": [],
   "source": [
    "def normalize_text(s: str) -> str:\n",
    "    s = s.lower()\n",
    "    s = re.sub(r\"[^0-9a-z가-힣\\s]\", \" \", s)\n",
    "    s = re.sub(r\"\\s+\", \" \", s).strip()\n",
    "    return s\n",
    "\n",
    "def predict_intent(text: str, rules: dict) -> tuple[str, float]:\n",
    "    t = \" \" + normalize_text(text) + \" \"\n",
    "    best = (\"nlu_fallback\", 0.0)\n",
    "    for intent, cfg in rules.items():\n",
    "        kws = cfg.get(\"keywords\", [])\n",
    "        hits = sum((\" \"+normalize_text(kw)+\" \") in t for kw in kws)\n",
    "        conf = min(1.0, hits / max(1, len(kws))) if kws else 0.0\n",
    "        if conf > best[1]:\n",
    "            best = (intent, conf)\n",
    "    return best"
   ]
  },
  {
   "cell_type": "code",
   "execution_count": 13,
   "id": "949baa04-29b6-417b-9897-14072d3dda8f",
   "metadata": {},
   "outputs": [],
   "source": [
    "def run_pipeline(text: str, user_id: str | None = None, card_id: str | None = None):\n",
    "    intent, conf = predict_intent(text, RULES)\n",
    "    if conf < THRESHOLD:\n",
    "        return {\"message\": \"Sorry, I couldn't understand. Could you rephrase?\",\n",
    "                \"intent\": \"nlu_fallback\", \"confidence\": conf,\n",
    "                \"called\": None, \"result\": None}\n",
    "\n",
    "    if intent == \"report_card_lost\":\n",
    "        if not user_id:\n",
    "            return {\"message\": \"Please provide your user_id.\",\n",
    "                    \"intent\": intent, \"confidence\": conf, \"called\": None, \"result\": None}\n",
    "        res = report_card_lost(user_id)\n",
    "        return {\"message\": f\"I've created a lost-card ticket: {res['ticket_id']}.\",\n",
    "                \"intent\": intent, \"confidence\": conf, \"called\": \"report_card_lost\", \"result\": res}\n",
    "\n",
    "    if intent == \"check_card_delivery\":\n",
    "        if not card_id:\n",
    "            return {\"message\": \"Please provide your card_id.\",\n",
    "                    \"intent\": intent, \"confidence\": conf, \"called\": None, \"result\": None}\n",
    "        res = check_card_delivery(card_id)\n",
    "        return {\"message\": f\"Your card is with {res['carrier']}, ETA {res['eta']} (status: {res['last_update']}).\",\n",
    "                \"intent\": intent, \"confidence\": conf, \"called\": \"check_card_delivery\", \"result\": res}\n",
    "\n",
    "    if intent == \"request_new_card\":\n",
    "        if not user_id:\n",
    "            return {\"message\": \"Please provide your user_id.\",\n",
    "                    \"intent\": intent, \"confidence\": conf, \"called\": None, \"result\": None}\n",
    "        res = request_new_card(user_id)\n",
    "        return {\"message\": f\"I've placed a new card order: {res['order_id']}.\",\n",
    "                \"intent\": intent, \"confidence\": conf, \"called\": \"request_new_card\", \"result\": res}\n",
    "\n",
    "    return {\"message\": \"Unhandled intent. Sorry!\",\n",
    "            \"intent\": intent, \"confidence\": conf, \"called\": None, \"result\": None}"
   ]
  },
  {
   "cell_type": "code",
   "execution_count": 14,
   "id": "34429b7a-049f-461a-a483-dfb4af06f827",
   "metadata": {},
   "outputs": [],
   "source": [
    "#4 — Tiny REPL-style helper"
   ]
  },
  {
   "cell_type": "code",
   "execution_count": 15,
   "id": "44531a14-4968-43cf-b12e-38c371d005ef",
   "metadata": {},
   "outputs": [],
   "source": [
    "# Ask helper; logs labels for self-improvement later\n",
    "EVAL_ROWS = []\n",
    "\n",
    "def ask(text: str, user_id: str | None = None, card_id: str | None = None, gold_intent: str | None = None):\n",
    "    out = run_pipeline(text, user_id=user_id, card_id=card_id)\n",
    "    print(\"USER :\", text)\n",
    "    print(\"ASSIST:\", out[\"message\"], f\"(intent={out['intent']}, conf={out['confidence']:.2f})\")\n",
    "    if gold_intent:\n",
    "        EVAL_ROWS.append({\"text\": text, \"label\": gold_intent})\n",
    "        print(f\"[logged gold={gold_intent}]\")\n",
    "    return out"
   ]
  },
  {
   "cell_type": "code",
   "execution_count": 16,
   "id": "13148088-d9e5-4ee8-ac20-fb578d9c0400",
   "metadata": {},
   "outputs": [],
   "source": [
    "#Quick smoke test"
   ]
  },
  {
   "cell_type": "code",
   "execution_count": 17,
   "id": "c8e5ed77-0bcc-4d6b-8373-ab0c7bd4284b",
   "metadata": {},
   "outputs": [
    {
     "name": "stdout",
     "output_type": "stream",
     "text": [
      "USER : I lost my card yesterday\n",
      "ASSIST: I've created a lost-card ticket: T12851. (intent=report_card_lost, conf=0.20)\n",
      "[logged gold=report_card_lost]\n",
      "USER : Where is my card? It hasn't arrived.\n",
      "ASSIST: Your card is with UPS, ETA 3-5 business days (status: out for delivery). (intent=check_card_delivery, conf=0.20)\n",
      "[logged gold=check_card_delivery]\n",
      "USER : Please order a new card\n",
      "ASSIST: I've placed a new card order: O12851. (intent=request_new_card, conf=0.25)\n",
      "[logged gold=request_new_card]\n"
     ]
    },
    {
     "data": {
      "text/plain": [
       "{'message': \"I've placed a new card order: O12851.\",\n",
       " 'intent': 'request_new_card',\n",
       " 'confidence': 0.25,\n",
       " 'called': 'request_new_card',\n",
       " 'result': {'ok': True, 'order_id': 'O12851', 'user_id': 'U1001'}}"
      ]
     },
     "execution_count": 17,
     "metadata": {},
     "output_type": "execute_result"
    }
   ],
   "source": [
    "ask(\"I lost my card yesterday\", user_id=\"U1001\", gold_intent=\"report_card_lost\")\n",
    "ask(\"Where is my card? It hasn't arrived.\", card_id=\"C5555\", gold_intent=\"check_card_delivery\")\n",
    "ask(\"Please order a new card\", user_id=\"U1001\", gold_intent=\"request_new_card\")"
   ]
  },
  {
   "cell_type": "code",
   "execution_count": 18,
   "id": "e9f6b018-fe72-4384-81bb-7795cdf4ffb0",
   "metadata": {},
   "outputs": [
    {
     "name": "stdout",
     "output_type": "stream",
     "text": [
      "USER : Please order a new card\n",
      "ASSIST: I've placed a new card order: O12938. (intent=request_new_card, conf=0.25)\n",
      "[logged gold=request_new_card]\n"
     ]
    },
    {
     "data": {
      "text/plain": [
       "{'message': \"I've placed a new card order: O12938.\",\n",
       " 'intent': 'request_new_card',\n",
       " 'confidence': 0.25,\n",
       " 'called': 'request_new_card',\n",
       " 'result': {'ok': True, 'order_id': 'O12938', 'user_id': 'U1001'}}"
      ]
     },
     "execution_count": 18,
     "metadata": {},
     "output_type": "execute_result"
    }
   ],
   "source": [
    "ask(\"Please order a new card\", user_id=\"U1001\", gold_intent=\"request_new_card\")"
   ]
  },
  {
   "cell_type": "code",
   "execution_count": 19,
   "id": "4377b6f5-e4bb-4c2b-a344-a195468f806d",
   "metadata": {},
   "outputs": [
    {
     "name": "stdout",
     "output_type": "stream",
     "text": [
      "USER : I lost my card yesterday\n",
      "ASSIST: I've created a lost-card ticket: T12957. (intent=report_card_lost, conf=0.20)\n",
      "[logged gold=report_card_lost]\n",
      "USER : Where is my card? It hasn't arrived.\n",
      "ASSIST: Your card is with UPS, ETA 3-5 business days (status: out for delivery). (intent=check_card_delivery, conf=0.20)\n",
      "[logged gold=check_card_delivery]\n"
     ]
    },
    {
     "data": {
      "text/plain": [
       "{'message': 'Your card is with UPS, ETA 3-5 business days (status: out for delivery).',\n",
       " 'intent': 'check_card_delivery',\n",
       " 'confidence': 0.2,\n",
       " 'called': 'check_card_delivery',\n",
       " 'result': {'ok': True,\n",
       "  'card_id': 'C5555',\n",
       "  'carrier': 'UPS',\n",
       "  'eta': '3-5 business days',\n",
       "  'last_update': 'out for delivery'}}"
      ]
     },
     "execution_count": 19,
     "metadata": {},
     "output_type": "execute_result"
    }
   ],
   "source": [
    "ask(\"I lost my card yesterday\", user_id=\"U1001\", gold_intent=\"report_card_lost\")\n",
    "ask(\"Where is my card? It hasn't arrived.\", card_id=\"C5555\", gold_intent=\"check_card_delivery\")"
   ]
  },
  {
   "cell_type": "code",
   "execution_count": 20,
   "id": "56a73399-5afc-4125-8b9b-869c75ac50f1",
   "metadata": {},
   "outputs": [
    {
     "ename": "NameError",
     "evalue": "name 'improve_from_logs' is not defined",
     "output_type": "error",
     "traceback": [
      "\u001b[0;31m---------------------------------------------------------------------------\u001b[0m",
      "\u001b[0;31mNameError\u001b[0m                                 Traceback (most recent call last)",
      "Cell \u001b[0;32mIn[20], line 1\u001b[0m\n\u001b[0;32m----> 1\u001b[0m \u001b[43mimprove_from_logs\u001b[49m(apply\u001b[38;5;241m=\u001b[39m\u001b[38;5;28;01mFalse\u001b[39;00m, topk\u001b[38;5;241m=\u001b[39m\u001b[38;5;241m3\u001b[39m)  \u001b[38;5;66;03m# 제안만 미리 보기\u001b[39;00m\n\u001b[1;32m      2\u001b[0m improve_from_logs(apply\u001b[38;5;241m=\u001b[39m\u001b[38;5;28;01mTrue\u001b[39;00m,  topk\u001b[38;5;241m=\u001b[39m\u001b[38;5;241m3\u001b[39m)  \u001b[38;5;66;03m# 룰에 반영 + 재평가\u001b[39;00m\n\u001b[1;32m      3\u001b[0m save_rules(RULES)                       \u001b[38;5;66;03m# 업데이트된 rules.json 저장\u001b[39;00m\n",
      "\u001b[0;31mNameError\u001b[0m: name 'improve_from_logs' is not defined"
     ]
    }
   ],
   "source": [
    "improve_from_logs(apply=False, topk=3)  # 제안만 미리 보기\n",
    "improve_from_logs(apply=True,  topk=3)  # 룰에 반영 + 재평가\n",
    "save_rules(RULES)                       # 업데이트된 rules.json 저장\n"
   ]
  },
  {
   "cell_type": "code",
   "execution_count": null,
   "id": "0e72434d-8e6e-4e36-924c-aa596404bce0",
   "metadata": {},
   "outputs": [],
   "source": []
  }
 ],
 "metadata": {
  "kernelspec": {
   "display_name": "Python (nlp_env)",
   "language": "python",
   "name": "nlp_env"
  },
  "language_info": {
   "codemirror_mode": {
    "name": "ipython",
    "version": 3
   },
   "file_extension": ".py",
   "mimetype": "text/x-python",
   "name": "python",
   "nbconvert_exporter": "python",
   "pygments_lexer": "ipython3",
   "version": "3.10.12"
  }
 },
 "nbformat": 4,
 "nbformat_minor": 5
}
