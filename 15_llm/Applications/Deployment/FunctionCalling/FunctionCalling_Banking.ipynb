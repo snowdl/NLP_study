{
 "cells": [
  {
   "cell_type": "code",
   "execution_count": 19,
   "id": "a6dc69a7-94a5-4e2a-9712-53dc59b17812",
   "metadata": {},
   "outputs": [
    {
     "data": {
      "text/plain": [
       "'\\nWhat is Function Calling?\\nFunction calling is a pattern where an LLM interprets natural language into structured intent and parameters, then executes a predefined function (tool) with the correct arguments, and incorporates the result into its reply.\\nIn short: understand the request → decide the action → call a function → answer with the result.\\n\\nHow does it work?\\n\\n1.User message input\\n2.Intent detection + argument extraction (e.g., report_card_lost(user_id=\"U1001\"))\\n3. Function execution (real API/DB/internal system or a mock function)\\n4.Summarize/post-process the result and present it to the user\\n'"
      ]
     },
     "execution_count": 19,
     "metadata": {},
     "output_type": "execute_result"
    }
   ],
   "source": [
    "\"\"\"\n",
    "What is Function Calling?\n",
    "Function calling is a pattern where an LLM interprets natural language into structured intent and parameters, then executes a predefined function (tool) with the correct arguments, and incorporates the result into its reply.\n",
    "In short: understand the request → decide the action → call a function → answer with the result.\n",
    "\n",
    "How does it work?\n",
    "\n",
    "1.User message input\n",
    "2.Intent detection + argument extraction (e.g., report_card_lost(user_id=\"U1001\"))\n",
    "3. Function execution (real API/DB/internal system or a mock function)\n",
    "4.Summarize/post-process the result and present it to the user\n",
    "\"\"\""
   ]
  },
  {
   "cell_type": "code",
   "execution_count": 35,
   "id": "c0a24114-f96f-4b5f-a70a-08b8ef728d87",
   "metadata": {},
   "outputs": [],
   "source": [
    "#Flow\n",
    "#Step 1 — Imports & device check\n",
    "#Step 2 — Mock functions (replace with real APIs later)\n",
    "   ## What each function does\n",
    "\n",
    "# `report_card_lost(user_id)`: creates a mock support ticket for a lost/stolen card and returns a JSON payload with a random `ticket_id`.\n",
    "# `check_card_delivery(card_id)`: returns a mock shipment status (carrier, ETA, last update) for a given card.\n",
    "#`request_new_card(user_id)`: submits a mock new-card request and returns a JSON payload with a random `order_id`.\n",
    "\n",
    "#Step 3 — Minimal keyword rules (intent detection)\n",
    "#INTENT_RULES: maps intent → {keywords, function, args}\n",
    "\n",
    "#Step 4 — Engine (detect → dispatch)\n",
    "#detect_intent(text, rules) → finds first keyword match and returns\n",
    "#{\"intent\",\"function\",\"args\",\"confidence\"} or None.\n",
    "#case_message(intent_name) → human-readable English case label.\n",
    "#call_function(intent_spec, **kwargs) → gathers required args (fills safe defaults) and calls the mapped function.\n",
    "#run_pipeline(text, **kwargs) → end-to-end:\n",
    "#detect intent\n",
    "#call function"
   ]
  },
  {
   "cell_type": "code",
   "execution_count": 2,
   "id": "84c9107f-892c-4a5f-a1a6-aa5c7518a34a",
   "metadata": {},
   "outputs": [],
   "source": [
    "#Environment"
   ]
  },
  {
   "cell_type": "code",
   "execution_count": 4,
   "id": "d80c2274-1473-4920-82d4-7808fca881ce",
   "metadata": {},
   "outputs": [
    {
     "name": "stdout",
     "output_type": "stream",
     "text": [
      "device: mps\n"
     ]
    }
   ],
   "source": [
    "# Environment & device check\n",
    "import sys, torch\n",
    "if torch.backends.mps.is_available():\n",
    "    device = \"mps\"\n",
    "elif torch.cuda.is_available():\n",
    "    device = \"cuda\"\n",
    "else:\n",
    "    device = \"cpu\"\n",
    "print(\"device:\", device)"
   ]
  },
  {
   "cell_type": "code",
   "execution_count": 5,
   "id": "a397fbb9-fd30-4633-894e-aac8e3d0321d",
   "metadata": {},
   "outputs": [],
   "source": [
    "# ===== Cell 1 — Imports (organized, no duplicates) =====\n",
    "# Standard library\n",
    "import sys\n",
    "import re\n",
    "import json\n",
    "from pathlib import Path\n",
    "from datetime import datetime\n",
    "import random"
   ]
  },
  {
   "cell_type": "code",
   "execution_count": 22,
   "id": "dcdc10b8-839e-4255-8c2b-cc95d8da55e0",
   "metadata": {},
   "outputs": [],
   "source": [
    "# ===== Step 2 — Mock functions (replace with real APIs later) =====\n",
    "\n",
    "def report_card_lost(user_id: str):\n",
    "    \"\"\"Mock: create a lost-card ticket.\"\"\"\n",
    "    return {\n",
    "        \"action\": \"report_card_lost\",\n",
    "        \"user_id\": user_id or \"demo_user\",\n",
    "        \"ticket_id\": f\"T{random.randint(100000, 999999)}\",\n",
    "        \"status\": \"received\",\n",
    "        \"message\": \"Your card has been marked as lost. A support agent will contact you shortly.\"\n",
    "    }\n"
   ]
  },
  {
   "cell_type": "code",
   "execution_count": 23,
   "id": "5d83a773-55a4-4b14-b0f1-a65b1b6fb6b7",
   "metadata": {},
   "outputs": [],
   "source": [
    "def check_card_delivery(card_id: str):\n",
    "    \"\"\"Mock: return a fake shipment status.\"\"\"\n",
    "    eta_days = random.choice([1, 2, 3, 4, 5])\n",
    "    return {\n",
    "        \"action\": \"check_card_delivery\",\n",
    "        \"card_id\": card_id or \"CARD123\",\n",
    "        \"carrier\": \"MockExpress\",\n",
    "        \"eta\": f\"{eta_days} days\",\n",
    "        \"status\": \"in_transit\",\n",
    "        \"last_update\": datetime.utcnow().isoformat() + \"Z\",\n",
    "    }"
   ]
  },
  {
   "cell_type": "code",
   "execution_count": 24,
   "id": "5c8ffe72-4038-4067-b8b0-d1bef74d0aa4",
   "metadata": {},
   "outputs": [],
   "source": [
    "def request_new_card(user_id: str):\n",
    "    \"\"\"Mock: submit a new card request.\"\"\"\n",
    "    return {\n",
    "        \"action\": \"request_new_card\",\n",
    "        \"user_id\": user_id or \"demo_user\",\n",
    "        \"order_id\": f\"O{random.randint(100000, 999999)}\",\n",
    "        \"status\": \"submitted\",\n",
    "        \"message\": \"A new card request has been submitted.\",\n",
    "    }\n"
   ]
  },
  {
   "cell_type": "code",
   "execution_count": 9,
   "id": "52095427-3ce8-499b-a7be-d340935d0939",
   "metadata": {},
   "outputs": [],
   "source": [
    "#Intent Rules ("
   ]
  },
  {
   "cell_type": "code",
   "execution_count": 27,
   "id": "a1d8089a-aa57-4d65-abf5-506873219f4d",
   "metadata": {},
   "outputs": [],
   "source": [
    "# ===== Step 3 — Minimal keyword rules for intent detection =====\n",
    "# Each intent maps to:\n",
    "#   - keywords: phrases to look for in the (lowercased) user text\n",
    "#   - function: the function to call when this intent matches\n",
    "#   - args: required argument names for that function\n",
    "INTENT_RULES = {\n",
    "    \"report_card_lost\": {\n",
    "        \"keywords\": [\n",
    "            \"lost my card\",\n",
    "            \"card stolen\",\n",
    "            \"card missing\",\n",
    "            \"i lost my card\",\n",
    "            \"lost card\"\n",
    "        ],\n",
    "        \"function\": \"report_card_lost\",\n",
    "        \"args\": [\"user_id\"],\n",
    "    },\n",
    "    \"check_card_delivery\": {\n",
    "        \"keywords\": [\n",
    "            \"track my card\",\n",
    "            \"where is my card\",\n",
    "            \"card not arrived\",\n",
    "            \"card hasn't arrived\",\n",
    "            \"when will my card arrive\",\n",
    "            \"card delivery status\"\n",
    "        ],\n",
    "        \"function\": \"check_card_delivery\",\n",
    "        \"args\": [\"card_id\"],\n",
    "    },\n",
    "    \"request_new_card\": {\n",
    "        \"keywords\": [\n",
    "            \"order new card\",\n",
    "            \"replace my card\",\n",
    "            \"new card\",\n",
    "            \"request a new card\",\n",
    "            \"need a replacement card\"\n",
    "        ],\n",
    "        \"function\": \"request_new_card\",\n",
    "        \"args\": [\"user_id\"],\n",
    "    },\n",
    "}\n"
   ]
  },
  {
   "cell_type": "code",
   "execution_count": 28,
   "id": "49dc5a36-5ef3-48c5-9d65-c96bb6912c3c",
   "metadata": {},
   "outputs": [],
   "source": [
    "# ===== Step 4 — Engine: detect intent & dispatch to a function =====\n",
    "\n",
    "# Map intent names to actual callable functions (from Step 2)\n",
    "FUNC_REGISTRY = {\n",
    "    \"report_card_lost\": report_card_lost,\n",
    "    \"check_card_delivery\": check_card_delivery,\n",
    "    \"request_new_card\": request_new_card,\n",
    "}\n",
    "\n"
   ]
  },
  {
   "cell_type": "code",
   "execution_count": 29,
   "id": "9bf53d3c-9e2c-47cf-accc-4b8a8306fc4e",
   "metadata": {},
   "outputs": [],
   "source": [
    "def detect_intent(text: str, rules: dict):\n",
    "    \"\"\"\n",
    "    Very simple rule-based detector.\n",
    "    Returns a dict {'intent','function','args','confidence'} or None if no match.\n",
    "    \"\"\"\n",
    "    t = (text or \"\").lower()\n",
    "    for name, spec in rules.items():\n",
    "        for kw in spec.get(\"keywords\", []):\n",
    "            if re.search(re.escape(kw.lower()), t):\n",
    "                return {\n",
    "                    \"intent\": name,\n",
    "                    \"function\": spec[\"function\"],\n",
    "                    \"args\": spec.get(\"args\", []),\n",
    "                    \"confidence\": 0.9,\n",
    "                }\n",
    "    return None\n"
   ]
  },
  {
   "cell_type": "code",
   "execution_count": 30,
   "id": "6e8a01b1-6320-4464-a1a5-892c98b514ec",
   "metadata": {},
   "outputs": [],
   "source": [
    "# Human-readable English label for each case\n",
    "CASE_MESSAGE = {\n",
    "    \"report_card_lost\":    \"Case: Report a lost or stolen card.\",\n",
    "    \"check_card_delivery\": \"Case: Check card delivery status.\",\n",
    "    \"request_new_card\":    \"Case: Request a new or replacement card.\",\n",
    "}\n",
    "def case_message(intent_name: str) -> str:\n",
    "    return CASE_MESSAGE.get(intent_name, \"Case: Unknown.\")\n"
   ]
  },
  {
   "cell_type": "code",
   "execution_count": 31,
   "id": "ab07f6ed-c2a7-4df0-81b8-4a8c6112f652",
   "metadata": {},
   "outputs": [],
   "source": [
    "def call_function(intent_spec: dict, **kwargs):\n",
    "    \"\"\"\n",
    "    Call the mapped function with required kwargs.\n",
    "    If an argument is missing, fill a safe default for demo purposes.\n",
    "    \"\"\"\n",
    "    fn = FUNC_REGISTRY[intent_spec[\"function\"]]\n",
    "    final_kwargs = {}\n",
    "    for a in intent_spec.get(\"args\", []):\n",
    "        v = kwargs.get(a)\n",
    "        if not v:\n",
    "            v = \"demo_user\" if a == \"user_id\" else \"CARD123\"\n",
    "        final_kwargs[a] = v\n",
    "    return fn(**final_kwargs)"
   ]
  },
  {
   "cell_type": "code",
   "execution_count": 32,
   "id": "564a1ed1-1432-4771-9ec0-48484256659b",
   "metadata": {},
   "outputs": [],
   "source": [
    "def run_pipeline(text: str, **kwargs):\n",
    "    \"\"\"\n",
    "    Full pipeline:\n",
    "      1) detect intent\n",
    "      2) call function\n",
    "      3) return a JSON-able dict with an English case message\n",
    "    \"\"\"\n",
    "    intent = detect_intent(text, INTENT_RULES)\n",
    "    if not intent:\n",
    "        return {\"ok\": False, \"reason\": \"no_intent_matched\", \"text\": text}\n",
    "\n",
    "    result = call_function(intent, **kwargs)\n",
    "    return {\n",
    "        \"ok\": True,\n",
    "        \"input_text\": text,\n",
    "        \"detected_intent\": intent[\"intent\"],\n",
    "        \"function_called\": intent[\"function\"],\n",
    "        \"case_english\": case_message(intent[\"intent\"]),\n",
    "        \"result\": result,\n",
    "    }"
   ]
  },
  {
   "cell_type": "code",
   "execution_count": 16,
   "id": "dfdc1718-8c56-447a-8e98-23a06a5db2fc",
   "metadata": {},
   "outputs": [],
   "source": [
    "#Quick Sanity Tests"
   ]
  },
  {
   "cell_type": "code",
   "execution_count": 33,
   "id": "6baf790c-73cd-41ef-847f-1c6ef52e4d10",
   "metadata": {},
   "outputs": [
    {
     "name": "stdout",
     "output_type": "stream",
     "text": [
      "{\n",
      "  \"ok\": true,\n",
      "  \"input_text\": \"I lost my card yesterday\",\n",
      "  \"detected_intent\": \"report_card_lost\",\n",
      "  \"function_called\": \"report_card_lost\",\n",
      "  \"case_english\": \"Case: Report a lost or stolen card.\",\n",
      "  \"result\": {\n",
      "    \"action\": \"report_card_lost\",\n",
      "    \"user_id\": \"U1001\",\n",
      "    \"ticket_id\": \"T813567\",\n",
      "    \"status\": \"received\",\n",
      "    \"message\": \"Your card has been marked as lost. A support agent will contact you shortly.\"\n",
      "  }\n",
      "}\n",
      "{\n",
      "  \"ok\": true,\n",
      "  \"input_text\": \"Where is my card? It hasn't arrived yet.\",\n",
      "  \"detected_intent\": \"check_card_delivery\",\n",
      "  \"function_called\": \"check_card_delivery\",\n",
      "  \"case_english\": \"Case: Check card delivery status.\",\n",
      "  \"result\": {\n",
      "    \"action\": \"check_card_delivery\",\n",
      "    \"card_id\": \"C5555\",\n",
      "    \"carrier\": \"MockExpress\",\n",
      "    \"eta\": \"2 days\",\n",
      "    \"status\": \"in_transit\",\n",
      "    \"last_update\": \"2025-08-31T08:27:32.242833Z\"\n",
      "  }\n",
      "}\n",
      "{\n",
      "  \"ok\": true,\n",
      "  \"input_text\": \"Please order a new card\",\n",
      "  \"detected_intent\": \"request_new_card\",\n",
      "  \"function_called\": \"request_new_card\",\n",
      "  \"case_english\": \"Case: Request a new or replacement card.\",\n",
      "  \"result\": {\n",
      "    \"action\": \"request_new_card\",\n",
      "    \"user_id\": \"U1001\",\n",
      "    \"order_id\": \"O113849\",\n",
      "    \"status\": \"submitted\",\n",
      "    \"message\": \"A new card request has been submitted.\"\n",
      "  }\n",
      "}\n",
      "{\n",
      "  \"ok\": false,\n",
      "  \"reason\": \"no_intent_matched\",\n",
      "  \"text\": \"My card was stolen last night\"\n",
      "}\n",
      "{\n",
      "  \"ok\": true,\n",
      "  \"input_text\": \"When will my card arrive?\",\n",
      "  \"detected_intent\": \"check_card_delivery\",\n",
      "  \"function_called\": \"check_card_delivery\",\n",
      "  \"case_english\": \"Case: Check card delivery status.\",\n",
      "  \"result\": {\n",
      "    \"action\": \"check_card_delivery\",\n",
      "    \"card_id\": \"K-9999\",\n",
      "    \"carrier\": \"MockExpress\",\n",
      "    \"eta\": \"1 days\",\n",
      "    \"status\": \"in_transit\",\n",
      "    \"last_update\": \"2025-08-31T08:27:32.243465Z\"\n",
      "  }\n",
      "}\n"
     ]
    }
   ],
   "source": [
    "# ===== Step 5 — Quick sanity tests =====\n",
    "# Run a few messages to ensure the pipeline works end-to-end.\n",
    "# Note: tests are in English to match our keyword rules from Step 3.\n",
    "\n",
    "tests = [\n",
    "    {\"text\": \"I lost my card yesterday\", \"user_id\": \"U1001\"},\n",
    "    {\"text\": \"Where is my card? It hasn't arrived yet.\", \"card_id\": \"C5555\"},\n",
    "    {\"text\": \"Please order a new card\", \"user_id\": \"U1001\"},\n",
    "    {\"text\": \"My card was stolen last night\", \"user_id\": \"U1002\"},\n",
    "    {\"text\": \"When will my card arrive?\", \"card_id\": \"K-9999\"},\n",
    "]\n",
    "\n",
    "for t in tests:\n",
    "    out = run_pipeline(**t)\n",
    "    print(json.dumps(out, ensure_ascii=False, indent=2))"
   ]
  },
  {
   "cell_type": "code",
   "execution_count": null,
   "id": "5f799ed4-7af2-4866-be7a-408c3f91008a",
   "metadata": {},
   "outputs": [],
   "source": []
  }
 ],
 "metadata": {
  "kernelspec": {
   "display_name": "Python (nlp_env)",
   "language": "python",
   "name": "nlp_env"
  },
  "language_info": {
   "codemirror_mode": {
    "name": "ipython",
    "version": 3
   },
   "file_extension": ".py",
   "mimetype": "text/x-python",
   "name": "python",
   "nbconvert_exporter": "python",
   "pygments_lexer": "ipython3",
   "version": "3.10.12"
  }
 },
 "nbformat": 4,
 "nbformat_minor": 5
}
