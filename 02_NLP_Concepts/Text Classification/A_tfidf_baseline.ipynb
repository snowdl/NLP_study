{
 "cells": [
  {
   "cell_type": "code",
   "execution_count": 7,
   "id": "74f3af71-77dc-4f0d-9791-d138513e4b2a",
   "metadata": {},
   "outputs": [
    {
     "name": "stdout",
     "output_type": "stream",
     "text": [
      "Requirement already satisfied: datasets in /Users/jessicahong/.pyenv/versions/3.11.11/lib/python3.11/site-packages (3.6.0)\n",
      "Requirement already satisfied: filelock in /Users/jessicahong/.pyenv/versions/3.11.11/lib/python3.11/site-packages (from datasets) (3.18.0)\n",
      "Requirement already satisfied: numpy>=1.17 in /Users/jessicahong/.pyenv/versions/3.11.11/lib/python3.11/site-packages (from datasets) (1.26.4)\n",
      "Requirement already satisfied: pyarrow>=15.0.0 in /Users/jessicahong/.pyenv/versions/3.11.11/lib/python3.11/site-packages (from datasets) (19.0.1)\n",
      "Requirement already satisfied: dill<0.3.9,>=0.3.0 in /Users/jessicahong/.pyenv/versions/3.11.11/lib/python3.11/site-packages (from datasets) (0.3.8)\n",
      "Requirement already satisfied: pandas in /Users/jessicahong/.pyenv/versions/3.11.11/lib/python3.11/site-packages (from datasets) (2.3.0)\n",
      "Requirement already satisfied: requests>=2.32.2 in /Users/jessicahong/.pyenv/versions/3.11.11/lib/python3.11/site-packages (from datasets) (2.32.5)\n",
      "Requirement already satisfied: tqdm>=4.66.3 in /Users/jessicahong/.pyenv/versions/3.11.11/lib/python3.11/site-packages (from datasets) (4.67.1)\n",
      "Requirement already satisfied: xxhash in /Users/jessicahong/.pyenv/versions/3.11.11/lib/python3.11/site-packages (from datasets) (3.5.0)\n",
      "Requirement already satisfied: multiprocess<0.70.17 in /Users/jessicahong/.pyenv/versions/3.11.11/lib/python3.11/site-packages (from datasets) (0.70.16)\n",
      "Requirement already satisfied: fsspec<=2025.3.0,>=2023.1.0 in /Users/jessicahong/.pyenv/versions/3.11.11/lib/python3.11/site-packages (from fsspec[http]<=2025.3.0,>=2023.1.0->datasets) (2024.12.0)\n",
      "Requirement already satisfied: huggingface-hub>=0.24.0 in /Users/jessicahong/.pyenv/versions/3.11.11/lib/python3.11/site-packages (from datasets) (0.34.4)\n",
      "Requirement already satisfied: packaging in /Users/jessicahong/.pyenv/versions/3.11.11/lib/python3.11/site-packages (from datasets) (23.2)\n",
      "Requirement already satisfied: pyyaml>=5.1 in /Users/jessicahong/.pyenv/versions/3.11.11/lib/python3.11/site-packages (from datasets) (6.0.1)\n",
      "Requirement already satisfied: aiohttp!=4.0.0a0,!=4.0.0a1 in /Users/jessicahong/.pyenv/versions/3.11.11/lib/python3.11/site-packages (from fsspec[http]<=2025.3.0,>=2023.1.0->datasets) (3.9.3)\n",
      "Requirement already satisfied: aiosignal>=1.1.2 in /Users/jessicahong/.pyenv/versions/3.11.11/lib/python3.11/site-packages (from aiohttp!=4.0.0a0,!=4.0.0a1->fsspec[http]<=2025.3.0,>=2023.1.0->datasets) (1.3.1)\n",
      "Requirement already satisfied: attrs>=17.3.0 in /Users/jessicahong/.pyenv/versions/3.11.11/lib/python3.11/site-packages (from aiohttp!=4.0.0a0,!=4.0.0a1->fsspec[http]<=2025.3.0,>=2023.1.0->datasets) (25.3.0)\n",
      "Requirement already satisfied: frozenlist>=1.1.1 in /Users/jessicahong/.pyenv/versions/3.11.11/lib/python3.11/site-packages (from aiohttp!=4.0.0a0,!=4.0.0a1->fsspec[http]<=2025.3.0,>=2023.1.0->datasets) (1.4.1)\n",
      "Requirement already satisfied: multidict<7.0,>=4.5 in /Users/jessicahong/.pyenv/versions/3.11.11/lib/python3.11/site-packages (from aiohttp!=4.0.0a0,!=4.0.0a1->fsspec[http]<=2025.3.0,>=2023.1.0->datasets) (6.0.5)\n",
      "Requirement already satisfied: yarl<2.0,>=1.0 in /Users/jessicahong/.pyenv/versions/3.11.11/lib/python3.11/site-packages (from aiohttp!=4.0.0a0,!=4.0.0a1->fsspec[http]<=2025.3.0,>=2023.1.0->datasets) (1.9.4)\n",
      "Requirement already satisfied: idna>=2.0 in /Users/jessicahong/.pyenv/versions/3.11.11/lib/python3.11/site-packages (from yarl<2.0,>=1.0->aiohttp!=4.0.0a0,!=4.0.0a1->fsspec[http]<=2025.3.0,>=2023.1.0->datasets) (3.6)\n",
      "Requirement already satisfied: typing-extensions>=3.7.4.3 in /Users/jessicahong/.pyenv/versions/3.11.11/lib/python3.11/site-packages (from huggingface-hub>=0.24.0->datasets) (4.14.1)\n",
      "Requirement already satisfied: hf-xet<2.0.0,>=1.1.3 in /Users/jessicahong/.pyenv/versions/3.11.11/lib/python3.11/site-packages (from huggingface-hub>=0.24.0->datasets) (1.1.5)\n",
      "Requirement already satisfied: charset_normalizer<4,>=2 in /Users/jessicahong/.pyenv/versions/3.11.11/lib/python3.11/site-packages (from requests>=2.32.2->datasets) (3.4.3)\n",
      "Requirement already satisfied: urllib3<3,>=1.21.1 in /Users/jessicahong/.pyenv/versions/3.11.11/lib/python3.11/site-packages (from requests>=2.32.2->datasets) (2.2.1)\n",
      "Requirement already satisfied: certifi>=2017.4.17 in /Users/jessicahong/.pyenv/versions/3.11.11/lib/python3.11/site-packages (from requests>=2.32.2->datasets) (2024.2.2)\n",
      "Requirement already satisfied: python-dateutil>=2.8.2 in /Users/jessicahong/.pyenv/versions/3.11.11/lib/python3.11/site-packages (from pandas->datasets) (2.9.0.post0)\n",
      "Requirement already satisfied: pytz>=2020.1 in /Users/jessicahong/.pyenv/versions/3.11.11/lib/python3.11/site-packages (from pandas->datasets) (2025.1)\n",
      "Requirement already satisfied: tzdata>=2022.7 in /Users/jessicahong/.pyenv/versions/3.11.11/lib/python3.11/site-packages (from pandas->datasets) (2025.1)\n",
      "Requirement already satisfied: six>=1.5 in /Users/jessicahong/.pyenv/versions/3.11.11/lib/python3.11/site-packages (from python-dateutil>=2.8.2->pandas->datasets) (1.17.0)\n"
     ]
    }
   ],
   "source": [
    "!pip install datasets"
   ]
  },
  {
   "cell_type": "code",
   "execution_count": 8,
   "id": "45b8d789-bd5d-40e6-a237-21b8650d154c",
   "metadata": {},
   "outputs": [],
   "source": [
    "#A_baseline 개선 → word+char ngram, LinearSVC, 파라미터 튜닝"
   ]
  },
  {
   "cell_type": "code",
   "execution_count": null,
   "id": "96268d2f-b14f-4d43-b79d-3c78b2b4a3bf",
   "metadata": {},
   "outputs": [],
   "source": [
    "\"\"\"\n",
    "Contents:\n",
    "Load dataset (BANKING77)\n",
    "Train/Test split\n",
    "TF-IDF (word 1–2gram) → Logistic Regression\n",
    "Evaluation (Accuracy = 0.844, Macro-F1 = 0.832)\n",
    "\"\"\""
   ]
  },
  {
   "cell_type": "code",
   "execution_count": null,
   "id": "5f256db9-c94b-4a5e-b5b4-bc3d1dfe3a2a",
   "metadata": {},
   "outputs": [],
   "source": [
    "import sys, platform\n",
    "print(\"PY:\", sys.executable)\n",
    "print(\"VER:\", platform.python_version())"
   ]
  },
  {
   "cell_type": "code",
   "execution_count": null,
   "id": "906a442a-d508-4934-a32c-41a6307920d9",
   "metadata": {},
   "outputs": [],
   "source": [
    "from datasets import load_dataset\n",
    "from sklearn.model_selection import train_test_split"
   ]
  },
  {
   "cell_type": "code",
   "execution_count": null,
   "id": "91b8d1f3-0d59-4524-bf8d-0d41491d2178",
   "metadata": {},
   "outputs": [],
   "source": [
    "ds = load_dataset(\"PolyAI/banking77\")"
   ]
  },
  {
   "cell_type": "code",
   "execution_count": null,
   "id": "0235702b-6e91-4e77-9e93-f21258ab971a",
   "metadata": {},
   "outputs": [],
   "source": [
    "print(ds)"
   ]
  },
  {
   "cell_type": "code",
   "execution_count": null,
   "id": "6ec7b3b3-19b8-4945-8912-42fb4c3c060a",
   "metadata": {},
   "outputs": [],
   "source": [
    "X, y = ds[\"train\"][\"text\"], ds[\"train\"][\"label\"]"
   ]
  },
  {
   "cell_type": "code",
   "execution_count": null,
   "id": "af650aea-fbaa-42c3-8533-4f7e653db537",
   "metadata": {},
   "outputs": [],
   "source": [
    "X_train, X_test, y_train, y_test = train_test_split(\n",
    "    X, y, test_size=0.2, random_state=42, stratify=y)"
   ]
  },
  {
   "cell_type": "code",
   "execution_count": null,
   "id": "15a0379b-8576-42ed-8501-6aa10216d865",
   "metadata": {},
   "outputs": [],
   "source": [
    "len(X_train), len(X_test), len(set(y))"
   ]
  },
  {
   "cell_type": "code",
   "execution_count": null,
   "id": "67106f50-f748-4e4c-8e5a-05c8ad407485",
   "metadata": {},
   "outputs": [],
   "source": [
    "#TF-IDF + Logistic Regression"
   ]
  },
  {
   "cell_type": "code",
   "execution_count": null,
   "id": "bdaae437-6b0f-4093-bb1b-640ff12a68d1",
   "metadata": {},
   "outputs": [],
   "source": [
    "from sklearn.feature_extraction.text import TfidfVectorizer\n",
    "from sklearn.linear_model import LogisticRegression\n",
    "from sklearn.metrics import accuracy_score, f1_score, classification_report"
   ]
  },
  {
   "cell_type": "code",
   "execution_count": null,
   "id": "e7891e50-1fc4-48b0-b152-969a9df27127",
   "metadata": {},
   "outputs": [],
   "source": [
    "vec = TfidfVectorizer(ngram_range=(1,2), min_df=2, max_features=100_000)\n",
    "Xtr = vec.fit_transform(X_train); Xte = vec.transform(X_test)"
   ]
  },
  {
   "cell_type": "code",
   "execution_count": null,
   "id": "9dd51086-e251-4d30-a459-f4f71d8dc614",
   "metadata": {},
   "outputs": [],
   "source": [
    "clf = LogisticRegression(max_iter=2000, n_jobs=-1)\n",
    "clf.fit(Xtr, y_train)"
   ]
  },
  {
   "cell_type": "code",
   "execution_count": null,
   "id": "f0f71603-b099-4833-ae1d-960002d683b1",
   "metadata": {},
   "outputs": [],
   "source": [
    "pred = clf.predict(Xte)\n",
    "print(\"Accuracy:\", accuracy_score(y_test, pred))\n",
    "print(\"Macro-F1:\", f1_score(y_test, pred, average=\"macro\"))\n",
    "print(classification_report(y_test, pred, digits=4))"
   ]
  },
  {
   "cell_type": "code",
   "execution_count": null,
   "id": "1c475739-2dcc-4ed6-b00a-c8182fb7013c",
   "metadata": {},
   "outputs": [],
   "source": [
    "from sklearn.feature_extraction.text import TfidfVectorizer\n",
    "from scipy.sparse import hstack\n",
    "from sklearn.linear_model import LogisticRegression\n",
    "from sklearn.metrics import accuracy_score, f1_score"
   ]
  },
  {
   "cell_type": "code",
   "execution_count": null,
   "id": "ab31c94c-fa62-447c-8cea-7011e4a5d66f",
   "metadata": {},
   "outputs": [],
   "source": [
    "word_vec = TfidfVectorizer(ngram_range=(1,2), min_df=2, max_features=150_000)\n",
    "char_vec = TfidfVectorizer(analyzer=\"char_wb\", ngram_range=(3,5), min_df=2, max_features=150_000)"
   ]
  },
  {
   "cell_type": "code",
   "execution_count": null,
   "id": "227f9b7c-036e-4f9f-adb6-fc7d1a41c92d",
   "metadata": {},
   "outputs": [],
   "source": [
    "Xtr_word = word_vec.fit_transform(X_train)\n",
    "Xte_word = word_vec.transform(X_test)\n",
    "Xtr_char = char_vec.fit_transform(X_train)\n",
    "Xte_char = char_vec.transform(X_test)\n"
   ]
  },
  {
   "cell_type": "code",
   "execution_count": null,
   "id": "1acc7991-beea-40d3-b155-3a7926d1410c",
   "metadata": {},
   "outputs": [],
   "source": [
    "\n",
    "Xtr = hstack([Xtr_word, Xtr_char])\n",
    "Xte = hstack([Xte_word, Xte_char])"
   ]
  },
  {
   "cell_type": "code",
   "execution_count": null,
   "id": "2d25811a-39fe-46da-bbeb-4458bc5adb3b",
   "metadata": {},
   "outputs": [],
   "source": [
    "clf = LogisticRegression(max_iter=3000, n_jobs=-1)\n",
    "clf.fit(Xtr, y_train)\n",
    "pred = clf.predict(Xte)\n",
    "print(\"Acc:\", accuracy_score(y_test, pred))\n",
    "print(\"Macro-F1:\", f1_score(y_test, pred, average=\"macro\"))"
   ]
  },
  {
   "cell_type": "code",
   "execution_count": null,
   "id": "43409831-d537-4e7e-888f-77a5ca22c740",
   "metadata": {},
   "outputs": [],
   "source": [
    "#LinearSVC로 분류기 교체"
   ]
  },
  {
   "cell_type": "code",
   "execution_count": null,
   "id": "cb02bfee-3d92-495f-add5-ea932b45ed66",
   "metadata": {},
   "outputs": [],
   "source": [
    "from sklearn.svm import LinearSVC\n",
    "svc = LinearSVC(C=1.0)\n",
    "svc.fit(Xtr, y_train)\n",
    "pred = svc.predict(Xte)\n",
    "print(\"Acc:\", accuracy_score(y_test, pred))\n",
    "print(\"Macro-F1:\", f1_score(y_test, pred, average=\"macro\"))\n"
   ]
  },
  {
   "cell_type": "code",
   "execution_count": null,
   "id": "2b9c2e58-bd27-4469-be04-cfdc46bdc580",
   "metadata": {},
   "outputs": [],
   "source": [
    "#(c) 빠른 하이퍼파라미터 튜닝"
   ]
  },
  {
   "cell_type": "code",
   "execution_count": null,
   "id": "5295930a-6025-4363-b29e-044022211503",
   "metadata": {},
   "outputs": [],
   "source": [
    "from sklearn.model_selection import GridSearchCV\n",
    "param_grid = {\"C\": [0.5, 1.0, 2.0, 5.0]}\n",
    "grid = GridSearchCV(LinearSVC(), param_grid, cv=3, n_jobs=-1, scoring=\"f1_macro\", verbose=0)\n",
    "grid.fit(Xtr, y_train)\n",
    "best_svc = grid.best_estimator_\n",
    "pred = best_svc.predict(Xte)\n",
    "print(\"BEST\", grid.best_params_)\n",
    "print(\"Acc:\", accuracy_score(y_test, pred))\n",
    "print(\"Macro-F1:\", f1_score(y_test, pred, average=\"macro\"))"
   ]
  },
  {
   "cell_type": "code",
   "execution_count": null,
   "id": "fcd32f17-f43f-4552-b1f2-44d26b4bcb2c",
   "metadata": {},
   "outputs": [],
   "source": [
    "#2) 에러 분석(바로 액션 가능한 셀)"
   ]
  },
  {
   "cell_type": "code",
   "execution_count": null,
   "id": "76abe003-a21f-41dc-a971-f2fc7b9b7662",
   "metadata": {},
   "outputs": [],
   "source": [
    "import numpy as np\n",
    "from sklearn.metrics import confusion_matrix\n",
    "\n",
    "pred = best_svc.predict(Xte)  # 위에서 학습한 분류기 사용\n",
    "cm = confusion_matrix(y_test, pred)\n",
    "pairs = []\n",
    "for i in range(cm.shape[0]):\n",
    "    for j in range(cm.shape[1]):\n",
    "        if i!=j and cm[i,j]>0:\n",
    "            pairs.append((cm[i,j], i, j))\n",
    "pairs = sorted(pairs, reverse=True)[:10]\n",
    "pairs  # (count, true, pred) 상위 10개"
   ]
  },
  {
   "cell_type": "code",
   "execution_count": null,
   "id": "2cca065a-ebb1-4029-a491-2bcf37d9f835",
   "metadata": {},
   "outputs": [],
   "source": [
    "#(b) 모델이 헷갈린 실제 텍스트 보기"
   ]
  },
  {
   "cell_type": "code",
   "execution_count": null,
   "id": "d69355cc-2959-4ac7-93d5-4fbdeac63e87",
   "metadata": {},
   "outputs": [],
   "source": [
    "import pandas as pd\n",
    "wrong_idx = np.where(pred != y_test)[0][:30]\n",
    "pd.DataFrame({\n",
    "    \"text\": [X_test[i] for i in wrong_idx],\n",
    "    \"true\": [y_test[i] for i in wrong_idx],\n",
    "    \"pred\": [pred[i] for i in wrong_idx],\n",
    "})"
   ]
  },
  {
   "cell_type": "code",
   "execution_count": null,
   "id": "ea3e6fa4-e0eb-44e4-9b37-60e7efc96d0b",
   "metadata": {},
   "outputs": [],
   "source": [
    "#3) 결과 아카이브(깃헙 업로드용)"
   ]
  },
  {
   "cell_type": "code",
   "execution_count": null,
   "id": "f0cc220e-ce75-43e0-aabb-9e9e78d8fde5",
   "metadata": {},
   "outputs": [],
   "source": [
    "from sklearn.metrics import confusion_matrix\n",
    "import matplotlib.pyplot as plt\n",
    "\n",
    "cm = confusion_matrix(y_test, pred)\n",
    "plt.figure(figsize=(6,6))\n",
    "plt.imshow(cm, interpolation='nearest')\n",
    "plt.title(\"Confusion Matrix (TF-IDF baseline)\")\n",
    "plt.xlabel(\"Predicted\"); plt.ylabel(\"True\")\n",
    "plt.tight_layout()\n",
    "plt.savefig(\"02_NLP_Concepts/Intent_Classification/exports/cm_tfidf_baseline.png\", dpi=150)\n"
   ]
  },
  {
   "cell_type": "code",
   "execution_count": null,
   "id": "4667f972-1189-4d7e-afe5-42250bc0572c",
   "metadata": {},
   "outputs": [],
   "source": [
    "(b) 모델/벡터라이저 저장"
   ]
  },
  {
   "cell_type": "code",
   "execution_count": null,
   "id": "3d52901b-5753-43dc-bf37-fbf9d55055c0",
   "metadata": {},
   "outputs": [],
   "source": [
    "import joblib, os\n",
    "os.makedirs(\"02_NLP_Concepts/Intent_Classification/exports\", exist_ok=True)\n",
    "joblib.dump(best_svc, \"02_NLP_Concepts/Intent_Classification/exports/tfidf_linearSVC.joblib\")\n",
    "joblib.dump(word_vec, \"02_NLP_Concepts/Intent_Classification/exports/tfidf_word.joblib\")\n",
    "joblib.dump(char_vec, \"02_NLP_Concepts/Intent_Classification/exports/tfidf_char.joblib\")\n"
   ]
  }
 ],
 "metadata": {
  "kernelspec": {
   "display_name": "Python (nlp_automl_env - pyenv)",
   "language": "python",
   "name": "nlp_automl_env_pyenv"
  },
  "language_info": {
   "codemirror_mode": {
    "name": "ipython",
    "version": 3
   },
   "file_extension": ".py",
   "mimetype": "text/x-python",
   "name": "python",
   "nbconvert_exporter": "python",
   "pygments_lexer": "ipython3",
   "version": "3.11.11"
  }
 },
 "nbformat": 4,
 "nbformat_minor": 5
}
