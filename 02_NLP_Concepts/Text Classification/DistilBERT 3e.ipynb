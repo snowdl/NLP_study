{
 "cells": [
  {
   "cell_type": "code",
   "execution_count": 1,
   "id": "418e725e-437b-47d4-9e2d-5e005222414e",
   "metadata": {},
   "outputs": [],
   "source": [
    "from datasets import load_dataset\n",
    "import numpy as np, evaluate\n",
    "from transformers import AutoTokenizer, AutoModelForSequenceClassification, TrainingArguments, Trainer\n",
    "from transformers.trainer_utils import IntervalStrategy"
   ]
  },
  {
   "cell_type": "code",
   "execution_count": 2,
   "id": "f12d1e3a-6214-4b31-b3d2-f713e0c3c1a4",
   "metadata": {},
   "outputs": [
    {
     "name": "stderr",
     "output_type": "stream",
     "text": [
      "Using the latest cached version of the dataset since PolyAI/banking77 couldn't be found on the Hugging Face Hub\n",
      "Found the latest cached dataset configuration 'default' at /Users/jessicahong/.cache/huggingface/datasets/PolyAI___banking77/default/1.1.0/17ffc2ed47c2ed928bee64127ff1dbc97204cb974c2f980becae7c864007aed9 (last modified on Thu Aug 21 22:30:16 2025).\n"
     ]
    }
   ],
   "source": [
    "# 데이터/메트릭\n",
    "ds = load_dataset(\"PolyAI/banking77\")\n",
    "acc = evaluate.load(\"accuracy\"); f1 = evaluate.load(\"f1\")\n",
    "def compute_metrics(p):\n",
    "    logits, labels = p\n",
    "    preds = np.argmax(logits, axis=1)\n",
    "    return {\"accuracy\": acc.compute(predictions=preds, references=labels)[\"accuracy\"],\n",
    "            \"f1_macro\": f1.compute(predictions=preds, references=labels, average=\"macro\")[\"f1\"]}\n"
   ]
  },
  {
   "cell_type": "code",
   "execution_count": 3,
   "id": "ff55d7b8-a111-4b56-9239-0e2fb5e57e9c",
   "metadata": {},
   "outputs": [
    {
     "data": {
      "application/vnd.jupyter.widget-view+json": {
       "model_id": "5f51196524124f7bac131ad41e75242a",
       "version_major": 2,
       "version_minor": 0
      },
      "text/plain": [
       "Map:   0%|          | 0/10003 [00:00<?, ? examples/s]"
      ]
     },
     "metadata": {},
     "output_type": "display_data"
    },
    {
     "data": {
      "application/vnd.jupyter.widget-view+json": {
       "model_id": "2d4b560197b741578c66989f30011ee0",
       "version_major": 2,
       "version_minor": 0
      },
      "text/plain": [
       "Map:   0%|          | 0/3080 [00:00<?, ? examples/s]"
      ]
     },
     "metadata": {},
     "output_type": "display_data"
    }
   ],
   "source": [
    "# 토크나이즈\n",
    "model_name = \"distilbert-base-uncased\"\n",
    "tok = AutoTokenizer.from_pretrained(model_name)\n",
    "def tok_fn(b): return tok(b[\"text\"], truncation=True, padding=\"max_length\", max_length=64)\n",
    "ds_tok = ds.map(tok_fn, batched=True).rename_column(\"label\",\"labels\")\n",
    "ds_tok.set_format(type=\"torch\", columns=[\"input_ids\",\"attention_mask\",\"labels\"])\n"
   ]
  },
  {
   "cell_type": "code",
   "execution_count": 4,
   "id": "a6a3b49e-70c5-44d3-b4ba-5066cfe069e7",
   "metadata": {},
   "outputs": [
    {
     "name": "stderr",
     "output_type": "stream",
     "text": [
      "Some weights of DistilBertForSequenceClassification were not initialized from the model checkpoint at distilbert-base-uncased and are newly initialized: ['classifier.bias', 'classifier.weight', 'pre_classifier.bias', 'pre_classifier.weight']\n",
      "You should probably TRAIN this model on a down-stream task to be able to use it for predictions and inference.\n"
     ]
    }
   ],
   "source": [
    "# 모델 + 학습(3 epochs)\n",
    "model = AutoModelForSequenceClassification.from_pretrained(model_name, num_labels=77)\n",
    "args = TrainingArguments(\n",
    "    output_dir=\"./out_distilbert_3e\",\n",
    "    learning_rate=2e-5,\n",
    "    num_train_epochs=3,                 # ← 3\n",
    "    per_device_train_batch_size=8,\n",
    "    per_device_eval_batch_size=16,\n",
    "    eval_strategy=IntervalStrategy.EPOCH,\n",
    "    save_strategy=IntervalStrategy.EPOCH,\n",
    "    load_best_model_at_end=True,\n",
    "    metric_for_best_model=\"f1_macro\",\n",
    "    greater_is_better=True,\n",
    "    report_to=None,\n",
    "    dataloader_pin_memory=False,\n",
    "    save_total_limit=2,\n",
    ")"
   ]
  },
  {
   "cell_type": "code",
   "execution_count": 5,
   "id": "5a2aaee7-3bdb-4777-a6fc-ac1c4df6e1ed",
   "metadata": {},
   "outputs": [
    {
     "name": "stderr",
     "output_type": "stream",
     "text": [
      "/var/folders/6y/xtl4b0cx1cs9zrr9n5y814_h0000gn/T/ipykernel_6804/483207701.py:1: FutureWarning: `tokenizer` is deprecated and will be removed in version 5.0.0 for `Trainer.__init__`. Use `processing_class` instead.\n",
      "  trainer = Trainer(model=model, args=args,\n"
     ]
    }
   ],
   "source": [
    "trainer = Trainer(model=model, args=args,\n",
    "                  train_dataset=ds_tok[\"train\"], eval_dataset=ds_tok[\"test\"],\n",
    "                  tokenizer=tok, compute_metrics=compute_metrics)"
   ]
  },
  {
   "cell_type": "code",
   "execution_count": 6,
   "id": "ada9eef2-77df-4114-9c13-ab0567bb0c59",
   "metadata": {},
   "outputs": [
    {
     "data": {
      "text/html": [
       "\n",
       "    <div>\n",
       "      \n",
       "      <progress value='3753' max='3753' style='width:300px; height:20px; vertical-align: middle;'></progress>\n",
       "      [3753/3753 05:15, Epoch 3/3]\n",
       "    </div>\n",
       "    <table border=\"1\" class=\"dataframe\">\n",
       "  <thead>\n",
       " <tr style=\"text-align: left;\">\n",
       "      <th>Epoch</th>\n",
       "      <th>Training Loss</th>\n",
       "      <th>Validation Loss</th>\n",
       "      <th>Accuracy</th>\n",
       "      <th>F1 Macro</th>\n",
       "    </tr>\n",
       "  </thead>\n",
       "  <tbody>\n",
       "    <tr>\n",
       "      <td>1</td>\n",
       "      <td>2.219100</td>\n",
       "      <td>1.294205</td>\n",
       "      <td>0.773701</td>\n",
       "      <td>0.748236</td>\n",
       "    </tr>\n",
       "    <tr>\n",
       "      <td>2</td>\n",
       "      <td>0.638500</td>\n",
       "      <td>0.588167</td>\n",
       "      <td>0.871429</td>\n",
       "      <td>0.866324</td>\n",
       "    </tr>\n",
       "    <tr>\n",
       "      <td>3</td>\n",
       "      <td>0.401300</td>\n",
       "      <td>0.466521</td>\n",
       "      <td>0.894156</td>\n",
       "      <td>0.893645</td>\n",
       "    </tr>\n",
       "  </tbody>\n",
       "</table><p>"
      ],
      "text/plain": [
       "<IPython.core.display.HTML object>"
      ]
     },
     "metadata": {},
     "output_type": "display_data"
    },
    {
     "data": {
      "text/plain": [
       "TrainOutput(global_step=3753, training_loss=1.300201029768633, metrics={'train_runtime': 319.9533, 'train_samples_per_second': 93.792, 'train_steps_per_second': 11.73, 'total_flos': 497566386108288.0, 'train_loss': 1.300201029768633, 'epoch': 3.0})"
      ]
     },
     "execution_count": 6,
     "metadata": {},
     "output_type": "execute_result"
    }
   ],
   "source": [
    "trainer.train()"
   ]
  },
  {
   "cell_type": "code",
   "execution_count": 7,
   "id": "7817939b-203d-4535-abd1-f08c4d35d8b0",
   "metadata": {},
   "outputs": [
    {
     "data": {
      "text/html": [
       "\n",
       "    <div>\n",
       "      \n",
       "      <progress value='193' max='193' style='width:300px; height:20px; vertical-align: middle;'></progress>\n",
       "      [193/193 00:06]\n",
       "    </div>\n",
       "    "
      ],
      "text/plain": [
       "<IPython.core.display.HTML object>"
      ]
     },
     "metadata": {},
     "output_type": "display_data"
    }
   ],
   "source": [
    "distil3_eval = trainer.evaluate()"
   ]
  },
  {
   "cell_type": "code",
   "execution_count": 8,
   "id": "53afd859-5606-4ebb-a4a2-9edf174be8c4",
   "metadata": {},
   "outputs": [
    {
     "data": {
      "text/plain": [
       "{'eval_loss': 0.46652093529701233,\n",
       " 'eval_accuracy': 0.8941558441558441,\n",
       " 'eval_f1_macro': 0.8936446681976905,\n",
       " 'eval_runtime': 7.1246,\n",
       " 'eval_samples_per_second': 432.305,\n",
       " 'eval_steps_per_second': 27.089,\n",
       " 'epoch': 3.0}"
      ]
     },
     "execution_count": 8,
     "metadata": {},
     "output_type": "execute_result"
    }
   ],
   "source": [
    "distil3_eval"
   ]
  },
  {
   "cell_type": "code",
   "execution_count": null,
   "id": "6f84b185-58e2-47c4-b929-51106a8742a1",
   "metadata": {},
   "outputs": [],
   "source": []
  }
 ],
 "metadata": {
  "kernelspec": {
   "display_name": "Python (nlp_automl_env)",
   "language": "python",
   "name": "nlp_automl_env"
  },
  "language_info": {
   "codemirror_mode": {
    "name": "ipython",
    "version": 3
   },
   "file_extension": ".py",
   "mimetype": "text/x-python",
   "name": "python",
   "nbconvert_exporter": "python",
   "pygments_lexer": "ipython3",
   "version": "3.10.12"
  }
 },
 "nbformat": 4,
 "nbformat_minor": 5
}
