{
 "cells": [
  {
   "cell_type": "code",
   "execution_count": 9,
   "id": "57e18281-3503-4e64-b86a-134ccd36ae30",
   "metadata": {},
   "outputs": [],
   "source": [
    "#1-2) NLU 파일 자동 생성 (intent당 30개 샘플 → 빠르게)"
   ]
  },
  {
   "cell_type": "code",
   "execution_count": 1,
   "id": "21441f9b-2602-4743-a702-5ffb0e9bcbab",
   "metadata": {},
   "outputs": [],
   "source": [
    "import os, yaml\n",
    "from collections import defaultdict\n",
    "from datasets import load_dataset"
   ]
  },
  {
   "cell_type": "code",
   "execution_count": 2,
   "id": "b3c2ae04-010e-460a-9dec-a1a661ba39b6",
   "metadata": {},
   "outputs": [],
   "source": [
    "\n",
    "base = \"02_NLP_Concepts/Intent_Classification/C_rasa\"\n",
    "os.makedirs(base, exist_ok=True)"
   ]
  },
  {
   "cell_type": "code",
   "execution_count": 3,
   "id": "fd5acdde-0670-42ac-8d3a-c8190a264bc0",
   "metadata": {},
   "outputs": [
    {
     "name": "stderr",
     "output_type": "stream",
     "text": [
      "Using the latest cached version of the dataset since PolyAI/banking77 couldn't be found on the Hugging Face Hub\n",
      "Found the latest cached dataset configuration 'default' at /Users/jessicahong/.cache/huggingface/datasets/PolyAI___banking77/default/1.1.0/17ffc2ed47c2ed928bee64127ff1dbc97204cb974c2f980becae7c864007aed9 (last modified on Thu Aug 21 22:46:11 2025).\n"
     ]
    }
   ],
   "source": [
    "# 데이터 로드\n",
    "ds = load_dataset(\"PolyAI/banking77\")"
   ]
  },
  {
   "cell_type": "code",
   "execution_count": 4,
   "id": "965023c4-1c21-40dc-8075-ae8dfbbb45c9",
   "metadata": {},
   "outputs": [],
   "source": [
    "\n",
    "# nlu.yml (각 인텐트 30개 샘플만 사용해 속도 절약)\n",
    "intents = defaultdict(list)\n",
    "for text, label in zip(ds[\"train\"][\"text\"], ds[\"train\"][\"label\"]):\n",
    "    intents[f\"intent_{label}\"].append(text)"
   ]
  },
  {
   "cell_type": "code",
   "execution_count": 5,
   "id": "6d844dfd-8d9c-4b35-9327-876d96f8b129",
   "metadata": {},
   "outputs": [],
   "source": [
    "nlu = {\"version\":\"3.1\",\"nlu\":[]}\n",
    "for intent, exs in intents.items():\n",
    "    nlu[\"nlu\"].append({\"intent\": intent, \"examples\": \"\\n\".join(f\"- {e}\" for e in exs[:30])})\n",
    "with open(f\"{base}/nlu.yml\",\"w\",encoding=\"utf-8\") as f:\n",
    "    yaml.safe_dump(nlu, f, sort_keys=False, allow_unicode=True)"
   ]
  },
  {
   "cell_type": "code",
   "execution_count": 6,
   "id": "bc8f11ea-3d83-46ec-ac35-6bfac1bf20db",
   "metadata": {},
   "outputs": [],
   "source": [
    "# config.yml (DIET + fallback, epoch 25로 가볍게)\n",
    "config = {\n",
    "  \"version\":\"3.1\",\"language\":\"en\",\n",
    "  \"pipeline\":[\n",
    "    {\"name\":\"WhitespaceTokenizer\"},\n",
    "    {\"name\":\"LexicalSyntacticFeaturizer\"},\n",
    "    {\"name\":\"CountVectorsFeaturizer\",\"OOV_token\":\"[OOV]\",\"min_ngram\":1,\"max_ngram\":2},\n",
    "    {\"name\":\"CountVectorsFeaturizer\",\"analyzer\":\"char_wb\",\"min_ngram\":3,\"max_ngram\":5},\n",
    "    {\"name\":\"DIETClassifier\",\"epochs\":25,\"learning_rate\":0.001},\n",
    "    {\"name\":\"FallbackClassifier\",\"threshold\":0.6,\"ambiguity_threshold\":0.1}\n",
    "  ]\n",
    "}"
   ]
  },
  {
   "cell_type": "code",
   "execution_count": 7,
   "id": "263a8e51-58ee-403b-8278-11b81d19ad49",
   "metadata": {},
   "outputs": [],
   "source": [
    "with open(f\"{base}/config.yml\",\"w\",encoding=\"utf-8\") as f:\n",
    "    yaml.safe_dump(config, f, sort_keys=False, allow_unicode=True)"
   ]
  },
  {
   "cell_type": "code",
   "execution_count": 8,
   "id": "d4186829-d449-4b1f-9296-fcf906f94d2a",
   "metadata": {},
   "outputs": [
    {
     "name": "stdout",
     "output_type": "stream",
     "text": [
      "Wrote: ['02_NLP_Concepts/Intent_Classification/C_rasa/nlu.yml', '02_NLP_Concepts/Intent_Classification/C_rasa/config.yml', '02_NLP_Concepts/Intent_Classification/C_rasa/domain.yml']\n"
     ]
    }
   ],
   "source": [
    "# domain.yml (NLU 평가만 하므로 최소)\n",
    "with open(f\"{base}/domain.yml\",\"w\",encoding=\"utf-8\") as f:\n",
    "    yaml.safe_dump({\"version\":\"3.1\",\"intents\":[\"nlu_fallback\"]}, f, sort_keys=False, allow_unicode=True)\n",
    "\n",
    "print(\"Wrote:\", [f\"{base}/nlu.yml\", f\"{base}/config.yml\", f\"{base}/domain.yml\"])"
   ]
  },
  {
   "cell_type": "code",
   "execution_count": null,
   "id": "c8b8db67-f47c-44ca-98b3-f7a26057f5a0",
   "metadata": {},
   "outputs": [],
   "source": []
  }
 ],
 "metadata": {
  "kernelspec": {
   "display_name": "Python (nlp_automl_env)",
   "language": "python",
   "name": "nlp_automl_env"
  },
  "language_info": {
   "codemirror_mode": {
    "name": "ipython",
    "version": 3
   },
   "file_extension": ".py",
   "mimetype": "text/x-python",
   "name": "python",
   "nbconvert_exporter": "python",
   "pygments_lexer": "ipython3",
   "version": "3.10.12"
  }
 },
 "nbformat": 4,
 "nbformat_minor": 5
}
