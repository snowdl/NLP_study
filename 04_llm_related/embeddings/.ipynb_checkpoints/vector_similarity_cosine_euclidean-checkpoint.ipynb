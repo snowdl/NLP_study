{
 "cells": [
  {
   "cell_type": "code",
   "execution_count": 1,
   "id": "d2293f51-52af-47a7-8970-ff803ec99360",
   "metadata": {},
   "outputs": [],
   "source": [
    "import numpy as np"
   ]
  },
  {
   "cell_type": "code",
   "execution_count": null,
   "id": "65c02002-19f6-42e7-8783-1cb3e79a9dda",
   "metadata": {},
   "outputs": [],
   "source": [
    "#Euclidean distance"
   ]
  },
  {
   "cell_type": "code",
   "execution_count": 2,
   "id": "39707b8d-cc09-4b90-8a1e-0321ca225dcb",
   "metadata": {},
   "outputs": [],
   "source": [
    "a = np.array([1,0,-1,6,8])\n",
    "b = np.array([0,11,4,7,6])"
   ]
  },
  {
   "cell_type": "code",
   "execution_count": 3,
   "id": "7fcfd3fe-b376-4243-9278-949abebd763e",
   "metadata": {},
   "outputs": [],
   "source": [
    "d = np.linalg.norm(a-b)"
   ]
  },
  {
   "cell_type": "code",
   "execution_count": 4,
   "id": "6013c0c1-dc76-4a5d-a287-f1becbe347ec",
   "metadata": {},
   "outputs": [
    {
     "name": "stdout",
     "output_type": "stream",
     "text": [
      "this is my first eudclidean distance :  12.328828005937952\n"
     ]
    }
   ],
   "source": [
    "print(\"this is my first eudclidean distance : \", d)"
   ]
  },
  {
   "cell_type": "code",
   "execution_count": 5,
   "id": "91824bc9-a7ae-4c1c-8e4b-f1891114938a",
   "metadata": {},
   "outputs": [],
   "source": [
    "#cosine similarity"
   ]
  },
  {
   "cell_type": "code",
   "execution_count": 6,
   "id": "19a173bb-d603-4fb0-b882-fe08329860af",
   "metadata": {},
   "outputs": [
    {
     "name": "stdout",
     "output_type": "stream",
     "text": [
      "0.5715074263607117\n"
     ]
    }
   ],
   "source": [
    "cos_sim = np.dot(a, b) / (np.linalg.norm(a) * np.linalg.norm(b))\n",
    "print(cos_sim)"
   ]
  },
  {
   "cell_type": "code",
   "execution_count": 8,
   "id": "8ef17a5d-d4ab-411a-9467-5711c60ea527",
   "metadata": {},
   "outputs": [],
   "source": [
    "#using Scipy"
   ]
  },
  {
   "cell_type": "code",
   "execution_count": 9,
   "id": "d0af5dd7-4d26-4c24-a371-6bcb824f33e9",
   "metadata": {},
   "outputs": [],
   "source": [
    "from scipy import spatial"
   ]
  },
  {
   "cell_type": "code",
   "execution_count": 10,
   "id": "56113aca-fd36-4e10-ad10-0401486a7b74",
   "metadata": {},
   "outputs": [
    {
     "name": "stdout",
     "output_type": "stream",
     "text": [
      "0.5715074263607116\n"
     ]
    }
   ],
   "source": [
    "cos_sim = 1 - spatial.distance.cosine(a, b)\n",
    "print(cos_sim)"
   ]
  },
  {
   "cell_type": "code",
   "execution_count": 11,
   "id": "d6011f0d-8856-4fab-8cc2-6e4a2e264b46",
   "metadata": {},
   "outputs": [],
   "source": [
    "#using sklearn"
   ]
  },
  {
   "cell_type": "code",
   "execution_count": 12,
   "id": "d8796a4e-be2e-4df7-a826-c2d89f192f71",
   "metadata": {},
   "outputs": [],
   "source": [
    "from sklearn.metrics.pairwise import cosine_similarity"
   ]
  },
  {
   "cell_type": "code",
   "execution_count": 14,
   "id": "a6e9e647-90a2-42bf-956d-e9d5799dadbd",
   "metadata": {},
   "outputs": [
    {
     "name": "stdout",
     "output_type": "stream",
     "text": [
      "0.5715074263607117\n"
     ]
    }
   ],
   "source": [
    "a = np.array([1, 0, -1, 6, 8]).reshape(1, -1)\n",
    "b = np.array([0, 11, 4, 7, 6]).reshape(1, -1)\n",
    "\n",
    "cos_sim = cosine_similarity(a, b)\n",
    "print(cos_sim[0][0])"
   ]
  },
  {
   "cell_type": "code",
   "execution_count": null,
   "id": "784ec6c1-08b7-4240-95c4-6e26938b4c7c",
   "metadata": {},
   "outputs": [],
   "source": []
  }
 ],
 "metadata": {
  "kernelspec": {
   "display_name": "Python 3 (ipykernel)",
   "language": "python",
   "name": "python3"
  },
  "language_info": {
   "codemirror_mode": {
    "name": "ipython",
    "version": 3
   },
   "file_extension": ".py",
   "mimetype": "text/x-python",
   "name": "python",
   "nbconvert_exporter": "python",
   "pygments_lexer": "ipython3",
   "version": "3.11.11"
  }
 },
 "nbformat": 4,
 "nbformat_minor": 5
}
