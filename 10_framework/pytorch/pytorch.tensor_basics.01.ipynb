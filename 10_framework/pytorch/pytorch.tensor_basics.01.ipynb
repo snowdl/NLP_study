{
 "cells": [
  {
   "cell_type": "code",
   "execution_count": 1,
   "id": "43496803-1750-4def-84db-9adb827978fb",
   "metadata": {},
   "outputs": [],
   "source": [
    "import torch"
   ]
  },
  {
   "cell_type": "code",
   "execution_count": 2,
   "id": "c3e38755-90fe-452f-bc60-89ad02575fb6",
   "metadata": {},
   "outputs": [
    {
     "data": {
      "text/plain": [
       "'2.7.1'"
      ]
     },
     "execution_count": 2,
     "metadata": {},
     "output_type": "execute_result"
    }
   ],
   "source": [
    "torch.__version__"
   ]
  },
  {
   "cell_type": "code",
   "execution_count": 3,
   "id": "9db425da-56ab-44eb-b5d4-705c2b39e784",
   "metadata": {},
   "outputs": [],
   "source": [
    "x = torch.empty(4,2)"
   ]
  },
  {
   "cell_type": "code",
   "execution_count": 4,
   "id": "44cc6662-6e56-485c-be45-a58c29d0e616",
   "metadata": {},
   "outputs": [
    {
     "name": "stdout",
     "output_type": "stream",
     "text": [
      "tensor([[0., 0.],\n",
      "        [0., 0.],\n",
      "        [0., 0.],\n",
      "        [0., 0.]])\n"
     ]
    }
   ],
   "source": [
    "print(x)"
   ]
  },
  {
   "cell_type": "code",
   "execution_count": 18,
   "id": "7bade350-4e75-4941-a2a1-9234722b1acb",
   "metadata": {},
   "outputs": [],
   "source": [
    "#Creates a tensor of shape 4 rows and 2 columns\n",
    "x = torch.rand(4,2) "
   ]
  },
  {
   "cell_type": "code",
   "execution_count": 6,
   "id": "3b8b298a-c92f-44b2-99a6-3a82241c7224",
   "metadata": {},
   "outputs": [
    {
     "name": "stdout",
     "output_type": "stream",
     "text": [
      "tensor([[0.3703, 0.4983],\n",
      "        [0.7660, 0.1793],\n",
      "        [0.0576, 0.5275],\n",
      "        [0.0434, 0.1663]])\n"
     ]
    }
   ],
   "source": [
    "print(x)"
   ]
  },
  {
   "cell_type": "code",
   "execution_count": 19,
   "id": "e5a614d9-a3d6-4ea2-8400-5244ec8f9c2f",
   "metadata": {},
   "outputs": [],
   "source": [
    "#Creates a tensor with 4 rows and 2 columns.\n",
    "#All elements in this tensor are initialized to 0\n",
    "#the data type is integer (long)\n",
    "\n",
    "x= torch.zeros(4,2, dtype=torch.long)"
   ]
  },
  {
   "cell_type": "code",
   "execution_count": 8,
   "id": "bde2a290-17fb-4907-8ff8-9d7964ab1adc",
   "metadata": {},
   "outputs": [
    {
     "name": "stdout",
     "output_type": "stream",
     "text": [
      "tensor([[0, 0],\n",
      "        [0, 0],\n",
      "        [0, 0],\n",
      "        [0, 0]])\n"
     ]
    }
   ],
   "source": [
    "print(x)"
   ]
  },
  {
   "cell_type": "code",
   "execution_count": 9,
   "id": "1f999a87-35bc-4251-9a91-5be50a7355ab",
   "metadata": {},
   "outputs": [],
   "source": [
    "x =torch.tensor([3,2.3])"
   ]
  },
  {
   "cell_type": "code",
   "execution_count": 10,
   "id": "0c4f578e-444e-4233-9555-fc772cdc465a",
   "metadata": {},
   "outputs": [
    {
     "name": "stdout",
     "output_type": "stream",
     "text": [
      "tensor([3.0000, 2.3000])\n"
     ]
    }
   ],
   "source": [
    "print(x)"
   ]
  },
  {
   "cell_type": "code",
   "execution_count": 20,
   "id": "ee5c1e3e-f9d6-488c-8e87-7ced29788689",
   "metadata": {},
   "outputs": [
    {
     "name": "stdout",
     "output_type": "stream",
     "text": [
      "tensor([[1., 1., 1., 1.],\n",
      "        [1., 1., 1., 1.]], dtype=torch.float64)\n"
     ]
    }
   ],
   "source": [
    "#Creates a 2x4 tensor of ones with double precision, matching the device of the original tensor x\n",
    "\n",
    "x = x.new_ones(2,4, dtype=torch.double)\n",
    "print(x)"
   ]
  },
  {
   "cell_type": "raw",
   "id": "dd4334eb-86bf-4063-bf32-493ce3a6de4f",
   "metadata": {},
   "source": [
    "x = torch.tensor([1.0, 2.0, 3.0])"
   ]
  },
  {
   "cell_type": "code",
   "execution_count": 21,
   "id": "8b17e4e7-3679-4d10-85da-78bce36a7f0a",
   "metadata": {},
   "outputs": [],
   "source": [
    "#replaces x with a tensor of the same shape filled with random values drawn from a standard normal distribution.\n",
    "x = torch.randn_like(x, dtype=torch.float)"
   ]
  },
  {
   "cell_type": "code",
   "execution_count": 22,
   "id": "9924d01d-89e2-4082-8d4d-cfdf1ffdb375",
   "metadata": {},
   "outputs": [
    {
     "name": "stdout",
     "output_type": "stream",
     "text": [
      "tensor([[ 0.0454, -0.3566,  0.8172, -0.6865],\n",
      "        [ 0.4136, -0.6114, -0.6122,  1.0139]])\n"
     ]
    }
   ],
   "source": [
    "print(x)"
   ]
  },
  {
   "cell_type": "code",
   "execution_count": null,
   "id": "bd10e511-fbbb-4c23-b933-16b96d021593",
   "metadata": {},
   "outputs": [],
   "source": []
  }
 ],
 "metadata": {
  "kernelspec": {
   "display_name": "Python 3 (ipykernel)",
   "language": "python",
   "name": "python3"
  },
  "language_info": {
   "codemirror_mode": {
    "name": "ipython",
    "version": 3
   },
   "file_extension": ".py",
   "mimetype": "text/x-python",
   "name": "python",
   "nbconvert_exporter": "python",
   "pygments_lexer": "ipython3",
   "version": "3.11.11"
  }
 },
 "nbformat": 4,
 "nbformat_minor": 5
}
