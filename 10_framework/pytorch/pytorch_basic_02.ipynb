{
 "cells": [
  {
   "cell_type": "code",
   "execution_count": 1,
   "id": "a69664fa-d4cf-4f85-b14c-a4ade8064e60",
   "metadata": {},
   "outputs": [],
   "source": [
    "import torch"
   ]
  },
  {
   "cell_type": "code",
   "execution_count": 2,
   "id": "057eb4c0-e59d-4ab2-8661-b33664c62d20",
   "metadata": {},
   "outputs": [],
   "source": [
    "x = torch.zeros(4,2, dtype=torch.long)"
   ]
  },
  {
   "cell_type": "code",
   "execution_count": 3,
   "id": "08306a79-a0e5-4ea1-afca-86452dbef6f2",
   "metadata": {},
   "outputs": [
    {
     "name": "stdout",
     "output_type": "stream",
     "text": [
      "tensor([[0, 0],\n",
      "        [0, 0],\n",
      "        [0, 0],\n",
      "        [0, 0]])\n"
     ]
    }
   ],
   "source": [
    "print(x)"
   ]
  },
  {
   "cell_type": "code",
   "execution_count": 4,
   "id": "70907ab3-74fe-44b9-8b28-a4cd38aa2490",
   "metadata": {},
   "outputs": [],
   "source": [
    "x = torch.tensor([3,2,3])"
   ]
  },
  {
   "cell_type": "code",
   "execution_count": 5,
   "id": "228573d3-d463-4c82-9ea4-d8bb3db03407",
   "metadata": {},
   "outputs": [
    {
     "name": "stdout",
     "output_type": "stream",
     "text": [
      "tensor([3, 2, 3])\n"
     ]
    }
   ],
   "source": [
    "print(x)"
   ]
  },
  {
   "cell_type": "code",
   "execution_count": 6,
   "id": "bcafbbbe-cd30-4197-9b90-77353b006305",
   "metadata": {},
   "outputs": [
    {
     "name": "stdout",
     "output_type": "stream",
     "text": [
      "tensor([[1., 1., 1., 1.],\n",
      "        [1., 1., 1., 1.]], dtype=torch.float64)\n"
     ]
    }
   ],
   "source": [
    "x = x.new_ones(2,4, dtype=torch.double)\n",
    "print(x)"
   ]
  },
  {
   "cell_type": "code",
   "execution_count": 7,
   "id": "3e6709da-ab9c-459e-a23f-450debef8255",
   "metadata": {},
   "outputs": [
    {
     "name": "stdout",
     "output_type": "stream",
     "text": [
      "tensor([[-0.7665, -0.9704, -0.6103, -1.7214],\n",
      "        [ 0.8021,  0.3413, -0.3718,  0.4418]])\n"
     ]
    }
   ],
   "source": [
    "#creates a new tensor with the same shape and data type as the tensor x.\n",
    "x = torch.randn_like(x, dtype=torch.float)\n",
    "print(x)"
   ]
  },
  {
   "cell_type": "code",
   "execution_count": 8,
   "id": "758e38f9-6079-4c20-8ef8-f3a2dfb7e64d",
   "metadata": {},
   "outputs": [],
   "source": [
    "#calculating tensor size"
   ]
  },
  {
   "cell_type": "code",
   "execution_count": 9,
   "id": "7cb1d93e-a306-4781-9dd6-4be649784721",
   "metadata": {},
   "outputs": [
    {
     "name": "stdout",
     "output_type": "stream",
     "text": [
      "torch.Size([2, 4])\n"
     ]
    }
   ],
   "source": [
    "print(x.size())"
   ]
  },
  {
   "cell_type": "code",
   "execution_count": 10,
   "id": "92184d6e-51a8-4c95-ae08-901e92aa44aa",
   "metadata": {},
   "outputs": [
    {
     "name": "stdout",
     "output_type": "stream",
     "text": [
      "tensor([1., 2., 3.])\n"
     ]
    }
   ],
   "source": [
    "ft = torch.tensor([1, 2, 3], dtype=torch.float32)\n",
    "print(ft)"
   ]
  },
  {
   "cell_type": "code",
   "execution_count": 11,
   "id": "b0d6dbfc-9ad8-4072-8b58-4c088a121056",
   "metadata": {},
   "outputs": [
    {
     "name": "stdout",
     "output_type": "stream",
     "text": [
      "torch.float32\n"
     ]
    }
   ],
   "source": [
    "print(ft.dtype)"
   ]
  },
  {
   "cell_type": "code",
   "execution_count": 16,
   "id": "8126c827-50c6-4800-82d0-cd2993c57e08",
   "metadata": {},
   "outputs": [
    {
     "name": "stdout",
     "output_type": "stream",
     "text": [
      "tensor([1, 2, 3], dtype=torch.int16)\n",
      "tensor([1, 2, 3], dtype=torch.int32)\n",
      "tensor([1, 2, 3])\n"
     ]
    }
   ],
   "source": [
    "#data type casting\n",
    "\n",
    "print(ft.short())\n",
    "print(ft.int())\n",
    "print(ft.long())\n"
   ]
  },
  {
   "cell_type": "code",
   "execution_count": 17,
   "id": "8cdfe048-347a-4531-b42b-747b9e2e55f6",
   "metadata": {},
   "outputs": [
    {
     "name": "stdout",
     "output_type": "stream",
     "text": [
      "tensor([1, 2, 3], dtype=torch.int32)\n",
      "<built-in method type of Tensor object at 0x11736b9b0>\n"
     ]
    }
   ],
   "source": [
    "it = torch.IntTensor([1, 2, 3])\n",
    "print(it)\n",
    "print(it.type)"
   ]
  },
  {
   "cell_type": "code",
   "execution_count": 18,
   "id": "ed190243-2a36-4102-9630-30036c6d7a20",
   "metadata": {},
   "outputs": [
    {
     "name": "stdout",
     "output_type": "stream",
     "text": [
      "tensor([1., 2., 3.])\n",
      "tensor([1., 2., 3.], dtype=torch.float64)\n",
      "tensor([1., 2., 3.], dtype=torch.float16)\n"
     ]
    }
   ],
   "source": [
    "it = torch.tensor([1, 2, 3], dtype=torch.int32)\n",
    "print(it.float())\n",
    "print(it.double())\n",
    "print(it.to(dtype=torch.float16))  # half() 대신 to() 사용\n"
   ]
  },
  {
   "cell_type": "code",
   "execution_count": 19,
   "id": "89453bc7-c47e-4346-8cdd-e3c29e8add00",
   "metadata": {},
   "outputs": [
    {
     "name": "stdout",
     "output_type": "stream",
     "text": [
      "tensor([1., 2., 3.], dtype=torch.float64)\n",
      "tensor([1., 2., 3.], dtype=torch.float16)\n"
     ]
    }
   ],
   "source": [
    "ft = torch.tensor([1, 2, 3], dtype=torch.float32)\n",
    "print(ft.double())\n",
    "print(ft.half())"
   ]
  },
  {
   "cell_type": "code",
   "execution_count": null,
   "id": "18d2a384-d84a-4738-ad78-e2af98ec45ae",
   "metadata": {},
   "outputs": [],
   "source": [
    "#Cuda Tensor"
   ]
  },
  {
   "cell_type": "code",
   "execution_count": 21,
   "id": "defd1108-696d-4ec2-b6c9-3e974eb7fad4",
   "metadata": {},
   "outputs": [
    {
     "name": "stdout",
     "output_type": "stream",
     "text": [
      "tensor([-0.6152])\n",
      "-0.6151987314224243\n",
      "torch.float32\n"
     ]
    }
   ],
   "source": [
    "x = torch.randn(1)\n",
    "print(x)\n",
    "print(x.item())\n",
    "print(x.dtype)"
   ]
  },
  {
   "cell_type": "code",
   "execution_count": 24,
   "id": "06c77d23-2460-4de3-87e8-6bc4d1004773",
   "metadata": {},
   "outputs": [],
   "source": [
    "#sets the device (CPU or GPU) for PyTorch tensor operations.\n",
    "#device = torch.device('cuda' if torch.cuda.is_available() else 'cpu')"
   ]
  },
  {
   "cell_type": "code",
   "execution_count": 34,
   "id": "d564dfab-9f17-438f-8553-666834758251",
   "metadata": {},
   "outputs": [],
   "source": [
    "#print(torch.cuda.is_available())  "
   ]
  },
  {
   "cell_type": "code",
   "execution_count": 35,
   "id": "2cd947e3-d16c-4de0-8369-93dc064417d8",
   "metadata": {},
   "outputs": [
    {
     "name": "stdout",
     "output_type": "stream",
     "text": [
      "True\n"
     ]
    }
   ],
   "source": [
    "import torch\n",
    "print(torch.backends.mps.is_available())  # Mac에서 Metal(MPS) 지원 여부\n"
   ]
  },
  {
   "cell_type": "code",
   "execution_count": 36,
   "id": "39d62f3a-e59e-4259-90f2-606fd72950a2",
   "metadata": {},
   "outputs": [
    {
     "name": "stdout",
     "output_type": "stream",
     "text": [
      "Requirement already satisfied: torch in ./12_data/.pyenv/versions/3.11.11/lib/python3.11/site-packages (2.7.1)\n",
      "Requirement already satisfied: torchvision in ./12_data/.pyenv/versions/3.11.11/lib/python3.11/site-packages (0.22.1)\n",
      "Requirement already satisfied: torchaudio in ./12_data/.pyenv/versions/3.11.11/lib/python3.11/site-packages (2.7.1)\n",
      "Requirement already satisfied: filelock in ./12_data/.pyenv/versions/3.11.11/lib/python3.11/site-packages (from torch) (3.18.0)\n",
      "Requirement already satisfied: typing-extensions>=4.10.0 in ./12_data/.pyenv/versions/3.11.11/lib/python3.11/site-packages (from torch) (4.14.0)\n",
      "Requirement already satisfied: sympy>=1.13.3 in ./12_data/.pyenv/versions/3.11.11/lib/python3.11/site-packages (from torch) (1.14.0)\n",
      "Requirement already satisfied: networkx in ./12_data/.pyenv/versions/3.11.11/lib/python3.11/site-packages (from torch) (3.4.2)\n",
      "Requirement already satisfied: jinja2 in ./12_data/.pyenv/versions/3.11.11/lib/python3.11/site-packages (from torch) (3.1.6)\n",
      "Requirement already satisfied: fsspec in ./12_data/.pyenv/versions/3.11.11/lib/python3.11/site-packages (from torch) (2024.12.0)\n",
      "Requirement already satisfied: numpy in ./12_data/.pyenv/versions/3.11.11/lib/python3.11/site-packages (from torchvision) (2.3.1)\n",
      "Requirement already satisfied: pillow!=8.3.*,>=5.3.0 in ./12_data/.pyenv/versions/3.11.11/lib/python3.11/site-packages (from torchvision) (11.1.0)\n",
      "Requirement already satisfied: mpmath<1.4,>=1.1.0 in ./12_data/.pyenv/versions/3.11.11/lib/python3.11/site-packages (from sympy>=1.13.3->torch) (1.3.0)\n",
      "Requirement already satisfied: MarkupSafe>=2.0 in ./12_data/.pyenv/versions/3.11.11/lib/python3.11/site-packages (from jinja2->torch) (3.0.2)\n"
     ]
    }
   ],
   "source": [
    "!pip install torch torchvision torchaudio"
   ]
  },
  {
   "cell_type": "code",
   "execution_count": 29,
   "id": "7881524d-50c5-46d6-a2d4-118c65ea9ff5",
   "metadata": {},
   "outputs": [],
   "source": [
    "import torch\n",
    "\n",
    "if torch.backends.mps.is_available():\n",
    "    device = torch.device(\"mps\")\n",
    "else:\n",
    "    device = torch.device(\"cpu\")\n"
   ]
  },
  {
   "cell_type": "code",
   "execution_count": 37,
   "id": "c2b5e0f8-8960-4995-bc99-8f78d053a940",
   "metadata": {},
   "outputs": [
    {
     "name": "stdout",
     "output_type": "stream",
     "text": [
      "mps\n"
     ]
    }
   ],
   "source": [
    "print(device)"
   ]
  },
  {
   "cell_type": "code",
   "execution_count": 31,
   "id": "1f8e5de8-8ba1-4af1-80db-e841e14e5242",
   "metadata": {},
   "outputs": [
    {
     "name": "stdout",
     "output_type": "stream",
     "text": [
      "tensor([1.], device='mps:0')\n"
     ]
    }
   ],
   "source": [
    "y = torch.ones_like(x, device=device)\n",
    "print(y)"
   ]
  },
  {
   "cell_type": "code",
   "execution_count": 33,
   "id": "adfaa931-3e89-4555-a204-92741c4bcce9",
   "metadata": {},
   "outputs": [
    {
     "name": "stdout",
     "output_type": "stream",
     "text": [
      "tensor([-0.6152], device='mps:0')\n"
     ]
    }
   ],
   "source": [
    "x = x.to(device)\n",
    "print(x)\n",
    "z = x+y"
   ]
  },
  {
   "cell_type": "code",
   "execution_count": 43,
   "id": "1ef947ba-47bf-4fbf-b912-53b866a39cb2",
   "metadata": {},
   "outputs": [
    {
     "name": "stdout",
     "output_type": "stream",
     "text": [
      "tensor([0.3848])\n",
      "cpu\n",
      "torch.float32\n"
     ]
    }
   ],
   "source": [
    "z_cpu = z.to('cpu').float()\n",
    "print(z_cpu)            # shows the tensor values\n",
    "print(z_cpu.device)     #confirms the device is CPU\n",
    "print(z_cpu.dtype)      # confirms the data type is float32"
   ]
  },
  {
   "cell_type": "code",
   "execution_count": 44,
   "id": "8d230367-f6fe-4757-a4a3-c849a5477c0e",
   "metadata": {},
   "outputs": [],
   "source": [
    "#0D/Scalar "
   ]
  },
  {
   "cell_type": "code",
   "execution_count": 45,
   "id": "43409643-4d87-4e97-be43-1632275b0d12",
   "metadata": {},
   "outputs": [],
   "source": [
    "t0 = torch.tensor(0)"
   ]
  },
  {
   "cell_type": "code",
   "execution_count": 46,
   "id": "236477cf-1b22-45f4-b43f-ef16d54073c3",
   "metadata": {},
   "outputs": [
    {
     "name": "stdout",
     "output_type": "stream",
     "text": [
      "<built-in method dim of Tensor object at 0x117788770>\n",
      "torch.Size([])\n",
      "tensor(0)\n"
     ]
    }
   ],
   "source": [
    "print(t0.dim)\n",
    "print(t0.shape)\n",
    "print(t0)"
   ]
  },
  {
   "cell_type": "code",
   "execution_count": 47,
   "id": "07e54bc5-360c-41a3-b922-d1808e537250",
   "metadata": {},
   "outputs": [],
   "source": [
    "#1D/tensor  "
   ]
  },
  {
   "cell_type": "code",
   "execution_count": 48,
   "id": "4de4b5ce-cf8d-4f4c-b165-0efaab1009b1",
   "metadata": {},
   "outputs": [],
   "source": [
    "t1 = torch.tensor([1,2,3])"
   ]
  },
  {
   "cell_type": "code",
   "execution_count": 49,
   "id": "6baa2b56-0a38-4efa-86ea-a9a05a27ed62",
   "metadata": {},
   "outputs": [
    {
     "name": "stdout",
     "output_type": "stream",
     "text": [
      "<built-in method dim of Tensor object at 0x1224efe90>\n",
      "torch.Size([3])\n",
      "tensor([1, 2, 3])\n"
     ]
    }
   ],
   "source": [
    "print(t1.dim)\n",
    "print(t1.shape)\n",
    "print(t1)"
   ]
  },
  {
   "cell_type": "code",
   "execution_count": 54,
   "id": "d16b0d5e-c9f8-4b84-ba79-dac6ea3faa72",
   "metadata": {},
   "outputs": [],
   "source": [
    "#2D/tensor (Matrix) "
   ]
  },
  {
   "cell_type": "code",
   "execution_count": 55,
   "id": "81999715-f59a-474a-9a5d-4b6eb517d501",
   "metadata": {},
   "outputs": [],
   "source": [
    "t2 = torch.tensor([[1,2,3],\n",
    "                 [4,5,6], \n",
    "                 [7,8,9]])"
   ]
  },
  {
   "cell_type": "code",
   "execution_count": 56,
   "id": "1358f4f1-394e-4f2a-8166-d30791c825b8",
   "metadata": {},
   "outputs": [
    {
     "name": "stdout",
     "output_type": "stream",
     "text": [
      "<built-in method dim of Tensor object at 0x122508590>\n",
      "torch.Size([3, 3])\n",
      "tensor([[1, 2, 3],\n",
      "        [4, 5, 6],\n",
      "        [7, 8, 9]])\n"
     ]
    }
   ],
   "source": [
    "print(t2.dim)\n",
    "print(t2.shape)\n",
    "print(t2)"
   ]
  },
  {
   "cell_type": "code",
   "execution_count": 57,
   "id": "aac30aaf-decf-45ed-a158-91f58cf409f1",
   "metadata": {},
   "outputs": [],
   "source": [
    " #3D/tensor (structure-samples, timestamps, feature) "
   ]
  },
  {
   "cell_type": "code",
   "execution_count": 58,
   "id": "8c0ed4b7-887a-46cc-8e3b-be1620c89388",
   "metadata": {},
   "outputs": [],
   "source": [
    "t3 = torch.tensor([\n",
    "    [1, 2, 3],\n",
    "    [4, 5, 6], \n",
    "    [7, 8, 9],\n",
    "    [1, 2, 3],\n",
    "    [4, 5, 6], \n",
    "    [7, 8, 9],\n",
    "    [1, 2, 3],\n",
    "    [4, 5, 6], \n",
    "    [7, 8, 9]\n",
    "])"
   ]
  },
  {
   "cell_type": "code",
   "execution_count": 59,
   "id": "3c896fda-0c17-4968-a558-a5b352b48c62",
   "metadata": {},
   "outputs": [
    {
     "name": "stdout",
     "output_type": "stream",
     "text": [
      "<built-in method dim of Tensor object at 0x1224ef770>\n",
      "torch.Size([9, 3])\n",
      "tensor([[1, 2, 3],\n",
      "        [4, 5, 6],\n",
      "        [7, 8, 9],\n",
      "        [1, 2, 3],\n",
      "        [4, 5, 6],\n",
      "        [7, 8, 9],\n",
      "        [1, 2, 3],\n",
      "        [4, 5, 6],\n",
      "        [7, 8, 9]])\n"
     ]
    }
   ],
   "source": [
    "print(t3.dim)\n",
    "print(t3.shape)\n",
    "print(t3)"
   ]
  },
  {
   "cell_type": "code",
   "execution_count": 61,
   "id": "97a37206-6fce-4ad7-827b-beaa538522ae",
   "metadata": {},
   "outputs": [],
   "source": [
    "#tensor operation"
   ]
  },
  {
   "cell_type": "code",
   "execution_count": 62,
   "id": "6e59b04d-d119-4f90-91ac-e1a7db6176e0",
   "metadata": {},
   "outputs": [],
   "source": [
    "import math"
   ]
  },
  {
   "cell_type": "code",
   "execution_count": 63,
   "id": "d72be2e1-1aef-44d2-a7ec-0145c26c8879",
   "metadata": {},
   "outputs": [],
   "source": [
    "a = torch.rand(1,2) *2-1"
   ]
  },
  {
   "cell_type": "code",
   "execution_count": 68,
   "id": "31cc336d-3f8d-44a9-bf8d-79403203c943",
   "metadata": {},
   "outputs": [
    {
     "name": "stdout",
     "output_type": "stream",
     "text": [
      "tensor([-1.5000,  2.3000, -3.7000])\n"
     ]
    }
   ],
   "source": [
    "print(a)"
   ]
  },
  {
   "cell_type": "code",
   "execution_count": 69,
   "id": "e43be5d4-797b-4b7b-a25c-6630e5594e41",
   "metadata": {},
   "outputs": [
    {
     "name": "stdout",
     "output_type": "stream",
     "text": [
      "tensor([1.5000, 2.3000, 3.7000])\n",
      "tensor([-1.,  3., -3.])\n",
      "tensor([-1.5000,  2.3000, -3.7000])\n",
      "tensor([-0.5000,  0.5000, -0.5000])\n"
     ]
    }
   ],
   "source": [
    "a = torch.tensor([-1.5, 2.3, -3.7])\n",
    "print(torch.abs(a))     # Absolute value\n",
    "print(torch.ceil(a))    # # Ceiling function\n",
    "print(a.float())  # Data type conversion\n",
    "print(torch.clamp(a, -0.5, 0.5)) # Clamp values"
   ]
  },
  {
   "cell_type": "code",
   "execution_count": 75,
   "id": "078b0cba-9013-4318-8beb-134290a6e34d",
   "metadata": {},
   "outputs": [
    {
     "name": "stdout",
     "output_type": "stream",
     "text": [
      "tensor(-3.7000)\n",
      "tensor(2.3000)\n",
      "tensor(-0.9667)\n",
      "tensor(3.0353)\n",
      "tensor(12.7650)\n",
      "tensor([1, 2, 3])\n"
     ]
    }
   ],
   "source": [
    "print(torch.min(a))    # min value\n",
    "print(torch.max(a))    # max value \n",
    "print(torch.mean(a))   # average value\n",
    "print(torch.std(a))   #standard deviation\n",
    "print(torch.prod(a))   #Returns the product of all tensor elements\n",
    "print(torch.unique(torch.tensor([1,2,3,1,2,2])))  #print(torch.prod(a))   #Returns the product of all tensor elements\n"
   ]
  },
  {
   "cell_type": "code",
   "execution_count": 76,
   "id": "70e8369c-8e06-4459-a445-9d5528d06822",
   "metadata": {},
   "outputs": [],
   "source": [
    "#argmax&argmin"
   ]
  },
  {
   "cell_type": "code",
   "execution_count": 78,
   "id": "15b38abc-1fb0-4fc6-a3b4-03835e6140b0",
   "metadata": {},
   "outputs": [],
   "source": [
    "#argmax"
   ]
  },
  {
   "cell_type": "code",
   "execution_count": 79,
   "id": "6654a14b-0817-4a56-bfac-bdea0fe9d6b1",
   "metadata": {},
   "outputs": [
    {
     "name": "stdout",
     "output_type": "stream",
     "text": [
      "tensor([[0.6946, 0.3503],\n",
      "        [0.7688, 0.1633]])\n",
      "torch.return_types.max(\n",
      "values=tensor([0.7688, 0.3503]),\n",
      "indices=tensor([1, 0]))\n",
      "torch.return_types.max(\n",
      "values=tensor([0.6946, 0.7688]),\n",
      "indices=tensor([0, 0]))\n"
     ]
    }
   ],
   "source": [
    "x = torch.rand(2,2)\n",
    "print(x)\n",
    "print(x.max(dim=0))\n",
    "print(x.max(dim=1))\n"
   ]
  },
  {
   "cell_type": "code",
   "execution_count": 80,
   "id": "278f6bfe-c43a-4586-bd55-1667bcf304d4",
   "metadata": {},
   "outputs": [
    {
     "name": "stdout",
     "output_type": "stream",
     "text": [
      "tensor([[0.0200, 0.3228],\n",
      "        [0.8956, 0.3089]])\n",
      "torch.return_types.min(\n",
      "values=tensor([0.0200, 0.3089]),\n",
      "indices=tensor([0, 1]))\n",
      "torch.return_types.min(\n",
      "values=tensor([0.0200, 0.3089]),\n",
      "indices=tensor([0, 1]))\n"
     ]
    }
   ],
   "source": [
    "x = torch.rand(2,2)\n",
    "print(x)\n",
    "print(x.min(dim=0))\n",
    "print(x.min(dim=1))\n"
   ]
  },
  {
   "cell_type": "code",
   "execution_count": 81,
   "id": "c6bf73fe-b6bd-4f45-ac68-63ebf541e146",
   "metadata": {},
   "outputs": [
    {
     "name": "stdout",
     "output_type": "stream",
     "text": [
      "tensor([[0.3210, 0.4612],\n",
      "        [0.6814, 0.3946]])\n",
      "tensor([[0.7723, 0.4227],\n",
      "        [0.1605, 0.8055]])\n"
     ]
    }
   ],
   "source": [
    "x = torch.rand(2,2)\n",
    "print(x)\n",
    "y=torch.rand(2,2)\n",
    "print(y)"
   ]
  },
  {
   "cell_type": "code",
   "execution_count": 82,
   "id": "f1714c3f-1cc1-4509-a5e5-e9ab6abcc746",
   "metadata": {},
   "outputs": [
    {
     "name": "stdout",
     "output_type": "stream",
     "text": [
      "tensor([[1.0934, 0.8839],\n",
      "        [0.8420, 1.2001]])\n"
     ]
    }
   ],
   "source": [
    "print(x+y)"
   ]
  },
  {
   "cell_type": "code",
   "execution_count": 83,
   "id": "966bb742-8f93-4929-9df9-4f425acf7411",
   "metadata": {},
   "outputs": [
    {
     "name": "stdout",
     "output_type": "stream",
     "text": [
      "tensor([[1.0934, 0.8839],\n",
      "        [0.8420, 1.2001]])\n"
     ]
    }
   ],
   "source": [
    "print(torch.add(x,y))"
   ]
  },
  {
   "cell_type": "code",
   "execution_count": 85,
   "id": "44fac2e7-6fd9-41fb-a914-d5820cd1cc4f",
   "metadata": {},
   "outputs": [
    {
     "name": "stdout",
     "output_type": "stream",
     "text": [
      "tensor([[1.0934, 0.8839],\n",
      "        [0.8420, 1.2001]])\n"
     ]
    },
    {
     "name": "stderr",
     "output_type": "stream",
     "text": [
      "/var/folders/6y/xtl4b0cx1cs9zrr9n5y814_h0000gn/T/ipykernel_13888/1621708138.py:2: UserWarning: An output with one or more elements was resized since it had shape [2, 4], which does not match the required output shape [2, 2]. This behavior is deprecated, and in a future PyTorch release outputs will not be resized unless they have zero elements. You can explicitly reuse an out tensor t by resizing it, inplace, to zero elements with t.resize_(0). (Triggered internally at /Users/runner/work/pytorch/pytorch/pytorch/aten/src/ATen/native/Resize.cpp:37.)\n",
      "  torch.add(x,y, out=result)\n"
     ]
    }
   ],
   "source": [
    "result= torch.empty(2,4)\n",
    "torch.add(x,y, out=result)\n",
    "print(result)"
   ]
  },
  {
   "cell_type": "code",
   "execution_count": 86,
   "id": "66073a69-b7de-41a3-aee8-8ddae82caf21",
   "metadata": {},
   "outputs": [],
   "source": [
    "#in-place"
   ]
  },
  {
   "cell_type": "code",
   "execution_count": 88,
   "id": "07c6e7ee-5ae5-4cd6-abc7-7af349a46d21",
   "metadata": {},
   "outputs": [
    {
     "name": "stdout",
     "output_type": "stream",
     "text": [
      "tensor([[0.3210, 0.4612],\n",
      "        [0.6814, 0.3946]])\n",
      "tensor([[1.0934, 0.8839],\n",
      "        [0.8420, 1.2001]])\n",
      "tensor([[1.4144, 1.3451],\n",
      "        [1.5234, 1.5947]])\n"
     ]
    }
   ],
   "source": [
    "print(x)\n",
    "print(y)\n",
    "y.add_(x) #return y=x+y\n",
    "print(y)"
   ]
  },
  {
   "cell_type": "code",
   "execution_count": 89,
   "id": "e3aedc0d-6931-40f9-98ec-6f03102e20c7",
   "metadata": {},
   "outputs": [],
   "source": [
    "#substraction"
   ]
  },
  {
   "cell_type": "code",
   "execution_count": 91,
   "id": "1508b97c-4d67-4d21-bab2-ae7a266dc74b",
   "metadata": {},
   "outputs": [
    {
     "name": "stdout",
     "output_type": "stream",
     "text": [
      "tensor([[0.3210, 0.4612],\n",
      "        [0.6814, 0.3946]])\n",
      "tensor([[1.4144, 1.3451],\n",
      "        [1.5234, 1.5947]])\n",
      "tensor([[-1.0934, -0.8839],\n",
      "        [-0.8420, -1.2001]])\n",
      "tensor([[-1.0934, -0.8839],\n",
      "        [-0.8420, -1.2001]])\n",
      "tensor([[-1.0934, -0.8839],\n",
      "        [-0.8420, -1.2001]])\n"
     ]
    }
   ],
   "source": [
    "print(x)\n",
    "print(y)\n",
    "print(x-y)\n",
    "print(torch.sub(x,y))\n",
    "print(x.sub(y))"
   ]
  },
  {
   "cell_type": "code",
   "execution_count": 92,
   "id": "d1105d5a-c3b2-472b-8772-a89ebf1f7d8c",
   "metadata": {},
   "outputs": [],
   "source": [
    "#multiplication"
   ]
  },
  {
   "cell_type": "code",
   "execution_count": 95,
   "id": "5459bfc0-7fdb-47f0-9db2-faf86e8c0b46",
   "metadata": {},
   "outputs": [
    {
     "name": "stdout",
     "output_type": "stream",
     "text": [
      "tensor([[0.3210, 0.4612],\n",
      "        [0.6814, 0.3946]])\n",
      "tensor([[1.4144, 1.3451],\n",
      "        [1.5234, 1.5947]])\n",
      "tensor([[0.4541, 0.6203],\n",
      "        [1.0381, 0.6292]])\n",
      "tensor([[0.4541, 0.6203],\n",
      "        [1.0381, 0.6292]])\n",
      "tensor([[0.4541, 0.6203],\n",
      "        [1.0381, 0.6292]])\n"
     ]
    }
   ],
   "source": [
    "print(x)\n",
    "print(y)\n",
    "print(x * y)\n",
    "print(torch.mul(x,y))\n",
    "print(x.mul(y))"
   ]
  },
  {
   "cell_type": "code",
   "execution_count": 94,
   "id": "814abcf0-da2b-4ea3-b2e3-786eb79803ad",
   "metadata": {},
   "outputs": [],
   "source": [
    "#division"
   ]
  },
  {
   "cell_type": "code",
   "execution_count": 96,
   "id": "dc92f324-5f7e-447a-9c0e-ca2ccd47ae64",
   "metadata": {},
   "outputs": [
    {
     "name": "stdout",
     "output_type": "stream",
     "text": [
      "tensor([[0.3210, 0.4612],\n",
      "        [0.6814, 0.3946]])\n",
      "tensor([[1.4144, 1.3451],\n",
      "        [1.5234, 1.5947]])\n",
      "tensor([[0.2270, 0.3429],\n",
      "        [0.4473, 0.2474]])\n",
      "tensor([[0.2270, 0.3429],\n",
      "        [0.4473, 0.2474]])\n",
      "tensor([[0.2270, 0.3429],\n",
      "        [0.4473, 0.2474]])\n"
     ]
    }
   ],
   "source": [
    "print(x)\n",
    "print(y)\n",
    "print(x / y)\n",
    "print(torch.div(x,y))\n",
    "print(x.div(y))"
   ]
  },
  {
   "cell_type": "code",
   "execution_count": 97,
   "id": "2fff1302-0bea-4637-80b0-05026b092af7",
   "metadata": {},
   "outputs": [],
   "source": [
    "#dot product"
   ]
  },
  {
   "cell_type": "code",
   "execution_count": 98,
   "id": "fc690162-e5e8-46c0-bbc2-d7d7e0d08370",
   "metadata": {},
   "outputs": [
    {
     "name": "stdout",
     "output_type": "stream",
     "text": [
      "tensor([[0.3210, 0.4612],\n",
      "        [0.6814, 0.3946]])\n",
      "tensor([[1.4144, 1.3451],\n",
      "        [1.5234, 1.5947]])\n",
      "tensor([[1.1567, 1.1673],\n",
      "        [1.5650, 1.5459]])\n",
      "tensor([[1.1567, 1.1673],\n",
      "        [1.5650, 1.5459]])\n"
     ]
    }
   ],
   "source": [
    "print(x)\n",
    "print(y)\n",
    "print(torch.matmul(x,y))\n",
    "z = torch.mm(x,y)\n",
    "print(z)"
   ]
  },
  {
   "cell_type": "code",
   "execution_count": 99,
   "id": "19ea390f-433f-46b3-9060-a06a877c392c",
   "metadata": {},
   "outputs": [],
   "source": [
    "#SVD"
   ]
  },
  {
   "cell_type": "code",
   "execution_count": 100,
   "id": "284d4a96-08e8-4312-ab10-50be9a1b33af",
   "metadata": {},
   "outputs": [
    {
     "name": "stdout",
     "output_type": "stream",
     "text": [
      "torch.return_types.svd(\n",
      "U=tensor([[-0.5985, -0.8011],\n",
      "        [-0.8011,  0.5985]]),\n",
      "S=tensor([2.7457, 0.0141]),\n",
      "V=tensor([[-0.7087,  0.7055],\n",
      "        [-0.7055, -0.7087]]))\n"
     ]
    }
   ],
   "source": [
    "print(torch.svd(z))"
   ]
  },
  {
   "cell_type": "code",
   "execution_count": 102,
   "id": "4d3893c7-1ada-4e5b-a80e-0e9284f857e7",
   "metadata": {},
   "outputs": [],
   "source": [
    "#Manipulation"
   ]
  },
  {
   "cell_type": "code",
   "execution_count": 105,
   "id": "6dd7c9a0-9a6e-46a7-842c-07867377bb6c",
   "metadata": {},
   "outputs": [
    {
     "name": "stdout",
     "output_type": "stream",
     "text": [
      "tensor([[1, 2],\n",
      "        [3, 4]])\n"
     ]
    }
   ],
   "source": [
    "x = torch.tensor ([[1,2],[3,4]])\n",
    "print(x)"
   ]
  },
  {
   "cell_type": "code",
   "execution_count": 106,
   "id": "287b3f61-d7f7-4cd4-bdcc-c29ce3c10732",
   "metadata": {},
   "outputs": [
    {
     "name": "stdout",
     "output_type": "stream",
     "text": [
      "tensor(1)\n",
      "tensor(2)\n",
      "tensor(3)\n",
      "tensor(4)\n"
     ]
    }
   ],
   "source": [
    "print(x[0,0])\n",
    "print(x[0,1])\n",
    "print(x[1,0])\n",
    "print(x[1,1])"
   ]
  },
  {
   "cell_type": "code",
   "execution_count": 107,
   "id": "ab932181-0fcf-4887-b833-9fe4b0e76306",
   "metadata": {},
   "outputs": [],
   "source": [
    "#slicing"
   ]
  },
  {
   "cell_type": "code",
   "execution_count": 108,
   "id": "f9a762e6-aef8-4aab-92ef-fa6b98f9657d",
   "metadata": {},
   "outputs": [
    {
     "name": "stdout",
     "output_type": "stream",
     "text": [
      "tensor([1, 3])\n",
      "tensor([2, 4])\n"
     ]
    }
   ],
   "source": [
    "print(x[:,0])\n",
    "print(x[:,1])"
   ]
  },
  {
   "cell_type": "code",
   "execution_count": 109,
   "id": "09a99de1-db7b-42c3-bed3-4e3253ce3587",
   "metadata": {},
   "outputs": [
    {
     "name": "stdout",
     "output_type": "stream",
     "text": [
      "tensor([1, 2])\n",
      "tensor([3, 4])\n"
     ]
    }
   ],
   "source": [
    "print(x[0,:])\n",
    "print(x[1,:])"
   ]
  },
  {
   "cell_type": "code",
   "execution_count": null,
   "id": "404edb94-24bc-4cc3-8efe-4b5d69fb7e8e",
   "metadata": {},
   "outputs": [],
   "source": []
  }
 ],
 "metadata": {
  "kernelspec": {
   "display_name": "Python 3 (ipykernel)",
   "language": "python",
   "name": "python3"
  },
  "language_info": {
   "codemirror_mode": {
    "name": "ipython",
    "version": 3
   },
   "file_extension": ".py",
   "mimetype": "text/x-python",
   "name": "python",
   "nbconvert_exporter": "python",
   "pygments_lexer": "ipython3",
   "version": "3.11.11"
  }
 },
 "nbformat": 4,
 "nbformat_minor": 5
}
