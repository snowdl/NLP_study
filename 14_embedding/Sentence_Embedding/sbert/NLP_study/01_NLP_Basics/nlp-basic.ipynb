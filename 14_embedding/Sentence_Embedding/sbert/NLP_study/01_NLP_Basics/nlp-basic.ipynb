{
 "cells": [
  {
   "cell_type": "code",
   "execution_count": 2,
   "id": "071669d0-7b3f-4636-8fd7-00af79d24524",
   "metadata": {},
   "outputs": [],
   "source": [
    "import spacy"
   ]
  },
  {
   "cell_type": "code",
   "execution_count": 3,
   "id": "8819498a-1126-4ef1-a355-81bdc08d6e8b",
   "metadata": {},
   "outputs": [],
   "source": [
    "nlp = spacy.load('en_core_web_sm')"
   ]
  },
  {
   "cell_type": "code",
   "execution_count": 4,
   "id": "359dd554-69d5-4928-a13e-296937c7c388",
   "metadata": {},
   "outputs": [],
   "source": [
    "doc = nlp(u'Tesla is looking at buying U.S for $6 million')"
   ]
  },
  {
   "cell_type": "code",
   "execution_count": 5,
   "id": "0568c7a3-51bb-4d3d-9c8a-614d4767e2f7",
   "metadata": {},
   "outputs": [
    {
     "name": "stdout",
     "output_type": "stream",
     "text": [
      "Tesla PROPN nsubj\n",
      "is AUX aux\n",
      "looking VERB ROOT\n",
      "at ADP prep\n",
      "buying VERB pcomp\n",
      "U.S PROPN dobj\n",
      "for ADP prep\n",
      "$ SYM quantmod\n",
      "6 NUM compound\n",
      "million NUM pobj\n"
     ]
    }
   ],
   "source": [
    "'''\n",
    "iterates through each token in the doc object (which is a processed text by spaCy) and prints out three things for every token:\n",
    "\n",
    "token.text: The actual text of the token (word).\n",
    "\n",
    "token.pos_: The part-of-speech tag, like noun (NOUN), verb (VERB), adjective (ADJ), etc.\n",
    "\n",
    "token.dep_: The syntactic dependency label, which shows the grammatical relationship of the token to other words in the sentence (like subject, object, root, modifier, etc.).\n",
    "'''\n",
    "\n",
    "\n",
    "for token in doc :\n",
    "    print(token.text, token.pos_, token.dep_)"
   ]
  },
  {
   "cell_type": "code",
   "execution_count": 6,
   "id": "a8065a62-b008-4fa1-a3bf-3231c5788599",
   "metadata": {},
   "outputs": [
    {
     "data": {
      "text/plain": [
       "[('tok2vec', <spacy.pipeline.tok2vec.Tok2Vec at 0x13b0969f0>),\n",
       " ('tagger', <spacy.pipeline.tagger.Tagger at 0x13b096db0>),\n",
       " ('parser', <spacy.pipeline.dep_parser.DependencyParser at 0x13b07db60>),\n",
       " ('attribute_ruler',\n",
       "  <spacy.pipeline.attributeruler.AttributeRuler at 0x13b290210>),\n",
       " ('lemmatizer', <spacy.lang.en.lemmatizer.EnglishLemmatizer at 0x13b292fd0>),\n",
       " ('ner', <spacy.pipeline.ner.EntityRecognizer at 0x13b07d930>)]"
      ]
     },
     "execution_count": 6,
     "metadata": {},
     "output_type": "execute_result"
    }
   ],
   "source": [
    "#a list of processing components (called “pipeline components”) that spaCy applies to a text sequentially when you call nlp(text).\n",
    "nlp.pipeline"
   ]
  },
  {
   "cell_type": "code",
   "execution_count": 11,
   "id": "cdf2a00c-000f-43a7-974a-3d4000c1f09a",
   "metadata": {},
   "outputs": [
    {
     "data": {
      "text/plain": [
       "['tok2vec', 'tagger', 'parser', 'attribute_ruler', 'lemmatizer', 'ner']"
      ]
     },
     "execution_count": 11,
     "metadata": {},
     "output_type": "execute_result"
    }
   ],
   "source": [
    "nlp.pipe_names"
   ]
  },
  {
   "cell_type": "markdown",
   "id": "aacaf90c-776c-449f-a688-f6ee8bf6a92a",
   "metadata": {},
   "source": [
    "doc2 = nlp(\"Tesla isn't looking into startups anymore\")"
   ]
  },
  {
   "cell_type": "code",
   "execution_count": 12,
   "id": "8f4f444d-673d-44aa-bb7e-03f4fae332d1",
   "metadata": {},
   "outputs": [],
   "source": [
    "doc2 = nlp(\"Tesla isn't looking into startups anymore.\")"
   ]
  },
  {
   "cell_type": "code",
   "execution_count": 13,
   "id": "68c5bd93-2272-4bc3-b4f2-9da4683f6035",
   "metadata": {},
   "outputs": [
    {
     "name": "stdout",
     "output_type": "stream",
     "text": [
      "Tesla PROPN nsubj\n",
      "is AUX aux\n",
      "n't PART neg\n",
      "looking VERB ROOT\n",
      "into ADP prep\n",
      "startups NOUN pobj\n",
      "anymore ADV advmod\n",
      ". PUNCT punct\n"
     ]
    }
   ],
   "source": [
    "for token in doc2:\n",
    "    print(token.text, token.pos_, token.dep_)"
   ]
  },
  {
   "cell_type": "code",
   "execution_count": 14,
   "id": "eefa7358-2a77-4ca5-8ac8-644ec0654024",
   "metadata": {},
   "outputs": [
    {
     "data": {
      "text/plain": [
       "is"
      ]
     },
     "execution_count": 14,
     "metadata": {},
     "output_type": "execute_result"
    }
   ],
   "source": [
    "doc2[1]"
   ]
  },
  {
   "cell_type": "code",
   "execution_count": 15,
   "id": "c4092538-e5a1-4537-80f4-a4a198a3ea5d",
   "metadata": {},
   "outputs": [
    {
     "data": {
      "text/plain": [
       "'AUX'"
      ]
     },
     "execution_count": 15,
     "metadata": {},
     "output_type": "execute_result"
    }
   ],
   "source": [
    "doc2[1].pos_"
   ]
  },
  {
   "cell_type": "code",
   "execution_count": 8,
   "id": "6c43e4f6-54d5-4cdc-83a4-eb74ea371c39",
   "metadata": {},
   "outputs": [],
   "source": [
    "doc3 = nlp(u'Although commmonly attributed to John Lennon from his song \"Beautiful Boy\", \\\n",
    "the phrase \"Life is what happens to us while we are making other plans\" was written by \\\n",
    "cartoonist Allen Saunders and published in Reader\\'s Digest in 1957, when Lennon was 17.')"
   ]
  },
  {
   "cell_type": "code",
   "execution_count": 9,
   "id": "652d65aa-d9be-4240-9359-2ebe0d200d81",
   "metadata": {},
   "outputs": [],
   "source": [
    "#[16:30] means slicing tokens from index 16 up to (but not including) 30\n",
    "life_quote = doc3[16:30] "
   ]
  },
  {
   "cell_type": "code",
   "execution_count": 20,
   "id": "b5b4d8c9-ce1b-4073-8ec1-c0bdbb24aff9",
   "metadata": {},
   "outputs": [
    {
     "data": {
      "text/plain": [
       "\"Life is what happens to us while we are making other plans\""
      ]
     },
     "execution_count": 20,
     "metadata": {},
     "output_type": "execute_result"
    }
   ],
   "source": [
    "life_quote"
   ]
  },
  {
   "cell_type": "code",
   "execution_count": 21,
   "id": "2fa6fade-c9f5-4233-b021-7adf399a3da6",
   "metadata": {},
   "outputs": [
    {
     "data": {
      "text/plain": [
       "spacy.tokens.span.Span"
      ]
     },
     "execution_count": 21,
     "metadata": {},
     "output_type": "execute_result"
    }
   ],
   "source": [
    "type(life_quote)"
   ]
  },
  {
   "cell_type": "code",
   "execution_count": 11,
   "id": "f4d150a0-5ad3-4967-8efa-b034cee04590",
   "metadata": {},
   "outputs": [],
   "source": [
    "doc4 = nlp(u\"This is first sentence. This is another sentence. This is the last sentence\")"
   ]
  },
  {
   "cell_type": "code",
   "execution_count": 12,
   "id": "3865fad0-f9d4-4008-8325-b521daf0b816",
   "metadata": {},
   "outputs": [
    {
     "name": "stdout",
     "output_type": "stream",
     "text": [
      "This is first sentence.\n",
      "This is another sentence.\n",
      "This is the last sentence\n"
     ]
    }
   ],
   "source": [
    "for sentence in doc4.sents: \n",
    "    print(sentence)"
   ]
  },
  {
   "cell_type": "code",
   "execution_count": 13,
   "id": "040d563b-170e-491d-9b04-64795cd3d85d",
   "metadata": {},
   "outputs": [
    {
     "data": {
      "text/plain": [
       "False"
      ]
     },
     "execution_count": 13,
     "metadata": {},
     "output_type": "execute_result"
    }
   ],
   "source": [
    "#True if the 9th token is marked as the beginning of a sentence,\n",
    "#False otherwise.\n",
    "\n",
    "doc4[8].is_sent_start"
   ]
  },
  {
   "cell_type": "code",
   "execution_count": null,
   "id": "e6b9649d-cd3b-48b3-b38e-517e602547c0",
   "metadata": {},
   "outputs": [],
   "source": []
  }
 ],
 "metadata": {
  "kernelspec": {
   "display_name": "Python 3 (ipykernel)",
   "language": "python",
   "name": "python3"
  },
  "language_info": {
   "codemirror_mode": {
    "name": "ipython",
    "version": 3
   },
   "file_extension": ".py",
   "mimetype": "text/x-python",
   "name": "python",
   "nbconvert_exporter": "python",
   "pygments_lexer": "ipython3",
   "version": "3.11.11"
  }
 },
 "nbformat": 4,
 "nbformat_minor": 5
}
