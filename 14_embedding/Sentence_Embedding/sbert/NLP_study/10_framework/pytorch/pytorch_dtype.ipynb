{
 "cells": [
  {
   "cell_type": "code",
   "execution_count": 17,
   "id": "afd1e496-4df1-44f1-8909-24963be9af61",
   "metadata": {},
   "outputs": [],
   "source": [
    "import torch"
   ]
  },
  {
   "cell_type": "code",
   "execution_count": 2,
   "id": "7b1b9f09-161c-4d53-b2c9-39a35ca81a2b",
   "metadata": {},
   "outputs": [
    {
     "name": "stdout",
     "output_type": "stream",
     "text": [
      "tensor([1., 2., 3.])\n"
     ]
    }
   ],
   "source": [
    "ft = torch.FloatTensor([1,2,3])\n",
    "print(ft)"
   ]
  },
  {
   "cell_type": "code",
   "execution_count": 3,
   "id": "8ac419ca-aa67-4343-b896-75ee5423d667",
   "metadata": {},
   "outputs": [
    {
     "name": "stdout",
     "output_type": "stream",
     "text": [
      "torch.float32\n"
     ]
    }
   ],
   "source": [
    "print(ft.dtype)"
   ]
  },
  {
   "cell_type": "code",
   "execution_count": 18,
   "id": "6c0d62e5-9968-41dd-9153-fb136ab962cd",
   "metadata": {},
   "outputs": [
    {
     "name": "stdout",
     "output_type": "stream",
     "text": [
      "tensor([1, 2, 3], dtype=torch.int16)\n"
     ]
    }
   ],
   "source": [
    "# Convert to int16 using .short()\n",
    "print(ft.short())"
   ]
  },
  {
   "cell_type": "code",
   "execution_count": 19,
   "id": "46bfc0dc-15fc-4ab9-926b-c1c96f306eef",
   "metadata": {},
   "outputs": [
    {
     "name": "stdout",
     "output_type": "stream",
     "text": [
      "tensor([1, 2, 3])\n"
     ]
    }
   ],
   "source": [
    "#Convert into long\n",
    "print(ft.long())"
   ]
  },
  {
   "cell_type": "code",
   "execution_count": 20,
   "id": "14e366df-0843-4815-8b6a-3142b1f35a46",
   "metadata": {},
   "outputs": [
    {
     "name": "stdout",
     "output_type": "stream",
     "text": [
      "tensor([1, 2, 3], dtype=torch.int32)\n"
     ]
    }
   ],
   "source": [
    "print(ft.int())"
   ]
  },
  {
   "cell_type": "code",
   "execution_count": 21,
   "id": "84ded65c-d0cd-4989-8932-025c7a2cf729",
   "metadata": {},
   "outputs": [
    {
     "name": "stdout",
     "output_type": "stream",
     "text": [
      "tensor([1, 2, 3], dtype=torch.int32)\n"
     ]
    }
   ],
   "source": [
    "it = torch.IntTensor([1, 2, 3])\n",
    "print(it)"
   ]
  },
  {
   "cell_type": "code",
   "execution_count": 22,
   "id": "b1c36dc4-71fe-4416-90aa-d1a58a7df625",
   "metadata": {},
   "outputs": [
    {
     "name": "stdout",
     "output_type": "stream",
     "text": [
      "tensor([1, 2, 3], dtype=torch.int32)\n"
     ]
    }
   ],
   "source": [
    "it = torch.tensor([1, 2, 3], dtype=torch.int32)  # 또는 int64\n",
    "print(it)"
   ]
  },
  {
   "cell_type": "code",
   "execution_count": 23,
   "id": "b0c2bc75-a621-44b5-9497-611127d6e83c",
   "metadata": {},
   "outputs": [
    {
     "name": "stdout",
     "output_type": "stream",
     "text": [
      "tensor([1., 2., 3.])\n"
     ]
    }
   ],
   "source": [
    "print(it.float())"
   ]
  },
  {
   "cell_type": "code",
   "execution_count": 24,
   "id": "4d2430aa-0bfb-42b0-a6ab-2758572d8b5d",
   "metadata": {},
   "outputs": [
    {
     "name": "stdout",
     "output_type": "stream",
     "text": [
      "tensor([1., 2., 3.], dtype=torch.float64)\n"
     ]
    }
   ],
   "source": [
    "print(it.double())"
   ]
  },
  {
   "cell_type": "code",
   "execution_count": 12,
   "id": "f2efa4e1-365f-4c01-a5ee-fba620506273",
   "metadata": {},
   "outputs": [
    {
     "name": "stdout",
     "output_type": "stream",
     "text": [
      "tensor([1., 2., 3.], dtype=torch.float16)\n"
     ]
    }
   ],
   "source": [
    "print(it.half())"
   ]
  },
  {
   "cell_type": "code",
   "execution_count": 13,
   "id": "928617e8-c52f-4e78-8abd-9a742194deaa",
   "metadata": {},
   "outputs": [],
   "source": [
    "#CUDA Tensors"
   ]
  },
  {
   "cell_type": "code",
   "execution_count": 25,
   "id": "9f23e5ad-26a0-4df9-866c-b62424a8dfe1",
   "metadata": {},
   "outputs": [
    {
     "name": "stdout",
     "output_type": "stream",
     "text": [
      "tensor([0.2467])\n"
     ]
    }
   ],
   "source": [
    "x = torch.randn(1)\n",
    "print(x)"
   ]
  },
  {
   "cell_type": "code",
   "execution_count": 27,
   "id": "3f3a3acf-725a-4d20-8889-738f78d0abc5",
   "metadata": {},
   "outputs": [
    {
     "name": "stdout",
     "output_type": "stream",
     "text": [
      "0.24669529497623444\n"
     ]
    }
   ],
   "source": [
    "print(x.item())"
   ]
  },
  {
   "cell_type": "code",
   "execution_count": 29,
   "id": "4e73e3ee-131b-4828-974c-408cf961aa3f",
   "metadata": {},
   "outputs": [
    {
     "name": "stdout",
     "output_type": "stream",
     "text": [
      "torch.float32\n"
     ]
    }
   ],
   "source": [
    "print(x.dtype)"
   ]
  },
  {
   "cell_type": "code",
   "execution_count": 39,
   "id": "b421ff7a-45b0-4808-9526-8e04c000dca1",
   "metadata": {},
   "outputs": [
    {
     "name": "stdout",
     "output_type": "stream",
     "text": [
      "Using device: mps\n"
     ]
    }
   ],
   "source": [
    "#It checks:\n",
    "#If a CUDA-compatible GPU is available, use 'cuda'.\n",
    "#Otherwise, use 'cpu'.\n",
    "#MPS :MPS(Metal Performance Shaders)\n",
    "\n",
    "device = torch.device(\"mps\" if torch.backends.mps.is_available() else \"cpu\")\n",
    "print(f\"Using device: {device}\")"
   ]
  },
  {
   "cell_type": "code",
   "execution_count": 40,
   "id": "39fb1d24-ddd6-4b45-bd4f-f8edc92a0b0c",
   "metadata": {},
   "outputs": [
    {
     "name": "stdout",
     "output_type": "stream",
     "text": [
      "mps\n"
     ]
    }
   ],
   "source": [
    "print(device)"
   ]
  },
  {
   "cell_type": "code",
   "execution_count": 47,
   "id": "3efa0730-45be-4f2d-996b-7ccd69ad37e0",
   "metadata": {},
   "outputs": [],
   "source": [
    "#creates a new tensor y that has the same shape as x, filled entirely with ones, and places it on the specified device (e.g., \"mps\" for Apple)\n",
    "y = torch.ones_like (x, device = device)"
   ]
  },
  {
   "cell_type": "code",
   "execution_count": 48,
   "id": "b4918ab0-1742-4ced-ae04-7ed9f3edf25a",
   "metadata": {},
   "outputs": [
    {
     "name": "stdout",
     "output_type": "stream",
     "text": [
      "tensor([1.], device='mps:0')\n"
     ]
    }
   ],
   "source": [
    "print(y)\n",
    "\n",
    "#output breakdown \n",
    "#tensor([1.]) → A 1-dimensional tensor containing the value 1.0\n",
    "#y is a tensor containing a single value 1.0 and it is located on the MPS GPU backend."
   ]
  },
  {
   "cell_type": "code",
   "execution_count": 49,
   "id": "ad1f412e-a510-4550-9e0d-55a0c0164a88",
   "metadata": {},
   "outputs": [],
   "source": [
    "#moves the tensor x to the specified computation device.\n",
    "x = x.to(device)"
   ]
  },
  {
   "cell_type": "code",
   "execution_count": 44,
   "id": "88befcff-bbcc-4bff-bc10-5230660de0d2",
   "metadata": {},
   "outputs": [
    {
     "name": "stdout",
     "output_type": "stream",
     "text": [
      "tensor([0.2467], device='mps:0')\n"
     ]
    }
   ],
   "source": [
    "print(x)"
   ]
  },
  {
   "cell_type": "code",
   "execution_count": 45,
   "id": "662bcb00-471e-4edf-aab5-a514c8b31b02",
   "metadata": {},
   "outputs": [],
   "source": [
    "z = x+y"
   ]
  },
  {
   "cell_type": "code",
   "execution_count": 46,
   "id": "338f23c7-2953-406f-9f84-ca9c8d5d1d60",
   "metadata": {},
   "outputs": [
    {
     "name": "stdout",
     "output_type": "stream",
     "text": [
      "tensor([1.2467], device='mps:0')\n"
     ]
    }
   ],
   "source": [
    "print(z)"
   ]
  },
  {
   "cell_type": "code",
   "execution_count": 53,
   "id": "bae9d21a-505a-4fc4-85a1-0b1d9be911fc",
   "metadata": {},
   "outputs": [
    {
     "name": "stdout",
     "output_type": "stream",
     "text": [
      "torch.float32\n"
     ]
    }
   ],
   "source": [
    "print(z.dtype)"
   ]
  },
  {
   "cell_type": "code",
   "execution_count": null,
   "id": "b96ee560-831b-4587-b87e-d999ee1bfa25",
   "metadata": {},
   "outputs": [],
   "source": [
    "#scalar"
   ]
  },
  {
   "cell_type": "code",
   "execution_count": 55,
   "id": "d0db05e3-70ac-4679-8efc-f89261c49dc6",
   "metadata": {},
   "outputs": [],
   "source": [
    "t0 = torch.tensor(0)"
   ]
  },
  {
   "cell_type": "code",
   "execution_count": 56,
   "id": "739e1015-1f99-4722-8d72-3fd2a252d76e",
   "metadata": {},
   "outputs": [
    {
     "name": "stdout",
     "output_type": "stream",
     "text": [
      "tensor(0)\n"
     ]
    }
   ],
   "source": [
    "print(t0)"
   ]
  },
  {
   "cell_type": "code",
   "execution_count": 57,
   "id": "32b1dc8d-125d-4db5-b570-8936753daf24",
   "metadata": {},
   "outputs": [
    {
     "name": "stdout",
     "output_type": "stream",
     "text": [
      "0\n"
     ]
    }
   ],
   "source": [
    "print(t0.ndim)"
   ]
  },
  {
   "cell_type": "code",
   "execution_count": 58,
   "id": "acd7df6b-bbe2-4481-b2ef-b0ad76399f77",
   "metadata": {},
   "outputs": [
    {
     "name": "stdout",
     "output_type": "stream",
     "text": [
      "torch.Size([])\n"
     ]
    }
   ],
   "source": [
    "print(t0.shape)"
   ]
  },
  {
   "cell_type": "code",
   "execution_count": 59,
   "id": "f4a0b87e-9bbb-415d-96e5-a6db6b4db5bb",
   "metadata": {},
   "outputs": [],
   "source": [
    "#1D Tensor (Vector)"
   ]
  },
  {
   "cell_type": "code",
   "execution_count": 60,
   "id": "f68b5e6a-d46f-4721-9cb0-a4cdfc3d1640",
   "metadata": {},
   "outputs": [],
   "source": [
    "t1 = torch.tensor([1,2,3])"
   ]
  },
  {
   "cell_type": "code",
   "execution_count": 61,
   "id": "7cc0e0e8-d288-42f9-ad69-d1038d8f6eb7",
   "metadata": {},
   "outputs": [
    {
     "name": "stdout",
     "output_type": "stream",
     "text": [
      "tensor([1, 2, 3])\n"
     ]
    }
   ],
   "source": [
    "print(t1)"
   ]
  },
  {
   "cell_type": "code",
   "execution_count": 62,
   "id": "3caff1ef-ee31-48e5-aa76-8e56900d0664",
   "metadata": {},
   "outputs": [
    {
     "name": "stdout",
     "output_type": "stream",
     "text": [
      "1\n"
     ]
    }
   ],
   "source": [
    "print(t1.ndim)"
   ]
  },
  {
   "cell_type": "code",
   "execution_count": 63,
   "id": "f0d210cf-9d54-461e-b504-e9de01e0ca68",
   "metadata": {},
   "outputs": [
    {
     "name": "stdout",
     "output_type": "stream",
     "text": [
      "torch.Size([3])\n"
     ]
    }
   ],
   "source": [
    "print(t1.shape)"
   ]
  },
  {
   "cell_type": "code",
   "execution_count": 64,
   "id": "acfaab2f-5a19-4925-927b-73b02545edb4",
   "metadata": {},
   "outputs": [],
   "source": [
    "#2D Tensor (Matrix)"
   ]
  },
  {
   "cell_type": "code",
   "execution_count": 66,
   "id": "396a37ff-108a-43b7-b893-bd76c1e42fd6",
   "metadata": {},
   "outputs": [],
   "source": [
    "t2 = torch.tensor([[1,2,3],[4,5,6], [7,8,9]])"
   ]
  },
  {
   "cell_type": "code",
   "execution_count": 67,
   "id": "23a279d1-6fd6-49b0-8955-e27c84924c1b",
   "metadata": {},
   "outputs": [
    {
     "name": "stdout",
     "output_type": "stream",
     "text": [
      "tensor([[1, 2, 3],\n",
      "        [4, 5, 6],\n",
      "        [7, 8, 9]])\n"
     ]
    }
   ],
   "source": [
    "print(t2)"
   ]
  },
  {
   "cell_type": "code",
   "execution_count": 68,
   "id": "f2bdec9c-d6ef-4bee-ae3c-49255b6431b6",
   "metadata": {},
   "outputs": [
    {
     "name": "stdout",
     "output_type": "stream",
     "text": [
      "2\n"
     ]
    }
   ],
   "source": [
    "print(t2.ndim)"
   ]
  },
  {
   "cell_type": "code",
   "execution_count": 76,
   "id": "b464a90d-0e83-42c7-9058-af86571acce4",
   "metadata": {},
   "outputs": [
    {
     "name": "stdout",
     "output_type": "stream",
     "text": [
      "torch.Size([12, 3])\n"
     ]
    }
   ],
   "source": [
    "print(t2.shape)"
   ]
  },
  {
   "cell_type": "code",
   "execution_count": 77,
   "id": "30297bac-ecfc-42a0-964a-3be6b847d9a5",
   "metadata": {},
   "outputs": [],
   "source": [
    "#3D tensor -timestamps, features, samples"
   ]
  },
  {
   "cell_type": "code",
   "execution_count": 85,
   "id": "c2a668e7-e548-4fbc-8072-3d20a0024683",
   "metadata": {},
   "outputs": [],
   "source": [
    "t3 = torch.tensor([\n",
    "  [  # 첫 번째 층 (2차원 배열)\n",
    "    [1, 2, 3],\n",
    "    [4, 5, 6],\n",
    "    [7, 8, 9],\n",
    "  ],\n",
    "  [  # 두 번째 층\n",
    "    [1, 2, 3],\n",
    "    [4, 5, 6],\n",
    "    [7, 8, 9],\n",
    "  ]\n",
    "])"
   ]
  },
  {
   "cell_type": "code",
   "execution_count": 86,
   "id": "cd97a309-e610-495d-8b1a-b8bca72887dd",
   "metadata": {},
   "outputs": [
    {
     "name": "stdout",
     "output_type": "stream",
     "text": [
      "tensor([[[1, 2, 3],\n",
      "         [4, 5, 6],\n",
      "         [7, 8, 9]],\n",
      "\n",
      "        [[1, 2, 3],\n",
      "         [4, 5, 6],\n",
      "         [7, 8, 9]]])\n"
     ]
    }
   ],
   "source": [
    "print(t3)"
   ]
  },
  {
   "cell_type": "code",
   "execution_count": 87,
   "id": "054310e8-b6a4-48b0-9dc3-304884f07c8c",
   "metadata": {},
   "outputs": [
    {
     "name": "stdout",
     "output_type": "stream",
     "text": [
      "3\n"
     ]
    }
   ],
   "source": [
    "print(t3.ndim)"
   ]
  },
  {
   "cell_type": "code",
   "execution_count": null,
   "id": "b57e31f8-62bf-451a-9fbe-d6b91d810cc8",
   "metadata": {},
   "outputs": [],
   "source": [
    "#4D tensor "
   ]
  }
 ],
 "metadata": {
  "kernelspec": {
   "display_name": "Python 3 (ipykernel)",
   "language": "python",
   "name": "python3"
  },
  "language_info": {
   "codemirror_mode": {
    "name": "ipython",
    "version": 3
   },
   "file_extension": ".py",
   "mimetype": "text/x-python",
   "name": "python",
   "nbconvert_exporter": "python",
   "pygments_lexer": "ipython3",
   "version": "3.11.11"
  }
 },
 "nbformat": 4,
 "nbformat_minor": 5
}
