{
 "cells": [
  {
   "cell_type": "code",
   "execution_count": 62,
   "id": "f0071f59-fbd2-4035-a13d-3c318ebeb64e",
   "metadata": {},
   "outputs": [
    {
     "name": "stderr",
     "output_type": "stream",
     "text": [
      "huggingface/tokenizers: The current process just got forked, after parallelism has already been used. Disabling parallelism to avoid deadlocks...\n",
      "To disable this warning, you can either:\n",
      "\t- Avoid using `tokenizers` before the fork if possible\n",
      "\t- Explicitly set the environment variable TOKENIZERS_PARALLELISM=(true | false)\n"
     ]
    },
    {
     "name": "stdout",
     "output_type": "stream",
     "text": [
      "Requirement already satisfied: transformers in /Users/jessicahong/.pyenv/versions/3.11.11/lib/python3.11/site-packages (4.53.2)\n",
      "Requirement already satisfied: torch in /Users/jessicahong/.pyenv/versions/3.11.11/lib/python3.11/site-packages (2.7.1)\n",
      "Requirement already satisfied: filelock in /Users/jessicahong/.pyenv/versions/3.11.11/lib/python3.11/site-packages (from transformers) (3.18.0)\n",
      "Requirement already satisfied: huggingface-hub<1.0,>=0.30.0 in /Users/jessicahong/.pyenv/versions/3.11.11/lib/python3.11/site-packages (from transformers) (0.33.1)\n",
      "Requirement already satisfied: numpy>=1.17 in /Users/jessicahong/.pyenv/versions/3.11.11/lib/python3.11/site-packages (from transformers) (1.26.4)\n",
      "Requirement already satisfied: packaging>=20.0 in /Users/jessicahong/.pyenv/versions/3.11.11/lib/python3.11/site-packages (from transformers) (24.2)\n",
      "Requirement already satisfied: pyyaml>=5.1 in /Users/jessicahong/.pyenv/versions/3.11.11/lib/python3.11/site-packages (from transformers) (6.0.2)\n",
      "Requirement already satisfied: regex!=2019.12.17 in /Users/jessicahong/.pyenv/versions/3.11.11/lib/python3.11/site-packages (from transformers) (2024.11.6)\n",
      "Requirement already satisfied: requests in /Users/jessicahong/.pyenv/versions/3.11.11/lib/python3.11/site-packages (from transformers) (2.32.3)\n",
      "Requirement already satisfied: tokenizers<0.22,>=0.21 in /Users/jessicahong/.pyenv/versions/3.11.11/lib/python3.11/site-packages (from transformers) (0.21.1)\n",
      "Requirement already satisfied: safetensors>=0.4.3 in /Users/jessicahong/.pyenv/versions/3.11.11/lib/python3.11/site-packages (from transformers) (0.5.3)\n",
      "Requirement already satisfied: tqdm>=4.27 in /Users/jessicahong/.pyenv/versions/3.11.11/lib/python3.11/site-packages (from transformers) (4.67.1)\n",
      "Requirement already satisfied: fsspec>=2023.5.0 in /Users/jessicahong/.pyenv/versions/3.11.11/lib/python3.11/site-packages (from huggingface-hub<1.0,>=0.30.0->transformers) (2024.12.0)\n",
      "Requirement already satisfied: typing-extensions>=3.7.4.3 in /Users/jessicahong/.pyenv/versions/3.11.11/lib/python3.11/site-packages (from huggingface-hub<1.0,>=0.30.0->transformers) (4.14.0)\n",
      "Requirement already satisfied: hf-xet<2.0.0,>=1.1.2 in /Users/jessicahong/.pyenv/versions/3.11.11/lib/python3.11/site-packages (from huggingface-hub<1.0,>=0.30.0->transformers) (1.1.5)\n",
      "Requirement already satisfied: sympy>=1.13.3 in /Users/jessicahong/.pyenv/versions/3.11.11/lib/python3.11/site-packages (from torch) (1.14.0)\n",
      "Requirement already satisfied: networkx in /Users/jessicahong/.pyenv/versions/3.11.11/lib/python3.11/site-packages (from torch) (3.4.2)\n",
      "Requirement already satisfied: jinja2 in /Users/jessicahong/.pyenv/versions/3.11.11/lib/python3.11/site-packages (from torch) (3.1.6)\n",
      "Requirement already satisfied: mpmath<1.4,>=1.1.0 in /Users/jessicahong/.pyenv/versions/3.11.11/lib/python3.11/site-packages (from sympy>=1.13.3->torch) (1.3.0)\n",
      "Requirement already satisfied: MarkupSafe>=2.0 in /Users/jessicahong/.pyenv/versions/3.11.11/lib/python3.11/site-packages (from jinja2->torch) (3.0.2)\n",
      "Requirement already satisfied: charset-normalizer<4,>=2 in /Users/jessicahong/.pyenv/versions/3.11.11/lib/python3.11/site-packages (from requests->transformers) (3.4.1)\n",
      "Requirement already satisfied: idna<4,>=2.5 in /Users/jessicahong/.pyenv/versions/3.11.11/lib/python3.11/site-packages (from requests->transformers) (3.10)\n",
      "Requirement already satisfied: urllib3<3,>=1.21.1 in /Users/jessicahong/.pyenv/versions/3.11.11/lib/python3.11/site-packages (from requests->transformers) (2.3.0)\n",
      "Requirement already satisfied: certifi>=2017.4.17 in /Users/jessicahong/.pyenv/versions/3.11.11/lib/python3.11/site-packages (from requests->transformers) (2025.1.31)\n",
      "Requirement already satisfied: sentence-transformers in /Users/jessicahong/.pyenv/versions/3.11.11/lib/python3.11/site-packages (5.0.0)\n"
     ]
    },
    {
     "name": "stderr",
     "output_type": "stream",
     "text": [
      "huggingface/tokenizers: The current process just got forked, after parallelism has already been used. Disabling parallelism to avoid deadlocks...\n",
      "To disable this warning, you can either:\n",
      "\t- Avoid using `tokenizers` before the fork if possible\n",
      "\t- Explicitly set the environment variable TOKENIZERS_PARALLELISM=(true | false)\n"
     ]
    },
    {
     "name": "stdout",
     "output_type": "stream",
     "text": [
      "Requirement already satisfied: transformers<5.0.0,>=4.41.0 in /Users/jessicahong/.pyenv/versions/3.11.11/lib/python3.11/site-packages (from sentence-transformers) (4.53.2)\n",
      "Requirement already satisfied: tqdm in /Users/jessicahong/.pyenv/versions/3.11.11/lib/python3.11/site-packages (from sentence-transformers) (4.67.1)\n",
      "Requirement already satisfied: torch>=1.11.0 in /Users/jessicahong/.pyenv/versions/3.11.11/lib/python3.11/site-packages (from sentence-transformers) (2.7.1)\n",
      "Requirement already satisfied: scikit-learn in /Users/jessicahong/.pyenv/versions/3.11.11/lib/python3.11/site-packages (from sentence-transformers) (1.6.1)\n",
      "Requirement already satisfied: scipy in /Users/jessicahong/.pyenv/versions/3.11.11/lib/python3.11/site-packages (from sentence-transformers) (1.13.1)\n",
      "Requirement already satisfied: huggingface-hub>=0.20.0 in /Users/jessicahong/.pyenv/versions/3.11.11/lib/python3.11/site-packages (from sentence-transformers) (0.33.1)\n",
      "Requirement already satisfied: Pillow in /Users/jessicahong/.pyenv/versions/3.11.11/lib/python3.11/site-packages (from sentence-transformers) (11.1.0)\n",
      "Requirement already satisfied: typing_extensions>=4.5.0 in /Users/jessicahong/.pyenv/versions/3.11.11/lib/python3.11/site-packages (from sentence-transformers) (4.14.0)\n",
      "Requirement already satisfied: filelock in /Users/jessicahong/.pyenv/versions/3.11.11/lib/python3.11/site-packages (from transformers<5.0.0,>=4.41.0->sentence-transformers) (3.18.0)\n",
      "Requirement already satisfied: numpy>=1.17 in /Users/jessicahong/.pyenv/versions/3.11.11/lib/python3.11/site-packages (from transformers<5.0.0,>=4.41.0->sentence-transformers) (1.26.4)\n",
      "Requirement already satisfied: packaging>=20.0 in /Users/jessicahong/.pyenv/versions/3.11.11/lib/python3.11/site-packages (from transformers<5.0.0,>=4.41.0->sentence-transformers) (24.2)\n",
      "Requirement already satisfied: pyyaml>=5.1 in /Users/jessicahong/.pyenv/versions/3.11.11/lib/python3.11/site-packages (from transformers<5.0.0,>=4.41.0->sentence-transformers) (6.0.2)\n",
      "Requirement already satisfied: regex!=2019.12.17 in /Users/jessicahong/.pyenv/versions/3.11.11/lib/python3.11/site-packages (from transformers<5.0.0,>=4.41.0->sentence-transformers) (2024.11.6)\n",
      "Requirement already satisfied: requests in /Users/jessicahong/.pyenv/versions/3.11.11/lib/python3.11/site-packages (from transformers<5.0.0,>=4.41.0->sentence-transformers) (2.32.3)\n",
      "Requirement already satisfied: tokenizers<0.22,>=0.21 in /Users/jessicahong/.pyenv/versions/3.11.11/lib/python3.11/site-packages (from transformers<5.0.0,>=4.41.0->sentence-transformers) (0.21.1)\n",
      "Requirement already satisfied: safetensors>=0.4.3 in /Users/jessicahong/.pyenv/versions/3.11.11/lib/python3.11/site-packages (from transformers<5.0.0,>=4.41.0->sentence-transformers) (0.5.3)\n",
      "Requirement already satisfied: fsspec>=2023.5.0 in /Users/jessicahong/.pyenv/versions/3.11.11/lib/python3.11/site-packages (from huggingface-hub>=0.20.0->sentence-transformers) (2024.12.0)\n",
      "Requirement already satisfied: hf-xet<2.0.0,>=1.1.2 in /Users/jessicahong/.pyenv/versions/3.11.11/lib/python3.11/site-packages (from huggingface-hub>=0.20.0->sentence-transformers) (1.1.5)\n",
      "Requirement already satisfied: sympy>=1.13.3 in /Users/jessicahong/.pyenv/versions/3.11.11/lib/python3.11/site-packages (from torch>=1.11.0->sentence-transformers) (1.14.0)\n",
      "Requirement already satisfied: networkx in /Users/jessicahong/.pyenv/versions/3.11.11/lib/python3.11/site-packages (from torch>=1.11.0->sentence-transformers) (3.4.2)\n",
      "Requirement already satisfied: jinja2 in /Users/jessicahong/.pyenv/versions/3.11.11/lib/python3.11/site-packages (from torch>=1.11.0->sentence-transformers) (3.1.6)\n",
      "Requirement already satisfied: mpmath<1.4,>=1.1.0 in /Users/jessicahong/.pyenv/versions/3.11.11/lib/python3.11/site-packages (from sympy>=1.13.3->torch>=1.11.0->sentence-transformers) (1.3.0)\n",
      "Requirement already satisfied: MarkupSafe>=2.0 in /Users/jessicahong/.pyenv/versions/3.11.11/lib/python3.11/site-packages (from jinja2->torch>=1.11.0->sentence-transformers) (3.0.2)\n",
      "Requirement already satisfied: charset-normalizer<4,>=2 in /Users/jessicahong/.pyenv/versions/3.11.11/lib/python3.11/site-packages (from requests->transformers<5.0.0,>=4.41.0->sentence-transformers) (3.4.1)\n",
      "Requirement already satisfied: idna<4,>=2.5 in /Users/jessicahong/.pyenv/versions/3.11.11/lib/python3.11/site-packages (from requests->transformers<5.0.0,>=4.41.0->sentence-transformers) (3.10)\n",
      "Requirement already satisfied: urllib3<3,>=1.21.1 in /Users/jessicahong/.pyenv/versions/3.11.11/lib/python3.11/site-packages (from requests->transformers<5.0.0,>=4.41.0->sentence-transformers) (2.3.0)\n",
      "Requirement already satisfied: certifi>=2017.4.17 in /Users/jessicahong/.pyenv/versions/3.11.11/lib/python3.11/site-packages (from requests->transformers<5.0.0,>=4.41.0->sentence-transformers) (2025.1.31)\n",
      "Requirement already satisfied: joblib>=1.2.0 in /Users/jessicahong/.pyenv/versions/3.11.11/lib/python3.11/site-packages (from scikit-learn->sentence-transformers) (1.5.1)\n",
      "Requirement already satisfied: threadpoolctl>=3.1.0 in /Users/jessicahong/.pyenv/versions/3.11.11/lib/python3.11/site-packages (from scikit-learn->sentence-transformers) (3.6.0)\n"
     ]
    },
    {
     "name": "stderr",
     "output_type": "stream",
     "text": [
      "huggingface/tokenizers: The current process just got forked, after parallelism has already been used. Disabling parallelism to avoid deadlocks...\n",
      "To disable this warning, you can either:\n",
      "\t- Avoid using `tokenizers` before the fork if possible\n",
      "\t- Explicitly set the environment variable TOKENIZERS_PARALLELISM=(true | false)\n"
     ]
    },
    {
     "data": {
      "text/plain": [
       "['Requirement already satisfied: sentence-transformers in /Users/jessicahong/.pyenv/versions/3.11.11/lib/python3.11/site-packages (5.0.0)',\n",
       " 'Requirement already satisfied: transformers<5.0.0,>=4.41.0 in /Users/jessicahong/.pyenv/versions/3.11.11/lib/python3.11/site-packages (from sentence-transformers) (4.53.2)',\n",
       " 'Requirement already satisfied: tqdm in /Users/jessicahong/.pyenv/versions/3.11.11/lib/python3.11/site-packages (from sentence-transformers) (4.67.1)',\n",
       " 'Requirement already satisfied: torch>=1.11.0 in /Users/jessicahong/.pyenv/versions/3.11.11/lib/python3.11/site-packages (from sentence-transformers) (2.7.1)',\n",
       " 'Requirement already satisfied: scikit-learn in /Users/jessicahong/.pyenv/versions/3.11.11/lib/python3.11/site-packages (from sentence-transformers) (1.6.1)',\n",
       " 'Requirement already satisfied: scipy in /Users/jessicahong/.pyenv/versions/3.11.11/lib/python3.11/site-packages (from sentence-transformers) (1.13.1)',\n",
       " 'Requirement already satisfied: huggingface-hub>=0.20.0 in /Users/jessicahong/.pyenv/versions/3.11.11/lib/python3.11/site-packages (from sentence-transformers) (0.33.1)',\n",
       " 'Requirement already satisfied: Pillow in /Users/jessicahong/.pyenv/versions/3.11.11/lib/python3.11/site-packages (from sentence-transformers) (11.1.0)',\n",
       " 'Requirement already satisfied: typing_extensions>=4.5.0 in /Users/jessicahong/.pyenv/versions/3.11.11/lib/python3.11/site-packages (from sentence-transformers) (4.14.0)',\n",
       " 'Requirement already satisfied: filelock in /Users/jessicahong/.pyenv/versions/3.11.11/lib/python3.11/site-packages (from transformers<5.0.0,>=4.41.0->sentence-transformers) (3.18.0)',\n",
       " 'Requirement already satisfied: numpy>=1.17 in /Users/jessicahong/.pyenv/versions/3.11.11/lib/python3.11/site-packages (from transformers<5.0.0,>=4.41.0->sentence-transformers) (1.26.4)',\n",
       " 'Requirement already satisfied: packaging>=20.0 in /Users/jessicahong/.pyenv/versions/3.11.11/lib/python3.11/site-packages (from transformers<5.0.0,>=4.41.0->sentence-transformers) (24.2)',\n",
       " 'Requirement already satisfied: pyyaml>=5.1 in /Users/jessicahong/.pyenv/versions/3.11.11/lib/python3.11/site-packages (from transformers<5.0.0,>=4.41.0->sentence-transformers) (6.0.2)',\n",
       " 'Requirement already satisfied: regex!=2019.12.17 in /Users/jessicahong/.pyenv/versions/3.11.11/lib/python3.11/site-packages (from transformers<5.0.0,>=4.41.0->sentence-transformers) (2024.11.6)',\n",
       " 'Requirement already satisfied: requests in /Users/jessicahong/.pyenv/versions/3.11.11/lib/python3.11/site-packages (from transformers<5.0.0,>=4.41.0->sentence-transformers) (2.32.3)',\n",
       " 'Requirement already satisfied: tokenizers<0.22,>=0.21 in /Users/jessicahong/.pyenv/versions/3.11.11/lib/python3.11/site-packages (from transformers<5.0.0,>=4.41.0->sentence-transformers) (0.21.1)',\n",
       " 'Requirement already satisfied: safetensors>=0.4.3 in /Users/jessicahong/.pyenv/versions/3.11.11/lib/python3.11/site-packages (from transformers<5.0.0,>=4.41.0->sentence-transformers) (0.5.3)',\n",
       " 'Requirement already satisfied: fsspec>=2023.5.0 in /Users/jessicahong/.pyenv/versions/3.11.11/lib/python3.11/site-packages (from huggingface-hub>=0.20.0->sentence-transformers) (2024.12.0)',\n",
       " 'Requirement already satisfied: hf-xet<2.0.0,>=1.1.2 in /Users/jessicahong/.pyenv/versions/3.11.11/lib/python3.11/site-packages (from huggingface-hub>=0.20.0->sentence-transformers) (1.1.5)',\n",
       " 'Requirement already satisfied: sympy>=1.13.3 in /Users/jessicahong/.pyenv/versions/3.11.11/lib/python3.11/site-packages (from torch>=1.11.0->sentence-transformers) (1.14.0)',\n",
       " 'Requirement already satisfied: networkx in /Users/jessicahong/.pyenv/versions/3.11.11/lib/python3.11/site-packages (from torch>=1.11.0->sentence-transformers) (3.4.2)',\n",
       " 'Requirement already satisfied: jinja2 in /Users/jessicahong/.pyenv/versions/3.11.11/lib/python3.11/site-packages (from torch>=1.11.0->sentence-transformers) (3.1.6)',\n",
       " 'Requirement already satisfied: mpmath<1.4,>=1.1.0 in /Users/jessicahong/.pyenv/versions/3.11.11/lib/python3.11/site-packages (from sympy>=1.13.3->torch>=1.11.0->sentence-transformers) (1.3.0)',\n",
       " 'Requirement already satisfied: MarkupSafe>=2.0 in /Users/jessicahong/.pyenv/versions/3.11.11/lib/python3.11/site-packages (from jinja2->torch>=1.11.0->sentence-transformers) (3.0.2)',\n",
       " 'Requirement already satisfied: charset-normalizer<4,>=2 in /Users/jessicahong/.pyenv/versions/3.11.11/lib/python3.11/site-packages (from requests->transformers<5.0.0,>=4.41.0->sentence-transformers) (3.4.1)',\n",
       " 'Requirement already satisfied: idna<4,>=2.5 in /Users/jessicahong/.pyenv/versions/3.11.11/lib/python3.11/site-packages (from requests->transformers<5.0.0,>=4.41.0->sentence-transformers) (3.10)',\n",
       " 'Requirement already satisfied: urllib3<3,>=1.21.1 in /Users/jessicahong/.pyenv/versions/3.11.11/lib/python3.11/site-packages (from requests->transformers<5.0.0,>=4.41.0->sentence-transformers) (2.3.0)',\n",
       " 'Requirement already satisfied: certifi>=2017.4.17 in /Users/jessicahong/.pyenv/versions/3.11.11/lib/python3.11/site-packages (from requests->transformers<5.0.0,>=4.41.0->sentence-transformers) (2025.1.31)',\n",
       " 'Requirement already satisfied: joblib>=1.2.0 in /Users/jessicahong/.pyenv/versions/3.11.11/lib/python3.11/site-packages (from scikit-learn->sentence-transformers) (1.5.1)',\n",
       " 'Requirement already satisfied: threadpoolctl>=3.1.0 in /Users/jessicahong/.pyenv/versions/3.11.11/lib/python3.11/site-packages (from scikit-learn->sentence-transformers) (3.6.0)']"
      ]
     },
     "execution_count": 62,
     "metadata": {},
     "output_type": "execute_result"
    }
   ],
   "source": [
    "!pip install transformers torch\n",
    "!pip install -U sentence-transformers\n",
    "!!pip install -U sentence-transformers"
   ]
  },
  {
   "cell_type": "code",
   "execution_count": 86,
   "id": "419ad3dc-bf13-4e7b-aed1-35df310653f1",
   "metadata": {},
   "outputs": [],
   "source": [
    "# Import the BERT tokenizer and model from the Hugging Face Transformers library\n",
    "from transformers import BertTokenizer, BertModel\n",
    "\n",
    "# Import PyTorch for tensor operations and model handling\n",
    "import torch"
   ]
  },
  {
   "cell_type": "code",
   "execution_count": 89,
   "id": "72b8edd2-976b-40da-8fec-ac90bb32eef4",
   "metadata": {},
   "outputs": [
    {
     "data": {
      "text/plain": [
       "'\\nbert-base-uncased : lowercase-based model.\\nautomatically lowercases input text during preprocessing.\\nwhen to use : for general text, social media, blogs \\n\\n\\n\\n bert-base-cased: preserve case =distinguishes between \"Apple\" and \"apple\".\\n For formal texts where case matters (e.g. legal documents, academic writing)\\n\\n'"
      ]
     },
     "execution_count": 89,
     "metadata": {},
     "output_type": "execute_result"
    }
   ],
   "source": [
    "# cased Vs Uncased usecase\n",
    "\"\"\"\n",
    "bert-base-uncased : lowercase-based model.\n",
    "automatically lowercases input text during preprocessing.\n",
    "when to use : for general text, social media, blogs \n",
    "\n",
    "\n",
    "\n",
    " bert-base-cased: preserve case =distinguishes between \"Apple\" and \"apple\".\n",
    " For formal texts where case matters (e.g. legal documents, academic writing)\n",
    " \n",
    "\"\"\"\n"
   ]
  },
  {
   "cell_type": "code",
   "execution_count": 87,
   "id": "5af4edb4-fb32-4146-9980-0daba295e9b9",
   "metadata": {},
   "outputs": [],
   "source": [
    "# Load the pre-trained BERT tokenizer (uncased means it lowercases the input text)\n",
    "tokenizer = BertTokenizer.from_pretrained(\"bert-base-uncased\")\n",
    "\n",
    "# Load the pre-trained BERT model (uncased version does not distinguish between uppercase and lowercase letters)\n",
    "model = BertModel.from_pretrained(\"bert-base-uncased\")"
   ]
  },
  {
   "cell_type": "code",
   "execution_count": 90,
   "id": "5aa7c3eb-a63b-4266-9aa5-d052ee104978",
   "metadata": {},
   "outputs": [],
   "source": [
    "# Define an input sentence for embedding\n",
    "sentence = \"Natural language processing with BERT is powerful.\""
   ]
  },
  {
   "cell_type": "code",
   "execution_count": 94,
   "id": "381a1c8c-9cd3-4b45-9249-1a764e6121c0",
   "metadata": {},
   "outputs": [],
   "source": [
    "#tokenizer(sentence) : tokenizes the input sentence and converts it into input IDs attention masks, etc..which are sutiabe for BERT Input\n",
    "#return_tensors=\"pt\" : specifieds that the ouput should be returned as Pytorch tensors\n",
    "\n",
    "\n",
    "inputs = tokenizer(sentence, return_tensors=\"pt\")"
   ]
  },
  {
   "cell_type": "code",
   "execution_count": 96,
   "id": "128fec1f-72cd-4794-a277-b751854c6be1",
   "metadata": {},
   "outputs": [
    {
     "name": "stdout",
     "output_type": "stream",
     "text": [
      "Tokenized input: {'input_ids': tensor([[  101,  3019,  2653,  6364,  2007, 14324,  2003,  3928,  1012,   102]]), 'token_type_ids': tensor([[0, 0, 0, 0, 0, 0, 0, 0, 0, 0]]), 'attention_mask': tensor([[1, 1, 1, 1, 1, 1, 1, 1, 1, 1]])}\n"
     ]
    }
   ],
   "source": [
    "print(\"Tokenized input:\", inputs)"
   ]
  },
  {
   "cell_type": "code",
   "execution_count": 95,
   "id": "73a94c3e-4db8-4e6e-a5da-fe9bc21fc3b5",
   "metadata": {},
   "outputs": [],
   "source": [
    "#Code that feeds tokenized input into the BERT model and gets the output without computing gradients.=>commonly used during inference to save memory and improve speed\n",
    "with torch.no_grad():\n",
    "    outputs = model(**inputs)"
   ]
  },
  {
   "cell_type": "code",
   "execution_count": 93,
   "id": "62d3220b-4a6a-450d-84d7-df98cacdafb5",
   "metadata": {},
   "outputs": [],
   "source": [
    "# Extract the last hidden states from the BERT model outputs\n",
    "last_hidden_state = outputs.last_hidden_state"
   ]
  },
  {
   "cell_type": "code",
   "execution_count": 97,
   "id": "abf3fe21-0b8b-4b8d-8f5e-d59bbc5443ac",
   "metadata": {},
   "outputs": [
    {
     "name": "stdout",
     "output_type": "stream",
     "text": [
      "Last hidden state shape: torch.Size([1, 10, 768])\n"
     ]
    }
   ],
   "source": [
    "print(\"Last hidden state shape:\", last_hidden_state.shape)"
   ]
  },
  {
   "cell_type": "code",
   "execution_count": 98,
   "id": "299fe5fc-6f67-466a-a4b0-3f71fa6cf503",
   "metadata": {},
   "outputs": [
    {
     "name": "stdout",
     "output_type": "stream",
     "text": [
      "Sentence embedding shape: torch.Size([1, 768])\n",
      "Sentence embedding vector: tensor([[-1.8205e-01, -1.6093e-01, -9.7175e-02, -5.2943e-02, -6.4816e-02,\n",
      "         -3.3049e-01,  2.7304e-02,  1.0914e-01,  1.5026e-01, -1.7985e-01,\n",
      "          1.6738e-01,  1.6320e-01, -1.4862e-01, -2.1214e-02, -7.8417e-02,\n",
      "          9.9738e-02, -3.9616e-02,  2.0594e-01, -3.1564e-01,  1.7193e-01,\n",
      "          2.1439e-01,  2.2465e-01, -2.0546e-02,  6.3377e-02,  4.0805e-01,\n",
      "         -2.7396e-01, -6.9383e-02, -2.1405e-01, -4.1650e-01, -3.9559e-01,\n",
      "         -8.1921e-02,  1.9791e-01, -6.2213e-03, -2.6204e-01, -1.9371e-01,\n",
      "         -3.0635e-04,  1.1528e-02, -2.0750e-01, -3.2336e-01, -1.1382e-01,\n",
      "         -4.8359e-01, -1.5777e-01, -4.4500e-02,  8.9135e-02, -2.1312e-01,\n",
      "         -5.5097e-02, -2.0304e-01,  1.9381e-01,  2.2825e-01, -9.3428e-02,\n",
      "         -9.6503e-01,  9.8580e-02,  1.5362e-01,  2.8191e-01,  1.2787e-01,\n",
      "          4.0135e-01,  1.4963e-02, -6.6243e-01,  3.2891e-01, -2.2384e-01,\n",
      "          3.7148e-02,  9.6243e-02, -2.0696e-01, -5.2985e-01,  2.0894e-01,\n",
      "         -9.1315e-02, -3.0189e-01, -7.9828e-02, -8.5966e-01, -1.8148e-02,\n",
      "         -1.0867e-01, -5.7431e-01,  5.2873e-02,  1.7348e-01, -2.5776e-01,\n",
      "          3.2800e-01, -3.2429e-01,  2.2543e-01, -9.2194e-02, -2.7697e-01,\n",
      "          7.9298e-02,  5.1401e-01,  4.7417e-01,  2.2862e-01,  4.8302e-01,\n",
      "          1.2551e-01, -2.0635e-01,  4.3039e-01, -1.7162e-01,  5.5373e-02,\n",
      "         -8.3732e-02, -2.9987e-01, -2.7554e-01,  2.9122e-01,  7.6285e-01,\n",
      "          2.9549e-01,  3.3810e-03,  2.3950e-02,  7.0632e-02,  4.8087e-01,\n",
      "          2.0179e-01, -7.0668e-01,  3.1913e-01,  2.1499e-01,  6.1192e-02,\n",
      "          1.1302e-01, -5.7688e-02,  2.7094e-01,  6.2305e-02,  5.3433e-02,\n",
      "          3.4383e-03, -3.6914e-02,  1.6576e-01, -4.9298e-01, -4.5274e-01,\n",
      "          4.1480e-02,  1.8667e-01,  5.2865e-01,  7.7563e-02,  1.5615e-01,\n",
      "          2.2393e-01,  4.6820e-01,  4.4743e-01,  1.2004e+00, -1.5474e-01,\n",
      "          2.5937e-01,  4.5810e-03,  7.0853e-02,  3.5935e-01, -3.5414e-01,\n",
      "          1.0710e-01,  5.3758e-01,  8.1430e-01, -1.4708e-01, -3.7830e-01,\n",
      "          2.4105e-01,  1.4685e-02, -2.3091e-01, -5.1928e-01,  1.7538e-01,\n",
      "         -2.1087e-01,  7.4407e-02,  2.6338e-01, -1.9282e-01,  4.5769e-01,\n",
      "          6.0037e-02, -1.3638e-01, -1.0368e-01,  1.6841e-01,  1.6127e-01,\n",
      "          3.9958e-01,  2.8279e-01, -4.2799e-01, -2.4265e-01, -4.6511e-01,\n",
      "          3.8086e-01, -1.3583e-01,  1.1649e-01,  4.3526e-01,  1.7895e-01,\n",
      "          1.8660e-01, -1.3099e-03, -3.7627e-01, -3.0057e-01, -3.0029e-01,\n",
      "         -2.8651e-02,  8.1777e-02,  5.8597e-01, -9.7065e-02,  1.0699e-01,\n",
      "         -1.1992e-01,  1.1660e-01,  3.5456e-01, -1.1022e-01, -1.7150e-01,\n",
      "          6.5820e-02,  1.7241e-01,  6.0229e-02,  2.3764e-01,  2.2722e-01,\n",
      "         -1.8907e+00,  1.9384e-01,  7.0434e-02, -3.1791e-01,  1.6973e-01,\n",
      "         -1.2419e-01,  8.7764e-02, -4.9747e-01, -5.2229e-01, -4.7717e-01,\n",
      "          5.5135e-02, -1.0091e-01, -3.0187e-01, -4.1831e-01,  8.5209e-01,\n",
      "         -2.9730e-01, -1.0279e-01, -1.0003e-01, -3.0584e-02,  1.4928e-01,\n",
      "          4.4794e-02, -1.6203e-01, -4.0398e-02,  2.7004e-01, -2.9904e-01,\n",
      "         -4.8203e-01, -5.7011e-02,  1.5116e-02, -4.6245e-01,  5.2836e-02,\n",
      "         -4.4844e-01,  5.9369e-01,  2.8711e-01, -1.9285e-02,  5.1611e-01,\n",
      "         -6.6859e-02,  8.9957e-03, -7.6330e-02, -1.0501e-01, -4.1757e-02,\n",
      "          1.0497e-01, -1.8758e-01, -2.8351e-01,  5.2425e-01, -3.7580e-01,\n",
      "          5.1167e-01,  4.6262e-01,  3.7549e-01,  3.7281e-01,  2.5492e-01,\n",
      "          1.7105e-01, -3.6360e-01,  4.1965e-01, -1.7313e-01, -3.0773e-01,\n",
      "         -1.2273e-01, -1.4610e-01,  4.5758e-02,  4.8348e-02,  2.3190e-01,\n",
      "         -3.9004e-01,  1.5623e-01,  5.5633e-01,  7.1893e-02,  3.0822e-01,\n",
      "         -3.9262e-01, -1.3438e-01,  1.5946e-02,  2.1139e-01, -7.7931e-01,\n",
      "         -1.1397e-01, -5.3090e-02,  1.6228e-01, -5.0746e-01,  4.1677e-02,\n",
      "          1.7232e-01, -1.3235e-01,  1.0161e-02, -8.7790e-02,  4.0746e-01,\n",
      "          3.7078e-01,  3.4544e-01,  5.6525e-02,  5.9910e-02, -3.4303e-01,\n",
      "         -6.7039e-01,  7.3737e-02, -7.0936e-02,  5.8831e-01,  3.4486e-01,\n",
      "          1.3645e-02, -9.7439e-01, -1.3792e-02,  5.1422e-02, -4.7468e-01,\n",
      "         -8.3634e-01,  9.4775e-02,  8.9318e-05, -1.5599e-01, -3.1222e-01,\n",
      "          1.3393e-01,  8.3168e-01,  3.4148e-02,  2.9007e-01, -2.1901e-01,\n",
      "         -1.0265e-01,  1.2361e-01, -5.1539e-01,  8.6618e-02, -4.8985e-01,\n",
      "         -2.0768e-01,  1.7394e-01, -3.5647e-01, -2.5642e-01,  5.3540e-02,\n",
      "          3.7775e-01,  4.7287e-01,  3.8907e-01, -6.8850e-02, -5.3001e-01,\n",
      "         -1.4154e-01, -5.6168e-01, -2.7643e-01, -2.1364e-01, -6.7610e-01,\n",
      "          5.8465e-02, -1.3643e-01, -2.0396e-01, -2.7211e+00, -4.9750e-03,\n",
      "         -1.2152e-01, -2.7638e-02,  3.6027e-01, -1.7105e-01, -1.0272e-01,\n",
      "         -1.6194e-01, -4.4727e-01,  1.7617e-01, -9.9025e-02, -2.5940e-01,\n",
      "         -3.1960e-01,  4.6698e-01,  3.0236e-02, -6.3374e-02, -2.9643e-01,\n",
      "         -2.6913e-01, -4.6510e-02,  3.2222e-02,  2.8996e-01, -2.3972e-01,\n",
      "          1.4824e-02, -1.9308e-01,  4.3053e-01,  1.1041e-01, -2.9292e-01,\n",
      "          4.0469e-02, -3.9237e-01, -3.3874e-01, -4.1942e-01, -1.6035e-01,\n",
      "          2.4617e-01,  3.0391e-01, -1.2300e-01, -1.6112e-01,  5.9617e-02,\n",
      "          3.2998e-02,  4.2163e-01, -5.4133e-01,  1.5508e-01,  2.1751e-01,\n",
      "          1.4592e-02, -5.2699e-01,  5.4706e-01, -4.5713e-01, -4.1619e-02,\n",
      "         -1.1910e-01,  1.3097e-01,  6.3170e-02, -3.7171e-01, -1.0238e-01,\n",
      "         -1.1580e-01,  1.7965e-01, -2.3894e-01, -6.7688e-01,  3.3510e-01,\n",
      "          6.0226e-01, -2.5841e-01, -6.6564e-02,  2.3004e-01, -4.6309e-01,\n",
      "         -1.9622e-01, -5.4832e-01, -1.9126e-01, -2.0476e-01, -4.6386e-01,\n",
      "         -1.2664e-01, -1.5079e-01,  1.1292e-01, -2.0696e-01,  7.9436e-02,\n",
      "         -4.7483e-01, -9.7302e-01,  7.4777e-02, -4.0452e-01, -1.4610e-01,\n",
      "         -2.8583e-01,  2.7320e-01, -1.0961e-01, -1.2002e-01, -7.5638e-01,\n",
      "          1.0340e-01, -5.7112e-02, -1.0270e-01, -1.1489e-01, -3.2665e-01,\n",
      "         -1.5035e-01, -5.2783e-02,  1.0988e-01,  4.3629e-01,  1.0943e-01,\n",
      "          3.0848e-01,  2.0649e-01, -1.9576e-01,  3.1996e-01,  5.9756e-01,\n",
      "         -5.6903e-01,  5.0756e-01,  2.3962e-01,  1.5814e-01,  7.0879e-02,\n",
      "          1.0494e-01,  1.5231e-02,  4.8118e-03,  3.8527e-01, -5.7829e-01,\n",
      "         -5.3185e-02,  5.5412e-01,  3.8336e-01, -3.4359e-02, -2.2958e-01,\n",
      "          6.1383e-01, -2.5280e-01, -1.2000e-01,  5.0341e-01, -6.4701e-02,\n",
      "          5.3049e-01,  1.4036e-01,  1.0406e-01,  6.8694e-03,  4.9010e-01,\n",
      "         -4.6680e-01, -5.4656e-02,  1.3325e-01,  4.7522e-02,  3.4439e-03,\n",
      "         -2.3890e-01, -6.7857e-01, -7.1558e-02, -1.7701e-01, -3.4339e-01,\n",
      "          5.8999e-02,  2.6135e-01,  3.5201e-01, -2.2986e-01,  3.1709e-02,\n",
      "          6.6651e-01,  2.3498e-01, -9.3659e-02,  3.4332e-01,  8.1971e-02,\n",
      "         -1.2698e-01, -2.7507e-01,  1.1057e-01,  3.0854e-01, -3.0664e-02,\n",
      "          1.1774e-02, -1.4669e-01, -8.0074e-02, -2.3041e-01, -1.2420e-01,\n",
      "         -5.0646e-02, -8.8054e-02, -5.8762e-02, -5.0159e-01,  2.3015e-01,\n",
      "         -1.1859e-01, -7.3941e-02, -6.1068e-01,  4.0823e-01,  5.2183e-01,\n",
      "          1.7676e-01,  2.5824e-01, -9.9435e-02, -1.9351e-01, -2.8505e-01,\n",
      "          1.3935e-01, -2.7991e-01,  6.1557e-01, -1.8850e-03, -5.3137e-01,\n",
      "          1.8395e-01, -2.4858e-01,  1.9670e-01,  2.8454e-01, -3.5078e-02,\n",
      "         -2.4265e-01,  2.7484e-02,  5.2745e-01,  2.8269e-01, -3.2131e-01,\n",
      "         -2.2320e-01,  2.8523e-01,  2.5785e-01,  1.7235e-01,  2.6461e-01,\n",
      "          9.5984e-02, -1.3755e-01,  9.6348e-02, -6.3572e-01,  4.6028e-01,\n",
      "         -3.6976e-01, -4.2764e-01, -5.2508e-01, -1.1673e-01,  3.7756e-01,\n",
      "         -1.3981e-01,  1.4969e-01, -2.0293e-01,  3.0855e-01,  6.5503e-02,\n",
      "         -1.6632e-01, -8.0653e-02,  1.0414e-01,  8.4175e-02,  1.0711e-01,\n",
      "          1.3774e-01, -9.8525e-02, -1.3117e-01, -5.1554e-01, -1.7494e-01,\n",
      "         -2.3909e-01, -7.2317e-01,  4.1631e-01,  3.0989e-01,  3.7130e-01,\n",
      "          2.7550e-02, -3.1716e-01, -9.7192e-02, -6.7804e-01, -2.7412e-01,\n",
      "         -1.0037e-01,  1.9931e-01, -5.9369e-01, -5.3836e-01, -2.3838e-01,\n",
      "         -2.9869e-01, -4.6039e-01,  1.2365e-01,  2.1097e-01, -1.3986e-01,\n",
      "          8.6626e-02,  3.6281e-01,  2.1236e-01,  6.1912e-02, -4.4057e-01,\n",
      "         -6.7838e-02,  2.8309e-01, -5.4583e-01, -3.2567e-02,  1.2137e-01,\n",
      "         -1.4823e-01,  3.1888e-02,  1.4100e-01,  1.2332e-01, -1.4057e-01,\n",
      "          1.7203e-01, -4.2911e-01,  3.2776e-01, -2.1564e-01,  4.1436e-02,\n",
      "         -7.7233e-03, -2.1686e-01,  3.4831e-01, -3.2436e-01, -2.9130e-01,\n",
      "         -1.9703e-01, -4.6530e-01,  1.9015e-01,  1.8466e-01,  5.1951e-02,\n",
      "         -4.0388e-01,  2.7808e-01,  5.0354e-01,  5.1274e-01,  1.5567e-01,\n",
      "          9.9309e-02,  1.3253e-01,  1.5382e-01, -4.5531e-01, -4.2444e-01,\n",
      "         -8.8528e-02,  1.2213e-01, -3.8734e-01, -3.8561e-01,  3.0301e-01,\n",
      "          6.6400e-02,  1.9103e-01, -2.3922e-01,  8.0712e-02,  2.0160e-01,\n",
      "          1.0364e-01, -5.3957e-01,  1.1984e-01, -6.8717e-02, -4.1028e-01,\n",
      "          1.0618e-01, -3.2091e-02, -1.1847e-01,  1.1804e-01,  3.4704e-01,\n",
      "         -9.1631e-02,  1.1423e-01, -2.4388e-01, -6.1004e-02,  1.7767e-01,\n",
      "          2.0501e-01, -2.8765e-01, -1.2659e-01, -8.4613e-02,  5.1585e-01,\n",
      "          2.2021e-01,  1.3273e-03, -3.9381e-01,  5.6828e-02,  2.6602e-01,\n",
      "         -5.5544e-02, -4.0971e-02,  2.8625e-01, -4.5386e-01,  3.9500e-02,\n",
      "          7.0204e-01,  6.0987e-01, -5.2486e-01,  1.8054e-01,  3.6373e-01,\n",
      "         -1.3364e-01,  2.3488e-01,  3.6961e-01, -7.3850e-02, -2.5107e-01,\n",
      "          5.2274e-01,  1.6189e-01, -2.5812e-01,  9.2675e-01, -4.1291e-01,\n",
      "         -2.6322e-01,  1.7569e-01,  4.5382e-01,  2.3295e-02,  7.8103e-01,\n",
      "         -1.5606e-01,  2.1098e-01,  1.2860e-01, -3.6836e-01,  2.0674e-01,\n",
      "          4.2473e-01,  3.3039e-01, -1.4944e-01,  7.9628e-01,  1.9828e-01,\n",
      "         -2.5732e-01,  7.0519e-01,  1.8113e-02,  3.2395e-02,  1.8034e-01,\n",
      "          2.9776e-01,  1.0347e-01,  4.3160e-01,  5.6990e-01,  2.8668e-01,\n",
      "          3.7442e-01,  2.2789e-01,  2.6195e-01,  2.6908e-02,  4.3213e-01,\n",
      "          5.8225e-01,  2.2378e-01, -1.4538e-02,  2.3946e-01,  1.8318e-01,\n",
      "          4.1877e-01, -3.6179e-01, -8.1066e-02,  2.6078e-01,  3.9395e-01,\n",
      "         -9.7450e-02, -1.8574e-01,  5.7101e-03, -2.3606e-01,  3.9596e-01,\n",
      "          1.4125e-02, -2.0146e-01,  1.8157e-02,  6.3541e-02, -1.8116e-01,\n",
      "          2.8994e-02, -4.9506e-01, -1.3399e-01,  1.2873e-01,  7.9288e-02,\n",
      "         -5.2173e-01, -2.1835e-01, -4.1569e-01, -2.0256e-01, -1.4010e-01,\n",
      "          8.3644e-03,  3.5106e-01, -2.7213e-01, -1.7259e-01, -6.5210e-02,\n",
      "          1.8656e-01, -5.4449e-01,  3.7037e-01, -3.9964e-01, -2.2556e-01,\n",
      "          3.2316e-01,  3.6253e-01, -9.8108e-02,  5.1835e-01, -9.5713e-02,\n",
      "         -1.1617e-01,  2.4185e-01, -6.5298e-03,  8.0656e-02,  8.3812e-02,\n",
      "          2.2226e-01, -4.0378e-01, -3.8637e-01,  1.7765e-01,  3.3998e-01,\n",
      "         -9.4992e-01, -1.2407e-01, -1.0280e-01,  2.0499e-01, -3.7058e-02,\n",
      "         -9.3257e-02, -5.3188e-02,  8.8511e-02, -6.7393e-01, -1.2823e-01,\n",
      "          7.1528e-01,  3.8731e-01, -2.8310e-01,  2.8553e-01,  1.2604e-01,\n",
      "          7.0818e-02, -2.8394e-01, -1.8613e-01,  3.8144e-01,  5.0266e-01,\n",
      "          1.7776e-01,  1.2863e-01,  4.7042e-01, -1.8824e-01, -4.1693e-01,\n",
      "          3.7625e-03, -9.8448e-02, -2.6688e-01, -3.3703e-01,  6.8865e-02,\n",
      "          2.7323e-01,  1.6923e-01, -1.1482e+00,  1.4409e-01,  5.5331e-03,\n",
      "         -5.4353e-01, -1.3357e-01, -7.6887e-01,  7.2957e-02, -6.8239e-02,\n",
      "         -7.2712e-02, -7.7255e-02, -5.3065e-02,  4.3363e-01,  3.8600e-01,\n",
      "         -4.6712e-01, -5.5374e-01,  1.1682e-01]])\n"
     ]
    }
   ],
   "source": [
    "#Get sentence embedding by averaging token embeddings\n",
    "sentence_embedding = last_hidden_state.mean(dim=1)\n",
    "print(\"Sentence embedding shape:\", sentence_embedding.shape)\n",
    "print(\"Sentence embedding vector:\", sentence_embedding)"
   ]
  },
  {
   "cell_type": "code",
   "execution_count": 70,
   "id": "08ace4c5-fc12-4700-a6df-7e82bd509f4a",
   "metadata": {},
   "outputs": [
    {
     "name": "stdout",
     "output_type": "stream",
     "text": [
      "Embedding shape: torch.Size([1, 768])\n",
      "First 5 dimensions:\n",
      " tensor([-0.1820, -0.1609, -0.0972, -0.0529, -0.0648])\n"
     ]
    }
   ],
   "source": [
    "print(\"Embedding shape:\", sentence_embedding.shape)\n",
    "print(\"First 5 dimensions:\\n\", sentence_embedding[0][:5])"
   ]
  },
  {
   "cell_type": "code",
   "execution_count": 99,
   "id": "333a565d-be9d-4237-ae87-66ae9aacc4ca",
   "metadata": {},
   "outputs": [],
   "source": [
    "#batch processing\n",
    "sentences = [\n",
    "    \"I love natural language processing.\",\n",
    "    \"BERT models are very useful.\",\n",
    "    \"Transformers can understand context.\",\n",
    "    \"Cats sit on the mat.\",\n",
    "]"
   ]
  },
  {
   "cell_type": "code",
   "execution_count": 72,
   "id": "e073f377-5acc-44a7-8538-ba6c2cbac5fd",
   "metadata": {},
   "outputs": [],
   "source": [
    "embeddings = []"
   ]
  },
  {
   "cell_type": "code",
   "execution_count": 100,
   "id": "7888fc92-df9c-420a-ad92-e0c99eec8e3d",
   "metadata": {},
   "outputs": [],
   "source": [
    "#Sentences inside sentences are processed one by one in the for loop. \n",
    "for sent in sentences:\n",
    "    #Each sentence is tokenized by tokenizer(sent, return_tensors=\"pt\"), converting it into PyTorch tensor format.\n",
    "    tokens = tokenizer(sent, return_tensors=\"pt\")\n",
    "    #to disable gradient calculation, so the model runs only inference. \n",
    "    with torch.no_grad():\n",
    "        #unpacks the tokenized input dictionary as keyword arguments into the BERT model. \n",
    "        output = model(**tokens)\n",
    "        #Taking mean over tokens , produces sentence embedding vector \n",
    "    vec = torch.mean(output.last_hidden_state, dim=1)\n",
    "    #append embedding vector\n",
    "    embeddings.append(vec)"
   ]
  },
  {
   "cell_type": "code",
   "execution_count": 101,
   "id": "2e99d927-083d-4d1e-8160-deaaeeda6231",
   "metadata": {},
   "outputs": [],
   "source": [
    "# # Convert list of tensors to a single tensor, then convert to NumPy array\n",
    "embedding_vectors = torch.cat(embeddings).numpy()"
   ]
  },
  {
   "cell_type": "code",
   "execution_count": 102,
   "id": "b9262264-8168-4639-b159-9be88a6e661e",
   "metadata": {},
   "outputs": [
    {
     "name": "stdout",
     "output_type": "stream",
     "text": [
      "All Embeddings Shape: (8, 768)\n"
     ]
    }
   ],
   "source": [
    "print(\"All Embeddings Shape:\", embedding_vectors.shape)"
   ]
  },
  {
   "cell_type": "code",
   "execution_count": 83,
   "id": "9413eeb8-2294-47d6-9f15-c2a0152ec4c4",
   "metadata": {},
   "outputs": [
    {
     "data": {
      "text/plain": [
       "'\\npurpose : Projects the data onto the directions with the highest variance\\nmethod : Linear transformation\\nComputation Speed : Fast\\nInterpretation : Principal components reflect the overall structure of the data\\nCharacteristic : Preserves global structure, focuses more on direction than clustering\\noutput: Always the same (deterministic)\\n'"
      ]
     },
     "execution_count": 83,
     "metadata": {},
     "output_type": "execute_result"
    }
   ],
   "source": [
    "#PCA\n",
    "\"\"\"\n",
    "purpose : Projects the data onto the directions with the highest variance\n",
    "method : Linear transformation\n",
    "Computation Speed : Fast\n",
    "Interpretation : Principal components reflect the overall structure of the data\n",
    "Characteristic : Preserves global structure, focuses more on direction than clustering\n",
    "output: Always the same (deterministic)\n",
    "\"\"\""
   ]
  },
  {
   "cell_type": "code",
   "execution_count": 103,
   "id": "bc128949-5ea5-4ed4-9ceb-f73e2a6ed73e",
   "metadata": {},
   "outputs": [
    {
     "data": {
      "image/png": "[encoded data removed]",
      "text/plain": [
       "<Figure size 800x600 with 1 Axes>"
      ]
     },
     "metadata": {},
     "output_type": "display_data"
    }
   ],
   "source": [
    "from sklearn.decomposition import PCA\n",
    "import matplotlib.pyplot as plt\n",
    "\n",
    "# Reduce embeddings to 2D using PCA\n",
    "pca = PCA(n_components=2)\n",
    "reduced = pca.fit_transform(embedding_vectors)\n",
    "\n",
    "# Visualization of reduced embeddings\n",
    "plt.figure(figsize=(8, 6))\n",
    "for i, sentence in enumerate(sentences):\n",
    "    x, y = reduced[i]  # Get 2D coordinates for each sentence\n",
    "    plt.scatter(x, y)  # Plot the point\n",
    "    plt.text(x + 0.01, y + 0.01, sentence, fontsize=9)  # Annotate with sentence text\n",
    "plt.title(\"BERT Sentence Embeddings (PCA)\")\n",
    "plt.xlabel(\"PCA 1\")  # First principal component\n",
    "plt.ylabel(\"PCA 2\")  # Second principal component\n",
    "plt.grid(True)  # Show grid for better readability\n",
    "plt.show()  # Display the plot\n"
   ]
  },
  {
   "cell_type": "code",
   "execution_count": 106,
   "id": "64582511-9b7b-4535-b44d-bf1e81e7acb7",
   "metadata": {},
   "outputs": [],
   "source": [
    "#cosine Similarity"
   ]
  },
  {
   "cell_type": "code",
   "execution_count": 107,
   "id": "8d3329c7-4aa1-4470-be33-66dd15fabe37",
   "metadata": {},
   "outputs": [
    {
     "name": "stdout",
     "output_type": "stream",
     "text": [
      "Cosine Similarity Matrix:\n",
      "[[1.    0.6   0.656 0.565 1.    0.6   0.656 0.565]\n",
      " [0.6   1.    0.692 0.531 0.6   1.    0.692 0.531]\n",
      " [0.656 0.692 1.    0.548 0.656 0.692 1.    0.548]\n",
      " [0.565 0.531 0.548 1.    0.565 0.531 0.548 1.   ]\n",
      " [1.    0.6   0.656 0.565 1.    0.6   0.656 0.565]\n",
      " [0.6   1.    0.692 0.531 0.6   1.    0.692 0.531]\n",
      " [0.656 0.692 1.    0.548 0.656 0.692 1.    0.548]\n",
      " [0.565 0.531 0.548 1.    0.565 0.531 0.548 1.   ]]\n"
     ]
    }
   ],
   "source": [
    "from sklearn.metrics.pairwise import cosine_similarity\n",
    "import numpy as np\n",
    "\n",
    "# Calculate cosine similarity matrix between sentence embeddings\n",
    "cos_sim_matrix = cosine_similarity(embedding_vectors)\n",
    "\n",
    "# Print the similarity matrix rounded to 3 decimal places\n",
    "print(\"Cosine Similarity Matrix:\")\n",
    "print(np.round(cos_sim_matrix, 3))\n",
    "\n"
   ]
  },
  {
   "cell_type": "code",
   "execution_count": 108,
   "id": "4071d761-28f2-4c09-ac6a-b2ad5283223a",
   "metadata": {},
   "outputs": [
    {
     "data": {
      "text/plain": [
       "'\\nPurpose :Visualizes data so that nearby points stay closer together\\nMethod : Nonlinear transformation\\nComputation Speed: Slow (computationally intensive)\\nInterpretation: Shows structure based on clusters and similarity\\nCharacteristic:\\tPreserves local structure very well\\nOutput: Slightly different results each run (can be fixed with random_state)\\n'"
      ]
     },
     "execution_count": 108,
     "metadata": {},
     "output_type": "execute_result"
    }
   ],
   "source": [
    "#TSE\n",
    "\"\"\"\n",
    "Purpose :Visualizes data so that nearby points stay closer together\n",
    "Method : Nonlinear transformation\n",
    "Computation Speed: Slow (computationally intensive)\n",
    "Interpretation: Shows structure based on clusters and similarity\n",
    "Characteristic:\tPreserves local structure very well\n",
    "Output: Slightly different results each run (can be fixed with random_state)\n",
    "\"\"\""
   ]
  },
  {
   "cell_type": "code",
   "execution_count": null,
   "id": "b221368f-d7c6-4f19-851f-74876d088102",
   "metadata": {},
   "outputs": [],
   "source": [
    "from sklearn.manifold import TSNE\n",
    "import matplotlib.pyplot as plt"
   ]
  },
  {
   "cell_type": "code",
   "execution_count": 109,
   "id": "d4451159-8af7-4d4e-b66e-878aad3d749a",
   "metadata": {},
   "outputs": [
    {
     "data": {
      "image/png": "[encoded data removed]",
      "text/plain": [
       "<Figure size 800x600 with 1 Axes>"
      ]
     },
     "metadata": {},
     "output_type": "display_data"
    }
   ],
   "source": [
    "# When the number of sentences is small, set perplexity to a small value\n",
    "tsne = TSNE(n_components=2, perplexity=3, random_state=42)\n",
    "\n",
    "# Perform t-SNE dimensionality reduction on the embeddings\n",
    "reduced_tsne = tsne.fit_transform(embedding_vectors)\n",
    "\n",
    "plt.figure(figsize=(8,6))\n",
    "for i, sentence in enumerate(sentences):\n",
    "    x, y = reduced_tsne[i]  # Get 2D coordinates for each sentence\n",
    "    plt.scatter(x, y)        # Plot the point\n",
    "    plt.text(x+0.01, y+0.01, sentence, fontsize=9)  # Annotate with sentence text\n",
    "plt.title(\"t-SNE visualization of Sentence Embeddings\")\n",
    "plt.xlabel(\"Component 1\")  # First t-SNE component\n",
    "plt.ylabel(\"Component 2\")  # Second t-SNE component\n",
    "plt.grid(True)             # Show grid\n",
    "plt.show()                 # Display the plot\n",
    "\n",
    "\n",
    "\n",
    "\n"
   ]
  },
  {
   "cell_type": "code",
   "execution_count": 85,
   "id": "8b6eab7c-a555-4aa8-8384-3fdb2b1f9475",
   "metadata": {},
   "outputs": [
    {
     "data": {
      "text/plain": [
       "'\\nWhen to use :\\nUnderstanding overall direction/variance of data ->PCA\\nWant to see how close similar points are -> t-SNE\\nWant to visually identify clusters ->  t-SNE\\nWhen speed is important->PCA\\n'"
      ]
     },
     "execution_count": 85,
     "metadata": {},
     "output_type": "execute_result"
    }
   ],
   "source": [
    "#PCA vs TSNE\n",
    "\"\"\"\n",
    "When to use :\n",
    "Understanding overall direction/variance of data ->PCA\n",
    "Want to see how close similar points are -> t-SNE\n",
    "Want to visually identify clusters ->  t-SNE\n",
    "When speed is important->PCA\n",
    "\"\"\""
   ]
  },
  {
   "cell_type": "code",
   "execution_count": null,
   "id": "cf0a9178-eda9-4a3c-b72b-1f7f4ca8a82b",
   "metadata": {},
   "outputs": [],
   "source": []
  }
 ],
 "metadata": {
  "kernelspec": {
   "display_name": "Python 3 (ipykernel)",
   "language": "python",
   "name": "python3"
  },
  "language_info": {
   "codemirror_mode": {
    "name": "ipython",
    "version": 3
   },
   "file_extension": ".py",
   "mimetype": "text/x-python",
   "name": "python",
   "nbconvert_exporter": "python",
   "pygments_lexer": "ipython3",
   "version": "3.11.11"
  }
 },
 "nbformat": 4,
 "nbformat_minor": 5
}
