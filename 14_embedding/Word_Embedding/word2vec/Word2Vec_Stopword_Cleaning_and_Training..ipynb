{
 "cells": [
  {
   "cell_type": "code",
   "execution_count": 1,
   "id": "eb0e8fdc-882b-4865-a2cc-fd161259b842",
   "metadata": {},
   "outputs": [
    {
     "name": "stdout",
     "output_type": "stream",
     "text": [
      "Collecting nltk\n",
      "  Using cached nltk-3.9.1-py3-none-any.whl.metadata (2.9 kB)\n",
      "Requirement already satisfied: gensim in /Users/jessicahong/.pyenv/versions/3.11.11/lib/python3.11/site-packages (4.3.3)\n",
      "Requirement already satisfied: matplotlib in /Users/jessicahong/.pyenv/versions/3.11.11/lib/python3.11/site-packages (3.10.3)\n",
      "Requirement already satisfied: scikit-learn in /Users/jessicahong/.pyenv/versions/3.11.11/lib/python3.11/site-packages (1.6.1)\n",
      "Requirement already satisfied: click in /Users/jessicahong/.pyenv/versions/3.11.11/lib/python3.11/site-packages (from nltk) (8.1.8)\n",
      "Requirement already satisfied: joblib in /Users/jessicahong/.pyenv/versions/3.11.11/lib/python3.11/site-packages (from nltk) (1.5.1)\n",
      "Requirement already satisfied: regex>=2021.8.3 in /Users/jessicahong/.pyenv/versions/3.11.11/lib/python3.11/site-packages (from nltk) (2024.11.6)\n",
      "Requirement already satisfied: tqdm in /Users/jessicahong/.pyenv/versions/3.11.11/lib/python3.11/site-packages (from nltk) (4.67.1)\n",
      "Requirement already satisfied: numpy<2.0,>=1.18.5 in /Users/jessicahong/.pyenv/versions/3.11.11/lib/python3.11/site-packages (from gensim) (1.26.4)\n",
      "Requirement already satisfied: scipy<1.14.0,>=1.7.0 in /Users/jessicahong/.pyenv/versions/3.11.11/lib/python3.11/site-packages (from gensim) (1.13.1)\n",
      "Requirement already satisfied: smart-open>=1.8.1 in /Users/jessicahong/.pyenv/versions/3.11.11/lib/python3.11/site-packages (from gensim) (7.3.0.post1)\n",
      "Requirement already satisfied: contourpy>=1.0.1 in /Users/jessicahong/.pyenv/versions/3.11.11/lib/python3.11/site-packages (from matplotlib) (1.3.1)\n",
      "Requirement already satisfied: cycler>=0.10 in /Users/jessicahong/.pyenv/versions/3.11.11/lib/python3.11/site-packages (from matplotlib) (0.12.1)\n",
      "Requirement already satisfied: fonttools>=4.22.0 in /Users/jessicahong/.pyenv/versions/3.11.11/lib/python3.11/site-packages (from matplotlib) (4.56.0)\n",
      "Requirement already satisfied: kiwisolver>=1.3.1 in /Users/jessicahong/.pyenv/versions/3.11.11/lib/python3.11/site-packages (from matplotlib) (1.4.8)\n",
      "Requirement already satisfied: packaging>=20.0 in /Users/jessicahong/.pyenv/versions/3.11.11/lib/python3.11/site-packages (from matplotlib) (24.2)\n",
      "Requirement already satisfied: pillow>=8 in /Users/jessicahong/.pyenv/versions/3.11.11/lib/python3.11/site-packages (from matplotlib) (11.1.0)\n",
      "Requirement already satisfied: pyparsing>=2.3.1 in /Users/jessicahong/.pyenv/versions/3.11.11/lib/python3.11/site-packages (from matplotlib) (3.2.1)\n",
      "Requirement already satisfied: python-dateutil>=2.7 in /Users/jessicahong/.pyenv/versions/3.11.11/lib/python3.11/site-packages (from matplotlib) (2.8.2)\n",
      "Requirement already satisfied: threadpoolctl>=3.1.0 in /Users/jessicahong/.pyenv/versions/3.11.11/lib/python3.11/site-packages (from scikit-learn) (3.6.0)\n",
      "Requirement already satisfied: six>=1.5 in /Users/jessicahong/.pyenv/versions/3.11.11/lib/python3.11/site-packages (from python-dateutil>=2.7->matplotlib) (1.17.0)\n",
      "Requirement already satisfied: wrapt in /Users/jessicahong/.pyenv/versions/3.11.11/lib/python3.11/site-packages (from smart-open>=1.8.1->gensim) (1.17.2)\n",
      "Using cached nltk-3.9.1-py3-none-any.whl (1.5 MB)\n",
      "Installing collected packages: nltk\n",
      "Successfully installed nltk-3.9.1\n"
     ]
    }
   ],
   "source": [
    "!pip install nltk gensim matplotlib scikit-learn"
   ]
  },
  {
   "cell_type": "code",
   "execution_count": 2,
   "id": "cd8a5b22-b75d-40bc-89b1-bb43e3429abe",
   "metadata": {},
   "outputs": [],
   "source": [
    "#import libraries\n",
    "from gensim.models import Word2Vec\n",
    "from nltk.tokenize import word_tokenize\n",
    "import matplotlib.pyplot as plt\n",
    "from sklearn.decomposition import PCA\n",
    "import nltk"
   ]
  },
  {
   "cell_type": "code",
   "execution_count": 3,
   "id": "2bfec3d3-ba19-4497-a836-3b71bfcee512",
   "metadata": {},
   "outputs": [
    {
     "name": "stderr",
     "output_type": "stream",
     "text": [
      "[nltk_data] Downloading package punkt to\n",
      "[nltk_data]     /Users/jessicahong/nltk_data...\n",
      "[nltk_data]   Package punkt is already up-to-date!\n"
     ]
    },
    {
     "data": {
      "text/plain": [
       "True"
      ]
     },
     "execution_count": 3,
     "metadata": {},
     "output_type": "execute_result"
    }
   ],
   "source": [
    "nltk.download('punkt') "
   ]
  },
  {
   "cell_type": "code",
   "execution_count": 4,
   "id": "d3dc4343-253d-4f9e-b2ed-a0292fff4618",
   "metadata": {},
   "outputs": [],
   "source": [
    "corpus = [\n",
    "    \"Natural language processing and machine learning are fun.\",\n",
    "    \"Deep learning is part of machine learning.\",\n",
    "    \"Word embeddings map words to vectors.\",\n",
    "    \"Word2Vec is an algorithm for learning word embeddings.\"\n",
    "]"
   ]
  },
  {
   "cell_type": "code",
   "execution_count": 8,
   "id": "368e58cc-35b0-4446-998b-18e4631bf726",
   "metadata": {},
   "outputs": [
    {
     "data": {
      "text/plain": [
       "[['natural',\n",
       "  'language',\n",
       "  'processing',\n",
       "  'and',\n",
       "  'machine',\n",
       "  'learning',\n",
       "  'are',\n",
       "  'fun',\n",
       "  '.'],\n",
       " ['deep', 'learning', 'is', 'part', 'of', 'machine', 'learning', '.'],\n",
       " ['word', 'embeddings', 'map', 'words', 'to', 'vectors', '.'],\n",
       " ['word2vec',\n",
       "  'is',\n",
       "  'an',\n",
       "  'algorithm',\n",
       "  'for',\n",
       "  'learning',\n",
       "  'word',\n",
       "  'embeddings',\n",
       "  '.']]"
      ]
     },
     "execution_count": 8,
     "metadata": {},
     "output_type": "execute_result"
    }
   ],
   "source": [
    "#“Take each sentence in the corpus, convert it to lowercase, tokenize it into words, and collect the results into a list.\n",
    "tokenized_corpus = [word_tokenize(sentence.lower()) for sentence in corpus]\n",
    "tokenized_corpus"
   ]
  },
  {
   "cell_type": "code",
   "execution_count": 6,
   "id": "b477c51c-33af-4b72-a7a0-812fac2483d1",
   "metadata": {},
   "outputs": [],
   "source": [
    "#word2vec"
   ]
  },
  {
   "cell_type": "code",
   "execution_count": 19,
   "id": "afa4a6d8-9a7d-48df-ade6-6009177175b2",
   "metadata": {},
   "outputs": [],
   "source": [
    "#Training"
   ]
  },
  {
   "cell_type": "code",
   "execution_count": 10,
   "id": "1715b85e-2669-4d6a-bf1d-cebcd4902b1b",
   "metadata": {},
   "outputs": [],
   "source": [
    "model = Word2Vec(\n",
    "    sentences=tokenized_corpus,  # List of tokenized sentences to train on\n",
    "    vector_size=100,             # Size of the word vectors (100-dimensional)\n",
    "    window=5,                   # Context window size (looks at 5 words to the left and right)\n",
    "    min_count=1,                # Ignores words with total frequency less than 1 (i.e., includes all words)\n",
    "    workers=2,                  # Number of CPU cores to use for training (parallelization)\n",
    "    sg=1,                      # 1 means Skip-Gram model, 0 means CBOW model\n",
    "    epochs=50                  # Number of iterations (epochs) over the entire corpus\n",
    ")"
   ]
  },
  {
   "cell_type": "code",
   "execution_count": 15,
   "id": "23ced90f-af8a-46e5-987f-e0b0758e3cc8",
   "metadata": {},
   "outputs": [],
   "source": [
    "#Vectorization and Visualization"
   ]
  },
  {
   "cell_type": "code",
   "execution_count": 16,
   "id": "c4343a05-ab38-43df-8c70-ff00fb850c55",
   "metadata": {},
   "outputs": [],
   "source": [
    "# Extract vectors\n",
    "words = list(model.wv.index_to_key)[:10]  # Get top 10 words\n",
    "vectors = [model.wv[word] for word in words]"
   ]
  },
  {
   "cell_type": "code",
   "execution_count": 20,
   "id": "76215694-db1e-412a-aba0-ad894000c689",
   "metadata": {},
   "outputs": [
    {
     "name": "stdout",
     "output_type": "stream",
     "text": [
      "Top 10 words: ['learning', '.', 'machine', 'embeddings', 'word', 'is', 'for', 'deep', 'language', 'processing']\n"
     ]
    }
   ],
   "source": [
    "print(\"Top 10 words:\", words)"
   ]
  },
  {
   "cell_type": "code",
   "execution_count": 29,
   "id": "aa169c49-78bd-4e68-9254-6ce4390b9eb7",
   "metadata": {},
   "outputs": [
    {
     "name": "stdout",
     "output_type": "stream",
     "text": [
      "Word: learning\n",
      "Vector shape: (100,)\n",
      "Vector sample values: [-0.00061214  0.00031468  0.00516957  0.00913923 -0.00928718]\n",
      "------------------------------\n",
      "Word: .\n",
      "Vector shape: (100,)\n",
      "Vector sample values: [-0.00875573  0.00382548  0.0053185   0.00597684  0.00746369]\n",
      "------------------------------\n",
      "Word: machine\n",
      "Vector shape: (100,)\n",
      "Vector sample values: [ 1.8217632e-06  3.1680164e-03 -6.7632776e-03 -1.2327639e-03\n",
      "  7.7066640e-03]\n",
      "------------------------------\n",
      "Word: embeddings\n",
      "Vector shape: (100,)\n",
      "Vector sample values: [-0.0082973   0.00936183 -0.00016187 -0.00189764  0.00461668]\n",
      "------------------------------\n",
      "Word: word\n",
      "Vector shape: (100,)\n",
      "Vector sample values: [-0.007185    0.00131862 -0.0071196  -0.00215184  0.00374297]\n",
      "------------------------------\n",
      "Word: is\n",
      "Vector shape: (100,)\n",
      "Vector sample values: [-0.00883123  0.00227827 -0.00078464 -0.00914893 -0.00940673]\n",
      "------------------------------\n",
      "Word: for\n",
      "Vector shape: (100,)\n",
      "Vector sample values: [ 0.0080111  -0.00432872 -0.00104189  0.00116512 -0.00018009]\n",
      "------------------------------\n",
      "Word: deep\n",
      "Vector shape: (100,)\n",
      "Vector sample values: [ 0.0081694  -0.00443749  0.00898137  0.00828017 -0.00443144]\n",
      "------------------------------\n",
      "Word: language\n",
      "Vector shape: (100,)\n",
      "Vector sample values: [-0.00963947  0.00900528  0.00423047  0.00931524  0.0066329 ]\n",
      "------------------------------\n",
      "Word: processing\n",
      "Vector shape: (100,)\n",
      "Vector sample values: [-0.00528828 -0.00652165 -0.00769744  0.00851962 -0.00198552]\n",
      "------------------------------\n"
     ]
    }
   ],
   "source": [
    "for word, vec in zip(words, vectors):\n",
    "    print(f\"Word: {word}\")\n",
    "    print(f\"Vector shape: {vec.shape}\")\n",
    "    print(f\"Vector sample values: {vec[:5]}\")  # 벡터 앞 5개 값만 출력\n",
    "    print('-'*30)\n"
   ]
  },
  {
   "cell_type": "code",
   "execution_count": 17,
   "id": "e1afbc48-0c4f-4838-a996-d26162f99619",
   "metadata": {},
   "outputs": [],
   "source": [
    "# Reduce to 2D using PCA\n",
    "pca = PCA(n_components=2)\n",
    "result = pca.fit_transform(vectors)"
   ]
  },
  {
   "cell_type": "code",
   "execution_count": null,
   "id": "a2f9660c-592d-4247-809a-e8c9190a2af2",
   "metadata": {},
   "outputs": [],
   "source": [
    "\"\"\"\n",
    "PCA (Principal Component Analysis) is a dimensionality reduction technique.\n",
    "It takes high-dimensional data and transforms it into a lower-dimensional space, while preserving as much variance (important information) as possible.\n",
    "\"\"\""
   ]
  },
  {
   "cell_type": "code",
   "execution_count": 30,
   "id": "79d04f53-416c-4163-a8b5-1e585d5fa598",
   "metadata": {},
   "outputs": [
    {
     "data": {
      "text/plain": [
       "\"\\nWord2Vec represents each word as a high-dimensional vector (e.g., 100 dimensions).\\nBut we can't visually interpret 100-dimensional space.\\nSo we use PCA to reduce the vectors to 2D or 3D, making it easier to visualize the relationships between words.\\nPCA chooses the most important directions (principal components) — the ones that capture the most variation in the data — and projects the word vectors onto those directions.\\n\""
      ]
     },
     "execution_count": 30,
     "metadata": {},
     "output_type": "execute_result"
    }
   ],
   "source": [
    "\"\"\"\n",
    "Word2Vec represents each word as a high-dimensional vector (e.g., 100 dimensions).\n",
    "But we can't visually interpret 100-dimensional space.\n",
    "So we use PCA to reduce the vectors to 2D or 3D, making it easier to visualize the relationships between words.\n",
    "PCA chooses the most important directions (principal components) — the ones that capture the most variation in the data — and projects the word vectors onto those directions.\n",
    "\"\"\""
   ]
  },
  {
   "cell_type": "code",
   "execution_count": 18,
   "id": "656a34a2-3f87-4143-9d78-efa46afec436",
   "metadata": {},
   "outputs": [
    {
     "data": {
      "image/png": "[encoded data removed]",
      "text/plain": [
       "<Figure size 800x600 with 1 Axes>"
      ]
     },
     "metadata": {},
     "output_type": "display_data"
    }
   ],
   "source": [
    "# Visualization\n",
    "plt.figure(figsize=(8, 6))\n",
    "for i, word in enumerate(words):\n",
    "    plt.scatter(result[i, 0], result[i, 1])\n",
    "    plt.annotate(word, xy=(result[i, 0], result[i, 1]))\n",
    "plt.title(\"Word2Vec - PCA Visualization\")\n",
    "plt.show()"
   ]
  },
  {
   "cell_type": "code",
   "execution_count": 31,
   "id": "d0b44883-f3b4-4b14-8b53-065af942c0ae",
   "metadata": {},
   "outputs": [],
   "source": [
    "# 모델 저장\n",
    "model.save(\"word2vec_model.model\")"
   ]
  },
  {
   "cell_type": "code",
   "execution_count": 40,
   "id": "fe3c5bc2-47d2-4591-8506-882f55065d79",
   "metadata": {},
   "outputs": [],
   "source": [
    "# Finding similar words"
   ]
  },
  {
   "cell_type": "code",
   "execution_count": 41,
   "id": "db9308f5-f68b-422f-8c25-0ccb3c8b5c3b",
   "metadata": {},
   "outputs": [
    {
     "name": "stdout",
     "output_type": "stream",
     "text": [
      "False\n"
     ]
    }
   ],
   "source": [
    " print(\"nlp\" in model.wv)"
   ]
  },
  {
   "cell_type": "code",
   "execution_count": 42,
   "id": "d881e9f1-7ee8-490a-9082-532ff01c858b",
   "metadata": {},
   "outputs": [
    {
     "name": "stdout",
     "output_type": "stream",
     "text": [
      "['learning', '.', 'machine', 'embeddings', 'word', 'is', 'for', 'deep', 'language', 'processing', 'and', 'are', 'fun', 'part', 'algorithm', 'of', 'map', 'words', 'to', 'vectors', 'word2vec', 'an', 'natural']\n"
     ]
    }
   ],
   "source": [
    "print(model.wv.index_to_key[:50])  "
   ]
  },
  {
   "cell_type": "code",
   "execution_count": 43,
   "id": "580793a4-d598-491c-bc37-8618991daa93",
   "metadata": {},
   "outputs": [
    {
     "name": "stdout",
     "output_type": "stream",
     "text": [
      "['learning', '.', 'machine', 'embeddings', 'word', 'is', 'for', 'deep', 'language', 'processing', 'and', 'are', 'fun', 'part', 'algorithm', 'of', 'map', 'words', 'to', 'vectors']\n"
     ]
    }
   ],
   "source": [
    "print(model.wv.index_to_key[:20])"
   ]
  },
  {
   "cell_type": "code",
   "execution_count": 44,
   "id": "80e1d1b4-e8b0-4c22-9edd-fa3fc621e31e",
   "metadata": {
    "scrolled": true
   },
   "outputs": [
    {
     "data": {
      "text/plain": [
       "[('algorithm', 0.1801537722349167),\n",
       " ('is', 0.13471071422100067),\n",
       " ('language', 0.07689854502677917),\n",
       " ('.', 0.07182400673627853),\n",
       " ('natural', 0.045650336891412735)]"
      ]
     },
     "execution_count": 44,
     "metadata": {},
     "output_type": "execute_result"
    }
   ],
   "source": [
    "model.wv.most_similar(\"embeddings\", topn=5)"
   ]
  },
  {
   "cell_type": "code",
   "execution_count": 49,
   "id": "aa8c859c-16df-4a0e-85b9-eba3b43738ad",
   "metadata": {},
   "outputs": [],
   "source": [
    "#stopwords"
   ]
  },
  {
   "cell_type": "code",
   "execution_count": 51,
   "id": "83826fa5-42d9-415c-8d8e-16834f828996",
   "metadata": {},
   "outputs": [],
   "source": [
    "import re\n",
    "from nltk.corpus import stopwords\n",
    "\n",
    "stop_words = set(stopwords.words('english'))\n",
    "\n",
    "cleaned_corpus = [re.sub(r\"[^\\w\\s]\", \"\", sentence.lower()) for sentence in corpus]\n",
    "\n",
    "tokenized_corpus = [\n",
    "    [word for word in word_tokenize(sentence) if word not in stop_words]\n",
    "    for sentence in cleaned_corpus\n",
    "]"
   ]
  },
  {
   "cell_type": "code",
   "execution_count": 45,
   "id": "8eeeea9d-7799-4820-8a6f-66899d4c1626",
   "metadata": {},
   "outputs": [
    {
     "data": {
      "text/plain": [
       "[('algorithm', 0.1801537722349167),\n",
       " ('is', 0.13471071422100067),\n",
       " ('language', 0.07689854502677917),\n",
       " ('.', 0.07182400673627853),\n",
       " ('natural', 0.045650336891412735)]"
      ]
     },
     "execution_count": 45,
     "metadata": {},
     "output_type": "execute_result"
    }
   ],
   "source": [
    "model.wv.most_similar(\"embeddings\", topn=5)"
   ]
  },
  {
   "cell_type": "code",
   "execution_count": 52,
   "id": "4f29728c-2408-474f-8963-409bcb0b00b9",
   "metadata": {},
   "outputs": [],
   "source": [
    "# retraining Word2Vec\n",
    "\"\"\"\n",
    "i retrained the model due to following reasons:\n",
    "1. Stopword removal changes the input data by cleaning the corpus and removing common but meaningless words.\n",
    "2. The original model was trained on the uncleaned data, so it still “remembers” stopwords and their contexts.\n",
    "3. To reflect the cleaned data, we must retrain the model on the new, cleaned corpus so it can learn better, more meaningful word relationships\n",
    "\n",
    "\"\"\"\n",
    "\n",
    "model = Word2Vec(\n",
    "    sentences=tokenized_corpus,\n",
    "    vector_size=100,\n",
    "    window=5,\n",
    "    min_count=1,\n",
    "    workers=2,\n",
    "    sg=1,\n",
    "    epochs=50\n",
    ")\n"
   ]
  },
  {
   "cell_type": "code",
   "execution_count": 53,
   "id": "2966929b-b2d3-42f2-a00f-54497639d117",
   "metadata": {},
   "outputs": [
    {
     "data": {
      "text/plain": [
       "[('natural', 0.16310808062553406),\n",
       " ('language', 0.13980688154697418),\n",
       " ('machine', 0.07217658311128616),\n",
       " ('map', 0.03621003404259682),\n",
       " ('word2vec', 0.013529513962566853)]"
      ]
     },
     "execution_count": 53,
     "metadata": {},
     "output_type": "execute_result"
    }
   ],
   "source": [
    "model.wv.most_similar(\"embeddings\", topn=5)"
   ]
  },
  {
   "cell_type": "code",
   "execution_count": null,
   "id": "3bfdc62b-e29c-45eb-b7f4-01ff697ffc88",
   "metadata": {},
   "outputs": [],
   "source": []
  },
  {
   "cell_type": "code",
   "execution_count": null,
   "id": "b6f970f5-9270-4dce-b410-ee2b66b107b8",
   "metadata": {},
   "outputs": [],
   "source": []
  }
 ],
 "metadata": {
  "kernelspec": {
   "display_name": "Python 3 (ipykernel)",
   "language": "python",
   "name": "python3"
  },
  "language_info": {
   "codemirror_mode": {
    "name": "ipython",
    "version": 3
   },
   "file_extension": ".py",
   "mimetype": "text/x-python",
   "name": "python",
   "nbconvert_exporter": "python",
   "pygments_lexer": "ipython3",
   "version": "3.11.11"
  }
 },
 "nbformat": 4,
 "nbformat_minor": 5
}
