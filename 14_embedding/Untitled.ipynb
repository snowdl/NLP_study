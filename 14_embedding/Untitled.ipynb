{
 "cells": [
  {
   "cell_type": "code",
   "execution_count": 1,
   "id": "d9552fdb-45ba-4674-bde2-cecba18093d9",
   "metadata": {},
   "outputs": [],
   "source": [
    "from gensim.models import FastText\n",
    "from gensim.test.utils import common_texts"
   ]
  },
  {
   "cell_type": "code",
   "execution_count": 2,
   "id": "7be33a57-e20e-4093-84de-a81eae5c41da",
   "metadata": {},
   "outputs": [],
   "source": [
    "model = FastText(sentences=common_texts, vector_size=100, window=5, min_count=1, epochs=10)"
   ]
  },
  {
   "cell_type": "code",
   "execution_count": 4,
   "id": "794e62e7-933b-439f-b1c0-626459a1bdbd",
   "metadata": {},
   "outputs": [
    {
     "data": {
      "text/plain": [
       "[('eps', 0.09232950210571289),\n",
       " ('graph', 0.08620166778564453),\n",
       " ('time', 0.0808822512626648),\n",
       " ('computer', 0.07435169816017151),\n",
       " ('minors', 0.053934600204229355),\n",
       " ('system', 0.014570217579603195),\n",
       " ('response', -0.032941389828920364),\n",
       " ('user', -0.03391536697745323),\n",
       " ('human', -0.03763255104422569),\n",
       " ('interface', -0.06334354728460312)]"
      ]
     },
     "execution_count": 4,
     "metadata": {},
     "output_type": "execute_result"
    }
   ],
   "source": [
    "model.wv.most_similar(\"king\")"
   ]
  },
  {
   "cell_type": "code",
   "execution_count": 5,
   "id": "70a5227d-d0b7-48de-bd6e-bfc2c8226c79",
   "metadata": {},
   "outputs": [
    {
     "data": {
      "text/plain": [
       "[('system', 0.22297894954681396),\n",
       " ('time', 0.05483321473002434),\n",
       " ('eps', 0.04945561662316322),\n",
       " ('interface', 0.03849021717905998),\n",
       " ('minors', 0.02652980387210846),\n",
       " ('computer', 0.023154161870479584),\n",
       " ('graph', 0.018022717908024788),\n",
       " ('user', 0.009598850272595882),\n",
       " ('trees', -0.08632411062717438),\n",
       " ('response', -0.11842822283506393)]"
      ]
     },
     "execution_count": 5,
     "metadata": {},
     "output_type": "execute_result"
    }
   ],
   "source": [
    "model.wv.most_similar(\"kng\")   # 일부 오타"
   ]
  },
  {
   "cell_type": "code",
   "execution_count": null,
   "id": "46ed6969-7962-47d5-83ec-9fe20d4b4fef",
   "metadata": {},
   "outputs": [],
   "source": []
  }
 ],
 "metadata": {
  "kernelspec": {
   "display_name": "Python 3 (ipykernel)",
   "language": "python",
   "name": "python3"
  },
  "language_info": {
   "codemirror_mode": {
    "name": "ipython",
    "version": 3
   },
   "file_extension": ".py",
   "mimetype": "text/x-python",
   "name": "python",
   "nbconvert_exporter": "python",
   "pygments_lexer": "ipython3",
   "version": "3.11.11"
  }
 },
 "nbformat": 4,
 "nbformat_minor": 5
}
