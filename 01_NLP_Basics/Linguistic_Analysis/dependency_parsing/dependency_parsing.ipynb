{
 "cells": [
  {
   "cell_type": "code",
   "execution_count": 1,
   "id": "fcf68c60-5567-4c33-afb7-f54492c64ff3",
   "metadata": {},
   "outputs": [
    {
     "name": "stdout",
     "output_type": "stream",
     "text": [
      "Requirement already satisfied: ipython in /Users/jessicahong/.pyenv/versions/3.11.11/lib/python3.11/site-packages (9.4.0)\n",
      "Requirement already satisfied: jupyter in /Users/jessicahong/.pyenv/versions/3.11.11/lib/python3.11/site-packages (1.1.1)\n",
      "Requirement already satisfied: decorator in /Users/jessicahong/.pyenv/versions/3.11.11/lib/python3.11/site-packages (from ipython) (5.2.1)\n",
      "Requirement already satisfied: ipython-pygments-lexers in /Users/jessicahong/.pyenv/versions/3.11.11/lib/python3.11/site-packages (from ipython) (1.1.1)\n",
      "Requirement already satisfied: jedi>=0.16 in /Users/jessicahong/.pyenv/versions/3.11.11/lib/python3.11/site-packages (from ipython) (0.19.2)\n",
      "Requirement already satisfied: matplotlib-inline in /Users/jessicahong/.pyenv/versions/3.11.11/lib/python3.11/site-packages (from ipython) (0.1.7)\n",
      "Requirement already satisfied: pexpect>4.3 in /Users/jessicahong/.pyenv/versions/3.11.11/lib/python3.11/site-packages (from ipython) (4.9.0)\n",
      "Requirement already satisfied: prompt_toolkit<3.1.0,>=3.0.41 in /Users/jessicahong/.pyenv/versions/3.11.11/lib/python3.11/site-packages (from ipython) (3.0.51)\n",
      "Requirement already satisfied: pygments>=2.4.0 in /Users/jessicahong/.pyenv/versions/3.11.11/lib/python3.11/site-packages (from ipython) (2.19.1)\n",
      "Requirement already satisfied: stack_data in /Users/jessicahong/.pyenv/versions/3.11.11/lib/python3.11/site-packages (from ipython) (0.6.3)\n",
      "Requirement already satisfied: traitlets>=5.13.0 in /Users/jessicahong/.pyenv/versions/3.11.11/lib/python3.11/site-packages (from ipython) (5.14.3)\n",
      "Requirement already satisfied: typing_extensions>=4.6 in /Users/jessicahong/.pyenv/versions/3.11.11/lib/python3.11/site-packages (from ipython) (4.14.0)\n",
      "Requirement already satisfied: wcwidth in /Users/jessicahong/.pyenv/versions/3.11.11/lib/python3.11/site-packages (from prompt_toolkit<3.1.0,>=3.0.41->ipython) (0.2.13)\n",
      "Requirement already satisfied: notebook in /Users/jessicahong/.pyenv/versions/3.11.11/lib/python3.11/site-packages (from jupyter) (7.4.3)\n",
      "Requirement already satisfied: jupyter-console in /Users/jessicahong/.pyenv/versions/3.11.11/lib/python3.11/site-packages (from jupyter) (6.6.3)\n",
      "Requirement already satisfied: nbconvert in /Users/jessicahong/.pyenv/versions/3.11.11/lib/python3.11/site-packages (from jupyter) (7.16.6)\n",
      "Requirement already satisfied: ipykernel in /Users/jessicahong/.pyenv/versions/3.11.11/lib/python3.11/site-packages (from jupyter) (6.29.5)\n",
      "Requirement already satisfied: ipywidgets in /Users/jessicahong/.pyenv/versions/3.11.11/lib/python3.11/site-packages (from jupyter) (8.1.7)\n",
      "Requirement already satisfied: jupyterlab in /Users/jessicahong/.pyenv/versions/3.11.11/lib/python3.11/site-packages (from jupyter) (4.4.3)\n",
      "Requirement already satisfied: parso<0.9.0,>=0.8.4 in /Users/jessicahong/.pyenv/versions/3.11.11/lib/python3.11/site-packages (from jedi>=0.16->ipython) (0.8.4)\n",
      "Requirement already satisfied: ptyprocess>=0.5 in /Users/jessicahong/.pyenv/versions/3.11.11/lib/python3.11/site-packages (from pexpect>4.3->ipython) (0.7.0)\n",
      "Requirement already satisfied: appnope in /Users/jessicahong/.pyenv/versions/3.11.11/lib/python3.11/site-packages (from ipykernel->jupyter) (0.1.4)\n",
      "Requirement already satisfied: comm>=0.1.1 in /Users/jessicahong/.pyenv/versions/3.11.11/lib/python3.11/site-packages (from ipykernel->jupyter) (0.2.2)\n",
      "Requirement already satisfied: debugpy>=1.6.5 in /Users/jessicahong/.pyenv/versions/3.11.11/lib/python3.11/site-packages (from ipykernel->jupyter) (1.8.13)\n",
      "Requirement already satisfied: jupyter-client>=6.1.12 in /Users/jessicahong/.pyenv/versions/3.11.11/lib/python3.11/site-packages (from ipykernel->jupyter) (8.6.3)\n",
      "Requirement already satisfied: jupyter-core!=5.0.*,>=4.12 in /Users/jessicahong/.pyenv/versions/3.11.11/lib/python3.11/site-packages (from ipykernel->jupyter) (5.7.2)\n",
      "Requirement already satisfied: nest-asyncio in /Users/jessicahong/.pyenv/versions/3.11.11/lib/python3.11/site-packages (from ipykernel->jupyter) (1.6.0)\n",
      "Requirement already satisfied: packaging in /Users/jessicahong/.pyenv/versions/3.11.11/lib/python3.11/site-packages (from ipykernel->jupyter) (24.2)\n",
      "Requirement already satisfied: psutil in /Users/jessicahong/.pyenv/versions/3.11.11/lib/python3.11/site-packages (from ipykernel->jupyter) (7.0.0)\n",
      "Requirement already satisfied: pyzmq>=24 in /Users/jessicahong/.pyenv/versions/3.11.11/lib/python3.11/site-packages (from ipykernel->jupyter) (26.3.0)\n",
      "Requirement already satisfied: tornado>=6.1 in /Users/jessicahong/.pyenv/versions/3.11.11/lib/python3.11/site-packages (from ipykernel->jupyter) (6.4.2)\n",
      "Requirement already satisfied: python-dateutil>=2.8.2 in /Users/jessicahong/.pyenv/versions/3.11.11/lib/python3.11/site-packages (from jupyter-client>=6.1.12->ipykernel->jupyter) (2.8.2)\n",
      "Requirement already satisfied: platformdirs>=2.5 in /Users/jessicahong/.pyenv/versions/3.11.11/lib/python3.11/site-packages (from jupyter-core!=5.0.*,>=4.12->ipykernel->jupyter) (4.3.7)\n",
      "Requirement already satisfied: six>=1.5 in /Users/jessicahong/.pyenv/versions/3.11.11/lib/python3.11/site-packages (from python-dateutil>=2.8.2->jupyter-client>=6.1.12->ipykernel->jupyter) (1.17.0)\n",
      "Requirement already satisfied: widgetsnbextension~=4.0.14 in /Users/jessicahong/.pyenv/versions/3.11.11/lib/python3.11/site-packages (from ipywidgets->jupyter) (4.0.14)\n",
      "Requirement already satisfied: jupyterlab_widgets~=3.0.15 in /Users/jessicahong/.pyenv/versions/3.11.11/lib/python3.11/site-packages (from ipywidgets->jupyter) (3.0.15)\n",
      "Requirement already satisfied: async-lru>=1.0.0 in /Users/jessicahong/.pyenv/versions/3.11.11/lib/python3.11/site-packages (from jupyterlab->jupyter) (2.0.5)\n",
      "Requirement already satisfied: httpx>=0.25.0 in /Users/jessicahong/.pyenv/versions/3.11.11/lib/python3.11/site-packages (from jupyterlab->jupyter) (0.28.1)\n",
      "Requirement already satisfied: jinja2>=3.0.3 in /Users/jessicahong/.pyenv/versions/3.11.11/lib/python3.11/site-packages (from jupyterlab->jupyter) (3.1.6)\n",
      "Requirement already satisfied: jupyter-lsp>=2.0.0 in /Users/jessicahong/.pyenv/versions/3.11.11/lib/python3.11/site-packages (from jupyterlab->jupyter) (2.2.5)\n",
      "Requirement already satisfied: jupyter-server<3,>=2.4.0 in /Users/jessicahong/.pyenv/versions/3.11.11/lib/python3.11/site-packages (from jupyterlab->jupyter) (2.15.0)\n",
      "Requirement already satisfied: jupyterlab-server<3,>=2.27.1 in /Users/jessicahong/.pyenv/versions/3.11.11/lib/python3.11/site-packages (from jupyterlab->jupyter) (2.27.3)\n",
      "Requirement already satisfied: notebook-shim>=0.2 in /Users/jessicahong/.pyenv/versions/3.11.11/lib/python3.11/site-packages (from jupyterlab->jupyter) (0.2.4)\n",
      "Requirement already satisfied: setuptools>=41.1.0 in /Users/jessicahong/.pyenv/versions/3.11.11/lib/python3.11/site-packages (from jupyterlab->jupyter) (77.0.3)\n",
      "Requirement already satisfied: anyio>=3.1.0 in /Users/jessicahong/.pyenv/versions/3.11.11/lib/python3.11/site-packages (from jupyter-server<3,>=2.4.0->jupyterlab->jupyter) (4.9.0)\n",
      "Requirement already satisfied: argon2-cffi>=21.1 in /Users/jessicahong/.pyenv/versions/3.11.11/lib/python3.11/site-packages (from jupyter-server<3,>=2.4.0->jupyterlab->jupyter) (23.1.0)\n",
      "Requirement already satisfied: jupyter-events>=0.11.0 in /Users/jessicahong/.pyenv/versions/3.11.11/lib/python3.11/site-packages (from jupyter-server<3,>=2.4.0->jupyterlab->jupyter) (0.12.0)\n",
      "Requirement already satisfied: jupyter-server-terminals>=0.4.4 in /Users/jessicahong/.pyenv/versions/3.11.11/lib/python3.11/site-packages (from jupyter-server<3,>=2.4.0->jupyterlab->jupyter) (0.5.3)\n",
      "Requirement already satisfied: nbformat>=5.3.0 in /Users/jessicahong/.pyenv/versions/3.11.11/lib/python3.11/site-packages (from jupyter-server<3,>=2.4.0->jupyterlab->jupyter) (5.10.4)\n",
      "Requirement already satisfied: overrides>=5.0 in /Users/jessicahong/.pyenv/versions/3.11.11/lib/python3.11/site-packages (from jupyter-server<3,>=2.4.0->jupyterlab->jupyter) (7.7.0)\n",
      "Requirement already satisfied: prometheus-client>=0.9 in /Users/jessicahong/.pyenv/versions/3.11.11/lib/python3.11/site-packages (from jupyter-server<3,>=2.4.0->jupyterlab->jupyter) (0.21.1)\n",
      "Requirement already satisfied: send2trash>=1.8.2 in /Users/jessicahong/.pyenv/versions/3.11.11/lib/python3.11/site-packages (from jupyter-server<3,>=2.4.0->jupyterlab->jupyter) (1.8.3)\n",
      "Requirement already satisfied: terminado>=0.8.3 in /Users/jessicahong/.pyenv/versions/3.11.11/lib/python3.11/site-packages (from jupyter-server<3,>=2.4.0->jupyterlab->jupyter) (0.18.1)\n",
      "Requirement already satisfied: websocket-client>=1.7 in /Users/jessicahong/.pyenv/versions/3.11.11/lib/python3.11/site-packages (from jupyter-server<3,>=2.4.0->jupyterlab->jupyter) (1.8.0)\n",
      "Requirement already satisfied: babel>=2.10 in /Users/jessicahong/.pyenv/versions/3.11.11/lib/python3.11/site-packages (from jupyterlab-server<3,>=2.27.1->jupyterlab->jupyter) (2.17.0)\n",
      "Requirement already satisfied: json5>=0.9.0 in /Users/jessicahong/.pyenv/versions/3.11.11/lib/python3.11/site-packages (from jupyterlab-server<3,>=2.27.1->jupyterlab->jupyter) (0.10.0)\n",
      "Requirement already satisfied: jsonschema>=4.18.0 in /Users/jessicahong/.pyenv/versions/3.11.11/lib/python3.11/site-packages (from jupyterlab-server<3,>=2.27.1->jupyterlab->jupyter) (4.23.0)\n",
      "Requirement already satisfied: requests>=2.31 in /Users/jessicahong/.pyenv/versions/3.11.11/lib/python3.11/site-packages (from jupyterlab-server<3,>=2.27.1->jupyterlab->jupyter) (2.32.3)\n",
      "Requirement already satisfied: idna>=2.8 in /Users/jessicahong/.pyenv/versions/3.11.11/lib/python3.11/site-packages (from anyio>=3.1.0->jupyter-server<3,>=2.4.0->jupyterlab->jupyter) (3.10)\n",
      "Requirement already satisfied: sniffio>=1.1 in /Users/jessicahong/.pyenv/versions/3.11.11/lib/python3.11/site-packages (from anyio>=3.1.0->jupyter-server<3,>=2.4.0->jupyterlab->jupyter) (1.3.1)\n",
      "Requirement already satisfied: argon2-cffi-bindings in /Users/jessicahong/.pyenv/versions/3.11.11/lib/python3.11/site-packages (from argon2-cffi>=21.1->jupyter-server<3,>=2.4.0->jupyterlab->jupyter) (21.2.0)\n",
      "Requirement already satisfied: certifi in /Users/jessicahong/.pyenv/versions/3.11.11/lib/python3.11/site-packages (from httpx>=0.25.0->jupyterlab->jupyter) (2025.1.31)\n",
      "Requirement already satisfied: httpcore==1.* in /Users/jessicahong/.pyenv/versions/3.11.11/lib/python3.11/site-packages (from httpx>=0.25.0->jupyterlab->jupyter) (1.0.7)\n",
      "Requirement already satisfied: h11<0.15,>=0.13 in /Users/jessicahong/.pyenv/versions/3.11.11/lib/python3.11/site-packages (from httpcore==1.*->httpx>=0.25.0->jupyterlab->jupyter) (0.14.0)\n",
      "Requirement already satisfied: MarkupSafe>=2.0 in /Users/jessicahong/.pyenv/versions/3.11.11/lib/python3.11/site-packages (from jinja2>=3.0.3->jupyterlab->jupyter) (3.0.2)\n",
      "Requirement already satisfied: attrs>=22.2.0 in /Users/jessicahong/.pyenv/versions/3.11.11/lib/python3.11/site-packages (from jsonschema>=4.18.0->jupyterlab-server<3,>=2.27.1->jupyterlab->jupyter) (25.3.0)\n",
      "Requirement already satisfied: jsonschema-specifications>=2023.03.6 in /Users/jessicahong/.pyenv/versions/3.11.11/lib/python3.11/site-packages (from jsonschema>=4.18.0->jupyterlab-server<3,>=2.27.1->jupyterlab->jupyter) (2024.10.1)\n",
      "Requirement already satisfied: referencing>=0.28.4 in /Users/jessicahong/.pyenv/versions/3.11.11/lib/python3.11/site-packages (from jsonschema>=4.18.0->jupyterlab-server<3,>=2.27.1->jupyterlab->jupyter) (0.36.2)\n",
      "Requirement already satisfied: rpds-py>=0.7.1 in /Users/jessicahong/.pyenv/versions/3.11.11/lib/python3.11/site-packages (from jsonschema>=4.18.0->jupyterlab-server<3,>=2.27.1->jupyterlab->jupyter) (0.23.1)\n",
      "Requirement already satisfied: python-json-logger>=2.0.4 in /Users/jessicahong/.pyenv/versions/3.11.11/lib/python3.11/site-packages (from jupyter-events>=0.11.0->jupyter-server<3,>=2.4.0->jupyterlab->jupyter) (3.3.0)\n",
      "Requirement already satisfied: pyyaml>=5.3 in /Users/jessicahong/.pyenv/versions/3.11.11/lib/python3.11/site-packages (from jupyter-events>=0.11.0->jupyter-server<3,>=2.4.0->jupyterlab->jupyter) (6.0.2)\n",
      "Requirement already satisfied: rfc3339-validator in /Users/jessicahong/.pyenv/versions/3.11.11/lib/python3.11/site-packages (from jupyter-events>=0.11.0->jupyter-server<3,>=2.4.0->jupyterlab->jupyter) (0.1.4)\n",
      "Requirement already satisfied: rfc3986-validator>=0.1.1 in /Users/jessicahong/.pyenv/versions/3.11.11/lib/python3.11/site-packages (from jupyter-events>=0.11.0->jupyter-server<3,>=2.4.0->jupyterlab->jupyter) (0.1.1)\n",
      "Requirement already satisfied: fqdn in /Users/jessicahong/.pyenv/versions/3.11.11/lib/python3.11/site-packages (from jsonschema[format-nongpl]>=4.18.0->jupyter-events>=0.11.0->jupyter-server<3,>=2.4.0->jupyterlab->jupyter) (1.5.1)\n",
      "Requirement already satisfied: isoduration in /Users/jessicahong/.pyenv/versions/3.11.11/lib/python3.11/site-packages (from jsonschema[format-nongpl]>=4.18.0->jupyter-events>=0.11.0->jupyter-server<3,>=2.4.0->jupyterlab->jupyter) (20.11.0)\n",
      "Requirement already satisfied: jsonpointer>1.13 in /Users/jessicahong/.pyenv/versions/3.11.11/lib/python3.11/site-packages (from jsonschema[format-nongpl]>=4.18.0->jupyter-events>=0.11.0->jupyter-server<3,>=2.4.0->jupyterlab->jupyter) (3.0.0)\n",
      "Requirement already satisfied: uri-template in /Users/jessicahong/.pyenv/versions/3.11.11/lib/python3.11/site-packages (from jsonschema[format-nongpl]>=4.18.0->jupyter-events>=0.11.0->jupyter-server<3,>=2.4.0->jupyterlab->jupyter) (1.3.0)\n",
      "Requirement already satisfied: webcolors>=24.6.0 in /Users/jessicahong/.pyenv/versions/3.11.11/lib/python3.11/site-packages (from jsonschema[format-nongpl]>=4.18.0->jupyter-events>=0.11.0->jupyter-server<3,>=2.4.0->jupyterlab->jupyter) (24.11.1)\n",
      "Requirement already satisfied: beautifulsoup4 in /Users/jessicahong/.pyenv/versions/3.11.11/lib/python3.11/site-packages (from nbconvert->jupyter) (4.13.3)\n",
      "Requirement already satisfied: bleach!=5.0.0 in /Users/jessicahong/.pyenv/versions/3.11.11/lib/python3.11/site-packages (from bleach[css]!=5.0.0->nbconvert->jupyter) (6.2.0)\n",
      "Requirement already satisfied: defusedxml in /Users/jessicahong/.pyenv/versions/3.11.11/lib/python3.11/site-packages (from nbconvert->jupyter) (0.7.1)\n",
      "Requirement already satisfied: jupyterlab-pygments in /Users/jessicahong/.pyenv/versions/3.11.11/lib/python3.11/site-packages (from nbconvert->jupyter) (0.3.0)\n",
      "Requirement already satisfied: mistune<4,>=2.0.3 in /Users/jessicahong/.pyenv/versions/3.11.11/lib/python3.11/site-packages (from nbconvert->jupyter) (3.1.3)\n",
      "Requirement already satisfied: nbclient>=0.5.0 in /Users/jessicahong/.pyenv/versions/3.11.11/lib/python3.11/site-packages (from nbconvert->jupyter) (0.10.2)\n",
      "Requirement already satisfied: pandocfilters>=1.4.1 in /Users/jessicahong/.pyenv/versions/3.11.11/lib/python3.11/site-packages (from nbconvert->jupyter) (1.5.1)\n",
      "Requirement already satisfied: webencodings in /Users/jessicahong/.pyenv/versions/3.11.11/lib/python3.11/site-packages (from bleach!=5.0.0->bleach[css]!=5.0.0->nbconvert->jupyter) (0.5.1)\n",
      "Requirement already satisfied: tinycss2<1.5,>=1.1.0 in /Users/jessicahong/.pyenv/versions/3.11.11/lib/python3.11/site-packages (from bleach[css]!=5.0.0->nbconvert->jupyter) (1.4.0)\n",
      "Requirement already satisfied: fastjsonschema>=2.15 in /Users/jessicahong/.pyenv/versions/3.11.11/lib/python3.11/site-packages (from nbformat>=5.3.0->jupyter-server<3,>=2.4.0->jupyterlab->jupyter) (2.21.1)\n",
      "Requirement already satisfied: charset-normalizer<4,>=2 in /Users/jessicahong/.pyenv/versions/3.11.11/lib/python3.11/site-packages (from requests>=2.31->jupyterlab-server<3,>=2.27.1->jupyterlab->jupyter) (3.4.1)\n",
      "Requirement already satisfied: urllib3<3,>=1.21.1 in /Users/jessicahong/.pyenv/versions/3.11.11/lib/python3.11/site-packages (from requests>=2.31->jupyterlab-server<3,>=2.27.1->jupyterlab->jupyter) (2.3.0)\n",
      "Requirement already satisfied: cffi>=1.0.1 in /Users/jessicahong/.pyenv/versions/3.11.11/lib/python3.11/site-packages (from argon2-cffi-bindings->argon2-cffi>=21.1->jupyter-server<3,>=2.4.0->jupyterlab->jupyter) (1.17.1)\n",
      "Requirement already satisfied: pycparser in /Users/jessicahong/.pyenv/versions/3.11.11/lib/python3.11/site-packages (from cffi>=1.0.1->argon2-cffi-bindings->argon2-cffi>=21.1->jupyter-server<3,>=2.4.0->jupyterlab->jupyter) (2.22)\n",
      "Requirement already satisfied: soupsieve>1.2 in /Users/jessicahong/.pyenv/versions/3.11.11/lib/python3.11/site-packages (from beautifulsoup4->nbconvert->jupyter) (2.6)\n",
      "Requirement already satisfied: arrow>=0.15.0 in /Users/jessicahong/.pyenv/versions/3.11.11/lib/python3.11/site-packages (from isoduration->jsonschema[format-nongpl]>=4.18.0->jupyter-events>=0.11.0->jupyter-server<3,>=2.4.0->jupyterlab->jupyter) (1.3.0)\n",
      "Requirement already satisfied: types-python-dateutil>=2.8.10 in /Users/jessicahong/.pyenv/versions/3.11.11/lib/python3.11/site-packages (from arrow>=0.15.0->isoduration->jsonschema[format-nongpl]>=4.18.0->jupyter-events>=0.11.0->jupyter-server<3,>=2.4.0->jupyterlab->jupyter) (2.9.0.20241206)\n",
      "Requirement already satisfied: executing>=1.2.0 in /Users/jessicahong/.pyenv/versions/3.11.11/lib/python3.11/site-packages (from stack_data->ipython) (2.2.0)\n",
      "Requirement already satisfied: asttokens>=2.1.0 in /Users/jessicahong/.pyenv/versions/3.11.11/lib/python3.11/site-packages (from stack_data->ipython) (3.0.0)\n",
      "Requirement already satisfied: pure-eval in /Users/jessicahong/.pyenv/versions/3.11.11/lib/python3.11/site-packages (from stack_data->ipython) (0.2.3)\n"
     ]
    }
   ],
   "source": [
    "!pip install --upgrade ipython jupyter"
   ]
  },
  {
   "cell_type": "code",
   "execution_count": 2,
   "id": "d678147e-eddf-4d43-abd7-099931dc17ae",
   "metadata": {},
   "outputs": [
    {
     "data": {
      "text/plain": [
       "\"\\nIt's a technique in NLP to determine the grammatical structure of a sentence.\\nIt identifies the relationships between “head” words and words which modify those heads.\\n\""
      ]
     },
     "execution_count": 2,
     "metadata": {},
     "output_type": "execute_result"
    }
   ],
   "source": [
    "#What is dependency Parsing?\n",
    "\"\"\"\n",
    "It's a technique in NLP to determine the grammatical structure of a sentence.\n",
    "It identifies the relationships between “head” words and words which modify those heads.\n",
    "\"\"\""
   ]
  },
  {
   "cell_type": "code",
   "execution_count": 3,
   "id": "47b1ac6d-9a03-4764-b779-1cdbd5e15aa0",
   "metadata": {},
   "outputs": [],
   "source": [
    "import spacy"
   ]
  },
  {
   "cell_type": "code",
   "execution_count": 4,
   "id": "9c5303e5-fa5e-4e91-baab-b92e0d215502",
   "metadata": {},
   "outputs": [],
   "source": [
    "nlp = spacy.load(\"en_core_web_sm\")"
   ]
  },
  {
   "cell_type": "code",
   "execution_count": 5,
   "id": "ad90c8a2-0f0f-495c-a037-eec6e9774b76",
   "metadata": {},
   "outputs": [],
   "source": [
    "doc = nlp(\"l love learning NLP\")"
   ]
  },
  {
   "cell_type": "code",
   "execution_count": 6,
   "id": "7619974d-3904-4229-9275-6962f2fc0741",
   "metadata": {},
   "outputs": [
    {
     "name": "stdout",
     "output_type": "stream",
     "text": [
      "l          -> compound   (head: love)\n",
      "love       -> ROOT       (head: love)\n",
      "learning   -> acl        (head: love)\n",
      "NLP        -> dobj       (head: learning)\n"
     ]
    }
   ],
   "source": [
    "#iterate through each token in the parsed doc\n",
    "for token in doc:\n",
    "    #each token, print:\n",
    "    #token.text : the actual word\n",
    "    #token.dep_ : the syntactic dependency label (e.g. dobj, nsubj)\n",
    "    #token.head.text: the head word that this token is syntactically\n",
    "    #:<10 is used to align the columns neatly\n",
    "    print(f\"{token.text:<10} -> {token.dep_:<10} (head: {token.head.text})\")"
   ]
  },
  {
   "cell_type": "code",
   "execution_count": 7,
   "id": "73111987-94a2-4a87-960d-7cd4b8da2151",
   "metadata": {},
   "outputs": [],
   "source": [
    "# Iterate through tokens and print grammatical roles"
   ]
  },
  {
   "cell_type": "code",
   "execution_count": 8,
   "id": "214dccaf-b25a-4170-91ed-2abe526d66c0",
   "metadata": {},
   "outputs": [],
   "source": [
    "doc = nlp(\"I study, write, and update my GitHub every night.\")"
   ]
  },
  {
   "cell_type": "code",
   "execution_count": 9,
   "id": "1a97fa76-854d-4f72-9451-dbd75e40bc08",
   "metadata": {},
   "outputs": [
    {
     "name": "stdout",
     "output_type": "stream",
     "text": [
      "I          → nsubj      (head: study)\n",
      "study      → ROOT       (head: study)\n",
      ",          → punct      (head: study)\n",
      "write      → conj       (head: study)\n",
      ",          → punct      (head: write)\n",
      "and        → cc         (head: write)\n",
      "update     → conj       (head: write)\n",
      "my         → poss       (head: GitHub)\n",
      "GitHub     → dobj       (head: update)\n",
      "every      → det        (head: night)\n",
      "night      → npadvmod   (head: update)\n",
      ".          → punct      (head: study)\n"
     ]
    }
   ],
   "source": [
    "for token in doc:\n",
    "    print(f\"{token.text:<10} → {token.dep_:<10} (head: {token.head.text})\")"
   ]
  },
  {
   "cell_type": "code",
   "execution_count": 10,
   "id": "42587817-4750-4a64-a2c5-cc54f18047cc",
   "metadata": {},
   "outputs": [
    {
     "name": "stdout",
     "output_type": "stream",
     "text": [
      "Subject: I\n",
      "Verb: study\n",
      "Verb: write\n",
      "Verb: update\n",
      "Object: GitHub\n"
     ]
    }
   ],
   "source": [
    "for token in doc:\n",
    "    if token.dep_ == \"nsubj\":\n",
    "        print(\"Subject:\", token.text)\n",
    "    elif token.dep_ in (\"dobj\", \"pobj\"):\n",
    "        print(\"Object:\", token.text)\n",
    "    elif token.dep_ in (\"ROOT\", \"conj\") and token.pos_ == \"VERB\":\n",
    "        print(\"Verb:\", token.text)\n"
   ]
  },
  {
   "cell_type": "code",
   "execution_count": 11,
   "id": "3f809790-fa5b-42bf-bc38-4006a36b328a",
   "metadata": {},
   "outputs": [],
   "source": [
    "doc = nlp(\"The book that John bought yesterday was expensive.\")"
   ]
  },
  {
   "cell_type": "code",
   "execution_count": 12,
   "id": "3316c37f-2b86-4b37-96a8-43ad14badaac",
   "metadata": {},
   "outputs": [
    {
     "name": "stdout",
     "output_type": "stream",
     "text": [
      "The        → det        (head: book)\n",
      "book       → nsubj      (head: was)\n",
      "that       → dobj       (head: bought)\n",
      "John       → nsubj      (head: bought)\n",
      "bought     → relcl      (head: book)\n",
      "yesterday  → npadvmod   (head: bought)\n",
      "was        → ROOT       (head: was)\n",
      "expensive  → acomp      (head: was)\n",
      ".          → punct      (head: was)\n"
     ]
    }
   ],
   "source": [
    "for token in doc:\n",
    "    print(f\"{token.text:<10} → {token.dep_:<10} (head: {token.head.text})\")"
   ]
  },
  {
   "cell_type": "code",
   "execution_count": 13,
   "id": "c541624e-0b81-4e01-a661-358731e26ce4",
   "metadata": {},
   "outputs": [
    {
     "name": "stdout",
     "output_type": "stream",
     "text": [
      "Subject: book\n",
      "Object: that\n",
      "Subject: John\n",
      "Verb: bought\n",
      "Verb: was\n",
      "Punct : .\n"
     ]
    }
   ],
   "source": [
    "for token in doc:\n",
    "    if token.dep_ == \"nsubj\":\n",
    "        print(\"Subject:\", token.text)\n",
    "    elif token.dep_ == \"dobj\":\n",
    "        print(\"Object:\", token.text)\n",
    "    elif token.dep_ in (\"relcl\", \"ROOT\"):\n",
    "        print(\"Verb:\", token.text)\n",
    "    elif token.dep_==\"punct\":\n",
    "        print(\"Punct :\", token.text)"
   ]
  },
  {
   "cell_type": "code",
   "execution_count": 14,
   "id": "f446fd86-a9a2-4a5d-b486-f818fe998325",
   "metadata": {},
   "outputs": [],
   "source": [
    "triples = []  # Initialize the list to store subject-verb-object triples"
   ]
  },
  {
   "cell_type": "code",
   "execution_count": 15,
   "id": "b638dbea-fe1e-4462-befe-56ac8a34ee76",
   "metadata": {},
   "outputs": [],
   "source": [
    "doc = nlp(\"Alice gave Bob a book and sent him an email.\")"
   ]
  },
  {
   "cell_type": "code",
   "execution_count": 19,
   "id": "59e8d9ef-11a1-4407-97bb-a60767764ec8",
   "metadata": {},
   "outputs": [
    {
     "name": "stdout",
     "output_type": "stream",
     "text": [
      "[('Alice', 'gave', 'book'), ('Alice', 'gave', 'book'), ('Alice', 'gave', 'book')]\n"
     ]
    }
   ],
   "source": [
    "for token in doc:\n",
    "    # For every token, check if its dependency label (dep_) is \"nsubj\"\n",
    "    if token.dep_ == \"nsubj\":\n",
    "        # If yes, assign that token as the subject\n",
    "        subject = token\n",
    "        # Find the verb related to this subject by accessing the token's head,\n",
    "        # which usually is the main verb governing the subject\n",
    "        verb = token.head\n",
    "        # For the found verb, look at its children tokens\n",
    "        for child in verb.children:\n",
    "            # Among children, check if any have dependency labels \"dobj\" or \"pobj\"\n",
    "            if child.dep_ in (\"dobj\", \"pobj\"):\n",
    "                # If yes, this child token is the object of the verb\n",
    "                # Append the tuple (subject, verb, object) to the triples list\n",
    "                triples.append((subject.text, verb.text, child.text))\n",
    "\n",
    "print(triples)"
   ]
  },
  {
   "cell_type": "code",
   "execution_count": null,
   "id": "a2149406-1a7d-4be2-af98-7d30c2470672",
   "metadata": {},
   "outputs": [],
   "source": []
  },
  {
   "cell_type": "code",
   "execution_count": null,
   "id": "60c76611-dd86-4573-906e-5694b8396aab",
   "metadata": {},
   "outputs": [],
   "source": []
  }
 ],
 "metadata": {
  "kernelspec": {
   "display_name": "Python (nlp_env)",
   "language": "python",
   "name": "nlp_env"
  },
  "language_info": {
   "codemirror_mode": {
    "name": "ipython",
    "version": 3
   },
   "file_extension": ".py",
   "mimetype": "text/x-python",
   "name": "python",
   "nbconvert_exporter": "python",
   "pygments_lexer": "ipython3",
   "version": "3.11.11"
  }
 },
 "nbformat": 4,
 "nbformat_minor": 5
}
