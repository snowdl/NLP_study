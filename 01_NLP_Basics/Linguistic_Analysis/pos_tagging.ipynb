{
 "cells": [
  {
   "cell_type": "code",
   "execution_count": 5,
   "id": "cc1dd269-1534-4f1a-a58c-725267814de6",
   "metadata": {},
   "outputs": [
    {
     "name": "stdout",
     "output_type": "stream",
     "text": [
      "Requirement already satisfied: nltk in /Users/jessicahong/.pyenv/versions/3.11.11/lib/python3.11/site-packages (3.9.1)\n",
      "Requirement already satisfied: click in /Users/jessicahong/.pyenv/versions/3.11.11/lib/python3.11/site-packages (from nltk) (8.1.8)\n",
      "Requirement already satisfied: joblib in /Users/jessicahong/.pyenv/versions/3.11.11/lib/python3.11/site-packages (from nltk) (1.5.1)\n",
      "Requirement already satisfied: regex>=2021.8.3 in /Users/jessicahong/.pyenv/versions/3.11.11/lib/python3.11/site-packages (from nltk) (2024.11.6)\n",
      "Requirement already satisfied: tqdm in /Users/jessicahong/.pyenv/versions/3.11.11/lib/python3.11/site-packages (from nltk) (4.67.1)\n"
     ]
    }
   ],
   "source": [
    "!pip install nltk"
   ]
  },
  {
   "cell_type": "code",
   "execution_count": 10,
   "id": "dfb83066-5c35-4115-9756-3ef756a86b5d",
   "metadata": {},
   "outputs": [
    {
     "name": "stderr",
     "output_type": "stream",
     "text": [
      "[nltk_data] Downloading collection 'all'\n",
      "[nltk_data]    | \n",
      "[nltk_data]    | Downloading package abc to\n",
      "[nltk_data]    |     /Users/jessicahong/nltk_data...\n",
      "[nltk_data]    |   Unzipping corpora/abc.zip.\n",
      "[nltk_data]    | Downloading package alpino to\n",
      "[nltk_data]    |     /Users/jessicahong/nltk_data...\n",
      "[nltk_data]    |   Unzipping corpora/alpino.zip.\n",
      "[nltk_data]    | Downloading package averaged_perceptron_tagger to\n",
      "[nltk_data]    |     /Users/jessicahong/nltk_data...\n",
      "[nltk_data]    |   Package averaged_perceptron_tagger is already up-\n",
      "[nltk_data]    |       to-date!\n",
      "[nltk_data]    | Downloading package averaged_perceptron_tagger_eng to\n",
      "[nltk_data]    |     /Users/jessicahong/nltk_data...\n",
      "[nltk_data]    |   Unzipping\n",
      "[nltk_data]    |       taggers/averaged_perceptron_tagger_eng.zip.\n",
      "[nltk_data]    | Downloading package averaged_perceptron_tagger_ru to\n",
      "[nltk_data]    |     /Users/jessicahong/nltk_data...\n",
      "[nltk_data]    |   Unzipping\n",
      "[nltk_data]    |       taggers/averaged_perceptron_tagger_ru.zip.\n",
      "[nltk_data]    | Downloading package averaged_perceptron_tagger_rus to\n",
      "[nltk_data]    |     /Users/jessicahong/nltk_data...\n",
      "[nltk_data]    |   Unzipping\n",
      "[nltk_data]    |       taggers/averaged_perceptron_tagger_rus.zip.\n",
      "[nltk_data]    | Downloading package basque_grammars to\n",
      "[nltk_data]    |     /Users/jessicahong/nltk_data...\n",
      "[nltk_data]    |   Unzipping grammars/basque_grammars.zip.\n",
      "[nltk_data]    | Downloading package bcp47 to\n",
      "[nltk_data]    |     /Users/jessicahong/nltk_data...\n",
      "[nltk_data]    | Downloading package biocreative_ppi to\n",
      "[nltk_data]    |     /Users/jessicahong/nltk_data...\n",
      "[nltk_data]    |   Unzipping corpora/biocreative_ppi.zip.\n",
      "[nltk_data]    | Downloading package bllip_wsj_no_aux to\n",
      "[nltk_data]    |     /Users/jessicahong/nltk_data...\n",
      "[nltk_data]    |   Unzipping models/bllip_wsj_no_aux.zip.\n",
      "[nltk_data]    | Downloading package book_grammars to\n",
      "[nltk_data]    |     /Users/jessicahong/nltk_data...\n",
      "[nltk_data]    |   Unzipping grammars/book_grammars.zip.\n",
      "[nltk_data]    | Downloading package brown to\n",
      "[nltk_data]    |     /Users/jessicahong/nltk_data...\n",
      "[nltk_data]    |   Unzipping corpora/brown.zip.\n",
      "[nltk_data]    | Downloading package brown_tei to\n",
      "[nltk_data]    |     /Users/jessicahong/nltk_data...\n",
      "[nltk_data]    |   Unzipping corpora/brown_tei.zip.\n",
      "[nltk_data]    | Downloading package cess_cat to\n",
      "[nltk_data]    |     /Users/jessicahong/nltk_data...\n",
      "[nltk_data]    |   Unzipping corpora/cess_cat.zip.\n",
      "[nltk_data]    | Downloading package cess_esp to\n",
      "[nltk_data]    |     /Users/jessicahong/nltk_data...\n",
      "[nltk_data]    |   Unzipping corpora/cess_esp.zip.\n",
      "[nltk_data]    | Downloading package chat80 to\n",
      "[nltk_data]    |     /Users/jessicahong/nltk_data...\n",
      "[nltk_data]    |   Unzipping corpora/chat80.zip.\n",
      "[nltk_data]    | Downloading package city_database to\n",
      "[nltk_data]    |     /Users/jessicahong/nltk_data...\n",
      "[nltk_data]    |   Unzipping corpora/city_database.zip.\n",
      "[nltk_data]    | Downloading package cmudict to\n",
      "[nltk_data]    |     /Users/jessicahong/nltk_data...\n",
      "[nltk_data]    |   Package cmudict is already up-to-date!\n",
      "[nltk_data]    | Downloading package comparative_sentences to\n",
      "[nltk_data]    |     /Users/jessicahong/nltk_data...\n",
      "[nltk_data]    |   Unzipping corpora/comparative_sentences.zip.\n",
      "[nltk_data]    | Downloading package comtrans to\n",
      "[nltk_data]    |     /Users/jessicahong/nltk_data...\n",
      "[nltk_data]    | Downloading package conll2000 to\n",
      "[nltk_data]    |     /Users/jessicahong/nltk_data...\n",
      "[nltk_data]    |   Unzipping corpora/conll2000.zip.\n",
      "[nltk_data]    | Downloading package conll2002 to\n",
      "[nltk_data]    |     /Users/jessicahong/nltk_data...\n",
      "[nltk_data]    |   Unzipping corpora/conll2002.zip.\n",
      "[nltk_data]    | Downloading package conll2007 to\n",
      "[nltk_data]    |     /Users/jessicahong/nltk_data...\n",
      "[nltk_data]    | Downloading package crubadan to\n",
      "[nltk_data]    |     /Users/jessicahong/nltk_data...\n",
      "[nltk_data]    |   Unzipping corpora/crubadan.zip.\n",
      "[nltk_data]    | Downloading package dependency_treebank to\n",
      "[nltk_data]    |     /Users/jessicahong/nltk_data...\n",
      "[nltk_data]    |   Unzipping corpora/dependency_treebank.zip.\n",
      "[nltk_data]    | Downloading package dolch to\n",
      "[nltk_data]    |     /Users/jessicahong/nltk_data...\n",
      "[nltk_data]    |   Unzipping corpora/dolch.zip.\n",
      "[nltk_data]    | Downloading package english_wordnet to\n",
      "[nltk_data]    |     /Users/jessicahong/nltk_data...\n",
      "[nltk_data]    |   Unzipping corpora/english_wordnet.zip.\n",
      "[nltk_data]    | Downloading package europarl_raw to\n",
      "[nltk_data]    |     /Users/jessicahong/nltk_data...\n",
      "[nltk_data]    |   Unzipping corpora/europarl_raw.zip.\n",
      "[nltk_data]    | Downloading package extended_omw to\n",
      "[nltk_data]    |     /Users/jessicahong/nltk_data...\n",
      "[nltk_data]    | Downloading package floresta to\n",
      "[nltk_data]    |     /Users/jessicahong/nltk_data...\n",
      "[nltk_data]    |   Unzipping corpora/floresta.zip.\n",
      "[nltk_data]    | Downloading package framenet_v15 to\n",
      "[nltk_data]    |     /Users/jessicahong/nltk_data...\n",
      "[nltk_data]    |   Unzipping corpora/framenet_v15.zip.\n",
      "[nltk_data]    | Downloading package framenet_v17 to\n",
      "[nltk_data]    |     /Users/jessicahong/nltk_data...\n",
      "[nltk_data]    |   Unzipping corpora/framenet_v17.zip.\n",
      "[nltk_data]    | Downloading package gazetteers to\n",
      "[nltk_data]    |     /Users/jessicahong/nltk_data...\n",
      "[nltk_data]    |   Package gazetteers is already up-to-date!\n",
      "[nltk_data]    | Downloading package genesis to\n",
      "[nltk_data]    |     /Users/jessicahong/nltk_data...\n",
      "[nltk_data]    |   Package genesis is already up-to-date!\n",
      "[nltk_data]    | Downloading package gutenberg to\n",
      "[nltk_data]    |     /Users/jessicahong/nltk_data...\n",
      "[nltk_data]    |   Package gutenberg is already up-to-date!\n",
      "[nltk_data]    | Downloading package ieer to\n",
      "[nltk_data]    |     /Users/jessicahong/nltk_data...\n",
      "[nltk_data]    |   Unzipping corpora/ieer.zip.\n",
      "[nltk_data]    | Downloading package inaugural to\n",
      "[nltk_data]    |     /Users/jessicahong/nltk_data...\n",
      "[nltk_data]    |   Package inaugural is already up-to-date!\n",
      "[nltk_data]    | Downloading package indian to\n",
      "[nltk_data]    |     /Users/jessicahong/nltk_data...\n",
      "[nltk_data]    |   Unzipping corpora/indian.zip.\n",
      "[nltk_data]    | Downloading package jeita to\n",
      "[nltk_data]    |     /Users/jessicahong/nltk_data...\n",
      "[nltk_data]    | Downloading package kimmo to\n",
      "[nltk_data]    |     /Users/jessicahong/nltk_data...\n",
      "[nltk_data]    |   Unzipping corpora/kimmo.zip.\n",
      "[nltk_data]    | Downloading package knbc to\n",
      "[nltk_data]    |     /Users/jessicahong/nltk_data...\n",
      "[nltk_data]    | Downloading package large_grammars to\n",
      "[nltk_data]    |     /Users/jessicahong/nltk_data...\n",
      "[nltk_data]    |   Unzipping grammars/large_grammars.zip.\n",
      "[nltk_data]    | Downloading package lin_thesaurus to\n",
      "[nltk_data]    |     /Users/jessicahong/nltk_data...\n",
      "[nltk_data]    |   Unzipping corpora/lin_thesaurus.zip.\n",
      "[nltk_data]    | Downloading package mac_morpho to\n",
      "[nltk_data]    |     /Users/jessicahong/nltk_data...\n",
      "[nltk_data]    |   Unzipping corpora/mac_morpho.zip.\n",
      "[nltk_data]    | Downloading package machado to\n",
      "[nltk_data]    |     /Users/jessicahong/nltk_data...\n",
      "[nltk_data]    | Downloading package masc_tagged to\n",
      "[nltk_data]    |     /Users/jessicahong/nltk_data...\n",
      "[nltk_data]    | Downloading package maxent_ne_chunker to\n",
      "[nltk_data]    |     /Users/jessicahong/nltk_data...\n",
      "[nltk_data]    |   Package maxent_ne_chunker is already up-to-date!\n",
      "[nltk_data]    | Downloading package maxent_ne_chunker_tab to\n",
      "[nltk_data]    |     /Users/jessicahong/nltk_data...\n",
      "[nltk_data]    |   Unzipping chunkers/maxent_ne_chunker_tab.zip.\n",
      "[nltk_data]    | Downloading package maxent_treebank_pos_tagger to\n",
      "[nltk_data]    |     /Users/jessicahong/nltk_data...\n",
      "[nltk_data]    |   Unzipping taggers/maxent_treebank_pos_tagger.zip.\n",
      "[nltk_data]    | Downloading package maxent_treebank_pos_tagger_tab to\n",
      "[nltk_data]    |     /Users/jessicahong/nltk_data...\n",
      "[nltk_data]    |   Unzipping\n",
      "[nltk_data]    |       taggers/maxent_treebank_pos_tagger_tab.zip.\n",
      "[nltk_data]    | Downloading package mock_corpus to\n",
      "[nltk_data]    |     /Users/jessicahong/nltk_data...\n",
      "[nltk_data]    |   Unzipping corpora/mock_corpus.zip.\n",
      "[nltk_data]    | Downloading package moses_sample to\n",
      "[nltk_data]    |     /Users/jessicahong/nltk_data...\n",
      "[nltk_data]    |   Unzipping models/moses_sample.zip.\n",
      "[nltk_data]    | Downloading package movie_reviews to\n",
      "[nltk_data]    |     /Users/jessicahong/nltk_data...\n",
      "[nltk_data]    |   Package movie_reviews is already up-to-date!\n",
      "[nltk_data]    | Downloading package mte_teip5 to\n",
      "[nltk_data]    |     /Users/jessicahong/nltk_data...\n",
      "[nltk_data]    |   Unzipping corpora/mte_teip5.zip.\n",
      "[nltk_data]    | Downloading package mwa_ppdb to\n",
      "[nltk_data]    |     /Users/jessicahong/nltk_data...\n",
      "[nltk_data]    |   Unzipping misc/mwa_ppdb.zip.\n",
      "[nltk_data]    | Downloading package names to\n",
      "[nltk_data]    |     /Users/jessicahong/nltk_data...\n",
      "[nltk_data]    |   Package names is already up-to-date!\n",
      "[nltk_data]    | Downloading package nombank.1.0 to\n",
      "[nltk_data]    |     /Users/jessicahong/nltk_data...\n",
      "[nltk_data]    | Downloading package nonbreaking_prefixes to\n",
      "[nltk_data]    |     /Users/jessicahong/nltk_data...\n",
      "[nltk_data]    |   Unzipping corpora/nonbreaking_prefixes.zip.\n",
      "[nltk_data]    | Downloading package nps_chat to\n",
      "[nltk_data]    |     /Users/jessicahong/nltk_data...\n",
      "[nltk_data]    |   Unzipping corpora/nps_chat.zip.\n",
      "[nltk_data]    | Downloading package omw to\n",
      "[nltk_data]    |     /Users/jessicahong/nltk_data...\n",
      "[nltk_data]    |   Package omw is already up-to-date!\n",
      "[nltk_data]    | Downloading package omw-1.4 to\n",
      "[nltk_data]    |     /Users/jessicahong/nltk_data...\n",
      "[nltk_data]    |   Package omw-1.4 is already up-to-date!\n",
      "[nltk_data]    | Downloading package opinion_lexicon to\n",
      "[nltk_data]    |     /Users/jessicahong/nltk_data...\n",
      "[nltk_data]    |   Unzipping corpora/opinion_lexicon.zip.\n",
      "[nltk_data]    | Downloading package panlex_swadesh to\n",
      "[nltk_data]    |     /Users/jessicahong/nltk_data...\n",
      "[nltk_data]    | Downloading package paradigms to\n",
      "[nltk_data]    |     /Users/jessicahong/nltk_data...\n",
      "[nltk_data]    |   Unzipping corpora/paradigms.zip.\n",
      "[nltk_data]    | Downloading package pe08 to\n",
      "[nltk_data]    |     /Users/jessicahong/nltk_data...\n",
      "[nltk_data]    |   Unzipping corpora/pe08.zip.\n",
      "[nltk_data]    | Downloading package perluniprops to\n",
      "[nltk_data]    |     /Users/jessicahong/nltk_data...\n",
      "[nltk_data]    |   Unzipping misc/perluniprops.zip.\n",
      "[nltk_data]    | Downloading package pil to\n",
      "[nltk_data]    |     /Users/jessicahong/nltk_data...\n",
      "[nltk_data]    |   Unzipping corpora/pil.zip.\n",
      "[nltk_data]    | Downloading package pl196x to\n",
      "[nltk_data]    |     /Users/jessicahong/nltk_data...\n",
      "[nltk_data]    |   Unzipping corpora/pl196x.zip.\n",
      "[nltk_data]    | Downloading package porter_test to\n",
      "[nltk_data]    |     /Users/jessicahong/nltk_data...\n",
      "[nltk_data]    |   Unzipping stemmers/porter_test.zip.\n",
      "[nltk_data]    | Downloading package ppattach to\n",
      "[nltk_data]    |     /Users/jessicahong/nltk_data...\n",
      "[nltk_data]    |   Unzipping corpora/ppattach.zip.\n",
      "[nltk_data]    | Downloading package problem_reports to\n",
      "[nltk_data]    |     /Users/jessicahong/nltk_data...\n",
      "[nltk_data]    |   Unzipping corpora/problem_reports.zip.\n",
      "[nltk_data]    | Downloading package product_reviews_1 to\n",
      "[nltk_data]    |     /Users/jessicahong/nltk_data...\n",
      "[nltk_data]    |   Unzipping corpora/product_reviews_1.zip.\n",
      "[nltk_data]    | Downloading package product_reviews_2 to\n",
      "[nltk_data]    |     /Users/jessicahong/nltk_data...\n",
      "[nltk_data]    |   Unzipping corpora/product_reviews_2.zip.\n",
      "[nltk_data]    | Downloading package propbank to\n",
      "[nltk_data]    |     /Users/jessicahong/nltk_data...\n",
      "[nltk_data]    | Downloading package pros_cons to\n",
      "[nltk_data]    |     /Users/jessicahong/nltk_data...\n",
      "[nltk_data]    |   Unzipping corpora/pros_cons.zip.\n",
      "[nltk_data]    | Downloading package ptb to\n",
      "[nltk_data]    |     /Users/jessicahong/nltk_data...\n",
      "[nltk_data]    |   Unzipping corpora/ptb.zip.\n",
      "[nltk_data]    | Downloading package punkt to\n",
      "[nltk_data]    |     /Users/jessicahong/nltk_data...\n",
      "[nltk_data]    |   Package punkt is already up-to-date!\n",
      "[nltk_data]    | Downloading package punkt_tab to\n",
      "[nltk_data]    |     /Users/jessicahong/nltk_data...\n",
      "[nltk_data]    |   Package punkt_tab is already up-to-date!\n",
      "[nltk_data]    | Downloading package qc to\n",
      "[nltk_data]    |     /Users/jessicahong/nltk_data...\n",
      "[nltk_data]    |   Unzipping corpora/qc.zip.\n",
      "[nltk_data]    | Downloading package reuters to\n",
      "[nltk_data]    |     /Users/jessicahong/nltk_data...\n",
      "[nltk_data]    | Downloading package rslp to\n",
      "[nltk_data]    |     /Users/jessicahong/nltk_data...\n",
      "[nltk_data]    |   Unzipping stemmers/rslp.zip.\n",
      "[nltk_data]    | Downloading package rte to\n",
      "[nltk_data]    |     /Users/jessicahong/nltk_data...\n",
      "[nltk_data]    |   Unzipping corpora/rte.zip.\n",
      "[nltk_data]    | Downloading package sample_grammars to\n",
      "[nltk_data]    |     /Users/jessicahong/nltk_data...\n",
      "[nltk_data]    |   Unzipping grammars/sample_grammars.zip.\n",
      "[nltk_data]    | Downloading package semcor to\n",
      "[nltk_data]    |     /Users/jessicahong/nltk_data...\n",
      "[nltk_data]    | Downloading package senseval to\n",
      "[nltk_data]    |     /Users/jessicahong/nltk_data...\n",
      "[nltk_data]    |   Unzipping corpora/senseval.zip.\n",
      "[nltk_data]    | Downloading package sentence_polarity to\n",
      "[nltk_data]    |     /Users/jessicahong/nltk_data...\n",
      "[nltk_data]    |   Unzipping corpora/sentence_polarity.zip.\n",
      "[nltk_data]    | Downloading package sentiwordnet to\n",
      "[nltk_data]    |     /Users/jessicahong/nltk_data...\n",
      "[nltk_data]    |   Unzipping corpora/sentiwordnet.zip.\n",
      "[nltk_data]    | Downloading package shakespeare to\n",
      "[nltk_data]    |     /Users/jessicahong/nltk_data...\n",
      "[nltk_data]    |   Package shakespeare is already up-to-date!\n",
      "[nltk_data]    | Downloading package sinica_treebank to\n",
      "[nltk_data]    |     /Users/jessicahong/nltk_data...\n",
      "[nltk_data]    |   Unzipping corpora/sinica_treebank.zip.\n",
      "[nltk_data]    | Downloading package smultron to\n",
      "[nltk_data]    |     /Users/jessicahong/nltk_data...\n",
      "[nltk_data]    |   Unzipping corpora/smultron.zip.\n",
      "[nltk_data]    | Downloading package snowball_data to\n",
      "[nltk_data]    |     /Users/jessicahong/nltk_data...\n",
      "[nltk_data]    |   Package snowball_data is already up-to-date!\n",
      "[nltk_data]    | Downloading package spanish_grammars to\n",
      "[nltk_data]    |     /Users/jessicahong/nltk_data...\n",
      "[nltk_data]    |   Unzipping grammars/spanish_grammars.zip.\n",
      "[nltk_data]    | Downloading package state_union to\n",
      "[nltk_data]    |     /Users/jessicahong/nltk_data...\n",
      "[nltk_data]    |   Unzipping corpora/state_union.zip.\n",
      "[nltk_data]    | Downloading package stopwords to\n",
      "[nltk_data]    |     /Users/jessicahong/nltk_data...\n",
      "[nltk_data]    |   Package stopwords is already up-to-date!\n",
      "[nltk_data]    | Downloading package subjectivity to\n",
      "[nltk_data]    |     /Users/jessicahong/nltk_data...\n",
      "[nltk_data]    |   Unzipping corpora/subjectivity.zip.\n",
      "[nltk_data]    | Downloading package swadesh to\n",
      "[nltk_data]    |     /Users/jessicahong/nltk_data...\n",
      "[nltk_data]    |   Unzipping corpora/swadesh.zip.\n",
      "[nltk_data]    | Downloading package switchboard to\n",
      "[nltk_data]    |     /Users/jessicahong/nltk_data...\n",
      "[nltk_data]    |   Unzipping corpora/switchboard.zip.\n",
      "[nltk_data]    | Downloading package tagsets to\n",
      "[nltk_data]    |     /Users/jessicahong/nltk_data...\n",
      "[nltk_data]    |   Unzipping help/tagsets.zip.\n",
      "[nltk_data]    | Downloading package tagsets_json to\n",
      "[nltk_data]    |     /Users/jessicahong/nltk_data...\n",
      "[nltk_data]    |   Unzipping help/tagsets_json.zip.\n",
      "[nltk_data]    | Downloading package timit to\n",
      "[nltk_data]    |     /Users/jessicahong/nltk_data...\n",
      "[nltk_data]    |   Unzipping corpora/timit.zip.\n",
      "[nltk_data]    | Downloading package toolbox to\n",
      "[nltk_data]    |     /Users/jessicahong/nltk_data...\n",
      "[nltk_data]    |   Unzipping corpora/toolbox.zip.\n",
      "[nltk_data]    | Downloading package treebank to\n",
      "[nltk_data]    |     /Users/jessicahong/nltk_data...\n",
      "[nltk_data]    |   Package treebank is already up-to-date!\n",
      "[nltk_data]    | Downloading package twitter_samples to\n",
      "[nltk_data]    |     /Users/jessicahong/nltk_data...\n",
      "[nltk_data]    |   Package twitter_samples is already up-to-date!\n",
      "[nltk_data]    | Downloading package udhr to\n",
      "[nltk_data]    |     /Users/jessicahong/nltk_data...\n",
      "[nltk_data]    |   Unzipping corpora/udhr.zip.\n",
      "[nltk_data]    | Downloading package udhr2 to\n",
      "[nltk_data]    |     /Users/jessicahong/nltk_data...\n",
      "[nltk_data]    |   Unzipping corpora/udhr2.zip.\n",
      "[nltk_data]    | Downloading package unicode_samples to\n",
      "[nltk_data]    |     /Users/jessicahong/nltk_data...\n",
      "[nltk_data]    |   Unzipping corpora/unicode_samples.zip.\n",
      "[nltk_data]    | Downloading package universal_tagset to\n",
      "[nltk_data]    |     /Users/jessicahong/nltk_data...\n",
      "[nltk_data]    |   Unzipping taggers/universal_tagset.zip.\n",
      "[nltk_data]    | Downloading package universal_treebanks_v20 to\n",
      "[nltk_data]    |     /Users/jessicahong/nltk_data...\n",
      "[nltk_data]    | Downloading package vader_lexicon to\n",
      "[nltk_data]    |     /Users/jessicahong/nltk_data...\n",
      "[nltk_data]    |   Package vader_lexicon is already up-to-date!\n",
      "[nltk_data]    | Downloading package verbnet to\n",
      "[nltk_data]    |     /Users/jessicahong/nltk_data...\n",
      "[nltk_data]    |   Unzipping corpora/verbnet.zip.\n",
      "[nltk_data]    | Downloading package verbnet3 to\n",
      "[nltk_data]    |     /Users/jessicahong/nltk_data...\n",
      "[nltk_data]    |   Unzipping corpora/verbnet3.zip.\n",
      "[nltk_data]    | Downloading package webtext to\n",
      "[nltk_data]    |     /Users/jessicahong/nltk_data...\n",
      "[nltk_data]    |   Unzipping corpora/webtext.zip.\n",
      "[nltk_data]    | Downloading package wmt15_eval to\n",
      "[nltk_data]    |     /Users/jessicahong/nltk_data...\n",
      "[nltk_data]    |   Unzipping models/wmt15_eval.zip.\n",
      "[nltk_data]    | Downloading package word2vec_sample to\n",
      "[nltk_data]    |     /Users/jessicahong/nltk_data...\n",
      "[nltk_data]    |   Unzipping models/word2vec_sample.zip.\n",
      "[nltk_data]    | Downloading package wordnet to\n",
      "[nltk_data]    |     /Users/jessicahong/nltk_data...\n",
      "[nltk_data]    |   Package wordnet is already up-to-date!\n",
      "[nltk_data]    | Downloading package wordnet2021 to\n",
      "[nltk_data]    |     /Users/jessicahong/nltk_data...\n",
      "[nltk_data]    |   Package wordnet2021 is already up-to-date!\n",
      "[nltk_data]    | Downloading package wordnet2022 to\n",
      "[nltk_data]    |     /Users/jessicahong/nltk_data...\n",
      "[nltk_data]    |   Unzipping corpora/wordnet2022.zip.\n",
      "[nltk_data]    | Downloading package wordnet31 to\n",
      "[nltk_data]    |     /Users/jessicahong/nltk_data...\n",
      "[nltk_data]    |   Package wordnet31 is already up-to-date!\n",
      "[nltk_data]    | Downloading package wordnet_ic to\n",
      "[nltk_data]    |     /Users/jessicahong/nltk_data...\n",
      "[nltk_data]    |   Package wordnet_ic is already up-to-date!\n",
      "[nltk_data]    | Downloading package words to\n",
      "[nltk_data]    |     /Users/jessicahong/nltk_data...\n",
      "[nltk_data]    |   Package words is already up-to-date!\n",
      "[nltk_data]    | Downloading package ycoe to\n",
      "[nltk_data]    |     /Users/jessicahong/nltk_data...\n",
      "[nltk_data]    |   Unzipping corpora/ycoe.zip.\n",
      "[nltk_data]    | \n",
      "[nltk_data]  Done downloading collection all\n"
     ]
    },
    {
     "data": {
      "text/plain": [
       "True"
      ]
     },
     "execution_count": 10,
     "metadata": {},
     "output_type": "execute_result"
    }
   ],
   "source": [
    "import nltk\n",
    "nltk.download('all')"
   ]
  },
  {
   "cell_type": "code",
   "execution_count": 11,
   "id": "c9d267a5-4121-43e8-8cf6-b61dc4a5bb72",
   "metadata": {},
   "outputs": [],
   "source": [
    "from nltk.tokenize import word_tokenize\n",
    "from nltk import pos_tag"
   ]
  },
  {
   "cell_type": "code",
   "execution_count": 12,
   "id": "a403b1fb-4577-454a-adbb-b3fd635117fc",
   "metadata": {},
   "outputs": [
    {
     "name": "stdout",
     "output_type": "stream",
     "text": [
      "[('Apple', 'NNP'), ('is', 'VBZ'), ('looking', 'VBG'), ('at', 'IN'), ('buying', 'VBG'), ('U.K.', 'NNP'), ('startup', 'NN'), ('for', 'IN'), ('$', '$'), ('1', 'CD'), ('billion', 'CD')]\n"
     ]
    }
   ],
   "source": [
    "text = \"Apple is looking at buying U.K. startup for $1 billion\"\n",
    "tokens = word_tokenize(text)\n",
    "pos_tags = pos_tag(tokens)\n",
    "\n",
    "print(pos_tags)"
   ]
  },
  {
   "cell_type": "code",
   "execution_count": 14,
   "id": "336bb124-19ee-442b-bf6e-698ebba81939",
   "metadata": {},
   "outputs": [],
   "source": [
    "#use ReuterDB "
   ]
  },
  {
   "cell_type": "code",
   "execution_count": 15,
   "id": "cc106ba3-1cd4-4da9-91e2-8264c70e0505",
   "metadata": {},
   "outputs": [
    {
     "name": "stderr",
     "output_type": "stream",
     "text": [
      "[nltk_data] Downloading package reuters to\n",
      "[nltk_data]     /Users/jessicahong/nltk_data...\n",
      "[nltk_data]   Package reuters is already up-to-date!\n",
      "[nltk_data] Downloading package punkt to\n",
      "[nltk_data]     /Users/jessicahong/nltk_data...\n",
      "[nltk_data]   Package punkt is already up-to-date!\n",
      "[nltk_data] Downloading package averaged_perceptron_tagger to\n",
      "[nltk_data]     /Users/jessicahong/nltk_data...\n",
      "[nltk_data]   Package averaged_perceptron_tagger is already up-to-\n",
      "[nltk_data]       date!\n"
     ]
    },
    {
     "data": {
      "text/plain": [
       "True"
      ]
     },
     "execution_count": 15,
     "metadata": {},
     "output_type": "execute_result"
    }
   ],
   "source": [
    "nltk.download('reuters')\n",
    "nltk.download('punkt')\n",
    "nltk.download('averaged_perceptron_tagger')"
   ]
  },
  {
   "cell_type": "code",
   "execution_count": 89,
   "id": "decc621a-1d22-40bd-9a13-6691c23b704a",
   "metadata": {},
   "outputs": [],
   "source": [
    "import matplotlib.pyplot as plt"
   ]
  },
  {
   "cell_type": "code",
   "execution_count": 90,
   "id": "79b48623-01df-45ee-a918-79b8e5227d74",
   "metadata": {},
   "outputs": [],
   "source": [
    "# Tokenize words and perform POS tagging on 5 Reuters news documents, then calculate the frequency of each POS tag\n"
   ]
  },
  {
   "cell_type": "code",
   "execution_count": 91,
   "id": "c41065b3-2bfb-4ee6-bd8c-18b5261f73bb",
   "metadata": {},
   "outputs": [],
   "source": [
    "from nltk.corpus import reuters\n",
    "from collections import Counter"
   ]
  },
  {
   "cell_type": "code",
   "execution_count": 92,
   "id": "39b4e137-6b33-4531-830a-ea86d746783e",
   "metadata": {},
   "outputs": [],
   "source": [
    "# Select top 5 Reuters news documents\n",
    "fileids = reuters.fileids()[:5]"
   ]
  },
  {
   "cell_type": "code",
   "execution_count": 54,
   "id": "548cf7ef-ddef-4e15-8838-dc2e058e2358",
   "metadata": {},
   "outputs": [],
   "source": [
    "# 해당 문서의 원문 텍스트 출력\n",
    "#print(reuters.raw(first_fileid))"
   ]
  },
  {
   "cell_type": "code",
   "execution_count": 93,
   "id": "2d39f36a-e651-404e-b51e-1841bbf6c30e",
   "metadata": {},
   "outputs": [
    {
     "name": "stdout",
     "output_type": "stream",
     "text": [
      "test/14826\n"
     ]
    }
   ],
   "source": [
    "# Print the first file ID\n",
    "print(fileids[0])"
   ]
  },
  {
   "cell_type": "code",
   "execution_count": 39,
   "id": "bf18531e-80a3-475f-b7e5-f3a6472e2d93",
   "metadata": {},
   "outputs": [],
   "source": [
    "#Id list\n",
    "#print(reuters.fileids())  "
   ]
  },
  {
   "cell_type": "code",
   "execution_count": 94,
   "id": "fafea5b4-e104-44fe-b75f-c4241b3303be",
   "metadata": {},
   "outputs": [
    {
     "name": "stdout",
     "output_type": "stream",
     "text": [
      "test/14826 categories: ['trade']\n"
     ]
    }
   ],
   "source": [
    "# Check categories for a specific document\n",
    "fileid = 'test/14826'\n",
    "categories = reuters.categories(fileid)\n",
    "print(f\"{fileid} categories:\", categories)"
   ]
  },
  {
   "cell_type": "code",
   "execution_count": 96,
   "id": "9692d47b-bc11-41e1-9190-2b97b3b5c876",
   "metadata": {},
   "outputs": [],
   "source": [
    "# Prepare data list to store document info: id, categories, text"
   ]
  },
  {
   "cell_type": "code",
   "execution_count": 98,
   "id": "44d1d3d9-9d22-40d2-89bc-0e341442f983",
   "metadata": {},
   "outputs": [],
   "source": [
    "import pandas as pd\n",
    "from nltk.corpus import reuters\n",
    "\n",
    "# Prepare data list to store document info: id, categories, text\n",
    "data = []\n",
    "for fid in reuters.fileids():\n",
    "    categories = reuters.categories(fid)\n",
    "    text = ' '.join(reuters.words(fid))\n",
    "    data.append({\"fileid\": fid, \"categories\": categories, \"text\": text})\n"
   ]
  },
  {
   "cell_type": "code",
   "execution_count": 99,
   "id": "37bfa8d1-3775-462a-bfc8-89ecb7be7fc8",
   "metadata": {},
   "outputs": [
    {
     "name": "stdout",
     "output_type": "stream",
     "text": [
      "       fileid                                      categories  \\\n",
      "0  test/14826                                         [trade]   \n",
      "1  test/14828                                         [grain]   \n",
      "2  test/14829                                [crude, nat-gas]   \n",
      "3  test/14832  [corn, grain, rice, rubber, sugar, tin, trade]   \n",
      "4  test/14833                             [palm-oil, veg-oil]   \n",
      "\n",
      "                                                text  \n",
      "0  ASIAN EXPORTERS FEAR DAMAGE FROM U . S .- JAPA...  \n",
      "1  CHINA DAILY SAYS VERMIN EAT 7 - 12 PCT GRAIN S...  \n",
      "2  JAPAN TO REVISE LONG - TERM ENERGY DEMAND DOWN...  \n",
      "3  THAI TRADE DEFICIT WIDENS IN FIRST QUARTER Tha...  \n",
      "4  INDONESIA SEES CPO PRICE RISING SHARPLY Indone...  \n"
     ]
    }
   ],
   "source": [
    "# Convert data list to a pandas DataFrame\n",
    "df = pd.DataFrame(data)\n",
    "print(df.head())"
   ]
  },
  {
   "cell_type": "code",
   "execution_count": 100,
   "id": "71c899f6-e308-41fb-a2ac-2301294f126f",
   "metadata": {},
   "outputs": [],
   "source": [
    "# 1. Select one document from Reuters corpus\n",
    "doc_id = reuters.fileids()[0]  # Choose the first document\n",
    "text = reuters.raw(doc_id)\n"
   ]
  },
  {
   "cell_type": "code",
   "execution_count": 101,
   "id": "44b08355-54f4-41be-b0a2-e87e1a0cf9e1",
   "metadata": {},
   "outputs": [
    {
     "name": "stdout",
     "output_type": "stream",
     "text": [
      "Document ID: test/14826\n",
      "=========================\n",
      "Document content (first 200 chars):\n",
      "ASIAN EXPORTERS FEAR DAMAGE FROM U.S.-JAPAN RIFT\n",
      "  Mounting trade friction between the\n",
      "  U.S. And Japan has raised fears among many of Asia's exporting\n",
      "  nations that the row could inflict far-reachin...\n"
     ]
    }
   ],
   "source": [
    "# Print document ID and the first 200 characters of its content\n",
    "print(f\"Document ID: {doc_id}\")\n",
    "print(\"=========================\")\n",
    "print(f\"Document content (first 200 chars):\\n{text[:200]}...\")"
   ]
  },
  {
   "cell_type": "code",
   "execution_count": 102,
   "id": "09e2dcec-aa19-4f4c-8792-5d973b8ac5b0",
   "metadata": {},
   "outputs": [],
   "source": [
    "#Tokenization from sentence to word"
   ]
  },
  {
   "cell_type": "code",
   "execution_count": 103,
   "id": "15f1571f-f731-4f04-993c-bf3be533f722",
   "metadata": {},
   "outputs": [],
   "source": [
    "tokens = word_tokenize(text)"
   ]
  },
  {
   "cell_type": "code",
   "execution_count": 104,
   "id": "d20e3cd0-72ee-44ac-9599-54e61e9d1061",
   "metadata": {},
   "outputs": [],
   "source": [
    "pos_tags = pos_tag(tokens)"
   ]
  },
  {
   "cell_type": "code",
   "execution_count": 105,
   "id": "b5c18d2b-4cf9-4932-9b12-85f82d8c50c2",
   "metadata": {},
   "outputs": [
    {
     "name": "stdout",
     "output_type": "stream",
     "text": [
      "\n",
      "Sample POS tagging (first 10 items):\n",
      "[('ASIAN', 'NNP'), ('EXPORTERS', 'NNP'), ('FEAR', 'NNP'), ('DAMAGE', 'NNP'), ('FROM', 'NNP'), ('U.S.-JAPAN', 'NNP'), ('RIFT', 'NNP'), ('Mounting', 'NNP'), ('trade', 'NN'), ('friction', 'NN')]\n"
     ]
    }
   ],
   "source": [
    "# Print a sample of POS tagging results (first 10 items)\n",
    "print(f\"\\nSample POS tagging (first 10 items):\\n{pos_tags[:10]}\")\n"
   ]
  },
  {
   "cell_type": "code",
   "execution_count": 106,
   "id": "abf723da-9143-4a05-89cf-f84d3000569c",
   "metadata": {},
   "outputs": [],
   "source": [
    "# Extract only part-of-speech (POS) tags and count their frequency\"\n",
    "tags = [tag for word, tag in pos_tags]\n",
    "tag_freq = Counter(tags)"
   ]
  },
  {
   "cell_type": "code",
   "execution_count": 107,
   "id": "f742f4a0-0c5c-4f93-b559-68eeab984042",
   "metadata": {},
   "outputs": [
    {
     "name": "stdout",
     "output_type": "stream",
     "text": [
      "Counter({'NNP': 116, 'NN': 105, 'IN': 92, 'NNS': 69, 'JJ': 64, 'DT': 61, 'VB': 33, '.': 31, ',': 29, 'TO': 26, 'VBD': 25, 'CC': 21, 'CD': 18, 'PRP': 16, 'RB': 15, 'MD': 13, 'POS': 12, 'VBP': 10, 'VBZ': 9, 'VBN': 9, 'VBG': 8, '``': 7, \"''\": 7, 'PRP$': 4, ':': 3, 'JJS': 3, '(': 2, ')': 2, 'WP': 1, 'NNPS': 1, 'WP$': 1, 'WRB': 1, 'RBR': 1, 'WDT': 1})\n"
     ]
    }
   ],
   "source": [
    "print(tag_freq)"
   ]
  },
  {
   "cell_type": "code",
   "execution_count": 108,
   "id": "88285b18-08b0-40b6-b4ad-7db18840b945",
   "metadata": {},
   "outputs": [
    {
     "name": "stdout",
     "output_type": "stream",
     "text": [
      "\n",
      "frequency per tags:\n",
      "[('NNP', 116), ('NN', 105), ('IN', 92), ('NNS', 69), ('JJ', 64), ('DT', 61), ('VB', 33), ('.', 31), (',', 29), ('TO', 26)]\n"
     ]
    }
   ],
   "source": [
    "print(f\"\\nfrequency per tags:\\n{tag_freq.most_common(10)}\")"
   ]
  },
  {
   "cell_type": "code",
   "execution_count": 109,
   "id": "a59033eb-b5bf-41ef-ad57-e0b7049e263b",
   "metadata": {},
   "outputs": [],
   "source": [
    "#Visualization using top 10 most commonly used tags\n",
    "labels, counts = zip(*tag_freq.most_common(10))"
   ]
  },
  {
   "cell_type": "code",
   "execution_count": 110,
   "id": "1481b3ae-703c-42f3-a4b3-dd25890f8fe2",
   "metadata": {},
   "outputs": [
    {
     "data": {
      "image/png": "[encoded data removed]",
      "text/plain": [
       "<Figure size 1000x600 with 1 Axes>"
      ]
     },
     "metadata": {},
     "output_type": "display_data"
    }
   ],
   "source": [
    "plt.figure(figsize=(10,6))\n",
    "plt.bar(labels, counts)\n",
    "plt.title(\"Top 10 POS Tags Frequency in Reuters Document\")\n",
    "plt.xlabel(\"POS Tag\")\n",
    "plt.ylabel(\"Count\")\n",
    "plt.show()"
   ]
  },
  {
   "cell_type": "code",
   "execution_count": 55,
   "id": "3b61e46c-fe20-4381-ab3a-ca6b5c79b4ea",
   "metadata": {},
   "outputs": [],
   "source": [
    "# # pos_tags is already created beforehand: pos_tags = nltk.pos_tag(tokens))\n",
    "tags = [tag for word, tag in pos_tags]\n",
    "tag_freq = Counter(tags)\n"
   ]
  },
  {
   "cell_type": "code",
   "execution_count": 111,
   "id": "e9953d47-83df-4acf-9506-0cec51235ce1",
   "metadata": {},
   "outputs": [
    {
     "name": "stdout",
     "output_type": "stream",
     "text": [
      "Top3 most commonly used: [('NNP', 116), ('NN', 105), ('IN', 92)]\n"
     ]
    }
   ],
   "source": [
    "#Top3 most commonly used\n",
    "most_common_3 = tag_freq.most_common(3)\n",
    "print(\"Top3 most commonly used:\", most_common_3)"
   ]
  },
  {
   "cell_type": "code",
   "execution_count": 112,
   "id": "0246aaca-2e28-430e-9b8a-7037e9f69e19",
   "metadata": {},
   "outputs": [
    {
     "name": "stdout",
     "output_type": "stream",
     "text": [
      "3 least frequent POS tags: [('WP', 1), ('NNPS', 1), ('WP$', 1)]\n"
     ]
    }
   ],
   "source": [
    "# Least frequent 3 POS tags (among those used more than once)\n",
    "least_common_3 = sorted(tag_freq.items(), key=lambda x: x[1])[:3]\n",
    "print(\"3 least frequent POS tags:\", least_common_3)"
   ]
  },
  {
   "cell_type": "code",
   "execution_count": 113,
   "id": "2cdefc1c-4f4e-4c0e-afe8-29791dfea41b",
   "metadata": {},
   "outputs": [],
   "source": [
    "#Tokenize words, perform POS tagging\n",
    "#calculate tag frequencies for 5 Reuters news documents"
   ]
  },
  {
   "cell_type": "code",
   "execution_count": 114,
   "id": "d0ab8fc8-8932-4759-bd9c-5f3fb70a85d8",
   "metadata": {},
   "outputs": [],
   "source": [
    "# Select 5 Reuters news documents\n",
    "file_ids = reuters.fileids()[:5]"
   ]
  },
  {
   "cell_type": "code",
   "execution_count": 60,
   "id": "be548b8d-d7a0-4c14-ab36-bdcf58a8e025",
   "metadata": {},
   "outputs": [],
   "source": [
    "all_tag_freqs = []"
   ]
  },
  {
   "cell_type": "code",
   "execution_count": 61,
   "id": "efcba4a1-90e9-44b1-a8a0-7d9858ca0189",
   "metadata": {},
   "outputs": [],
   "source": [
    "#iterates over a list of Document Ids \n",
    "for doc_id in doc_ids:\n",
    "    #loads the raw text content using reuters.raw(doc_id)\n",
    "    text = reuters.raw(doc_id)\n",
    "    #tokenizes text into tokens\n",
    "    tokens = word_tokenize(text)\n",
    "    #applies POS taggging into pos_tags\n",
    "    pos_tags = pos_tag(tokens)\n",
    "    #for word, tag in pos_tags unpacks each tuple in the list and assigns the values to the variables word and tag, respectively.\n",
    "    tags = [tag for word, tag in pos_tags]\n",
    "    #counts the frequency of each POS tag\n",
    "    tag_freq = Counter(tags)\n",
    "    append appends the POS tag frequency dictionary to a list=all_tag_freqs\n",
    "    all_tag_freqs.append(tag_freq)"
   ]
  },
  {
   "cell_type": "code",
   "execution_count": 115,
   "id": "7bfb5746-f898-4ed8-a8e7-94c856da4345",
   "metadata": {},
   "outputs": [],
   "source": [
    "# Select representative POS tags (e.g., top 10 most frequent tags overall)\n",
    " #to accumulate frequencies of POS tags across all docs\n",
    "all_tags = Counter() \n",
    "\n",
    "# Loop through each POS frequency dictionary and update the overall tag counts one by one\n",
    "for freq in all_tag_freqs:\n",
    "    all_tags.update(freq)\n",
    "\n",
    "# Select the top 10 most frequent POS tags overall\n",
    "top_tags = [tag for tag, _ in all_tags.most_common(10)]"
   ]
  },
  {
   "cell_type": "code",
   "execution_count": 116,
   "id": "5ca4b8ee-9e18-4043-b784-3b1296c2d6fd",
   "metadata": {},
   "outputs": [],
   "source": [
    "import numpy as np"
   ]
  },
  {
   "cell_type": "code",
   "execution_count": 117,
   "id": "73c93403-ef7b-4fae-98ee-27fe927a8b5d",
   "metadata": {},
   "outputs": [
    {
     "name": "stdout",
     "output_type": "stream",
     "text": [
      "<class 'list'>\n"
     ]
    }
   ],
   "source": [
    "print(type(all_tag_freqs))   "
   ]
  },
  {
   "cell_type": "code",
   "execution_count": 118,
   "id": "5b1cd906-1695-465b-9f8a-157e22c3c849",
   "metadata": {},
   "outputs": [
    {
     "name": "stdout",
     "output_type": "stream",
     "text": [
      "<class 'collections.Counter'>\n"
     ]
    }
   ],
   "source": [
    "print(type(all_tag_freqs[0]))"
   ]
  },
  {
   "cell_type": "code",
   "execution_count": 119,
   "id": "0ae993a1-7611-41a2-acfc-c7331889a752",
   "metadata": {},
   "outputs": [
    {
     "name": "stdout",
     "output_type": "stream",
     "text": [
      "Counter({'NNP': 116, 'NN': 105, 'IN': 92, 'NNS': 69, 'JJ': 64, 'DT': 61, 'VB': 33, '.': 31, ',': 29, 'TO': 26, 'VBD': 25, 'CC': 21, 'CD': 18, 'PRP': 16, 'RB': 15, 'MD': 13, 'POS': 12, 'VBP': 10, 'VBZ': 9, 'VBN': 9, 'VBG': 8, '``': 7, \"''\": 7, 'PRP$': 4, ':': 3, 'JJS': 3, '(': 2, ')': 2, 'WP': 1, 'NNPS': 1, 'WP$': 1, 'WRB': 1, 'RBR': 1, 'WDT': 1})\n"
     ]
    }
   ],
   "source": [
    "print(all_tag_freqs[0]) "
   ]
  },
  {
   "cell_type": "code",
   "execution_count": 64,
   "id": "8d91976e-ed5d-4481-b49d-b9a9fefbb9e5",
   "metadata": {},
   "outputs": [],
   "source": [
    "freq_matrix = []\n",
    "for freq in all_tag_freqs:\n",
    "    freq_matrix.append([freq.get(tag, 0) for tag in top_tags])\n",
    "\n",
    "freq_matrix = np.array(freq_matrix)"
   ]
  },
  {
   "cell_type": "code",
   "execution_count": 120,
   "id": "2693fc4f-a4f0-4ce2-9877-62b427f6b2f9",
   "metadata": {},
   "outputs": [],
   "source": [
    "x = np.arange(len(doc_ids))\n",
    "width = 0.15"
   ]
  },
  {
   "cell_type": "code",
   "execution_count": 121,
   "id": "f445ffb4-ead4-4b5e-8809-991696973446",
   "metadata": {},
   "outputs": [
    {
     "data": {
      "text/plain": [
       "<Figure size 1200x600 with 0 Axes>"
      ]
     },
     "execution_count": 121,
     "metadata": {},
     "output_type": "execute_result"
    },
    {
     "data": {
      "text/plain": [
       "<Figure size 1200x600 with 0 Axes>"
      ]
     },
     "metadata": {},
     "output_type": "display_data"
    }
   ],
   "source": [
    "plt.figure(figsize=(12,6))"
   ]
  },
  {
   "cell_type": "code",
   "execution_count": 122,
   "id": "000384d9-34ce-4043-aa06-51f470eb0725",
   "metadata": {},
   "outputs": [
    {
     "data": {
      "image/png": "[encoded data removed]",
      "text/plain": [
       "<Figure size 1200x600 with 1 Axes>"
      ]
     },
     "metadata": {},
     "output_type": "display_data"
    }
   ],
   "source": [
    "plt.figure(figsize=(12,6))\n",
    "\n",
    "for i, tag in enumerate(top_tags):\n",
    "    plt.bar(x + i*width, freq_matrix[:, i], width, label=tag)\n",
    "\n",
    "plt.xticks(x + width*len(top_tags)/2, doc_ids, rotation=45)\n",
    "plt.xlabel('Document ID')\n",
    "plt.ylabel('Frequency')\n",
    "plt.title('POS Tag Distribution in Multiple Reuters Documents')\n",
    "plt.legend()\n",
    "plt.tight_layout()\n",
    "plt.show()"
   ]
  },
  {
   "cell_type": "code",
   "execution_count": 123,
   "id": "2f2b557c-edb1-4591-8f97-700ff5e6a30c",
   "metadata": {},
   "outputs": [],
   "source": [
    "# Apply to another corpus"
   ]
  },
  {
   "cell_type": "code",
   "execution_count": 124,
   "id": "ce86ca3b-7fc4-49e6-bd1f-eb882e970dfe",
   "metadata": {},
   "outputs": [],
   "source": [
    "from nltk.corpus import brown"
   ]
  },
  {
   "cell_type": "code",
   "execution_count": 71,
   "id": "b3402a5e-e2f0-4fea-9c6d-c38e5f0d4801",
   "metadata": {},
   "outputs": [],
   "source": [
    "# et one document from the Brown corpus\n",
    "doc_id = brown.fileids()[0]\n",
    "text = brown.raw(doc_id)"
   ]
  },
  {
   "cell_type": "code",
   "execution_count": 125,
   "id": "ad2b0d4f-df26-4831-8424-32d02f243fe9",
   "metadata": {},
   "outputs": [],
   "source": [
    "tokens = word_tokenize(text)\n",
    "pos_tags = pos_tag(tokens)"
   ]
  },
  {
   "cell_type": "code",
   "execution_count": 126,
   "id": "653e3c5b-aab7-41b5-9cd2-e6823cb4add3",
   "metadata": {},
   "outputs": [],
   "source": [
    "tags = [tag for word, tag in pos_tags]\n",
    "tag_freq = Counter(tags)"
   ]
  },
  {
   "cell_type": "code",
   "execution_count": 127,
   "id": "2c517582-f0cd-47a6-96d4-d62a164e657b",
   "metadata": {},
   "outputs": [
    {
     "name": "stdout",
     "output_type": "stream",
     "text": [
      "Brown corpus document ID: test/14826\n",
      "Top 10 POS tag frequencies: [('NNP', 116), ('NN', 105), ('IN', 92), ('NNS', 69), ('JJ', 64), ('DT', 61), ('VB', 33), ('.', 31), (',', 29), ('TO', 26)]\n"
     ]
    }
   ],
   "source": [
    "# Print the Brown corpus document ID\n",
    "print(f\"Brown corpus document ID: {doc_id}\")\n",
    "\n",
    "# Print the top 10 most frequent POS tags in the document\n",
    "print(f\"Top 10 POS tag frequencies: {tag_freq.most_common(10)}\")\n"
   ]
  },
  {
   "cell_type": "code",
   "execution_count": 80,
   "id": "307ef28b-b5a8-4da9-842d-75ee19827d93",
   "metadata": {},
   "outputs": [
    {
     "ename": "AttributeError",
     "evalue": "module 'spacy' has no attribute '__version__'",
     "output_type": "error",
     "traceback": [
      "\u001b[31m---------------------------------------------------------------------------\u001b[39m",
      "\u001b[31mAttributeError\u001b[39m                            Traceback (most recent call last)",
      "\u001b[36mCell\u001b[39m\u001b[36m \u001b[39m\u001b[32mIn[80]\u001b[39m\u001b[32m, line 2\u001b[39m\n\u001b[32m      1\u001b[39m \u001b[38;5;28;01mimport\u001b[39;00m\u001b[38;5;250m \u001b[39m\u001b[34;01mspacy\u001b[39;00m\n\u001b[32m----> \u001b[39m\u001b[32m2\u001b[39m \u001b[38;5;28mprint\u001b[39m(\u001b[43mspacy\u001b[49m\u001b[43m.\u001b[49m\u001b[43m__version__\u001b[49m)\n",
      "\u001b[31mAttributeError\u001b[39m: module 'spacy' has no attribute '__version__'"
     ]
    }
   ],
   "source": [
    "import spacy\n",
    "print(spacy.__version__)"
   ]
  },
  {
   "cell_type": "code",
   "execution_count": null,
   "id": "56e41135-9828-4bff-98fc-d00425c5561c",
   "metadata": {},
   "outputs": [],
   "source": []
  }
 ],
 "metadata": {
  "kernelspec": {
   "display_name": "Python (nlp_env)",
   "language": "python",
   "name": "nlp_env"
  },
  "language_info": {
   "codemirror_mode": {
    "name": "ipython",
    "version": 3
   },
   "file_extension": ".py",
   "mimetype": "text/x-python",
   "name": "python",
   "nbconvert_exporter": "python",
   "pygments_lexer": "ipython3",
   "version": "3.11.11"
  }
 },
 "nbformat": 4,
 "nbformat_minor": 5
}
