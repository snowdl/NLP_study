{
 "cells": [
  {
   "cell_type": "code",
   "execution_count": 76,
   "id": "e612b3e4-8cd5-40aa-ab2f-2cddd628b605",
   "metadata": {},
   "outputs": [
    {
     "name": "stderr",
     "output_type": "stream",
     "text": [
      "huggingface/tokenizers: The current process just got forked, after parallelism has already been used. Disabling parallelism to avoid deadlocks...\n",
      "To disable this warning, you can either:\n",
      "\t- Avoid using `tokenizers` before the fork if possible\n",
      "\t- Explicitly set the environment variable TOKENIZERS_PARALLELISM=(true | false)\n"
     ]
    },
    {
     "name": "stdout",
     "output_type": "stream",
     "text": [
      "Collecting numpy==1.24.3\n",
      "  Downloading numpy-1.24.3-cp311-cp311-macosx_11_0_arm64.whl.metadata (5.6 kB)\n",
      "Downloading numpy-1.24.3-cp311-cp311-macosx_11_0_arm64.whl (13.8 MB)\n",
      "\u001b[2K   \u001b[90m━━━━━━━━━━━━━━━━━━━━━━━━━━━━━━━━━━━━━━━━\u001b[0m \u001b[32m13.8/13.8 MB\u001b[0m \u001b[31m8.5 MB/s\u001b[0m eta \u001b[36m0:00:00\u001b[0ma \u001b[36m0:00:01\u001b[0m\n",
      "\u001b[?25hInstalling collected packages: numpy\n",
      "  Attempting uninstall: numpy\n",
      "    Found existing installation: numpy 2.2.6\n",
      "    Uninstalling numpy-2.2.6:\n",
      "      Successfully uninstalled numpy-2.2.6\n",
      "\u001b[31mERROR: pip's dependency resolver does not currently take into account all the packages that are installed. This behaviour is the source of the following dependency conflicts.\n",
      "faiss-cpu 1.10.0 requires numpy<3.0,>=1.25.0, but you have numpy 1.24.3 which is incompatible.\n",
      "thinc 8.3.6 requires numpy<3.0.0,>=2.0.0, but you have numpy 1.24.3 which is incompatible.\n",
      "langchain-community 0.3.20 requires numpy<3,>=1.26.2, but you have numpy 1.24.3 which is incompatible.\n",
      "tensorflow 2.19.0 requires numpy<2.2.0,>=1.26.0, but you have numpy 1.24.3 which is incompatible.\u001b[0m\u001b[31m\n",
      "\u001b[0mSuccessfully installed numpy-1.24.3\n"
     ]
    }
   ],
   "source": [
    "!pip install numpy==1.24.3"
   ]
  },
  {
   "cell_type": "code",
   "execution_count": 78,
   "id": "e2cd1594-d756-4801-b88f-705f38593928",
   "metadata": {},
   "outputs": [
    {
     "name": "stderr",
     "output_type": "stream",
     "text": [
      "huggingface/tokenizers: The current process just got forked, after parallelism has already been used. Disabling parallelism to avoid deadlocks...\n",
      "To disable this warning, you can either:\n",
      "\t- Avoid using `tokenizers` before the fork if possible\n",
      "\t- Explicitly set the environment variable TOKENIZERS_PARALLELISM=(true | false)\n"
     ]
    },
    {
     "name": "stdout",
     "output_type": "stream",
     "text": [
      "Requirement already satisfied: folium in /Users/jessicahong/.pyenv/versions/3.11.11/lib/python3.11/site-packages (0.20.0)\n",
      "Requirement already satisfied: geopy in /Users/jessicahong/.pyenv/versions/3.11.11/lib/python3.11/site-packages (2.4.1)\n",
      "Requirement already satisfied: datasets in /Users/jessicahong/.pyenv/versions/3.11.11/lib/python3.11/site-packages (3.6.0)\n",
      "Requirement already satisfied: transformers in /Users/jessicahong/.pyenv/versions/3.11.11/lib/python3.11/site-packages (4.53.2)\n",
      "Requirement already satisfied: branca>=0.6.0 in /Users/jessicahong/.pyenv/versions/3.11.11/lib/python3.11/site-packages (from folium) (0.8.1)\n",
      "Requirement already satisfied: jinja2>=2.9 in /Users/jessicahong/.pyenv/versions/3.11.11/lib/python3.11/site-packages (from folium) (3.1.6)\n",
      "Requirement already satisfied: numpy in /Users/jessicahong/.pyenv/versions/3.11.11/lib/python3.11/site-packages (from folium) (1.24.3)\n",
      "Requirement already satisfied: requests in /Users/jessicahong/.pyenv/versions/3.11.11/lib/python3.11/site-packages (from folium) (2.32.3)\n",
      "Requirement already satisfied: xyzservices in /Users/jessicahong/.pyenv/versions/3.11.11/lib/python3.11/site-packages (from folium) (2025.4.0)\n",
      "Requirement already satisfied: geographiclib<3,>=1.52 in /Users/jessicahong/.pyenv/versions/3.11.11/lib/python3.11/site-packages (from geopy) (2.0)\n",
      "Requirement already satisfied: filelock in /Users/jessicahong/.pyenv/versions/3.11.11/lib/python3.11/site-packages (from datasets) (3.18.0)\n",
      "Requirement already satisfied: pyarrow>=15.0.0 in /Users/jessicahong/.pyenv/versions/3.11.11/lib/python3.11/site-packages (from datasets) (19.0.1)\n",
      "Requirement already satisfied: dill<0.3.9,>=0.3.0 in /Users/jessicahong/.pyenv/versions/3.11.11/lib/python3.11/site-packages (from datasets) (0.3.8)\n",
      "Requirement already satisfied: pandas in /Users/jessicahong/.pyenv/versions/3.11.11/lib/python3.11/site-packages (from datasets) (2.3.0)\n",
      "Requirement already satisfied: tqdm>=4.66.3 in /Users/jessicahong/.pyenv/versions/3.11.11/lib/python3.11/site-packages (from datasets) (4.67.1)\n",
      "Requirement already satisfied: xxhash in /Users/jessicahong/.pyenv/versions/3.11.11/lib/python3.11/site-packages (from datasets) (3.5.0)\n",
      "Requirement already satisfied: multiprocess<0.70.17 in /Users/jessicahong/.pyenv/versions/3.11.11/lib/python3.11/site-packages (from datasets) (0.70.16)\n",
      "Requirement already satisfied: fsspec<=2025.3.0,>=2023.1.0 in /Users/jessicahong/.pyenv/versions/3.11.11/lib/python3.11/site-packages (from fsspec[http]<=2025.3.0,>=2023.1.0->datasets) (2024.12.0)\n",
      "Requirement already satisfied: huggingface-hub>=0.24.0 in /Users/jessicahong/.pyenv/versions/3.11.11/lib/python3.11/site-packages (from datasets) (0.33.1)\n",
      "Requirement already satisfied: packaging in /Users/jessicahong/.pyenv/versions/3.11.11/lib/python3.11/site-packages (from datasets) (24.2)\n",
      "Requirement already satisfied: pyyaml>=5.1 in /Users/jessicahong/.pyenv/versions/3.11.11/lib/python3.11/site-packages (from datasets) (6.0.2)\n",
      "Requirement already satisfied: aiohttp!=4.0.0a0,!=4.0.0a1 in /Users/jessicahong/.pyenv/versions/3.11.11/lib/python3.11/site-packages (from fsspec[http]<=2025.3.0,>=2023.1.0->datasets) (3.11.14)\n",
      "Requirement already satisfied: regex!=2019.12.17 in /Users/jessicahong/.pyenv/versions/3.11.11/lib/python3.11/site-packages (from transformers) (2024.11.6)\n",
      "Requirement already satisfied: tokenizers<0.22,>=0.21 in /Users/jessicahong/.pyenv/versions/3.11.11/lib/python3.11/site-packages (from transformers) (0.21.1)\n",
      "Requirement already satisfied: safetensors>=0.4.3 in /Users/jessicahong/.pyenv/versions/3.11.11/lib/python3.11/site-packages (from transformers) (0.5.3)\n",
      "Requirement already satisfied: typing-extensions>=3.7.4.3 in /Users/jessicahong/.pyenv/versions/3.11.11/lib/python3.11/site-packages (from huggingface-hub>=0.24.0->datasets) (4.14.0)\n",
      "Requirement already satisfied: hf-xet<2.0.0,>=1.1.2 in /Users/jessicahong/.pyenv/versions/3.11.11/lib/python3.11/site-packages (from huggingface-hub>=0.24.0->datasets) (1.1.5)\n",
      "Requirement already satisfied: aiohappyeyeballs>=2.3.0 in /Users/jessicahong/.pyenv/versions/3.11.11/lib/python3.11/site-packages (from aiohttp!=4.0.0a0,!=4.0.0a1->fsspec[http]<=2025.3.0,>=2023.1.0->datasets) (2.6.1)\n",
      "Requirement already satisfied: aiosignal>=1.1.2 in /Users/jessicahong/.pyenv/versions/3.11.11/lib/python3.11/site-packages (from aiohttp!=4.0.0a0,!=4.0.0a1->fsspec[http]<=2025.3.0,>=2023.1.0->datasets) (1.3.2)\n",
      "Requirement already satisfied: attrs>=17.3.0 in /Users/jessicahong/.pyenv/versions/3.11.11/lib/python3.11/site-packages (from aiohttp!=4.0.0a0,!=4.0.0a1->fsspec[http]<=2025.3.0,>=2023.1.0->datasets) (25.3.0)\n",
      "Requirement already satisfied: frozenlist>=1.1.1 in /Users/jessicahong/.pyenv/versions/3.11.11/lib/python3.11/site-packages (from aiohttp!=4.0.0a0,!=4.0.0a1->fsspec[http]<=2025.3.0,>=2023.1.0->datasets) (1.5.0)\n",
      "Requirement already satisfied: multidict<7.0,>=4.5 in /Users/jessicahong/.pyenv/versions/3.11.11/lib/python3.11/site-packages (from aiohttp!=4.0.0a0,!=4.0.0a1->fsspec[http]<=2025.3.0,>=2023.1.0->datasets) (6.2.0)\n",
      "Requirement already satisfied: propcache>=0.2.0 in /Users/jessicahong/.pyenv/versions/3.11.11/lib/python3.11/site-packages (from aiohttp!=4.0.0a0,!=4.0.0a1->fsspec[http]<=2025.3.0,>=2023.1.0->datasets) (0.3.0)\n",
      "Requirement already satisfied: yarl<2.0,>=1.17.0 in /Users/jessicahong/.pyenv/versions/3.11.11/lib/python3.11/site-packages (from aiohttp!=4.0.0a0,!=4.0.0a1->fsspec[http]<=2025.3.0,>=2023.1.0->datasets) (1.18.3)\n",
      "Requirement already satisfied: idna>=2.0 in /Users/jessicahong/.pyenv/versions/3.11.11/lib/python3.11/site-packages (from yarl<2.0,>=1.17.0->aiohttp!=4.0.0a0,!=4.0.0a1->fsspec[http]<=2025.3.0,>=2023.1.0->datasets) (3.10)\n",
      "Requirement already satisfied: MarkupSafe>=2.0 in /Users/jessicahong/.pyenv/versions/3.11.11/lib/python3.11/site-packages (from jinja2>=2.9->folium) (3.0.2)\n",
      "Requirement already satisfied: charset-normalizer<4,>=2 in /Users/jessicahong/.pyenv/versions/3.11.11/lib/python3.11/site-packages (from requests->folium) (3.4.1)\n",
      "Requirement already satisfied: urllib3<3,>=1.21.1 in /Users/jessicahong/.pyenv/versions/3.11.11/lib/python3.11/site-packages (from requests->folium) (2.3.0)\n",
      "Requirement already satisfied: certifi>=2017.4.17 in /Users/jessicahong/.pyenv/versions/3.11.11/lib/python3.11/site-packages (from requests->folium) (2025.1.31)\n",
      "Requirement already satisfied: python-dateutil>=2.8.2 in /Users/jessicahong/.pyenv/versions/3.11.11/lib/python3.11/site-packages (from pandas->datasets) (2.8.2)\n",
      "Requirement already satisfied: pytz>=2020.1 in /Users/jessicahong/.pyenv/versions/3.11.11/lib/python3.11/site-packages (from pandas->datasets) (2025.1)\n",
      "Requirement already satisfied: tzdata>=2022.7 in /Users/jessicahong/.pyenv/versions/3.11.11/lib/python3.11/site-packages (from pandas->datasets) (2025.1)\n",
      "Requirement already satisfied: six>=1.5 in /Users/jessicahong/.pyenv/versions/3.11.11/lib/python3.11/site-packages (from python-dateutil>=2.8.2->pandas->datasets) (1.17.0)\n",
      "Requirement already satisfied: seqeval in /Users/jessicahong/.pyenv/versions/3.11.11/lib/python3.11/site-packages (1.2.2)\n",
      "Requirement already satisfied: numpy>=1.14.0 in /Users/jessicahong/.pyenv/versions/3.11.11/lib/python3.11/site-packages (from seqeval) (1.24.3)\n",
      "Requirement already satisfied: scikit-learn>=0.21.3 in /Users/jessicahong/.pyenv/versions/3.11.11/lib/python3.11/site-packages (from seqeval) (1.6.1)\n",
      "Requirement already satisfied: scipy>=1.6.0 in /Users/jessicahong/.pyenv/versions/3.11.11/lib/python3.11/site-packages (from scikit-learn>=0.21.3->seqeval) (1.13.1)\n",
      "Requirement already satisfied: joblib>=1.2.0 in /Users/jessicahong/.pyenv/versions/3.11.11/lib/python3.11/site-packages (from scikit-learn>=0.21.3->seqeval) (1.5.1)\n",
      "Requirement already satisfied: threadpoolctl>=3.1.0 in /Users/jessicahong/.pyenv/versions/3.11.11/lib/python3.11/site-packages (from scikit-learn>=0.21.3->seqeval) (3.6.0)\n"
     ]
    },
    {
     "name": "stderr",
     "output_type": "stream",
     "text": [
      "huggingface/tokenizers: The current process just got forked, after parallelism has already been used. Disabling parallelism to avoid deadlocks...\n",
      "To disable this warning, you can either:\n",
      "\t- Avoid using `tokenizers` before the fork if possible\n",
      "\t- Explicitly set the environment variable TOKENIZERS_PARALLELISM=(true | false)\n"
     ]
    }
   ],
   "source": [
    "!pip install folium geopy datasets transformers\n",
    "!pip install seqeval"
   ]
  },
  {
   "cell_type": "code",
   "execution_count": 79,
   "id": "572264da-05ac-4df2-aebb-42758af4229b",
   "metadata": {},
   "outputs": [],
   "source": [
    "from datasets import load_dataset"
   ]
  },
  {
   "cell_type": "code",
   "execution_count": 80,
   "id": "502043f1-949c-4e0e-8c4f-9dd3b302a3f9",
   "metadata": {},
   "outputs": [],
   "source": [
    "from datasets import load_dataset\n",
    "dataset = load_dataset(\"conll2003\")"
   ]
  },
  {
   "cell_type": "code",
   "execution_count": 81,
   "id": "7f38b0a5-2eb3-45ce-ae13-af0b721c3a9b",
   "metadata": {},
   "outputs": [
    {
     "name": "stdout",
     "output_type": "stream",
     "text": [
      "DatasetDict({\n",
      "    train: Dataset({\n",
      "        features: ['id', 'tokens', 'pos_tags', 'chunk_tags', 'ner_tags'],\n",
      "        num_rows: 14041\n",
      "    })\n",
      "    validation: Dataset({\n",
      "        features: ['id', 'tokens', 'pos_tags', 'chunk_tags', 'ner_tags'],\n",
      "        num_rows: 3250\n",
      "    })\n",
      "    test: Dataset({\n",
      "        features: ['id', 'tokens', 'pos_tags', 'chunk_tags', 'ner_tags'],\n",
      "        num_rows: 3453\n",
      "    })\n",
      "})\n"
     ]
    }
   ],
   "source": [
    "print(dataset)"
   ]
  },
  {
   "cell_type": "code",
   "execution_count": 82,
   "id": "f3913d60-d1dc-40d5-949a-1e69d6cbe82d",
   "metadata": {},
   "outputs": [
    {
     "name": "stdout",
     "output_type": "stream",
     "text": [
      "{'id': '0', 'tokens': ['EU', 'rejects', 'German', 'call', 'to', 'boycott', 'British', 'lamb', '.'], 'pos_tags': [22, 42, 16, 21, 35, 37, 16, 21, 7], 'chunk_tags': [11, 21, 11, 12, 21, 22, 11, 12, 0], 'ner_tags': [3, 0, 7, 0, 0, 0, 7, 0, 0]}\n"
     ]
    }
   ],
   "source": [
    "print(dataset['train'][0])"
   ]
  },
  {
   "cell_type": "code",
   "execution_count": 83,
   "id": "1d1aa44b-1536-4bb6-aa10-8cc2d2aa433d",
   "metadata": {},
   "outputs": [
    {
     "name": "stdout",
     "output_type": "stream",
     "text": [
      "{'id': '0', 'tokens': ['SOCCER', '-', 'JAPAN', 'GET', 'LUCKY', 'WIN', ',', 'CHINA', 'IN', 'SURPRISE', 'DEFEAT', '.'], 'pos_tags': [21, 8, 22, 37, 22, 22, 6, 22, 15, 12, 21, 7], 'chunk_tags': [11, 0, 11, 21, 11, 12, 0, 11, 13, 11, 12, 0], 'ner_tags': [0, 0, 5, 0, 0, 0, 0, 1, 0, 0, 0, 0]}\n"
     ]
    }
   ],
   "source": [
    "print(dataset['test'][0])"
   ]
  },
  {
   "cell_type": "code",
   "execution_count": 84,
   "id": "1ee4bb41-a447-4e46-a26f-f7841b23c210",
   "metadata": {},
   "outputs": [],
   "source": [
    "#Data embedding (using HuggingFace AutoTokenzier and AutoModel)"
   ]
  },
  {
   "cell_type": "code",
   "execution_count": 85,
   "id": "e5a981de-11a4-42d7-b8c2-de22982bc4f5",
   "metadata": {},
   "outputs": [],
   "source": [
    "#Encoder"
   ]
  },
  {
   "cell_type": "code",
   "execution_count": 86,
   "id": "5a82a3a3-929a-4c5f-a893-240c4b28b15d",
   "metadata": {},
   "outputs": [],
   "source": [
    "from transformers import AutoTokenizer, AutoModel# Load the tokenizer for the 'bert-base-cased' model\n",
    "tokenizer = AutoTokenizer.from_pretrained(\"bert-base-cased\")\n",
    "\n",
    "# Load the pre-trained BERT model (without a specific head)\n",
    "model = AutoModel.from_pretrained(\"bert-base-cased\")\n",
    "\n",
    "# Tokenize the input sentence and convert it into PyTorch tensors\n",
    "inputs = tokenizer(\"My name is Sarah\", return_tensors=\"pt\")\n",
    "\n",
    "# Pass the tokenized inputs through the BERT model to get outputs (hidden states)\n",
    "outputs = model(**inputs)"
   ]
  },
  {
   "cell_type": "code",
   "execution_count": 87,
   "id": "2bb913a9-db28-402f-a76d-ff62cffde7e7",
   "metadata": {},
   "outputs": [],
   "source": [
    "# Extract the last hidden states from the model outputs\n",
    "# This tensor contains contextualized embeddings for each token in the input\n",
    "last_hidden_states = outputs.last_hidden_state"
   ]
  },
  {
   "cell_type": "code",
   "execution_count": 88,
   "id": "7181a93e-5aa6-498f-b2ea-2631aebbb9a7",
   "metadata": {},
   "outputs": [],
   "source": [
    "#Decoder => use HuggingFace AutoModelForTokenClassification"
   ]
  },
  {
   "cell_type": "code",
   "execution_count": 89,
   "id": "a23b7042-760e-4c1b-8cf1-0da03e5307ae",
   "metadata": {},
   "outputs": [
    {
     "name": "stderr",
     "output_type": "stream",
     "text": [
      "Some weights of BertForTokenClassification were not initialized from the model checkpoint at bert-base-cased and are newly initialized: ['classifier.bias', 'classifier.weight']\n",
      "You should probably TRAIN this model on a down-stream task to be able to use it for predictions and inference.\n"
     ]
    }
   ],
   "source": [
    "from transformers import AutoModelForTokenClassification\n",
    "# num_labels indicates the number of NER tags (e.g., PER, ORG, LOC, MISC)\n",
    "\n",
    "#num_labels=9 => tells the model there are 9 distinct labels it should predict.\n",
    "#9 labels correspond ot the BIO tagging scheme applited for entity types :\n",
    "\"\"\"\n",
    "B-PER, I-PER: Beginning and inside of a person entity\n",
    "B-ORG, I-ORG: Beginning and inside of an organization entity\n",
    "B-LOC, I-LOC: Beginning and inside of a location entity\n",
    "B-MISC, I-MISC: Beginning and inside of miscellaneous entity\n",
    "O: Outside, meaning the token does not belong to any entity\n",
    "\"\"\"\n",
    "model = AutoModelForTokenClassification.from_pretrained(\"bert-base-cased\", num_labels=9)"
   ]
  },
  {
   "cell_type": "code",
   "execution_count": 90,
   "id": "9dd87e50-9763-45d0-b9be-5db85eca8377",
   "metadata": {},
   "outputs": [],
   "source": [
    "#NER"
   ]
  },
  {
   "cell_type": "code",
   "execution_count": 91,
   "id": "ec10809d-1baf-4edb-89f3-70e91e088c18",
   "metadata": {},
   "outputs": [],
   "source": [
    "#load libraries"
   ]
  },
  {
   "cell_type": "code",
   "execution_count": 92,
   "id": "dde62c5c-8d82-4f6a-b497-6119f577bcac",
   "metadata": {},
   "outputs": [],
   "source": [
    "from transformers import AutoTokenizer, AutoModelForTokenClassification\n",
    "from transformers import pipeline\n",
    "import torch"
   ]
  },
  {
   "cell_type": "code",
   "execution_count": 93,
   "id": "08767434-cee9-4236-90d2-1af3d939d56e",
   "metadata": {},
   "outputs": [],
   "source": [
    "#Tokenizer and model"
   ]
  },
  {
   "cell_type": "code",
   "execution_count": 94,
   "id": "5de531c6-ac5a-4adf-921f-763ed159997a",
   "metadata": {},
   "outputs": [
    {
     "name": "stderr",
     "output_type": "stream",
     "text": [
      "Some weights of the model checkpoint at dbmdz/bert-large-cased-finetuned-conll03-english were not used when initializing BertForTokenClassification: ['bert.pooler.dense.bias', 'bert.pooler.dense.weight']\n",
      "- This IS expected if you are initializing BertForTokenClassification from the checkpoint of a model trained on another task or with another architecture (e.g. initializing a BertForSequenceClassification model from a BertForPreTraining model).\n",
      "- This IS NOT expected if you are initializing BertForTokenClassification from the checkpoint of a model that you expect to be exactly identical (initializing a BertForSequenceClassification model from a BertForSequenceClassification model).\n"
     ]
    }
   ],
   "source": [
    "# Specify the pre-trained BERT model fine-tuned for NER on the CoNLL-2003 dataset\n",
    "model_name = \"dbmdz/bert-large-cased-finetuned-conll03-english\"\n",
    "\n",
    "# Load the tokenizer corresponding to the model\n",
    "tokenizer = AutoTokenizer.from_pretrained(model_name)\n",
    "\n",
    "# Load the BERT model with a token classification head (for NER)\n",
    "model = AutoModelForTokenClassification.from_pretrained(model_name)"
   ]
  },
  {
   "cell_type": "code",
   "execution_count": 95,
   "id": "7b943811-4349-4f75-b334-5a9d57586351",
   "metadata": {},
   "outputs": [],
   "source": [
    "#Tag Id -> label mapping"
   ]
  },
  {
   "cell_type": "code",
   "execution_count": 96,
   "id": "6bef7b57-4f47-4ae5-b35f-bf942c36fda1",
   "metadata": {},
   "outputs": [
    {
     "name": "stdout",
     "output_type": "stream",
     "text": [
      "{0: 'O', 1: 'B-MISC', 2: 'I-MISC', 3: 'B-PER', 4: 'I-PER', 5: 'B-ORG', 6: 'I-ORG', 7: 'B-LOC', 8: 'I-LOC'}\n"
     ]
    }
   ],
   "source": [
    "# Get the mapping dictionary from label IDs to label names (e.g., 0 → 'O', 1 → 'B-PER', etc.)\n",
    "label_list = model.config.id2label\n",
    "\n",
    "# Print the dictionary to see all possible NER labels the model predicts\n",
    "print(label_list)\n"
   ]
  },
  {
   "cell_type": "code",
   "execution_count": 97,
   "id": "8da2edde-34e7-4dea-9037-ed82142fef8c",
   "metadata": {},
   "outputs": [],
   "source": [
    "#input setence"
   ]
  },
  {
   "cell_type": "code",
   "execution_count": 98,
   "id": "ffbb5640-030d-4450-ae27-a3f138f0008c",
   "metadata": {},
   "outputs": [],
   "source": [
    "# Define an example sentence for NER prediction\n",
    "sentence = \"Barack Obama visited Microsoft headquarters in Washington.\"\n",
    "\n",
    "# Tokenize the sentence and convert it into PyTorch tensors for model input\n",
    "inputs = tokenizer(sentence, return_tensors=\"pt\")\n"
   ]
  },
  {
   "cell_type": "code",
   "execution_count": 99,
   "id": "46befcdd-c3e2-4eaa-a0b2-bef3a91ffdd0",
   "metadata": {},
   "outputs": [
    {
     "name": "stdout",
     "output_type": "stream",
     "text": [
      "{'input_ids': tensor([[  101, 14319,  7661,  3891,  6998,  3834,  1107,  1994,   119,   102]]), 'token_type_ids': tensor([[0, 0, 0, 0, 0, 0, 0, 0, 0, 0]]), 'attention_mask': tensor([[1, 1, 1, 1, 1, 1, 1, 1, 1, 1]])}\n"
     ]
    }
   ],
   "source": [
    "print(inputs)"
   ]
  },
  {
   "cell_type": "code",
   "execution_count": 100,
   "id": "7d14d7bc-522b-43b0-ab17-fd371632d749",
   "metadata": {},
   "outputs": [],
   "source": [
    "#Prediction"
   ]
  },
  {
   "cell_type": "code",
   "execution_count": 132,
   "id": "91e1e90c-2318-46a9-8ad6-aa7b212cf6d9",
   "metadata": {},
   "outputs": [],
   "source": [
    "# Disable gradient calculation for inference to save memory and speed up computation\n",
    "with torch.no_grad():\n",
    "    # Pass the inputs through the model to get raw output logits\n",
    "    outputs = model(**inputs)\n"
   ]
  },
  {
   "cell_type": "code",
   "execution_count": 102,
   "id": "9b15e672-d78c-4dfb-9323-6934ad4fab83",
   "metadata": {},
   "outputs": [
    {
     "name": "stdout",
     "output_type": "stream",
     "text": [
      "TokenClassifierOutput(loss=None, logits=tensor([[[ 9.7154e+00, -2.3976e+00, -1.4934e+00, -2.0508e+00, -1.3030e+00,\n",
      "          -2.1001e+00, -5.2184e-01, -2.0629e+00,  6.4377e-01],\n",
      "         [ 1.1807e-01, -1.6690e+00, -1.0940e+00, -2.7903e+00,  7.5763e+00,\n",
      "          -2.2161e+00, -1.7072e+00, -2.0476e+00,  4.9021e-01],\n",
      "         [-6.5228e-01, -1.6043e+00, -6.0368e-02, -2.4460e+00,  7.3006e+00,\n",
      "          -1.9399e+00, -1.8330e+00, -2.0084e+00, -2.9684e-01],\n",
      "         [ 1.1414e+01, -1.9257e+00, -1.2234e+00, -2.3048e+00, -8.6737e-01,\n",
      "          -1.7772e+00, -7.3813e-03, -1.9061e+00, -3.4114e-01],\n",
      "         [-2.9042e-01, -1.9671e+00,  7.1406e-01, -3.3164e+00, -1.4405e+00,\n",
      "          -1.7894e+00,  8.4331e+00, -2.4256e+00, -1.0177e-01],\n",
      "         [ 1.1050e+01, -2.2421e+00, -1.2407e+00, -2.6768e+00, -1.2717e+00,\n",
      "          -1.8256e+00,  7.3353e-01, -2.2512e+00, -1.4098e-01],\n",
      "         [ 1.1187e+01, -2.1418e+00, -1.4537e+00, -2.2580e+00, -1.4139e+00,\n",
      "          -1.7224e+00, -7.7079e-02, -1.7831e+00,  9.1635e-02],\n",
      "         [-1.6007e-01, -2.2977e+00, -1.7806e+00, -2.5111e+00, -5.2984e-01,\n",
      "          -2.4928e+00,  8.3857e-01, -1.4672e+00,  8.4510e+00],\n",
      "         [ 1.0770e+01, -1.9890e+00, -1.2998e+00, -2.4148e+00, -8.2876e-01,\n",
      "          -1.8979e+00, -3.2923e-02, -1.9748e+00, -2.3226e-01],\n",
      "         [ 9.7154e+00, -2.3976e+00, -1.4934e+00, -2.0508e+00, -1.3030e+00,\n",
      "          -2.1001e+00, -5.2184e-01, -2.0629e+00,  6.4377e-01]]]), hidden_states=None, attentions=None)\n"
     ]
    }
   ],
   "source": [
    "print(outputs)"
   ]
  },
  {
   "cell_type": "code",
   "execution_count": 103,
   "id": "6ed0b22c-de1f-45c4-a964-d3c4a3261532",
   "metadata": {},
   "outputs": [],
   "source": [
    "#logits => Tag/Label (use argmax)"
   ]
  },
  {
   "cell_type": "code",
   "execution_count": 133,
   "id": "ceee6379-9959-4c62-b15c-21dcd623c35c",
   "metadata": {},
   "outputs": [
    {
     "name": "stdout",
     "output_type": "stream",
     "text": [
      "tensor([[0, 4, 4, 0, 6, 0, 0, 8, 0, 0]])\n"
     ]
    }
   ],
   "source": [
    "# Select the index of the highest scoring label (logit) for each token\n",
    "predictions = torch.argmax(outputs.logits, dim=2)\n",
    "\n",
    "# Print the predicted label indices for each token\n",
    "print(predictions)\n"
   ]
  },
  {
   "cell_type": "code",
   "execution_count": 105,
   "id": "b01fc584-7705-4f7e-9d42-90a97fe811d0",
   "metadata": {},
   "outputs": [
    {
     "name": "stdout",
     "output_type": "stream",
     "text": [
      "['O', 'I-PER', 'I-PER', 'O', 'I-ORG', 'O', 'O', 'I-LOC', 'O', 'O']\n"
     ]
    }
   ],
   "source": [
    "# Get the mapping dictionary from label ID to label name (e.g., 0 → 'O', 1 → 'B-PER', etc.)\n",
    "id2label = model.config.id2label  \n",
    "\n",
    "# Convert predicted label IDs to their corresponding string labels\n",
    "predicted_labels = [id2label[idx.item()] for idx in predictions[0]]\n",
    "\n",
    "# Output the NER tags predicted by the model for each token\n",
    "print(predicted_labels)\n"
   ]
  },
  {
   "cell_type": "code",
   "execution_count": 106,
   "id": "0e9b1c4d-4872-44f0-9369-8446ed72b01e",
   "metadata": {},
   "outputs": [],
   "source": [
    "# extract token\n",
    "tokens = tokenizer.convert_ids_to_tokens(inputs[\"input_ids\"][0])"
   ]
  },
  {
   "cell_type": "code",
   "execution_count": 107,
   "id": "f4f063bc-24d4-4e6a-a0bb-a3c9a61bce51",
   "metadata": {},
   "outputs": [
    {
     "name": "stdout",
     "output_type": "stream",
     "text": [
      "['[CLS]', 'Barack', 'Obama', 'visited', 'Microsoft', 'headquarters', 'in', 'Washington', '.', '[SEP]']\n"
     ]
    }
   ],
   "source": [
    "print(tokens)"
   ]
  },
  {
   "cell_type": "code",
   "execution_count": 134,
   "id": "ee15ba8f-0ce6-4804-b2cc-2458f9821b40",
   "metadata": {},
   "outputs": [
    {
     "name": "stdout",
     "output_type": "stream",
     "text": [
      "[CLS]           -> O\n",
      "Barack          -> I-PER\n",
      "Obama           -> I-PER\n",
      "visited         -> O\n",
      "Microsoft       -> I-ORG\n",
      "headquarters    -> O\n",
      "in              -> O\n",
      "Washington      -> I-LOC\n",
      ".               -> O\n",
      "[SEP]           -> O\n"
     ]
    }
   ],
   "source": [
    "# Iterate over each token and its corresponding predicted label\n",
    "for token, label in zip(tokens, predicted_labels):\n",
    "    # Print the token and its predicted NER tag in a formatted way for easy reading\n",
    "    print(f\"{token:15} -> {label}\")"
   ]
  },
  {
   "cell_type": "code",
   "execution_count": 135,
   "id": "5a878d57-1647-4ad5-a182-79f7b24c621c",
   "metadata": {},
   "outputs": [],
   "source": [
    "import pandas as pd"
   ]
  },
  {
   "cell_type": "code",
   "execution_count": 136,
   "id": "784a1058-9527-4e3d-9af6-f5fbc3f91bf6",
   "metadata": {},
   "outputs": [],
   "source": [
    "# filter special tokens (CLS, SEP)\n",
    "filtered = [(tok, lbl) for tok, lbl in zip(tokens, predicted_labels) if tok not in [\"[CLS]\", \"[SEP]\"]]\n",
    "tokens_filtered, predicted_labels_filtered = zip(*filtered)\n"
   ]
  },
  {
   "cell_type": "code",
   "execution_count": 137,
   "id": "3d407892-49d3-464a-b0ad-cc6e46d8ea98",
   "metadata": {},
   "outputs": [],
   "source": [
    "df = pd.DataFrame(filtered_tokens_labels, columns=[\"Token\", \"NER_Tag\"])"
   ]
  },
  {
   "cell_type": "code",
   "execution_count": 138,
   "id": "ddb7cc5c-57af-4bcb-9ae9-58d032b58a27",
   "metadata": {},
   "outputs": [
    {
     "name": "stdout",
     "output_type": "stream",
     "text": [
      "          Token NER_Tag\n",
      "0        Barack   I-PER\n",
      "1         Obama   I-PER\n",
      "2       visited       O\n",
      "3     Microsoft   I-ORG\n",
      "4  headquarters       O\n",
      "5            in       O\n",
      "6    Washington   I-LOC\n",
      "7             .       O\n"
     ]
    }
   ],
   "source": [
    "print(df)"
   ]
  },
  {
   "cell_type": "code",
   "execution_count": 139,
   "id": "d4774aa4-7b99-47d3-8bcd-aa5d62d5319a",
   "metadata": {},
   "outputs": [],
   "source": [
    "#Visualization"
   ]
  },
  {
   "cell_type": "code",
   "execution_count": 140,
   "id": "fd50783e-cdcc-4033-a372-bf85f4bc08e3",
   "metadata": {},
   "outputs": [],
   "source": [
    "import matplotlib.pyplot as plt\n",
    "import seaborn as sns"
   ]
  },
  {
   "cell_type": "code",
   "execution_count": 141,
   "id": "b7fe0f9c-7a28-47ed-808d-de3dd2d1c133",
   "metadata": {},
   "outputs": [],
   "source": [
    "tag_counts = df[\"NER_Tag\"].value_counts()"
   ]
  },
  {
   "cell_type": "code",
   "execution_count": 142,
   "id": "242695f6-2073-45e0-8073-7cb5702441e8",
   "metadata": {},
   "outputs": [
    {
     "name": "stdout",
     "output_type": "stream",
     "text": [
      "NER_Tag\n",
      "O        4\n",
      "I-PER    2\n",
      "I-ORG    1\n",
      "I-LOC    1\n",
      "Name: count, dtype: int64\n"
     ]
    }
   ],
   "source": [
    "print(tag_counts)"
   ]
  },
  {
   "cell_type": "code",
   "execution_count": 131,
   "id": "2fae1d32-9b98-4d54-9738-c71e48c2b6c6",
   "metadata": {},
   "outputs": [
    {
     "name": "stderr",
     "output_type": "stream",
     "text": [
      "/var/folders/6y/xtl4b0cx1cs9zrr9n5y814_h0000gn/T/ipykernel_17749/4066495508.py:2: FutureWarning: \n",
      "\n",
      "Passing `palette` without assigning `hue` is deprecated and will be removed in v0.14.0. Assign the `x` variable to `hue` and set `legend=False` for the same effect.\n",
      "\n",
      "  sns.barplot(x=tag_counts.index, y=tag_counts.values, palette=\"viridis\")\n"
     ]
    },
    {
     "data": {
      "image/png": "[encoded data removed]",
      "text/plain": [
       "<Figure size 800x500 with 1 Axes>"
      ]
     },
     "metadata": {},
     "output_type": "display_data"
    }
   ],
   "source": [
    "plt.figure(figsize=(8,5))\n",
    "sns.barplot(x=tag_counts.index, y=tag_counts.values, palette=\"viridis\")\n",
    "plt.title(\"NER Tag Distribution\")\n",
    "plt.xlabel(\"NER Tag\")\n",
    "plt.ylabel(\"Count\")\n",
    "plt.show()\n"
   ]
  },
  {
   "cell_type": "code",
   "execution_count": null,
   "id": "a1e27ce5-0014-4cee-bc79-29cd75a741ed",
   "metadata": {},
   "outputs": [],
   "source": []
  }
 ],
 "metadata": {
  "kernelspec": {
   "display_name": "Python 3 (ipykernel)",
   "language": "python",
   "name": "python3"
  },
  "language_info": {
   "codemirror_mode": {
    "name": "ipython",
    "version": 3
   },
   "file_extension": ".py",
   "mimetype": "text/x-python",
   "name": "python",
   "nbconvert_exporter": "python",
   "pygments_lexer": "ipython3",
   "version": "3.11.11"
  }
 },
 "nbformat": 4,
 "nbformat_minor": 5
}
