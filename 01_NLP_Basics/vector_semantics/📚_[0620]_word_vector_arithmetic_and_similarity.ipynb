{
 "cells": [
  {
   "cell_type": "code",
   "execution_count": 2,
   "id": "2d5e594d-e266-4f21-bbcf-2b78028b9228",
   "metadata": {},
   "outputs": [
    {
     "name": "stdout",
     "output_type": "stream",
     "text": [
      "Requirement already satisfied: ipynbname in /Users/jessicahong/.pyenv/versions/3.11.11/lib/python3.11/site-packages (2024.1.0.0)\n",
      "Requirement already satisfied: ipykernel in /Users/jessicahong/.pyenv/versions/3.11.11/lib/python3.11/site-packages (from ipynbname) (6.29.5)\n",
      "Requirement already satisfied: appnope in /Users/jessicahong/.pyenv/versions/3.11.11/lib/python3.11/site-packages (from ipykernel->ipynbname) (0.1.4)\n",
      "Requirement already satisfied: comm>=0.1.1 in /Users/jessicahong/.pyenv/versions/3.11.11/lib/python3.11/site-packages (from ipykernel->ipynbname) (0.2.2)\n",
      "Requirement already satisfied: debugpy>=1.6.5 in /Users/jessicahong/.pyenv/versions/3.11.11/lib/python3.11/site-packages (from ipykernel->ipynbname) (1.8.13)\n",
      "Requirement already satisfied: ipython>=7.23.1 in /Users/jessicahong/.pyenv/versions/3.11.11/lib/python3.11/site-packages (from ipykernel->ipynbname) (9.3.0)\n",
      "Requirement already satisfied: jupyter-client>=6.1.12 in /Users/jessicahong/.pyenv/versions/3.11.11/lib/python3.11/site-packages (from ipykernel->ipynbname) (8.6.3)\n",
      "Requirement already satisfied: jupyter-core!=5.0.*,>=4.12 in /Users/jessicahong/.pyenv/versions/3.11.11/lib/python3.11/site-packages (from ipykernel->ipynbname) (5.7.2)\n",
      "Requirement already satisfied: matplotlib-inline>=0.1 in /Users/jessicahong/.pyenv/versions/3.11.11/lib/python3.11/site-packages (from ipykernel->ipynbname) (0.1.7)\n",
      "Requirement already satisfied: nest-asyncio in /Users/jessicahong/.pyenv/versions/3.11.11/lib/python3.11/site-packages (from ipykernel->ipynbname) (1.6.0)\n",
      "Requirement already satisfied: packaging in /Users/jessicahong/.pyenv/versions/3.11.11/lib/python3.11/site-packages (from ipykernel->ipynbname) (24.2)\n",
      "Requirement already satisfied: psutil in /Users/jessicahong/.pyenv/versions/3.11.11/lib/python3.11/site-packages (from ipykernel->ipynbname) (7.0.0)\n",
      "Requirement already satisfied: pyzmq>=24 in /Users/jessicahong/.pyenv/versions/3.11.11/lib/python3.11/site-packages (from ipykernel->ipynbname) (26.3.0)\n",
      "Requirement already satisfied: tornado>=6.1 in /Users/jessicahong/.pyenv/versions/3.11.11/lib/python3.11/site-packages (from ipykernel->ipynbname) (6.4.2)\n",
      "Requirement already satisfied: traitlets>=5.4.0 in /Users/jessicahong/.pyenv/versions/3.11.11/lib/python3.11/site-packages (from ipykernel->ipynbname) (5.14.3)\n",
      "Requirement already satisfied: decorator in /Users/jessicahong/.pyenv/versions/3.11.11/lib/python3.11/site-packages (from ipython>=7.23.1->ipykernel->ipynbname) (5.2.1)\n",
      "Requirement already satisfied: ipython-pygments-lexers in /Users/jessicahong/.pyenv/versions/3.11.11/lib/python3.11/site-packages (from ipython>=7.23.1->ipykernel->ipynbname) (1.1.1)\n",
      "Requirement already satisfied: jedi>=0.16 in /Users/jessicahong/.pyenv/versions/3.11.11/lib/python3.11/site-packages (from ipython>=7.23.1->ipykernel->ipynbname) (0.19.2)\n",
      "Requirement already satisfied: pexpect>4.3 in /Users/jessicahong/.pyenv/versions/3.11.11/lib/python3.11/site-packages (from ipython>=7.23.1->ipykernel->ipynbname) (4.9.0)\n",
      "Requirement already satisfied: prompt_toolkit<3.1.0,>=3.0.41 in /Users/jessicahong/.pyenv/versions/3.11.11/lib/python3.11/site-packages (from ipython>=7.23.1->ipykernel->ipynbname) (3.0.51)\n",
      "Requirement already satisfied: pygments>=2.4.0 in /Users/jessicahong/.pyenv/versions/3.11.11/lib/python3.11/site-packages (from ipython>=7.23.1->ipykernel->ipynbname) (2.19.1)\n",
      "Requirement already satisfied: stack_data in /Users/jessicahong/.pyenv/versions/3.11.11/lib/python3.11/site-packages (from ipython>=7.23.1->ipykernel->ipynbname) (0.6.3)\n",
      "Requirement already satisfied: typing_extensions>=4.6 in /Users/jessicahong/.pyenv/versions/3.11.11/lib/python3.11/site-packages (from ipython>=7.23.1->ipykernel->ipynbname) (4.14.0)\n",
      "Requirement already satisfied: wcwidth in /Users/jessicahong/.pyenv/versions/3.11.11/lib/python3.11/site-packages (from prompt_toolkit<3.1.0,>=3.0.41->ipython>=7.23.1->ipykernel->ipynbname) (0.2.13)\n",
      "Requirement already satisfied: parso<0.9.0,>=0.8.4 in /Users/jessicahong/.pyenv/versions/3.11.11/lib/python3.11/site-packages (from jedi>=0.16->ipython>=7.23.1->ipykernel->ipynbname) (0.8.4)\n",
      "Requirement already satisfied: python-dateutil>=2.8.2 in /Users/jessicahong/.pyenv/versions/3.11.11/lib/python3.11/site-packages (from jupyter-client>=6.1.12->ipykernel->ipynbname) (2.8.2)\n",
      "Requirement already satisfied: platformdirs>=2.5 in /Users/jessicahong/.pyenv/versions/3.11.11/lib/python3.11/site-packages (from jupyter-core!=5.0.*,>=4.12->ipykernel->ipynbname) (4.3.7)\n",
      "Requirement already satisfied: ptyprocess>=0.5 in /Users/jessicahong/.pyenv/versions/3.11.11/lib/python3.11/site-packages (from pexpect>4.3->ipython>=7.23.1->ipykernel->ipynbname) (0.7.0)\n",
      "Requirement already satisfied: six>=1.5 in /Users/jessicahong/.pyenv/versions/3.11.11/lib/python3.11/site-packages (from python-dateutil>=2.8.2->jupyter-client>=6.1.12->ipykernel->ipynbname) (1.17.0)\n",
      "Requirement already satisfied: executing>=1.2.0 in /Users/jessicahong/.pyenv/versions/3.11.11/lib/python3.11/site-packages (from stack_data->ipython>=7.23.1->ipykernel->ipynbname) (2.2.0)\n",
      "Requirement already satisfied: asttokens>=2.1.0 in /Users/jessicahong/.pyenv/versions/3.11.11/lib/python3.11/site-packages (from stack_data->ipython>=7.23.1->ipykernel->ipynbname) (3.0.0)\n",
      "Requirement already satisfied: pure-eval in /Users/jessicahong/.pyenv/versions/3.11.11/lib/python3.11/site-packages (from stack_data->ipython>=7.23.1->ipykernel->ipynbname) (0.2.3)\n"
     ]
    }
   ],
   "source": [
    "!pip install ipynbname\n"
   ]
  },
  {
   "cell_type": "code",
   "execution_count": 6,
   "id": "9cd8d7ee-c501-4b8c-a137-4c23f60ae02c",
   "metadata": {},
   "outputs": [],
   "source": [
    "import os\n",
    "os.chdir('/Users/jessicahong/NLP_study')"
   ]
  },
  {
   "cell_type": "code",
   "execution_count": 7,
   "id": "66e92012-a006-40cb-9535-69708a474086",
   "metadata": {},
   "outputs": [
    {
     "name": "stdout",
     "output_type": "stream",
     "text": [
      "✅ Project root set to (2 levels up): /Users/jessicahong/NLP_study\n"
     ]
    }
   ],
   "source": [
    "from utils import set_project_root\n",
    "set_project_root()"
   ]
  },
  {
   "cell_type": "code",
   "execution_count": 2,
   "id": "a5e7de65-4a0f-4f87-8a10-b2fd6f8c36c8",
   "metadata": {},
   "outputs": [],
   "source": [
    "import spacy"
   ]
  },
  {
   "cell_type": "code",
   "execution_count": 3,
   "id": "a299303d-7eea-4f03-b513-e07ebf0ffdf7",
   "metadata": {},
   "outputs": [],
   "source": [
    "#loads spaCy's large English language model, en_core_web_lg\n",
    "nlp  = spacy.load('en_core_web_lg')"
   ]
  },
  {
   "cell_type": "code",
   "execution_count": 4,
   "id": "5c864c91-9318-4037-84ec-adfd9bdf73ec",
   "metadata": {},
   "outputs": [
    {
     "data": {
      "text/plain": [
       "(300,)"
      ]
     },
     "execution_count": 4,
     "metadata": {},
     "output_type": "execute_result"
    }
   ],
   "source": [
    "#.shape reveals the dimensionality of the vector, typically (300,), meaning the word is represented in a 300-dimensional space.\n",
    "nlp(u'lion').vector.shape"
   ]
  },
  {
   "cell_type": "code",
   "execution_count": 5,
   "id": "69a8075e-dd0e-4400-8623-7713274c4cbf",
   "metadata": {},
   "outputs": [
    {
     "data": {
      "text/plain": [
       "(300,)"
      ]
     },
     "execution_count": 5,
     "metadata": {},
     "output_type": "execute_result"
    }
   ],
   "source": [
    "nlp(u'fox').vector.shape"
   ]
  },
  {
   "cell_type": "code",
   "execution_count": 6,
   "id": "5b2b8f13-42c5-4734-abe5-7dc8d7734f9b",
   "metadata": {},
   "outputs": [],
   "source": [
    "tokens = nlp(u'like love hate')"
   ]
  },
  {
   "cell_type": "code",
   "execution_count": 7,
   "id": "5cd4d568-3000-4426-8be9-7e7f9a2715a0",
   "metadata": {},
   "outputs": [
    {
     "name": "stdout",
     "output_type": "stream",
     "text": [
      "like like 1.0\n",
      "like love 0.6579040884971619\n",
      "like hate 0.6574652194976807\n",
      "love like 0.6579040884971619\n",
      "love love 1.0\n",
      "love hate 0.6393099427223206\n",
      "hate like 0.6574652194976807\n",
      "hate love 0.6393099427223206\n",
      "hate hate 1.0\n"
     ]
    }
   ],
   "source": [
    "'''\n",
    "nested loop calculates the semantic similarity between all pairs of tokens in the tokens object (a spaCy Doc or Span).\n",
    "token1.similarity(token2) returns a cosine similarity score based on their word vectors.\n",
    "Values close to 1.0 mean high similarity, and values closer to 0 mean low or no similarity.\n",
    "'''\n",
    "\n",
    "\n",
    "for token1 in tokens :\n",
    "    for token2 in tokens :\n",
    "        print (token1.text, token2.text, token1.similarity(token2))"
   ]
  },
  {
   "cell_type": "code",
   "execution_count": 8,
   "id": "3ef942ce-4320-414d-b0a1-984416a1ffad",
   "metadata": {},
   "outputs": [
    {
     "data": {
      "text/plain": [
       "342918"
      ]
     },
     "execution_count": 8,
     "metadata": {},
     "output_type": "execute_result"
    }
   ],
   "source": [
    "#checks how many word vectors are present\n",
    "len(nlp.vocab.vectors)"
   ]
  },
  {
   "cell_type": "code",
   "execution_count": 9,
   "id": "47534ec8-60cf-4d4a-9dbd-f003ee06a9b0",
   "metadata": {},
   "outputs": [
    {
     "data": {
      "text/plain": [
       "(342918, 300)"
      ]
     },
     "execution_count": 9,
     "metadata": {},
     "output_type": "execute_result"
    }
   ],
   "source": [
    "nlp.vocab.vectors.shape"
   ]
  },
  {
   "cell_type": "code",
   "execution_count": 10,
   "id": "d7538aaf-4e0f-4924-883b-dfe510be00bd",
   "metadata": {},
   "outputs": [],
   "source": [
    "tokens = nlp(u\"dog cat nurrgle hyeon\")"
   ]
  },
  {
   "cell_type": "code",
   "execution_count": 11,
   "id": "ac73ca1d-11b9-4ebc-8b52-01c2ecea55b5",
   "metadata": {},
   "outputs": [
    {
     "name": "stdout",
     "output_type": "stream",
     "text": [
      "dog True 7.0336733 False\n",
      "cat True 6.6808186 False\n",
      "nurrgle False 0.0 True\n",
      "hyeon True 8.470639 False\n"
     ]
    }
   ],
   "source": [
    "#token.text – The word itself.\n",
    "#token.has_vector – Whether this word has a word vector (True or False).\n",
    "#token.vector_norm – The norm (magnitude) of the word vector. A value of 0.0 usually means no vector is present.\n",
    "#token.is_oov – Whether the token is out of vocabulary (not included in the model's pretrained word vectors).\n",
    "\n",
    "for token in tokens :\n",
    "     print (token.text, token.has_vector, token.vector_norm, token.is_oov)"
   ]
  },
  {
   "cell_type": "code",
   "execution_count": 15,
   "id": "335be78a-a299-4f9c-a257-f6ecff1f600e",
   "metadata": {},
   "outputs": [],
   "source": [
    "#step 1 : imports the spatial module from scipy.\n",
    "#step 2 :  cosine_similarity ->omputes the cosine similarity between two vectors.\n",
    "#1 - spatial.distance.cosine(vec1, vec2) converts cosine distance to cosine similarity.\n",
    "#A result closer to 1 means higher similarity between the two vectors.\n",
    "#step 3 :It loads the large English SpaCy model (en_core_web_lg) that includes pretrained word vectors."
   ]
  },
  {
   "cell_type": "code",
   "execution_count": 16,
   "id": "3fd29c70-3ef9-4264-8e64-2d1f5edb7ca2",
   "metadata": {},
   "outputs": [],
   "source": [
    "from scipy import spatial\n",
    "cosine_similarity = lambda vec1, vec2: 1 - spatial.distance.cosine(vec1, vec2)\n",
    "\n",
    "nlp = spacy.load('en_core_web_lg')"
   ]
  },
  {
   "cell_type": "code",
   "execution_count": 17,
   "id": "4e727376-905e-48d6-9577-47dadef34138",
   "metadata": {},
   "outputs": [],
   "source": [
    "king = nlp.vocab['king'].vector\n",
    "man = nlp.vocab['man'].vector\n",
    "woman = nlp.vocab['woman'].vector"
   ]
  },
  {
   "cell_type": "code",
   "execution_count": 18,
   "id": "bcf09d76-8155-4226-b7bf-0e2f45190bf3",
   "metadata": {},
   "outputs": [],
   "source": [
    "#king-man+women ----> new vector similar with queen, princess, queen, highness"
   ]
  },
  {
   "cell_type": "code",
   "execution_count": 19,
   "id": "aaf7543c-7e1d-48cd-9b98-8bd9c6b4edb2",
   "metadata": {},
   "outputs": [],
   "source": [
    "new_vector = king-man+woman"
   ]
  },
  {
   "cell_type": "code",
   "execution_count": 20,
   "id": "7a6a55d8-8631-4e62-8572-5841f1f6a07f",
   "metadata": {},
   "outputs": [],
   "source": [
    "computed_similarities = []\n",
    "for word in nlp.vocab:\n",
    "    if word.has_vector and word.is_lower and word.is_alpha:\n",
    "        similarity = cosine_similarity(new_vector, word.vector)\n",
    "        computed_similarities.append((word, similarity))  # 정확한 이름!\n"
   ]
  },
  {
   "cell_type": "code",
   "execution_count": 21,
   "id": "6561c552-e293-4cf8-893c-686d341fefec",
   "metadata": {},
   "outputs": [
    {
     "name": "stdout",
     "output_type": "stream",
     "text": [
      "['king', 'woman', 'she', 'who', 'when', 'dare', 'was', 'not', 'or', 'had']\n"
     ]
    }
   ],
   "source": [
    "computed_similarities.sort(key=lambda x: -x[1])\n",
    "print([t[0].text for t in computed_similarities[:10]])"
   ]
  },
  {
   "cell_type": "code",
   "execution_count": 22,
   "id": "9605ee9a-7142-453a-b3c2-a1ef124aa096",
   "metadata": {},
   "outputs": [
    {
     "name": "stdout",
     "output_type": "stream",
     "text": [
      "107\n"
     ]
    }
   ],
   "source": [
    "print(len(computed_similarities))"
   ]
  },
  {
   "cell_type": "code",
   "execution_count": 23,
   "id": "defd51d1-b313-4277-a282-9c2b87e2229e",
   "metadata": {},
   "outputs": [],
   "source": [
    "# perform word vector arithmetic and find semantically similar words using SpaCy's pretrained vectors"
   ]
  },
  {
   "cell_type": "code",
   "execution_count": 24,
   "id": "ccfa79af-ddd4-4a42-aa4b-5501d78c8444",
   "metadata": {},
   "outputs": [
    {
     "data": {
      "text/plain": [
       "'\\nStep-by-step breakdown:\\nImports scipy.spatial and spacy.\\n\\nLoads the en_core_web_lg model, which includes pretrained word vectors.\\n\\nDefines a cosine similarity function using the cosine distance.\\n\\nRetrieves the vectors for \"king\", \"man\", and \"woman\".\\n\\nComputes a new vector via king - man + woman, which is a classic word analogy method (hoping for \"queen\").\\n\\nIterates over the SpaCy vocabulary:\\n\\nChecks that the word has a vector, is lowercase, and contains only alphabetic characters.\\n\\nCalculates cosine similarity between each word\\'s vector and the new vector.\\n\\nSorts the results by descending similarity.\\n\\nPrints the top 10 most similar words — ideally, you\\'ll see \"queen\" or similar concepts near the top.\\n'"
      ]
     },
     "execution_count": 24,
     "metadata": {},
     "output_type": "execute_result"
    }
   ],
   "source": [
    "#Step-by-step breakdown:\n",
    "#Imports scipy.spatial and spacy.\n",
    "#Loads the en_core_web_lg model, which includes pretrained word vectors.\n",
    "#Defines a cosine similarity function using the cosine distance.\n",
    "#Retrieves the vectors for \"king\", \"man\", and \"woman\".\n",
    "#Computes a new vector via king - man + woman, which is a classic word analogy method (hoping for \"queen\").\n",
    "#Iterates over the SpaCy vocabulary:\n",
    "#Checks that the word has a vector, is lowercase, and contains only alphabetic characters.\n",
    "#Calculates cosine similarity between each word's vector and the new vector.\n",
    "Sorts the results by descending similarity.\n",
    "Prints the top 10 most similar words — ideally, you'll see \"queen\" or similar concepts near the top.\n"
   ]
  },
  {
   "cell_type": "code",
   "execution_count": 70,
   "id": "272cdbbe-69a9-4378-aa00-bf67ba6845d9",
   "metadata": {},
   "outputs": [
    {
     "name": "stdout",
     "output_type": "stream",
     "text": [
      "['king', 'woman', 'she', 'who', 'when', 'dare', 'was', 'not', 'or', 'had']\n"
     ]
    }
   ],
   "source": [
    "from scipy import spatial\n",
    "import spacy\n",
    "\n",
    "nlp = spacy.load('en_core_web_lg')\n",
    "\n",
    "cosine_similarity = lambda vec1, vec2: 1 - spatial.distance.cosine(vec1, vec2)\n",
    "\n",
    "king = nlp.vocab['king'].vector\n",
    "man = nlp.vocab['man'].vector\n",
    "woman = nlp.vocab['woman'].vector\n",
    "\n",
    "new_vector = king - man + woman\n",
    "\n",
    "computed_similarities = []\n",
    "for word in nlp.vocab:\n",
    "    if word.has_vector and word.is_lower and word.is_alpha:\n",
    "        similarity = cosine_similarity(new_vector, word.vector)\n",
    "        computed_similarities.append((word, similarity))\n",
    "\n",
    "computed_similarities.sort(key=lambda x: -x[1])\n",
    "\n",
    "print([t[0].text for t in computed_similarities[:10]])\n"
   ]
  },
  {
   "cell_type": "code",
   "execution_count": null,
   "id": "be03ac29-015a-4c26-82e2-ed33a1d3907c",
   "metadata": {},
   "outputs": [],
   "source": []
  }
 ],
 "metadata": {
  "kernelspec": {
   "display_name": "Python 3 (ipykernel)",
   "language": "python",
   "name": "python3"
  },
  "language_info": {
   "codemirror_mode": {
    "name": "ipython",
    "version": 3
   },
   "file_extension": ".py",
   "mimetype": "text/x-python",
   "name": "python",
   "nbconvert_exporter": "python",
   "pygments_lexer": "ipython3",
   "version": "3.11.11"
  }
 },
 "nbformat": 4,
 "nbformat_minor": 5
}
