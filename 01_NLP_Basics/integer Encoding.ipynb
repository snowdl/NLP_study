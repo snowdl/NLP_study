{
 "cells": [
  {
   "cell_type": "code",
   "execution_count": 1,
   "id": "75247e8f-a269-480d-92ab-418ad19756da",
   "metadata": {},
   "outputs": [],
   "source": [
    "from nltk.tokenize import sent_tokenize\n",
    "from nltk.tokenize import word_tokenize\n",
    "from nltk.corpus import stopwords"
   ]
  },
  {
   "cell_type": "code",
   "execution_count": 2,
   "id": "88c1aa08-87c1-4c44-bec8-611a3947bc23",
   "metadata": {},
   "outputs": [],
   "source": [
    "raw_text = \"A barber is a person. a barber is good person. a barber is huge person. he Knew A Secret! The Secret He Kept is huge secret. Huge secret. His barber kept his word. a barber kept his word. His barber kept his secret. But keeping and keeping such a huge secret to himself was driving the barber crazy. the barber went up a huge mountain.\""
   ]
  },
  {
   "cell_type": "code",
   "execution_count": 3,
   "id": "565bf282-2a95-4077-8a3f-5b7a291a9dc0",
   "metadata": {},
   "outputs": [],
   "source": [
    "sentences = sent_tokenize(raw_text)"
   ]
  },
  {
   "cell_type": "code",
   "execution_count": 4,
   "id": "74ddf0c8-45de-45ac-bb81-dee124c736d8",
   "metadata": {},
   "outputs": [
    {
     "name": "stdout",
     "output_type": "stream",
     "text": [
      "['A barber is a person.', 'a barber is good person.', 'a barber is huge person.', 'he Knew A Secret!', 'The Secret He Kept is huge secret.', 'Huge secret.', 'His barber kept his word.', 'a barber kept his word.', 'His barber kept his secret.', 'But keeping and keeping such a huge secret to himself was driving the barber crazy.', 'the barber went up a huge mountain.']\n"
     ]
    }
   ],
   "source": [
    "print(sentences)"
   ]
  },
  {
   "cell_type": "code",
   "execution_count": 6,
   "id": "6897ef97-1738-4a37-864a-8cf24439a7c2",
   "metadata": {},
   "outputs": [
    {
     "name": "stdout",
     "output_type": "stream",
     "text": [
      "[['barber', 'person'], ['barber', 'good', 'person'], ['barber', 'huge', 'person'], ['knew', 'secret'], ['secret', 'kept', 'huge', 'secret'], ['huge', 'secret'], ['barber', 'kept', 'word'], ['barber', 'kept', 'word'], ['barber', 'kept', 'secret'], ['keeping', 'keeping', 'huge', 'secret', 'driving', 'barber', 'crazy'], ['barber', 'went', 'huge', 'mountain']]\n"
     ]
    }
   ],
   "source": [
    "#vocab: A dictionary to count the frequency of each word (a simple vocabulary).\n",
    "#preprocessed_sentences: A list to store each preprocessed sentence\n",
    "\n",
    "\n",
    "vocab = {}\n",
    "preprocessed_sentences = []\n",
    "stop_words = set(stopwords.words('english'))\n",
    "\n",
    "\n",
    "#Loop through each sentence in the input list = sentence\n",
    "\n",
    "for sentence in sentences:\n",
    "    #Break it down into individual words\n",
    "    tokenized_sentence = word_tokenize(sentence)\n",
    "    #Store the cleaned word \n",
    "    result = []\n",
    "\n",
    "    for word in tokenized_sentence: \n",
    "        word = word.lower() # convert all words to lowercase\n",
    "        if word not in stop_words: # remove common, uninformative words\n",
    "            if len(word) > 2: # filter out very shot words less then 2 chac\n",
    "                result.append(word) #add word to result\n",
    "                if word not in vocab: #update word frequency in the vocab\n",
    "                    vocab[word] = 0  #if the word hasnt appeared before , initialize its counts to 0\n",
    "                vocab[word] += 1#if the word has appeard, then increment the count by 1\n",
    "    preprocessed_sentences.append(result) \n",
    "print(preprocessed_sentences)\n"
   ]
  },
  {
   "cell_type": "code",
   "execution_count": 8,
   "id": "cea5b943-ad6d-478e-b430-6dca7647d555",
   "metadata": {},
   "outputs": [
    {
     "name": "stdout",
     "output_type": "stream",
     "text": [
      "barber: 8\n",
      "secret: 6\n",
      "huge: 5\n",
      "kept: 4\n",
      "person: 3\n",
      "word: 2\n",
      "keeping: 2\n",
      "good: 1\n",
      "knew: 1\n",
      "driving: 1\n"
     ]
    }
   ],
   "source": [
    "# Sort the vocabulary by frequency (descending order)\n",
    "sorted_vocab = sorted(vocab.items(), key=lambda item: item[1], reverse=True)\n",
    "\n",
    "# Print top N words\n",
    "for word, freq in sorted_vocab[:10]:  # top 10 words\n",
    "    print(f\"{word}: {freq}\")\n"
   ]
  },
  {
   "cell_type": "code",
   "execution_count": 9,
   "id": "d29662b4-a724-4398-8828-b2174947d384",
   "metadata": {},
   "outputs": [
    {
     "ename": "NameError",
     "evalue": "name 'word_to_index' is not defined",
     "output_type": "error",
     "traceback": [
      "\u001b[31m---------------------------------------------------------------------------\u001b[39m",
      "\u001b[31mNameError\u001b[39m                                 Traceback (most recent call last)",
      "\u001b[36mCell\u001b[39m\u001b[36m \u001b[39m\u001b[32mIn[9]\u001b[39m\u001b[32m, line 4\u001b[39m\n\u001b[32m      1\u001b[39m vocab_size = \u001b[32m5\u001b[39m\n\u001b[32m      3\u001b[39m \u001b[38;5;66;03m# 인덱스가 5 초과인 단어 제거\u001b[39;00m\n\u001b[32m----> \u001b[39m\u001b[32m4\u001b[39m words_frequency = [word \u001b[38;5;28;01mfor\u001b[39;00m word, index \u001b[38;5;129;01min\u001b[39;00m \u001b[43mword_to_index\u001b[49m.items() \u001b[38;5;28;01mif\u001b[39;00m index >= vocab_size + \u001b[32m1\u001b[39m]\n\u001b[32m      6\u001b[39m \u001b[38;5;66;03m# 해당 단어에 대한 인덱스 정보를 삭제\u001b[39;00m\n\u001b[32m      7\u001b[39m \u001b[38;5;28;01mfor\u001b[39;00m w \u001b[38;5;129;01min\u001b[39;00m words_frequency:\n",
      "\u001b[31mNameError\u001b[39m: name 'word_to_index' is not defined"
     ]
    }
   ],
   "source": [
    "vocab_size = 5\n",
    "\n",
    "# 인덱스가 5 초과인 단어 제거\n",
    "words_frequency = [word for word, index in word_to_index.items() if index >= vocab_size + 1]\n",
    "\n",
    "# 해당 단어에 대한 인덱스 정보를 삭제\n",
    "for w in words_frequency:\n",
    "    del word_to_index[w]\n",
    "print(word_to_index)\n"
   ]
  },
  {
   "cell_type": "code",
   "execution_count": null,
   "id": "73b7099c-b77e-4c2c-af25-140915df6ea9",
   "metadata": {},
   "outputs": [],
   "source": []
  }
 ],
 "metadata": {
  "kernelspec": {
   "display_name": "Python 3 (ipykernel)",
   "language": "python",
   "name": "python3"
  },
  "language_info": {
   "codemirror_mode": {
    "name": "ipython",
    "version": 3
   },
   "file_extension": ".py",
   "mimetype": "text/x-python",
   "name": "python",
   "nbconvert_exporter": "python",
   "pygments_lexer": "ipython3",
   "version": "3.11.11"
  }
 },
 "nbformat": 4,
 "nbformat_minor": 5
}
