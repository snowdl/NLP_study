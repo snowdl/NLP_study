{
 "cells": [
  {
   "cell_type": "code",
   "execution_count": 1,
   "id": "0f42bdc6-8ef4-4df1-97aa-d3d9b97bbc4c",
   "metadata": {},
   "outputs": [
    {
     "name": "stdout",
     "output_type": "stream",
     "text": [
      "Requirement already satisfied: ipynbname in ./12_data/.pyenv/versions/3.11.11/lib/python3.11/site-packages (2024.1.0.0)\n",
      "Requirement already satisfied: ipykernel in ./12_data/.pyenv/versions/3.11.11/lib/python3.11/site-packages (from ipynbname) (6.29.5)\n",
      "Requirement already satisfied: appnope in ./12_data/.pyenv/versions/3.11.11/lib/python3.11/site-packages (from ipykernel->ipynbname) (0.1.4)\n",
      "Requirement already satisfied: comm>=0.1.1 in ./12_data/.pyenv/versions/3.11.11/lib/python3.11/site-packages (from ipykernel->ipynbname) (0.2.2)\n",
      "Requirement already satisfied: debugpy>=1.6.5 in ./12_data/.pyenv/versions/3.11.11/lib/python3.11/site-packages (from ipykernel->ipynbname) (1.8.13)\n",
      "Requirement already satisfied: ipython>=7.23.1 in ./12_data/.pyenv/versions/3.11.11/lib/python3.11/site-packages (from ipykernel->ipynbname) (9.3.0)\n",
      "Requirement already satisfied: jupyter-client>=6.1.12 in ./12_data/.pyenv/versions/3.11.11/lib/python3.11/site-packages (from ipykernel->ipynbname) (8.6.3)\n",
      "Requirement already satisfied: jupyter-core!=5.0.*,>=4.12 in ./12_data/.pyenv/versions/3.11.11/lib/python3.11/site-packages (from ipykernel->ipynbname) (5.7.2)\n",
      "Requirement already satisfied: matplotlib-inline>=0.1 in ./12_data/.pyenv/versions/3.11.11/lib/python3.11/site-packages (from ipykernel->ipynbname) (0.1.7)\n",
      "Requirement already satisfied: nest-asyncio in ./12_data/.pyenv/versions/3.11.11/lib/python3.11/site-packages (from ipykernel->ipynbname) (1.6.0)\n",
      "Requirement already satisfied: packaging in ./12_data/.pyenv/versions/3.11.11/lib/python3.11/site-packages (from ipykernel->ipynbname) (24.2)\n",
      "Requirement already satisfied: psutil in ./12_data/.pyenv/versions/3.11.11/lib/python3.11/site-packages (from ipykernel->ipynbname) (7.0.0)\n",
      "Requirement already satisfied: pyzmq>=24 in ./12_data/.pyenv/versions/3.11.11/lib/python3.11/site-packages (from ipykernel->ipynbname) (26.3.0)\n",
      "Requirement already satisfied: tornado>=6.1 in ./12_data/.pyenv/versions/3.11.11/lib/python3.11/site-packages (from ipykernel->ipynbname) (6.4.2)\n",
      "Requirement already satisfied: traitlets>=5.4.0 in ./12_data/.pyenv/versions/3.11.11/lib/python3.11/site-packages (from ipykernel->ipynbname) (5.14.3)\n",
      "Requirement already satisfied: decorator in ./12_data/.pyenv/versions/3.11.11/lib/python3.11/site-packages (from ipython>=7.23.1->ipykernel->ipynbname) (5.2.1)\n",
      "Requirement already satisfied: ipython-pygments-lexers in ./12_data/.pyenv/versions/3.11.11/lib/python3.11/site-packages (from ipython>=7.23.1->ipykernel->ipynbname) (1.1.1)\n",
      "Requirement already satisfied: jedi>=0.16 in ./12_data/.pyenv/versions/3.11.11/lib/python3.11/site-packages (from ipython>=7.23.1->ipykernel->ipynbname) (0.19.2)\n",
      "Requirement already satisfied: pexpect>4.3 in ./12_data/.pyenv/versions/3.11.11/lib/python3.11/site-packages (from ipython>=7.23.1->ipykernel->ipynbname) (4.9.0)\n",
      "Requirement already satisfied: prompt_toolkit<3.1.0,>=3.0.41 in ./12_data/.pyenv/versions/3.11.11/lib/python3.11/site-packages (from ipython>=7.23.1->ipykernel->ipynbname) (3.0.51)\n",
      "Requirement already satisfied: pygments>=2.4.0 in ./12_data/.pyenv/versions/3.11.11/lib/python3.11/site-packages (from ipython>=7.23.1->ipykernel->ipynbname) (2.19.1)\n",
      "Requirement already satisfied: stack_data in ./12_data/.pyenv/versions/3.11.11/lib/python3.11/site-packages (from ipython>=7.23.1->ipykernel->ipynbname) (0.6.3)\n",
      "Requirement already satisfied: typing_extensions>=4.6 in ./12_data/.pyenv/versions/3.11.11/lib/python3.11/site-packages (from ipython>=7.23.1->ipykernel->ipynbname) (4.14.0)\n",
      "Requirement already satisfied: wcwidth in ./12_data/.pyenv/versions/3.11.11/lib/python3.11/site-packages (from prompt_toolkit<3.1.0,>=3.0.41->ipython>=7.23.1->ipykernel->ipynbname) (0.2.13)\n",
      "Requirement already satisfied: parso<0.9.0,>=0.8.4 in ./12_data/.pyenv/versions/3.11.11/lib/python3.11/site-packages (from jedi>=0.16->ipython>=7.23.1->ipykernel->ipynbname) (0.8.4)\n",
      "Requirement already satisfied: python-dateutil>=2.8.2 in ./12_data/.pyenv/versions/3.11.11/lib/python3.11/site-packages (from jupyter-client>=6.1.12->ipykernel->ipynbname) (2.8.2)\n",
      "Requirement already satisfied: platformdirs>=2.5 in ./12_data/.pyenv/versions/3.11.11/lib/python3.11/site-packages (from jupyter-core!=5.0.*,>=4.12->ipykernel->ipynbname) (4.3.7)\n",
      "Requirement already satisfied: ptyprocess>=0.5 in ./12_data/.pyenv/versions/3.11.11/lib/python3.11/site-packages (from pexpect>4.3->ipython>=7.23.1->ipykernel->ipynbname) (0.7.0)\n",
      "Requirement already satisfied: six>=1.5 in ./12_data/.pyenv/versions/3.11.11/lib/python3.11/site-packages (from python-dateutil>=2.8.2->jupyter-client>=6.1.12->ipykernel->ipynbname) (1.17.0)\n",
      "Requirement already satisfied: executing>=1.2.0 in ./12_data/.pyenv/versions/3.11.11/lib/python3.11/site-packages (from stack_data->ipython>=7.23.1->ipykernel->ipynbname) (2.2.0)\n",
      "Requirement already satisfied: asttokens>=2.1.0 in ./12_data/.pyenv/versions/3.11.11/lib/python3.11/site-packages (from stack_data->ipython>=7.23.1->ipykernel->ipynbname) (3.0.0)\n",
      "Requirement already satisfied: pure-eval in ./12_data/.pyenv/versions/3.11.11/lib/python3.11/site-packages (from stack_data->ipython>=7.23.1->ipykernel->ipynbname) (0.2.3)\n"
     ]
    }
   ],
   "source": [
    "!pip install ipynbname"
   ]
  },
  {
   "cell_type": "code",
   "execution_count": 5,
   "id": "967bd729-d835-4799-ab90-f2cf69314224",
   "metadata": {},
   "outputs": [],
   "source": [
    "import sys\n",
    "import os\n",
    "\n",
    "def set_project_root(levels_up=2):\n",
    "    \"\"\"\n",
    "    Add the project root directory (levels_up above current file) to sys.path\n",
    "    so Python can find modules/packages there.\n",
    "    \"\"\"\n",
    "    current_path = os.path.abspath(os.path.dirname(__file__))\n",
    "    project_root = current_path\n",
    "    for _ in range(levels_up):\n",
    "        project_root = os.path.dirname(project_root)\n",
    "\n",
    "    if project_root not in sys.path:\n",
    "        sys.path.insert(0, project_root)\n",
    "        print(f\"Project root set to ( {levels_up} levels up): {project_root}\")\n"
   ]
  },
  {
   "cell_type": "code",
   "execution_count": 1,
   "id": "75247e8f-a269-480d-92ab-418ad19756da",
   "metadata": {},
   "outputs": [],
   "source": [
    "from nltk.tokenize import sent_tokenize\n",
    "from nltk.tokenize import word_tokenize\n",
    "from nltk.corpus import stopwords"
   ]
  },
  {
   "cell_type": "code",
   "execution_count": 2,
   "id": "88c1aa08-87c1-4c44-bec8-611a3947bc23",
   "metadata": {},
   "outputs": [],
   "source": [
    "raw_text = \"A barber is a person. a barber is good person. a barber is huge person. he Knew A Secret! The Secret He Kept is huge secret. Huge secret. His barber kept his word. a barber kept his word. His barber kept his secret. But keeping and keeping such a huge secret to himself was driving the barber crazy. the barber went up a huge mountain.\""
   ]
  },
  {
   "cell_type": "code",
   "execution_count": 3,
   "id": "565bf282-2a95-4077-8a3f-5b7a291a9dc0",
   "metadata": {},
   "outputs": [],
   "source": [
    "sentences = sent_tokenize(raw_text)"
   ]
  },
  {
   "cell_type": "code",
   "execution_count": 4,
   "id": "74ddf0c8-45de-45ac-bb81-dee124c736d8",
   "metadata": {},
   "outputs": [
    {
     "name": "stdout",
     "output_type": "stream",
     "text": [
      "['A barber is a person.', 'a barber is good person.', 'a barber is huge person.', 'he Knew A Secret!', 'The Secret He Kept is huge secret.', 'Huge secret.', 'His barber kept his word.', 'a barber kept his word.', 'His barber kept his secret.', 'But keeping and keeping such a huge secret to himself was driving the barber crazy.', 'the barber went up a huge mountain.']\n"
     ]
    }
   ],
   "source": [
    "print(sentences)"
   ]
  },
  {
   "cell_type": "code",
   "execution_count": 6,
   "id": "6897ef97-1738-4a37-864a-8cf24439a7c2",
   "metadata": {},
   "outputs": [
    {
     "name": "stdout",
     "output_type": "stream",
     "text": [
      "[['barber', 'person'], ['barber', 'good', 'person'], ['barber', 'huge', 'person'], ['knew', 'secret'], ['secret', 'kept', 'huge', 'secret'], ['huge', 'secret'], ['barber', 'kept', 'word'], ['barber', 'kept', 'word'], ['barber', 'kept', 'secret'], ['keeping', 'keeping', 'huge', 'secret', 'driving', 'barber', 'crazy'], ['barber', 'went', 'huge', 'mountain']]\n"
     ]
    }
   ],
   "source": [
    "#vocab: A dictionary to count the frequency of each word (a simple vocabulary).\n",
    "#preprocessed_sentences: A list to store each preprocessed sentence\n",
    "\n",
    "\n",
    "vocab = {}\n",
    "preprocessed_sentences = []\n",
    "stop_words = set(stopwords.words('english'))\n",
    "\n",
    "\n",
    "#Loop through each sentence in the input list = sentence\n",
    "\n",
    "for sentence in sentences:\n",
    "    #Break it down into individual words\n",
    "    tokenized_sentence = word_tokenize(sentence)\n",
    "    #Store the cleaned word \n",
    "    result = []\n",
    "\n",
    "    for word in tokenized_sentence: \n",
    "        word = word.lower() # convert all words to lowercase\n",
    "        if word not in stop_words: # remove common, uninformative words\n",
    "            if len(word) > 2: # filter out very shot words less then 2 chac\n",
    "                result.append(word) #add word to result\n",
    "                if word not in vocab: #update word frequency in the vocab\n",
    "                    vocab[word] = 0  #if the word hasnt appeared before , initialize its counts to 0\n",
    "                vocab[word] += 1#if the word has appeard, then increment the count by 1\n",
    "    preprocessed_sentences.append(result) \n",
    "print(preprocessed_sentences)\n"
   ]
  },
  {
   "cell_type": "code",
   "execution_count": 8,
   "id": "cea5b943-ad6d-478e-b430-6dca7647d555",
   "metadata": {},
   "outputs": [
    {
     "name": "stdout",
     "output_type": "stream",
     "text": [
      "barber: 8\n",
      "secret: 6\n",
      "huge: 5\n",
      "kept: 4\n",
      "person: 3\n",
      "word: 2\n",
      "keeping: 2\n",
      "good: 1\n",
      "knew: 1\n",
      "driving: 1\n"
     ]
    }
   ],
   "source": [
    "# Sort the vocabulary by frequency (descending order)\n",
    "sorted_vocab = sorted(vocab.items(), key=lambda item: item[1], reverse=True)\n",
    "\n",
    "# Print top N words\n",
    "for word, freq in sorted_vocab[:10]:  # top 10 words\n",
    "    print(f\"{word}: {freq}\")\n"
   ]
  },
  {
   "cell_type": "code",
   "execution_count": 9,
   "id": "d29662b4-a724-4398-8828-b2174947d384",
   "metadata": {},
   "outputs": [
    {
     "ename": "NameError",
     "evalue": "name 'word_to_index' is not defined",
     "output_type": "error",
     "traceback": [
      "\u001b[31m---------------------------------------------------------------------------\u001b[39m",
      "\u001b[31mNameError\u001b[39m                                 Traceback (most recent call last)",
      "\u001b[36mCell\u001b[39m\u001b[36m \u001b[39m\u001b[32mIn[9]\u001b[39m\u001b[32m, line 4\u001b[39m\n\u001b[32m      1\u001b[39m vocab_size = \u001b[32m5\u001b[39m\n\u001b[32m      3\u001b[39m \u001b[38;5;66;03m# 인덱스가 5 초과인 단어 제거\u001b[39;00m\n\u001b[32m----> \u001b[39m\u001b[32m4\u001b[39m words_frequency = [word \u001b[38;5;28;01mfor\u001b[39;00m word, index \u001b[38;5;129;01min\u001b[39;00m \u001b[43mword_to_index\u001b[49m.items() \u001b[38;5;28;01mif\u001b[39;00m index >= vocab_size + \u001b[32m1\u001b[39m]\n\u001b[32m      6\u001b[39m \u001b[38;5;66;03m# 해당 단어에 대한 인덱스 정보를 삭제\u001b[39;00m\n\u001b[32m      7\u001b[39m \u001b[38;5;28;01mfor\u001b[39;00m w \u001b[38;5;129;01min\u001b[39;00m words_frequency:\n",
      "\u001b[31mNameError\u001b[39m: name 'word_to_index' is not defined"
     ]
    }
   ],
   "source": [
    "vocab_size = 5\n",
    "\n",
    "# 인덱스가 5 초과인 단어 제거\n",
    "words_frequency = [word for word, index in word_to_index.items() if index >= vocab_size + 1]\n",
    "\n",
    "# 해당 단어에 대한 인덱스 정보를 삭제\n",
    "for w in words_frequency:\n",
    "    del word_to_index[w]\n",
    "print(word_to_index)\n"
   ]
  },
  {
   "cell_type": "code",
   "execution_count": null,
   "id": "73b7099c-b77e-4c2c-af25-140915df6ea9",
   "metadata": {},
   "outputs": [],
   "source": []
  }
 ],
 "metadata": {
  "kernelspec": {
   "display_name": "Python 3 (ipykernel)",
   "language": "python",
   "name": "python3"
  },
  "language_info": {
   "codemirror_mode": {
    "name": "ipython",
    "version": 3
   },
   "file_extension": ".py",
   "mimetype": "text/x-python",
   "name": "python",
   "nbconvert_exporter": "python",
   "pygments_lexer": "ipython3",
   "version": "3.11.11"
  }
 },
 "nbformat": 4,
 "nbformat_minor": 5
}
