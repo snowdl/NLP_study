{
 "cells": [
  {
   "cell_type": "code",
   "execution_count": 1,
   "id": "96ca137e-e453-44c7-97d7-ef4ba985a518",
   "metadata": {},
   "outputs": [
    {
     "name": "stdout",
     "output_type": "stream",
     "text": [
      "Requirement already satisfied: ipynbname in /Users/jessicahong/.pyenv/versions/3.11.11/lib/python3.11/site-packages (2024.1.0.0)\n",
      "Requirement already satisfied: ipykernel in /Users/jessicahong/.pyenv/versions/3.11.11/lib/python3.11/site-packages (from ipynbname) (6.29.5)\n",
      "Requirement already satisfied: appnope in /Users/jessicahong/.pyenv/versions/3.11.11/lib/python3.11/site-packages (from ipykernel->ipynbname) (0.1.4)\n",
      "Requirement already satisfied: comm>=0.1.1 in /Users/jessicahong/.pyenv/versions/3.11.11/lib/python3.11/site-packages (from ipykernel->ipynbname) (0.2.2)\n",
      "Requirement already satisfied: debugpy>=1.6.5 in /Users/jessicahong/.pyenv/versions/3.11.11/lib/python3.11/site-packages (from ipykernel->ipynbname) (1.8.13)\n",
      "Requirement already satisfied: ipython>=7.23.1 in /Users/jessicahong/.pyenv/versions/3.11.11/lib/python3.11/site-packages (from ipykernel->ipynbname) (9.3.0)\n",
      "Requirement already satisfied: jupyter-client>=6.1.12 in /Users/jessicahong/.pyenv/versions/3.11.11/lib/python3.11/site-packages (from ipykernel->ipynbname) (8.6.3)\n",
      "Requirement already satisfied: jupyter-core!=5.0.*,>=4.12 in /Users/jessicahong/.pyenv/versions/3.11.11/lib/python3.11/site-packages (from ipykernel->ipynbname) (5.7.2)\n",
      "Requirement already satisfied: matplotlib-inline>=0.1 in /Users/jessicahong/.pyenv/versions/3.11.11/lib/python3.11/site-packages (from ipykernel->ipynbname) (0.1.7)\n",
      "Requirement already satisfied: nest-asyncio in /Users/jessicahong/.pyenv/versions/3.11.11/lib/python3.11/site-packages (from ipykernel->ipynbname) (1.6.0)\n",
      "Requirement already satisfied: packaging in /Users/jessicahong/.pyenv/versions/3.11.11/lib/python3.11/site-packages (from ipykernel->ipynbname) (24.2)\n",
      "Requirement already satisfied: psutil in /Users/jessicahong/.pyenv/versions/3.11.11/lib/python3.11/site-packages (from ipykernel->ipynbname) (7.0.0)\n",
      "Requirement already satisfied: pyzmq>=24 in /Users/jessicahong/.pyenv/versions/3.11.11/lib/python3.11/site-packages (from ipykernel->ipynbname) (26.3.0)\n",
      "Requirement already satisfied: tornado>=6.1 in /Users/jessicahong/.pyenv/versions/3.11.11/lib/python3.11/site-packages (from ipykernel->ipynbname) (6.4.2)\n",
      "Requirement already satisfied: traitlets>=5.4.0 in /Users/jessicahong/.pyenv/versions/3.11.11/lib/python3.11/site-packages (from ipykernel->ipynbname) (5.14.3)\n",
      "Requirement already satisfied: decorator in /Users/jessicahong/.pyenv/versions/3.11.11/lib/python3.11/site-packages (from ipython>=7.23.1->ipykernel->ipynbname) (5.2.1)\n",
      "Requirement already satisfied: ipython-pygments-lexers in /Users/jessicahong/.pyenv/versions/3.11.11/lib/python3.11/site-packages (from ipython>=7.23.1->ipykernel->ipynbname) (1.1.1)\n",
      "Requirement already satisfied: jedi>=0.16 in /Users/jessicahong/.pyenv/versions/3.11.11/lib/python3.11/site-packages (from ipython>=7.23.1->ipykernel->ipynbname) (0.19.2)\n",
      "Requirement already satisfied: pexpect>4.3 in /Users/jessicahong/.pyenv/versions/3.11.11/lib/python3.11/site-packages (from ipython>=7.23.1->ipykernel->ipynbname) (4.9.0)\n",
      "Requirement already satisfied: prompt_toolkit<3.1.0,>=3.0.41 in /Users/jessicahong/.pyenv/versions/3.11.11/lib/python3.11/site-packages (from ipython>=7.23.1->ipykernel->ipynbname) (3.0.51)\n",
      "Requirement already satisfied: pygments>=2.4.0 in /Users/jessicahong/.pyenv/versions/3.11.11/lib/python3.11/site-packages (from ipython>=7.23.1->ipykernel->ipynbname) (2.19.1)\n",
      "Requirement already satisfied: stack_data in /Users/jessicahong/.pyenv/versions/3.11.11/lib/python3.11/site-packages (from ipython>=7.23.1->ipykernel->ipynbname) (0.6.3)\n",
      "Requirement already satisfied: typing_extensions>=4.6 in /Users/jessicahong/.pyenv/versions/3.11.11/lib/python3.11/site-packages (from ipython>=7.23.1->ipykernel->ipynbname) (4.14.0)\n",
      "Requirement already satisfied: wcwidth in /Users/jessicahong/.pyenv/versions/3.11.11/lib/python3.11/site-packages (from prompt_toolkit<3.1.0,>=3.0.41->ipython>=7.23.1->ipykernel->ipynbname) (0.2.13)\n",
      "Requirement already satisfied: parso<0.9.0,>=0.8.4 in /Users/jessicahong/.pyenv/versions/3.11.11/lib/python3.11/site-packages (from jedi>=0.16->ipython>=7.23.1->ipykernel->ipynbname) (0.8.4)\n",
      "Requirement already satisfied: python-dateutil>=2.8.2 in /Users/jessicahong/.pyenv/versions/3.11.11/lib/python3.11/site-packages (from jupyter-client>=6.1.12->ipykernel->ipynbname) (2.8.2)\n",
      "Requirement already satisfied: platformdirs>=2.5 in /Users/jessicahong/.pyenv/versions/3.11.11/lib/python3.11/site-packages (from jupyter-core!=5.0.*,>=4.12->ipykernel->ipynbname) (4.3.7)\n",
      "Requirement already satisfied: ptyprocess>=0.5 in /Users/jessicahong/.pyenv/versions/3.11.11/lib/python3.11/site-packages (from pexpect>4.3->ipython>=7.23.1->ipykernel->ipynbname) (0.7.0)\n",
      "Requirement already satisfied: six>=1.5 in /Users/jessicahong/.pyenv/versions/3.11.11/lib/python3.11/site-packages (from python-dateutil>=2.8.2->jupyter-client>=6.1.12->ipykernel->ipynbname) (1.17.0)\n",
      "Requirement already satisfied: executing>=1.2.0 in /Users/jessicahong/.pyenv/versions/3.11.11/lib/python3.11/site-packages (from stack_data->ipython>=7.23.1->ipykernel->ipynbname) (2.2.0)\n",
      "Requirement already satisfied: asttokens>=2.1.0 in /Users/jessicahong/.pyenv/versions/3.11.11/lib/python3.11/site-packages (from stack_data->ipython>=7.23.1->ipykernel->ipynbname) (3.0.0)\n",
      "Requirement already satisfied: pure-eval in /Users/jessicahong/.pyenv/versions/3.11.11/lib/python3.11/site-packages (from stack_data->ipython>=7.23.1->ipykernel->ipynbname) (0.2.3)\n"
     ]
    }
   ],
   "source": [
    "!pip install ipynbname"
   ]
  },
  {
   "cell_type": "code",
   "execution_count": 4,
   "id": "68d40a37-2ca4-4729-8cf4-7fde3feeae66",
   "metadata": {},
   "outputs": [],
   "source": [
    "import sys\n",
    "import os\n",
    "\n",
    "def set_project_root(levels_up=2):\n",
    "    \"\"\"\n",
    "    Add the project root directory (levels_up above current file) to sys.path\n",
    "    so Python can find modules/packages there.\n",
    "    \"\"\"\n",
    "    current_path = os.path.abspath(os.path.dirname(__file__))\n",
    "    project_root = current_path\n",
    "    for _ in range(levels_up):\n",
    "        project_root = os.path.dirname(project_root)\n",
    "\n",
    "    if project_root not in sys.path:\n",
    "        sys.path.insert(0, project_root)\n",
    "        print(f\"Project root set to ( {levels_up} levels up): {project_root}\")"
   ]
  },
  {
   "cell_type": "code",
   "execution_count": 5,
   "id": "407f0ad3-c2be-4794-bd33-a37b4056e19a",
   "metadata": {},
   "outputs": [
    {
     "name": "stdout",
     "output_type": "stream",
     "text": [
      "Before lemmatization: ['policy', 'doing', 'organization', 'have', 'going', 'love', 'lives', 'fly', 'dies', 'watched', 'has', 'starting']\n",
      "After lemmatization: ['policy', 'doing', 'organization', 'have', 'going', 'love', 'life', 'fly', 'dy', 'watched', 'ha', 'starting']\n"
     ]
    }
   ],
   "source": [
    "from nltk.stem import WordNetLemmatizer\n",
    "\n",
    "# Create an instance of the WordNetLemmatizer\n",
    "lemmatizer = WordNetLemmatizer()\n",
    "\n",
    "\n",
    "# A list of words we want to lemmatize\n",
    "words = ['policy', 'doing', 'organization', 'have', 'going', 'love', 'lives', 'fly', 'dies', 'watched', 'has', 'starting']\n",
    "\n",
    "print('Before lemmatization:',words)\n",
    "print('After lemmatization:',[lemmatizer.lemmatize(word) for word in words])\n"
   ]
  },
  {
   "cell_type": "code",
   "execution_count": 6,
   "id": "51140379-9037-423e-b942-e2d5985bdccb",
   "metadata": {},
   "outputs": [
    {
     "data": {
      "text/plain": [
       "'die'"
      ]
     },
     "execution_count": 6,
     "metadata": {},
     "output_type": "execute_result"
    }
   ],
   "source": [
    "lemmatizer.lemmatize('dies', 'v')"
   ]
  },
  {
   "cell_type": "code",
   "execution_count": 7,
   "id": "f4c72a09-5692-4de6-8504-cde4fb78a21a",
   "metadata": {},
   "outputs": [
    {
     "data": {
      "text/plain": [
       "'watch'"
      ]
     },
     "execution_count": 7,
     "metadata": {},
     "output_type": "execute_result"
    }
   ],
   "source": [
    "lemmatizer.lemmatize('watched', 'v')"
   ]
  },
  {
   "cell_type": "code",
   "execution_count": 8,
   "id": "8b31b0a9-d737-4eba-a7c8-763f80fe8120",
   "metadata": {},
   "outputs": [
    {
     "data": {
      "text/plain": [
       "'have'"
      ]
     },
     "execution_count": 8,
     "metadata": {},
     "output_type": "execute_result"
    }
   ],
   "source": [
    "lemmatizer.lemmatize('has', 'v')"
   ]
  },
  {
   "cell_type": "code",
   "execution_count": 9,
   "id": "c224982b-56c2-481d-b713-c30669ab3f56",
   "metadata": {},
   "outputs": [
    {
     "name": "stderr",
     "output_type": "stream",
     "text": [
      "[nltk_data] Downloading package punkt to\n",
      "[nltk_data]     /Users/jessicahong/nltk_data...\n",
      "[nltk_data]   Package punkt is already up-to-date!\n",
      "[nltk_data] Downloading package punkt_tab to\n",
      "[nltk_data]     /Users/jessicahong/nltk_data...\n",
      "[nltk_data]   Package punkt_tab is already up-to-date!\n"
     ]
    },
    {
     "data": {
      "text/plain": [
       "True"
      ]
     },
     "execution_count": 9,
     "metadata": {},
     "output_type": "execute_result"
    }
   ],
   "source": [
    "import nltk\n",
    "nltk.download('punkt')\n",
    "nltk.download('punkt_tab')"
   ]
  },
  {
   "cell_type": "code",
   "execution_count": 23,
   "id": "90dd676d-8f3e-4444-8975-547d3520279f",
   "metadata": {},
   "outputs": [],
   "source": [
    "from nltk.stem import PorterStemmer\n",
    "from nltk.tokenize import word_tokenize\n",
    "\n",
    "stemmer = PorterStemmer()"
   ]
  },
  {
   "cell_type": "code",
   "execution_count": 24,
   "id": "639a888b-dfb1-4656-a945-2f3c70ee6668",
   "metadata": {},
   "outputs": [],
   "source": [
    "sentence = \"This was not the map we found in Billy Bones's chest, but an accurate copy, complete in all things--names and heights and soundings--with the single exception of the red crosses and the written notes.\"\n",
    "tokenized_sentence = word_tokenize(sentence)"
   ]
  },
  {
   "cell_type": "code",
   "execution_count": 25,
   "id": "c8ccbb24-96df-486b-a71a-8c711187729c",
   "metadata": {},
   "outputs": [
    {
     "name": "stdout",
     "output_type": "stream",
     "text": [
      "Stemmming before : ['This', 'was', 'not', 'the', 'map', 'we', 'found', 'in', 'Billy', 'Bones', \"'s\", 'chest', ',', 'but', 'an', 'accurate', 'copy', ',', 'complete', 'in', 'all', 'things', '--', 'names', 'and', 'heights', 'and', 'soundings', '--', 'with', 'the', 'single', 'exception', 'of', 'the', 'red', 'crosses', 'and', 'the', 'written', 'notes', '.']\n",
      "Stemming after : ['thi', 'wa', 'not', 'the', 'map', 'we', 'found', 'in', 'billi', 'bone', \"'s\", 'chest', ',', 'but', 'an', 'accur', 'copi', ',', 'complet', 'in', 'all', 'thing', '--', 'name', 'and', 'height', 'and', 'sound', '--', 'with', 'the', 'singl', 'except', 'of', 'the', 'red', 'cross', 'and', 'the', 'written', 'note', '.']\n"
     ]
    }
   ],
   "source": [
    "print('Stemmming before :', tokenized_sentence)\n",
    "print('Stemming after :',[stemmer.stem(word) for word in tokenized_sentence])"
   ]
  },
  {
   "cell_type": "code",
   "execution_count": 27,
   "id": "23bcfdd2-21de-4a2f-a7d6-e3ce63208e26",
   "metadata": {},
   "outputs": [
    {
     "name": "stdout",
     "output_type": "stream",
     "text": [
      "Stemmming before : ['formalize', 'allowance', 'electricical']\n",
      "Stemmming after: ['formal', 'allow', 'electric']\n"
     ]
    }
   ],
   "source": [
    "words = ['formalize', 'allowance', 'electricical']\n",
    "\n",
    "print('Stemmming before :',words)\n",
    "print('Stemmming after:',[stemmer.stem(word) for word in words])\n"
   ]
  },
  {
   "cell_type": "code",
   "execution_count": 29,
   "id": "32be834f-bb4d-456f-b9c4-b41e73aa5e03",
   "metadata": {},
   "outputs": [],
   "source": [
    "#comparison btw PorterStemmer& LancasterStemmer"
   ]
  },
  {
   "cell_type": "code",
   "execution_count": null,
   "id": "3df1cb48-5d63-4943-836c-5577f553d994",
   "metadata": {},
   "outputs": [],
   "source": [
    "from nltk.stem import PorterStemmer\n",
    "from nltk.stem import LancasterStemmer  # 이 줄이 추가되어야 합니다\n",
    "\n",
    "porter_stemmer = PorterStemmer()\n",
    "lancaster_stemmer = LancasterStemmer()\n",
    "\n",
    "words = ['policy', 'doing', 'organization', 'have', 'going', 'love', 'lives', 'fly', 'dies', 'watched', 'has', 'starting']\n",
    "print('어간 추출 전 :', words)\n",
    "print('PorterStemmer:', [porter_stemmer.stem(w) for w in words])\n",
    "print('LancasterStemmer:', [lancaster_stemmer.stem(w) for w in words])\n"
   ]
  },
  {
   "cell_type": "code",
   "execution_count": null,
   "id": "233e116a-700d-4706-833d-64a56152f7c1",
   "metadata": {},
   "outputs": [],
   "source": []
  }
 ],
 "metadata": {
  "kernelspec": {
   "display_name": "Python 3 (ipykernel)",
   "language": "python",
   "name": "python3"
  },
  "language_info": {
   "codemirror_mode": {
    "name": "ipython",
    "version": 3
   },
   "file_extension": ".py",
   "mimetype": "text/x-python",
   "name": "python",
   "nbconvert_exporter": "python",
   "pygments_lexer": "ipython3",
   "version": "3.11.11"
  }
 },
 "nbformat": 4,
 "nbformat_minor": 5
}
