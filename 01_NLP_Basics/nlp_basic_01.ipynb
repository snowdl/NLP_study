{
 "cells": [
  {
   "cell_type": "code",
   "execution_count": 1,
   "id": "1e3863b8-3426-4390-98b2-afea57b4cdf7",
   "metadata": {},
   "outputs": [
    {
     "name": "stdout",
     "output_type": "stream",
     "text": [
      "✅ display 임포트 성공\n"
     ]
    }
   ],
   "source": [
    "from IPython.display import display\n",
    "print(\"✅ display 임포트 성공\")\n"
   ]
  },
  {
   "cell_type": "code",
   "execution_count": 2,
   "id": "8d44c36d-c8b1-4ec2-a99a-89cbbc9fd425",
   "metadata": {},
   "outputs": [
    {
     "name": "stdout",
     "output_type": "stream",
     "text": [
      "./12_data/.pyenv/versions/3.11.11/lib/python3.11/site-packages/IPython/display.py\n"
     ]
    }
   ],
   "source": [
    "import IPython.display\n",
    "print(IPython.display.__file__)\n"
   ]
  },
  {
   "cell_type": "code",
   "execution_count": 3,
   "id": "fcd86195-bb87-4fdc-b94e-5451b9f10584",
   "metadata": {},
   "outputs": [],
   "source": [
    "import spacy\n",
    "\n",
    "nlp = spacy.load(\"en_core_web_sm\")\n",
    "mystring = \"This is a sample sentence.\"\n"
   ]
  },
  {
   "cell_type": "code",
   "execution_count": 4,
   "id": "8ab89bd2-e291-4fad-8a11-b7f5acd6d247",
   "metadata": {},
   "outputs": [],
   "source": [
    "mystring = '\"We\\'re moving to L.A.!\"'"
   ]
  },
  {
   "cell_type": "code",
   "execution_count": 5,
   "id": "564677bd-ee17-4082-a17a-ae45686b7f25",
   "metadata": {},
   "outputs": [
    {
     "name": "stdout",
     "output_type": "stream",
     "text": [
      "\"We're moving to L.A.!\"\n"
     ]
    }
   ],
   "source": [
    "print(mystring)"
   ]
  },
  {
   "cell_type": "code",
   "execution_count": 6,
   "id": "ea3f3973-9346-41a4-851a-c5254449c8d8",
   "metadata": {},
   "outputs": [],
   "source": [
    "nlp = spacy.load(\"en_core_web_sm\")\n",
    "\n",
    "mystring = \"This is a sample sentence.\"\n"
   ]
  },
  {
   "cell_type": "code",
   "execution_count": 7,
   "id": "28ea5892-2ca7-462c-bf3f-8a9a6e94dac1",
   "metadata": {},
   "outputs": [],
   "source": [
    "doc = nlp(mystring)"
   ]
  },
  {
   "cell_type": "code",
   "execution_count": 8,
   "id": "3023b194-f0f7-488f-bc26-4d392c883860",
   "metadata": {},
   "outputs": [
    {
     "name": "stdout",
     "output_type": "stream",
     "text": [
      "This\n",
      "is\n",
      "a\n",
      "sample\n",
      "sentence\n",
      ".\n"
     ]
    }
   ],
   "source": [
    "for token in doc:\n",
    "    print (token.text)"
   ]
  },
  {
   "cell_type": "code",
   "execution_count": 9,
   "id": "13feaba4-6d24-4ce4-b27f-0dce4fdcc6de",
   "metadata": {},
   "outputs": [],
   "source": [
    "doc2 = nlp(u\"We're here to help! Send snail-mail, email support@oursite.com or visit us at http://www.oursite.com !\")"
   ]
  },
  {
   "cell_type": "code",
   "execution_count": 10,
   "id": "c80ec6e7-60d4-4a12-8d64-083891af1af0",
   "metadata": {},
   "outputs": [
    {
     "name": "stdout",
     "output_type": "stream",
     "text": [
      "We\n",
      "'re\n",
      "here\n",
      "to\n",
      "help\n",
      "!\n",
      "Send\n",
      "snail\n",
      "-\n",
      "mail\n",
      ",\n",
      "email\n",
      "support@oursite.com\n",
      "or\n",
      "visit\n",
      "us\n",
      "at\n",
      "http://www.oursite.com\n",
      "!\n"
     ]
    }
   ],
   "source": [
    "for t in doc2:\n",
    "    print (t)"
   ]
  },
  {
   "cell_type": "code",
   "execution_count": 11,
   "id": "724b9a72-0b5a-4500-ac66-53835a9743b3",
   "metadata": {},
   "outputs": [],
   "source": [
    "doc3 = nlp(u\"A 5km NYC cab ride costs $10.30\")"
   ]
  },
  {
   "cell_type": "code",
   "execution_count": 12,
   "id": "aaf85b85-b60c-47f1-a572-9da2ab33bd1c",
   "metadata": {},
   "outputs": [
    {
     "name": "stdout",
     "output_type": "stream",
     "text": [
      "A\n",
      "5\n",
      "km\n",
      "NYC\n",
      "cab\n",
      "ride\n",
      "costs\n",
      "$\n",
      "10.30\n"
     ]
    }
   ],
   "source": [
    "for t in doc3:\n",
    "    print(t)"
   ]
  },
  {
   "cell_type": "code",
   "execution_count": 13,
   "id": "185a2c2b-fa4e-4303-b4eb-c955ce5121d2",
   "metadata": {},
   "outputs": [],
   "source": [
    "doc4= nlp(u\"Let's visit St.Luis in the U.S. next year .\")"
   ]
  },
  {
   "cell_type": "code",
   "execution_count": 14,
   "id": "be4438b6-417a-4635-996f-fdf851eaf898",
   "metadata": {},
   "outputs": [
    {
     "name": "stdout",
     "output_type": "stream",
     "text": [
      "Let\n",
      "'s\n",
      "visit\n",
      "St.\n",
      "Luis\n",
      "in\n",
      "the\n",
      "U.S.\n",
      "next\n",
      "year\n",
      ".\n"
     ]
    }
   ],
   "source": [
    "for t in doc4: \n",
    "    print(t)"
   ]
  },
  {
   "cell_type": "code",
   "execution_count": 15,
   "id": "d1ba7479-8791-4af9-b8e4-b1796426a045",
   "metadata": {},
   "outputs": [
    {
     "data": {
      "text/plain": [
       "11"
      ]
     },
     "execution_count": 15,
     "metadata": {},
     "output_type": "execute_result"
    }
   ],
   "source": [
    "len(doc4)"
   ]
  },
  {
   "cell_type": "code",
   "execution_count": 16,
   "id": "cbc7d293-3891-4942-998b-edb0cfffa003",
   "metadata": {},
   "outputs": [
    {
     "data": {
      "text/plain": [
       "794"
      ]
     },
     "execution_count": 16,
     "metadata": {},
     "output_type": "execute_result"
    }
   ],
   "source": [
    "len(doc4.vocab)"
   ]
  },
  {
   "cell_type": "code",
   "execution_count": 17,
   "id": "df1552d5-7130-405b-8f5d-323598f18a4f",
   "metadata": {},
   "outputs": [],
   "source": [
    "doc5 = nlp(u\"It is better to give than receive\")"
   ]
  },
  {
   "cell_type": "code",
   "execution_count": 18,
   "id": "1dda2593-09b1-4c8a-a1c9-b9b61ef2ecdd",
   "metadata": {},
   "outputs": [
    {
     "data": {
      "text/plain": [
       "It"
      ]
     },
     "execution_count": 18,
     "metadata": {},
     "output_type": "execute_result"
    }
   ],
   "source": [
    "doc5[0]"
   ]
  },
  {
   "cell_type": "code",
   "execution_count": 19,
   "id": "dbb157ed-894a-4485-a446-7717bb74dc23",
   "metadata": {},
   "outputs": [],
   "source": [
    "doc8= nlp(u\"Apple to build Hong Kong factory for $6 million \")"
   ]
  },
  {
   "cell_type": "code",
   "execution_count": 20,
   "id": "9ae67ddd-957b-486c-8890-694666aee3c3",
   "metadata": {},
   "outputs": [
    {
     "name": "stdout",
     "output_type": "stream",
     "text": [
      "Apple|to|build|Hong|Kong|factory|for|$|6|million|"
     ]
    }
   ],
   "source": [
    "for token in doc8:\n",
    "    print(token.text, end=\"|\")"
   ]
  },
  {
   "cell_type": "code",
   "execution_count": 21,
   "id": "9057ef8f-a54d-48cf-afdc-731811b40b94",
   "metadata": {},
   "outputs": [
    {
     "name": "stdout",
     "output_type": "stream",
     "text": [
      "Apple\n",
      "ORG\n",
      "Companies, agencies, institutions, etc.\n",
      "\n",
      "\n",
      "Hong Kong\n",
      "GPE\n",
      "Countries, cities, states\n",
      "\n",
      "\n",
      "$6 million\n",
      "MONEY\n",
      "Monetary values, including unit\n",
      "\n",
      "\n"
     ]
    }
   ],
   "source": [
    "for entity in doc8.ents:\n",
    "    print(entity)\n",
    "    print(entity.label_)\n",
    "    print(str(spacy.explain(entity.label_)))\n",
    "    print('\\n')"
   ]
  },
  {
   "cell_type": "code",
   "execution_count": 22,
   "id": "28b8d8ac-6fa9-4037-88f2-9911dd4f569b",
   "metadata": {},
   "outputs": [],
   "source": [
    "doc9 = nlp(u'Automonous cars shift insurance liablity toward manufactures.')"
   ]
  },
  {
   "cell_type": "code",
   "execution_count": 23,
   "id": "fdd502fa-8c1c-44ef-a81e-433292544f18",
   "metadata": {},
   "outputs": [
    {
     "name": "stdout",
     "output_type": "stream",
     "text": [
      "Automonous cars\n",
      "insurance liablity\n",
      "manufactures\n"
     ]
    }
   ],
   "source": [
    "for chunk in doc9.noun_chunks:\n",
    "    print(chunk)"
   ]
  },
  {
   "cell_type": "code",
   "execution_count": 24,
   "id": "c00efdf6-cb07-489d-952e-2f11f913a809",
   "metadata": {},
   "outputs": [],
   "source": [
    "from spacy import displacy"
   ]
  },
  {
   "cell_type": "code",
   "execution_count": 25,
   "id": "a4b28e28-b027-4f74-84a3-d6f2382b2e3b",
   "metadata": {},
   "outputs": [],
   "source": [
    "doc = nlp(u\"Apple is going to build a U.K. factory for $6 million\")"
   ]
  },
  {
   "cell_type": "code",
   "execution_count": 27,
   "id": "46797802-e9f1-4975-a45a-484509b79d72",
   "metadata": {},
   "outputs": [
    {
     "data": {
      "text/html": [
       "<svg xmlns=\"http://www.w3.org/2000/svg\" xmlns:xlink=\"http://www.w3.org/1999/xlink\" xml:lang=\"en\" id=\"e5fb6005af1645af9fb8c8bdbe5a02e0-0\" class=\"displacy\" width=\"750\" height=\"312.0\" direction=\"ltr\" style=\"max-width: none; height: 312.0px; color: #000000; background: #ffffff; font-family: Arial; direction: ltr\">\n",
       "<text class=\"displacy-token\" fill=\"currentColor\" text-anchor=\"middle\" y=\"222.0\">\n",
       "    <tspan class=\"displacy-word\" fill=\"currentColor\" x=\"50\">This</tspan>\n",
       "    <tspan class=\"displacy-tag\" dy=\"2em\" fill=\"currentColor\" x=\"50\">PRON</tspan>\n",
       "</text>\n",
       "\n",
       "<text class=\"displacy-token\" fill=\"currentColor\" text-anchor=\"middle\" y=\"222.0\">\n",
       "    <tspan class=\"displacy-word\" fill=\"currentColor\" x=\"225\">is</tspan>\n",
       "    <tspan class=\"displacy-tag\" dy=\"2em\" fill=\"currentColor\" x=\"225\">AUX</tspan>\n",
       "</text>\n",
       "\n",
       "<text class=\"displacy-token\" fill=\"currentColor\" text-anchor=\"middle\" y=\"222.0\">\n",
       "    <tspan class=\"displacy-word\" fill=\"currentColor\" x=\"400\">a</tspan>\n",
       "    <tspan class=\"displacy-tag\" dy=\"2em\" fill=\"currentColor\" x=\"400\">DET</tspan>\n",
       "</text>\n",
       "\n",
       "<text class=\"displacy-token\" fill=\"currentColor\" text-anchor=\"middle\" y=\"222.0\">\n",
       "    <tspan class=\"displacy-word\" fill=\"currentColor\" x=\"575\">sentence.</tspan>\n",
       "    <tspan class=\"displacy-tag\" dy=\"2em\" fill=\"currentColor\" x=\"575\">NOUN</tspan>\n",
       "</text>\n",
       "\n",
       "<g class=\"displacy-arrow\">\n",
       "    <path class=\"displacy-arc\" id=\"arrow-e5fb6005af1645af9fb8c8bdbe5a02e0-0-0\" stroke-width=\"2px\" d=\"M70,177.0 C70,89.5 220.0,89.5 220.0,177.0\" fill=\"none\" stroke=\"currentColor\"/>\n",
       "    <text dy=\"1.25em\" style=\"font-size: 0.8em; letter-spacing: 1px\">\n",
       "        <textPath xlink:href=\"#arrow-e5fb6005af1645af9fb8c8bdbe5a02e0-0-0\" class=\"displacy-label\" startOffset=\"50%\" side=\"left\" fill=\"currentColor\" text-anchor=\"middle\">nsubj</textPath>\n",
       "    </text>\n",
       "    <path class=\"displacy-arrowhead\" d=\"M70,179.0 L62,167.0 78,167.0\" fill=\"currentColor\"/>\n",
       "</g>\n",
       "\n",
       "<g class=\"displacy-arrow\">\n",
       "    <path class=\"displacy-arc\" id=\"arrow-e5fb6005af1645af9fb8c8bdbe5a02e0-0-1\" stroke-width=\"2px\" d=\"M420,177.0 C420,89.5 570.0,89.5 570.0,177.0\" fill=\"none\" stroke=\"currentColor\"/>\n",
       "    <text dy=\"1.25em\" style=\"font-size: 0.8em; letter-spacing: 1px\">\n",
       "        <textPath xlink:href=\"#arrow-e5fb6005af1645af9fb8c8bdbe5a02e0-0-1\" class=\"displacy-label\" startOffset=\"50%\" side=\"left\" fill=\"currentColor\" text-anchor=\"middle\">det</textPath>\n",
       "    </text>\n",
       "    <path class=\"displacy-arrowhead\" d=\"M420,179.0 L412,167.0 428,167.0\" fill=\"currentColor\"/>\n",
       "</g>\n",
       "\n",
       "<g class=\"displacy-arrow\">\n",
       "    <path class=\"displacy-arc\" id=\"arrow-e5fb6005af1645af9fb8c8bdbe5a02e0-0-2\" stroke-width=\"2px\" d=\"M245,177.0 C245,2.0 575.0,2.0 575.0,177.0\" fill=\"none\" stroke=\"currentColor\"/>\n",
       "    <text dy=\"1.25em\" style=\"font-size: 0.8em; letter-spacing: 1px\">\n",
       "        <textPath xlink:href=\"#arrow-e5fb6005af1645af9fb8c8bdbe5a02e0-0-2\" class=\"displacy-label\" startOffset=\"50%\" side=\"left\" fill=\"currentColor\" text-anchor=\"middle\">attr</textPath>\n",
       "    </text>\n",
       "    <path class=\"displacy-arrowhead\" d=\"M575.0,179.0 L583.0,167.0 567.0,167.0\" fill=\"currentColor\"/>\n",
       "</g>\n",
       "</svg>"
      ],
      "text/plain": [
       "<IPython.core.display.HTML object>"
      ]
     },
     "metadata": {},
     "output_type": "display_data"
    }
   ],
   "source": [
    "from spacy import displacy\n",
    "from IPython.display import display, HTML\n",
    "\n",
    "nlp = spacy.load(\"en_core_web_sm\")\n",
    "doc = nlp(\"This is a sentence.\")\n",
    "\n",
    "html = displacy.render(doc, style='dep', jupyter=False)  # jupyter=False로 해서 HTML 반환받기\n",
    "display(HTML(html))\n"
   ]
  },
  {
   "cell_type": "code",
   "execution_count": 31,
   "id": "e377b856-5055-4ef0-8f34-dbdbf5ba025f",
   "metadata": {},
   "outputs": [
    {
     "data": {
      "text/html": [
       "<svg xmlns=\"http://www.w3.org/2000/svg\" xmlns:xlink=\"http://www.w3.org/1999/xlink\" xml:lang=\"en\" id=\"41a9856582124d01a86c0926039d958b-0\" class=\"displacy\" width=\"300\" height=\"212.0\" direction=\"ltr\" style=\"max-width: none; height: 212.0px; color: #000000; background: #ffffff; font-family: Arial; direction: ltr\">\n",
       "<text class=\"displacy-token\" fill=\"currentColor\" text-anchor=\"middle\" y=\"122.0\">\n",
       "    <tspan class=\"displacy-word\" fill=\"currentColor\" x=\"50\">This</tspan>\n",
       "    <tspan class=\"displacy-tag\" dy=\"2em\" fill=\"currentColor\" x=\"50\">PRON</tspan>\n",
       "</text>\n",
       "\n",
       "<text class=\"displacy-token\" fill=\"currentColor\" text-anchor=\"middle\" y=\"122.0\">\n",
       "    <tspan class=\"displacy-word\" fill=\"currentColor\" x=\"100\">is</tspan>\n",
       "    <tspan class=\"displacy-tag\" dy=\"2em\" fill=\"currentColor\" x=\"100\">AUX</tspan>\n",
       "</text>\n",
       "\n",
       "<text class=\"displacy-token\" fill=\"currentColor\" text-anchor=\"middle\" y=\"122.0\">\n",
       "    <tspan class=\"displacy-word\" fill=\"currentColor\" x=\"150\">a</tspan>\n",
       "    <tspan class=\"displacy-tag\" dy=\"2em\" fill=\"currentColor\" x=\"150\">DET</tspan>\n",
       "</text>\n",
       "\n",
       "<text class=\"displacy-token\" fill=\"currentColor\" text-anchor=\"middle\" y=\"122.0\">\n",
       "    <tspan class=\"displacy-word\" fill=\"currentColor\" x=\"200\">sample</tspan>\n",
       "    <tspan class=\"displacy-tag\" dy=\"2em\" fill=\"currentColor\" x=\"200\">NOUN</tspan>\n",
       "</text>\n",
       "\n",
       "<text class=\"displacy-token\" fill=\"currentColor\" text-anchor=\"middle\" y=\"122.0\">\n",
       "    <tspan class=\"displacy-word\" fill=\"currentColor\" x=\"250\">sentence.</tspan>\n",
       "    <tspan class=\"displacy-tag\" dy=\"2em\" fill=\"currentColor\" x=\"250\">NOUN</tspan>\n",
       "</text>\n",
       "\n",
       "<g class=\"displacy-arrow\">\n",
       "    <path class=\"displacy-arc\" id=\"arrow-41a9856582124d01a86c0926039d958b-0-0\" stroke-width=\"2px\" d=\"M70,77.0 C70,52.0 90.0,52.0 90.0,77.0\" fill=\"none\" stroke=\"currentColor\"/>\n",
       "    <text dy=\"1.25em\" style=\"font-size: 0.8em; letter-spacing: 1px\">\n",
       "        <textPath xlink:href=\"#arrow-41a9856582124d01a86c0926039d958b-0-0\" class=\"displacy-label\" startOffset=\"50%\" side=\"left\" fill=\"currentColor\" text-anchor=\"middle\">nsubj</textPath>\n",
       "    </text>\n",
       "    <path class=\"displacy-arrowhead\" d=\"M70,79.0 L62,67.0 78,67.0\" fill=\"currentColor\"/>\n",
       "</g>\n",
       "\n",
       "<g class=\"displacy-arrow\">\n",
       "    <path class=\"displacy-arc\" id=\"arrow-41a9856582124d01a86c0926039d958b-0-1\" stroke-width=\"2px\" d=\"M170,77.0 C170,27.0 245.0,27.0 245.0,77.0\" fill=\"none\" stroke=\"currentColor\"/>\n",
       "    <text dy=\"1.25em\" style=\"font-size: 0.8em; letter-spacing: 1px\">\n",
       "        <textPath xlink:href=\"#arrow-41a9856582124d01a86c0926039d958b-0-1\" class=\"displacy-label\" startOffset=\"50%\" side=\"left\" fill=\"currentColor\" text-anchor=\"middle\">det</textPath>\n",
       "    </text>\n",
       "    <path class=\"displacy-arrowhead\" d=\"M170,79.0 L162,67.0 178,67.0\" fill=\"currentColor\"/>\n",
       "</g>\n",
       "\n",
       "<g class=\"displacy-arrow\">\n",
       "    <path class=\"displacy-arc\" id=\"arrow-41a9856582124d01a86c0926039d958b-0-2\" stroke-width=\"2px\" d=\"M220,77.0 C220,52.0 240.0,52.0 240.0,77.0\" fill=\"none\" stroke=\"currentColor\"/>\n",
       "    <text dy=\"1.25em\" style=\"font-size: 0.8em; letter-spacing: 1px\">\n",
       "        <textPath xlink:href=\"#arrow-41a9856582124d01a86c0926039d958b-0-2\" class=\"displacy-label\" startOffset=\"50%\" side=\"left\" fill=\"currentColor\" text-anchor=\"middle\">compound</textPath>\n",
       "    </text>\n",
       "    <path class=\"displacy-arrowhead\" d=\"M220,79.0 L212,67.0 228,67.0\" fill=\"currentColor\"/>\n",
       "</g>\n",
       "\n",
       "<g class=\"displacy-arrow\">\n",
       "    <path class=\"displacy-arc\" id=\"arrow-41a9856582124d01a86c0926039d958b-0-3\" stroke-width=\"2px\" d=\"M120,77.0 C120,2.0 250.0,2.0 250.0,77.0\" fill=\"none\" stroke=\"currentColor\"/>\n",
       "    <text dy=\"1.25em\" style=\"font-size: 0.8em; letter-spacing: 1px\">\n",
       "        <textPath xlink:href=\"#arrow-41a9856582124d01a86c0926039d958b-0-3\" class=\"displacy-label\" startOffset=\"50%\" side=\"left\" fill=\"currentColor\" text-anchor=\"middle\">attr</textPath>\n",
       "    </text>\n",
       "    <path class=\"displacy-arrowhead\" d=\"M250.0,79.0 L258.0,67.0 242.0,67.0\" fill=\"currentColor\"/>\n",
       "</g>\n",
       "</svg>"
      ],
      "text/plain": [
       "<IPython.core.display.HTML object>"
      ]
     },
     "metadata": {},
     "output_type": "display_data"
    }
   ],
   "source": [
    "from spacy import displacy\n",
    "from IPython.display import display, HTML\n",
    "import spacy\n",
    "\n",
    "nlp = spacy.load(\"en_core_web_sm\")\n",
    "doc = nlp(\"This is a sample sentence.\")\n",
    "\n",
    "# jupyter=False로 해서 html 코드 반환 받기\n",
    "html = displacy.render(doc, style='dep', jupyter=False, options={'distance': 50})\n",
    "\n",
    "# 직접 IPython.display의 display와 HTML로 화면에 출력\n",
    "display(HTML(html))\n"
   ]
  },
  {
   "cell_type": "code",
   "execution_count": 37,
   "id": "c28d393b-0190-41a7-997a-67ff9f884ea7",
   "metadata": {},
   "outputs": [],
   "source": [
    "doc1 = nlp(u\"over the last quarter Apple sold nearly 20 thousand ipods for profit of $6 million.\")"
   ]
  },
  {
   "cell_type": "code",
   "execution_count": 38,
   "id": "de369b8d-72da-4378-87e7-19a85c0b2812",
   "metadata": {},
   "outputs": [],
   "source": [
    "# jupyter=False로 해서 html 코드 반환 받기\n",
    "html = displacy.render(doc1, style='ent', jupyter=False, options={'distance': 50})"
   ]
  },
  {
   "cell_type": "code",
   "execution_count": 39,
   "id": "205060e4-642e-4dea-b1bc-535f5abce936",
   "metadata": {},
   "outputs": [
    {
     "data": {
      "text/html": [
       "<div class=\"entities\" style=\"line-height: 2.5; direction: ltr\">over \n",
       "<mark class=\"entity\" style=\"background: #bfe1d9; padding: 0.45em 0.6em; margin: 0 0.25em; line-height: 1; border-radius: 0.35em;\">\n",
       "    the last quarter\n",
       "    <span style=\"font-size: 0.8em; font-weight: bold; line-height: 1; border-radius: 0.35em; vertical-align: middle; margin-left: 0.5rem\">DATE</span>\n",
       "</mark>\n",
       " \n",
       "<mark class=\"entity\" style=\"background: #7aecec; padding: 0.45em 0.6em; margin: 0 0.25em; line-height: 1; border-radius: 0.35em;\">\n",
       "    Apple\n",
       "    <span style=\"font-size: 0.8em; font-weight: bold; line-height: 1; border-radius: 0.35em; vertical-align: middle; margin-left: 0.5rem\">ORG</span>\n",
       "</mark>\n",
       " sold \n",
       "<mark class=\"entity\" style=\"background: #e4e7d2; padding: 0.45em 0.6em; margin: 0 0.25em; line-height: 1; border-radius: 0.35em;\">\n",
       "    nearly 20 thousand\n",
       "    <span style=\"font-size: 0.8em; font-weight: bold; line-height: 1; border-radius: 0.35em; vertical-align: middle; margin-left: 0.5rem\">CARDINAL</span>\n",
       "</mark>\n",
       " ipods for profit of \n",
       "<mark class=\"entity\" style=\"background: #e4e7d2; padding: 0.45em 0.6em; margin: 0 0.25em; line-height: 1; border-radius: 0.35em;\">\n",
       "    $6 million\n",
       "    <span style=\"font-size: 0.8em; font-weight: bold; line-height: 1; border-radius: 0.35em; vertical-align: middle; margin-left: 0.5rem\">MONEY</span>\n",
       "</mark>\n",
       ".</div>"
      ],
      "text/plain": [
       "<IPython.core.display.HTML object>"
      ]
     },
     "metadata": {},
     "output_type": "display_data"
    }
   ],
   "source": [
    "display(HTML(html))"
   ]
  },
  {
   "cell_type": "code",
   "execution_count": 43,
   "id": "28b0f3f9-8879-4af8-b00f-13190937774f",
   "metadata": {},
   "outputs": [],
   "source": [
    "import nltk"
   ]
  },
  {
   "cell_type": "code",
   "execution_count": 44,
   "id": "aaf645a4-ae0f-48b7-938a-2e2b08daa92c",
   "metadata": {},
   "outputs": [],
   "source": [
    "from nltk.stem.porter import PorterStemmer"
   ]
  },
  {
   "cell_type": "code",
   "execution_count": 45,
   "id": "e4f542bc-9f86-4652-b49a-676492a18ef7",
   "metadata": {},
   "outputs": [],
   "source": [
    "p_stemmer = PorterStemmer()"
   ]
  },
  {
   "cell_type": "code",
   "execution_count": 54,
   "id": "77712236-22ea-48a3-a561-f883a6334b49",
   "metadata": {},
   "outputs": [],
   "source": [
    "words = ['run', 'runner', 'ran', 'runs', 'easily', 'fairly', 'fairness']"
   ]
  },
  {
   "cell_type": "code",
   "execution_count": 55,
   "id": "78a4a85a-d813-415e-b6ec-69bbfd565171",
   "metadata": {},
   "outputs": [
    {
     "name": "stdout",
     "output_type": "stream",
     "text": [
      "run----------->run\n",
      "runner----------->runner\n",
      "ran----------->ran\n",
      "runs----------->run\n",
      "easily----------->easili\n",
      "fairly----------->fairli\n",
      "fairness----------->fair\n"
     ]
    }
   ],
   "source": [
    "for word in words:\n",
    "    print(word +'----------->' + p_stemmer.stem(word))"
   ]
  },
  {
   "cell_type": "code",
   "execution_count": 56,
   "id": "ec087938-19bb-4456-bea2-ea200981dd86",
   "metadata": {},
   "outputs": [],
   "source": [
    "from nltk.stem.snowball import SnowballStemmer"
   ]
  },
  {
   "cell_type": "code",
   "execution_count": 57,
   "id": "01ceb24d-4690-47bf-b155-cca71bf8d6a7",
   "metadata": {},
   "outputs": [],
   "source": [
    "s_stemmer = SnowballStemmer(language = 'english')"
   ]
  },
  {
   "cell_type": "code",
   "execution_count": 58,
   "id": "21f2c582-5bde-4a7a-bd4d-4c546a51883c",
   "metadata": {},
   "outputs": [
    {
     "name": "stdout",
     "output_type": "stream",
     "text": [
      "run----------->run\n",
      "runner----------->runner\n",
      "ran----------->ran\n",
      "runs----------->run\n",
      "easily----------->easili\n",
      "fairly----------->fair\n",
      "fairness----------->fair\n"
     ]
    }
   ],
   "source": [
    "for word in words:\n",
    "    print(word +'----------->' + s_stemmer.stem(word))"
   ]
  },
  {
   "cell_type": "code",
   "execution_count": 59,
   "id": "5ab3c800-47c9-47df-811e-64b72e912092",
   "metadata": {},
   "outputs": [],
   "source": [
    "import spacy"
   ]
  },
  {
   "cell_type": "code",
   "execution_count": 60,
   "id": "7338b00e-13c4-449f-b680-f50a42c452ea",
   "metadata": {},
   "outputs": [],
   "source": [
    "nlp = spacy.load('en_core_web_sm')"
   ]
  },
  {
   "cell_type": "code",
   "execution_count": 61,
   "id": "02f7745e-e9d0-4555-8917-fbda48148051",
   "metadata": {},
   "outputs": [],
   "source": [
    "doc1 = nlp(u\"I am a runner running in a race bacuse i love to run since i ran today\")"
   ]
  },
  {
   "cell_type": "code",
   "execution_count": 64,
   "id": "a26e3a69-83ae-47c0-bac6-aa46374c256f",
   "metadata": {},
   "outputs": [
    {
     "name": "stdout",
     "output_type": "stream",
     "text": [
      "I \t PRON \t 4690420944186131903 \t I\n",
      "am \t AUX \t 10382539506755952630 \t be\n",
      "a \t DET \t 11901859001352538922 \t a\n",
      "runner \t NOUN \t 12640964157389618806 \t runner\n",
      "running \t VERB \t 12767647472892411841 \t run\n",
      "in \t ADP \t 3002984154512732771 \t in\n",
      "a \t DET \t 11901859001352538922 \t a\n",
      "race \t NOUN \t 8048469955494714898 \t race\n",
      "bacuse \t NOUN \t 13914954021707382566 \t bacuse\n",
      "i \t PRON \t 4690420944186131903 \t I\n",
      "love \t VERB \t 3702023516439754181 \t love\n",
      "to \t PART \t 3791531372978436496 \t to\n",
      "run \t VERB \t 12767647472892411841 \t run\n",
      "since \t SCONJ \t 10066841407251338481 \t since\n",
      "i \t PRON \t 4690420944186131903 \t I\n",
      "ran \t VERB \t 12767647472892411841 \t run\n",
      "today \t NOUN \t 11042482332948150395 \t today\n"
     ]
    }
   ],
   "source": [
    "for token in doc1:\n",
    "    print(token.text, '\\t', token.pos_, '\\t', token.lemma, '\\t', token.lemma_)"
   ]
  },
  {
   "cell_type": "code",
   "execution_count": 66,
   "id": "67e94d15-4120-4672-adb6-ad15fd6f58d9",
   "metadata": {},
   "outputs": [],
   "source": [
    "def show_lemmas (text):\n",
    "    for token in text:\n",
    "        print(f'{token.text:{12}} {token.pos_:{6}} {token.lemma:{22}} {token.lemma_}')"
   ]
  },
  {
   "cell_type": "code",
   "execution_count": 67,
   "id": "35e5862c-9a42-400d-bed0-9a50a66e931d",
   "metadata": {},
   "outputs": [],
   "source": [
    "doc2 = nlp(u\"I asw ten mice today\")"
   ]
  },
  {
   "cell_type": "code",
   "execution_count": 68,
   "id": "1e1cd96d-474e-4e10-8b7b-9e334af61333",
   "metadata": {},
   "outputs": [
    {
     "name": "stdout",
     "output_type": "stream",
     "text": [
      "I            PRON      4690420944186131903 I\n",
      "asw          VERB      8255362040552702296 asw\n",
      "ten          NUM       7970704286052693043 ten\n",
      "mice         NOUN      1384165645700560590 mouse\n",
      "today        NOUN     11042482332948150395 today\n"
     ]
    }
   ],
   "source": [
    "show_lemmas(doc2)"
   ]
  },
  {
   "cell_type": "code",
   "execution_count": 69,
   "id": "40af8422-c582-42f8-8e73-4eb499185ef2",
   "metadata": {},
   "outputs": [],
   "source": [
    "import spacy"
   ]
  },
  {
   "cell_type": "code",
   "execution_count": 70,
   "id": "8b3a1ce3-7899-4f03-9570-71562dff6cf0",
   "metadata": {},
   "outputs": [],
   "source": [
    "nlp = spacy.load('en_core_web_sm')"
   ]
  },
  {
   "cell_type": "code",
   "execution_count": 71,
   "id": "e27633cf-4889-4cea-bac8-c3d1dc16fd08",
   "metadata": {},
   "outputs": [
    {
     "name": "stdout",
     "output_type": "stream",
     "text": [
      "{'seeming', 'take', 'most', 'had', 'thus', 'whole', '’re', 'then', 'someone', 'ours', 'will', 'other', 'though', 'under', 'again', 'one', 'towards', 'always', 'herself', '’m', 'neither', 'still', 'themselves', 'top', 'much', 'hereafter', 'may', 'which', 'afterwards', 'however', 'above', '‘re', 'who', 'besides', 'are', 'become', 'each', 'further', 'four', 'well', 'him', 'name', 'also', 'every', 'except', 'namely', 'those', 'none', 'yet', 'hereby', 'wherein', 'bottom', 'everywhere', 'anyhow', 'either', '‘ll', 'from', 'any', 'moreover', 'against', 'hence', 'mostly', 'upon', 'both', 'nowhere', '‘d', 'itself', 'if', 'his', 'alone', 'sixty', 'latter', 'per', 'might', 'unless', 'when', 'up', 'seem', 'what', 'due', 'six', 'full', 'several', 'must', 'no', 'was', 'ten', 'my', '’ll', 'thereby', 'whatever', 're', 'without', 'n’t', 'such', \"'s\", \"'m\", 'although', 'seems', 'of', 'me', 'once', 'thence', 'used', 'these', 'therein', 'whereas', 'while', 'would', 'has', 'until', 'whereupon', 'since', 'empty', 'himself', 'everything', 'your', 'does', 'doing', 'with', 'we', 'a', 'through', 'they', 'just', 'regarding', 'five', 'should', 'beside', 'meanwhile', 'say', 'did', 'why', 'often', 'more', 'anyone', 'something', 'anyway', 'last', 'been', 'less', 'via', 'along', 'into', 'there', 'it', 'indeed', 'using', 'whose', 'herein', 'nothing', 'nine', 'am', 'becomes', '’s', '’d', 'down', 'otherwise', 'another', 'own', 'others', 'its', 'fifty', 'around', 'go', 'being', 'anything', 'made', 'former', 'the', 'give', 'becoming', 'i', 'twenty', \"'d\", 'whereby', 'among', 'part', 'became', 'move', 'see', 'for', 'too', 'and', 'even', 'below', 'together', 'wherever', 'quite', 'sometimes', 'somewhere', 'where', 'out', 'formerly', 'back', 'never', 'whom', '‘ve', '‘m', 'whenever', 'make', 'three', 'across', 'throughout', 'put', 'yourselves', \"'ll\", 'few', 'first', 'latterly', 'be', 'really', 'as', 'very', 'by', 'how', 'keep', 'forty', 'eleven', 'us', 'n‘t', 'fifteen', 'an', 'hereupon', 'them', 'amongst', 'whoever', 'could', 'ourselves', 'than', 'please', 'you', 'have', 'she', 'elsewhere', 'behind', 'whereafter', 'that', 'enough', 'only', 'is', 'sometime', 'whither', 'nobody', 'eight', 'rather', 'so', 'hers', 'thru', 'almost', 'anywhere', 'can', 'already', 'nevertheless', 'done', 'amount', 'ca', 'front', 'to', 'yours', 'onto', 'noone', \"'re\", 'now', 'during', 'whether', '’ve', 'side', 'beforehand', 'perhaps', 'everyone', 'least', 'within', 'he', 'call', 'hundred', 'over', 'next', 'were', 'myself', 'not', \"n't\", 'off', 'show', 'thereafter', 'our', \"'ve\", 'whence', 'seemed', 'between', 'mine', '‘s', 'after', 'their', 'but', 'various', 'cannot', 'about', 'therefore', 'before', 'or', 'do', 'get', 'twelve', 'thereupon', 'same', 'many', 'beyond', 'ever', 'all', 'because', 'her', 'two', 'third', 'on', 'yourself', 'toward', 'else', 'serious', 'some', 'this', 'here', 'in', 'nor', 'at', 'somehow'}\n"
     ]
    }
   ],
   "source": [
    "print(nlp.Defaults.stop_words)"
   ]
  },
  {
   "cell_type": "code",
   "execution_count": 72,
   "id": "6759bda1-1ae1-4915-adca-ac53b8d71019",
   "metadata": {},
   "outputs": [
    {
     "data": {
      "text/plain": [
       "326"
      ]
     },
     "execution_count": 72,
     "metadata": {},
     "output_type": "execute_result"
    }
   ],
   "source": [
    "len(nlp.Defaults.stop_words)"
   ]
  },
  {
   "cell_type": "code",
   "execution_count": 73,
   "id": "a088921c-c67b-4385-b9a8-a338aae360aa",
   "metadata": {},
   "outputs": [
    {
     "data": {
      "text/plain": [
       "False"
      ]
     },
     "execution_count": 73,
     "metadata": {},
     "output_type": "execute_result"
    }
   ],
   "source": [
    "nlp.vocab['mystery'].is_stop"
   ]
  },
  {
   "cell_type": "code",
   "execution_count": 74,
   "id": "e2a51e14-c7d8-48ec-9c33-331ac4c9ed4f",
   "metadata": {},
   "outputs": [
    {
     "data": {
      "text/plain": [
       "False"
      ]
     },
     "execution_count": 74,
     "metadata": {},
     "output_type": "execute_result"
    }
   ],
   "source": [
    "nlp.vocab['release'].is_stop"
   ]
  },
  {
   "cell_type": "code",
   "execution_count": 75,
   "id": "74acd190-e512-45bb-8f6f-ab2722cdccc8",
   "metadata": {},
   "outputs": [
    {
     "data": {
      "text/plain": [
       "False"
      ]
     },
     "execution_count": 75,
     "metadata": {},
     "output_type": "execute_result"
    }
   ],
   "source": [
    "nlp.vocab['btw'].is_stop"
   ]
  },
  {
   "cell_type": "code",
   "execution_count": 76,
   "id": "dcd07d3e-e29e-4038-809a-2c3226c9017a",
   "metadata": {},
   "outputs": [],
   "source": [
    "nlp.Defaults.stop_words.add('btw')"
   ]
  },
  {
   "cell_type": "code",
   "execution_count": 78,
   "id": "a250c356-5c86-43d0-a6f9-2811a954b9bb",
   "metadata": {},
   "outputs": [],
   "source": [
    "nlp.vocab['btw'].is_stop =True"
   ]
  },
  {
   "cell_type": "code",
   "execution_count": 79,
   "id": "0e8e3735-d947-43da-8008-6815533326b7",
   "metadata": {},
   "outputs": [
    {
     "data": {
      "text/plain": [
       "327"
      ]
     },
     "execution_count": 79,
     "metadata": {},
     "output_type": "execute_result"
    }
   ],
   "source": [
    "len(nlp.Defaults.stop_words)"
   ]
  },
  {
   "cell_type": "code",
   "execution_count": 80,
   "id": "736afacf-6d18-4bf6-9139-1c7fecb64649",
   "metadata": {},
   "outputs": [
    {
     "data": {
      "text/plain": [
       "True"
      ]
     },
     "execution_count": 80,
     "metadata": {},
     "output_type": "execute_result"
    }
   ],
   "source": [
    "nlp.vocab['btw'].is_stop"
   ]
  },
  {
   "cell_type": "code",
   "execution_count": 81,
   "id": "7ba204c4-e5fc-4567-878b-53c4b77600a9",
   "metadata": {},
   "outputs": [],
   "source": [
    "nlp.Defaults.stop_words.remove('beyond')"
   ]
  },
  {
   "cell_type": "code",
   "execution_count": 83,
   "id": "4c199cb2-0df6-4d5d-b389-2af3bbab3bad",
   "metadata": {},
   "outputs": [],
   "source": [
    "nlp.vocab['beyond'].is_stop = False"
   ]
  },
  {
   "cell_type": "code",
   "execution_count": 84,
   "id": "e180e729-eab4-4cee-84f3-97b6641fc960",
   "metadata": {},
   "outputs": [
    {
     "data": {
      "text/plain": [
       "326"
      ]
     },
     "execution_count": 84,
     "metadata": {},
     "output_type": "execute_result"
    }
   ],
   "source": [
    "len(nlp.Defaults.stop_words)"
   ]
  },
  {
   "cell_type": "code",
   "execution_count": 85,
   "id": "c8cd7f39-8f79-4cd4-b33c-992cd1095a03",
   "metadata": {},
   "outputs": [
    {
     "data": {
      "text/plain": [
       "False"
      ]
     },
     "execution_count": 85,
     "metadata": {},
     "output_type": "execute_result"
    }
   ],
   "source": [
    "nlp.vocab['beyond'].is_stop"
   ]
  },
  {
   "cell_type": "code",
   "execution_count": 86,
   "id": "2237e23e-11e9-4419-b55a-3e289fdea6c8",
   "metadata": {},
   "outputs": [],
   "source": [
    "import spacy"
   ]
  },
  {
   "cell_type": "code",
   "execution_count": null,
   "id": "b1a1cb17-e118-4363-be36-559de821948a",
   "metadata": {},
   "outputs": [],
   "source": []
  }
 ],
 "metadata": {
  "kernelspec": {
   "display_name": "Python 3 (ipykernel)",
   "language": "python",
   "name": "python3"
  },
  "language_info": {
   "codemirror_mode": {
    "name": "ipython",
    "version": 3
   },
   "file_extension": ".py",
   "mimetype": "text/x-python",
   "name": "python",
   "nbconvert_exporter": "python",
   "pygments_lexer": "ipython3",
   "version": "3.11.11"
  }
 },
 "nbformat": 4,
 "nbformat_minor": 5
}
