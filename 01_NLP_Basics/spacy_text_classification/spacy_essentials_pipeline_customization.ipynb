{
 "cells": [
  {
   "cell_type": "code",
   "execution_count": 32,
   "id": "f731defd-728d-49ca-a736-9c14698e43a4",
   "metadata": {},
   "outputs": [
    {
     "name": "stdout",
     "output_type": "stream",
     "text": [
      "Found existing installation: spacy 3.8.7\n",
      "Uninstalling spacy-3.8.7:\n",
      "  Successfully uninstalled spacy-3.8.7\n",
      "Collecting spacy\n",
      "  Using cached spacy-3.8.7-cp311-cp311-macosx_11_0_arm64.whl.metadata (27 kB)\n",
      "Requirement already satisfied: spacy-legacy<3.1.0,>=3.0.11 in /Users/jessicahong/.pyenv/versions/3.11.11/lib/python3.11/site-packages (from spacy) (3.0.12)\n",
      "Requirement already satisfied: spacy-loggers<2.0.0,>=1.0.0 in /Users/jessicahong/.pyenv/versions/3.11.11/lib/python3.11/site-packages (from spacy) (1.0.5)\n",
      "Requirement already satisfied: murmurhash<1.1.0,>=0.28.0 in /Users/jessicahong/.pyenv/versions/3.11.11/lib/python3.11/site-packages (from spacy) (1.0.13)\n",
      "Requirement already satisfied: cymem<2.1.0,>=2.0.2 in /Users/jessicahong/.pyenv/versions/3.11.11/lib/python3.11/site-packages (from spacy) (2.0.11)\n",
      "Requirement already satisfied: preshed<3.1.0,>=3.0.2 in /Users/jessicahong/.pyenv/versions/3.11.11/lib/python3.11/site-packages (from spacy) (3.0.9)\n",
      "Requirement already satisfied: thinc<8.4.0,>=8.3.4 in /Users/jessicahong/.pyenv/versions/3.11.11/lib/python3.11/site-packages (from spacy) (8.3.6)\n",
      "Requirement already satisfied: wasabi<1.2.0,>=0.9.1 in /Users/jessicahong/.pyenv/versions/3.11.11/lib/python3.11/site-packages (from spacy) (1.1.3)\n",
      "Requirement already satisfied: srsly<3.0.0,>=2.4.3 in /Users/jessicahong/.pyenv/versions/3.11.11/lib/python3.11/site-packages (from spacy) (2.5.1)\n",
      "Requirement already satisfied: catalogue<2.1.0,>=2.0.6 in /Users/jessicahong/.pyenv/versions/3.11.11/lib/python3.11/site-packages (from spacy) (2.0.10)\n",
      "Requirement already satisfied: weasel<0.5.0,>=0.1.0 in /Users/jessicahong/.pyenv/versions/3.11.11/lib/python3.11/site-packages (from spacy) (0.4.1)\n",
      "Requirement already satisfied: typer<1.0.0,>=0.3.0 in /Users/jessicahong/.pyenv/versions/3.11.11/lib/python3.11/site-packages (from spacy) (0.15.2)\n",
      "Requirement already satisfied: tqdm<5.0.0,>=4.38.0 in /Users/jessicahong/.pyenv/versions/3.11.11/lib/python3.11/site-packages (from spacy) (4.67.1)\n",
      "Requirement already satisfied: numpy>=1.19.0 in /Users/jessicahong/.pyenv/versions/3.11.11/lib/python3.11/site-packages (from spacy) (2.1.3)\n",
      "Requirement already satisfied: requests<3.0.0,>=2.13.0 in /Users/jessicahong/.pyenv/versions/3.11.11/lib/python3.11/site-packages (from spacy) (2.32.3)\n",
      "Requirement already satisfied: pydantic!=1.8,!=1.8.1,<3.0.0,>=1.7.4 in /Users/jessicahong/.pyenv/versions/3.11.11/lib/python3.11/site-packages (from spacy) (2.9.2)\n",
      "Requirement already satisfied: jinja2 in /Users/jessicahong/.pyenv/versions/3.11.11/lib/python3.11/site-packages (from spacy) (3.1.6)\n",
      "Requirement already satisfied: setuptools in /Users/jessicahong/.pyenv/versions/3.11.11/lib/python3.11/site-packages (from spacy) (77.0.3)\n",
      "Requirement already satisfied: packaging>=20.0 in /Users/jessicahong/.pyenv/versions/3.11.11/lib/python3.11/site-packages (from spacy) (24.2)\n",
      "Requirement already satisfied: langcodes<4.0.0,>=3.2.0 in /Users/jessicahong/.pyenv/versions/3.11.11/lib/python3.11/site-packages (from spacy) (3.5.0)\n",
      "Requirement already satisfied: language-data>=1.2 in /Users/jessicahong/.pyenv/versions/3.11.11/lib/python3.11/site-packages (from langcodes<4.0.0,>=3.2.0->spacy) (1.3.0)\n",
      "Requirement already satisfied: annotated-types>=0.6.0 in /Users/jessicahong/.pyenv/versions/3.11.11/lib/python3.11/site-packages (from pydantic!=1.8,!=1.8.1,<3.0.0,>=1.7.4->spacy) (0.7.0)\n",
      "Requirement already satisfied: pydantic-core==2.23.4 in /Users/jessicahong/.pyenv/versions/3.11.11/lib/python3.11/site-packages (from pydantic!=1.8,!=1.8.1,<3.0.0,>=1.7.4->spacy) (2.23.4)\n",
      "Requirement already satisfied: typing-extensions>=4.6.1 in /Users/jessicahong/.pyenv/versions/3.11.11/lib/python3.11/site-packages (from pydantic!=1.8,!=1.8.1,<3.0.0,>=1.7.4->spacy) (4.14.0)\n",
      "Requirement already satisfied: charset-normalizer<4,>=2 in /Users/jessicahong/.pyenv/versions/3.11.11/lib/python3.11/site-packages (from requests<3.0.0,>=2.13.0->spacy) (3.4.1)\n",
      "Requirement already satisfied: idna<4,>=2.5 in /Users/jessicahong/.pyenv/versions/3.11.11/lib/python3.11/site-packages (from requests<3.0.0,>=2.13.0->spacy) (3.10)\n",
      "Requirement already satisfied: urllib3<3,>=1.21.1 in /Users/jessicahong/.pyenv/versions/3.11.11/lib/python3.11/site-packages (from requests<3.0.0,>=2.13.0->spacy) (2.3.0)\n",
      "Requirement already satisfied: certifi>=2017.4.17 in /Users/jessicahong/.pyenv/versions/3.11.11/lib/python3.11/site-packages (from requests<3.0.0,>=2.13.0->spacy) (2025.1.31)\n",
      "Requirement already satisfied: blis<1.4.0,>=1.3.0 in /Users/jessicahong/.pyenv/versions/3.11.11/lib/python3.11/site-packages (from thinc<8.4.0,>=8.3.4->spacy) (1.3.0)\n",
      "Requirement already satisfied: confection<1.0.0,>=0.0.1 in /Users/jessicahong/.pyenv/versions/3.11.11/lib/python3.11/site-packages (from thinc<8.4.0,>=8.3.4->spacy) (0.1.5)\n",
      "Requirement already satisfied: click>=8.0.0 in /Users/jessicahong/.pyenv/versions/3.11.11/lib/python3.11/site-packages (from typer<1.0.0,>=0.3.0->spacy) (8.1.8)\n",
      "Requirement already satisfied: shellingham>=1.3.0 in /Users/jessicahong/.pyenv/versions/3.11.11/lib/python3.11/site-packages (from typer<1.0.0,>=0.3.0->spacy) (1.5.4)\n",
      "Requirement already satisfied: rich>=10.11.0 in /Users/jessicahong/.pyenv/versions/3.11.11/lib/python3.11/site-packages (from typer<1.0.0,>=0.3.0->spacy) (13.9.4)\n",
      "Requirement already satisfied: cloudpathlib<1.0.0,>=0.7.0 in /Users/jessicahong/.pyenv/versions/3.11.11/lib/python3.11/site-packages (from weasel<0.5.0,>=0.1.0->spacy) (0.21.1)\n",
      "Requirement already satisfied: smart-open<8.0.0,>=5.2.1 in /Users/jessicahong/.pyenv/versions/3.11.11/lib/python3.11/site-packages (from weasel<0.5.0,>=0.1.0->spacy) (7.1.0)\n",
      "Requirement already satisfied: wrapt in /Users/jessicahong/.pyenv/versions/3.11.11/lib/python3.11/site-packages (from smart-open<8.0.0,>=5.2.1->weasel<0.5.0,>=0.1.0->spacy) (1.17.2)\n",
      "Requirement already satisfied: marisa-trie>=1.1.0 in /Users/jessicahong/.pyenv/versions/3.11.11/lib/python3.11/site-packages (from language-data>=1.2->langcodes<4.0.0,>=3.2.0->spacy) (1.2.1)\n",
      "Requirement already satisfied: markdown-it-py>=2.2.0 in /Users/jessicahong/.pyenv/versions/3.11.11/lib/python3.11/site-packages (from rich>=10.11.0->typer<1.0.0,>=0.3.0->spacy) (3.0.0)\n",
      "Requirement already satisfied: pygments<3.0.0,>=2.13.0 in /Users/jessicahong/.pyenv/versions/3.11.11/lib/python3.11/site-packages (from rich>=10.11.0->typer<1.0.0,>=0.3.0->spacy) (2.19.1)\n",
      "Requirement already satisfied: mdurl~=0.1 in /Users/jessicahong/.pyenv/versions/3.11.11/lib/python3.11/site-packages (from markdown-it-py>=2.2.0->rich>=10.11.0->typer<1.0.0,>=0.3.0->spacy) (0.1.2)\n",
      "Requirement already satisfied: MarkupSafe>=2.0 in /Users/jessicahong/.pyenv/versions/3.11.11/lib/python3.11/site-packages (from jinja2->spacy) (3.0.2)\n",
      "Using cached spacy-3.8.7-cp311-cp311-macosx_11_0_arm64.whl (6.4 MB)\n",
      "Installing collected packages: spacy\n",
      "Successfully installed spacy-3.8.7\n"
     ]
    }
   ],
   "source": [
    "!pip uninstall -y spacy\n",
    "!pip install spacy"
   ]
  },
  {
   "cell_type": "code",
   "execution_count": 33,
   "id": "e88ee394-d74c-4cb2-9066-bd7c58a5a69e",
   "metadata": {},
   "outputs": [],
   "source": [
    "from spacy import displacy\n",
    "from IPython.display import display, HTML\n",
    "import spacy\n"
   ]
  },
  {
   "cell_type": "code",
   "execution_count": 34,
   "id": "da976e1e-a049-4815-8cb1-c9fdd4cc0d08",
   "metadata": {},
   "outputs": [
    {
     "name": "stdout",
     "output_type": "stream",
     "text": [
      "/Users/jessicahong/.pyenv/versions/3.11.11/lib/python3.11/site-packages/IPython/display.py\n"
     ]
    }
   ],
   "source": [
    "import IPython.display\n",
    "print(IPython.display.__file__)"
   ]
  },
  {
   "cell_type": "code",
   "execution_count": 35,
   "id": "3908737e-a6b1-427a-82e7-a8fb1999567d",
   "metadata": {},
   "outputs": [],
   "source": [
    "nlp = spacy.load('en_core_web_sm')"
   ]
  },
  {
   "cell_type": "code",
   "execution_count": 36,
   "id": "4d7c3ca4-83dd-458c-9975-590b4d29bacc",
   "metadata": {},
   "outputs": [],
   "source": [
    "doc = nlp(u\"The quick brown fox jumped over the lazy dog's back.\")"
   ]
  },
  {
   "cell_type": "code",
   "execution_count": 37,
   "id": "12893a8e-25ee-4ccc-bb30-f3c1ace10368",
   "metadata": {},
   "outputs": [
    {
     "name": "stdout",
     "output_type": "stream",
     "text": [
      "The quick brown fox jumped over the lazy dog's back.\n"
     ]
    }
   ],
   "source": [
    "print(doc.text)"
   ]
  },
  {
   "cell_type": "code",
   "execution_count": 38,
   "id": "48413d29-94f2-4c9d-b468-dc028fbd4738",
   "metadata": {},
   "outputs": [
    {
     "name": "stdout",
     "output_type": "stream",
     "text": [
      "VERB\n"
     ]
    }
   ],
   "source": [
    "#Retrieved part-of-speech (POS) tags of tokens using pos_ attribute.\n",
    "\n",
    "print (doc[4].pos_)"
   ]
  },
  {
   "cell_type": "code",
   "execution_count": 39,
   "id": "24d700ba-b784-4e3f-a0da-60a8d98a39d7",
   "metadata": {},
   "outputs": [
    {
     "name": "stdout",
     "output_type": "stream",
     "text": [
      "VBD\n"
     ]
    }
   ],
   "source": [
    "print (doc[4].tag_)"
   ]
  },
  {
   "cell_type": "code",
   "execution_count": 40,
   "id": "8a37c63b-ccbe-456f-971a-4624fdbbb28e",
   "metadata": {},
   "outputs": [
    {
     "name": "stdout",
     "output_type": "stream",
     "text": [
      "The        DET        DT        determiner\n",
      "quick      ADJ        JJ        adjective (English), other noun-modifier (Chinese)\n",
      "brown      ADJ        JJ        adjective (English), other noun-modifier (Chinese)\n",
      "fox        NOUN       NN        noun, singular or mass\n",
      "jumped     VERB       VBD       verb, past tense\n",
      "over       ADP        IN        conjunction, subordinating or preposition\n",
      "the        DET        DT        determiner\n",
      "lazy       ADJ        JJ        adjective (English), other noun-modifier (Chinese)\n",
      "dog        NOUN       NN        noun, singular or mass\n",
      "'s         PART       POS       possessive ending\n",
      "back       NOUN       NN        noun, singular or mass\n",
      ".          PUNCT      .         punctuation mark, sentence closer\n"
     ]
    }
   ],
   "source": [
    "#Printed the token’s text (token.text), coarse part-of-speech (token.pos_), fine-grained part-of-speech tag (token.tag_), and the explanation of the fine POS tag (spacy.explain(token.tag_)).\n",
    "\n",
    "for token in doc :\n",
    "    print (f\"{token.text:{10}} {token.pos_:{10}} {token.tag_:{10}}{spacy.explain(token.tag_)}\")"
   ]
  },
  {
   "cell_type": "code",
   "execution_count": 41,
   "id": "5dca33a9-fe85-4884-980d-0a3562bdc21f",
   "metadata": {},
   "outputs": [],
   "source": [
    "doc = nlp(u\"I read books on NLP.\")"
   ]
  },
  {
   "cell_type": "code",
   "execution_count": 42,
   "id": "0e30a3fd-71db-4f09-9d9c-623fc327a467",
   "metadata": {},
   "outputs": [],
   "source": [
    "word = doc[1]"
   ]
  },
  {
   "cell_type": "code",
   "execution_count": 43,
   "id": "d2f50af8-e326-4a8d-81b8-482a859803a3",
   "metadata": {},
   "outputs": [
    {
     "name": "stdout",
     "output_type": "stream",
     "text": [
      "read\n"
     ]
    }
   ],
   "source": [
    "print(word)"
   ]
  },
  {
   "cell_type": "code",
   "execution_count": 44,
   "id": "a6c87dec-dc48-4605-9230-c733fc89a2fa",
   "metadata": {},
   "outputs": [
    {
     "data": {
      "text/plain": [
       "'read'"
      ]
     },
     "execution_count": 44,
     "metadata": {},
     "output_type": "execute_result"
    }
   ],
   "source": [
    "word.text"
   ]
  },
  {
   "cell_type": "code",
   "execution_count": 45,
   "id": "170a2816-a94e-4578-8aba-3c5eb778d5b2",
   "metadata": {},
   "outputs": [
    {
     "name": "stdout",
     "output_type": "stream",
     "text": [
      "read       VERB       VBP       verb, non-3rd person singular present\n"
     ]
    }
   ],
   "source": [
    "#Printed the same token information as before: token text, coarse POS tag, fine POS tag, and its explanation.\n",
    "\n",
    "token = word\n",
    "print (f\"{token.text:{10}} {token.pos_:{10}} {token.tag_:{10}}{spacy.explain(token.tag_)}\")"
   ]
  },
  {
   "cell_type": "code",
   "execution_count": 46,
   "id": "d065e701-6e54-49f0-b9f3-7d0f4ac4bd64",
   "metadata": {},
   "outputs": [],
   "source": [
    "doc = nlp(u\"I read a book on NLP\")"
   ]
  },
  {
   "cell_type": "code",
   "execution_count": 47,
   "id": "d65bcf14-33da-4e5d-ad75-c77d7f5c29af",
   "metadata": {},
   "outputs": [
    {
     "name": "stdout",
     "output_type": "stream",
     "text": [
      "read       VERB       VBD       verb, past tense\n"
     ]
    }
   ],
   "source": [
    "word = doc[1]\n",
    "token = word\n",
    "print (f\"{token.text:{10}} {token.pos_:{10}} {token.tag_:{10}}{spacy.explain(token.tag_)}\")"
   ]
  },
  {
   "cell_type": "code",
   "execution_count": 48,
   "id": "b7feadcf-efaa-493c-ba38-b98cb38bf869",
   "metadata": {},
   "outputs": [],
   "source": [
    "doc = nlp(u\"The quick brown fox jumped over the lazy dog's back.\")"
   ]
  },
  {
   "cell_type": "code",
   "execution_count": 49,
   "id": "1ec4a857-8f34-4a89-9a48-003874d189e5",
   "metadata": {},
   "outputs": [],
   "source": [
    "#POS_counts = doc.count_by(spacy.attrs.POS) counts the occurrences of each part-of-speech (POS) tag in the doc\n",
    "POS_counts = doc.count_by(spacy.attrs.POS)"
   ]
  },
  {
   "cell_type": "code",
   "execution_count": 50,
   "id": "675c1331-e889-473f-89a9-b3cb7d91feb3",
   "metadata": {},
   "outputs": [
    {
     "data": {
      "text/plain": [
       "{90: 2, 84: 3, 92: 3, 100: 1, 85: 1, 94: 1, 97: 1}"
      ]
     },
     "execution_count": 50,
     "metadata": {},
     "output_type": "execute_result"
    }
   ],
   "source": [
    "#POS_counts likely stores the frequency counts of different part-of-speech (POS) tags in a text.\n",
    "POS_counts"
   ]
  },
  {
   "cell_type": "code",
   "execution_count": 51,
   "id": "7cad6a6e-c4c8-4c53-bd8d-94a07e5591e0",
   "metadata": {},
   "outputs": [
    {
     "data": {
      "text/plain": [
       "'ADJ'"
      ]
     },
     "execution_count": 51,
     "metadata": {},
     "output_type": "execute_result"
    }
   ],
   "source": [
    "doc.vocab[84].text"
   ]
  },
  {
   "cell_type": "code",
   "execution_count": 52,
   "id": "fea296f3-7c87-4b44-afd5-1b2d3d1802b9",
   "metadata": {},
   "outputs": [
    {
     "data": {
      "text/plain": [
       "<univ_pos_t.ADJ: 84>"
      ]
     },
     "execution_count": 52,
     "metadata": {},
     "output_type": "execute_result"
    }
   ],
   "source": [
    "doc[2].pos"
   ]
  },
  {
   "cell_type": "code",
   "execution_count": 53,
   "id": "fbb12029-bd9e-441f-bf04-cf7caa799911",
   "metadata": {},
   "outputs": [
    {
     "name": "stdout",
     "output_type": "stream",
     "text": [
      "84. ADJ   3\n",
      "85. ADP   1\n",
      "90. DET   2\n",
      "92. NOUN  3\n",
      "94. PART  1\n",
      "97. PUNCT 1\n",
      "100. VERB  1\n"
     ]
    }
   ],
   "source": [
    "#For each POS tag ID (k) and its count (v), prints:\n",
    "#The POS tag ID (k).\n",
    "#The human-readable POS tag text using doc.vocab[k].text.\n",
    "#The count of that POS tag (v).\n",
    "for k,v in sorted(POS_counts.items()):\n",
    "    print(f\"{k}. {doc.vocab[k].text:{5}} {v}\")"
   ]
  },
  {
   "cell_type": "code",
   "execution_count": 54,
   "id": "f9e2120d-7593-456e-94d1-ebceff2f0d1e",
   "metadata": {},
   "outputs": [
    {
     "name": "stdout",
     "output_type": "stream",
     "text": [
      "74. POS   1\n",
      "1292078113972184607. IN    1\n",
      "10554686591937588953. JJ    3\n",
      "12646065887601541794. .     1\n",
      "15267657372422890137. DT    2\n",
      "15308085513773655218. NN    3\n",
      "17109001835818727656. VBD   1\n"
     ]
    }
   ],
   "source": [
    "TAG_counts  = doc.count_by(spacy.attrs.TAG)\n",
    "\n",
    "for k,v in sorted(TAG_counts.items()):\n",
    "    print(f\"{k}. {doc.vocab[k].text:{5}} {v}\")"
   ]
  },
  {
   "cell_type": "code",
   "execution_count": 55,
   "id": "e90b94df-b41d-466b-a22f-7bc4a724deea",
   "metadata": {},
   "outputs": [
    {
     "name": "stdout",
     "output_type": "stream",
     "text": [
      "402. amod  3\n",
      "415. det   2\n",
      "429. nsubj 1\n",
      "439. pobj  1\n",
      "440. poss  1\n",
      "443. prep  1\n",
      "445. punct 1\n",
      "8110129090154140942. case  1\n",
      "8206900633647566924. ROOT  1\n"
     ]
    }
   ],
   "source": [
    "#DEP_counts = doc.count_by(spacy.attrs.DEP) counts occurrences of each dependency relation in the doc.\n",
    "#spacy.attrs.DEP refers to syntactic dependency labels (like subject, object, modifier).\n",
    "\n",
    "\n",
    "DEP_counts  = doc.count_by(spacy.attrs.DEP)\n",
    "\n",
    "for k,v in sorted(DEP_counts.items()):\n",
    "    print(f\"{k}. {doc.vocab[k].text:{5}} {v}\")"
   ]
  },
  {
   "cell_type": "code",
   "execution_count": 56,
   "id": "b5d3179d-1959-403c-a669-c112749ee3e7",
   "metadata": {},
   "outputs": [],
   "source": [
    "#Initialized two defaultdicts:\n",
    "#POS_counts to count the frequency of each coarse POS tag.\n",
    "#POS_words to collect words for each POS tag."
   ]
  },
  {
   "cell_type": "code",
   "execution_count": 57,
   "id": "cb4cd640-eb1b-485f-a9b7-7c536a751160",
   "metadata": {},
   "outputs": [
    {
     "name": "stdout",
     "output_type": "stream",
     "text": [
      "ADV     2 -> fast, quickly\n",
      "DET     3 -> The, A, The\n",
      "NOUN    3 -> dog, man, cat\n",
      "PUNCT   3 -> ., ., .\n",
      "VERB    3 -> runs, eats, sleeps\n"
     ]
    }
   ],
   "source": [
    "from collections import defaultdict\n",
    "import spacy\n",
    "\n",
    "nlp = spacy.load(\"en_core_web_sm\")\n",
    "doc = nlp(\"The dog runs fast. A man eats quickly. The cat sleeps.\")\n",
    "\n",
    "POS_counts = defaultdict(int)\n",
    "POS_words = defaultdict(list)\n",
    "\n",
    "for token in doc:\n",
    "    POS_counts[token.pos_] += 1\n",
    "    POS_words[token.pos_].append(token.text)\n",
    "\n",
    "for pos in sorted(POS_counts.keys()):\n",
    "    words = \", \".join(POS_words[pos])\n",
    "    print(f\"{pos: <6} {POS_counts[pos]:>2} -> {words}\")\n"
   ]
  },
  {
   "cell_type": "code",
   "execution_count": 58,
   "id": "dd859f33-6275-43f8-808d-692568e3f704",
   "metadata": {},
   "outputs": [],
   "source": [
    "doc = nlp(u\"The quick brown fox jumped over the lazy dog.\")"
   ]
  },
  {
   "cell_type": "code",
   "execution_count": 59,
   "id": "01b12535-ffc9-4080-927d-eebfe9136618",
   "metadata": {},
   "outputs": [],
   "source": [
    "from spacy import displacy\n",
    "from IPython.display import display, HTML"
   ]
  },
  {
   "cell_type": "code",
   "execution_count": 60,
   "id": "75823260-4870-4b53-a80a-2ad190283a19",
   "metadata": {},
   "outputs": [
    {
     "data": {
      "text/html": [
       "<svg xmlns=\"http://www.w3.org/2000/svg\" xmlns:xlink=\"http://www.w3.org/1999/xlink\" xml:lang=\"en\" id=\"1698a03bea6d47689c5dadea023d49b3-0\" class=\"displacy\" width=\"1625\" height=\"399.5\" direction=\"ltr\" style=\"max-width: none; height: 399.5px; color: #000000; background: #ffffff; font-family: Arial; direction: ltr\">\n",
       "<text class=\"displacy-token\" fill=\"currentColor\" text-anchor=\"middle\" y=\"309.5\">\n",
       "    <tspan class=\"displacy-word\" fill=\"currentColor\" x=\"50\">The</tspan>\n",
       "    <tspan class=\"displacy-tag\" dy=\"2em\" fill=\"currentColor\" x=\"50\">DET</tspan>\n",
       "</text>\n",
       "\n",
       "<text class=\"displacy-token\" fill=\"currentColor\" text-anchor=\"middle\" y=\"309.5\">\n",
       "    <tspan class=\"displacy-word\" fill=\"currentColor\" x=\"225\">quick</tspan>\n",
       "    <tspan class=\"displacy-tag\" dy=\"2em\" fill=\"currentColor\" x=\"225\">ADJ</tspan>\n",
       "</text>\n",
       "\n",
       "<text class=\"displacy-token\" fill=\"currentColor\" text-anchor=\"middle\" y=\"309.5\">\n",
       "    <tspan class=\"displacy-word\" fill=\"currentColor\" x=\"400\">brown</tspan>\n",
       "    <tspan class=\"displacy-tag\" dy=\"2em\" fill=\"currentColor\" x=\"400\">ADJ</tspan>\n",
       "</text>\n",
       "\n",
       "<text class=\"displacy-token\" fill=\"currentColor\" text-anchor=\"middle\" y=\"309.5\">\n",
       "    <tspan class=\"displacy-word\" fill=\"currentColor\" x=\"575\">fox</tspan>\n",
       "    <tspan class=\"displacy-tag\" dy=\"2em\" fill=\"currentColor\" x=\"575\">NOUN</tspan>\n",
       "</text>\n",
       "\n",
       "<text class=\"displacy-token\" fill=\"currentColor\" text-anchor=\"middle\" y=\"309.5\">\n",
       "    <tspan class=\"displacy-word\" fill=\"currentColor\" x=\"750\">jumped</tspan>\n",
       "    <tspan class=\"displacy-tag\" dy=\"2em\" fill=\"currentColor\" x=\"750\">VERB</tspan>\n",
       "</text>\n",
       "\n",
       "<text class=\"displacy-token\" fill=\"currentColor\" text-anchor=\"middle\" y=\"309.5\">\n",
       "    <tspan class=\"displacy-word\" fill=\"currentColor\" x=\"925\">over</tspan>\n",
       "    <tspan class=\"displacy-tag\" dy=\"2em\" fill=\"currentColor\" x=\"925\">ADP</tspan>\n",
       "</text>\n",
       "\n",
       "<text class=\"displacy-token\" fill=\"currentColor\" text-anchor=\"middle\" y=\"309.5\">\n",
       "    <tspan class=\"displacy-word\" fill=\"currentColor\" x=\"1100\">the</tspan>\n",
       "    <tspan class=\"displacy-tag\" dy=\"2em\" fill=\"currentColor\" x=\"1100\">DET</tspan>\n",
       "</text>\n",
       "\n",
       "<text class=\"displacy-token\" fill=\"currentColor\" text-anchor=\"middle\" y=\"309.5\">\n",
       "    <tspan class=\"displacy-word\" fill=\"currentColor\" x=\"1275\">lazy</tspan>\n",
       "    <tspan class=\"displacy-tag\" dy=\"2em\" fill=\"currentColor\" x=\"1275\">ADJ</tspan>\n",
       "</text>\n",
       "\n",
       "<text class=\"displacy-token\" fill=\"currentColor\" text-anchor=\"middle\" y=\"309.5\">\n",
       "    <tspan class=\"displacy-word\" fill=\"currentColor\" x=\"1450\">dog.</tspan>\n",
       "    <tspan class=\"displacy-tag\" dy=\"2em\" fill=\"currentColor\" x=\"1450\">NOUN</tspan>\n",
       "</text>\n",
       "\n",
       "<g class=\"displacy-arrow\">\n",
       "    <path class=\"displacy-arc\" id=\"arrow-1698a03bea6d47689c5dadea023d49b3-0-0\" stroke-width=\"2px\" d=\"M70,264.5 C70,2.0 575.0,2.0 575.0,264.5\" fill=\"none\" stroke=\"currentColor\"/>\n",
       "    <text dy=\"1.25em\" style=\"font-size: 0.8em; letter-spacing: 1px\">\n",
       "        <textPath xlink:href=\"#arrow-1698a03bea6d47689c5dadea023d49b3-0-0\" class=\"displacy-label\" startOffset=\"50%\" side=\"left\" fill=\"currentColor\" text-anchor=\"middle\">det</textPath>\n",
       "    </text>\n",
       "    <path class=\"displacy-arrowhead\" d=\"M70,266.5 L62,254.5 78,254.5\" fill=\"currentColor\"/>\n",
       "</g>\n",
       "\n",
       "<g class=\"displacy-arrow\">\n",
       "    <path class=\"displacy-arc\" id=\"arrow-1698a03bea6d47689c5dadea023d49b3-0-1\" stroke-width=\"2px\" d=\"M245,264.5 C245,89.5 570.0,89.5 570.0,264.5\" fill=\"none\" stroke=\"currentColor\"/>\n",
       "    <text dy=\"1.25em\" style=\"font-size: 0.8em; letter-spacing: 1px\">\n",
       "        <textPath xlink:href=\"#arrow-1698a03bea6d47689c5dadea023d49b3-0-1\" class=\"displacy-label\" startOffset=\"50%\" side=\"left\" fill=\"currentColor\" text-anchor=\"middle\">amod</textPath>\n",
       "    </text>\n",
       "    <path class=\"displacy-arrowhead\" d=\"M245,266.5 L237,254.5 253,254.5\" fill=\"currentColor\"/>\n",
       "</g>\n",
       "\n",
       "<g class=\"displacy-arrow\">\n",
       "    <path class=\"displacy-arc\" id=\"arrow-1698a03bea6d47689c5dadea023d49b3-0-2\" stroke-width=\"2px\" d=\"M420,264.5 C420,177.0 565.0,177.0 565.0,264.5\" fill=\"none\" stroke=\"currentColor\"/>\n",
       "    <text dy=\"1.25em\" style=\"font-size: 0.8em; letter-spacing: 1px\">\n",
       "        <textPath xlink:href=\"#arrow-1698a03bea6d47689c5dadea023d49b3-0-2\" class=\"displacy-label\" startOffset=\"50%\" side=\"left\" fill=\"currentColor\" text-anchor=\"middle\">amod</textPath>\n",
       "    </text>\n",
       "    <path class=\"displacy-arrowhead\" d=\"M420,266.5 L412,254.5 428,254.5\" fill=\"currentColor\"/>\n",
       "</g>\n",
       "\n",
       "<g class=\"displacy-arrow\">\n",
       "    <path class=\"displacy-arc\" id=\"arrow-1698a03bea6d47689c5dadea023d49b3-0-3\" stroke-width=\"2px\" d=\"M595,264.5 C595,177.0 740.0,177.0 740.0,264.5\" fill=\"none\" stroke=\"currentColor\"/>\n",
       "    <text dy=\"1.25em\" style=\"font-size: 0.8em; letter-spacing: 1px\">\n",
       "        <textPath xlink:href=\"#arrow-1698a03bea6d47689c5dadea023d49b3-0-3\" class=\"displacy-label\" startOffset=\"50%\" side=\"left\" fill=\"currentColor\" text-anchor=\"middle\">nsubj</textPath>\n",
       "    </text>\n",
       "    <path class=\"displacy-arrowhead\" d=\"M595,266.5 L587,254.5 603,254.5\" fill=\"currentColor\"/>\n",
       "</g>\n",
       "\n",
       "<g class=\"displacy-arrow\">\n",
       "    <path class=\"displacy-arc\" id=\"arrow-1698a03bea6d47689c5dadea023d49b3-0-4\" stroke-width=\"2px\" d=\"M770,264.5 C770,177.0 915.0,177.0 915.0,264.5\" fill=\"none\" stroke=\"currentColor\"/>\n",
       "    <text dy=\"1.25em\" style=\"font-size: 0.8em; letter-spacing: 1px\">\n",
       "        <textPath xlink:href=\"#arrow-1698a03bea6d47689c5dadea023d49b3-0-4\" class=\"displacy-label\" startOffset=\"50%\" side=\"left\" fill=\"currentColor\" text-anchor=\"middle\">prep</textPath>\n",
       "    </text>\n",
       "    <path class=\"displacy-arrowhead\" d=\"M915.0,266.5 L923.0,254.5 907.0,254.5\" fill=\"currentColor\"/>\n",
       "</g>\n",
       "\n",
       "<g class=\"displacy-arrow\">\n",
       "    <path class=\"displacy-arc\" id=\"arrow-1698a03bea6d47689c5dadea023d49b3-0-5\" stroke-width=\"2px\" d=\"M1120,264.5 C1120,89.5 1445.0,89.5 1445.0,264.5\" fill=\"none\" stroke=\"currentColor\"/>\n",
       "    <text dy=\"1.25em\" style=\"font-size: 0.8em; letter-spacing: 1px\">\n",
       "        <textPath xlink:href=\"#arrow-1698a03bea6d47689c5dadea023d49b3-0-5\" class=\"displacy-label\" startOffset=\"50%\" side=\"left\" fill=\"currentColor\" text-anchor=\"middle\">det</textPath>\n",
       "    </text>\n",
       "    <path class=\"displacy-arrowhead\" d=\"M1120,266.5 L1112,254.5 1128,254.5\" fill=\"currentColor\"/>\n",
       "</g>\n",
       "\n",
       "<g class=\"displacy-arrow\">\n",
       "    <path class=\"displacy-arc\" id=\"arrow-1698a03bea6d47689c5dadea023d49b3-0-6\" stroke-width=\"2px\" d=\"M1295,264.5 C1295,177.0 1440.0,177.0 1440.0,264.5\" fill=\"none\" stroke=\"currentColor\"/>\n",
       "    <text dy=\"1.25em\" style=\"font-size: 0.8em; letter-spacing: 1px\">\n",
       "        <textPath xlink:href=\"#arrow-1698a03bea6d47689c5dadea023d49b3-0-6\" class=\"displacy-label\" startOffset=\"50%\" side=\"left\" fill=\"currentColor\" text-anchor=\"middle\">amod</textPath>\n",
       "    </text>\n",
       "    <path class=\"displacy-arrowhead\" d=\"M1295,266.5 L1287,254.5 1303,254.5\" fill=\"currentColor\"/>\n",
       "</g>\n",
       "\n",
       "<g class=\"displacy-arrow\">\n",
       "    <path class=\"displacy-arc\" id=\"arrow-1698a03bea6d47689c5dadea023d49b3-0-7\" stroke-width=\"2px\" d=\"M945,264.5 C945,2.0 1450.0,2.0 1450.0,264.5\" fill=\"none\" stroke=\"currentColor\"/>\n",
       "    <text dy=\"1.25em\" style=\"font-size: 0.8em; letter-spacing: 1px\">\n",
       "        <textPath xlink:href=\"#arrow-1698a03bea6d47689c5dadea023d49b3-0-7\" class=\"displacy-label\" startOffset=\"50%\" side=\"left\" fill=\"currentColor\" text-anchor=\"middle\">pobj</textPath>\n",
       "    </text>\n",
       "    <path class=\"displacy-arrowhead\" d=\"M1450.0,266.5 L1458.0,254.5 1442.0,254.5\" fill=\"currentColor\"/>\n",
       "</g>\n",
       "</svg>"
      ],
      "text/plain": [
       "<IPython.core.display.HTML object>"
      ]
     },
     "metadata": {},
     "output_type": "display_data"
    }
   ],
   "source": [
    "doc = nlp(\"The quick brown fox jumped over the lazy dog.\")\n",
    "html = displacy.render(doc, style=\"dep\", jupyter=False)\n",
    "display(HTML(html))"
   ]
  },
  {
   "cell_type": "code",
   "execution_count": 61,
   "id": "76c43329-54b0-4735-9de1-9daf03035f14",
   "metadata": {},
   "outputs": [],
   "source": [
    "options = {'distance':110, 'compact':'True', 'color': 'yellow', 'bg':'#09a3d5', 'font':'times' } "
   ]
  },
  {
   "cell_type": "code",
   "execution_count": 62,
   "id": "c6803944-2cf8-4272-93b1-f74a650f30b5",
   "metadata": {},
   "outputs": [
    {
     "data": {
      "text/html": [
       "<svg xmlns=\"http://www.w3.org/2000/svg\" xmlns:xlink=\"http://www.w3.org/1999/xlink\" xml:lang=\"en\" id=\"3a7c9618ae8a44bca1e966ef394eddfa-0\" class=\"displacy\" width=\"1040\" height=\"302.0\" direction=\"ltr\" style=\"max-width: none; height: 302.0px; color: yellow; background: #09a3d5; font-family: times; direction: ltr\">\n",
       "<text class=\"displacy-token\" fill=\"currentColor\" text-anchor=\"middle\" y=\"212.0\">\n",
       "    <tspan class=\"displacy-word\" fill=\"currentColor\" x=\"50\">The</tspan>\n",
       "    <tspan class=\"displacy-tag\" dy=\"2em\" fill=\"currentColor\" x=\"50\">DET</tspan>\n",
       "</text>\n",
       "\n",
       "<text class=\"displacy-token\" fill=\"currentColor\" text-anchor=\"middle\" y=\"212.0\">\n",
       "    <tspan class=\"displacy-word\" fill=\"currentColor\" x=\"160\">quick</tspan>\n",
       "    <tspan class=\"displacy-tag\" dy=\"2em\" fill=\"currentColor\" x=\"160\">ADJ</tspan>\n",
       "</text>\n",
       "\n",
       "<text class=\"displacy-token\" fill=\"currentColor\" text-anchor=\"middle\" y=\"212.0\">\n",
       "    <tspan class=\"displacy-word\" fill=\"currentColor\" x=\"270\">brown</tspan>\n",
       "    <tspan class=\"displacy-tag\" dy=\"2em\" fill=\"currentColor\" x=\"270\">ADJ</tspan>\n",
       "</text>\n",
       "\n",
       "<text class=\"displacy-token\" fill=\"currentColor\" text-anchor=\"middle\" y=\"212.0\">\n",
       "    <tspan class=\"displacy-word\" fill=\"currentColor\" x=\"380\">fox</tspan>\n",
       "    <tspan class=\"displacy-tag\" dy=\"2em\" fill=\"currentColor\" x=\"380\">NOUN</tspan>\n",
       "</text>\n",
       "\n",
       "<text class=\"displacy-token\" fill=\"currentColor\" text-anchor=\"middle\" y=\"212.0\">\n",
       "    <tspan class=\"displacy-word\" fill=\"currentColor\" x=\"490\">jumped</tspan>\n",
       "    <tspan class=\"displacy-tag\" dy=\"2em\" fill=\"currentColor\" x=\"490\">VERB</tspan>\n",
       "</text>\n",
       "\n",
       "<text class=\"displacy-token\" fill=\"currentColor\" text-anchor=\"middle\" y=\"212.0\">\n",
       "    <tspan class=\"displacy-word\" fill=\"currentColor\" x=\"600\">over</tspan>\n",
       "    <tspan class=\"displacy-tag\" dy=\"2em\" fill=\"currentColor\" x=\"600\">ADP</tspan>\n",
       "</text>\n",
       "\n",
       "<text class=\"displacy-token\" fill=\"currentColor\" text-anchor=\"middle\" y=\"212.0\">\n",
       "    <tspan class=\"displacy-word\" fill=\"currentColor\" x=\"710\">the</tspan>\n",
       "    <tspan class=\"displacy-tag\" dy=\"2em\" fill=\"currentColor\" x=\"710\">DET</tspan>\n",
       "</text>\n",
       "\n",
       "<text class=\"displacy-token\" fill=\"currentColor\" text-anchor=\"middle\" y=\"212.0\">\n",
       "    <tspan class=\"displacy-word\" fill=\"currentColor\" x=\"820\">lazy</tspan>\n",
       "    <tspan class=\"displacy-tag\" dy=\"2em\" fill=\"currentColor\" x=\"820\">ADJ</tspan>\n",
       "</text>\n",
       "\n",
       "<text class=\"displacy-token\" fill=\"currentColor\" text-anchor=\"middle\" y=\"212.0\">\n",
       "    <tspan class=\"displacy-word\" fill=\"currentColor\" x=\"930\">dog.</tspan>\n",
       "    <tspan class=\"displacy-tag\" dy=\"2em\" fill=\"currentColor\" x=\"930\">NOUN</tspan>\n",
       "</text>\n",
       "\n",
       "<g class=\"displacy-arrow\">\n",
       "    <path class=\"displacy-arc\" id=\"arrow-3a7c9618ae8a44bca1e966ef394eddfa-0-0\" stroke-width=\"2px\" d=\"M62,167.0 62,112.0 380.0,112.0 380.0,167.0\" fill=\"none\" stroke=\"currentColor\"/>\n",
       "    <text dy=\"1.25em\" style=\"font-size: 0.8em; letter-spacing: 1px\">\n",
       "        <textPath xlink:href=\"#arrow-3a7c9618ae8a44bca1e966ef394eddfa-0-0\" class=\"displacy-label\" startOffset=\"50%\" side=\"left\" fill=\"currentColor\" text-anchor=\"middle\">det</textPath>\n",
       "    </text>\n",
       "    <path class=\"displacy-arrowhead\" d=\"M62,169.0 L58,161.0 66,161.0\" fill=\"currentColor\"/>\n",
       "</g>\n",
       "\n",
       "<g class=\"displacy-arrow\">\n",
       "    <path class=\"displacy-arc\" id=\"arrow-3a7c9618ae8a44bca1e966ef394eddfa-0-1\" stroke-width=\"2px\" d=\"M172,167.0 172,130.33333333333334 377.0,130.33333333333334 377.0,167.0\" fill=\"none\" stroke=\"currentColor\"/>\n",
       "    <text dy=\"1.25em\" style=\"font-size: 0.8em; letter-spacing: 1px\">\n",
       "        <textPath xlink:href=\"#arrow-3a7c9618ae8a44bca1e966ef394eddfa-0-1\" class=\"displacy-label\" startOffset=\"50%\" side=\"left\" fill=\"currentColor\" text-anchor=\"middle\">amod</textPath>\n",
       "    </text>\n",
       "    <path class=\"displacy-arrowhead\" d=\"M172,169.0 L168,161.0 176,161.0\" fill=\"currentColor\"/>\n",
       "</g>\n",
       "\n",
       "<g class=\"displacy-arrow\">\n",
       "    <path class=\"displacy-arc\" id=\"arrow-3a7c9618ae8a44bca1e966ef394eddfa-0-2\" stroke-width=\"2px\" d=\"M282,167.0 282,148.66666666666666 374.0,148.66666666666666 374.0,167.0\" fill=\"none\" stroke=\"currentColor\"/>\n",
       "    <text dy=\"1.25em\" style=\"font-size: 0.8em; letter-spacing: 1px\">\n",
       "        <textPath xlink:href=\"#arrow-3a7c9618ae8a44bca1e966ef394eddfa-0-2\" class=\"displacy-label\" startOffset=\"50%\" side=\"left\" fill=\"currentColor\" text-anchor=\"middle\">amod</textPath>\n",
       "    </text>\n",
       "    <path class=\"displacy-arrowhead\" d=\"M282,169.0 L278,161.0 286,161.0\" fill=\"currentColor\"/>\n",
       "</g>\n",
       "\n",
       "<g class=\"displacy-arrow\">\n",
       "    <path class=\"displacy-arc\" id=\"arrow-3a7c9618ae8a44bca1e966ef394eddfa-0-3\" stroke-width=\"2px\" d=\"M392,167.0 392,148.66666666666666 484.0,148.66666666666666 484.0,167.0\" fill=\"none\" stroke=\"currentColor\"/>\n",
       "    <text dy=\"1.25em\" style=\"font-size: 0.8em; letter-spacing: 1px\">\n",
       "        <textPath xlink:href=\"#arrow-3a7c9618ae8a44bca1e966ef394eddfa-0-3\" class=\"displacy-label\" startOffset=\"50%\" side=\"left\" fill=\"currentColor\" text-anchor=\"middle\">nsubj</textPath>\n",
       "    </text>\n",
       "    <path class=\"displacy-arrowhead\" d=\"M392,169.0 L388,161.0 396,161.0\" fill=\"currentColor\"/>\n",
       "</g>\n",
       "\n",
       "<g class=\"displacy-arrow\">\n",
       "    <path class=\"displacy-arc\" id=\"arrow-3a7c9618ae8a44bca1e966ef394eddfa-0-4\" stroke-width=\"2px\" d=\"M502,167.0 502,148.66666666666666 594.0,148.66666666666666 594.0,167.0\" fill=\"none\" stroke=\"currentColor\"/>\n",
       "    <text dy=\"1.25em\" style=\"font-size: 0.8em; letter-spacing: 1px\">\n",
       "        <textPath xlink:href=\"#arrow-3a7c9618ae8a44bca1e966ef394eddfa-0-4\" class=\"displacy-label\" startOffset=\"50%\" side=\"left\" fill=\"currentColor\" text-anchor=\"middle\">prep</textPath>\n",
       "    </text>\n",
       "    <path class=\"displacy-arrowhead\" d=\"M594.0,169.0 L598.0,161.0 590.0,161.0\" fill=\"currentColor\"/>\n",
       "</g>\n",
       "\n",
       "<g class=\"displacy-arrow\">\n",
       "    <path class=\"displacy-arc\" id=\"arrow-3a7c9618ae8a44bca1e966ef394eddfa-0-5\" stroke-width=\"2px\" d=\"M722,167.0 722,130.33333333333334 927.0,130.33333333333334 927.0,167.0\" fill=\"none\" stroke=\"currentColor\"/>\n",
       "    <text dy=\"1.25em\" style=\"font-size: 0.8em; letter-spacing: 1px\">\n",
       "        <textPath xlink:href=\"#arrow-3a7c9618ae8a44bca1e966ef394eddfa-0-5\" class=\"displacy-label\" startOffset=\"50%\" side=\"left\" fill=\"currentColor\" text-anchor=\"middle\">det</textPath>\n",
       "    </text>\n",
       "    <path class=\"displacy-arrowhead\" d=\"M722,169.0 L718,161.0 726,161.0\" fill=\"currentColor\"/>\n",
       "</g>\n",
       "\n",
       "<g class=\"displacy-arrow\">\n",
       "    <path class=\"displacy-arc\" id=\"arrow-3a7c9618ae8a44bca1e966ef394eddfa-0-6\" stroke-width=\"2px\" d=\"M832,167.0 832,148.66666666666666 924.0,148.66666666666666 924.0,167.0\" fill=\"none\" stroke=\"currentColor\"/>\n",
       "    <text dy=\"1.25em\" style=\"font-size: 0.8em; letter-spacing: 1px\">\n",
       "        <textPath xlink:href=\"#arrow-3a7c9618ae8a44bca1e966ef394eddfa-0-6\" class=\"displacy-label\" startOffset=\"50%\" side=\"left\" fill=\"currentColor\" text-anchor=\"middle\">amod</textPath>\n",
       "    </text>\n",
       "    <path class=\"displacy-arrowhead\" d=\"M832,169.0 L828,161.0 836,161.0\" fill=\"currentColor\"/>\n",
       "</g>\n",
       "\n",
       "<g class=\"displacy-arrow\">\n",
       "    <path class=\"displacy-arc\" id=\"arrow-3a7c9618ae8a44bca1e966ef394eddfa-0-7\" stroke-width=\"2px\" d=\"M612,167.0 612,112.0 930.0,112.0 930.0,167.0\" fill=\"none\" stroke=\"currentColor\"/>\n",
       "    <text dy=\"1.25em\" style=\"font-size: 0.8em; letter-spacing: 1px\">\n",
       "        <textPath xlink:href=\"#arrow-3a7c9618ae8a44bca1e966ef394eddfa-0-7\" class=\"displacy-label\" startOffset=\"50%\" side=\"left\" fill=\"currentColor\" text-anchor=\"middle\">pobj</textPath>\n",
       "    </text>\n",
       "    <path class=\"displacy-arrowhead\" d=\"M930.0,169.0 L934.0,161.0 926.0,161.0\" fill=\"currentColor\"/>\n",
       "</g>\n",
       "</svg>"
      ],
      "text/plain": [
       "<IPython.core.display.HTML object>"
      ]
     },
     "metadata": {},
     "output_type": "display_data"
    }
   ],
   "source": [
    "\n",
    "doc = nlp(\"The quick brown fox jumped over the lazy dog.\")\n",
    "html = displacy.render(doc, style=\"dep\", jupyter=False, options =options)\n",
    "display(HTML(html))"
   ]
  },
  {
   "cell_type": "code",
   "execution_count": 63,
   "id": "1163cc74-e7f5-4ae3-bada-02061e6e7076",
   "metadata": {},
   "outputs": [
    {
     "name": "stdout",
     "output_type": "stream",
     "text": [
      "Requirement already satisfied: ipython in /Users/jessicahong/.pyenv/versions/3.11.11/lib/python3.11/site-packages (9.3.0)\n",
      "Requirement already satisfied: decorator in /Users/jessicahong/.pyenv/versions/3.11.11/lib/python3.11/site-packages (from ipython) (5.2.1)\n",
      "Requirement already satisfied: ipython-pygments-lexers in /Users/jessicahong/.pyenv/versions/3.11.11/lib/python3.11/site-packages (from ipython) (1.1.1)\n",
      "Requirement already satisfied: jedi>=0.16 in /Users/jessicahong/.pyenv/versions/3.11.11/lib/python3.11/site-packages (from ipython) (0.19.2)\n",
      "Requirement already satisfied: matplotlib-inline in /Users/jessicahong/.pyenv/versions/3.11.11/lib/python3.11/site-packages (from ipython) (0.1.7)\n",
      "Requirement already satisfied: pexpect>4.3 in /Users/jessicahong/.pyenv/versions/3.11.11/lib/python3.11/site-packages (from ipython) (4.9.0)\n",
      "Requirement already satisfied: prompt_toolkit<3.1.0,>=3.0.41 in /Users/jessicahong/.pyenv/versions/3.11.11/lib/python3.11/site-packages (from ipython) (3.0.51)\n",
      "Requirement already satisfied: pygments>=2.4.0 in /Users/jessicahong/.pyenv/versions/3.11.11/lib/python3.11/site-packages (from ipython) (2.19.1)\n",
      "Requirement already satisfied: stack_data in /Users/jessicahong/.pyenv/versions/3.11.11/lib/python3.11/site-packages (from ipython) (0.6.3)\n",
      "Requirement already satisfied: traitlets>=5.13.0 in /Users/jessicahong/.pyenv/versions/3.11.11/lib/python3.11/site-packages (from ipython) (5.14.3)\n",
      "Requirement already satisfied: typing_extensions>=4.6 in /Users/jessicahong/.pyenv/versions/3.11.11/lib/python3.11/site-packages (from ipython) (4.14.0)\n",
      "Requirement already satisfied: wcwidth in /Users/jessicahong/.pyenv/versions/3.11.11/lib/python3.11/site-packages (from prompt_toolkit<3.1.0,>=3.0.41->ipython) (0.2.13)\n",
      "Requirement already satisfied: parso<0.9.0,>=0.8.4 in /Users/jessicahong/.pyenv/versions/3.11.11/lib/python3.11/site-packages (from jedi>=0.16->ipython) (0.8.4)\n",
      "Requirement already satisfied: ptyprocess>=0.5 in /Users/jessicahong/.pyenv/versions/3.11.11/lib/python3.11/site-packages (from pexpect>4.3->ipython) (0.7.0)\n",
      "Requirement already satisfied: executing>=1.2.0 in /Users/jessicahong/.pyenv/versions/3.11.11/lib/python3.11/site-packages (from stack_data->ipython) (2.2.0)\n",
      "Requirement already satisfied: asttokens>=2.1.0 in /Users/jessicahong/.pyenv/versions/3.11.11/lib/python3.11/site-packages (from stack_data->ipython) (3.0.0)\n",
      "Requirement already satisfied: pure-eval in /Users/jessicahong/.pyenv/versions/3.11.11/lib/python3.11/site-packages (from stack_data->ipython) (0.2.3)\n"
     ]
    }
   ],
   "source": [
    "!pip install --upgrade ipython"
   ]
  },
  {
   "cell_type": "code",
   "execution_count": 64,
   "id": "284a504d-c0df-463f-a697-2cbda0e42ae0",
   "metadata": {},
   "outputs": [],
   "source": [
    "doc2 = nlp(u\"This is a sentence, this is another sentence. This is another sentence, possibly longer than other.\")"
   ]
  },
  {
   "cell_type": "code",
   "execution_count": 70,
   "id": "2d793efa-86de-4550-a0a1-fd790eef90a5",
   "metadata": {},
   "outputs": [],
   "source": [
    "#extracts sentences from the processed document doc2.\n",
    "\n",
    "\n",
    "spans = list(doc2.sents) #-->a generator of sentence spans (subsections of the doc representing sentences)."
   ]
  },
  {
   "cell_type": "code",
   "execution_count": 69,
   "id": "6825cfe2-397e-460d-b7e1-d58ed79b9ee7",
   "metadata": {},
   "outputs": [],
   "source": [
    "#displacy.serve(spans, style='dep', options={'distance': 110}, port=5001)"
   ]
  },
  {
   "cell_type": "code",
   "execution_count": null,
   "id": "39a35149-28cd-4123-958b-fc8dc04a3ee9",
   "metadata": {},
   "outputs": [],
   "source": [
    "127.0.0.1:5001"
   ]
  },
  {
   "cell_type": "code",
   "execution_count": null,
   "id": "69a1fe68-c735-47e8-b6b6-abf6cae5ed2f",
   "metadata": {},
   "outputs": [],
   "source": [
    "import spacy"
   ]
  },
  {
   "cell_type": "code",
   "execution_count": null,
   "id": "de1a8d5c-dcdc-4249-8540-352c9916628e",
   "metadata": {},
   "outputs": [],
   "source": [
    "nlp = spacy.load('en_core_web_sm')"
   ]
  },
  {
   "cell_type": "code",
   "execution_count": 71,
   "id": "ff5477ed-8dbc-4f2b-bddf-8ca030f9aefb",
   "metadata": {},
   "outputs": [],
   "source": [
    "#Checks if the document has any entities (doc.ents).\n",
    "\n",
    "#If entities exist, iterates over each entity and prints:\n",
    "\n",
    "#The entity text (ent.text).\n",
    "\n",
    "#The entity label (ent.label_), e.g., PERSON, ORG.\n",
    "\n",
    "#If no entities are found, prints \"No entities found\".\n",
    "\n",
    "\n",
    "\n",
    "\n",
    "def show_ents(doc):\n",
    "    if doc.ents:\n",
    "        for ent in doc.ents:\n",
    "            print(ent.text + ' - ' + ent.label_ + ' - ' + str(spacy.explain(ent.label_)))\n",
    "    else:\n",
    "        print('No entities found')"
   ]
  },
  {
   "cell_type": "code",
   "execution_count": 72,
   "id": "5bf9a7fa-130c-4327-b806-a8310bda50a7",
   "metadata": {},
   "outputs": [],
   "source": [
    "#Processed the text 'Hi how are you?' using the nlp pipeline.\n",
    "\n",
    "doc = nlp(u'Hi how are you?')"
   ]
  },
  {
   "cell_type": "code",
   "execution_count": null,
   "id": "c80a74cd-4ce4-4866-8f49-f1a7f0534d1c",
   "metadata": {},
   "outputs": [],
   "source": [
    "show_ents(doc)"
   ]
  },
  {
   "cell_type": "code",
   "execution_count": null,
   "id": "88880a5e-fe7e-4ee2-933e-5baeb44ab351",
   "metadata": {},
   "outputs": [],
   "source": [
    "doc = nlp(u'May i go to Washington DC next May to see the Washington monument?')"
   ]
  },
  {
   "cell_type": "code",
   "execution_count": null,
   "id": "e6a6f8c9-195c-4f1c-a37f-34ea9e3fbf5c",
   "metadata": {},
   "outputs": [],
   "source": [
    "show_ents(doc)"
   ]
  },
  {
   "cell_type": "code",
   "execution_count": null,
   "id": "6a0a2107-facb-43c3-9e01-35ae7e43a5c5",
   "metadata": {},
   "outputs": [],
   "source": [
    "doc = nlp(u'Can I please have 500 dollars of Microsoft Stock?')"
   ]
  },
  {
   "cell_type": "code",
   "execution_count": null,
   "id": "c1815d88-e790-453d-98ae-88a8d0ff26a9",
   "metadata": {},
   "outputs": [],
   "source": [
    "show_ents(doc)"
   ]
  },
  {
   "cell_type": "code",
   "execution_count": null,
   "id": "4963c15c-56e0-46e6-86b0-ec9e2d174df6",
   "metadata": {},
   "outputs": [],
   "source": [
    "doc = nlp(u'Tesla to build a UK factory for $6 millioin')"
   ]
  },
  {
   "cell_type": "code",
   "execution_count": null,
   "id": "b1f02740-6402-48c1-a34f-a83929196fde",
   "metadata": {},
   "outputs": [],
   "source": [
    "show_ents(doc)"
   ]
  },
  {
   "cell_type": "code",
   "execution_count": null,
   "id": "cd38aaed-ad57-47dc-aebf-1c8f9439f6ff",
   "metadata": {},
   "outputs": [],
   "source": [
    "from spacy.tokens import span"
   ]
  },
  {
   "cell_type": "code",
   "execution_count": 73,
   "id": "16e74404-98a3-4a2a-942b-c8f6000cc917",
   "metadata": {},
   "outputs": [],
   "source": [
    "#doc.vocab.strings is a mapping between strings (like entity labels) and their internal integer IDs used for efficiency.\n",
    "ORG = doc.vocab.strings[u'ORG']"
   ]
  },
  {
   "cell_type": "code",
   "execution_count": null,
   "id": "c5030c1a-dfd9-4433-b09a-1ff38fc8ee98",
   "metadata": {},
   "outputs": [],
   "source": [
    "ORG"
   ]
  },
  {
   "cell_type": "code",
   "execution_count": null,
   "id": "f0ed8323-139e-4c8a-ba0e-51550a6b6044",
   "metadata": {},
   "outputs": [],
   "source": [
    "from spacy.tokens import Span"
   ]
  },
  {
   "cell_type": "code",
   "execution_count": null,
   "id": "6b131211-c029-4ae3-81f3-e430603bade5",
   "metadata": {},
   "outputs": [],
   "source": [
    "new_ent = Span(doc, 0, 1, label=ORG)"
   ]
  },
  {
   "cell_type": "code",
   "execution_count": null,
   "id": "26b0c420-883f-4220-a6b8-25db014f141e",
   "metadata": {},
   "outputs": [],
   "source": [
    "doc.ents = list(doc.ents) + [new_ent]"
   ]
  },
  {
   "cell_type": "code",
   "execution_count": null,
   "id": "58323a47-6bd6-49fe-a96d-5bc62a719e85",
   "metadata": {},
   "outputs": [],
   "source": [
    "show_ents(doc)"
   ]
  },
  {
   "cell_type": "code",
   "execution_count": null,
   "id": "87d5f20f-7887-42b3-9b96-059aecd5b8a3",
   "metadata": {},
   "outputs": [],
   "source": [
    "doc = nlp(u\"Our company created a brand new vacuum cleaner.\"\n",
    "        u\"This new vacuum-cleaner is the best in show.\")"
   ]
  },
  {
   "cell_type": "code",
   "execution_count": null,
   "id": "c5bf8a0a-154d-4920-af89-2c12a7990fae",
   "metadata": {},
   "outputs": [],
   "source": [
    "show_ents(doc)"
   ]
  },
  {
   "cell_type": "code",
   "execution_count": 74,
   "id": "ab0d85b5-03cb-4993-80fc-44e9e0d2e30b",
   "metadata": {},
   "outputs": [],
   "source": [
    "'''\n",
    "Imported PhraseMatcher from spacy.matcher.\n",
    "\n",
    "PhraseMatcher is a spaCy class used to match sequences of tokens (phrases) in a document.\n",
    "\n",
    "It allows efficient matching of large sets of phrases based on token patterns.\n",
    "\n",
    "Commonly used for recognizing multi-word expressions, custom named entities, or keyword spotting.\n",
    "'''\n",
    "\n",
    "    \n",
    "from spacy.matcher import PhraseMatcher"
   ]
  },
  {
   "cell_type": "code",
   "execution_count": 76,
   "id": "568843e6-ff45-40c9-96bf-5bf72b1f6b88",
   "metadata": {},
   "outputs": [],
   "source": [
    "'''Created an instance of PhraseMatcher called matcher.\n",
    "\n",
    "Initialized with nlp.vocab to use the vocabulary of the current spaCy model.\n",
    "\n",
    "This matcher can be used to add phrase patterns and find matches in documents.\n",
    "\n",
    "'''\n",
    "\n",
    "matcher = PhraseMatcher(nlp.vocab)"
   ]
  },
  {
   "cell_type": "code",
   "execution_count": 78,
   "id": "5075a97c-2c16-478a-bd0e-d39f09b5aa6d",
   "metadata": {},
   "outputs": [],
   "source": [
    "phrase_list = ['vacuum cleaner', 'vacuum-cleaner']"
   ]
  },
  {
   "cell_type": "code",
   "execution_count": 79,
   "id": "9aa9fe1e-6614-4d23-a52b-135bc7625deb",
   "metadata": {},
   "outputs": [],
   "source": [
    "'''\n",
    "Created a list called phrase_patterns.\n",
    "\n",
    "For each string in phrase_list, applied the nlp pipeline to convert it into a spaCy Doc object.\n",
    "'''\n",
    "\n",
    "phrase_patterns = [nlp(text) for text in phrase_list]"
   ]
  },
  {
   "cell_type": "code",
   "execution_count": 80,
   "id": "9e60af3e-64d1-4045-be15-be5737162ade",
   "metadata": {},
   "outputs": [],
   "source": [
    "#Added a new match pattern group named 'newproduct' to the matcher.\n",
    "matcher.add('newproduct', None, *phrase_patterns)"
   ]
  },
  {
   "cell_type": "code",
   "execution_count": 84,
   "id": "9276d92a-3c03-4ca5-b5f7-9e619e1d4701",
   "metadata": {},
   "outputs": [],
   "source": [
    "found_matches = matcher(doc)"
   ]
  },
  {
   "cell_type": "code",
   "execution_count": 85,
   "id": "10f6739a-1576-49df-993a-a8f3e171c98e",
   "metadata": {},
   "outputs": [
    {
     "data": {
      "text/plain": [
       "[]"
      ]
     },
     "execution_count": 85,
     "metadata": {},
     "output_type": "execute_result"
    }
   ],
   "source": [
    "found_matches"
   ]
  },
  {
   "cell_type": "code",
   "execution_count": 86,
   "id": "2a439191-43b1-4400-8422-ee550e4ce40d",
   "metadata": {},
   "outputs": [],
   "source": [
    "from spacy.tokens import span"
   ]
  },
  {
   "cell_type": "code",
   "execution_count": 87,
   "id": "4dec1aa7-6e88-4f49-9f93-bc774b9e0c44",
   "metadata": {},
   "outputs": [],
   "source": [
    "PROD = doc.vocab.strings[u\"PRODUCT\"]"
   ]
  },
  {
   "cell_type": "code",
   "execution_count": 88,
   "id": "3c9ca913-77df-4cb0-9a15-a55a55a6b35b",
   "metadata": {},
   "outputs": [
    {
     "data": {
      "text/plain": [
       "[]"
      ]
     },
     "execution_count": 88,
     "metadata": {},
     "output_type": "execute_result"
    }
   ],
   "source": [
    "found_matches"
   ]
  },
  {
   "cell_type": "code",
   "execution_count": 89,
   "id": "50e75f4a-351f-4e46-bf73-3a45fb216601",
   "metadata": {},
   "outputs": [],
   "source": [
    "'''\n",
    "Created a list new_ents of Span objects.\n",
    "\n",
    "For each match in found_matches, constructs a Span from doc starting at match[1] and ending at match[2].\n",
    "\n",
    "Assigns the label PROD (likely a custom entity label, e.g., for products) to each span.\n",
    "\n",
    "This converts matcher results into entity spans that can be added to the document's entities for further processing.\n",
    "\n",
    "'''\n",
    "new_ents = [Span(doc, match[1], match[2], label=PROD) for match in found_matches]"
   ]
  },
  {
   "cell_type": "code",
   "execution_count": 90,
   "id": "9f320f20-7ab6-4b0f-aa36-f74b84414db9",
   "metadata": {},
   "outputs": [],
   "source": [
    "doc.ents = list(doc.ents)+new_ents"
   ]
  },
  {
   "cell_type": "code",
   "execution_count": 91,
   "id": "338525ba-5e4e-4172-9785-e4dfd52c1548",
   "metadata": {},
   "outputs": [
    {
     "name": "stdout",
     "output_type": "stream",
     "text": [
      "No entities found\n"
     ]
    }
   ],
   "source": [
    "show_ents(doc)"
   ]
  },
  {
   "cell_type": "code",
   "execution_count": 92,
   "id": "0a361992-e6a9-4b84-a9e3-0ca64f201f9a",
   "metadata": {},
   "outputs": [],
   "source": [
    "doc = nlp(u\"Originally i paid $29.95 for this car toy, but now it is marked down 10 dollars.\")"
   ]
  },
  {
   "cell_type": "code",
   "execution_count": 93,
   "id": "0fe3c571-7d33-4967-a4b2-8b07135e8227",
   "metadata": {},
   "outputs": [
    {
     "data": {
      "text/plain": [
       "2"
      ]
     },
     "execution_count": 93,
     "metadata": {},
     "output_type": "execute_result"
    }
   ],
   "source": [
    "len([ent for ent in doc.ents if ent.label_==\"MONEY\"])"
   ]
  },
  {
   "cell_type": "code",
   "execution_count": 94,
   "id": "ad26eaea-1702-4029-a92c-2115856f1719",
   "metadata": {},
   "outputs": [
    {
     "name": "stdout",
     "output_type": "stream",
     "text": [
      "Found existing installation: ipython 9.3.0\n",
      "Uninstalling ipython-9.3.0:\n",
      "  Successfully uninstalled ipython-9.3.0\n",
      "Collecting ipython\n",
      "  Using cached ipython-9.3.0-py3-none-any.whl.metadata (4.4 kB)\n",
      "Requirement already satisfied: decorator in /Users/jessicahong/.pyenv/versions/3.11.11/lib/python3.11/site-packages (from ipython) (5.2.1)\n",
      "Requirement already satisfied: ipython-pygments-lexers in /Users/jessicahong/.pyenv/versions/3.11.11/lib/python3.11/site-packages (from ipython) (1.1.1)\n",
      "Requirement already satisfied: jedi>=0.16 in /Users/jessicahong/.pyenv/versions/3.11.11/lib/python3.11/site-packages (from ipython) (0.19.2)\n",
      "Requirement already satisfied: matplotlib-inline in /Users/jessicahong/.pyenv/versions/3.11.11/lib/python3.11/site-packages (from ipython) (0.1.7)\n",
      "Requirement already satisfied: pexpect>4.3 in /Users/jessicahong/.pyenv/versions/3.11.11/lib/python3.11/site-packages (from ipython) (4.9.0)\n",
      "Requirement already satisfied: prompt_toolkit<3.1.0,>=3.0.41 in /Users/jessicahong/.pyenv/versions/3.11.11/lib/python3.11/site-packages (from ipython) (3.0.51)\n",
      "Requirement already satisfied: pygments>=2.4.0 in /Users/jessicahong/.pyenv/versions/3.11.11/lib/python3.11/site-packages (from ipython) (2.19.1)\n",
      "Requirement already satisfied: stack_data in /Users/jessicahong/.pyenv/versions/3.11.11/lib/python3.11/site-packages (from ipython) (0.6.3)\n",
      "Requirement already satisfied: traitlets>=5.13.0 in /Users/jessicahong/.pyenv/versions/3.11.11/lib/python3.11/site-packages (from ipython) (5.14.3)\n",
      "Requirement already satisfied: typing_extensions>=4.6 in /Users/jessicahong/.pyenv/versions/3.11.11/lib/python3.11/site-packages (from ipython) (4.14.0)\n",
      "Requirement already satisfied: wcwidth in /Users/jessicahong/.pyenv/versions/3.11.11/lib/python3.11/site-packages (from prompt_toolkit<3.1.0,>=3.0.41->ipython) (0.2.13)\n",
      "Requirement already satisfied: parso<0.9.0,>=0.8.4 in /Users/jessicahong/.pyenv/versions/3.11.11/lib/python3.11/site-packages (from jedi>=0.16->ipython) (0.8.4)\n",
      "Requirement already satisfied: ptyprocess>=0.5 in /Users/jessicahong/.pyenv/versions/3.11.11/lib/python3.11/site-packages (from pexpect>4.3->ipython) (0.7.0)\n",
      "Requirement already satisfied: executing>=1.2.0 in /Users/jessicahong/.pyenv/versions/3.11.11/lib/python3.11/site-packages (from stack_data->ipython) (2.2.0)\n",
      "Requirement already satisfied: asttokens>=2.1.0 in /Users/jessicahong/.pyenv/versions/3.11.11/lib/python3.11/site-packages (from stack_data->ipython) (3.0.0)\n",
      "Requirement already satisfied: pure-eval in /Users/jessicahong/.pyenv/versions/3.11.11/lib/python3.11/site-packages (from stack_data->ipython) (0.2.3)\n",
      "Using cached ipython-9.3.0-py3-none-any.whl (605 kB)\n",
      "Installing collected packages: ipython\n",
      "Successfully installed ipython-9.3.0\n"
     ]
    }
   ],
   "source": [
    "!pip uninstall ipython -y\n",
    "!pip install ipython"
   ]
  },
  {
   "cell_type": "code",
   "execution_count": 95,
   "id": "a6a95ede-1b80-484e-ad22-34465a976616",
   "metadata": {},
   "outputs": [],
   "source": [
    "import spacy "
   ]
  },
  {
   "cell_type": "code",
   "execution_count": 96,
   "id": "7c351dc1-afd0-48ea-9f37-61c2fd889e01",
   "metadata": {},
   "outputs": [],
   "source": [
    "nlp = spacy.load('en_core_web_sm')"
   ]
  },
  {
   "cell_type": "code",
   "execution_count": 97,
   "id": "e064df8c-885a-4620-aa98-2af2931e88ce",
   "metadata": {},
   "outputs": [],
   "source": [
    "from spacy import displacy"
   ]
  },
  {
   "cell_type": "code",
   "execution_count": 98,
   "id": "4edd8b1f-fa00-46b9-9c95-9b0b94310a8a",
   "metadata": {},
   "outputs": [],
   "source": [
    "doc = nlp(u\"Over the last quarter Apple sold nearly 20 thousand iPods for a profit of $6 million\"\n",
    "         u\"By contrast, Sonly only sold 8 thousand Walkman music players.\")"
   ]
  },
  {
   "cell_type": "code",
   "execution_count": 99,
   "id": "508056f1-3fc5-442c-9bf7-a4b0265eaa6c",
   "metadata": {},
   "outputs": [
    {
     "data": {
      "text/html": [
       "<div class=\"entities\" style=\"line-height: 2.5; direction: ltr\">Over \n",
       "<mark class=\"entity\" style=\"background: #bfe1d9; padding: 0.45em 0.6em; margin: 0 0.25em; line-height: 1; border-radius: 0.35em;\">\n",
       "    the last quarter\n",
       "    <span style=\"font-size: 0.8em; font-weight: bold; line-height: 1; border-radius: 0.35em; vertical-align: middle; margin-left: 0.5rem\">DATE</span>\n",
       "</mark>\n",
       " \n",
       "<mark class=\"entity\" style=\"background: #7aecec; padding: 0.45em 0.6em; margin: 0 0.25em; line-height: 1; border-radius: 0.35em;\">\n",
       "    Apple\n",
       "    <span style=\"font-size: 0.8em; font-weight: bold; line-height: 1; border-radius: 0.35em; vertical-align: middle; margin-left: 0.5rem\">ORG</span>\n",
       "</mark>\n",
       " sold \n",
       "<mark class=\"entity\" style=\"background: #e4e7d2; padding: 0.45em 0.6em; margin: 0 0.25em; line-height: 1; border-radius: 0.35em;\">\n",
       "    nearly 20 thousand\n",
       "    <span style=\"font-size: 0.8em; font-weight: bold; line-height: 1; border-radius: 0.35em; vertical-align: middle; margin-left: 0.5rem\">CARDINAL</span>\n",
       "</mark>\n",
       " iPods for a profit of $\n",
       "<mark class=\"entity\" style=\"background: #e4e7d2; padding: 0.45em 0.6em; margin: 0 0.25em; line-height: 1; border-radius: 0.35em;\">\n",
       "    6\n",
       "    <span style=\"font-size: 0.8em; font-weight: bold; line-height: 1; border-radius: 0.35em; vertical-align: middle; margin-left: 0.5rem\">MONEY</span>\n",
       "</mark>\n",
       " millionBy contrast, Sonly only sold \n",
       "<mark class=\"entity\" style=\"background: #e4e7d2; padding: 0.45em 0.6em; margin: 0 0.25em; line-height: 1; border-radius: 0.35em;\">\n",
       "    8 thousand\n",
       "    <span style=\"font-size: 0.8em; font-weight: bold; line-height: 1; border-radius: 0.35em; vertical-align: middle; margin-left: 0.5rem\">CARDINAL</span>\n",
       "</mark>\n",
       " Walkman music players.</div>"
      ],
      "text/plain": [
       "<IPython.core.display.HTML object>"
      ]
     },
     "metadata": {},
     "output_type": "display_data"
    }
   ],
   "source": [
    "from IPython.display import display, HTML\n",
    "html = displacy.render(doc, style='ent', jupyter=False, options={'distance': 50})\n",
    "display(HTML(html))"
   ]
  },
  {
   "cell_type": "code",
   "execution_count": 103,
   "id": "c31f7573-7071-453f-bd5e-45ef97e68114",
   "metadata": {},
   "outputs": [
    {
     "data": {
      "text/html": [
       "<div class=\"entities\" style=\"line-height: 2.5; direction: ltr\">Over \n",
       "<mark class=\"entity\" style=\"background: #bfe1d9; padding: 0.45em 0.6em; margin: 0 0.25em; line-height: 1; border-radius: 0.35em;\">\n",
       "    the last quarter\n",
       "    <span style=\"font-size: 0.8em; font-weight: bold; line-height: 1; border-radius: 0.35em; vertical-align: middle; margin-left: 0.5rem\">DATE</span>\n",
       "</mark>\n",
       " \n",
       "<mark class=\"entity\" style=\"background: #7aecec; padding: 0.45em 0.6em; margin: 0 0.25em; line-height: 1; border-radius: 0.35em;\">\n",
       "    Apple\n",
       "    <span style=\"font-size: 0.8em; font-weight: bold; line-height: 1; border-radius: 0.35em; vertical-align: middle; margin-left: 0.5rem\">ORG</span>\n",
       "</mark>\n",
       " sold \n",
       "<mark class=\"entity\" style=\"background: #e4e7d2; padding: 0.45em 0.6em; margin: 0 0.25em; line-height: 1; border-radius: 0.35em;\">\n",
       "    nearly 20 thousand\n",
       "    <span style=\"font-size: 0.8em; font-weight: bold; line-height: 1; border-radius: 0.35em; vertical-align: middle; margin-left: 0.5rem\">CARDINAL</span>\n",
       "</mark>\n",
       " iPods for a profit of \n",
       "<mark class=\"entity\" style=\"background: #e4e7d2; padding: 0.45em 0.6em; margin: 0 0.25em; line-height: 1; border-radius: 0.35em;\">\n",
       "    $6 million\n",
       "    <span style=\"font-size: 0.8em; font-weight: bold; line-height: 1; border-radius: 0.35em; vertical-align: middle; margin-left: 0.5rem\">MONEY</span>\n",
       "</mark>\n",
       ".</div><br><br><div class=\"entities\" style=\"line-height: 2.5; direction: ltr\">By contrast, \n",
       "<mark class=\"entity\" style=\"background: #7aecec; padding: 0.45em 0.6em; margin: 0 0.25em; line-height: 1; border-radius: 0.35em;\">\n",
       "    Sony\n",
       "    <span style=\"font-size: 0.8em; font-weight: bold; line-height: 1; border-radius: 0.35em; vertical-align: middle; margin-left: 0.5rem\">ORG</span>\n",
       "</mark>\n",
       " only sold \n",
       "<mark class=\"entity\" style=\"background: #e4e7d2; padding: 0.45em 0.6em; margin: 0 0.25em; line-height: 1; border-radius: 0.35em;\">\n",
       "    8 thousand\n",
       "    <span style=\"font-size: 0.8em; font-weight: bold; line-height: 1; border-radius: 0.35em; vertical-align: middle; margin-left: 0.5rem\">CARDINAL</span>\n",
       "</mark>\n",
       " Walkman music players.</div>"
      ],
      "text/plain": [
       "<IPython.core.display.HTML object>"
      ]
     },
     "metadata": {},
     "output_type": "display_data"
    }
   ],
   "source": [
    "from IPython.display import display, HTML\n",
    "from spacy import displacy\n",
    "import spacy\n",
    "\n",
    "nlp = spacy.load(\"en_core_web_sm\")\n",
    "\n",
    "text = (\n",
    "    u\"Over the last quarter Apple sold nearly 20 thousand iPods for a profit of $6 million. \"\n",
    "    u\"By contrast, Sony only sold 8 thousand Walkman music players.\"\n",
    ")\n",
    "\n",
    "doc = nlp(text)\n",
    "\n",
    "# 문장별 시각화 결과를 하나의 HTML로 결합\n",
    "html_blocks = []\n",
    "for sent in doc.sents:\n",
    "    html = displacy.render(nlp(sent.text), style=\"ent\", jupyter=False)\n",
    "    html_blocks.append(html)\n",
    "\n",
    "# 줄바꿈 태그로 문장 사이 구분\n",
    "final_html = \"<br><br>\".join(html_blocks)\n",
    "display(HTML(final_html))\n"
   ]
  },
  {
   "cell_type": "code",
   "execution_count": 104,
   "id": "12fcdc52-f087-4f3a-80e9-1009aa232f45",
   "metadata": {},
   "outputs": [],
   "source": [
    "options = {'ents':['ORG']}"
   ]
  },
  {
   "cell_type": "code",
   "execution_count": 105,
   "id": "caa24586-1cad-4749-be2d-394988dac7a9",
   "metadata": {},
   "outputs": [
    {
     "ename": "IndentationError",
     "evalue": "unexpected indent (3924315234.py, line 2)",
     "output_type": "error",
     "traceback": [
      "  \u001b[36mCell\u001b[39m\u001b[36m \u001b[39m\u001b[32mIn[105]\u001b[39m\u001b[32m, line 2\u001b[39m\n\u001b[31m    \u001b[39m\u001b[31mdisplay(HTML(html))\u001b[39m\n    ^\n\u001b[31mIndentationError\u001b[39m\u001b[31m:\u001b[39m unexpected indent\n"
     ]
    }
   ],
   "source": [
    " html = displacy.render(nlp(sent.text), style=\"ent\", jupyter=False)\n",
    "    display(HTML(html))"
   ]
  },
  {
   "cell_type": "code",
   "execution_count": 106,
   "id": "c6b2edb0-bae9-4335-a5d7-fd988a3ae996",
   "metadata": {},
   "outputs": [
    {
     "data": {
      "text/html": [
       "<div class=\"entities\" style=\"line-height: 2.5; direction: ltr\">Over the last quarter \n",
       "<mark class=\"entity\" style=\"background: radial-gradient(yellow, green); padding: 0.45em 0.6em; margin: 0 0.25em; line-height: 1; border-radius: 0.35em;\">\n",
       "    Apple\n",
       "    <span style=\"font-size: 0.8em; font-weight: bold; line-height: 1; border-radius: 0.35em; vertical-align: middle; margin-left: 0.5rem\">ORG</span>\n",
       "</mark>\n",
       " sold nearly 20 thousand iPods for a profit of $6 million. By contrast, \n",
       "<mark class=\"entity\" style=\"background: radial-gradient(yellow, green); padding: 0.45em 0.6em; margin: 0 0.25em; line-height: 1; border-radius: 0.35em;\">\n",
       "    Sony\n",
       "    <span style=\"font-size: 0.8em; font-weight: bold; line-height: 1; border-radius: 0.35em; vertical-align: middle; margin-left: 0.5rem\">ORG</span>\n",
       "</mark>\n",
       " only sold 8 thousand Walkman music players.</div>"
      ],
      "text/plain": [
       "<IPython.core.display.HTML object>"
      ]
     },
     "metadata": {},
     "output_type": "display_data"
    }
   ],
   "source": [
    "from IPython.display import display, HTML\n",
    "from spacy import displacy\n",
    "\n",
    "colors = {'ORG': 'radial-gradient(yellow, green)'}\n",
    "options = {'ents': ['ORG'], 'colors':colors}\n",
    "html = displacy.render(doc, style='ent', jupyter=False, options=options)\n",
    "\n",
    "display(HTML(html))\n"
   ]
  },
  {
   "cell_type": "code",
   "execution_count": 107,
   "id": "78e5bfe7-f8be-4756-a718-3ffdca6f06ae",
   "metadata": {},
   "outputs": [
    {
     "name": "stderr",
     "output_type": "stream",
     "text": [
      "/Users/jessicahong/.pyenv/versions/3.11.11/lib/python3.11/site-packages/spacy/util.py:1846: UserWarning: [W124] 0.0.0.0:5000 is already in use, using the nearest available port 5001 as an alternative.\n",
      "  warnings.warn(Warnings.W124.format(host=host, port=start, serve_port=port))\n"
     ]
    },
    {
     "ename": "ImportError",
     "evalue": "cannot import name 'display' from 'IPython.core.display' (/Users/jessicahong/.pyenv/versions/3.11.11/lib/python3.11/site-packages/IPython/core/display.py)",
     "output_type": "error",
     "traceback": [
      "\u001b[31m---------------------------------------------------------------------------\u001b[39m",
      "\u001b[31mImportError\u001b[39m                               Traceback (most recent call last)",
      "\u001b[36mCell\u001b[39m\u001b[36m \u001b[39m\u001b[32mIn[107]\u001b[39m\u001b[32m, line 1\u001b[39m\n\u001b[32m----> \u001b[39m\u001b[32m1\u001b[39m \u001b[43mdisplacy\u001b[49m\u001b[43m.\u001b[49m\u001b[43mserve\u001b[49m\u001b[43m(\u001b[49m\u001b[43mdoc\u001b[49m\u001b[43m,\u001b[49m\u001b[43m \u001b[49m\u001b[43mstyle\u001b[49m\u001b[43m=\u001b[49m\u001b[33;43m'\u001b[39;49m\u001b[33;43ment\u001b[39;49m\u001b[33;43m'\u001b[39;49m\u001b[43m,\u001b[49m\u001b[43m \u001b[49m\u001b[43moptions\u001b[49m\u001b[43m=\u001b[49m\u001b[43moptions\u001b[49m\u001b[43m,\u001b[49m\u001b[43m \u001b[49m\u001b[43mauto_select_port\u001b[49m\u001b[43m=\u001b[49m\u001b[38;5;28;43;01mTrue\u001b[39;49;00m\u001b[43m)\u001b[49m\n",
      "\u001b[36mFile \u001b[39m\u001b[32m~/.pyenv/versions/3.11.11/lib/python3.11/site-packages/spacy/displacy/__init__.py:107\u001b[39m, in \u001b[36mserve\u001b[39m\u001b[34m(docs, style, page, minify, options, manual, port, host, auto_select_port)\u001b[39m\n\u001b[32m    105\u001b[39m \u001b[38;5;28;01mif\u001b[39;00m is_in_jupyter():\n\u001b[32m    106\u001b[39m     warnings.warn(Warnings.W011)\n\u001b[32m--> \u001b[39m\u001b[32m107\u001b[39m \u001b[43mrender\u001b[49m\u001b[43m(\u001b[49m\u001b[43mdocs\u001b[49m\u001b[43m,\u001b[49m\u001b[43m \u001b[49m\u001b[43mstyle\u001b[49m\u001b[43m=\u001b[49m\u001b[43mstyle\u001b[49m\u001b[43m,\u001b[49m\u001b[43m \u001b[49m\u001b[43mpage\u001b[49m\u001b[43m=\u001b[49m\u001b[43mpage\u001b[49m\u001b[43m,\u001b[49m\u001b[43m \u001b[49m\u001b[43mminify\u001b[49m\u001b[43m=\u001b[49m\u001b[43mminify\u001b[49m\u001b[43m,\u001b[49m\u001b[43m \u001b[49m\u001b[43moptions\u001b[49m\u001b[43m=\u001b[49m\u001b[43moptions\u001b[49m\u001b[43m,\u001b[49m\u001b[43m \u001b[49m\u001b[43mmanual\u001b[49m\u001b[43m=\u001b[49m\u001b[43mmanual\u001b[49m\u001b[43m)\u001b[49m\n\u001b[32m    108\u001b[39m httpd = simple_server.make_server(host, port, app)\n\u001b[32m    109\u001b[39m \u001b[38;5;28mprint\u001b[39m(\u001b[33mf\u001b[39m\u001b[33m\"\u001b[39m\u001b[38;5;130;01m\\n\u001b[39;00m\u001b[33mUsing the \u001b[39m\u001b[33m'\u001b[39m\u001b[38;5;132;01m{\u001b[39;00mstyle\u001b[38;5;132;01m}\u001b[39;00m\u001b[33m'\u001b[39m\u001b[33m visualizer\u001b[39m\u001b[33m\"\u001b[39m)\n",
      "\u001b[36mFile \u001b[39m\u001b[32m~/.pyenv/versions/3.11.11/lib/python3.11/site-packages/spacy/displacy/__init__.py:69\u001b[39m, in \u001b[36mrender\u001b[39m\u001b[34m(docs, style, page, minify, jupyter, options, manual)\u001b[39m\n\u001b[32m     65\u001b[39m     html = RENDER_WRAPPER(html)\n\u001b[32m     66\u001b[39m \u001b[38;5;28;01mif\u001b[39;00m jupyter \u001b[38;5;129;01mor\u001b[39;00m (jupyter \u001b[38;5;129;01mis\u001b[39;00m \u001b[38;5;28;01mNone\u001b[39;00m \u001b[38;5;129;01mand\u001b[39;00m is_in_jupyter()):\n\u001b[32m     67\u001b[39m     \u001b[38;5;66;03m# return HTML rendered by IPython display()\u001b[39;00m\n\u001b[32m     68\u001b[39m     \u001b[38;5;66;03m# See #4840 for details on span wrapper to disable mathjax\u001b[39;00m\n\u001b[32m---> \u001b[39m\u001b[32m69\u001b[39m     \u001b[38;5;28;01mfrom\u001b[39;00m\u001b[38;5;250m \u001b[39m\u001b[34;01mIPython\u001b[39;00m\u001b[34;01m.\u001b[39;00m\u001b[34;01mcore\u001b[39;00m\u001b[34;01m.\u001b[39;00m\u001b[34;01mdisplay\u001b[39;00m\u001b[38;5;250m \u001b[39m\u001b[38;5;28;01mimport\u001b[39;00m HTML, display\n\u001b[32m     71\u001b[39m     \u001b[38;5;28;01mreturn\u001b[39;00m display(HTML(\u001b[33m'\u001b[39m\u001b[33m<span class=\u001b[39m\u001b[33m\"\u001b[39m\u001b[33mtex2jax_ignore\u001b[39m\u001b[33m\"\u001b[39m\u001b[33m>\u001b[39m\u001b[38;5;132;01m{}\u001b[39;00m\u001b[33m</span>\u001b[39m\u001b[33m'\u001b[39m.format(html)))\n\u001b[32m     72\u001b[39m \u001b[38;5;28;01mreturn\u001b[39;00m html\n",
      "\u001b[31mImportError\u001b[39m: cannot import name 'display' from 'IPython.core.display' (/Users/jessicahong/.pyenv/versions/3.11.11/lib/python3.11/site-packages/IPython/core/display.py)"
     ]
    }
   ],
   "source": [
    "displacy.serve(doc, style='ent', options=options, auto_select_port=True)\n"
   ]
  },
  {
   "cell_type": "code",
   "execution_count": 108,
   "id": "6e8f8c8e-32ba-4d18-8815-538fdc9506ec",
   "metadata": {},
   "outputs": [],
   "source": [
    "import spacy"
   ]
  },
  {
   "cell_type": "code",
   "execution_count": 109,
   "id": "74f3ecff-0b88-4437-92c5-ec2e73c2d3cf",
   "metadata": {},
   "outputs": [],
   "source": [
    "nlp = spacy.load('en_core_web_sm')"
   ]
  },
  {
   "cell_type": "code",
   "execution_count": 110,
   "id": "4145808c-abb5-4330-b974-fc3f5d9d5fa1",
   "metadata": {},
   "outputs": [],
   "source": [
    "doc = nlp(u\"This is first sentence. this is another sentence. this is last sentence\")"
   ]
  },
  {
   "cell_type": "code",
   "execution_count": 111,
   "id": "868eafd8-3775-4045-bb66-9b6432bd088a",
   "metadata": {},
   "outputs": [
    {
     "name": "stdout",
     "output_type": "stream",
     "text": [
      "This is first sentence.\n",
      "this is another sentence.\n",
      "this is last sentence\n"
     ]
    }
   ],
   "source": [
    "for sent in doc.sents:\n",
    "    print(sent)"
   ]
  },
  {
   "cell_type": "code",
   "execution_count": 112,
   "id": "74fcad97-56b3-46da-9671-534ca49903f4",
   "metadata": {},
   "outputs": [
    {
     "data": {
      "text/plain": [
       "This is first sentence."
      ]
     },
     "execution_count": 112,
     "metadata": {},
     "output_type": "execute_result"
    }
   ],
   "source": [
    "list(doc.sents)[0]"
   ]
  },
  {
   "cell_type": "code",
   "execution_count": 113,
   "id": "87c75963-5529-43bf-861d-5d6894f1b7b3",
   "metadata": {},
   "outputs": [
    {
     "data": {
      "text/plain": [
       "spacy.tokens.span.Span"
      ]
     },
     "execution_count": 113,
     "metadata": {},
     "output_type": "execute_result"
    }
   ],
   "source": [
    "type(list(doc.sents)[0])"
   ]
  },
  {
   "cell_type": "code",
   "execution_count": 114,
   "id": "204a0f37-1bbd-4d67-a730-c0857462f1a1",
   "metadata": {},
   "outputs": [],
   "source": [
    "doc = nlp(u'\"Management is doing the right thing; leadership is doing the right things.\"-Peter Drucker.')"
   ]
  },
  {
   "cell_type": "code",
   "execution_count": 115,
   "id": "65a7ec9c-9356-4557-968e-1cc3e4cef8b4",
   "metadata": {},
   "outputs": [
    {
     "data": {
      "text/plain": [
       "'\"Management is doing the right thing; leadership is doing the right things.\"-Peter Drucker.'"
      ]
     },
     "execution_count": 115,
     "metadata": {},
     "output_type": "execute_result"
    }
   ],
   "source": [
    "doc.text"
   ]
  },
  {
   "cell_type": "code",
   "execution_count": 116,
   "id": "2853b429-2d95-47d7-8311-650db910b7ec",
   "metadata": {},
   "outputs": [
    {
     "name": "stdout",
     "output_type": "stream",
     "text": [
      "\"Management is doing the right thing; leadership is doing the right things.\n",
      "\n",
      "\n",
      "\"-Peter\n",
      "\n",
      "\n",
      "Drucker.\n",
      "\n",
      "\n"
     ]
    }
   ],
   "source": [
    "for sent in doc.sents:\n",
    "    print(sent)\n",
    "    print('\\n')"
   ]
  },
  {
   "cell_type": "code",
   "execution_count": 117,
   "id": "beebfae9-f243-4d66-b3b4-f2b41c9564cf",
   "metadata": {},
   "outputs": [
    {
     "name": "stdout",
     "output_type": "stream",
     "text": [
      "\"Management is doing the right thing; leadership is doing the right things.\"\n",
      "\n",
      "\n",
      "- Peter Drucker.\n",
      "\n",
      "\n"
     ]
    }
   ],
   "source": [
    "import spacy\n",
    "from spacy.pipeline import Sentencizer\n",
    "\n",
    "nlp = spacy.load(\"en_core_web_sm\")\n",
    "\n",
    "# Sentencizer 추가\n",
    "if \"sentencizer\" not in nlp.pipe_names:\n",
    "    sentencizer = nlp.add_pipe(\"sentencizer\")\n",
    "\n",
    "# 테스트 문장\n",
    "text = u'\"Management is doing the right thing; leadership is doing the right things.\" - Peter Drucker.'\n",
    "doc = nlp(text)\n",
    "\n",
    "for sent in doc.sents:\n",
    "    print(sent)\n",
    "    print(\"\\n\")\n"
   ]
  },
  {
   "cell_type": "code",
   "execution_count": 118,
   "id": "5fe57da5-325d-4c40-8e5a-d93fd4dcd103",
   "metadata": {},
   "outputs": [],
   "source": [
    "#ADD SEGMENTATION RULE"
   ]
  },
  {
   "cell_type": "code",
   "execution_count": 119,
   "id": "82f31af6-a7a4-4075-aa4c-48b7ba38ff15",
   "metadata": {},
   "outputs": [],
   "source": [
    "import spacy\n",
    "from spacy.language import Language\n",
    "nlp = spacy.load(\"en_core_web_sm\")"
   ]
  },
  {
   "cell_type": "code",
   "execution_count": 122,
   "id": "8da1a3ac-0d35-4b69-8f69-b90f2c0f9d30",
   "metadata": {},
   "outputs": [],
   "source": [
    "#Defined a custom pipeline component named \"set_custom_boundaries\" using the @Language.component decorator.\n",
    "#The function set_custom_boundaries(doc) modifies sentence boundaries in the doc.\n",
    "#It loops through all tokens in doc by index.\n",
    "#If a token’s text is ';' (semicolon), it sets the next token’s is_sent_start attribute to True.\n",
    "#This forces spaCy to treat the token after a semicolon as the start of a new sentence.\n",
    "#returns the modified doc.\n"
   ]
  },
  {
   "cell_type": "code",
   "execution_count": 123,
   "id": "f8cc9e39-589c-4857-87f6-0782fb666c78",
   "metadata": {},
   "outputs": [],
   "source": [
    "@Language.component(\"set_custom_boundaries\")\n",
    "def set_custom_boundaries (doc):\n",
    "    for i,token in enumerate(doc):\n",
    "        if token.text == ';':\n",
    "            doc[token.i+1].is_sent_start = True\n",
    "    return doc"
   ]
  },
  {
   "cell_type": "code",
   "execution_count": 124,
   "id": "862edcfb-1ee1-4a03-87d6-ac8c08a4b101",
   "metadata": {},
   "outputs": [
    {
     "data": {
      "text/plain": [
       "<function __main__.set_custom_boundaries(doc)>"
      ]
     },
     "execution_count": 124,
     "metadata": {},
     "output_type": "execute_result"
    }
   ],
   "source": [
    "#Added the custom pipeline component \"set_custom_boundaries\" to the nlp pipeline.\n",
    "#Used before=\"parser\" argument to insert this component before the dependency parser in the pipeline.\n",
    "\n",
    "nlp.add_pipe(\"set_custom_boundaries\", before=\"parser\")"
   ]
  },
  {
   "cell_type": "code",
   "execution_count": 125,
   "id": "65c2444b-fe07-4b0b-bc1a-54bf83140c69",
   "metadata": {},
   "outputs": [],
   "source": [
    "text = u'\"Management is doing the right thing; leadership is doing the right things.\" - Peter Drucker.'\n",
    "doc = nlp(text)"
   ]
  },
  {
   "cell_type": "code",
   "execution_count": 126,
   "id": "b79ebb40-d7d1-447d-8e95-cb53bf073c91",
   "metadata": {},
   "outputs": [
    {
     "ename": "ValueError",
     "evalue": "[E043] Refusing to write to token.sent_start if its document is parsed, because this may cause inconsistent state.",
     "output_type": "error",
     "traceback": [
      "\u001b[31m---------------------------------------------------------------------------\u001b[39m",
      "\u001b[31mValueError\u001b[39m                                Traceback (most recent call last)",
      "\u001b[36mCell\u001b[39m\u001b[36m \u001b[39m\u001b[32mIn[126]\u001b[39m\u001b[32m, line 1\u001b[39m\n\u001b[32m----> \u001b[39m\u001b[32m1\u001b[39m \u001b[43mset_custom_boundaries\u001b[49m\u001b[43m(\u001b[49m\u001b[43mdoc\u001b[49m\u001b[43m)\u001b[49m\n",
      "\u001b[36mCell\u001b[39m\u001b[36m \u001b[39m\u001b[32mIn[123]\u001b[39m\u001b[32m, line 5\u001b[39m, in \u001b[36mset_custom_boundaries\u001b[39m\u001b[34m(doc)\u001b[39m\n\u001b[32m      3\u001b[39m \u001b[38;5;28;01mfor\u001b[39;00m i,token \u001b[38;5;129;01min\u001b[39;00m \u001b[38;5;28menumerate\u001b[39m(doc):\n\u001b[32m      4\u001b[39m     \u001b[38;5;28;01mif\u001b[39;00m token.text == \u001b[33m'\u001b[39m\u001b[33m;\u001b[39m\u001b[33m'\u001b[39m:\n\u001b[32m----> \u001b[39m\u001b[32m5\u001b[39m         \u001b[43mdoc\u001b[49m\u001b[43m[\u001b[49m\u001b[43mtoken\u001b[49m\u001b[43m.\u001b[49m\u001b[43mi\u001b[49m\u001b[43m+\u001b[49m\u001b[32;43m1\u001b[39;49m\u001b[43m]\u001b[49m\u001b[43m.\u001b[49m\u001b[43mis_sent_start\u001b[49m = \u001b[38;5;28;01mTrue\u001b[39;00m\n\u001b[32m      6\u001b[39m \u001b[38;5;28;01mreturn\u001b[39;00m doc\n",
      "\u001b[36mFile \u001b[39m\u001b[32m~/.pyenv/versions/3.11.11/lib/python3.11/site-packages/spacy/tokens/token.pyx:535\u001b[39m, in \u001b[36mspacy.tokens.token.Token.is_sent_start.__set__\u001b[39m\u001b[34m()\u001b[39m\n",
      "\u001b[31mValueError\u001b[39m: [E043] Refusing to write to token.sent_start if its document is parsed, because this may cause inconsistent state."
     ]
    }
   ],
   "source": [
    "set_custom_boundaries(doc)"
   ]
  },
  {
   "cell_type": "code",
   "execution_count": 127,
   "id": "a7652a69-b7e3-47e6-81f0-0eaf7919c577",
   "metadata": {},
   "outputs": [
    {
     "name": "stdout",
     "output_type": "stream",
     "text": [
      "\"Management is doing the right thing;\n",
      "\n",
      "\n",
      "leadership is doing the right things.\"\n",
      "\n",
      "\n",
      "- Peter Drucker.\n",
      "\n",
      "\n"
     ]
    }
   ],
   "source": [
    "import spacy\n",
    "from spacy.language import Language\n",
    "\n",
    "# 1. spaCy 모델 로드\n",
    "nlp = spacy.load(\"en_core_web_sm\")\n",
    "\n",
    "# 2. 사용자 정의 문장 경계 함수 등록\n",
    "@Language.component(\"set_custom_boundaries\")\n",
    "def set_custom_boundaries(doc):\n",
    "    for i, token in enumerate(doc[:-1]):\n",
    "        # 세미콜론 뒤를 문장 끝으로 지정\n",
    "        if token.text == \";\":\n",
    "            doc[i+1].is_sent_start = True\n",
    "    return doc\n",
    "\n",
    "# 3. 파이프라인에 추가 (parser 앞에 삽입)\n",
    "nlp.add_pipe(\"set_custom_boundaries\", before=\"parser\")\n",
    "\n",
    "# 4. 실행\n",
    "text = u'\"Management is doing the right thing; leadership is doing the right things.\" - Peter Drucker.'\n",
    "doc = nlp(text)\n",
    "\n",
    "for sent in doc.sents:\n",
    "    print(sent)\n",
    "    print(\"\\n\")\n"
   ]
  },
  {
   "cell_type": "code",
   "execution_count": 128,
   "id": "0b1e0142-2dd3-47dd-8278-554a2e42a575",
   "metadata": {},
   "outputs": [],
   "source": [
    "doc4 = u'\"Management is doing the right thing; leadership is doing the right things.\" - Peter Drucker.'\n",
    "doc4= nlp(doc4)"
   ]
  },
  {
   "cell_type": "code",
   "execution_count": 129,
   "id": "328816f2-68cf-4580-b894-e31b66543211",
   "metadata": {},
   "outputs": [
    {
     "name": "stdout",
     "output_type": "stream",
     "text": [
      "\"Management is doing the right thing;\n",
      "leadership is doing the right things.\"\n",
      "- Peter Drucker.\n"
     ]
    }
   ],
   "source": [
    "for sent in doc4.sents:\n",
    "    print(sent)"
   ]
  },
  {
   "cell_type": "code",
   "execution_count": null,
   "id": "3c91698d-3861-4387-994e-c614f07917e8",
   "metadata": {},
   "outputs": [],
   "source": [
    "#change segmentation rules"
   ]
  },
  {
   "cell_type": "code",
   "execution_count": null,
   "id": "990e92f2-4e03-41f5-af7f-46545b05e2e9",
   "metadata": {},
   "outputs": [],
   "source": [
    "nlp = spacy.load('en_core_web_sm')"
   ]
  },
  {
   "cell_type": "code",
   "execution_count": null,
   "id": "280410fb-f01e-4eb5-9309-e4b82160eb50",
   "metadata": {},
   "outputs": [],
   "source": [
    "mystring = u'This is a sentence. This is another.\\n\\n This is a \\nthrid sentence.'"
   ]
  },
  {
   "cell_type": "code",
   "execution_count": null,
   "id": "4026c2f4-0ac4-442f-a3a5-02caf88bf4fa",
   "metadata": {},
   "outputs": [],
   "source": [
    "print(mystring)"
   ]
  },
  {
   "cell_type": "code",
   "execution_count": null,
   "id": "c8b14173-97ce-4a11-9673-18c8e5180b8f",
   "metadata": {},
   "outputs": [],
   "source": [
    "doc = nlp(mystring)"
   ]
  },
  {
   "cell_type": "code",
   "execution_count": 131,
   "id": "10fab56c-e827-481b-9986-0d1a567c84f9",
   "metadata": {},
   "outputs": [
    {
     "name": "stdout",
     "output_type": "stream",
     "text": [
      "\"Management is doing the right thing;\n",
      "leadership is doing the right things.\"\n",
      "- Peter Drucker.\n"
     ]
    }
   ],
   "source": [
    "for sentence in doc.sents:\n",
    "    print(sentence)"
   ]
  },
  {
   "cell_type": "code",
   "execution_count": 133,
   "id": "70c17674-4e12-4cd3-b06c-4685823f2432",
   "metadata": {},
   "outputs": [],
   "source": [
    "'''\n",
    "Defined a custom pipeline component \"split_on_newlines\" to split a document into spans at newline characters.\n",
    "Loops over tokens; when a token starts with a newline ('\\n'), yields the span from the last start index up to (but not including) the current token.\n",
    "Updates the start index to the current token index.\n",
    "After the loop, yields the remaining span from the last start index to the end.\n",
    "'''\n",
    "\n",
    "from spacy.language import Language\n",
    "\n",
    "@Language.component(\"split_on_newlines\")\n",
    "def split_on_newlines(doc):\n",
    "    start = 0\n",
    "    for i, token in enumerate(doc):\n",
    "        if token.text.startswith('\\n'):\n",
    "            yield doc[start:i]\n",
    "            start = i\n",
    "    yield doc[start:]"
   ]
  },
  {
   "cell_type": "code",
   "execution_count": null,
   "id": "e97d98e9-a4a0-4a09-8dc7-3b8c40fd89a2",
   "metadata": {},
   "outputs": [],
   "source": [
    "sbd = SentenceSegmenter(nlp.vocab, strategy=split_on_newlines)"
   ]
  },
  {
   "cell_type": "code",
   "execution_count": null,
   "id": "6814fcf3-f24f-4003-9438-c1ee45db5003",
   "metadata": {},
   "outputs": [],
   "source": [
    "from spacy.language import Language\n",
    "import spacy\n",
    "\n",
    "@Language.component(\"split_on_newlines\")\n",
    "def split_on_newlines(doc):\n",
    "    start = 0\n",
    "    for i, token in enumerate(doc):\n",
    "        if token.text == \"\\n\":\n",
    "            doc[start].is_sent_start = True\n",
    "            start = i + 1\n",
    "    return doc\n",
    "\n",
    "# spaCy 모델 불러오기\n",
    "nlp = spacy.load(\"en_core_web_sm\")\n",
    "\n",
    "# 기존 'parser' 앞에 커스텀 문장 분리기 삽입\n",
    "nlp.add_pipe(\"split_on_newlines\", before=\"parser\")\n",
    "\n",
    "# 테스트 문장\n",
    "text = \"Management is doing the right thing.\\nLeadership is doing the right things.\\n- Peter Drucker\"\n",
    "\n",
    "doc = nlp(text)\n",
    "\n",
    "# 문장 단위로 출력\n",
    "for sent in doc.sents:\n",
    "    print(sent.text)\n"
   ]
  },
  {
   "cell_type": "code",
   "execution_count": null,
   "id": "2e3e75cb-5298-47b6-a262-d1722b50e252",
   "metadata": {},
   "outputs": [],
   "source": []
  }
 ],
 "metadata": {
  "kernelspec": {
   "display_name": "Python 3 (ipykernel)",
   "language": "python",
   "name": "python3"
  },
  "language_info": {
   "codemirror_mode": {
    "name": "ipython",
    "version": 3
   },
   "file_extension": ".py",
   "mimetype": "text/x-python",
   "name": "python",
   "nbconvert_exporter": "python",
   "pygments_lexer": "ipython3",
   "version": "3.11.11"
  }
 },
 "nbformat": 4,
 "nbformat_minor": 5
}
