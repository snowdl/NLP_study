{
 "cells": [
  {
   "cell_type": "code",
   "execution_count": 3,
   "id": "e86c8b9e-0892-453f-adc1-b81d4c4becea",
   "metadata": {},
   "outputs": [
    {
     "name": "stdout",
     "output_type": "stream",
     "text": [
      "Found existing installation: spacy 3.8.7\n",
      "Uninstalling spacy-3.8.7:\n",
      "  Successfully uninstalled spacy-3.8.7\n",
      "Collecting spacy\n",
      "  Using cached spacy-3.8.7-cp311-cp311-macosx_11_0_arm64.whl.metadata (27 kB)\n",
      "Requirement already satisfied: spacy-legacy<3.1.0,>=3.0.11 in ./12_data/.pyenv/versions/3.11.11/lib/python3.11/site-packages (from spacy) (3.0.12)\n",
      "Requirement already satisfied: spacy-loggers<2.0.0,>=1.0.0 in ./12_data/.pyenv/versions/3.11.11/lib/python3.11/site-packages (from spacy) (1.0.5)\n",
      "Requirement already satisfied: murmurhash<1.1.0,>=0.28.0 in ./12_data/.pyenv/versions/3.11.11/lib/python3.11/site-packages (from spacy) (1.0.13)\n",
      "Requirement already satisfied: cymem<2.1.0,>=2.0.2 in ./12_data/.pyenv/versions/3.11.11/lib/python3.11/site-packages (from spacy) (2.0.11)\n",
      "Requirement already satisfied: preshed<3.1.0,>=3.0.2 in ./12_data/.pyenv/versions/3.11.11/lib/python3.11/site-packages (from spacy) (3.0.9)\n",
      "Requirement already satisfied: thinc<8.4.0,>=8.3.4 in ./12_data/.pyenv/versions/3.11.11/lib/python3.11/site-packages (from spacy) (8.3.6)\n",
      "Requirement already satisfied: wasabi<1.2.0,>=0.9.1 in ./12_data/.pyenv/versions/3.11.11/lib/python3.11/site-packages (from spacy) (1.1.3)\n",
      "Requirement already satisfied: srsly<3.0.0,>=2.4.3 in ./12_data/.pyenv/versions/3.11.11/lib/python3.11/site-packages (from spacy) (2.5.1)\n",
      "Requirement already satisfied: catalogue<2.1.0,>=2.0.6 in ./12_data/.pyenv/versions/3.11.11/lib/python3.11/site-packages (from spacy) (2.0.10)\n",
      "Requirement already satisfied: weasel<0.5.0,>=0.1.0 in ./12_data/.pyenv/versions/3.11.11/lib/python3.11/site-packages (from spacy) (0.4.1)\n",
      "Requirement already satisfied: typer<1.0.0,>=0.3.0 in ./12_data/.pyenv/versions/3.11.11/lib/python3.11/site-packages (from spacy) (0.15.2)\n",
      "Requirement already satisfied: tqdm<5.0.0,>=4.38.0 in ./12_data/.pyenv/versions/3.11.11/lib/python3.11/site-packages (from spacy) (4.67.1)\n",
      "Requirement already satisfied: numpy>=1.19.0 in ./12_data/.pyenv/versions/3.11.11/lib/python3.11/site-packages (from spacy) (2.3.1)\n",
      "Requirement already satisfied: requests<3.0.0,>=2.13.0 in ./12_data/.pyenv/versions/3.11.11/lib/python3.11/site-packages (from spacy) (2.32.3)\n",
      "Requirement already satisfied: pydantic!=1.8,!=1.8.1,<3.0.0,>=1.7.4 in ./12_data/.pyenv/versions/3.11.11/lib/python3.11/site-packages (from spacy) (2.9.2)\n",
      "Requirement already satisfied: jinja2 in ./12_data/.pyenv/versions/3.11.11/lib/python3.11/site-packages (from spacy) (3.1.6)\n",
      "Requirement already satisfied: setuptools in ./12_data/.pyenv/versions/3.11.11/lib/python3.11/site-packages (from spacy) (77.0.3)\n",
      "Requirement already satisfied: packaging>=20.0 in ./12_data/.pyenv/versions/3.11.11/lib/python3.11/site-packages (from spacy) (24.2)\n",
      "Requirement already satisfied: langcodes<4.0.0,>=3.2.0 in ./12_data/.pyenv/versions/3.11.11/lib/python3.11/site-packages (from spacy) (3.5.0)\n",
      "Requirement already satisfied: language-data>=1.2 in ./12_data/.pyenv/versions/3.11.11/lib/python3.11/site-packages (from langcodes<4.0.0,>=3.2.0->spacy) (1.3.0)\n",
      "Requirement already satisfied: annotated-types>=0.6.0 in ./12_data/.pyenv/versions/3.11.11/lib/python3.11/site-packages (from pydantic!=1.8,!=1.8.1,<3.0.0,>=1.7.4->spacy) (0.7.0)\n",
      "Requirement already satisfied: pydantic-core==2.23.4 in ./12_data/.pyenv/versions/3.11.11/lib/python3.11/site-packages (from pydantic!=1.8,!=1.8.1,<3.0.0,>=1.7.4->spacy) (2.23.4)\n",
      "Requirement already satisfied: typing-extensions>=4.6.1 in ./12_data/.pyenv/versions/3.11.11/lib/python3.11/site-packages (from pydantic!=1.8,!=1.8.1,<3.0.0,>=1.7.4->spacy) (4.14.0)\n",
      "Requirement already satisfied: charset-normalizer<4,>=2 in ./12_data/.pyenv/versions/3.11.11/lib/python3.11/site-packages (from requests<3.0.0,>=2.13.0->spacy) (3.4.1)\n",
      "Requirement already satisfied: idna<4,>=2.5 in ./12_data/.pyenv/versions/3.11.11/lib/python3.11/site-packages (from requests<3.0.0,>=2.13.0->spacy) (3.10)\n",
      "Requirement already satisfied: urllib3<3,>=1.21.1 in ./12_data/.pyenv/versions/3.11.11/lib/python3.11/site-packages (from requests<3.0.0,>=2.13.0->spacy) (2.3.0)\n",
      "Requirement already satisfied: certifi>=2017.4.17 in ./12_data/.pyenv/versions/3.11.11/lib/python3.11/site-packages (from requests<3.0.0,>=2.13.0->spacy) (2025.1.31)\n",
      "Requirement already satisfied: blis<1.4.0,>=1.3.0 in ./12_data/.pyenv/versions/3.11.11/lib/python3.11/site-packages (from thinc<8.4.0,>=8.3.4->spacy) (1.3.0)\n",
      "Requirement already satisfied: confection<1.0.0,>=0.0.1 in ./12_data/.pyenv/versions/3.11.11/lib/python3.11/site-packages (from thinc<8.4.0,>=8.3.4->spacy) (0.1.5)\n",
      "Requirement already satisfied: click>=8.0.0 in ./12_data/.pyenv/versions/3.11.11/lib/python3.11/site-packages (from typer<1.0.0,>=0.3.0->spacy) (8.1.8)\n",
      "Requirement already satisfied: shellingham>=1.3.0 in ./12_data/.pyenv/versions/3.11.11/lib/python3.11/site-packages (from typer<1.0.0,>=0.3.0->spacy) (1.5.4)\n",
      "Requirement already satisfied: rich>=10.11.0 in ./12_data/.pyenv/versions/3.11.11/lib/python3.11/site-packages (from typer<1.0.0,>=0.3.0->spacy) (13.9.4)\n",
      "Requirement already satisfied: cloudpathlib<1.0.0,>=0.7.0 in ./12_data/.pyenv/versions/3.11.11/lib/python3.11/site-packages (from weasel<0.5.0,>=0.1.0->spacy) (0.21.1)\n",
      "Requirement already satisfied: smart-open<8.0.0,>=5.2.1 in ./12_data/.pyenv/versions/3.11.11/lib/python3.11/site-packages (from weasel<0.5.0,>=0.1.0->spacy) (7.1.0)\n",
      "Requirement already satisfied: wrapt in ./12_data/.pyenv/versions/3.11.11/lib/python3.11/site-packages (from smart-open<8.0.0,>=5.2.1->weasel<0.5.0,>=0.1.0->spacy) (1.17.2)\n",
      "Requirement already satisfied: marisa-trie>=1.1.0 in ./12_data/.pyenv/versions/3.11.11/lib/python3.11/site-packages (from language-data>=1.2->langcodes<4.0.0,>=3.2.0->spacy) (1.2.1)\n",
      "Requirement already satisfied: markdown-it-py>=2.2.0 in ./12_data/.pyenv/versions/3.11.11/lib/python3.11/site-packages (from rich>=10.11.0->typer<1.0.0,>=0.3.0->spacy) (3.0.0)\n",
      "Requirement already satisfied: pygments<3.0.0,>=2.13.0 in ./12_data/.pyenv/versions/3.11.11/lib/python3.11/site-packages (from rich>=10.11.0->typer<1.0.0,>=0.3.0->spacy) (2.19.1)\n",
      "Requirement already satisfied: mdurl~=0.1 in ./12_data/.pyenv/versions/3.11.11/lib/python3.11/site-packages (from markdown-it-py>=2.2.0->rich>=10.11.0->typer<1.0.0,>=0.3.0->spacy) (0.1.2)\n",
      "Requirement already satisfied: MarkupSafe>=2.0 in ./12_data/.pyenv/versions/3.11.11/lib/python3.11/site-packages (from jinja2->spacy) (3.0.2)\n",
      "Using cached spacy-3.8.7-cp311-cp311-macosx_11_0_arm64.whl (6.4 MB)\n",
      "Installing collected packages: spacy\n",
      "Successfully installed spacy-3.8.7\n"
     ]
    }
   ],
   "source": [
    "!pip uninstall -y spacy\n",
    "!pip install spacy"
   ]
  },
  {
   "cell_type": "code",
   "execution_count": 4,
   "id": "54ebfdae-af42-478c-930d-85aa03d4e3c5",
   "metadata": {},
   "outputs": [
    {
     "name": "stdout",
     "output_type": "stream",
     "text": [
      "./12_data/.pyenv/versions/3.11.11/lib/python3.11/site-packages/IPython/display.py\n"
     ]
    }
   ],
   "source": [
    "import IPython.display\n",
    "print(IPython.display.__file__)\n"
   ]
  },
  {
   "cell_type": "code",
   "execution_count": 4,
   "id": "0aec75d4-01c9-4c17-8154-5144bc6ceec8",
   "metadata": {},
   "outputs": [],
   "source": [
    "from spacy import displacy\n",
    "from IPython.display import display, HTML\n",
    "import spacy\n"
   ]
  },
  {
   "cell_type": "code",
   "execution_count": 5,
   "id": "d77772c6-ba43-46f8-9168-0a659762bc60",
   "metadata": {},
   "outputs": [],
   "source": [
    "# Load the small English language model\n",
    "nlp = spacy.load('en_core_web_sm')"
   ]
  },
  {
   "cell_type": "code",
   "execution_count": 6,
   "id": "02c1ea5a-75b6-4b4e-a376-ca28a19a6ca9",
   "metadata": {},
   "outputs": [],
   "source": [
    "from spacy.matcher import Matcher"
   ]
  },
  {
   "cell_type": "code",
   "execution_count": 7,
   "id": "be63410e-6dad-4398-b841-45f2ed5ac5fc",
   "metadata": {},
   "outputs": [],
   "source": [
    "# Initialize the Matcher with the shared vocabulary\n",
    "matcher = Matcher(nlp.vocab)"
   ]
  },
  {
   "cell_type": "code",
   "execution_count": 8,
   "id": "b7c2cf16-318b-44d2-bb66-0e61863df752",
   "metadata": {},
   "outputs": [],
   "source": [
    "# Pattern for matching \"SolarPower\" as a single word (case-insensitive)\n",
    "pattern1 = [{'LOWER': 'solarpower'}]\n",
    "\n",
    "# Pattern for matching \"Solar-power\" (case-insensitive, with a hyphen or any punctuation between)\n",
    "pattern2 = [{'LOWER': 'solar'}, {'IS_PUNCT': True}, {'LOWER': 'power'}]\n",
    "\n",
    "# Pattern for matching \"Solar power\" as two separate words (case-insensitive)\n",
    "pattern3 = [{'LOWER': 'solar'}, {'LOWER': 'power'}]"
   ]
  },
  {
   "cell_type": "code",
   "execution_count": 9,
   "id": "5833444d-d8ae-4f7c-9157-89c08bf6523f",
   "metadata": {},
   "outputs": [],
   "source": [
    "# Add the patterns to the matcher under the name \"SolarPower\"\n",
    "matcher.add(\"SolarPower\", [pattern1, pattern2, pattern3])"
   ]
  },
  {
   "cell_type": "code",
   "execution_count": 10,
   "id": "c47763da-c3f0-43a5-871b-0da9b9463830",
   "metadata": {},
   "outputs": [],
   "source": [
    "# Process the input text with the spaCy pipeline\n",
    "doc = nlp(u\"The Solar Power Industry continues to grow as solar power increases. Solar-power is amazing\")"
   ]
  },
  {
   "cell_type": "code",
   "execution_count": 11,
   "id": "f3134f4b-4b05-4143-8b96-1309ce4b01b4",
   "metadata": {},
   "outputs": [],
   "source": [
    "# Apply the matcher to the processed doc to find pattern matches\n",
    "found_matches = matcher(doc)"
   ]
  },
  {
   "cell_type": "code",
   "execution_count": 30,
   "id": "8b83dc15-2728-4915-b6fd-f6cb89e63838",
   "metadata": {},
   "outputs": [
    {
     "name": "stdout",
     "output_type": "stream",
     "text": [
      "[(8656102463236116519, 1, 3), (8656102463236116519, 9, 11), (8656102463236116519, 13, 16)]\n"
     ]
    }
   ],
   "source": [
    "print(found_matches)"
   ]
  },
  {
   "cell_type": "code",
   "execution_count": 12,
   "id": "30a4cfc4-c53d-4c7c-9b1e-b60826a977da",
   "metadata": {},
   "outputs": [
    {
     "name": "stdout",
     "output_type": "stream",
     "text": [
      "8656102463236116519 SolarPower 1 3 Solar Power\n",
      "8656102463236116519 SolarPower 8 10 solar power\n",
      "8656102463236116519 SolarPower 12 15 Solar-power\n"
     ]
    }
   ],
   "source": [
    "# Iterate through the found matches\n",
    "for match_id, start, end in found_matches:\n",
    "    string_id = nlp.vocab.strings[match_id]  # Get the string representation of the match ID\n",
    "    span = doc[start:end]                    # Get the matched span from the doc\n",
    "    print(match_id, string_id, start, end, span.text)  # Print match details"
   ]
  },
  {
   "cell_type": "code",
   "execution_count": 13,
   "id": "c70d0398-1f1d-4c7b-a95e-9b2dbd847995",
   "metadata": {},
   "outputs": [],
   "source": [
    "# Remove the \"SolarPower\" patterns from the matcher\n",
    "matcher.remove('SolarPower')\n"
   ]
  },
  {
   "cell_type": "code",
   "execution_count": 15,
   "id": "01e2b8a5-1988-4042-8352-0fe7c34028d4",
   "metadata": {},
   "outputs": [],
   "source": [
    "# Pattern to match \"solarpower\" as a single word (case-insensitive)\n",
    "pattern1 = [{'LOWER': 'solarpower'}]\n",
    "\n",
    "# Pattern to match \"solar\" and \"power\" separated by zero or more punctuation marks\n",
    "pattern2 = [\n",
    "    {'LOWER': 'solar'},\n",
    "    {'IS_PUNCT': True, 'OP': '*'},  # Zero or more punctuation tokens allowed\n",
    "    {'LOWER': 'power'}\n",
    "]"
   ]
  },
  {
   "cell_type": "code",
   "execution_count": 16,
   "id": "fdf73af8-7373-48dc-a429-f0ed530e8e3d",
   "metadata": {},
   "outputs": [],
   "source": [
    "# Add the patterns to the matcher under the name \"SolarPower\"\n",
    "matcher.add(\"SolarPower\", [pattern1, pattern2])"
   ]
  },
  {
   "cell_type": "code",
   "execution_count": 17,
   "id": "225e3970-e129-439f-87c9-b29604964389",
   "metadata": {},
   "outputs": [],
   "source": [
    "# Process the sample text with the spaCy pipeline\n",
    "doc2 = nlp(u\"Solar--power is solarpower yay!\")"
   ]
  },
  {
   "cell_type": "code",
   "execution_count": 18,
   "id": "cccd5c46-0d01-4dea-8df7-aa9d53285634",
   "metadata": {},
   "outputs": [],
   "source": [
    "found_matches= matcher(doc2)"
   ]
  },
  {
   "cell_type": "code",
   "execution_count": 19,
   "id": "40191782-9eeb-4abe-914b-8c83f794c77c",
   "metadata": {},
   "outputs": [
    {
     "name": "stdout",
     "output_type": "stream",
     "text": [
      "[(8656102463236116519, 0, 3), (8656102463236116519, 4, 5)]\n"
     ]
    }
   ],
   "source": [
    "print(found_matches)"
   ]
  },
  {
   "cell_type": "code",
   "execution_count": 21,
   "id": "23316e98-39e8-480e-9e6b-22ba6a7f485c",
   "metadata": {},
   "outputs": [],
   "source": [
    "from spacy.matcher import PhraseMatcher"
   ]
  },
  {
   "cell_type": "code",
   "execution_count": 22,
   "id": "14ae8009-d9e2-43aa-9ac1-8fba48b4328c",
   "metadata": {},
   "outputs": [],
   "source": [
    "# Create a PhraseMatcher object with the vocabulary\n",
    "matcher = PhraseMatcher(nlp.vocab)"
   ]
  },
  {
   "cell_type": "code",
   "execution_count": 23,
   "id": "55754872-3a47-4679-b607-9bab21662bce",
   "metadata": {},
   "outputs": [],
   "source": [
    "with open('./12_data/Downloads/UPDATED_NLP_COURSE/TextFiles/reaganomics.txt', 'r', encoding='ISO-8859-1') as f:\n",
    "    doc3 = nlp(f.read())\n",
    "\n"
   ]
  },
  {
   "cell_type": "code",
   "execution_count": 25,
   "id": "03ee881a-8e23-4b1e-bdc4-d300a426f686",
   "metadata": {},
   "outputs": [],
   "source": [
    "phrase_list=['voodooo', 'supply-sidie economics' , 'trickle-down economics', 'free-market economics']\n"
   ]
  },
  {
   "cell_type": "code",
   "execution_count": 26,
   "id": "8e5fdb0e-2f40-4a29-9654-cb04234e2240",
   "metadata": {},
   "outputs": [],
   "source": [
    "# Create a list of Doc objects for each phrase in phrase_list\n",
    "# This is required for PhraseMatcher patterns\n",
    "phrase_patterns = [nlp(text) for text in phrase_list]"
   ]
  },
  {
   "cell_type": "code",
   "execution_count": 50,
   "id": "6e32ffbb-867c-4a8a-9967-4da0e62153da",
   "metadata": {},
   "outputs": [],
   "source": [
    "matcher.add('EconMatcher', None, *phrase_patterns)"
   ]
  },
  {
   "cell_type": "code",
   "execution_count": 51,
   "id": "97aa468f-c431-4b7c-949d-c295f8f917c1",
   "metadata": {},
   "outputs": [],
   "source": [
    "found_matches = matcher(doc3)"
   ]
  },
  {
   "cell_type": "code",
   "execution_count": 52,
   "id": "528c146e-0fb0-4a38-ada0-3e3053aee0e2",
   "metadata": {},
   "outputs": [
    {
     "data": {
      "text/plain": [
       "[(3680293220734633682, 49, 53),\n",
       " (3680293220734633682, 61, 65),\n",
       " (3680293220734633682, 2986, 2990)]"
      ]
     },
     "execution_count": 52,
     "metadata": {},
     "output_type": "execute_result"
    }
   ],
   "source": [
    "found_matches"
   ]
  },
  {
   "cell_type": "code",
   "execution_count": 27,
   "id": "9755d3f7-f3ee-4de6-8910-b4a5a776bede",
   "metadata": {},
   "outputs": [
    {
     "name": "stdout",
     "output_type": "stream",
     "text": [
      "8656102463236116519 SolarPower 0 3 REAGANOMICS\n",
      "https://en.wikipedia.org/wiki/Reaganomics\n",
      "\n",
      "Reaganomics (a portmanteau\n",
      "8656102463236116519 SolarPower 4 5 REAGANOMICS\n",
      "https://en.wikipedia.org/wiki/Reaganomics\n",
      "\n",
      "Reaganomics (a portmanteau of [\n"
     ]
    }
   ],
   "source": [
    "# Iterate through the found matches\n",
    "for match_id, start, end in found_matches:\n",
    "    string_id = nlp.vocab.strings[match_id]  # Get the string representation of the match ID\n",
    "    # Get a span of tokens: 5 tokens before and after the matched span (for context)\n",
    "    span = doc3[max(0, start-5):min(len(doc3), end+5)]\n",
    "    print(match_id, string_id, start, end, span.text)"
   ]
  },
  {
   "cell_type": "code",
   "execution_count": 31,
   "id": "78a0fb17-af1a-4582-934b-44af2f13a38a",
   "metadata": {},
   "outputs": [],
   "source": [
    "#1.Pattern Diversification and Refinement"
   ]
  },
  {
   "cell_type": "code",
   "execution_count": 32,
   "id": "e4643682-d71d-4b6b-ab66-678d7d323f74",
   "metadata": {},
   "outputs": [],
   "source": [
    "from spacy.matcher import Matcher\n",
    "\n",
    "# Initialize the Matcher with the vocabulary from the loaded spaCy model\n",
    "matcher = Matcher(nlp.vocab)\n",
    "\n",
    "# Pattern to match \"solarpower\" as a single word (case-insensitive)\n",
    "pattern1 = [{'LOWER': 'solarpower'}]\n",
    "\n",
    "# Pattern to match \"solar\" and \"power/powers/powered\" with zero or more punctuation marks in between\n",
    "# For example: \"solar-power\", \"solar--power\", \"solar powered\"\n",
    "pattern2 = [\n",
    "    {'LOWER': 'solar'},\n",
    "    {'IS_PUNCT': True, 'OP': '*'},  # zero or more punctuation tokens allowed\n",
    "    {'LOWER': {'IN': ['power', 'powers', 'powered']}}\n",
    "]\n",
    "\n",
    "# Pattern to match \"solar power\", \"solar powers\", or \"solar powered\" as two separate words\n",
    "pattern3 = [\n",
    "    {'LOWER': 'solar'},\n",
    "    {'LOWER': {'IN': ['power', 'powers', 'powered']}}\n",
    "]\n",
    "\n",
    "# Add all patterns to the matcher under the label \"SolarPower\"\n",
    "matcher.add(\"SolarPower\", [pattern1, pattern2, pattern3])\n"
   ]
  },
  {
   "cell_type": "code",
   "execution_count": 33,
   "id": "4a7c5d69-f4a9-4580-b06b-49d1aa6488ba",
   "metadata": {},
   "outputs": [],
   "source": [
    "#automate the analysis of matching results using Pandas"
   ]
  },
  {
   "cell_type": "code",
   "execution_count": 34,
   "id": "13b088b2-4387-4b71-bcf5-b794dd951008",
   "metadata": {},
   "outputs": [
    {
     "name": "stdout",
     "output_type": "stream",
     "text": [
      "              match_id       label  start  end             text\n",
      "0  8656102463236116519  SolarPower      0    3  The Solar Power\n",
      "1  8656102463236116519  SolarPower      4    5        continues\n",
      "label\n",
      "SolarPower    2\n",
      "Name: count, dtype: int64\n"
     ]
    }
   ],
   "source": [
    "import pandas as pd\n",
    "\n",
    "# Create an empty list to store match results\n",
    "results = []\n",
    "\n",
    "# Iterate through the found matches\n",
    "for match_id, start, end in found_matches:\n",
    "    span = doc[start:end]  # Get the matched span from the document\n",
    "    results.append({\n",
    "        \"match_id\": match_id,  # Numeric ID for the match\n",
    "        \"label\": nlp.vocab.strings[match_id],  # String label for the pattern\n",
    "        \"start\": start,  # Start token index of the match\n",
    "        \"end\": end,      # End token index of the match\n",
    "        \"text\": span.text  # The matched text itself\n",
    "    })\n",
    "\n",
    "# Convert the results list into a Pandas DataFrame for analysis\n",
    "df = pd.DataFrame(results)\n",
    "\n",
    "# Display the first few rows of the DataFrame\n",
    "print(df.head())\n",
    "\n",
    "# Show the frequency of each pattern label\n",
    "print(df['label'].value_counts())\n"
   ]
  },
  {
   "cell_type": "code",
   "execution_count": 35,
   "id": "8005d102-318a-4a23-b9fc-06ac7a0d636b",
   "metadata": {},
   "outputs": [],
   "source": [
    "#combine Matcher results with spaCy’s Named Entity Recognition (NER)"
   ]
  },
  {
   "cell_type": "code",
   "execution_count": 36,
   "id": "3b490d53-841a-4048-97ad-665c339401a8",
   "metadata": {},
   "outputs": [
    {
     "name": "stdout",
     "output_type": "stream",
     "text": [
      "The Solar Power Industry ORG\n",
      "Match 'The Solar Power' overlaps with entity 'The Solar Power Industry' (label: ORG)\n"
     ]
    }
   ],
   "source": [
    "# Run NER on your document (already done if you used nlp(text))\n",
    "for ent in doc.ents:\n",
    "    print(ent.text, ent.label_)  # Print entity text and its label\n",
    "\n",
    "# Compare Matcher results with NER entities\n",
    "for match_id, start, end in found_matches:\n",
    "    span = doc[start:end]  # The matched phrase from your pattern\n",
    "    for ent in doc.ents:\n",
    "        # Check if the match and the entity overlap in token positions\n",
    "        if ent.start < end and ent.end > start:\n",
    "            print(f\"Match '{span.text}' overlaps with entity '{ent.text}' (label: {ent.label_})\")\n"
   ]
  },
  {
   "cell_type": "code",
   "execution_count": 37,
   "id": "bb5f550e-80ea-4c72-af47-022c62461cca",
   "metadata": {},
   "outputs": [],
   "source": [
    "#Modularizing with Functions"
   ]
  },
  {
   "cell_type": "code",
   "execution_count": 38,
   "id": "a07a6fde-3f5e-472a-a9b7-4d8cf21b625f",
   "metadata": {},
   "outputs": [
    {
     "name": "stdout",
     "output_type": "stream",
     "text": [
      "[{'match_id': 8656102463236116519, 'label': 'SolarPower', 'start': 0, 'end': 2, 'text': 'Solar power'}, {'match_id': 8656102463236116519, 'label': 'SolarPower', 'start': 3, 'end': 6, 'text': 'solar-powered'}, {'match_id': 8656102463236116519, 'label': 'SolarPower', 'start': 10, 'end': 11, 'text': 'SolarPower'}]\n"
     ]
    }
   ],
   "source": [
    "def find_matches(matcher, doc):\n",
    "    \"\"\"\n",
    "    Finds all pattern matches in a spaCy Doc object using the given matcher.\n",
    "    Returns a list of dictionaries with match details.\n",
    "    \"\"\"\n",
    "    results = []\n",
    "    for match_id, start, end in matcher(doc):\n",
    "        span = doc[start:end]\n",
    "        results.append({\n",
    "            \"match_id\": match_id,\n",
    "            \"label\": doc.vocab.strings[match_id],\n",
    "            \"start\": start,\n",
    "            \"end\": end,\n",
    "            \"text\": span.text\n",
    "        })\n",
    "    return results\n",
    "\n",
    "# Usage example:\n",
    "doc = nlp(\"Solar power and solar-powered devices are everywhere. SolarPower is trending.\")\n",
    "matches = find_matches(matcher, doc)\n",
    "print(matches)\n"
   ]
  },
  {
   "cell_type": "code",
   "execution_count": 39,
   "id": "8caa750f-6c21-4c9e-8c52-42db1ab70e5e",
   "metadata": {},
   "outputs": [],
   "source": [
    "#Batch Processing of Multiple Texts)"
   ]
  },
  {
   "cell_type": "code",
   "execution_count": 40,
   "id": "f098f73c-76e5-43ef-92ec-41d7774a6575",
   "metadata": {},
   "outputs": [
    {
     "name": "stdout",
     "output_type": "stream",
     "text": [
      "              match_id       label  start  end           text  \\\n",
      "0  8656102463236116519  SolarPower      0    2    Solar power   \n",
      "1  8656102463236116519  SolarPower      3    6  solar-powered   \n",
      "2  8656102463236116519  SolarPower      1    2     SolarPower   \n",
      "\n",
      "                                   source_text  \n",
      "0        Solar power is becoming more popular.  \n",
      "1       Many people use solar-powered devices.  \n",
      "2  The SolarPower industry is growing rapidly.  \n"
     ]
    }
   ],
   "source": [
    "# Example list of texts (could be loaded from files, a database, etc.)\n",
    "texts = [\n",
    "    \"Solar power is becoming more popular.\",\n",
    "    \"Many people use solar-powered devices.\",\n",
    "    \"The SolarPower industry is growing rapidly.\"\n",
    "]\n",
    "\n",
    "# Collect all match results from all texts\n",
    "all_results = []\n",
    "\n",
    "for text in texts:\n",
    "    doc = nlp(text)\n",
    "    matches = find_matches(matcher, doc)  # Reusing the function from earlier\n",
    "    for match in matches:\n",
    "        match['source_text'] = text  # Optionally, add the original text for context\n",
    "        all_results.append(match)\n",
    "\n",
    "# Convert to a DataFrame for further analysis\n",
    "import pandas as pd\n",
    "df = pd.DataFrame(all_results)\n",
    "\n",
    "# Display the results\n",
    "print(df)\n"
   ]
  },
  {
   "cell_type": "code",
   "execution_count": 42,
   "id": "aee32206-bc86-4a5f-93af-6547e9c56c15",
   "metadata": {},
   "outputs": [],
   "source": [
    "#Visualization of Matching Results"
   ]
  },
  {
   "cell_type": "code",
   "execution_count": 43,
   "id": "eb12d5ba-ecfb-441e-8980-8510c1baebda",
   "metadata": {},
   "outputs": [
    {
     "data": {
      "image/png": "[encoded data removed]",
      "text/plain": [
       "<Figure size 640x480 with 1 Axes>"
      ]
     },
     "metadata": {},
     "output_type": "display_data"
    }
   ],
   "source": [
    "import matplotlib.pyplot as plt\n",
    "\n",
    "# Count the frequency of each pattern label\n",
    "label_counts = df['label'].value_counts()\n",
    "\n",
    "# Plot a bar chart\n",
    "label_counts.plot(kind='bar')\n",
    "plt.title(\"Pattern Match Frequency\")\n",
    "plt.xlabel(\"Pattern Label\")\n",
    "plt.ylabel(\"Count\")\n",
    "plt.show()\n"
   ]
  },
  {
   "cell_type": "code",
   "execution_count": 44,
   "id": "cc25c7f8-304a-4f4d-a898-80a0e5b04702",
   "metadata": {},
   "outputs": [
    {
     "data": {
      "image/png": "[encoded data removed]",
      "text/plain": [
       "<Figure size 1000x500 with 1 Axes>"
      ]
     },
     "metadata": {},
     "output_type": "display_data"
    }
   ],
   "source": [
    "from wordcloud import WordCloud\n",
    "\n",
    "# Combine all matched texts into a single string\n",
    "all_matched_text = \" \".join(df['text'])\n",
    "\n",
    "# Generate and display the word cloud\n",
    "wordcloud = WordCloud(width=800, height=400, background_color='white').generate(all_matched_text)\n",
    "plt.figure(figsize=(10, 5))\n",
    "plt.imshow(wordcloud, interpolation='bilinear')\n",
    "plt.axis('off')\n",
    "plt.title(\"Word Cloud of Matched Phrases\")\n",
    "plt.show()\n"
   ]
  },
  {
   "cell_type": "code",
   "execution_count": null,
   "id": "9b0b7b96-7192-467b-9ee1-6c3cb567370c",
   "metadata": {},
   "outputs": [],
   "source": []
  }
 ],
 "metadata": {
  "kernelspec": {
   "display_name": "Python 3 (ipykernel)",
   "language": "python",
   "name": "python3"
  },
  "language_info": {
   "codemirror_mode": {
    "name": "ipython",
    "version": 3
   },
   "file_extension": ".py",
   "mimetype": "text/x-python",
   "name": "python",
   "nbconvert_exporter": "python",
   "pygments_lexer": "ipython3",
   "version": "3.11.11"
  }
 },
 "nbformat": 4,
 "nbformat_minor": 5
}
