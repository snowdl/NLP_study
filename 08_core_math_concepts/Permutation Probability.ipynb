{
 "cells": [
  {
   "cell_type": "code",
   "execution_count": 1,
   "id": "8c9992df-5082-4ec5-b588-e50ba434605f",
   "metadata": {},
   "outputs": [],
   "source": [
    "#itertools.permutations"
   ]
  },
  {
   "cell_type": "code",
   "execution_count": 2,
   "id": "65b7e9d7-b9bc-4b9c-8853-b109ec31e5ba",
   "metadata": {},
   "outputs": [],
   "source": [
    "import itertools"
   ]
  },
  {
   "cell_type": "code",
   "execution_count": 3,
   "id": "768d868c-5a56-4608-a9d9-3bb81f9059a0",
   "metadata": {},
   "outputs": [],
   "source": [
    "elements = [1,2,3,4]"
   ]
  },
  {
   "cell_type": "code",
   "execution_count": 4,
   "id": "9baaa56c-36e3-4cfb-a16d-24fa5ea24935",
   "metadata": {},
   "outputs": [],
   "source": [
    "perms = list(itertools.permutations(elements))"
   ]
  },
  {
   "cell_type": "code",
   "execution_count": 5,
   "id": "97a27e87-36d2-4c5b-aa11-a38a46b9da6b",
   "metadata": {},
   "outputs": [
    {
     "name": "stdout",
     "output_type": "stream",
     "text": [
      "총 순열 수: 24, 첫 요소가 1일 확률: 0.250\n"
     ]
    }
   ],
   "source": [
    "# 예시: 순열에서 첫번째 요소가 1일 확률\n",
    "count = sum(1 for p in perms if p[0] == 1)\n",
    "prob = count / len(perms)\n",
    "print(f\"총 순열 수: {len(perms)}, 첫 요소가 1일 확률: {prob:.3f}\")"
   ]
  },
  {
   "cell_type": "code",
   "execution_count": null,
   "id": "ea21d5e1-bba2-4ab9-a82d-78c56107757c",
   "metadata": {},
   "outputs": [],
   "source": []
  }
 ],
 "metadata": {
  "kernelspec": {
   "display_name": "Python (nlp_env)",
   "language": "python",
   "name": "nlp_env"
  },
  "language_info": {
   "codemirror_mode": {
    "name": "ipython",
    "version": 3
   },
   "file_extension": ".py",
   "mimetype": "text/x-python",
   "name": "python",
   "nbconvert_exporter": "python",
   "pygments_lexer": "ipython3",
   "version": "3.10.12"
  }
 },
 "nbformat": 4,
 "nbformat_minor": 5
}
