{
 "cells": [
  {
   "cell_type": "code",
   "execution_count": 52,
   "id": "9f36eab0-8a92-4a56-aace-4f1a7285c3e0",
   "metadata": {},
   "outputs": [
    {
     "name": "stdout",
     "output_type": "stream",
     "text": [
      "Requirement already satisfied: plotly in /Users/jessicahong/.pyenv/versions/3.11.11/lib/python3.11/site-packages (6.1.2)\n",
      "Requirement already satisfied: notebook in /Users/jessicahong/.pyenv/versions/3.11.11/lib/python3.11/site-packages (7.4.3)\n",
      "Requirement already satisfied: cufflinks in /Users/jessicahong/.pyenv/versions/3.11.11/lib/python3.11/site-packages (0.17.3)\n",
      "Requirement already satisfied: narwhals>=1.15.1 in /Users/jessicahong/.pyenv/versions/3.11.11/lib/python3.11/site-packages (from plotly) (1.31.0)\n",
      "Requirement already satisfied: packaging in /Users/jessicahong/.pyenv/versions/3.11.11/lib/python3.11/site-packages (from plotly) (24.2)\n",
      "Requirement already satisfied: jupyter-server<3,>=2.4.0 in /Users/jessicahong/.pyenv/versions/3.11.11/lib/python3.11/site-packages (from notebook) (2.15.0)\n",
      "Requirement already satisfied: jupyterlab-server<3,>=2.27.1 in /Users/jessicahong/.pyenv/versions/3.11.11/lib/python3.11/site-packages (from notebook) (2.27.3)\n",
      "Requirement already satisfied: jupyterlab<4.5,>=4.4.3 in /Users/jessicahong/.pyenv/versions/3.11.11/lib/python3.11/site-packages (from notebook) (4.4.3)\n",
      "Requirement already satisfied: notebook-shim<0.3,>=0.2 in /Users/jessicahong/.pyenv/versions/3.11.11/lib/python3.11/site-packages (from notebook) (0.2.4)\n",
      "Requirement already satisfied: tornado>=6.2.0 in /Users/jessicahong/.pyenv/versions/3.11.11/lib/python3.11/site-packages (from notebook) (6.4.2)\n",
      "Requirement already satisfied: anyio>=3.1.0 in /Users/jessicahong/.pyenv/versions/3.11.11/lib/python3.11/site-packages (from jupyter-server<3,>=2.4.0->notebook) (4.9.0)\n",
      "Requirement already satisfied: argon2-cffi>=21.1 in /Users/jessicahong/.pyenv/versions/3.11.11/lib/python3.11/site-packages (from jupyter-server<3,>=2.4.0->notebook) (23.1.0)\n",
      "Requirement already satisfied: jinja2>=3.0.3 in /Users/jessicahong/.pyenv/versions/3.11.11/lib/python3.11/site-packages (from jupyter-server<3,>=2.4.0->notebook) (3.1.6)\n",
      "Requirement already satisfied: jupyter-client>=7.4.4 in /Users/jessicahong/.pyenv/versions/3.11.11/lib/python3.11/site-packages (from jupyter-server<3,>=2.4.0->notebook) (8.6.3)\n",
      "Requirement already satisfied: jupyter-core!=5.0.*,>=4.12 in /Users/jessicahong/.pyenv/versions/3.11.11/lib/python3.11/site-packages (from jupyter-server<3,>=2.4.0->notebook) (5.7.2)\n",
      "Requirement already satisfied: jupyter-events>=0.11.0 in /Users/jessicahong/.pyenv/versions/3.11.11/lib/python3.11/site-packages (from jupyter-server<3,>=2.4.0->notebook) (0.12.0)\n",
      "Requirement already satisfied: jupyter-server-terminals>=0.4.4 in /Users/jessicahong/.pyenv/versions/3.11.11/lib/python3.11/site-packages (from jupyter-server<3,>=2.4.0->notebook) (0.5.3)\n",
      "Requirement already satisfied: nbconvert>=6.4.4 in /Users/jessicahong/.pyenv/versions/3.11.11/lib/python3.11/site-packages (from jupyter-server<3,>=2.4.0->notebook) (7.16.6)\n",
      "Requirement already satisfied: nbformat>=5.3.0 in /Users/jessicahong/.pyenv/versions/3.11.11/lib/python3.11/site-packages (from jupyter-server<3,>=2.4.0->notebook) (5.10.4)\n",
      "Requirement already satisfied: overrides>=5.0 in /Users/jessicahong/.pyenv/versions/3.11.11/lib/python3.11/site-packages (from jupyter-server<3,>=2.4.0->notebook) (7.7.0)\n",
      "Requirement already satisfied: prometheus-client>=0.9 in /Users/jessicahong/.pyenv/versions/3.11.11/lib/python3.11/site-packages (from jupyter-server<3,>=2.4.0->notebook) (0.21.1)\n",
      "Requirement already satisfied: pyzmq>=24 in /Users/jessicahong/.pyenv/versions/3.11.11/lib/python3.11/site-packages (from jupyter-server<3,>=2.4.0->notebook) (26.3.0)\n",
      "Requirement already satisfied: send2trash>=1.8.2 in /Users/jessicahong/.pyenv/versions/3.11.11/lib/python3.11/site-packages (from jupyter-server<3,>=2.4.0->notebook) (1.8.3)\n",
      "Requirement already satisfied: terminado>=0.8.3 in /Users/jessicahong/.pyenv/versions/3.11.11/lib/python3.11/site-packages (from jupyter-server<3,>=2.4.0->notebook) (0.18.1)\n",
      "Requirement already satisfied: traitlets>=5.6.0 in /Users/jessicahong/.pyenv/versions/3.11.11/lib/python3.11/site-packages (from jupyter-server<3,>=2.4.0->notebook) (5.14.3)\n",
      "Requirement already satisfied: websocket-client>=1.7 in /Users/jessicahong/.pyenv/versions/3.11.11/lib/python3.11/site-packages (from jupyter-server<3,>=2.4.0->notebook) (1.8.0)\n",
      "Requirement already satisfied: async-lru>=1.0.0 in /Users/jessicahong/.pyenv/versions/3.11.11/lib/python3.11/site-packages (from jupyterlab<4.5,>=4.4.3->notebook) (2.0.5)\n",
      "Requirement already satisfied: httpx>=0.25.0 in /Users/jessicahong/.pyenv/versions/3.11.11/lib/python3.11/site-packages (from jupyterlab<4.5,>=4.4.3->notebook) (0.28.1)\n",
      "Requirement already satisfied: ipykernel>=6.5.0 in /Users/jessicahong/.pyenv/versions/3.11.11/lib/python3.11/site-packages (from jupyterlab<4.5,>=4.4.3->notebook) (6.29.5)\n",
      "Requirement already satisfied: jupyter-lsp>=2.0.0 in /Users/jessicahong/.pyenv/versions/3.11.11/lib/python3.11/site-packages (from jupyterlab<4.5,>=4.4.3->notebook) (2.2.5)\n",
      "Requirement already satisfied: setuptools>=41.1.0 in /Users/jessicahong/.pyenv/versions/3.11.11/lib/python3.11/site-packages (from jupyterlab<4.5,>=4.4.3->notebook) (77.0.3)\n",
      "Requirement already satisfied: babel>=2.10 in /Users/jessicahong/.pyenv/versions/3.11.11/lib/python3.11/site-packages (from jupyterlab-server<3,>=2.27.1->notebook) (2.17.0)\n",
      "Requirement already satisfied: json5>=0.9.0 in /Users/jessicahong/.pyenv/versions/3.11.11/lib/python3.11/site-packages (from jupyterlab-server<3,>=2.27.1->notebook) (0.10.0)\n",
      "Requirement already satisfied: jsonschema>=4.18.0 in /Users/jessicahong/.pyenv/versions/3.11.11/lib/python3.11/site-packages (from jupyterlab-server<3,>=2.27.1->notebook) (4.23.0)\n",
      "Requirement already satisfied: requests>=2.31 in /Users/jessicahong/.pyenv/versions/3.11.11/lib/python3.11/site-packages (from jupyterlab-server<3,>=2.27.1->notebook) (2.32.3)\n",
      "Requirement already satisfied: numpy>=1.9.2 in /Users/jessicahong/.pyenv/versions/3.11.11/lib/python3.11/site-packages (from cufflinks) (2.1.3)\n",
      "Requirement already satisfied: pandas>=0.19.2 in /Users/jessicahong/.pyenv/versions/3.11.11/lib/python3.11/site-packages (from cufflinks) (2.2.3)\n",
      "Requirement already satisfied: six>=1.9.0 in /Users/jessicahong/.pyenv/versions/3.11.11/lib/python3.11/site-packages (from cufflinks) (1.17.0)\n",
      "Requirement already satisfied: colorlover>=0.2.1 in /Users/jessicahong/.pyenv/versions/3.11.11/lib/python3.11/site-packages (from cufflinks) (0.3.0)\n",
      "Requirement already satisfied: ipython>=5.3.0 in /Users/jessicahong/.pyenv/versions/3.11.11/lib/python3.11/site-packages (from cufflinks) (9.3.0)\n",
      "Requirement already satisfied: ipywidgets>=7.0.0 in /Users/jessicahong/.pyenv/versions/3.11.11/lib/python3.11/site-packages (from cufflinks) (8.1.7)\n",
      "Requirement already satisfied: idna>=2.8 in /Users/jessicahong/.pyenv/versions/3.11.11/lib/python3.11/site-packages (from anyio>=3.1.0->jupyter-server<3,>=2.4.0->notebook) (3.10)\n",
      "Requirement already satisfied: sniffio>=1.1 in /Users/jessicahong/.pyenv/versions/3.11.11/lib/python3.11/site-packages (from anyio>=3.1.0->jupyter-server<3,>=2.4.0->notebook) (1.3.1)\n",
      "Requirement already satisfied: typing_extensions>=4.5 in /Users/jessicahong/.pyenv/versions/3.11.11/lib/python3.11/site-packages (from anyio>=3.1.0->jupyter-server<3,>=2.4.0->notebook) (4.14.0)\n",
      "Requirement already satisfied: argon2-cffi-bindings in /Users/jessicahong/.pyenv/versions/3.11.11/lib/python3.11/site-packages (from argon2-cffi>=21.1->jupyter-server<3,>=2.4.0->notebook) (21.2.0)\n",
      "Requirement already satisfied: certifi in /Users/jessicahong/.pyenv/versions/3.11.11/lib/python3.11/site-packages (from httpx>=0.25.0->jupyterlab<4.5,>=4.4.3->notebook) (2025.1.31)\n",
      "Requirement already satisfied: httpcore==1.* in /Users/jessicahong/.pyenv/versions/3.11.11/lib/python3.11/site-packages (from httpx>=0.25.0->jupyterlab<4.5,>=4.4.3->notebook) (1.0.7)\n",
      "Requirement already satisfied: h11<0.15,>=0.13 in /Users/jessicahong/.pyenv/versions/3.11.11/lib/python3.11/site-packages (from httpcore==1.*->httpx>=0.25.0->jupyterlab<4.5,>=4.4.3->notebook) (0.14.0)\n",
      "Requirement already satisfied: appnope in /Users/jessicahong/.pyenv/versions/3.11.11/lib/python3.11/site-packages (from ipykernel>=6.5.0->jupyterlab<4.5,>=4.4.3->notebook) (0.1.4)\n",
      "Requirement already satisfied: comm>=0.1.1 in /Users/jessicahong/.pyenv/versions/3.11.11/lib/python3.11/site-packages (from ipykernel>=6.5.0->jupyterlab<4.5,>=4.4.3->notebook) (0.2.2)\n",
      "Requirement already satisfied: debugpy>=1.6.5 in /Users/jessicahong/.pyenv/versions/3.11.11/lib/python3.11/site-packages (from ipykernel>=6.5.0->jupyterlab<4.5,>=4.4.3->notebook) (1.8.13)\n",
      "Requirement already satisfied: matplotlib-inline>=0.1 in /Users/jessicahong/.pyenv/versions/3.11.11/lib/python3.11/site-packages (from ipykernel>=6.5.0->jupyterlab<4.5,>=4.4.3->notebook) (0.1.7)\n",
      "Requirement already satisfied: nest-asyncio in /Users/jessicahong/.pyenv/versions/3.11.11/lib/python3.11/site-packages (from ipykernel>=6.5.0->jupyterlab<4.5,>=4.4.3->notebook) (1.6.0)\n",
      "Requirement already satisfied: psutil in /Users/jessicahong/.pyenv/versions/3.11.11/lib/python3.11/site-packages (from ipykernel>=6.5.0->jupyterlab<4.5,>=4.4.3->notebook) (7.0.0)\n",
      "Requirement already satisfied: decorator in /Users/jessicahong/.pyenv/versions/3.11.11/lib/python3.11/site-packages (from ipython>=5.3.0->cufflinks) (5.2.1)\n",
      "Requirement already satisfied: ipython-pygments-lexers in /Users/jessicahong/.pyenv/versions/3.11.11/lib/python3.11/site-packages (from ipython>=5.3.0->cufflinks) (1.1.1)\n",
      "Requirement already satisfied: jedi>=0.16 in /Users/jessicahong/.pyenv/versions/3.11.11/lib/python3.11/site-packages (from ipython>=5.3.0->cufflinks) (0.19.2)\n",
      "Requirement already satisfied: pexpect>4.3 in /Users/jessicahong/.pyenv/versions/3.11.11/lib/python3.11/site-packages (from ipython>=5.3.0->cufflinks) (4.9.0)\n",
      "Requirement already satisfied: prompt_toolkit<3.1.0,>=3.0.41 in /Users/jessicahong/.pyenv/versions/3.11.11/lib/python3.11/site-packages (from ipython>=5.3.0->cufflinks) (3.0.51)\n",
      "Requirement already satisfied: pygments>=2.4.0 in /Users/jessicahong/.pyenv/versions/3.11.11/lib/python3.11/site-packages (from ipython>=5.3.0->cufflinks) (2.19.1)\n",
      "Requirement already satisfied: stack_data in /Users/jessicahong/.pyenv/versions/3.11.11/lib/python3.11/site-packages (from ipython>=5.3.0->cufflinks) (0.6.3)\n",
      "Requirement already satisfied: wcwidth in /Users/jessicahong/.pyenv/versions/3.11.11/lib/python3.11/site-packages (from prompt_toolkit<3.1.0,>=3.0.41->ipython>=5.3.0->cufflinks) (0.2.13)\n",
      "Requirement already satisfied: widgetsnbextension~=4.0.14 in /Users/jessicahong/.pyenv/versions/3.11.11/lib/python3.11/site-packages (from ipywidgets>=7.0.0->cufflinks) (4.0.14)\n",
      "Requirement already satisfied: jupyterlab_widgets~=3.0.15 in /Users/jessicahong/.pyenv/versions/3.11.11/lib/python3.11/site-packages (from ipywidgets>=7.0.0->cufflinks) (3.0.15)\n",
      "Requirement already satisfied: parso<0.9.0,>=0.8.4 in /Users/jessicahong/.pyenv/versions/3.11.11/lib/python3.11/site-packages (from jedi>=0.16->ipython>=5.3.0->cufflinks) (0.8.4)\n",
      "Requirement already satisfied: MarkupSafe>=2.0 in /Users/jessicahong/.pyenv/versions/3.11.11/lib/python3.11/site-packages (from jinja2>=3.0.3->jupyter-server<3,>=2.4.0->notebook) (3.0.2)\n",
      "Requirement already satisfied: attrs>=22.2.0 in /Users/jessicahong/.pyenv/versions/3.11.11/lib/python3.11/site-packages (from jsonschema>=4.18.0->jupyterlab-server<3,>=2.27.1->notebook) (25.3.0)\n",
      "Requirement already satisfied: jsonschema-specifications>=2023.03.6 in /Users/jessicahong/.pyenv/versions/3.11.11/lib/python3.11/site-packages (from jsonschema>=4.18.0->jupyterlab-server<3,>=2.27.1->notebook) (2024.10.1)\n",
      "Requirement already satisfied: referencing>=0.28.4 in /Users/jessicahong/.pyenv/versions/3.11.11/lib/python3.11/site-packages (from jsonschema>=4.18.0->jupyterlab-server<3,>=2.27.1->notebook) (0.36.2)\n",
      "Requirement already satisfied: rpds-py>=0.7.1 in /Users/jessicahong/.pyenv/versions/3.11.11/lib/python3.11/site-packages (from jsonschema>=4.18.0->jupyterlab-server<3,>=2.27.1->notebook) (0.23.1)\n",
      "Requirement already satisfied: python-dateutil>=2.8.2 in /Users/jessicahong/.pyenv/versions/3.11.11/lib/python3.11/site-packages (from jupyter-client>=7.4.4->jupyter-server<3,>=2.4.0->notebook) (2.8.2)\n",
      "Requirement already satisfied: platformdirs>=2.5 in /Users/jessicahong/.pyenv/versions/3.11.11/lib/python3.11/site-packages (from jupyter-core!=5.0.*,>=4.12->jupyter-server<3,>=2.4.0->notebook) (4.3.7)\n",
      "Requirement already satisfied: python-json-logger>=2.0.4 in /Users/jessicahong/.pyenv/versions/3.11.11/lib/python3.11/site-packages (from jupyter-events>=0.11.0->jupyter-server<3,>=2.4.0->notebook) (3.3.0)\n",
      "Requirement already satisfied: pyyaml>=5.3 in /Users/jessicahong/.pyenv/versions/3.11.11/lib/python3.11/site-packages (from jupyter-events>=0.11.0->jupyter-server<3,>=2.4.0->notebook) (6.0.2)\n",
      "Requirement already satisfied: rfc3339-validator in /Users/jessicahong/.pyenv/versions/3.11.11/lib/python3.11/site-packages (from jupyter-events>=0.11.0->jupyter-server<3,>=2.4.0->notebook) (0.1.4)\n",
      "Requirement already satisfied: rfc3986-validator>=0.1.1 in /Users/jessicahong/.pyenv/versions/3.11.11/lib/python3.11/site-packages (from jupyter-events>=0.11.0->jupyter-server<3,>=2.4.0->notebook) (0.1.1)\n",
      "Requirement already satisfied: fqdn in /Users/jessicahong/.pyenv/versions/3.11.11/lib/python3.11/site-packages (from jsonschema[format-nongpl]>=4.18.0->jupyter-events>=0.11.0->jupyter-server<3,>=2.4.0->notebook) (1.5.1)\n",
      "Requirement already satisfied: isoduration in /Users/jessicahong/.pyenv/versions/3.11.11/lib/python3.11/site-packages (from jsonschema[format-nongpl]>=4.18.0->jupyter-events>=0.11.0->jupyter-server<3,>=2.4.0->notebook) (20.11.0)\n",
      "Requirement already satisfied: jsonpointer>1.13 in /Users/jessicahong/.pyenv/versions/3.11.11/lib/python3.11/site-packages (from jsonschema[format-nongpl]>=4.18.0->jupyter-events>=0.11.0->jupyter-server<3,>=2.4.0->notebook) (3.0.0)\n",
      "Requirement already satisfied: uri-template in /Users/jessicahong/.pyenv/versions/3.11.11/lib/python3.11/site-packages (from jsonschema[format-nongpl]>=4.18.0->jupyter-events>=0.11.0->jupyter-server<3,>=2.4.0->notebook) (1.3.0)\n",
      "Requirement already satisfied: webcolors>=24.6.0 in /Users/jessicahong/.pyenv/versions/3.11.11/lib/python3.11/site-packages (from jsonschema[format-nongpl]>=4.18.0->jupyter-events>=0.11.0->jupyter-server<3,>=2.4.0->notebook) (24.11.1)\n",
      "Requirement already satisfied: beautifulsoup4 in /Users/jessicahong/.pyenv/versions/3.11.11/lib/python3.11/site-packages (from nbconvert>=6.4.4->jupyter-server<3,>=2.4.0->notebook) (4.13.3)\n",
      "Requirement already satisfied: bleach!=5.0.0 in /Users/jessicahong/.pyenv/versions/3.11.11/lib/python3.11/site-packages (from bleach[css]!=5.0.0->nbconvert>=6.4.4->jupyter-server<3,>=2.4.0->notebook) (6.2.0)\n",
      "Requirement already satisfied: defusedxml in /Users/jessicahong/.pyenv/versions/3.11.11/lib/python3.11/site-packages (from nbconvert>=6.4.4->jupyter-server<3,>=2.4.0->notebook) (0.7.1)\n",
      "Requirement already satisfied: jupyterlab-pygments in /Users/jessicahong/.pyenv/versions/3.11.11/lib/python3.11/site-packages (from nbconvert>=6.4.4->jupyter-server<3,>=2.4.0->notebook) (0.3.0)\n",
      "Requirement already satisfied: mistune<4,>=2.0.3 in /Users/jessicahong/.pyenv/versions/3.11.11/lib/python3.11/site-packages (from nbconvert>=6.4.4->jupyter-server<3,>=2.4.0->notebook) (3.1.3)\n",
      "Requirement already satisfied: nbclient>=0.5.0 in /Users/jessicahong/.pyenv/versions/3.11.11/lib/python3.11/site-packages (from nbconvert>=6.4.4->jupyter-server<3,>=2.4.0->notebook) (0.10.2)\n",
      "Requirement already satisfied: pandocfilters>=1.4.1 in /Users/jessicahong/.pyenv/versions/3.11.11/lib/python3.11/site-packages (from nbconvert>=6.4.4->jupyter-server<3,>=2.4.0->notebook) (1.5.1)\n",
      "Requirement already satisfied: webencodings in /Users/jessicahong/.pyenv/versions/3.11.11/lib/python3.11/site-packages (from bleach!=5.0.0->bleach[css]!=5.0.0->nbconvert>=6.4.4->jupyter-server<3,>=2.4.0->notebook) (0.5.1)\n",
      "Requirement already satisfied: tinycss2<1.5,>=1.1.0 in /Users/jessicahong/.pyenv/versions/3.11.11/lib/python3.11/site-packages (from bleach[css]!=5.0.0->nbconvert>=6.4.4->jupyter-server<3,>=2.4.0->notebook) (1.4.0)\n",
      "Requirement already satisfied: fastjsonschema>=2.15 in /Users/jessicahong/.pyenv/versions/3.11.11/lib/python3.11/site-packages (from nbformat>=5.3.0->jupyter-server<3,>=2.4.0->notebook) (2.21.1)\n",
      "Requirement already satisfied: pytz>=2020.1 in /Users/jessicahong/.pyenv/versions/3.11.11/lib/python3.11/site-packages (from pandas>=0.19.2->cufflinks) (2025.1)\n",
      "Requirement already satisfied: tzdata>=2022.7 in /Users/jessicahong/.pyenv/versions/3.11.11/lib/python3.11/site-packages (from pandas>=0.19.2->cufflinks) (2025.1)\n",
      "Requirement already satisfied: ptyprocess>=0.5 in /Users/jessicahong/.pyenv/versions/3.11.11/lib/python3.11/site-packages (from pexpect>4.3->ipython>=5.3.0->cufflinks) (0.7.0)\n",
      "Requirement already satisfied: charset-normalizer<4,>=2 in /Users/jessicahong/.pyenv/versions/3.11.11/lib/python3.11/site-packages (from requests>=2.31->jupyterlab-server<3,>=2.27.1->notebook) (3.4.1)\n",
      "Requirement already satisfied: urllib3<3,>=1.21.1 in /Users/jessicahong/.pyenv/versions/3.11.11/lib/python3.11/site-packages (from requests>=2.31->jupyterlab-server<3,>=2.27.1->notebook) (2.3.0)\n",
      "Requirement already satisfied: cffi>=1.0.1 in /Users/jessicahong/.pyenv/versions/3.11.11/lib/python3.11/site-packages (from argon2-cffi-bindings->argon2-cffi>=21.1->jupyter-server<3,>=2.4.0->notebook) (1.17.1)\n",
      "Requirement already satisfied: pycparser in /Users/jessicahong/.pyenv/versions/3.11.11/lib/python3.11/site-packages (from cffi>=1.0.1->argon2-cffi-bindings->argon2-cffi>=21.1->jupyter-server<3,>=2.4.0->notebook) (2.22)\n",
      "Requirement already satisfied: soupsieve>1.2 in /Users/jessicahong/.pyenv/versions/3.11.11/lib/python3.11/site-packages (from beautifulsoup4->nbconvert>=6.4.4->jupyter-server<3,>=2.4.0->notebook) (2.6)\n",
      "Requirement already satisfied: arrow>=0.15.0 in /Users/jessicahong/.pyenv/versions/3.11.11/lib/python3.11/site-packages (from isoduration->jsonschema[format-nongpl]>=4.18.0->jupyter-events>=0.11.0->jupyter-server<3,>=2.4.0->notebook) (1.3.0)\n",
      "Requirement already satisfied: types-python-dateutil>=2.8.10 in /Users/jessicahong/.pyenv/versions/3.11.11/lib/python3.11/site-packages (from arrow>=0.15.0->isoduration->jsonschema[format-nongpl]>=4.18.0->jupyter-events>=0.11.0->jupyter-server<3,>=2.4.0->notebook) (2.9.0.20241206)\n",
      "Requirement already satisfied: executing>=1.2.0 in /Users/jessicahong/.pyenv/versions/3.11.11/lib/python3.11/site-packages (from stack_data->ipython>=5.3.0->cufflinks) (2.2.0)\n",
      "Requirement already satisfied: asttokens>=2.1.0 in /Users/jessicahong/.pyenv/versions/3.11.11/lib/python3.11/site-packages (from stack_data->ipython>=5.3.0->cufflinks) (3.0.0)\n",
      "Requirement already satisfied: pure-eval in /Users/jessicahong/.pyenv/versions/3.11.11/lib/python3.11/site-packages (from stack_data->ipython>=5.3.0->cufflinks) (0.2.3)\n"
     ]
    }
   ],
   "source": [
    "# Install packages \n",
    "!pip install --upgrade plotly notebook cufflinks"
   ]
  },
  {
   "cell_type": "code",
   "execution_count": 73,
   "id": "5eb4cc9b-a3a9-4965-9201-5fc079e13e21",
   "metadata": {},
   "outputs": [
    {
     "data": {
      "text/html": [
       "        <script type=\"text/javascript\">\n",
       "        window.PlotlyConfig = {MathJaxConfig: 'local'};\n",
       "        if (window.MathJax && window.MathJax.Hub && window.MathJax.Hub.Config) {window.MathJax.Hub.Config({SVG: {font: \"STIX-Web\"}});}\n",
       "        </script>\n",
       "        <script type=\"module\">import \"https://cdn.plot.ly/plotly-3.0.1.min\"</script>\n",
       "        "
      ]
     },
     "metadata": {},
     "output_type": "display_data"
    },
    {
     "data": {
      "text/html": [
       "        <script type=\"text/javascript\">\n",
       "        window.PlotlyConfig = {MathJaxConfig: 'local'};\n",
       "        if (window.MathJax && window.MathJax.Hub && window.MathJax.Hub.Config) {window.MathJax.Hub.Config({SVG: {font: \"STIX-Web\"}});}\n",
       "        </script>\n",
       "        <script type=\"module\">import \"https://cdn.plot.ly/plotly-3.0.1.min\"</script>\n",
       "        "
      ]
     },
     "metadata": {},
     "output_type": "display_data"
    }
   ],
   "source": [
    "# Import libraries\n",
    "import pandas as pd\n",
    "import numpy as np\n",
    "import cufflinks as cf\n",
    "import plotly.graph_objs as go\n",
    "from plotly.offline import init_notebook_mode, iplot\n",
    "\n",
    "# Initialize notebook mode (must be called after import)\n",
    "init_notebook_mode(connected=True)\n",
    "cf.go_offline()\n"
   ]
  },
  {
   "cell_type": "code",
   "execution_count": 74,
   "id": "98bca1b0-c5cb-46b3-9ecb-69b561809841",
   "metadata": {},
   "outputs": [
    {
     "data": {
      "text/html": [
       "        <script type=\"text/javascript\">\n",
       "        window.PlotlyConfig = {MathJaxConfig: 'local'};\n",
       "        if (window.MathJax && window.MathJax.Hub && window.MathJax.Hub.Config) {window.MathJax.Hub.Config({SVG: {font: \"STIX-Web\"}});}\n",
       "        </script>\n",
       "        <script type=\"module\">import \"https://cdn.plot.ly/plotly-3.0.1.min\"</script>\n",
       "        "
      ]
     },
     "metadata": {},
     "output_type": "display_data"
    },
    {
     "data": {
      "text/html": [
       "        <script type=\"text/javascript\">\n",
       "        window.PlotlyConfig = {MathJaxConfig: 'local'};\n",
       "        if (window.MathJax && window.MathJax.Hub && window.MathJax.Hub.Config) {window.MathJax.Hub.Config({SVG: {font: \"STIX-Web\"}});}\n",
       "        </script>\n",
       "        <script type=\"module\">import \"https://cdn.plot.ly/plotly-3.0.1.min\"</script>\n",
       "        "
      ]
     },
     "metadata": {},
     "output_type": "display_data"
    },
    {
     "data": {
      "text/html": [
       "        <script type=\"text/javascript\">\n",
       "        window.PlotlyConfig = {MathJaxConfig: 'local'};\n",
       "        if (window.MathJax && window.MathJax.Hub && window.MathJax.Hub.Config) {window.MathJax.Hub.Config({SVG: {font: \"STIX-Web\"}});}\n",
       "        </script>\n",
       "        <script type=\"module\">import \"https://cdn.plot.ly/plotly-3.0.1.min\"</script>\n",
       "        "
      ]
     },
     "metadata": {},
     "output_type": "display_data"
    }
   ],
   "source": [
    "# Initialize Plotly and Cufflinks for Jupyter Notebook\n",
    "init_notebook_mode(connected=True)  # Enable Plotly for offline use in notebooks\n",
    "cf.go_offline()                     # Set cufflinks to offline mode\n",
    "cf.set_config_file(offline=True, world_readable=True)  # Configure cufflinks settings\n"
   ]
  },
  {
   "cell_type": "code",
   "execution_count": 75,
   "id": "64f0d164-3a76-4d05-984e-a7f380128558",
   "metadata": {},
   "outputs": [
    {
     "name": "stdout",
     "output_type": "stream",
     "text": [
      "Plotly version: 6.1.2\n",
      "Cufflinks version: 0.17.3\n"
     ]
    }
   ],
   "source": [
    "# Check versions (optional, useful for debugging)\n",
    "import plotly\n",
    "print(\"Plotly version:\", plotly.__version__)\n",
    "print(\"Cufflinks version:\", cf.__version__)"
   ]
  },
  {
   "cell_type": "code",
   "execution_count": 76,
   "id": "bac34475-c126-4c53-8b1a-a995ec71f9b0",
   "metadata": {},
   "outputs": [
    {
     "data": {
      "text/html": [
       "        <script type=\"text/javascript\">\n",
       "        window.PlotlyConfig = {MathJaxConfig: 'local'};\n",
       "        if (window.MathJax && window.MathJax.Hub && window.MathJax.Hub.Config) {window.MathJax.Hub.Config({SVG: {font: \"STIX-Web\"}});}\n",
       "        </script>\n",
       "        <script type=\"module\">import \"https://cdn.plot.ly/plotly-3.0.1.min\"</script>\n",
       "        "
      ]
     },
     "metadata": {},
     "output_type": "display_data"
    }
   ],
   "source": [
    "cf.go_offline()"
   ]
  },
  {
   "cell_type": "code",
   "execution_count": 77,
   "id": "730eb381-bfec-441c-bef3-2800b890cfd1",
   "metadata": {},
   "outputs": [],
   "source": [
    "# Create a DataFrame with 100 rows and 4 columns filled with random numbers\n",
    "df = pd.DataFrame(np.random.randn(100, 4), columns=['A', 'B', 'C', 'D'])"
   ]
  },
  {
   "cell_type": "code",
   "execution_count": 78,
   "id": "42e0b684-9e3c-47b7-aa75-1e0fc76c4d0c",
   "metadata": {},
   "outputs": [
    {
     "data": {
      "text/html": [
       "<div>\n",
       "<style scoped>\n",
       "    .dataframe tbody tr th:only-of-type {\n",
       "        vertical-align: middle;\n",
       "    }\n",
       "\n",
       "    .dataframe tbody tr th {\n",
       "        vertical-align: top;\n",
       "    }\n",
       "\n",
       "    .dataframe thead th {\n",
       "        text-align: right;\n",
       "    }\n",
       "</style>\n",
       "<table border=\"1\" class=\"dataframe\">\n",
       "  <thead>\n",
       "    <tr style=\"text-align: right;\">\n",
       "      <th></th>\n",
       "      <th>A</th>\n",
       "      <th>B</th>\n",
       "      <th>C</th>\n",
       "      <th>D</th>\n",
       "    </tr>\n",
       "  </thead>\n",
       "  <tbody>\n",
       "    <tr>\n",
       "      <th>0</th>\n",
       "      <td>-0.346342</td>\n",
       "      <td>-0.178384</td>\n",
       "      <td>0.570071</td>\n",
       "      <td>1.611846</td>\n",
       "    </tr>\n",
       "    <tr>\n",
       "      <th>1</th>\n",
       "      <td>0.874392</td>\n",
       "      <td>0.414512</td>\n",
       "      <td>0.588719</td>\n",
       "      <td>-0.066787</td>\n",
       "    </tr>\n",
       "    <tr>\n",
       "      <th>2</th>\n",
       "      <td>0.385243</td>\n",
       "      <td>-2.324296</td>\n",
       "      <td>-0.574560</td>\n",
       "      <td>0.118327</td>\n",
       "    </tr>\n",
       "    <tr>\n",
       "      <th>3</th>\n",
       "      <td>-0.611449</td>\n",
       "      <td>0.917735</td>\n",
       "      <td>-1.066942</td>\n",
       "      <td>-1.132803</td>\n",
       "    </tr>\n",
       "    <tr>\n",
       "      <th>4</th>\n",
       "      <td>1.792944</td>\n",
       "      <td>-0.976673</td>\n",
       "      <td>-1.182860</td>\n",
       "      <td>1.560341</td>\n",
       "    </tr>\n",
       "  </tbody>\n",
       "</table>\n",
       "</div>"
      ],
      "text/plain": [
       "          A         B         C         D\n",
       "0 -0.346342 -0.178384  0.570071  1.611846\n",
       "1  0.874392  0.414512  0.588719 -0.066787\n",
       "2  0.385243 -2.324296 -0.574560  0.118327\n",
       "3 -0.611449  0.917735 -1.066942 -1.132803\n",
       "4  1.792944 -0.976673 -1.182860  1.560341"
      ]
     },
     "execution_count": 78,
     "metadata": {},
     "output_type": "execute_result"
    }
   ],
   "source": [
    "df.head()"
   ]
  },
  {
   "cell_type": "code",
   "execution_count": 79,
   "id": "ff745be9-be27-4d83-9239-8790560ee5f0",
   "metadata": {},
   "outputs": [],
   "source": [
    "# Create a DataFrame for categorical data with categories and their corresponding values\n",
    "df2 = pd.DataFrame({'category': ['A', 'B', 'C'], 'values': [32, 43, 50]})"
   ]
  },
  {
   "cell_type": "code",
   "execution_count": 80,
   "id": "9ec8d853-bc33-4a49-bdea-3cb9733026de",
   "metadata": {},
   "outputs": [
    {
     "data": {
      "text/html": [
       "<div>\n",
       "<style scoped>\n",
       "    .dataframe tbody tr th:only-of-type {\n",
       "        vertical-align: middle;\n",
       "    }\n",
       "\n",
       "    .dataframe tbody tr th {\n",
       "        vertical-align: top;\n",
       "    }\n",
       "\n",
       "    .dataframe thead th {\n",
       "        text-align: right;\n",
       "    }\n",
       "</style>\n",
       "<table border=\"1\" class=\"dataframe\">\n",
       "  <thead>\n",
       "    <tr style=\"text-align: right;\">\n",
       "      <th></th>\n",
       "      <th>category</th>\n",
       "      <th>values</th>\n",
       "    </tr>\n",
       "  </thead>\n",
       "  <tbody>\n",
       "    <tr>\n",
       "      <th>0</th>\n",
       "      <td>A</td>\n",
       "      <td>32</td>\n",
       "    </tr>\n",
       "    <tr>\n",
       "      <th>1</th>\n",
       "      <td>B</td>\n",
       "      <td>43</td>\n",
       "    </tr>\n",
       "    <tr>\n",
       "      <th>2</th>\n",
       "      <td>C</td>\n",
       "      <td>50</td>\n",
       "    </tr>\n",
       "  </tbody>\n",
       "</table>\n",
       "</div>"
      ],
      "text/plain": [
       "  category  values\n",
       "0        A      32\n",
       "1        B      43\n",
       "2        C      50"
      ]
     },
     "execution_count": 80,
     "metadata": {},
     "output_type": "execute_result"
    }
   ],
   "source": [
    "df2"
   ]
  },
  {
   "cell_type": "code",
   "execution_count": 83,
   "id": "e68e9ba3-d689-43c7-a40e-eee00dd6bd0e",
   "metadata": {},
   "outputs": [
    {
     "data": {
      "application/vnd.plotly.v1+json": {
       "config": {
        "plotlyServerURL": "https://plot.ly"
       },
       "data": [
        {
         "line": {
          "color": "rgba(255, 99, 132, 1)"
         },
         "mode": "lines+markers",
         "name": "A",
         "type": "scatter",
         "x": {
          "bdata": "AAECAwQFBgcICQoLDA0ODxAREhMUFRYXGBkaGxwdHh8gISIjJCUmJygpKissLS4vMDEyMzQ1Njc4OTo7PD0+P0BBQkNERUZHSElKS0xNTk9QUVJTVFVWV1hZWltcXV5fYGFiYw==",
          "dtype": "i1"
         },
         "y": {
          "bdata": "HO0bKCdm679Po2cRz5LZP2I9A2o4SPS/u7/FmHQc/D9GnGlZWXXwv20SrC0iPuK/lXmzEKrG/T9ZUSgR6qfbv5c2rrcliPO/uTRfoeoo2r/U1qGQKa2+v08G/StPiPi/V5T5G+Oy97+po0oEmPzIv252PK9Ldc8/E4jzHIVD5r924R9cr7P3PxRveB2Rzuo/gNQvwPeNpD/rsY6qmuniP9sSAxpQl9a/0hctryIAzL+9CDXeS3gFQAaaz0b7BOS/74YkxtVw578uvR8kwBbzv+sCEr1FPuO/nXhg1WU98r/AVC6z1JzMP89NpHxA+to/fXZWa3Ni9T8pRbmZ2Y3hP6KSu5JMVtI/EaKNrdMB8T9BqZBU+vzxP1YBC4v/Id2/9+bk2wnp4b8Wg3/foV/kP8CEIvzhmua/q7y2hqnt8D819YXTm9Pwv31ZHFsAOQBAo8azm7VR8L/zfG+mnartv2SEgq30HrW/AIrYpW3E+b9dfiucKBP6PzMNWW4al+6/xyWFPUl34L8gEZJyiGDXPzSHKU0v2/S/fWsoEUn8879IMoNal0njvyX/C7hPrfM/ltYFOBhd2r/wLdcNvuL0P5Cf2LlK7+U/4vVka4bG4T8f9RHYJSP6PzcUiHoF/P8/hJTfBpHY5T8Ta1u+sSMCQN5FnxaMHeE/S89+FUib77+2fYXHtbrhvwrzF6A5AOC/NRx1CDK79z8dB0R10D3/v9PsnmEL0u4/7s1EmCPa6r97HaKhD4DyP8rQF/jUYABA8MHE6V+F678v/GvuaenIP7ZIek7MCta/TGF2hud+87/brrY3LSHrv/ToNa0w3/G/YsR3aNR45L+WaQHR6L3kP84i+LgPIuW/rqVJfsTV9b8KQgvjFsapv7ptgSBML9G/4TkrdYbc87+evNrSfFDEPycwqTqFpOq/cKmjAodIyj991NrPJJcEwIROhVM2xQXAhAb3gsDH7z/wbqVr0knTP9WHGWWvdOY/dZJSgNff4z8TkdSgkqXNP1AcdprzJOe/lSxDPsNi5j86i9awW7zRv9/UtX8nF+4/LfAx43aA3z8=",
          "dtype": "f8"
         }
        },
        {
         "line": {
          "color": "rgba(54, 162, 235, 1)"
         },
         "mode": "lines+markers",
         "name": "B",
         "type": "scatter",
         "x": {
          "bdata": "AAECAwQFBgcICQoLDA0ODxAREhMUFRYXGBkaGxwdHh8gISIjJCUmJygpKissLS4vMDEyMzQ1Njc4OTo7PD0+P0BBQkNERUZHSElKS0xNTk9QUVJTVFVWV1hZWltcXV5fYGFiYw==",
          "dtype": "i1"
         },
         "y": {
          "bdata": "FX+FrHCi7j+Nc78ZTiXKv8Omr4KWady/wWYhRm8ACEAgOEv/KuD7P2iwhfxiJ7U/jdSGE6TB4D8/jbCWC/rkvzeVUiv0/eK/UuBuaCa/6L/fezSEB1HjP8nWbf01jvA/jCGODQIq7r/7sPVSIan6v5GFkyb4J/Q/NIWXXSpl4z8hSX2toSnxP5aTWHsTrec/E5xFz9MP0T/+wwQOCs76P5ACxYLeBMA/YZuz8Otel79ihObZHWfovwafkP8dL/G/4n604rymw788W2KXaFv2vw/lrIreyvg/in69E1vS8r9h49bDmuXMv/8lUg14y+s/hmVRemcS4L9b1dbUQL/OP8CmidXTNfw/ytzToUeg2z9o1WFLM5rUP9G64zVSs/o/HDIZ4SHU17+8Vre9hwLsP/5coPNEQPW/7DSFvyvM1b+xZs7208a2v+xYveQRe/2/eXSdv+Bv/L/HE6wyh5HNvzYa6F9ZBfC/0oThVv+a+78UtcHTbeLZv5dWdrRcGu2/7z84nIOc3r/vtM99a3Xkv2mUm0sWKdC/1xMHYf3V578CoMT7pTviP8cymKnNleQ/BeGD+YCw77/MxlV1/rbWvxU+8KIY0vO/lrmqhPHB8T+DMCWB4zr8P2CRKXaAkd8/T+FXsa3p3z/OnwWveTTiP4rkEffMqPY/YQI/e6AM/D/+hZIuZ5TiP5/gYHE11wJAe6owh8QH9b/OtkbvdirVvyAEe1FtC/e/6/QxOJG70j9XBftYCx3VPxCe5mgCoAHAy0asyxiz0z8wVp7mOu+7v1yTlF6Bacq/6qNldrpjtL+di9Ne2DnwP4v+tbt/RuS/2ZJCrdBz9z/dk28qXA/aPxb7A9HvSs0/KAtNOROa0z/v3PAnFPHDP0CEaTgIovU/L8hpWgbB1T942Jc7RFLkP7PGAXRwQvk/FMSc8qp9vD/ydm+G5qTlv0ClxeCOYvq/Pors3j2HA0C9i+EkSb/wP4SYNjluuuw/UOCBxE3L67+8mbmsASTzv+IU/EFtaNW/NhvfliJnwr9n5BiZg33bv3jdMWYwpLo/NJpb+Fpc178=",
          "dtype": "f8"
         }
        },
        {
         "line": {
          "color": "rgba(255, 206, 86, 1)"
         },
         "mode": "lines+markers",
         "name": "C",
         "type": "scatter",
         "x": {
          "bdata": "AAECAwQFBgcICQoLDA0ODxAREhMUFRYXGBkaGxwdHh8gISIjJCUmJygpKissLS4vMDEyMzQ1Njc4OTo7PD0+P0BBQkNERUZHSElKS0xNTk9QUVJTVFVWV1hZWltcXV5fYGFiYw==",
          "dtype": "i1"
         },
         "y": {
          "bdata": "rWvqtGno8D+ClvP9Qt7Zv+bkFwY0UuC/FNwyVa4gtj9vBi9zCjLlv3vCTLGjYd8/0/mBK1BJoD8BOJCJahvqv0I5f99py9e/NcRnMdXTAUChPZlg/OvJP1/3Ef7UPuO/v5TKrtQk0T/TVGBxSrasv3bNQx2wavE/C23YlqHe8D+dEUsbYrTXP2uLa9S3Qry/oj5V5G4Q8z9qB2WlT5joP7ui3vj5dpw/4KiGzoSS7T+SsT+sbMXOP2alSxA47bi/1QPE5RmD7D9f7UZmTQXxP2T6gydGP/m/MOTU+4ww9b+xBI3vLvTjPzUw4oI9WwFAtWxwWtoU5T+R812zFUvzPxb+h+nNcYq/uuf5B63z8j9N+ekB1V3GP0o547YVo8U/w91nPjXI+T8YbsZto+PlP2mhQdpclPA//5+9+jWd17919QO+pVPsv9wYvekAcQHAQZ0KR71Vx78mbFLp6m7jPwLj3a+8a8o/3TpSYjgq9j/HtYorjPvMvy5bMOS70fE/vMqBFL4++T8s+vuHIv70v5c1zFcc9+M/8jBIddT0/b9w/yeGZFbtPxNwVx4Tpfc/N74tz3gI4L9/7Rf41mj4v87wV4GnZoU/XT126YostD/OV6ZXzeTrv9/FidWJP8A/DDoB4PCe8D92uo5goarfP/QxS/fcotu/v12UX1ZEvz+qaTFFP5DsP7FczLRjXLk/MjoFcyLs4T/kANE8J4e/vxlIecIfBNQ/q98XPXqz9b8HwNDK7rHuv2aoZfTiJwfAEjnAzPqg+78njD091ufTP0J1PPbMYe8/4edfqtik2b/itWcJGSz+P30lcUv6pOy/YiM4XK0ewj/Ab0Co8O+rP9kyOQHjDL8/tDbHudeo8D8ZgmK2DJ7Yv3eYF93QkNy/j6vildGy6z9LbTPwIzDbv1ybm/Cievm/D5hEIwZB3j//2ytV837vv4EHVbRbst8/gV3xd+J74r/XK9BQSfLpv8uAy37Q0OO/4gJgFJDv5j88BzNfC+nrv588Qaj9x/G/C8IVn5bw9b/wtj16eyfcv+hxuRgK8PG/uX8AMig4178=",
          "dtype": "f8"
         }
        },
        {
         "line": {
          "color": "rgba(75, 192, 192, 1)"
         },
         "mode": "lines+markers",
         "name": "D",
         "type": "scatter",
         "x": {
          "bdata": "AAECAwQFBgcICQoLDA0ODxAREhMUFRYXGBkaGxwdHh8gISIjJCUmJygpKissLS4vMDEyMzQ1Njc4OTo7PD0+P0BBQkNERUZHSElKS0xNTk9QUVJTVFVWV1hZWltcXV5fYGFiYw==",
          "dtype": "i1"
         },
         "y": {
          "bdata": "5blbevbI5z/srSNmFiLoP8rHGVBUA+G/MLgmFjeW8T9mQW4CL5S+vzl4e15WXv6/HRITRMxD/D/GNl7VpQfYv5RXmiGr8/S/nsHK0emD3r9b5W8wf4HJv55pJDflseY/+h6fR3258T9N+kGD+Y3lv8G9OweMQPW/cHgODO/Q4r9To7PzkTriP6zGlNbwIeC/3GhBVAp4/L/Qm4J0wgX4v//skYJRUPo/3Zc95FSX4b+MrEXWrs74PzlFePcY89s/AlajCNt45r+ItcF7y7X9P9AULuADH8E/eC0xjTdAwj9NQ6GVC2oFwKS8ojl9rs0/+cEE2O2H4D/VNdg+QVNEv4NVcFkaPe8/GHMB4jU9uT99H1IwH+P0v1UxrYxOwtM/sAR1oqz0478oGlqYYKfkv5/k1agetqO/bUVo6AH1oT+g70P2EK6gv0hrz8W7yMO/JdRpEM3J+b8WPGvoBALcP9GU1mRwnO+/wE3v/hh19D9aMUsySBzgP5Z2HH4ppeU/9QCKrtYpzD/UjquWsKDmv6NY1kJzavw/AR5vmDje07/Cal6lXdvaP/QxZTkmuuw/XTbm47lmAECZGyGLjd7vP9FLSF/YA/K/BZAeiqq46T+dde+68ry1P3FHdb88xKo/pOu7C3cQ778pvcqS+cfuv1uCjKDxGfs/wrAXAV3r5b9pzO+4KSTgv/1SZ7Q8V+c/iWU55mnM9j8dnU7PVkTVv+7B7pJ/tOu/G+HGKejq578l6i54/MjyP7hzl5aTXuA/pFo3k2C+0L+BB/t5KMHgP+BmeAbuO8K/GwJOz1gY5r8r04xbXm7lv3aJtZpWRuC/91kGHzVi3D8Oce2UE/vWv55MJ9RpxPW/aq/nDyjPAsB/xk/WtIXjPxC7l8qJBN2/qW8X4Wgwl7+blY+IjAS4v/EUOomf9vS/1Y0Cz9pg4r+mvAKVmRz+v9LjMfiwVe0/eXMy+NVv8r9B+lxCb33rPxm7a2D5Fvi/bK0Gj/VH7D8j2Bnrc6eNv9DHuCIipeC/vztwmnPt5j/Y1nZXldDVP530vHE5mPm/y49V4z7N2b8=",
          "dtype": "f8"
         }
        }
       ],
       "layout": {
        "template": {
         "data": {
          "bar": [
           {
            "error_x": {
             "color": "#2a3f5f"
            },
            "error_y": {
             "color": "#2a3f5f"
            },
            "marker": {
             "line": {
              "color": "#E5ECF6",
              "width": 0.5
             },
             "pattern": {
              "fillmode": "overlay",
              "size": 10,
              "solidity": 0.2
             }
            },
            "type": "bar"
           }
          ],
          "barpolar": [
           {
            "marker": {
             "line": {
              "color": "#E5ECF6",
              "width": 0.5
             },
             "pattern": {
              "fillmode": "overlay",
              "size": 10,
              "solidity": 0.2
             }
            },
            "type": "barpolar"
           }
          ],
          "carpet": [
           {
            "aaxis": {
             "endlinecolor": "#2a3f5f",
             "gridcolor": "white",
             "linecolor": "white",
             "minorgridcolor": "white",
             "startlinecolor": "#2a3f5f"
            },
            "baxis": {
             "endlinecolor": "#2a3f5f",
             "gridcolor": "white",
             "linecolor": "white",
             "minorgridcolor": "white",
             "startlinecolor": "#2a3f5f"
            },
            "type": "carpet"
           }
          ],
          "choropleth": [
           {
            "colorbar": {
             "outlinewidth": 0,
             "ticks": ""
            },
            "type": "choropleth"
           }
          ],
          "contour": [
           {
            "colorbar": {
             "outlinewidth": 0,
             "ticks": ""
            },
            "colorscale": [
             [
              0,
              "#0d0887"
             ],
             [
              0.1111111111111111,
              "#46039f"
             ],
             [
              0.2222222222222222,
              "#7201a8"
             ],
             [
              0.3333333333333333,
              "#9c179e"
             ],
             [
              0.4444444444444444,
              "#bd3786"
             ],
             [
              0.5555555555555556,
              "#d8576b"
             ],
             [
              0.6666666666666666,
              "#ed7953"
             ],
             [
              0.7777777777777778,
              "#fb9f3a"
             ],
             [
              0.8888888888888888,
              "#fdca26"
             ],
             [
              1,
              "#f0f921"
             ]
            ],
            "type": "contour"
           }
          ],
          "contourcarpet": [
           {
            "colorbar": {
             "outlinewidth": 0,
             "ticks": ""
            },
            "type": "contourcarpet"
           }
          ],
          "heatmap": [
           {
            "colorbar": {
             "outlinewidth": 0,
             "ticks": ""
            },
            "colorscale": [
             [
              0,
              "#0d0887"
             ],
             [
              0.1111111111111111,
              "#46039f"
             ],
             [
              0.2222222222222222,
              "#7201a8"
             ],
             [
              0.3333333333333333,
              "#9c179e"
             ],
             [
              0.4444444444444444,
              "#bd3786"
             ],
             [
              0.5555555555555556,
              "#d8576b"
             ],
             [
              0.6666666666666666,
              "#ed7953"
             ],
             [
              0.7777777777777778,
              "#fb9f3a"
             ],
             [
              0.8888888888888888,
              "#fdca26"
             ],
             [
              1,
              "#f0f921"
             ]
            ],
            "type": "heatmap"
           }
          ],
          "histogram": [
           {
            "marker": {
             "pattern": {
              "fillmode": "overlay",
              "size": 10,
              "solidity": 0.2
             }
            },
            "type": "histogram"
           }
          ],
          "histogram2d": [
           {
            "colorbar": {
             "outlinewidth": 0,
             "ticks": ""
            },
            "colorscale": [
             [
              0,
              "#0d0887"
             ],
             [
              0.1111111111111111,
              "#46039f"
             ],
             [
              0.2222222222222222,
              "#7201a8"
             ],
             [
              0.3333333333333333,
              "#9c179e"
             ],
             [
              0.4444444444444444,
              "#bd3786"
             ],
             [
              0.5555555555555556,
              "#d8576b"
             ],
             [
              0.6666666666666666,
              "#ed7953"
             ],
             [
              0.7777777777777778,
              "#fb9f3a"
             ],
             [
              0.8888888888888888,
              "#fdca26"
             ],
             [
              1,
              "#f0f921"
             ]
            ],
            "type": "histogram2d"
           }
          ],
          "histogram2dcontour": [
           {
            "colorbar": {
             "outlinewidth": 0,
             "ticks": ""
            },
            "colorscale": [
             [
              0,
              "#0d0887"
             ],
             [
              0.1111111111111111,
              "#46039f"
             ],
             [
              0.2222222222222222,
              "#7201a8"
             ],
             [
              0.3333333333333333,
              "#9c179e"
             ],
             [
              0.4444444444444444,
              "#bd3786"
             ],
             [
              0.5555555555555556,
              "#d8576b"
             ],
             [
              0.6666666666666666,
              "#ed7953"
             ],
             [
              0.7777777777777778,
              "#fb9f3a"
             ],
             [
              0.8888888888888888,
              "#fdca26"
             ],
             [
              1,
              "#f0f921"
             ]
            ],
            "type": "histogram2dcontour"
           }
          ],
          "mesh3d": [
           {
            "colorbar": {
             "outlinewidth": 0,
             "ticks": ""
            },
            "type": "mesh3d"
           }
          ],
          "parcoords": [
           {
            "line": {
             "colorbar": {
              "outlinewidth": 0,
              "ticks": ""
             }
            },
            "type": "parcoords"
           }
          ],
          "pie": [
           {
            "automargin": true,
            "type": "pie"
           }
          ],
          "scatter": [
           {
            "fillpattern": {
             "fillmode": "overlay",
             "size": 10,
             "solidity": 0.2
            },
            "type": "scatter"
           }
          ],
          "scatter3d": [
           {
            "line": {
             "colorbar": {
              "outlinewidth": 0,
              "ticks": ""
             }
            },
            "marker": {
             "colorbar": {
              "outlinewidth": 0,
              "ticks": ""
             }
            },
            "type": "scatter3d"
           }
          ],
          "scattercarpet": [
           {
            "marker": {
             "colorbar": {
              "outlinewidth": 0,
              "ticks": ""
             }
            },
            "type": "scattercarpet"
           }
          ],
          "scattergeo": [
           {
            "marker": {
             "colorbar": {
              "outlinewidth": 0,
              "ticks": ""
             }
            },
            "type": "scattergeo"
           }
          ],
          "scattergl": [
           {
            "marker": {
             "colorbar": {
              "outlinewidth": 0,
              "ticks": ""
             }
            },
            "type": "scattergl"
           }
          ],
          "scattermap": [
           {
            "marker": {
             "colorbar": {
              "outlinewidth": 0,
              "ticks": ""
             }
            },
            "type": "scattermap"
           }
          ],
          "scattermapbox": [
           {
            "marker": {
             "colorbar": {
              "outlinewidth": 0,
              "ticks": ""
             }
            },
            "type": "scattermapbox"
           }
          ],
          "scatterpolar": [
           {
            "marker": {
             "colorbar": {
              "outlinewidth": 0,
              "ticks": ""
             }
            },
            "type": "scatterpolar"
           }
          ],
          "scatterpolargl": [
           {
            "marker": {
             "colorbar": {
              "outlinewidth": 0,
              "ticks": ""
             }
            },
            "type": "scatterpolargl"
           }
          ],
          "scatterternary": [
           {
            "marker": {
             "colorbar": {
              "outlinewidth": 0,
              "ticks": ""
             }
            },
            "type": "scatterternary"
           }
          ],
          "surface": [
           {
            "colorbar": {
             "outlinewidth": 0,
             "ticks": ""
            },
            "colorscale": [
             [
              0,
              "#0d0887"
             ],
             [
              0.1111111111111111,
              "#46039f"
             ],
             [
              0.2222222222222222,
              "#7201a8"
             ],
             [
              0.3333333333333333,
              "#9c179e"
             ],
             [
              0.4444444444444444,
              "#bd3786"
             ],
             [
              0.5555555555555556,
              "#d8576b"
             ],
             [
              0.6666666666666666,
              "#ed7953"
             ],
             [
              0.7777777777777778,
              "#fb9f3a"
             ],
             [
              0.8888888888888888,
              "#fdca26"
             ],
             [
              1,
              "#f0f921"
             ]
            ],
            "type": "surface"
           }
          ],
          "table": [
           {
            "cells": {
             "fill": {
              "color": "#EBF0F8"
             },
             "line": {
              "color": "white"
             }
            },
            "header": {
             "fill": {
              "color": "#C8D4E3"
             },
             "line": {
              "color": "white"
             }
            },
            "type": "table"
           }
          ]
         },
         "layout": {
          "annotationdefaults": {
           "arrowcolor": "#2a3f5f",
           "arrowhead": 0,
           "arrowwidth": 1
          },
          "autotypenumbers": "strict",
          "coloraxis": {
           "colorbar": {
            "outlinewidth": 0,
            "ticks": ""
           }
          },
          "colorscale": {
           "diverging": [
            [
             0,
             "#8e0152"
            ],
            [
             0.1,
             "#c51b7d"
            ],
            [
             0.2,
             "#de77ae"
            ],
            [
             0.3,
             "#f1b6da"
            ],
            [
             0.4,
             "#fde0ef"
            ],
            [
             0.5,
             "#f7f7f7"
            ],
            [
             0.6,
             "#e6f5d0"
            ],
            [
             0.7,
             "#b8e186"
            ],
            [
             0.8,
             "#7fbc41"
            ],
            [
             0.9,
             "#4d9221"
            ],
            [
             1,
             "#276419"
            ]
           ],
           "sequential": [
            [
             0,
             "#0d0887"
            ],
            [
             0.1111111111111111,
             "#46039f"
            ],
            [
             0.2222222222222222,
             "#7201a8"
            ],
            [
             0.3333333333333333,
             "#9c179e"
            ],
            [
             0.4444444444444444,
             "#bd3786"
            ],
            [
             0.5555555555555556,
             "#d8576b"
            ],
            [
             0.6666666666666666,
             "#ed7953"
            ],
            [
             0.7777777777777778,
             "#fb9f3a"
            ],
            [
             0.8888888888888888,
             "#fdca26"
            ],
            [
             1,
             "#f0f921"
            ]
           ],
           "sequentialminus": [
            [
             0,
             "#0d0887"
            ],
            [
             0.1111111111111111,
             "#46039f"
            ],
            [
             0.2222222222222222,
             "#7201a8"
            ],
            [
             0.3333333333333333,
             "#9c179e"
            ],
            [
             0.4444444444444444,
             "#bd3786"
            ],
            [
             0.5555555555555556,
             "#d8576b"
            ],
            [
             0.6666666666666666,
             "#ed7953"
            ],
            [
             0.7777777777777778,
             "#fb9f3a"
            ],
            [
             0.8888888888888888,
             "#fdca26"
            ],
            [
             1,
             "#f0f921"
            ]
           ]
          },
          "colorway": [
           "#636efa",
           "#EF553B",
           "#00cc96",
           "#ab63fa",
           "#FFA15A",
           "#19d3f3",
           "#FF6692",
           "#B6E880",
           "#FF97FF",
           "#FECB52"
          ],
          "font": {
           "color": "#2a3f5f"
          },
          "geo": {
           "bgcolor": "white",
           "lakecolor": "white",
           "landcolor": "#E5ECF6",
           "showlakes": true,
           "showland": true,
           "subunitcolor": "white"
          },
          "hoverlabel": {
           "align": "left"
          },
          "hovermode": "closest",
          "mapbox": {
           "style": "light"
          },
          "paper_bgcolor": "white",
          "plot_bgcolor": "#E5ECF6",
          "polar": {
           "angularaxis": {
            "gridcolor": "white",
            "linecolor": "white",
            "ticks": ""
           },
           "bgcolor": "#E5ECF6",
           "radialaxis": {
            "gridcolor": "white",
            "linecolor": "white",
            "ticks": ""
           }
          },
          "scene": {
           "xaxis": {
            "backgroundcolor": "#E5ECF6",
            "gridcolor": "white",
            "gridwidth": 2,
            "linecolor": "white",
            "showbackground": true,
            "ticks": "",
            "zerolinecolor": "white"
           },
           "yaxis": {
            "backgroundcolor": "#E5ECF6",
            "gridcolor": "white",
            "gridwidth": 2,
            "linecolor": "white",
            "showbackground": true,
            "ticks": "",
            "zerolinecolor": "white"
           },
           "zaxis": {
            "backgroundcolor": "#E5ECF6",
            "gridcolor": "white",
            "gridwidth": 2,
            "linecolor": "white",
            "showbackground": true,
            "ticks": "",
            "zerolinecolor": "white"
           }
          },
          "shapedefaults": {
           "line": {
            "color": "#2a3f5f"
           }
          },
          "ternary": {
           "aaxis": {
            "gridcolor": "white",
            "linecolor": "white",
            "ticks": ""
           },
           "baxis": {
            "gridcolor": "white",
            "linecolor": "white",
            "ticks": ""
           },
           "bgcolor": "#E5ECF6",
           "caxis": {
            "gridcolor": "white",
            "linecolor": "white",
            "ticks": ""
           }
          },
          "title": {
           "x": 0.05
          },
          "xaxis": {
           "automargin": true,
           "gridcolor": "white",
           "linecolor": "white",
           "ticks": "",
           "title": {
            "standoff": 15
           },
           "zerolinecolor": "white",
           "zerolinewidth": 2
          },
          "yaxis": {
           "automargin": true,
           "gridcolor": "white",
           "linecolor": "white",
           "ticks": "",
           "title": {
            "standoff": 15
           },
           "zerolinecolor": "white",
           "zerolinewidth": 2
          }
         }
        },
        "title": {
         "font": {
          "color": "red",
          "size": 24
         },
         "text": "Colored Graph"
        },
        "xaxis": {
         "tickfont": {
          "color": "blue",
          "size": 16
         },
         "title": {
          "text": "x"
         }
        },
        "yaxis": {
         "tickfont": {
          "color": "black",
          "size": 16
         },
         "title": {
          "text": "y"
         }
        }
       }
      },
      "image/png": "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***REMOVED***PltxqmZPEWDiH0gMFMd2AYC2QiczRN033fbt6mfwwo6Ob6zgd2TS5nZTs6buYeRrUXYPukJKHe7Kp6cUInqaKt1+WwykjfksiQFbUpRly2FtLXObMsqHkmN8Em55FxJ0c5sh43Z9tbr35Ec4ZdGBFcM7V6UraHKX/skTgUuUqwlSY7tsLhI7TUiaItxt1OWpCaOsQhwJq9BnlC2z+IeJecqRkThFVFKkaojOaFsrIUqH32OXJzRRtImV9/zBPlfeU0VS/s8bFjdpnNHcbYxL0exStIBY6RWFCMRZUnSFTtWWMvPZMXOy0rAoTTXtLSGlWCDcq1L+C1KUgkz3PkGN2oK0kDCS2sii6gvIZ2vOPkGNmitT1WSzPeE/dIki51If8WFyditXKPzUl49YxJ7JyLKS6Ei9yNctiR5WJdnCR2N+cjDc73N9EnWtFSZZ6QC77zvMZr+X7+mhp/8nvzsulGIKCvS2eE27bDIrCaaa7i9FeJul4xHsrjaqXZIXNKqbn7OLEqS7KsoiyVd7FTZoVzuhnK3KyMvzbdNAi51nlo3MinmTFe7WSlZ9JS7XamtpIqP/VOl/456Zmm7csUkSTyPTBGgZCEndbl0nrmutpf6UwbM7tmjK0hSt1gQH+cJr61uwfmec4fhYaCMhiqOM9/jc5VTiUDSYpKUJQkxSbkQYn8eBMR6NHtmQ8kVJDk1lKQ8bsBUKtKvu9RT5YAZO6SlYLVBUMkbxJI0lARtHejuIuI2TEuS7lok51NK0mjEJckErr98JURfXjuo/RjxQPOQIlnAHJbr9m3bPWT5bDvVKNsJ7CMueo1kZxvg7FkikqVLSS53OynX6TGH8mLc199TW16ku53uc1/Jrl51Hn3kUrncyfwExUqmpA1SV4LnRoq5dTcpqk61Spav25j1dMrqJpYkGVEXK5eMniv3j6wHZtihEj5IemWR9kH9mXdH9dFvmc8pXLZY2zcaLneq0xgPlFGcFSURZV3SVob5L+Q7nu4Kn0zv7XsvfTt4ifZ5R2g1DfpXaDVbJ6919ZnuhtbTlg1uYcvadlaOKrUJZONO9ktnceQx94xyt1OxQ0M939ZzWpflvVA2uDm5aU9Md3e1W5FUgXnsYiayN6YrZJKZsuauR7QU+qrMUJ8Sn6nikc4z4pHCPMFu0pKUwa1Isy7zd8bdzm6blvdFMrOdJWmDOrfEJZ3dvo9q3KnfhbNmJZLZw1RZZT3KlLyh1YglbTAUfzlGxY1IHog3Nc0mp8V/7xROFHNcpRkfpc5Rik8zacPMlOpMK2nmZyylcAlWVExSUklii+pQIpNmn2fJ3ilz24nVf6RF5jKS580qcqtebMnxw2Q9wFje3qUfo67jcImVlqCYuljsSpIMOJWztVMUPvldg4DAeCUAJWm83pkxap***REMOVED***FX2m1noHDxXiT32QFmScqUBHzQ683ryau6sF/HEJZUkIyZJ0JhKUteIkpKO9WfWBOkRTvO6rTNGP9sUot+zq8OQwgECVhfFsh37Mk7COWQdvFMpSdLJn25kilMWkhQlaYi5ZJQVsIN/kKyye5ooSakdLev+bMt9xv2UCWTrjDlllJIUtcy4mkuRtNefKWmDKpN0p6xO5S5z9igRq464cylRnGYY3GYbI5cHCuwEyOis/M7L8z7DqCNpSWIXQJGYe7qpJIV2qiaM2K***REMOVED***ImClOxIltCS1EMVJEpRMKFbckIJN/05dDJ1kN5JVueXC3T2Z7YkJa1IlRdxKU7/L8G7Uj6HkiQKknSZKlxumsYucCLFWJIkm51Iok9v837DGjg7gxVJyi3q0AeFdk7T2ynbJPbLv2GbLOYUUZAkK9yxPAnn7P3NWvnIrEbtufFx2jh5ZiQtfoqwgqTccK2TymaaI0kdJ5YkFwfGLSE9fkZtPz1Vv9A2z2PLhkimuKTs7nY8AMMDMS65Z5ZXxltqm0ZsRDVTPJK0W1mSSjkAIPVmExWTFHNNY+VelGZ+j+eY96yD3RyV7MqSJEPtL9WneBaodNqqThmfslq11PZcn9sNS5JSktRvTq7j8t2fdLfLYGCbaVj4S33OfNuGciCQD4Eiuqz5VIsyE5WAUpKq+1NH0ew/VI0qccMQliQ5pt+IGZlhdKg7ZUi/QHEZI3oxniNJSdytd35G2pL0SHMkLVfAEwejWqpc1Rb7p4vnghKReILBYxdpy/4t2TvP0nGs6LmfGg9/mWo6/o884f3aMcrdbhb7b4tFRESlXe9XwT+8bai5ZNR96zKGhRcG9E7gbrYkWS0CWuV5/FOj/CmWJHapFAuNdBKVyAhhIZIpaYM6PumCZ7Mk9Z9xoubeVtfyA2o89EXm9xWqP/ptLVYtGZNkKDYqLkmsQtLxKe99hJMS/JatHdld9uT8Kh5pFtczjTM6ikhMkkjSksQxcWGvYUkaDSWJv1cioiCJy52Ius/ayjD/yfxb4YSlh8z1xbjT/FJPJ1s8eImVByXWwQC1zRPeS76guObxJKWVF2qblSUpl5KkMtuJEl6tlCQjo6KqP5/PQN9zWjHHc3oc417S3x2zDYuRvY65dXrClZ11ppIkZWJ5TlaoUn+fXhnR5oKTBAsq6cIcI4lCvi53SUuSZY4k1V6VBvwIuw1aRSbDtUvSkmTrvMs7Xv4kS6nV8iGWERFxkdrEz4BVOovISmo9PtvyQfZYeDka1ObQs8YjSfnkAIAtQ2q2uoa7XSUIirmqTffQeOrvoP0cnYZFTraLItyWI5GR/fhi1uU+/RtPaG39hl7BE42rgct865SEDTIIJAqXeCuIdUcsVLkGPvOtX8opy70e75Z6pLxTRdQ7NnUv1kBgfBBIfdOOjzahFWNEQLKByai5vDS9xghx1Ogk2DtDag4ceaFaDAgpLZfg4wGvPoQ03eicSGyM1bUk5YAsK0NZkpzsVjOSkqmzH2JIg4YbQaZzS8pvkXglK0nH6Z1n3xBKUk37bzh72J1aTEug70nu6P8XdQX7tR8Yyc5WyX/KkqTiklIsSRk6SKpdypLUldA1mOONSWf31FYUbEmSZBFRHsX2OV1abEedVx/pF0tSr62P1sOdsEJEKUlJhchysIpLiltcW8KcvUYmMi1nXmWDr3Bp/Xzi4lXBCpDiNMNQLtW8HG1sIW069Bmq7ryD01s/w6y/RZLJLZuoOCZRssSdRsRuSYp6plNEudtpSpJFW8xW8TC2K0uO1ZKkXPCGUW3y0OXlVdrkj8kNvCBXfmxFVZpi7czgbmdakcxYpLhTz4XtjJtuvNb61bJK2iDxSDX8J1KoJckb2sEK7AGiPj7+NR5MCbppT7xOq2t+X6o1UtvI/8ob6jnZQowG2C11f7Xueher4u/vsvmqSNZPef8pV7uzo3oSBolHUqJc7pozuNxlSt4g7ncisTp9IEjVo23jxA0inezuKtLo1eOr1OCFttH4J51m6VDLxLHyp0S52tXbMpkpdztxuZbJdUWa+nSFvMOWpVTVVexnOB6nH259mf5z9xb6xnnL6QNXraZXLcmCpF5TSdLbUOy58j1OxSTFrUpSjgll1YCJOsdoWZMkdbd5R4lkovFCZTsn+hBR2T+V1b2UyRuGtCQZShIsSYXeOZQfTQJQkkaT9jg/l4p3EV9hGS1urwzQgem6L7/qbKtLkIkHVWakbCNPoiT1G7Ew08v0H/POgLdg17OhEjcUY0mSjv7zXe20lrOzRfjHeii5lEfo7HLGdLeWWtq+Xa07lSWpqjypJJXt2KtlrFJl1Kcr2saj7pvUqvbpSITI2f2stjzTyI4lCQhElIVEpQAvczpZsWVXHktMg1ZQ/rHbn2SO4ihv6jLc5E6orNZ2F+NupzpiYkUSScYk8VxJ1gxJsi+Tcinbs8mQ7nbGXEkOb0/ycPcRvTPqH9AtBskdvOBjV6sBHhKt4A6iGilXyRtmR9ekpO2W48r7nuBEBVHy7jlI026/l6Z/41dUfd+T2nw0KhhasyQZSpKk3tWTNsSMbHycmpndcyLeuVzbyGe5U1Yj6UQmY5JK6G4n2d7OrzCtRcLolEofd8h9aYq11d3OG9rFE7j+UlM+5Zh+zdVOlpiKEZOUK3GD9RmTjHMihcYkBQxXO9phKBn9HsqW/ls7gfFvTp2uSCmXu9CxC1k7tI7XW0vry6Iw/3RjSLMsS2a5uUcPaTvE1U6JUpL291q7tfpe5W7n4WQkSnJZkrZX1FPUpb+35vn192omS5LUp6xJVpe7TK52UlaN9rdyZr6jPAXEtGCYztujJ1TpsEwJIWWHKy/s20Pb46bC2ub30MO7tqdUK7GdkuFPS3lvm3supWCJVlRMkmZJMrwWclk+1YDJAsO1cVe3HuNToiZlrcZ6P6XQa0ZsUdYDMuzYYRyz1JjPTmWcK2VckrIk2WOSpDniISGi3rHaCv6BwDgjUPjwwzi7ADQnAwGeXJBzI2fYMfQm5WoXcEfp2687htbxvBhx7iScOD1A72K3CNPZTa+nidOAtwZjmgvY9ED6+VwWS5KMDFewP1Yfu9sN9PRSGfvW5yvOuN45jlvc7cyYpMIsSYd4nqYf7n2VlQrd9HGnq5k+OX8ZqblS7G2SH7/vnrCdynr+SQt9h+kfnWfSyvmXcDEzHka3YpidKXG3211eS0/VLqETOUNYDbvc+bbu4mxsOzlt9YqUU8hEucoKYt3Rx4qHiPohUe52YiEJsWInip6XlZ+GMh8d4EkwxeVOKS+qHqXYRtj1RzpR0kK5zhqnm7q4/9nCqYPNVqujsn8m45E4XkRcquo8DVrhds4+Zo+3sK9nr5Wf1FgHKylhjlup1iYLtpdVMUmOCk43zc9Nwu0id2snefcdpnDlMrbA6QkU1HEdzqU8ymq6KMp2FZNUQwdUseSnKOHu/qNU99u/ah0y2VH+zAbyHGyhAydcqZUTJcvqbicpyUWiHI+kRFzuPOFmLRV4rglT1THWT4n7S4gCqlJNWXdalpWbZEp2O8MFz1JsWIsfqdpF+/qn0c64fo9XcVprEWXFUpUrC3Nl99/YIneP2qylcY85dYVcNuYfk6QrZ5q7XTGWJE4Mk4xH2teoPd97gw0U9TppRmSQPI26IpRsqGVhLruibmALys66cjp/D3/Dt+4meoulgG3xCc4o9ovNIc36LrtksuLQoQ7tPRnhpA1KCspwx3pUco6kDIkb4v4y2tAwl5wuvTM+UybC7e7Qvt/qfNZPyXC3pSNGknzmxHr9HZ0ps50co5SkFkmFzS+GUw90UGO/ft/bh4h7tJ4v3+WXWvn7o0xXxkGvlPFvA08ZESgz360yEODq7tPcSbOlms/3nEOV0xUk9orQ4l6dplKfw91OWZJkwuo9zHh399CDbkO1oZB9zbY5mnYWcV4Vj5S0JCnLzhAu9IW0UcpKEhARewpw2aYGAA8VGCcqx0JAYLQIwJI0WqRH4Txilaho/T+iTR8iz66v8IjumoLOqjLbuX2dtGZePcVYQZKxz5dm1NBDsfQAbZnlXSQfS5Kf00XXGil5evqGdrnRKrX8My1JpmIl8ySJuIZIAS5uMP/iyR23cidByeMdR5MKkmyTjv9j7XqHV5Wxfkpa5/MSN9EZlVupydNJH2m8n6b1/EUrInNpTGv9KU0/cAO7b/2R29Kmbf9OZx1de8rV9Cv3PPrYUwN007zV2vZMLndRzwwK+ZZbT8nLTnqm/yxtm5qZ3HS3iycz21Vwh7rGo1u6Mo22K4tDG7vWiaiR+TlG8PoeX2FjJEqxrI9up4YjX6djOr6r1dvOCl2vzb2uEEuSK9Ki1ZPJ1U52JCeX5Zik8LyZFFosFhvuxO5s5vTSF/GS+RqTSYY3xi/U9ivrm6yomKQ/tZyh7bP+i9AiCjz6alJBUvu8uw/QwV792RF3PXF7lCmmtMGEsJHZzjJHVzLD3RBxSY74IAX6nkqJhRKLa/U/nqDp37qZmr77G6p8/HnNCqjaYf9U91WzJHEnUsSuvNiPKXTdEz5AA5wKWslWQwlTyT6SrlDsbieKfnnvE6qo9imWuYDFype0JOWRuEEqqGRFXD2vXUO4k6aclFcCA2u5PYOcSGMZtV39Pm33nqieHXGOkY7bfoxan2dYu3fVVXJChToSt1mxAGeTu415atR+ieV5NKwPJWW0JGVwt5PziLjb2sjT8xx59v+NfZ15ctiaSkrwOzOTbJg2i43Deu9zptHmrJakDMkbslmSyg2jeSfpg1KnHuykRsPdrj2uDyplak8x21Z168qX9dhl7X1Ubou1Gq3kDcrVTqxIIvk+ryom6ZRG/V1atLsdK/e+gReoin9HZKAllyhL0mlN+jNSlJJkWJKWGXNrKdfk0rrbSQ8iPbudbBNXchFxaX6S43ztGfu0nfgHAmNMwOxdjHFDcPrhE6ju+hP5eh7nN/wgxw7s5sD0W3iU/UDeFStLUsSn+6NbD1zjiXPskf7CU9tVGnCVTEBtV59aTBK7S4j4OY6l1ji8hy0fhUgyJsliSZLOsD7qx4H4xiSA1jrlR+OjTw7Qf784SF9ZN0ifeiaoBdxv6eVRUpts6UvfpoqIK5ZdFtFzrBTdTpIwwBd8ScvYVd77MCdd+F+S4OzHE7oCJ8cJsnsGqzgFt1/rcAkTu3RNe38yW592DHcUDhnz/JhKErtA8k7p4HQbgfPlmpJkuCRlGOlVnen2aj0eRE3IOdtI3rC33OwE29uUab0/rD8XNdSr7a6JNXOnJkJBniupI5TqnlWIkjRUPJKcKOFgt5sQXwMDiC4OJJUkLytJGhRtylG9xQPlr6NNwSXaivrRlxXJFyIsNw4sop7tllRgIY6vutNJmdKJt/gqqJ/zpcuPufpBr+PRbpFYyFCSOB5JSTIuKbxTbUr59A/8i6Yf/BQ/J7dqsVANR76mWdAqnvwXlT/3ErtGhsjFE+JVPryG/Fsz1yEVKoVIi0kagcQNcg53ZD91JvTYHFl/Jah3xpQVS8Uqujh2USyB6jsqZZV4wvvUYt6dzh5L9kR5Xp18g0U5F8tpPqKsSAPlZ1DUSHywh3RFZL536FTSC41MZTvqK6ljpf4M+Te/lvG0EvSu4tWsBTb46rWsbFFLPJG4JYuVRo7ptsQGyXFiFY3O9RO9ZxuVH/0f8vTdRfS+bRRfll0peZnd7RxsBZY70sSWZBGV8EJbsfxTcyVZ04BnU5KkjU5XhAYdAyT60mqLJanNiGm0VD2sxdWLl9CMXjPWyMn398qIm8TFzipJZXyEkzeo35D2aBX9O/9erG3le8IylHuoZPCUwSF5t4irpbwj5B63GO9u63UMvRynxiP/TtPafs7xlA/zANRXOUZVH4jLdpxSki6Y7SEPn1+eRbvLc7ZjZbvEI0miHbFyyuCPiMreORLudgFHnDyH9UFEOZeE9H6es8YqEZfV720wnwe1HZ8gMNYE9F/8sW4Fzj9sAq5YF49EvZRWj32EN62AZUM/j4SKVERMdwe1ezFndXDa/PNVNp1sliRxt+uXoXcWsSRVGy6A3Tyrfb7i4BE2PQ2ruEDonX11bMxtWJMyJG/4B4/yqs6AlJcflUc5jbfM92GXTNtUmYTFSqG2cUt45PyfvGpaqGSfWJb2tB5UxZKfMkK29vhV2noma1LM3cCdZV3JiHjna8uneR7Vyit3O1lRlpEDA3oHKrclSf8Raq/Uf/DVyPwcY6JIyXDn5I55vjI4uEcrWu00f9waHbqC2Wq4B6oMWfZEDkOdQylJSYtRpsJdeucpPtNFYWVJ2r2fAj3PaqWV+6XECqkf+XJfhO480kw3799Jr/b3JCeVbe60KEmS9a/Fx5aD2rSR+52Ll2p1q6QPsqImlHUZLn4qqYTsE0uYpA+WLFligbRLBbujiZVDiSgR/t51FHhxi9qU/Ays25Rcti84B/R7Jh3IhI8VXXa7dIQ4voNj0EohMrFvmCd9lhTg0n+a4eymrrib9nIyEaWgKSVJ3O3EHTKTe6EorEqSI/M5AuGVtVJNJJu0lOYxoay4Xcr8TDKAEmQlSRROkT0ePTZpvqtDNSfj56aONp4bKEFhdnf82AwP/WHlXPJlmbC4hjMdnmC4r1kru7RlJ1mtSGqfynCXKXkDreDBh4D+/dfKu3ngZ2mzOjTlUwZ/+iQglKWKb7fipLilFOaVZEwSu4KpBDumu51ejzpGlKQyv87spCC3gVkod7s266RJ6oAMn2J99TYfzrAndZN7wWz6lMN04Ba3bv8pJ6QW4rXhWJLkeyguoJL1srrzD2luudaTqfTfL3VWaO6JL3To78xgSOdhLauWlaudcsNdVK13p3b1pP4uqPLZPuV32x1JZabFSfJgZzZRSpIoOYur9d/Y14xEDNmOsW7fwdNZiCgrkiyrAblDJXS3Y298TWb+6T6eoPk2arjpD+Tl9/a/OGV+myUzoBTa0BorQsHU68f/8UtA4qUfOXyYDpU4+ct3fn4HHXfe++j4899PJ1/yEbr0HZ+nH918J/VmGIgeDh0oScOhN46OjTt87B6XOgonzbPG8eRqrrIkzR4IkNfS4ZIfyyuOprvIqTTg2SaUTbUksfuMEfBfiPtMpngkdR2qY2xP3iCjVP9qsXQ6jAPW8YtZTVCp6qjn1OQX1jWp1bTPgcoLeFtqZ+KF/qV0mI5NKyvlVjZwcLvmpGjulpG+lYt0V0GJS7KLjGLKSLwE/3fXvkPb/ebqf9I0d2/yh0s2qrikw0bKoHIXZwBLBrdzJ9kQUTrE9S9pSSrXR5tVtjDFQCaUdRQwV1IPW1VEqh0WJcmpPxedHBMlooJ/C7EkDZW0QeqUzq6jzXhVVXHsEs+PFF4wS3aRv09XknpqrtbWPTxXkiS3cHlC9EDPFnq07Qi9wDEbP9rD7nT+dq1MrN5kRWIhncN60qfeS23XX0uhJXO1MqIEbFt9qrY82wgwlhWlJPliR/VyFkuSbMjmcufirGcets7YxRfeRPEK02Kj9ou7VTZRiorEp4iYo+3ZO1XZ6sq0XdqprEjV/J090a1bo7exxVW526nYMFHOJLC+p+Yaftfoz3iC30W91W9kFouS1SeVpFzZ7QzXOhVfV+3WrZ35vDMCA89o5wsGzmBFqYyfG91tbI9Pd6FamEgfwFANjLCl5M/hHi0GU7aF+J335xPmUis/dr4tu1SxlM+3L/FQrZEWXr4Zr2Nl8ty2PZmVJCMBS6Y04I7GzpR6ZcVV2coKdbo1SeKLVDxSFZsCZD4pFysYksglk7VNxqjE1VSGv5Q1SQ0eNXBMqVUC/PPh9euZOU/u0L/jDv4eSAIHUb87hlBUZZ6nxh/9jup//Req/8Uftc6wqzu7giHnbWkyLe6y/hInjLBLQrmTFmFJmtb2C1aS/sYKyEEe1HpUyxqaiamcMxHVB3vEkiTSHdVdlNt5cCWbdBqTSk8zsgQmlaQC44MyTUDtiAf5faF/7+znF2ukJIwQpVZ+ExYb7nKFuNypzHZLa/gBMUR+p+Q3nR/95Bx9al8hn9ZkSINqQM+YnN5z8CgnxXma45jliUwVUeJbWDkfj+Lq7KGqh56lmj8/xLGw6QNg47HN46FNfz9wgN67di3dtGMHXbd+PX1v27aSNuvE4xfTg3/4Lt32sy/T+99+GT3w2Dr66Bd/RIMyaFgicZeoHlQzxgQSTh893X8anR94KtmSaMJFL0XPocXJLUMvqJikRn4Jv37tTvrB2Uu1Ay7Y3UqntIZI72KadTQZE3UezTI3hChJ/V79h1CzJGlzJXGSAXbPyldUPFLMqf94WY9LxiXZLEky0HpSg5vWHklVlE7l4No1XXq2JlXPZQ0ztaxdat3+KaPkm91voxOif6EIj6xvdLyZvti8mlbxKPL3Gr/EHRnTEjPoX0HVFQ20eGA/7QiYFiv58QkvX6hVrbLcWTvGHsPqEPXM1EbkO7wn07Twi3TdjMfYevfOZJP0uKQYtQ5mtiSJ25O4cpUFJSU2T1RZyR3+QIA6OHOUiJp3Rlx0/NzBai0voz6e/8SfJYmGjMRKh1lipip6HqLgYAfXsjRFSZpWxp0JxtwTFQ4BTamTEc1ClKRcliTtR6lbVwj0rHLciV00l7zuLcynn7PKLdAsB9Wdv2crTheFQj3kr+i1qarsqkji7lFDvlq9I6jNlskj5OHT+V7xfF4SbN/zhvOo4ce3sXXGQQeiwi1CdktSmZNjcLRvg1OzonChpIiS5B9YT9LxGaDXJbfH3HUU8cxlns3JbbIQ9J9MzjN8WkySdYfMAZVNlPKbCOij3eJ2J981UZ7inJFyuCLxSEcMV7sqTxmtTBygB+k42tbXk7QkJVhBi5cHOKi+V5tQNlyziK1odZoVraPhk+lxduxCKoMAYhWWNOB2q7Bqs8rSWMkDACKaJYn760OlAZfYS+kEK/e+sBHjJ8r187PrOEmJlyocIZoRP0S6aqvOZn6KG26fI7XjJpOpPj2/nt7wyg7OUmkqfOqo5bUukuyXf9wRpsv58/P/Wk9uVrasSRtU2blKScqQ4S4cO5789Lgqqn2GI8s0N9OUjbyiKUlGPFKV4eIq1qROSZ7CCqZkJrSLuNyJO9ahngFa5nqVYtF5/HgHqN7I1qjKu/m74DUsSacc0hW3SFMdxyWF+B3iZSUplJzgVx2jPiuefZHcR81fCOkMl7M1tOeSs1SRtM8uo+Nczab2bn5JbuR5uK5snJVSTg0AFJriXhQjmQ7AKpKpzsffzWB5epscdiUppnst8BvSWkXKst2StLBKFI4I7WarXSEywO2p6Hkw5RBJCGMdZLDuVFakecb8W0sMC9ZOLbOe/r2xls+0vF1ZkozMdqqMuNy1sPlHrPEzUx03VJGsn092tNCTHN8rz+LptfV0af0MGhzgzioPmpQbg2hysDwbF3t66A/cZ7HHIf12W5g+dKxXy0q6nuOJ5TdbJT5RJ5Y4YhkcGC1xt+oDAMoUG9iwlbrfdAH1n5n9HT1abRvN8+zu66N1HDuZr0jW3btZSZJ0/yLydn26pUXzKlLTh2g7cvxbWFFBp9fXZyzl43f7HCNJznFL59NZpxxP1378G3TLH+6jGz7w1ozHFLpx9J60QluG8gURkJGZr+95Cz1TPY++OPOPnPksQp/bdx2V1VTQjXX5VaUsSZX8Y9jtM1+2RyvKyLmPXUJsIvPGiAIgftgyx5LPHJTSSqZaktjdThIGDA5Qp60zYqs2ZVXFOmSyiClLkjND8oZVPCu5VUmSuIBZ0/roySPsgsGdirNrG+jB1kMkSQdyiQq32RA+kyrnXk69rwzQ09zb2r/8y1Q/+BgH4q/hKmKc8vhikkBepSC97xgPvdgap83tMfq/vU76EitKvm27eWSaO9CnrUieVrlmiZIksjFxCZ1PL9Kb2JrUEruCO5812nZlSVLxP1pMkjHS3s0xSeICWBbcrJWVV5I7sJfouCbqMBI0KEuSFFjAI3xbq8poP3dUdFXYOMz4kPgqf/9zrARGtVF5UQa7E1dqe8vKl7PWxx1H3wlU4VzFmQw4gQJnpxNREwQWlN2OLV8iKnHDLh6JlUl8ZS6ui+ZwunUZuevWO3/K6iQWn0pOMCIyUH6m9hn1zNISIjS6DlIvp6u2S4hH5h3sG19XqR8Xb+YA+PkHKL5Q7AC6qDgWV3s3HeCJFkVU0gdZrmPLwVyv0V6bFUn2q7ikUO9r9KktQTqGOyGXcQdaOqqapUXXb6WoZnUaDJxKiTM4Wx93MKVTKdLx7jdSZHaTtpz2j39wJHaJL4TTf4+MJUmLR4rrylYVP18rnNxRZEVFXBZDPEInfSctHqrCrytJnLwhxvP3KJchPRV6Wss5cyEr1JqS1DeEkqQDku+oSI16vrMkb5DvjsReWkU6wvJMfNsdpC3n87PK0p8ooz+HFtF52lr6v0WBSvLwj3rE5lK84kg3+bo5/uzfLtEUafuRKsZoBlsbPYf05yKzux2/KFkyWZIGKl9H/g5+h9Sa76Jg2Xlaefu/Le18/736IFO14XYprKRjKskbMilJ4nI3P/JPenPsQfK2D9J9y7z0j54LuOq3p1S/Z1C3psQ4/m8aP/8i0SaeP6q/nV5tqOR3ZZg4JDBduPfj2/Ra2nbfph1DK0mDbPnkR/ii3ig92BCgZv5tOBwK0gwjGYVUWKy7nTOLq1q27WUJ/Xo7DEtSl2FJavT2k74n7fKS86XVGspmsZakqGc2P6/nJFPny4BnT+21fELzvWQ9u6kk6T+4yt1up+FuJ5ORy9QI4bIlNOiXjrz+7Kk6pK8grm4yPYJKT6/2aXGbbawkaS53th90VSjD52s8+fwdh/Ym9zzBypJ0jvt54ETMkOXsvqtE3h3l06vpRu59/nXPAB2J9NIcbzUFw04tC6PEhCm5fTvR+bPddOOKMto10Ef3tRykrWzRns1ZHS9pmEGrq/Ps3KgKi/jU3svKV9U4vnzty6QNZGW+RUWcZfwfIkrSHfv2DbuhD7PrXSFy0fTpWZUkez2zZzbQuTzA+FIWN2l7+XzWoSTlQ2kClBGFxc9a9f1dp9GlNetpdQW7F7EyssjIbpTPJZhK0iAdYcVIyd4ajl3h2INMIskbZJ4Dcbmzj/jIHCoyOaOIWJKqeOSZBtupy/Cpz1SffZuyJOlJGlL3KiVJ4rHsspFf9Fa5gV+y93Tt0TZdxi/XAKfBFhnKhUQrwP8qEvu136tOxxyaw51kSaX7Mtf/TMcsfoF/gNURlzbXjjf0Gj3UPI+PcNAFnfvoTQuPpRX1cfr0s0HeHqH/z96bwFl2VeXi6863bs1zdXXX0HN3ujvdHUhCyEBiEgKCDI/BPzzUp4j4d0YFFPSpiIg+4aE+cVYEBRmV2QRICEkImbuTnufq7pq75qo731vv+/be69xzT9/qAZVnQq/f755h7332OfcMe6/xWzet3SZ3Qkhq+uoDxhUufe1242oVLUIIAKmQtC+9Vkrpa+SO5ielHhac+VbLzCjC3RxzIuHybUySFR4IAV4TzXDzjMyUOUmWRV2XeK7BHFD/sD6D/CebWOAjJuNMLX7LK1Fr2XS4z5Qlk2vB4ZNPD0m7sQ7SPckKSZfrbsfnS+sCrQwUhL98qiB/c8D2xZN98mhe/vnsDO6vfR/VklTGxImEW+Z6cvkdZl0As8FnsD4xImPFayWbqNYCX9vcIfcinqojDiGpGJbFvpdKk/w1LBAnzPFcMHCcSUSJbDbsYgtU8GM93e36VEjyIduxjpSPr4PFMS6toVFZyMzJ3QuNBrnpEzeeQLzMPtOGrmC8pwvNrzHxM6bQuaJyezlhn6kpDyzUikRGQ0m17eqGp+Xf7dq623WawwmekATi17bIqOwvrZJ90WVjH6OARksSiWMD3TsZb0WBfiUrEcs5GoRLcNGsMfPQTYcgIFG8VymH7Nbs0BtnfZpoc1K3qAWswrxjx+bPyn7nCsem1GL+K96TG4sLEos2uqMrK7r33Tm6IF/prVistyJ57tpGJNA9twD4/iOS2bmlcoDbooKI1FYC6AagqvlcNF7LNTErZUZrCUl5WLNlP0RPn5AUStFqW01HwAQTQW9VM5I6o6plwbqnNbl3ZyWEu41NObk1+hXEl1khLBHOy2tb7pHJ0otNDJ2e5VDajqPZDO4PrE6kQg8sSfvt+MSk0TUJjGJu86DU7TlUVc2yC9E0BV8AobTiGe9qapFvz5yDNWlWVnVCmebIe7cv092OVphCfMCzLrI7uoGqQkX717W6dS9Hm03RnLMk1YUWVxaS9Nm794yKOLpfMnEvUzWoUkvPcaE1r1WQ3JpUjHRAuNm5YnMVkvqdJYkCOkEjaNmKTH5aOjNfdsd+1cwpE6vei/2KoHQ4gGrnP5GC3Whcp7/uQtv3z1gFgb/NY3NTknFCUsonJKVfsNPkvzpePimZpnOAzF+WdHhUXtW1Ro6OtUJBVu0B8k1A7b9+Q1w+OnzSCNE8xxkI1B85e0K2IPG1xuX5z/0fuU1X0iAZF3AoJoNAI8F2z6V9WnTeOED+5tIoaEnSo+5atQp8w8pznLbTNc97OTQABeODj6qy+HKOrN228uXUrr9S+iy5A0TYocaadCbfZdbr6yaNFsbsXMJCcxo0Qps33lBhwhYSUZk2Xunnd7ISDDhzvqSdmZUCEqmxyTIn03SUv0S6sCXJWliCMUl093po1A6029rsuR6dOydDCDynq9kd7T3eR0oXkotRG9yNSAtOSLjOwa4+ghgnUs5o6zDfZ/bKVyw/Ia+GdYXEPEtv3GQHhL+dsf+fcR30b+6E7z4dwNWSVIiCWQIxA/k/nbvDbDcs/JtBD+OOTrqLRSsA1sPlwAtsB8NBzeF5NFYvM04o1bZsM+DmodNg7oKkCGHB8nkjbEE4i9lBiwJOu3PvKYSsYKMCxXwAEjzYl+77Xe3Ibn5lqHqCpDvGl8J4n50lSdvTymXoUKvEj0+aTWpkSeuSI9IXa5arm1rNPheM3XpFd688r9E+oPwskOsGrzP1dNPyxyqUgIq2CAvGFP5SAq+PApSwMYWk/oRlCIo1LEnU0O6FkEvakbLCF+RRaPA/a8oWml8Fd5/rzXa0CAuFI42f4W5koVq40zZca0yQMo8sU4FJBSiWfbdE4Y0ACDPL1teGliRa+HZFz5gun3H50HjOMvJvkYhwp1YkQtqvRJorKbQCDPiCD9lO+9CYu9ka6I1so5DN2p5roiHuc7EQ/vI0hNdTS+czc9rmrU+clN/5xn6zS8brbYNbJLPdflO1UO4YAzRWhotr90l5YumUHG9rqBmPxA6pxGJyY7qhqpuWnteAb/Q67fkzVjOeLD6m1d6arnakjnp8FKBm5DDiM29yrokrCUnb4s8AXbT6Oyf4DCGn/fQMckSRchl8G/A1XEbsHy2ECt5wIYXS4k3XeJZN9sF340Iuo2wzA1AeUgssRzsb7be6Z8FaeU0FFt+tJYnHLzbepd1gHZKprrfVzMPGRgoB7lmSSjrGrfwtaiJZjVNkPxVrkv1vLLsUonJHyT8uaJl/rUKSIheyjnFJKTzjtsy9/qZmbklm9lSVUdgmbYa7aJAU4Y5z0OWQIqf6j0kC0TYHZRQ8lwEIYnkT1me3rpWzEHIempnEW2iVDLQ6fQmgR+ua0ThAbPENWHRpZfQTvz8mhP/PpqXrdpx3isyuLd9XAhJvgBGSBgfljZf4+5G1a+VH8WM+RxKf7C1dXfLzmzZdch8810qudqbTGoszyG+40cUs16i+7KIrQtJl37L/uge8bkNMPvSiFCbuHgw9IXlpz7SXIJBS/RMIYKfJeiXyLEkYwMackERGnDQEuGgGaAepG9ozUhAG3LjaOWGI8N+kpjqreZ7BgGlchkzphReekGSS/FW3XSkm6QsnrWn/FWtjXlDrMxnLkDIGidSGWAsSXUguTIBnDVsGMRvtM02v77b3hD7TWWh2qfWjljKePyktkXPy/Nlh2RmrDOh8LptTZTkZb5Q/W3c9ADbsZxeZnpPE4VOIU7GMu1qSaJk7kBmQ8ei15nwdY+9BrNFHpD82bPYzZfscaElKQgDlZMRJZqKegpXvk17GswHTpe6N6rrETvoRr0Y6HUDoY1k+eRVXVcREr/NExACl4lbbzmejlqRluHeS6HpSh9tDeFlqvS9G6j5HRjwNwapW4O7R+jbJr15jtd5grIi+llIh6UiryZfE8xTgbkeiJYlIgE0+v/UlWN/oirQ7PmTanCv3GmaaaIIkvzWpiCSep1JWAFehzzTCghDgF7Qk4R49k15nmu9InTTrN3V8TTpDp6DVXQ3r0asgdPSYcn8S3MiMtYqxIjwPS8sKpIKQCkZs5gW3Iybp30uMRyJNhTrMmpYcoi8qeMPTTVZ5wpikkgOcCMPdLlocNe2L0QsISXS3AzE2pBYpk+/XDKuL6EqWJCLoEc3OT0S2e35Lt7/IbLcB2nprbIV7i++H2uEd49a5Ku0EtuyOTebYJKDAQ9nqseLz42dlIXlGYom0PB1Oyy/94C45M3D+efVCNE/TmUAiUMZoSQssNyYICu9wHqiCuePmp8dyrUJSU8Iy4E25gpiAcgh0pJVgwOONVwHU4XyGOAd3WSW6MBH8QYoAAAK66WIkLqXmBiMoqZB0IdfkQl+PzL7hB7U7mX3VHVLsrCgpvArfxpQbqloa6mFJgrIDzNQJzE+KlMmmqgzQ9953+EU3q+P/kCjW5UCqdaBCgB+B5ZdUWg7DWM75Cih/K4CN0GJEUnQ7bleEpMsTMvzgDXRx5hi3Emki2SohCQh365PDgG6vzDt6vF8AY5nGIxG2PEi0SpGsu12wduX9F7XZxM3+Ftc3d0IHyPkAfYL/UEoePCl7EH8WpHSpJC0NS3gPqmuoAL6xqw4zm702fy2Bl/6zifGImavtOKDnYqzeFbr4HXjVmjXyDzfcIL8Awegvr7tO3rHVuj9f/MjvrsXw2Dm5D+k0rtv9H3eewOv43V3YlaP+a9wBalq+NntC7o53yE8tvlEeyFjm4TD8hX/t8B75yzPH5A9OHJDfPbbPS0jqv3KFAG9Mp2W80TJDO+EGQRpqQdB1DZc7xo2QgjDgBv5bcyQ5ZpWTYEOhJAWsMxdBPjKdYhGBtYJU093OQYCHfcANRPh50FmRKCQ1JcqSaj4naWjI1yI/0AtbLPPX5iwgF7MkaWK/kzm46DkTMTWHO9ojRgf2CAQlUja1y6xvbnxGXju8X0qNVhNvCrH4iRbLfH20b5fcetNPyDu23SV7mnskugQUOqDb0Q+9FLXXNrJoJ5QkZwcQ3QlTi9+U3onfkq0NmFzC9pwUkkjqknQuPABr0mZTZha5mOTPQSuMYHK6MGl71vVD+8zQsGHwTjln8dMDM3XXeIy8LQvLeP1LwTgsm3xXEYdiRksSA2iNEBwC6hauqxHacvq6ky4FvEEtQ4T/Jnz4DT3VDC/7ecXYIZNEVmOWmEuETEQxBGHjTIMnJBXj1pK0PjkKq1tYTmYqzDjRy46lF2RL+CS7lKHwOrPOx9eadTxny7lTamuRoZRl8PzxSKyrsiQ5YYflSvTpX4iuN7s76k7IqtiU/P/dXzT783CvI6mQFHGCBcuqLElw9VuJ1KVuOVVhDlRgutzg9lrnYDwSaXrZfvcUWIoQkrZGxqQxXJRhKEuGm+psTJKzJNGtNuYgjFXQr9V3BeGu9v9TGGtFtmMfKtgz5q4WMc5rsue9RuBl/VzbjwAh8r+bmIXV8xWGsamckx9Nfkfi5fOZMx4XBXoVKQJXSyqGqKUmiAQFhdzGAVNX5/Nz5/tETbifqJO4u8cy2f5y3e5vsN9F0OUuBoHI0JhVIhUnB80u40r8tH/aMt7xmP3+mwHgwvdG47dUyPQfw20KBw9mbqwqPi27IbSvMrnv9sJ68/GRIVMfdxaUJVgQ6XZKt8pOTSiLuKcLUQhCm1Jk3o7bul9rPeWUaM3wMOCdUWsSr0ep7JA5w5fpbsfjNSXGcihuuvMrJbR/rmlFNmAicAZVNzuWp5cvLNSrJUljknjMegPeIHI5SWWpKCL6Jec4TSy+0rUSgCOP14AodJpugecleAPdtMeL1ouEZUqZ1At1U2jVVhS8zT5kO23Qi3GTz4JxS1R0XSp1IQb0N9Zv85pf19IutzT3mv06zDF+BUPi0Am5utGOL94B2KCyb1dzk/zwxrix4LOOVii62g3C/f9qx4voMVSg7HIWSC27nDUVxsPZyhix4rHgV6gEMASAH1Iq4FpqCq8sat4Bjucvhotdb13FjbZmw++ikCh2pwEEsu/QSfnkF+6TH/+l98sGpBf4sde/5LvorfYh9onXrrtS+iy7A58dOyOPzmCwxXWPlpvl07kNcg8gkP959BQgTSsTGP15v13DTL3kmiyXMpLDYNCIQYsBzaQhxiXVmKguaEnSeCRnSWI/rRCSSPMLF59E2U59xUu+RLIsJ5Hp4gTImBbNP6NWpJesFfni1En5Wnqf1DePm/Z3ws1OibC5tCxATpAVfe1RxyBY0tHsaiMAmB0s1OXu0Qn7f57KWK3snU1Py22AAQ4KSRuvxvEly2TkcT/u7xiUt29/iWQ3WcZIXe3m4I7DBIXtibw05p/R07l1WV7b/pARRlhA4AaSujrwGcdgzSIx7kWSeZkatNenbkumkgu4S62bscwqXR+qKBSBxeOVpoiM1HjvH8pY3a1mnwwZBTq6NNE1K4RYJO2beYk4qTVB2CHNX5inMm38liQW/PCGWBXq1p3pEblpakjyg71Silktvc1RBSam+WYT/0HhnblZ+D5Ml1qNa9Ga5LiZAJnb6xZoOUnHlhZlTcRa4w6GrSBDZDyS3jduG0tSnZ3E/ch2rKPcOuDc7aaXz2dI2ObWDVaLtRPudm/v/SQE1BJc7F4AQfoaVoM5te+hMkKE0fYrIC5kSdJkrioYsb9/j7adx/tJYYdnHbod3y1akkhXx6xQsGcV4o5MTJKd9Hjt6jI6LN2IyarNXV1cSLIWUkW24znVRfRC6HbFGLTYYHTp0LHUcLt5N6emp40wxz5+pHdQPnL8K3JH7JBECufHF7ANLTIkQpvrORnnR8rs2GjW9Q88DmSuCbPN+KmgcoEVcw6y2jQKLFaKS4rnj9uW43YsyGcss2kAYZxL2qGZsrFas4+8y6kWtCSpkBk4rdmdDFcYWBbMxu27+BHEefzZ0FGZQGwiqRifpdRg3E0pIBJuXy1JF1Mo+YV0WuUuRBlYDdL4mOrgOpxssd8a45JIfivDd+tux++Z8YvMW5ZueJHpV11CzY5voVak9HKzKSW0NmnexSWtlFB22iUf9luS1jmkuROXAQMezx0z5yMypipQVnK581ztArHGdLej98iHRv+bHftNj3A5bHoJYrP63B6TyNr5YCPa1/J6x3DpJZW9bJc7p3jkyag8o0BGMkISnvcy5iuOW7HRSVm3kJNrfaALvOOMFU5gbnx986J8OL/PHNtezssbmu279IutI3JV1H5/rPwfTWcM/L1peBmLEYAVvXffE0Zh/DvHnpEP7H8Kc26FP6rVVRQWCtIsUO04RsTOjCGHmn1utdpfKfvPvwN8Z/YABOul//2d8uZf+UP52GfukZfdcYP86e/9gsSdgv4/4iquCEn/EXfxv0Af9Bff53zK/ZfzmbHTNbUl/olI26u7XRYwpiSasnsd0tDlWpIs/Ldl4jUmiX22uoFzPhNgzFlZgzzgBme9CDbxwBuKs0JUtAdGLKOVapwygcAlH8OWC0CPe9akC7jcqcsGhaQGZyHhNajL3SOAGWfczN+fvcpc2rb6o5gVilJuqq+61L3QAi/AhcVP89GEDM1aN0DVwA9DU0haWw8kNgeG4D+mC2AEoaAlCVpf0mJ2GMdkjYZ4qeFWUzbtgo9UkDKFWJDJXTdjXY/OZO1a67im6yCJgc60cC24wFvV8qtlj8+nKWKtGqm4fW80g/ulINz5LUk8H4USxm4o3Xz2iESg1c8P0D2uYj1hPaF8c5pY9thpc8jxrNVe5kujZn8tEuduqreC/vGpSWlttEzyE7l+U19IrDVr/b/cYUySutv5cySxjq5izZFFxGwkZTxvmTqW+6l/+XEoKkIGOOXGxv2oQixK82u9Jp6QRFQ/utYEGEqCRqxE6nakghHb6bZamVY69lLKVSkwU7YuXLQkqZC0O3LKdLFnFRLvAlzCD9xwHFaNdy69Wt4xlJF3HtojdEULkickEbihBlXeMXtuNkmB2aIFmoAO2cD3q10oE6v9s/xb56xi5JaxRekOd0i0bK0C0Ywt12N1rUJSEQyQApyoYinsLCSxsSnk//lHaUfCwhSYuR0NbXq4t76ld423HdzwhKQADHg8fcQ2dUJS8sFRjMBrzbesYCzqaretDYAjBG4BNeGe0wKm7okrWZLYdmfdIa48S8nq0EEDGf44guv9VA4VET8y79zt8N1AWVYH92DCjdOl90Ln8CvR/JZRf/+6PbtoGd925GAyMVmooCWJdowj8HxQodh7t2t4MWhftdbJzFOmOJuCxcy5gK4keGg80kzJuhHf0APTB2i6aMdwdfk2hW6RgSsx09UR0dVv0WHsGX+LUHRNHJuQ5IHj+EBrKw20v4qQtBGKIKdA8cUrajuuPSHJQcprHYEbGE9079wOyYWssMe6TOp6bWLWB501spYVSRtWXO6oQrx0IjS3EmMINZFsyiUi5nPObbXjbRLWpLf0WUUVjxmsa4CQhLEbY33b3/2LbHvQWlEnoQRtwX6oXJD2uc9IUiqxdaNLw55yRs97Kev7Dh+scjM/DAXLw8fcN7hCB/z2ScWeDlm6cbfZbnjoSbO+svh/cwfe+XNvlP3f/Ij5PfLlP5cvffT35Rd/8jXS4FJj/Edd1RUh6T/qTv4/7se4PYGhCFJvHBDKYHSCpK4N/nJ1t1uM2cGxAwLSasJ2g6wlyWob/cdoQlma5/1EdzsP2c5nSWpxMTNzhH+9BNIJSpny4CFlB4+dzU3L509aJv3lg1F5csFqfvztHwi4x2hc0oUCkpVpPJpZU2VJIpLRVQCFYJjOHz2Vlaen4/LY0nZ7usF5WJIsU6bnr3faSd3XdTtQfUgqJI0gPwWpoa4ZsU7PN9v+xfHwbZ6QFLQkLWatli2f2CS5qL2WaSszeG5L2heDstdOOyGphsCqMTqF+DpziOavaXDvkkKy8/mkwlZISzghyXO3A6NwIUpkD8KCc8o0UUshBU5NesmK04lGwBC3Q8P4DCDO7zFtdRFGXqjchj6zG4eQxBiowxn7hycK1jKwFpPvBmcNPVrISDhakvECEsXOWwaoEOuD8JWEu8uEcXtkZ0XjbmcFoPMsSQA1IJ3JdckUQBrOI2j+G6Y/h7fcXwfUKaC/VYj5lSrMkLp6FdvtOSMLtYUIHu8JSdDIKqlVSeu0PLim0K3vc7BO99Xdbs7FnxlLEr4xWmx3h4+ZZntWWSasDAhwUiQ/Kx9J7zTod9wns/RlwOszvsRPKsRcLCapOQwwgtlPCvNeMd/NxVzutD99J8nM35u35/66XCXv/HZG3t9+k7mUaN7/HCpXp0IStcQ6XhpGHX3VIweQnxLHz0jy8Cm5tmG1FHIpr2rnbMR7mOcAAEAASURBVFbWwaV3JfJikpwiRNsx/siQc7czVsXDVgDT2DtPSIKbrwJcNENwqY5JsuOf9utf94UOmN0Pj73SrFuKB2E9ytVMQBtFImZ1t2Nj43K3ZMfrC1nd/e9fNCD4m5P6FnPO3bqdvmOOKAyre/ceVfjBtHGp77f2w7W62hEC21NKOJdQfztuh8vWFXosD6EQ9ALn8juZt89S3y9T6RYVV7vzWagN7hWY+Px3pO0fPi/d7/9biZ8a9h9eta3xSFWWpEJFmKfFkjFjdAH14pECliR2uAFWrCSQC5NlOw+wTONdOVb9LVBDP30sz2LjOm02aixWORf60csEb2DcpxKtsBQkSSmkXSDRKpndYueTBOKS/BZnuoOTEkeHJDo1C1EZ6IBZK0hPgrdoOHYfnhOE52U75rDtgWIPoM4f4eYlUxn38FG4DQfpUdzfC1F03I4bBUDiL94IkBLEY8ZPnDUxxRc67krds/8OnP+FP/v/0/flP+AE88LWjqr/Dq9yeUtLWd68Zj381isCVCcsRMG2NI3TBxlx6UgyaoUqWpLoJ9wNzrUIP6rRGsw0GWK6J5BB9VsOVrIktTiku7kLWG/8f8KzJNUAbmC7RbGxIx95ZtyzIr1ibbxmgtjuQO4chaG80MQfdck/g+52PHfK3VICOJBGwzvNWgYXjCXJH+hM9wZOYn5qgivB6lhQSLITCmNb5ptfJ9n8tZhd7HG56A6J1PV77naaUE9jkhbydqAnyl2xOAAzEFAJkQSSpG30/GQ8KpakoFWvjKDxE6YpIa1JnpbfCeIqtPL5JMFAkyJRy6R5QhJcB1ciMsHtE38Abbk9pmP8fdAWZiXopjIEtzdakdTFzt9f/cK9kldLEhjX8fmiHM9a4IATTNwFWptCzhe4gRDVMI2J+EipS4YQX0arqQo5+YA1qYAJcMgBN/SB6fCTQpCfBoJkEKWM7WiRitYADU7NPuzvxse4jXmuXoUBe+3hC1mSHDiDatjZqW5fyJLUOPc56R5+m3SO/SZ+vwU48oNV18MdxnnRdXU63GPyJvL9olsqiTFj3YBcHwTyXiYaEcY5KrrdWAPyEQEePEjBmJ1yRDXz1cKTHqeC+JqFz5rkmvUL35Cu0XdLK4Qm0krgDapIyYnlTu+fnoC+GdbHbIPMOcb3IMBsSEw2XIv8QpK6jxr31ZFJA+0dPCaJ+KRiEbFLhYqweg7JmS9EhIfmt0ErA1EQSYx5DPEdI3rjUkWZFb0f7kkEg8kdknDutOxzyHZE61x0rtMmJslYkuxAtJKVh25mdWUk+Sw2yr/O3CgThTbEOc7Ilui09DolmF437J+SXWo17nZluNuRqFBhQlnS9AXGbb+QdFFLElxfSe12uDPbXBDAgcTEskre+13D3Vvb+NcUrAljT6Gc4BSKuHgxS9JIDrm+MNQ+HwlMmf9vMu/e19L576t++35XO72GLQuTZvNQY6dZM+Fywzcf0+qqNWOhbNwr3CjpbhewJH0FyoZ3HH5KPnTqsLwT61MFy6wPBCxJ7JRxSYMJq8TRk6gb7EcP5eVLpwpGqce6rwJF9OQKSW81jcPlCknVlqSKkFTnhCRakrKaVP3EGZmbs4osXo/37kKIUerJ2fs+lmyQhs8cBoMSkVmXv41tDmDMySa2a/NLWnMm3TF5/vPcNROcAyvdRSemJAS3UHoYGKsneKGKNempSsMrW8/JO8B35go9R+7Aa7r75ZfWbTaQiTdhAvyrhn+SSG5MtiDfxx9s3u1pOV+GrOaKWqd/XV3t6iPLHvy3Isf0lSyjdLZoJ0o9RtcKkTyeqQxwNpGsdVvwu9s1O7/lWYfQpn3UXhNZyA5oqiUOtnt6zrpItEcrzA/R4W5r7wo2lV0N1WUXsyTRFYxM47lCsyzAX93vw023uCdcPJKe6EvntpnNbwKn/13pcfn1I3vlfcf3i0Lrvvv5SQMH3gFmidSdQc6W/IjZLsSsBYTXTloNlKH6r+2X5F/jnt/dZ8oSw8elDddDCgGtivE2JNV8z8FSQqKQZFxfTjXJVNlO9KqNNw2wMO520/beBmOSrIBUBlocrCxhq7lTFx8NEtfnQQY1WrZCUihiBZ6LudvRouHPw8RrIrNArfkJl5tIXZMorOQhPNSKJ4iBGaKwl+9fZf7W3LeekeM5ex+P5S3zSksSaWPCavzJzJ9bXmPK1LUxGJek5f3Ic5SYqdYwRjxLUieSSQY4PPRaBsx7JlvRdpoTYRE6Zq9D9/3MkDKUhc428384IftjlPQYrlUQWvZZknTbHxPiP4YQ541zXzD3mOXcb5r9hL+J2dZ4JAKAkNSNi9sEbyDtcgzgQWhe1d2uPjINwfD8e9EPV0c/XcySpDE1zUCh81Pn8rjZXQkG/NER++0/PlUn73ksK/dM2vbZBctw8+CJgrXSLTMxbg1Sa16ptdn7nng+JoaldSlIhARPHzotEffOs34YbqIjAZji4HH6XivCXTAeSdvn1/V7OX0eOnS/MJSTyqhJuP5xlK2H8ioMhjKC95PfJEcCMqnUlAcpkd1vih5d3OLWm8w6kTsgb+pFfiNn6adwuCECFMkiAF/w+cQbnzJCaviFh6QL6ijShRRKfne7MHI41UJDNZ1gMZuzgm+ryZylpRXwhv14v3TMudy4JM/Vrm636Zgu2RzHwqV5bz6pnJGCs/3Gp5BIdp2z0HTDmqIgDiqE+4/xhCS41gVp25kTpuhQQ4dXRcsj02IEye9qhyvBd8a4y7CxPM8VluSLSJ7K+C2SARJJjUksUha1SpoKt2Bc0toaQhLjXP2J1fWYu5G7rxZ5MOAB75Babf1lVUISBHm6I5JSLq6OliTmFcpuWWvK08eHzJoLFZJymwY95cuqrH3nRlPNEprDte5p9yxJ/eFpqIDDcnTo/PvvdVprA3PmXckmiZeqx6tBJCxdidTVrgBXO6VFuNwtJ2KwJJ2U+MmzWnxl/Ry8A1eEpOfQQ2XQ/K7mVvmNbdvk1oa4dIAhCOWtZonm7B0OUWa0BqKLutrVh8sVIcnBZK9BID/prAsYDt4ydbljQlklY0lywXMH4M7LhKr/egLAAjHLrM7WYKr0WF1fzIpEgIO9s5aB6fQJSV87U5QXAMVu0DFpMUx+0yMbMVhXXGN4Ds3x47f46Lm5jq4A2sC6byDBXZAd2TvXLJOTXfKnuVtlxAV9n0JuJibBIzJcC4QjwoH/9e0p6QI4xjhQwiJA22KsDTX1JHW3W51cltRjlrkRCDsGHrg7LT3Hreaq5KxLPEZjKGYgrDBQmROt0eoO4X+7/6zB6GxPIoRzCpxXLzTEdOPwC0qeq11inW2MpTKwapFUS1IEQlLYxa+UXK6kCnBD8A7Z7iLFaY9h906AjWjhrKfdvLnXascZG5QfWI3g65sBbd8kf5+9QT6Zex5yrKQQpH+LCQKOjVj3ksnhOViSeuVsuUXmlhMmSaUK+lvnrYB/oLhK0mAESWedQKrWsnjeMjdaPpiekShg2v3ktySpJcpfX25olPtO3YD4GSs4sm58bBXcHzf7m+EZWcGO4A1+K4bGsq0Ul6SCkGrX2alu+zX5/pOllh7075ptaq8VuVEr1RXvXHi1KfJbHzUuaVd+1NQ9BU1/FkzCoe5medfG65HctHoq4XhzPRCu/HSpQlJLyAr7emxHaNpsKpCClnNNpK69yKFCIlN7ID2NNd5pWHhymYpwMwvUtjze02gkCwWDfRfMQW6hz4AxSfqtmPPhf8y/+IVGqWCaYowtA7mSKQyy+09L2AlJfXNWsDswYQU0f9/+bU24rQh3imxXnm8XArowTpEKjMVbng/r3A3m0NsbHzHgH7TWf/KYvTdNlJpwbcyb1fHhf5ZmN0Yrs+k/ZwTgNaRHl6yQ9PiSfReXlw4YV1R0Y+jdQCfbkLCM4O7tT0pD+YvG3THcOypdGy0jOHUBhLvg+xeMtbNnscsZ10+bSxasdUwirPPUx0dPGebZg7hHTqhaxL6+AGHiPUBtpVCRxv8iZZ2QxO3K92bfX5YpeUJSAcmDHTod57TZolVsqKJO23M94yyBtSxJAwNWID/UWGGqc+uhcIKAECSF56YVSUkVKE9OI0FDQOgNYX5e1bqkTavWGwADrpaktHPVpiUpgTx5MTIHAfLHfvqrvlt3OxVq2RevW5UaKcc3aOxZzlmTFkcr3wpjDukmG8JPqRtzJOn4i14ocz90q8zt7TOxnk2hrOyIWuXiCQBVXS71X7tLbpm271LI3d97m85/NtqvgjYwHkmJMZlLcLsjNTx0xZqk9+W5uK6e2Z6L//D79D/VN1gmLOW0sLwNq+ByRAomZWOZ5l4EnpGXI4lueaTVmLhJZ62sZLb9C2rdmDjz6vxfQ/P463CV+QriFOZkAUwU6cA5MczvP8Dk/8V5O4HMXsKbpxo8wvzWIsb5pMX21xWrMLO9KTshKLzn6uU+aEeRHDSg+b+YJakC2oB4JLjJ+ElRjPxlTDz67ZnNklu2DL7W0W3nafWxd4U/FJ/zJjSNR2KVIgqthgtOGIyYIeZPOW395SPhIVtUinj/Ry1JM3BFYDwSyTAspxpl2gWstwYYT/XzV4Q7Ih4qqbCg8NgsV1coRR5TIYmCbLlkn3MemUVIF3O3IxNQBVVujsI7CKHnhHMBuTq8JF25JcM4nq1vkQfkRnnL4pvks/nd8rHc9fLjiz8mhyO7pf7hvcYVgl2crWuCwBeRPRkr3K2j76ijHaesILW/BEtT0lrmzjqodc+SlDtpWg+78oH0rETgH+8nddlhTJLGJfjr6av+qdyL5eWHf0/+8djL5A1Hf0O+uOdlkgnkbVBGiP0pM8nEnYRdJq2EcKeMqD4/ttVtY2WqIZeqEMi2SuVwCq491FpXSOORpkJWYK9lSYIHmyGOIW87+KS8/cU75GysEUzLsPxiT1iuc4hVFLyDrlmekFTDfYmderE2gXe1IWG1vMp02Suwy6+fKUBJsGh2ZhFoX9dgBarO6RjeH1uu7dNZqySJFGe0yK7LsMgASpvEZ6BKBz1f5pqrZPxdPyUzb/hBmXj7T8jYb7xVZl93l0zFkRYhatXldx21DN+FhCTG2827GJxPHS0Y9ycVkj62/Yflh279CXn5TT8m737Vm+VYzxr5P0f75Gy+AzFZi/KNrb8qv7TqszK8YP9f6zSu1zF48aERaZ2332+tXEl1sBiR1JL02KIVkhryB5EnLot0ECVjNeQ4Uo/xvzGSlo2rjpljdNEZsfEh04hjWom8d9OlP9B7Wqv9tLMutCTtnKRtyFwPu7HoceT1Y+qKf+uzY7zfUqXt+bp/8OQh+RKEIyp6KCS9Z+ZqE0OnaRnY1vveasQlKXDDipakGu+rfvt++G+9puR1W2RVfkmWANRzEqkElqEsXLz1Wq2uWvvjkbRC4xW3A6TnPALO/ADcz2oRXQS3Ndj38PgyGfiQQfirw1zSAaHPT5SZ7uqvLRjQM4Ruh7SUh5b21XTN9fel2/mMVTLpfg7KMFI9QBdItCSRNC5pPmClp4DfcN9jxopOobLuLnvPxoGmuvTC3TLV02yOpxLlqsio2T7QYedFs3OJCwo4w4AUJ/3atw5LI+IM9sFyyfetFsW8eKRqpQ+tSVRUMIdaz+/+hTR+7WGhcvgKPbfuQIWLeG79r+/7f9Pdat2OOsKWOeQNWeWQ6moJSZ4lCa5Qk/Ct55CqWnj1Wz8dzPLm7vJg3Zz85doPyaYQNJ6YhJpmPyWR7QflRIMd1Mq+RIZHFq2GfdrBg7suaq4ulCOJB3Cg39ButTtqSYLSTF6MwZ85EBgYymvvcsJaUPOv6HYruZCoZr1WPNILkFA2OPHc0VqUdaesoOD/Q7yXihKo5XetS8qG+LDZnV62Ai1d7cCviZmkmuuFSew8Om0nxsVe63qxXI7IiAsAV40/rUZ0tSMZhgLC1VTJPoPuUjXTw4l7GbEl66bsREzLgLrqxJywoKAN7M+LSXKxbX53u2wBfSH5IrLKGIar0RlRFuzcyMPPo7nW/8+g5rGCrjDzLa+VXGzQE5K2nBsWCikkCo5fB1y5n/8vgln45vQMgmfPmDZcnIUbBeloxjL/G+OVCav/6DHE1MzL/DJik5y2/NicvZelaLuxwFFjzPeXuUhIgzj/eZYkF1C9UkwSj2PS4IUSnsWhTjmB+Kfhq7cZ1wzWKSkjVG1JaoSQZF3UIoj9qUW0HJDUemR28IJVCUqmsLLIpq5Frpwmkxbg/sJGI8RTMAyiBaq73YzYd0aFb/ZESxIR+/6ubafXMb8vPpOb5YT8furzsrN5tfwkEKuYWJJ073RFU8x9Cx0fNZYcjUVjuZJaQRL1W7UIMSXbJdVg3VhrxSTRfa05YjXrJ6XdJHZdLkflrx5+QD7/yMflDQO2KwbTt8xagSYCwA8/qRWJAhIHFU1g67dc0QqQ2bUF8PCWYWdsxRTGljCCwOn2dudxa7HfB2sxhY5adP9wUR4atXUcb//lyJTEkCurKHH58LHVMlsK49mE5N6RkvzCt6BFz52SNfFzpisG5L+h/V55Wft3zD6R7fzUCvc2kt5DraOrHVJNy5Fsn+dyeK7YLIexHwGG3uTCEdNUAXoaClljtQoziZqPukJWSLqwJclq/gu9neZIFf593XibUxwUQS2IGfQTxyE/kA6F7X/pTMGQjmipGpakQ2Buxx18ufZzutwmT0RuwW6FvblQXJKmmZhGzNZaFzdqLEkuZ5Qq67R/rtXdrjG+jHFoQu6dGvfc4hirt77R/kFakzLbN3gonP4+uB3z4L/tuM0yVV6sDY2dl08ou9QiGxotg8+2QVJ3u4PpVejHWoSfGj7jAT4MNoblzr6o/K8b64TgQyvRtS0T8qmN75FVU39kYke7Rt9lwG1Wak+LWC5zvKq6Tx40+ykXQ8fYNlKppRHeAb34fqqFtEWkBWn45qOmzeJt13nXN0mrHb7LsVutta0F7rgqJB1zLubmoMtYnHUIqlsn5+UN++08TAG7FkUdsp3f3Y7twlnM9U5RQeGo8esPS/OX76/VxZWyZ/EdqIwiz+I/ceXSz78DLY1dyKcRk/bonJxDskfSwBg042B0mNE8mONDY5LiYcuEdTlkGh7XCwhlwjCPJZH7wGcOZx3p+fEHEOBdzRiEBqYl6/y1l32uYaWStbLMBAZI21P1UicnRT6rrrV7Nw84ISk2K8/rjMhf3JYyg+txJA4lEdmMkKykoJDEWCnGZtHMr+5kpqFbMPiXdDS7pgr+m2XUtP3ZLSn5uasTcvuaqPzuC5Lys80zsuNoRgZlhk08ugrCIoED/BTbuFruLB00RXtn7H9QVzuCNpAyOzabtVmcsRqzTMgyTWWfkMT/EAMLuwQXs8WYnUhUqzvt0IB6Ck9X+nJbOVg9HnT3j5Dw70IM1ZH5UaN9ZNB4Id7vHaOWpAYkoSWVEBRNoiWJbo+MYyBR4LyYJYntyKSrQDfX+kbk83i5EZA45wzgHez50n0ykLFCEoWWWjDlQ3BlzOyqMNRngQhIOhG2TNqmiFUQRCcQMwOL6janfXzonLUaHJ0tG+Szw1h71iQAL2hcWNCSRDdBumoVw4hRgxCk2mRzUrcYgx8/MSNoBVu3ZN+DmRrKdyb4LIeRewyCWQTw9dRIkkkvO0tSZN4y/v6+ua3PVYUirVehSeu1nOtyCO9n9rUmwfT/ytwpPwYr3ANLZFgqjDDjxGzcVwiujJZxbXLQ8uyDMUn7ir0ygWsOUm+C/xNCMnJqkW5rs0Lqt8A8+hle1nnWJBdryDJSGvE0tCLwmywip5QSc9w0xe1zVcuO1nF9G749GjI/mLldnoy3mqq+cJvUQcgMAczm5sE6UzbHuMq0ZdKimUlTpotKPJIVsr24ScfcaTv/mozwRLtrD6zj+nxJdo3a93Xfol3723P73wIxINvrTpome5YGzTq4+Mkey2T6y/uS1s2o2Ze4lfXNOD9JlRlmBwuNR1qIb/MSdHLsmo3Y72YsbYW7Xhez1wBXbAI8PDPnG3vQTxdAO0grKZRYp+9eodcKyRe0JNHsAWIiWT8xFilI5+AxcKYZAmkNGPCVBNLZ2MaqbipKidGqcu6Ei/ac01UxSSHkFrTvei13OwpJ0XhGPjf7DBLxnkIuwiEDsEDlHGlDzr4Dn+/ZKhmHImoqfAsKFiG4ohVia7zvgtXetcLK/HMDm6QvaS2grFuc7ZYBCDo1Cda5jrB9no/PIF+Zi3N98uxp0/yntsXlf99cJz+zA+kfaqDj+ft8Xet90u/ywbGcbnsEylmJ6hfvNQoo1qu7bH1oGPmSMlLvXM/LAG5QYlzSVKqyz/LCnoMmji1LoRIJnDvdvD3pYp1nAX9PaglnpBOhBKswxvL5n8Y8cDlE98wFfAQEPmkDBP0rnh6SAXjLUHl897nq94NxZNFzGN8wlvjd7Xi+1Hf2nnfa5NNHar6n5zW8UvCsuQMrfG3Pmuu/cqEXuAOTQPIizZ45Kp0f+hh81z8hfdDIk8Zcngqzg8WSVbJC2LHawE66eDkiQzDg0F/UFULruG4ArPJ5hMNTyLlBotVDaV1TVBowoRegGUpfJCv7xWKS2GcZQbmkTrjbvXp9JRHpMTdZrQck70pCEo9Ta1KQmSOQANG+qOU9mesB/DdbVxOBHCggUVDaDtQp1f6/e/FQVcOf7q+esLVyS5Nl1r42vUo4EahlSIWkxHE7uZn2s4hVyLbKkrvV1pJkd3idbXBPI50DMhmJDAsh2DPIcZIMYTLIPQWG3ArLpgEWDwzC0tFaYXp5D740edZU533xSCxQRC0vJsm5QFKQJVpXGe6MJMZ3XSwmyTTEQt2eShErJCra0tZRIH4hwapaksbGl5DryDKkeizXN7Z2ytL1V5sJNQtBcSJRD2GxJCejVoDbKpYJTTCHUnvWE5JOZOw3wD6OQED6GNxA/Qh3K1mS1NWuDDc1GlX5vx2IHrsypBC965ampT1v7/dMwM1T26oLkLTkPHAATUK8orudQ7fTOA3tS/cV2EHLuT60OC+PZZAAGAoS0iKE6U8gYWlq/ktmnwu1mhKsYw6ABaSgJWl95Jwk8EUEiVrdUqniikLrrbrd3QcNu5+WVbh2QlIcSRnp869uYk0Qwv2WHgbbV8UI+TvDdh7oiJ8NbZJ7C5ulBEGTtCpp7zs11nQFJvH7KpYtQx5dsoykqcAiMmuZZMYjkRhPxfecltWgZcY0cItpp9Fnrh+CO2x3yVD3Ldj+/G25zdgQP21PnTK7h7Nr/cVmmxaya1ad/87PwyGO1Ogbn7nf0GzbBq9XhaTBnh3yNz+QkrftSsjfQJG0oXc7D/Nc29RboMExnGMF+02aRlg0DcWBkAfFDZhSCrRBsq6eGAdgLSgCBYwUmbGCVbCtl0gWcVXJZttW2zy/uU03vfVq/NeB2bQnhHkV2CAanv89ZR1jcbe2Xe1v5gnw+g37KzUmqRFImvqIuurCsOw5RVBAoOex/KbrkHMt79wGWUYF4jemxozy5LNlq6h5qmWVvLr/xfJYAOSH7RW0oeCs/ywj6big10prmlI0nhWNa9MyXSvc91CuWw7jFVQ37j4gqL5odVReOlBjEtODA+vdyacCJUj/l3n8vDItKIWbPCFpMDJliicRQ5pDHKAKScsJq6RgJeOSVEhSBWLmpFVKLtx6nTmez4A0mcGLB1pwaR1UCLsqb+fPE9PnTP2lLkYWrJJsYC4j2e12bn5Nxn6bdNv0f0Mxl0S20FMZ37zzIIfYecQxyI1D59VdKXhW3oEaT/lZ+T+uXHSNO7AYshrdwuhRE+DOJv0uwPjcMctA6mFqSQo5S1KnCwRmPbXUA7OWCa+F3lRquQ0MReBVOtMgWeeapZYkJt37xZ0IqM/bSXZh3g5Weg3BtVqS1LUrWG/2cZ3UADKvwmCywpyoRo9CUtsKliQe3+7iroIaUg1qn3RIaI3OPF/zGlyhav/HGiuTGqtmz32h5mHJRstEnMz2GC2zWjCIbEeEs7qnrKVp/mW3mOOXR5oNg8sdY0lywAPUSLaG7PNRFyFqXaedpq7V5YVIZPZUXceDvS1V+9w5BGaSuSj8rnYs13gRD93OY3ZhSQJ6UsWSlPfit+YvAAHOPpnniKQJgU86d6hNi3bSUyFpGCh8J53Qq2xmHMLfDQDnKDemZAoJ5J7+6R81fXUj1ou0ITIpqeKQ2WbuDQpJV0WtljCWsPfKVGLBHDQTy2vtbvaEyRTPgOxGoDkaVyyHhKSgDWRi9J0KItyddq566wD60OGEpOmiXrWe0a5VY2yEJDD0JI1JqgXcQLAAJqakT/1yYIJWy1Itl6Sn5iwzYc9ql+MQGCamH/EANAiaQSrG13hMgj8miXmSUoWwvCS+33bgloOlrFwTBdxyrprZva3djj1+NyQeopak2PSYdP7pP0nH//m4dP3vj0r4s/eYHvl+EZ5aia5QisxYy5LE3GclJ/zpMXuQHHk+AQsT7ildchVYZibSaZpEshUXZBZ47nZOSGJZMC6JZUFaghWA1NzfK+PveLNs3LXD7NdK6s2Kl/RHTb0utqfsGHxN/+bAPxB5+WAMwCS3oWn1uzMdXWcOD7/wGkm/YKfZLqzplsSW9Wbbz+BR2CSSIZ9dLrnNJGm+BYAozXi388mr0D4sZ51yY7VzxW4CNHcYVukXtj1h+ltofrVZS1tWOggWAarlcqdWpOX6pCfwr2RJmnGpJDogXI5G6mTfFODO7VmEVvfnQVDS2YTJZV8r1hqo53BNzYoQ9a/qXuMvkpfUw+KLfv2k35q1lurZcAegOAL4tkkO3QsgHSW6PHvodrCWB4lW5FiiWunENkyES+CghXBFIMmFo/L5I1b56O9HhSQ/aAPrK9dqFQxLPqG0qS4rhJKvRdGitTKezvcILdr/dMq+71uBiPfWbRUBpdaxwbKRkH23/OXMObUSpRtvg5Bk799g2ApJBwtr4fIehZU1aw7zW5IKqzrlnMuzttaNj7N1MUk/f5sU+qyij0pIgh0xNQnv94JzrWuI23lrS/2s6ffkaTt2rXRtwfKxGTu+9EFZm++357p+aFKugcBNQffPho7IvyIZNpWG0XH7X4rIjxQkKuiCAlFm5+ZqV+jgQVf2n3V3QMeiZ92FX7ngi9+BkoETJWNSYToUhWlisppxUiGpCKsDqdO5VXGbTNnAvB3kh9PVDCbro/EO+fPJ13GzQvNxOec0R6tdQiGeoxvaoVaXqHLOuQFWDqreuhRL0izcHhTet8Uh3I3AZYTuc7QSdSE3UrubVIIMLc/mWZIC+T80iH20aCfgIHBD9ZXavTCTgLbmZChRmYRZM7Jwwril+Y8JlZnYdEGWEYdwBjl3/g15KzSJKi1JFJBo6mcA69J1Visa2R/2hCR/TBKFpDYHm6xWADIUmiNJNfHJgJC0e/H8+Kn1uCZq6vzB/pyk1RVKk/6p4KrudgreQEsSGVMVKi8kKCkzXIpa7fGJeXvfNi/aiUnd7UY65uD6UjCoV+/fvEv64X6SRzzMXh8YxlkknSWlnMJvc2jCMNvh4oKoJakP30EDmKpwBEk4kTDTT39ypNfsJuFuR4Gb3qb7Vq81ZaWpGSEz/iEYIO4rbJJMhEKSHTqDLncK7UxLUmN3kzkerKr/VN62aowpJKkVQ9HtalmS1EqkApHXETY8dztnafLXPS9pmQl/WTtiXNaHRwCyYq1J6lpqLEnOzSyooV/OpOQtyYfkfbBa3tnRY1yB/mj5aXO/lpfs/ddzUDlxNdA0Gbfkj03SXEl1B5+R2FnLBPKYJce40IJDt0Ylvl/MAUfUM/blhxlmm1ruv4yUKuIYE2OENmpNmnDjYdTXP/uoJSTViktiWyXmlSs5S3lHHZhDvPSM+eSP10hmOUg3rorKO65JytVICLsdv131p0yT1pYN8uFbU/LajQl58UBc3n9DHeIqIeTBxXGy57c9lDYmzp6O2HeyARYbEziOHkKIU2tyKHF+ISmRPWD6p4AUpGW4YOaSW2WoZL89tSQ1wsPgde33A8gBoCmJLbLQ/ErI5XiPm/IGkZP91EIDDTGH0VpAbP/AQWS8/7RI34IHSMJjzkH5ohbaOaccm4L14WfuT8tvPpKVn78/I4dnGPUm8ta+DfI+fOfM08Vn2QnLJCkHoeqe00Uk784Jc9MxfpM0D6hsP50qW7dPfxn/b9EhiFpBydaqFcnvascaIr/VIWaTbrV0S6VngRLdi4m/Uc42a5G3JqLj05PV8WKsPLQQMsoXryE24vmjZpdCEvu7D4ipH34mJ/vmAJ8EYBW6+dGS6heS6lNW4PD3o9uaE+k4lG6kb011mTXBHOqq5XNTfqHFZN0dHrof2xGoZ6nh9hUPoWA352IZ1zpL0nEgiZJSDuxDY5K0k2nncr9l30lTNAt3PMYi+UnjpmgJVpf4VNL+v63NVpl2BGlLYsOVscR/fK3tEadwW81ovT57jbRo726y38JJWFOZn+pdh/fK/jnLOwXjkdgv8yad+6nXwS1+kxQ7WmX+B2+W+Ze/qNYpr5Q9i+/AFSHpWfzwLnbpiZQdTOLNFS1W/6zdHuqwDJz2ocANeTCQpA6faZz7feQKQCM1hCSWJ1z+o2zIcalbZgC1zClP5AcHksKAURIFgVYEJ5PmaySnNRVuoQG1ypD763Sb1pdJBCKT1H3rmItHWo94JFK7Y2inIFCRmLSU/tX1C1+TDvi7k4LaUbUknS5YIWkluFRzsFsYS9LAgpx0rkf9Tjg9XmxHbIBlWLS9ukbIPFyTZs6aZLyMkSFRSEo9adsTFY3QqcbPH+ANCw7SuxEwqCOL9pkkaEkKp82xFCZIZFqmACVM0pgOKyQ5zgLlt8B3b7UTftmOWtnXJR7nphR87nYaj6TIdqy36HYQOMA8pDHDEz2QpBY5FSr9CYZNA7fg5M/gfVoWqOkmaY6kzc6S1IM8Gc2NYxJKLQFxK2ZyurTiPbvZAQP4k5WOOataCHECpE0unqn7L//ECJu0JJE2N9SbtV8LTFTCRybjcgKJaCNIfHhV3RBQyJbl/QMvMG3fNzkkHwOM+2PZevlA5g75g3OdniVJ3ynTEAvPkoR4pDJ865sRo1WE1auWsFgCY2GI7nYEDQB5lqQawA3htBXsVCAyB7iFCk61tO3Xhg/J1ZFhrzkThr4ck3oELGjD/FeNW6nnbhfvq2lJ4sHLi5ZZXVc3L6/r6TdCUCQ1b/tdqMRN6InUmkSXO33r1JIUHz2tzcx6zsUrBC1JEViSSBVrUrVgT5AICrV+ej60zow1oCWJpHnczkC4JeFpmLUugjFJLL9YXBKVM2GXPJnvpNL2RjsW1YpLovLghp6I/M71SXn/7lGyaMYNjKAaPbBcvGV7Un79+nrZ3FqZlgvxAZnu/EXzjTAR7oKL72BsoIJIRIHA2AhrBUndFrmtrna1hCTWn4gg0SruRnckb5KGs6wJAszr2r/FTVlqtExxfnmL2e9y41nQNZmVdbnvYKA/JaEuuGSW9om84qREms8al9TffyIrb/1mWn4eYBQUiIbgOkeaDgFLzz06juOfOlZ5tlReXe3cF59BXiACN/x4543y5/tyAL8oCvv84B77PRyfsWPljyQeMf0+abs32/6FxszVEpKmChX4bz2G780sYOVJ/rgkhf9uwLiuCLBsQ8vrD8CCemuqMt+ynARnaQ+5lPuh3LARgJiyIRvuhpCYlj95OmesUO/+TlZGC91sJgVA7lNB5RFifFaikIPnPwX3cNJJjGd0sa1HPGYtoJSV+mF5Q+OAfGCsovhcaH6F57JY6zheIYdg49HhLEkF55rLODeSottxm/MUwwQZF9Q9aZU4U22NRthgvVKnz+XOpdCTVN2gqR4IDxmFK932Fh56Qg+56HrYfUOroWxTqxUVNgcQl+snCuh3J+2cHIxH0nb5dWtk5k0vB+rlj8viiwCQ48tfp22urJ/dd6AyGj+7/8eVq69xB5odDHh7cgbJ3C3DrO52ZwLZ4Zec8isdtYNCu9Peabd9rn44gCSk9ZvrLBN2KHSrFDMDCHLAEBO2g/udaxIy4AJFhyAkNbvkhXMB6432pWvP3Q4ax5WIcM2TLlFkBEwESV3tNkCbTaLZnmACNNtnF09Jz/AvSfPMR/H7J1m38HHTZhrMrJ9Us348t9oU9z7wiHT/wd8CovTRmr7xbGQsSceb5FTZmubviB80xx4vd0mubofZ1oVq/crwXW/LV098H3x0UWInhg0iWhrwwyRNmLpQbDH7WxHATUYtnZ1DUO1ZCElZU65CkrEkOXe7JqCtFREczOD8jvH3STx7yLRNwNXwLz7/hLwyhxsEugrtb4ocNBrsErTWSqrB03gkLVfhFVMULGLWWqJa5ibHN85D61qL1IpUhtsXr3Xs24dgKQhJHxK45tb3yGev2yh/f/tOibdOmcNvbxlA3iPbKWOREniHDi3NC8EbjiNXDqGgSYvLVuO7HpYHUqgZ+w2oSyKvVTEpmxqtEL+9Oysvg0vT/76pTj56R73sgGb/AN9b0FWpIbM+GmuSL60dkDPOrcoUYnEAWs26uH1fVrQkpQFcctU6aS844XXePh/tg2u/JUkTlqolqZa7nQpAzKMTJBWctI2/PgkB/ffqv+AVDdal5MaubZKpv9GUNc5/2bxD3ElHVxvNNQXmBucuqweGYB0mhWMVISMcd4zFtHvg2hjrbXCd2gjQF1o3vgxff1p9VEgq9VrmU5vPOq2yFZKmtdgwktxholOSWkrNDhadQJ17Ueyo2Y1CGL2rY5X8+Bl7fZ6Q5BitUy5eL+Qgw7WPWpYktaLNweWmFvHb00Sy+l6y3fYG+92sFJekfcVzx81mPr5eiy64VpespaJ9n8yzgcsltdmk1iX7fum3yrKKkGTHEJb56aTY930gbDXyrGtp3C998QmA1eA9qLvWNM9Ft5l1d2LSrFURYnbcoi5sBRR/WWjbpNx3bKnK6kPXus/M2m+z7MBe9JinJktGqNL9rfX2vx3AuPVg24CMxKrfme+Mwa1t/qA87eKnXhbfZ9xs0wAsOjhtx17ti2vPjQ2ACEqhGolktY4xMXOaK8nncqfIdm3xuIcYy2NieP/aMc/eWZiQ66H4suo3DD2wLKbhjv6uhzPCaz40U5J9Q1aw43N9ZLwoExhT/LR/sdPsZnMTZh1bhostxseM5FZET6TgRWIMLYl2Obpyk3S+MTuXsGAcb3e8Yg1VV+OVDtWYVeYw0vhYgbWaVO+EJM2TxLKlMyNcSXs6Ly0QlEjzEEoUvdMUYKHgDYXsqJdIth7udlTSEURnvYObPw6LT8un75bEUShfqm+lduWtzzqr2qqmZgPPTndV0hBiN4N0HC6A7K5mTFKw8ZX95+QduCIkPScfq/1TNns3rEBAqdm//WpTSHc7PvRJaFP8ripqSVpwrmntDVbA0NvTDteHRsQSzSNQVRlxreN6wMFZn8qtkeLEZiCtWaYmhpghThaKyEMhqcW58tXqx9+nBwEeafQXV21TA6ma5Lo0cizAQqFCklqSeICCN9Qvfh2Da4Vh7QpZJq/akgTzPZJtkg7P20mm48SQRJBYtOnfHpSmrz5g6oKLCNztlgFxfrLkhKTYIdPkOCxLhZDVwusx6j+eqeuXb7f3a7FZH1oKy3fa1kh6N5gbF3tS6F9l6hZzSbPe7Rj59Nxhs9+EXDUkLyYJliR1t2uHI4TGnNA1r2Pi/ZJa/JZJWsln86IFaz0cydn74ne1Y5/q4qTxSCwjWWsStfyLUuesQXofKwh3tm1wmTxtrzs6tCg97/0LGX3EMo0dHWl5y/UD8vebu+WzvfY/ZZBoM1GqCMp0+bux1d7jL4xOyK8+lAEiHZhWaPbzgDVOwLVmzYSdeKUdwoyzIoUmYrIpZp/DoizJT14Vl0EI7wrAoULSVliSSBFMj1kk9a1FUeeu5xeSCNpAT9I1mXlJwopKFwyk9jWHz41XGA7tTxNc+mOSliHcESiFKnYjdGtjrD13O8QIBkk1mNpG6wnqES0My6TY+8Xyc47xX2h6mWmWWvymsQgaKHaqd0EqJJgdXcxa7iIcscoIFkec1lgma/vzXONcWJjs8x2Hn5K/n+tGDFFYCoPIH+MEWfYz22D/UxPGmSrgBmdJ0us5Dwa8uCjjdAcD/cSa9fKanj7pPGfj0jwhCRYB0tFlMEN4PiEKuBpwDy29Cknq8si26qI66yyzLPPTLCyNmkjWLyRtbWgyroHM2TOxgkKJ/cTz9n0vJC5PSFJmtBH3iaTWpLY5qxxQdzsKYRwLOQdoAL85wLc47b6pQSCiqXUl0m/f/U9PvchYt9k8V4e5A4qUrpQVpqbOU27RXlGt6DGnSZTkvlGrdPOdFrnPrAW85BQrWsfcc36LPe8l6UAuLccaWrWZt+a3tnfOvosED2kI5eT66ElTvycATMTCiiWpIiTNLtnjC1DEcRzw00qWJP3mGbd4wrlu8TgKj3T1boIr+588/WX5SOKI/GH/vNz/4N/KXYtnDcjLHzyZk1/+VlqGx60Qd9/UWmH+wCCdzHaZomxh2qxLAD8q5u3YtRKaW3151LRVSxJ3TiIFAYljwOXSYMwpQHBgbMHOhyv14c0REJJa4frNsbMEq3wIUPINLu+V35K0eNY+g3ZYx1sJpQ2aRRxhfKj6OtXdLlIYkZmy/f9NUN4QbZO0ycnNBzrx3T2+X9r/5jMAqfooTPL2HTONfItxzHF5zB9dSzmJY3wmqcvdrW4e9DWXO46NIfE64uycpd9fd2X7++MOkF++Qs/RO0CY4SyCKZlHZKRUGYhXO5AFf76kNDT+YUxeWbifpRCgW19fLSQZ8IYZOxHXQrjrDp81d/Fgple+PrlZnkhvMPtNzn3PLyQ1O1e+WbBLFyK1JJWgNVqJti7fLa9ue9BUx3OHJHz2twxzwhiGfmjMlVRIaixYwUXLOx20rT9JohWQENcASGPmbCQ1F60Awe26PTiPy1fDfaXwPAAGgBZHtqAHWsZw822iQazBiU01e0P1m2Ue8KNBerR1jWSu2eoV5wfsZLeUs8zRTkzApFDarhuTdtIwmnYwfrw+BW7oKdoJ2esMG/WL38Dgb8/bCy10EpaZKQTQGtAGn6sdj1HttDJm2o8KSa2RRcQPxGDdCRsrBNGrKkISOBmQXeqR8FM/+KTdYd4sACMcbrAWnoXOrIk9qbSEvFCOyrADRNByWpNI+9JTmIgtIxZ1eZGWC3VwceuxTRFwLu2WgSsvNsnqhkaDXEaGxs/EvhDxImXkayK9uPlx+cmur8hdjZPyg8eGJak+QbZHI0BscRYDZZhYdcYDbZiG5tEKJW2wqJLmpq0FwOy4BeMkZBHCAXn4lsr75bncBWDAVQBSJLuqvpzgFARuUDfP8dg2rzmfJ+McyED7cyUxTm753MdNOz9ogx4YmrLTRcRB3FvGGv8PFqbwfGV80fZcn/QhCfK9uHshKd9BQPcyhhfNp8N259at5kqawhBujQBjBRuNS1RLUlBoOQEm+WCpB2LXMpDOrBVH8/OokNTlEO7GmH5gyVo81ZKpApJpi/dXSYEbLmRJ0kSyfiGJx1+KNUmTyF6qJakQ32Aubd6lU2iAaxfJE5Km7EBFIYnfWsWKVHnu5gDfggw9qR+CLt+T5BK+yY5FpIhokc/P3AghyTY2AvipJsCAL5qCoNWdL3BhZott7F/ua5ftNdzDGqP2XW9EPKYSvZ5fvc7+Jy3jO7i2rsG4mw0Azj+KmDQ/dcDaMRy14+LOqGWur4+eMk2eSFf3xUK13EaRm0ppKWuFpFDUWq20nGsCfszVQLjTbz6ZyBkFEl0DGYtEonU7Om4Fm67uRtk80GTKf/vAN+T67ooUxuTrpE+PDBjkRbPjWzAPG2kengKkLEBTinmMFaAhAJMEyc4nZUmHOqXTjQUmrqrefld07yZiaOqxfRI/Xfn/wX50vw5Q1n15e09ZFp87JcmD9pq1jX+9WLQvCy1JTBSu1iQqEuqdIOm3JI332/9HZMiWjFVozdYBYGTDgL9bpPOw70hdqWJJIgJmycWXbXFJ5A902fvMg4lIV7fvWFU/uqPAUwSiohKLVOi3c8WLj0/ItUiGbUcegP+EYvKKQyOA/rbPVvu4sv7+ugOVUer7639f1r8tOEjcyzrov0jjBek2V7JQV2HS1rj4Ir+QRHe7cNQyOj2LWRMH4/8LBgbc+ZIPu8lV66mtTkAzzySFx5aa5bORVfKFuRtMdf2y1aBrTNLQfFmanPAyo6ORdhRYK4Okbl2Bauwuy03Jb1YVHypa5tRvRWIDFZKOlF9Q1Z5arzi0XdSE5cpWaFNXu0KsX+bJyIKaAu54VZ1gh25ORKQ70WUZtTWY3OdbfljWxiwjMjq3r+oQjUlq714nPc6Fxt/gNjCiTLinxAGd8NCLLvagDQzLdQ2HACNrhaT6pJ0MaZ1Tl6spp51vF6sB1r64JpNYxqREokCluThoBQtakoLIduYgLDR/FS1JDQCrqHNulF+bGpVUzIpFY8g98Y8jp+SXDjwhHz591AS0EzHIC85ftMzM4YYO5LUpyXwAppzniiUh5LuYIz03r5dIWAAdlmSDZXRiCXuv87k6Wdh2o21KK5KzJOXaNoOfC5ncWaw8BiQvpTg04e9Y9c9mN4acX2/p+rL82uAnjMLgF8P3m/gdbfuz9U9IZ8IOnVO5CuNWgf+ekeIq+x62JC1jNLdQW4iQafv/w3WVa/Fc7gJxSSoAqdVIr4drz90uANzgCUnhdf7mQo1qMvOUcVnxVyzmJs2uWm68OrjKhc7ZDzZStu+TWh9kJoHcIJXxRY+hUPRkjSz2XytsRW4aADIgWFpJBXEmiiTZHF1hY+FiLhkPSCHg/sb8XqStgCdXUBFPSHKw2N0uaeY4X4+MVQzE5i0DWCseif1551vBkjSNMZSJZBnfFbxXXlySD1iEfZLoItQw/xXkIpswSZT9uchsi9pLumVl4EaWh4KLQBZUSJBK7Za5jzEuyQlOS3iGdemHTf1K8UisHIaFhjQQnpZEDoALs/eY/a+P2zGSijOSsQCcavTlSqrxLqcrAgCPKUxvgumuRV5ZnvDyM7GcOZqa3DN+b/us7O6wx71xc1wIbBEktSad6KmXdxx9QFx6JdOsB7Gbh+atELGzPGLK1k0tST++awqLhL73k1puvfcWlaWCPT6ZsOO2vz0BP2Y1V5LP3W7GxbYuQzlE2ho+JdcVv262DyNHVmxiymwXu9uAvgmlGSzDVHBEnXVjZ+q4DCaQfLacMC6+P7YlLm/YGDdIbjyQFqyJkp23x1x8LYF6SlD+kE7XiOVVpVs42St/ckudSRZLyPetsKySElNHpOf3/kpaPnOPdPzZJ6QTqJKcr1ai+of3SCdyLHrUnJf6R57ydoMbCi5BISlTf720O7TVCJSkDWn7nvktSZpIth2udg3wUIlBEbWElBU5Bu75SC1JSdjCAbcjKbjwx/DuqyVpc2bIjNHDQCY859zLebhBNPX1o5ujzvLYD4bHWOxRoZak1lMj8hYkw77WCbwvQswu3QFV4aV9XFl/f90BO9J+D//z2dFJOQe3pWcDffzjH5fdu3dLKpWSrq4uee1rXytTU3YAfDZcP69Rs3cXWpxaEGV9C2AcQaM+YYfudnRXInU5zQ4hShPZZ1ACVjSFXElOSFJtjGmMhQoVx+DHTp/zA7FmOTLTb6obIDzVLT1sAt0J50lkoELcWqlmOGOuQFZAwnkN1HTtdqXikrT5XH/Y1QFolUlE1/KTopF9O3cLtFDVmqGOSM40VVexqiB2sRO335KU2bXFuKr5+6cViXQSZn/SGpcAsK++y+wPL1W0d2SUKFjSoascXyVvjox7OXVi0Ja+avSgDGyzGlJzsFsUYE1ajNvracBkdFvTHumLnDS1JYd6ZYUkKyyou12yYbe/G7OdrduN/2AnXSskWebxRC0hyTGKwRgVtSS1gFlYgmZUtfxfmhiR/WWryXsqNyRMKpqBAEqG9k+HDstiW5Mst1gGDNlvzfUcgZBERmCzi0PwX3AOgvdZuNMFSV3ukvWWUWZyR9I1rY2Y2AYR7I1nEQcjsN4+m0UnOPU5If2Lk8Oyf2HOaN5TS9+WsM8Nk/0kliGA/uR+ubnpAHc9aiyckNVRy5SpVpmVZxAfRyKynU6sLY1WEJ1Jn8+QGGYeAgYpAmZSSS1JQYQ7FX5rCkkuYFjbaF8qJE2Gqt+ncbiCRVw8hrbleqZsra9BS5KxnNIKU4TgQtANgJ+oy6jMkgnMScgxgdpfEtbcDqBLBmktBZrMdFXxvLMStISsUoWw8CVfLq6VLElHCYsO2uIYVma+D0GrzfFqOWHfLY47SZgqDCoZEqWSYkiaTPIsSa1W2DCFWFwMuGEyZ89bB6hnugf6A+M9SxISozJmTolw3D3Db5Om2U+ZolA5B7felbXzehzXRDubjq43Rf5compJikBIohsSKTbyvzz3udgKblZECqSgTJZ0IDItyfTj+FQOgWOMyIOT15p+0ppQHC6/yyPtcB1dMnnIKND6XbXNOdtxrI+KAqUNXDfXzU/KL+y078AqMP9/jRxN6aj9Ttoam2STA6nIOcRTXxdmU4WkPd3N8srRQ9IEJDOlg8hzMwzlFT0ftiMOyNDX+uX6k1ZpsnfBjgvavpLAeQnvsOVBdN1Uf76QtKIlyVOMDJmut4ZOym7ZZ7YPQUiiWzbdpIudbaas2GXnm1uQ8PyPB/+P/OW6D5ryKJQxr+k+IK+CBe31G2Pm3lDA+QsgHb7t2gHTJu7mJlrTC87V+pTvnTKNsFClm7pWboDrIgFpNKFsNIcYKViSlGJQUCSfPqy7560zizmJpuw7rpWF8sq8zxLmYlIjLMHZ5E7PkpSMQ5EAlFYmY11G/KCSus3GbrtBpn/0FdLovEtUWaLtVEiqc/N8ExAHSUR+JIWgQNsyZ/mZgz5rEqG4a9GIc8Nc40tZUuxslTISq0fmkNgbz67bjVmzTrgjaAPj5d4HsBC6dhPi3eVurnWKK2XPsTtQm/v8T/yTjwDa+PbX/7K8471/KXsPHP9PPNO/r+tPfvKT8qY3vUkWFxfl7W9/u9x1113yuc99Tm6++WYpOtPyv+8M35uj4w4uM9YEV5qYnUQHpiwj4hd2CM8dcZak7nJBOsf+J4L83yvtEx+QrpF3Sqh10cuVFHS30/gdBvsqbV2yk1YqBA0U4oBI6nI3FXJCEnyQVyJ1tVvZigSmFJDE989fXdUFXW9IGxyynVaqJel0phnMl528FhvvMtXd0FKR1OUuWjht9hfCfYaBZr6csEMYojVn/qU3m3r/gvFIJLrbkVRI6mnZafZPFuLGpYU7qvXTCezGDfXyhe/8k/zR0Xux/kf59SPfEqLaBSmDfCxMEEvGph739b+1PWCaPJNeKw+PJUw5J5llF8StEKt1jc8zUL4EYzAuXjgqCiFtOWmZlxC0nGsB/U06JoOYeexEZAqwqIVux7pyxAmiccS3OXQ9PYYWoY6+gwBSsFpELSdz9e35aSn1WuGA7k8nU61AQowZ95ZXdq/24kF4DBnOXLrZJNoNeL0Z1wi6OjHBYjwJsAsnJL2m3zK8hYQV1CGRmtMXgdxGi+FXJyyDTJCJP4bQ9rmxM7h3FSWCXqtZI65iAuASjKNROoR3rB3uPyS/kORZkpAjqdBjJ/HmViuIzhT41KrJ5JFBkmCSJo7ktgpJQfAGdbdTqxHbKmmZX0iKgwHnd0S3ummXwyQMSxqJDHK6/oV4H6qFmKmQFepVSND+9dzLS7Y93x/VyJczVvBgbi4/8Uy3u3xJWk5rz0tj+40liWXKSM6729sqlsHlN0rUNxKFMrXWzAYsSWccc31VwjKAnhXJIduZDrBQa9IcWH1SNDNu1iok+eORWOFZkgLnMwdhMe0UB6sBetA9/Kv4/TKRQRf2AABAAElEQVSEn0+jZllmEO+plp7fO75fPnDykHFvrF/AOIjvYg/SCjxZ5NiCeA0gbF4qTbkcSU0uIJ7HqZAUnQIAswPKmUWyYCVarehGGSR1teuLIhWBGeVcC1jVnYeTl2CcNeUo3mPjcmfHCb/LXV0aYDYNEHrhdpku3m46CtVbBpvPY94JFYQ9jwMYKAMBog6CTQJxHs0A1CHNVfPjpoyLzUgiTVfgoYaEjMMyPudy6jCPFC3MpJ1jeGfqwYiToHS5btS+Q3tqWPK8uCQH3lCHeE1SR42YJ1qS5tSS5Esoq9/8pPMA2AIlVxfctvthkcsAXIGuXwVYkRKZp03sZ7HHvse3y0PyggakdjBnhGADCHlarJWoM2QSYVILlB6LFEtdbC8VSMUCEkKj/0koONRy4x3rXAiL0V4tMmsVmkINGId9AiYrL+Q+98mdN0Fwsfd3b3q96eux7W48NXvVi3Te3scGKEaohGyl2yyoM2GfhT9HEstnNGE10Eaz2zYYZECWa0wdt0l0GaxnCAAg6UmNUTv+eHDusMiu6+w0dYxLIuU2DZzntmcqsKBQTeoNKG/yfZZvoHVb3Wf5HZOeaeqR9zyWlccAO0+QIMK0f+5EReA0ja4snrN3oDLzf4/+4g/cuFve+qYfksf2HJQ3/szvyuvf+jvyhXu+LfnCCkzK9+i6gqf54z/+Y2NBuueee+R973uffOxjH5Of//mfl4MHD8rdd98dbP5fdj+csB//qsQ5Obxtu7nOAU4qIHW3o1akUMagrUJS05QHXMB2dA2Jt+z1LEnDcKHyU2bptNn1C0lD0BKSGA7AIGIKWq9ruxdQzmk5U0wYE3sBpvXF84KAzWGGueOWWitsafWScSp/NfFy2Ze/GhUhTCgJOV7qNJNQ0JKkQtICNMAELyAttLzauMR1Oe31tEv+qZakKZdIljDORmiBNswIQ47RNJ24hQpJpxxqoApJ/UkrNB3DdSUWv2laB7V+5fqU8be/eQT5joB0lx9c7blP+c8x09dtdplINg1XDSUi8D0+UfS03/OAaV+AAJrH/WVsVjwC/DkkhRzv/YBM9P4RmM9mINwdgGDxlOmCVoB1YSs4KHy59s31YslOeOeh27lYseXI+VYSHqexQtz2E5keZGq1RWBq9r7gerO9FiAKfG4v71xt9q9FUslfGNxkcmtRf6zJdu2BdnmTi01qaMP1g8FbDVTGzqQVvgsx2w9bkjki1Dhhw6lF99ODKJtLUWCwVh+to4tT4b6bZLxghS4tP1juk0Jql4m7Io9OpDN+P3p9tCQpZGxTpxUkp2CRDLq3GAYdQlIOCRe/Pg9o6GPPyAdPHZJH2mAFwck0ObGeVwWgC1qSfO52fMakXPIqUeGCTCeJliQCNUx3/Kypp2CcTT1fxuPXmHq1SpgdLIwliTuAQSdFMCbECvadKedaTFl4sXpcYCEhun9zw3bPnfP21lbDUIbFCs9pxN2V8D0tgEMk89iybLXVpSi0uw7V0iSUdeh2aq1k3wfhTpXHUczL0usgxDWBqcYjsR1JYcCnwpahiuTteVRIUnRB2xr/F9dEaxqfgyaxZfC7WozmHQPVG6KwVTbjVQNQAhPZfXL35GiVpeUw4lSYZ2sqfUZ+evGN8hvpV8j/TP+QvBXbE0vDesqLrqcjfaYNUkp7bUvt9t4TBrw1ZBlVxhUqEaRG45O0jGsdwwdDgfMjhu66dvveqLsd25v4RZ+Q5AdvqF9w8+HeDnxnXWwODb+9Rj4PRW4jWtyMEzo7ELBPZUAwdtEcHFioNek7q9E/HkgKTPPrNiAG0glJLRgnjACQxbgCS+fatnZYMBMmn5OC+GiXHsId3t0TcP1uc8qheLz6G2d7uvaVXNLsQt4Khywnuh1dg8+UGo0b7ubIGItF46L23rIs0Zd/W9onPygt038ndbs+J/KCMcBq32/a+Rety6fwLZ3zF3nbJSStXnACb7mE/waquNxZoUEbq+JNhSItx5uMZ+LGQcZn+ojCyUp0H4CA6pBYfqmcRIJxKxydhTJsJVoq2Odd7+JrGyJ2fmqJW14jmCNJxyOF9lfL9byba/zn2do4A2doO6Y3OSFJLUn0yBgcHDDN9/fbbzu3eS3ZgfOIUOrDTpGwqtEqdrRRQfMlIV5LhaRppzz4Yra6LY/5GvJ1rWD81C6vrJ8jd+B7LiS1NjfKz/yPV8nXP/lB+eBv/6ykMLn9+vv+yliX/vRvPyfj52b+n9/a0dFRefjhh+W2226TtWvxwTl685vfbLZoUXq2kCLc9QPW9XD/enPZg2cmDBMwCU16Hpp9RbaLxewguKrZMj/+/xhLHAWSMixM8MUv4JgxaKKVovkzZvNopsKUjjmXpnqHekQI0Tvjn5Lf6/s7IcJdW84yyQtz89pN1dpDtrsAaAMRzYjk8+XSz8lc6xs9VztakQhh7CcVkrrlqCnOA1WKWvTFppdKW9wyFUsLe82ExZwYFCRm5yzT3ATQhsVbnufBcMdOW1crf/90jZqEgDSPCZzChCapZfzAaudKMLJwyliRghNa8+fv9XcFhJ8RmP4rk7JWzq1qN5vNYHxSmMCUXtn6kHG3iILZJh1fKsrBFjAOIA1ANztghGlNmm95vdltWP4qOA5kSgFjvXH5GOYVJHxEviO+E37yLEku5kHrVIDdCQEr7mK3tI4Q3VPDm+CHb5lqLa8HKheFHw/BDELSoS7L/K1rtoyAaknbweiQVjvtKp93kFql1RSpFTSF/ovO6qcxCGyg3wEtKEFKw7o0B6FzqutXjaDA/7UEK+NM+09LMd4rY/sHzSHbgKBFOlheg0k44sW5TSEvj2dFQn4kaUYySBc83erU8lNxCMKT0+Z4Xagl6V/zO+WvFrcIY/0YR/GhZEH2rmoBGIJlPPiv+fOsObXQ7VyZClI8h7ra5SkkOaZ+MyC5SXofCE0/1fUOGV3z5xCYfk5mlq2mtuq9QXtaG0nlnBX6oiVYkpz2uly272WtuCQew/ixl3fZseEM4g8MubEmA4j7OQf/TUZJARXKxpJkr5Wut7UsO/vhzkZ6XuS0pFwy4ZUtSXaqG0VgOylStsxbdMb2ERSS2EbPmQY4SufYb0vX6LthMXqbNM79CyyJQ2wiHSH7jMwOFvHFB+QpFyelZVzTWvkrCy+R4bIValg2Um6Wfy3dws1LopmQVZIgpazXnt4BJcypQDcRQJKY8lmXS407FPzzSBobJLUkDSg6oa9Bd529NwrcwCobl9Qkne7/Tuctk55MP2GUYLKEb/VpCDFJe43hiB3X+TyYCJTUCXe7uTl7vzsYFwuLkmdJAlrgSrQVsYekJ3vtt94M90kKV/XIn0YaR4oDQw6UgwL9rkbbdm/gWXiWpMKYnIRVoD1qr7MUPl9IYp8RCAuksj8mCd+7xj/SiqQzzdXRs6bt0w1Q1MUq40yIlr/nTQBV0V6vaeQWFGBK0Q5/kbcdhYJzwX2PtCTxPGsSdjwdcohx2ljnFHon8E4yV2DWxdiqx8JyZ0Gbm7x72R0bvf3gxsYGO/+cg4LoTN5+M2vrJoPNvP2lolWQ1EdTpizhrMAJKEVJQUuSJyS5JMiekFTDS+eq+nEP/lvj7mitolcE035sAEw3v+4TqZg8sqZNYhB0apF6zhDhVxxog7bL9/eYTbohtkbtvD+Ffjku5AOeFWxIYT3o2aB9XVk/t+7A91xI0tsXwQB5163Xyl9/4O3yU7AsTc/My1987Aty5w//ivzK73xYnnzmiDb9nq/PnLFMP+OR/LRjxw6JggE+ffq0v/i/9HYpZietPuS4OJaEqxk+elIvrAskDhx0tSOFkVSQ1LFkBzqz4xb50GbOuDLg4plGXNBvGO4jbeFJBBRH5USu1zukHjpekgpJWkGwgXwWAxFV76B5X/C8tuH6UtztFPFsNQJ4qQVXV7v1AWQ+9qdC0tqoCkmbWGyovtE+55ncFHInfcKUFWKwFuw9YbYbka6cyVwVYS4+dP4gTEtS0NXO9g70qDo70dLKVb94n+duR61fDDF656ENgclPPbpPD/fWS84C0h2Z88q4QeHmJU3fkpEFK2S8b7FVfnXXHaYNUeeClEZ+nGzqedCKY2K7YRQMcE4S+eOyzmVKPxOYgNVP/Dx0OwfNTkbj+XUDXhzYOliDXtO5DowFNPFzfXIrrAkkHv/OdVcZkA/mbCKs8LLE5XjeXuM6l0tLhaQGtCfx+ZL0eZsdt3h0qppJPbq0YKxFZLab5j7lNU3C9aUOcReaiNarwMa2xhYj1OYTm4ygMLbmTyF0v8EwL3RnGstYhmt96w7kQYFVDipEMpltQNciUbNcjWxnmQrWtYKhI1FIWp6Ylodnz8kfnjgoHxs5JWfh815eissXjSXUNPMWn9zRJyXE13x9akx+5ekn5VefeUq+3FEnBYybtSxJZDiXE/imwSyHAKlLi4cKSdaSZBkkz5IUEBbViqbuLsq06AWpJansEjfHs4eNGxeVCSXkLSEF3e30WK75TpCo2V8WCGK4LYW1bSbh6wySSJIawYwooIeJSXKWpAjc7aotO3Zs2TNvmflroqfhKmz7qAhJdpwzHWPR5WDAh5w7YdihWq5kSeJx6nKYn7sflvVTLMK4tAgh6fOyvf6A2e9wiG9mhwswvZucIOqVuY20Q6bzlz+as++Wv2yl7fn/y957wEl2VOfip/P0TE/OaWdz1Eqr1SoHJCEJkRFgksn4j7GxsZ+NwTYOzwRjwJlnG4PB2Dwbg4kCgRBCQoByWO2uNsfZyTlPT6eZ//dV1em+fadndwE/bC175jc3VNWte/uGqhO/44SfauQl80I6Zxvs/a9asGO6QiWDxYcS6HZY5IoVFey/333j7Qxc8dJiQA4nLzcl+Zgk7JncXPNhCIW2/VTSzpEJtSLts994tsLOASHErzAGhUL7iIvHMzE+cF8n1Tk1PAUe0tSZhCRn/TzYZN8hClYn8R4xWekilDozDkGRMYj8BqIne2WnfUXE73KXtyRBwB+GOx7HziSFS+Q4KkUxJ4AFc/a6aTXmpSfiVihY71IE0D20q/E208W+XBtQZX3jLo5ZeroTyprW/Gn4zc1UvSi/798gGp9akm7Be/aJHVm53aVF8KKlUgHJ7z0XqpenAbr0B0f2mDHmPYeeli9DOFfrUm6NfT94HiKneiH4/ee+tdUKScxB2JOyz3ZLxRmEJGcBqoja7y4YtIqTRYCbkJY8yekpvDFGlQpEKs1IOt7o+GMK3WJdnEKS5Um0HavUmvTgWDeeoqUP3LRV3rMa7tFOUeaKzUrDBBhbrch2Wq/gDZyLa92cOVoeg9tkg9y+yl6jtuX6uR3hIhARb92F7fPrDix/+j+j3zcAhKsvfuP78qW7HjAC0rrVbfLalz5X5qGx/Lev3Ct3I2nnv//9H8olW9f9jK6ocJqhIbpQ4MOtKp5oA7BOVMJMq/Vs01ZfcG3g/v8UisJXwFxbLibpYzGJl8F0jtwuoSZMyhBI18ANqxfjVzKSkyYzgCFmyQE3tC9sBDewDzOjm2kAhRlrfAF+2rdlNbQwTzQgLgeDn+l/9pT5yd1paNcdceLZimDmg9hnTJKXWDefmkGwsJ2UFnGOkvcwYyeh8kSdlK9wjzV4+pK2uDQ3VsrB42vMqS6vmivZZwWQ5i6KHzNtEg3bJVFtn926UJcIXBAZe1KWvNfUxzKnJD6Ce9C0Xmpbq21/21aLPPCEVA4MSaX/msB0qpC0Gb723t+0faHGMMfHkDj2+RCSJGTPW9uI663C88Cz8Od1qITW1H+O/oC9J1VBuzYX6hbXNozKP/bZzzmIGBz6rpMWwER4r8U1xyz/RqBc7EbE+4QEJ8DwQKhYAzSj4wBumAZsq/cYzYGxsbkqjyBm+klCGBiGxh1B81c0NcotXR3GNYk5ZmbA9PzN42NwpwzLGzeske8/Oozg+ZDspDY4ecpeBqxIAaDAnYJlkXRVFwBS4J/pwNOkvbrcXMe25oDceTKDWI9A0XXxmGPpUfKCRfTg1Ii8NnEK7++8p3xRapPfkWs3Xi9vWVorX4KigxayJsRl/cqm9dLG3ESlaFUDrC6wDoHWNTTIJCb2HwwPyxgseR3Q4D85nANzEpbxJDTjoLWwJJVtaym6zjjcoxhz9eXstNzVO2XaUdP7o64KaWjcBQYgZsq8i30IVP+luoTMDBQUMp/e1CzlEzPyvHYwxXDJW0YJlCE4u5XdRex7LhUbpaWxQaYOHzLNL22tlfo+WM3gdhqqQMJIxqUdOiWyHwqBy7fK7GLWtNuA76nFxayZgqB9RhEwYqSyhT22ON4u8XoroNSCUav1fxemFcZJiUvH6XIjGB5Lt8mG6AmJbGky92m3Q4RsgHto1MUk1TeA2Z7EezmDTyQ2L1Xot7EMltrZjEQgNNNoOgzX1DIwyheH+/AS1kkNv2cXbF3VUW+OcaeXLUm8JAfS0uOsMQHAxbfV4bdjLCQ1rWvGe1TMKLeNxWUfGOkpWk0K/KVpP5izlgdF8TKF0GxXdj5PXoNX/EP79yMvjn0napEO4C+gcPuXkyflAbw7Xrqq0d4Db1l5rMSzZQN7qVIN0JamSDc0P+vtYW14Jsd7pI1xUvjsDUNZdwNu+mulMlLn7EveM2C4O2otHWu7XsgAEfT9NO41hJBHayR2ObTqeE2D+F7z40C1FbRaxP7uaaDCtYUhKBJdM4If/CT+8W00dWIsRWJho+RqRn89EzLmLEkXtZUjPYSdD5ow5rHv8gq+V0kDqpE/V/Gl2nfnSEB6kcgognehGXGKfQ41dR0AFxqTuAZQsKxB5NqLRe57Qm440i3/1FUJj4ckAA1zsk7z/lWsBt482sKSdGIC3zUucTFcU/idpqfCoqkGvwuXGMU3XI3rnRnn9zEvMQhJ3NoWw43CRqjrLdJWfYVsffrbcqC2XPbm2uWK8KlCRz01EniwVsKv+E2cHM9uAUAKtdeCIa9wtvBC0/wW0FVne+1zeuWjP5Qtd8Gi+vwr5bP1SImAdz9/v6bGzCHBig756kgvYpaslwGFke+MDsiLNnRBsIfbfHRcTtRukGbkCKoaHin6PvLndBtt07hJk5gW5qNy2lmSTBzmCt/33OElc2RLbbO5rtg43oOpU5J0QnUU6HN6vT3uG20E36FlnQvlSN5IwWcpX6bXNNeL5MZz9pvoxDeux8hkiyziOd6NPB327PaIk1VlcgqAIdevxTV4aHrKKopWQUhq2oTxxYFA2CbovwPCIM61bm5KytEh43+za1vkto0J+djulJnTtLv1jbx2a3XXspXW+etdqcGF8v/Rd6B4VvgZXOpJSOq/9r6/kdte+zvy6c/fJZddvFE++9e/K3d+9k/ltXc8V972uhfKPf/x5/Jn73u71Durx8/gsopOsbBgB6aIMwV7K2lJelZBgvcjQH/KMmGpJCwgTuu4iu4OoJ65OWQ5X8wj2xHyMkqTvgpIbAQEJ6m/iFuyyoE+PDw6iokNgw4gOEnrW9fJh2+olDfVz8sXH/uCrEVAMKkCvtte6s50IrfNGvRpr2ncufF425htMJSGnIZ4WT0Kuqds312IpVq69zE5mMaEBtoK+IFS1IYJeUfFcVuV2JxvQkaZNLJkmT2zA81h52Y7+VbVYyYlrWu36xNgyvwEZJxTDrRhtU7Iro1O0MeXVkGlhhkV8MeGm2FuDrhmyc5Nxb3RdepKe7+9FZqLIuFQ1Lx1bV23IhDYai+Zm0ITXfZrRLy3MbcZq9b+Olt69aBZrw1jVgSddNpebvMZUytHZDuFWGa5IfdsauDXXx21Q4km4ayEthf5VCEkwSrmNHPqtifpcXs8hKSe1naZRptGCEeaz8a8V2ihMVBdVVYK0udtD4ZlaQYaySyZrGIyWsTZ/cWF3Js/gfd6QV7R2Snv3brV1HOi7qqwDODyA1AC5KNBB6VOoWGzU5wcmp4G0IT9zSPzi3LCvYuMR5J2TLYeakCcB+Oz7nc5k7SKE/sItJWVCOD2Uy3yh8xgkvbT1zbjHayw76u/TlTQI4DC7DO2unK7zINZ5z/R5vgc2x2qYX8S7T72OZE//zfoPx4Wef+nZcJ9j2TsiwjJiQ0pMqTGdRF6vhIMDmlm3q5XWObv3QKEa1KXZbgnnSWpmtZlFyskYO5Fc9dk7FhQ77TR44hjfHLcvkObA8O2Lx0nFDkVCIpeak/Ye3kwaYU8KU/DT8u9h2zrE5B4bJ27B+NOMPD2dzBtx4KG1W/AtwSGi9TyciMwXIq4q3+96ip5x4YN8p4tW+Sfsc0x5jVdXYBVxnkdVeBZvKTdjSlaeIa1yYGG+moqS+aOFFpS8QWqmcf4Dpok59/1TlwL7mEJ4vc1CiGZ70Nb3WaMa78rsv1TInftQPbsWsTO2LF51nkYmC7wnpKa0rbPYRwvA18yZVJ5i11TSCdF3fvfSkjnkIziJxOUgEAIo86C2eBcmmrKbCzaFCw0Z3Jf2hG07yPBGmpxzB4KOKBXrKmXjrB9jl9JdcrnVu2QyQi+j4f2yZX19lk/irkqT+5ZRWF9iTu0tsPTCVkJXa/OJbQljAJpNGnHm0XnRrZp0Y0z8XVGQXFJjz3XnsBF+VNKFO97/xa7P4D6BMaehtvwzp1h3GHr6bK8u12CCHEYh1ff87gBBRnAtzvN+ZcEgYt0CMof802bvcLiHwfD8qPMevlfFTfLu150qbzpFZfL3+GT9QoWhdZua8z2uQPX259uQBxnmLjuZvxc1hYFmr+rqtw++6xLXj3B+LgqvAAuJx+PpYKGpN8zt3XemCwRo9wQLORIqvGOS7FmxIXVyoj3PWVnoN0Ddk6ze3Z5etzOb11UIBYJSK6Vy9UmJ/qBNmt5i9HWOvletxWQNtWF5X1XJ0zju45ZHtHb/4Xt8/MO4M3/2dJTzxyVfUhK9vbXv0he9ZKbpNnnG8qrCeMFfvGt1/xsL8xztubmZrM37zQeniqDdrdp06Z8Uf+YYx7yJf+9G7QgNVTBegSGY3Q6JfHD/VI7DgYBPymxNCQ98XrpxCU2jYGhAdrQEfiMx2Fh8uZISjb0Qe+LsTe+w8ToRDK9gD7fLxFMlP+8vcP8QDLSb3z4Efn1mhG5GSXTS62yuXJRLsv1SXVySqbcILRYeaOk8BdbOGiOuzP5i2Y9b3ytUzIIhq7UPayFRp7XMJGMS7LEPaafO91BaiGEVf7+x432Lvu8i2UNEyNO7pb++IvMebyLy8pt3M1UcLXMTZLBtc9u0ZnmRxYRSwJVrKI9tbf2StlkGuhaEXeNyDqP9zWMuLmRvack046b6qgJ2qyTWyzzl8iGi35TOeBbScczyJmBnC22fySrPfgHAFL4Mwm89BaJr+6U+FMHDGjD/JXb4WoFxpn/HupzEOyJITzPOTAA66FBC5bJXMX1Mp3bLi2xIYPT57UkNcHlpdT9ZbexTLM4ltGcZe1SD9aXyWEEW/eNJuWp0RyYkTlTV4H8TP5+AnApofMIk8kegotX/1jx9VJQontK9wigjuHOQs36qZE5MHODUsNeEUOwB/771MR2JQL5/sfg/kdKQfjgOWPONecUBBHvNXynOyPJGfigQ7vspWurG2UyeiXOccBbLEnAnk9MkDVIIobLCjinkd/H22fRAdgJIVB4sNIKJeRNG5zVZ9/EpFyPnCSk7om0HAX0PWktkO1GwFhlPO8s4ycC+A1gFZbR5b3j8s7Lk/LQxEn5ZvZKqYjVGffEF338S/K62y4FtHrxIQOVcbl/aMKgNz4FlEBa+a6qbpA4GN56MBBkZccGpqQqsRdwzWDqFjfI6SGokUHVEFb5W2scw3n4cI9cevi0qeOC8PIE4WO+q7EJ+wy0sgpujWQPZjKwcGoh1lNwIaUSheLO/Oi0THp+t6eZ2Wx1FtSDmXp5MUomqsLm2x528VQVUNhIAi5UCJYfnED+q2SZwaJbSE7IOPotW8J7DzoxPisaa7KDViTQ8ExUsnCBbB6dMobFIfzGnOdagLZsqHsGK7qllUEI3fO0+S3pqkoZ9bS1LfGzHCLhUGgdih7SYkkFamUOCokAMA9zAHeZrLhdalKfkeTUKZlwedHYeGfMCi/D45ahYlTJJ6u+Jp+e3SrfTF8kWwF3H1kIGtdNti8H2ArH78nZUm8KfqNDrWQumuz0YRl21xyPW2tE1dIR9HIVIpYazvhOH4FLKqkVsZiFdz8sbbBSkrJ4l2g+GcH4o/VVsJLx+VfOwWpR0SIjjDVMQumAuz0yd5E0ymHEI5WZa6oL1MPC1yupmpwMltm3pRGCDfsaIgw1tss94wld7jhOHByYz7unouMiWm9MeQDdASBECBbLPZOW4e0IYH5wyp2jcIv9Sl9Ivr3rDvn3hz8va3vA1GPo/c/TPTIMSGu6/Vbjew6nm6UzOiSXVhw15xhKV8qBZ2blZrhQ+SkC99XpXDmgx+dlcGRUjo3EDJrmIp59E+LB6gHdT9fQoZlyifb0ycWDU/L5i2FYy22Wl7VfgbljUlLxi/DN3SvlgAmfOjaAHGotcNeLyBjm5zNR4okxmaG1E1SlSkvkNlqNJLyHoXR5rH/M5IqrmUJMHtrUwiLGb5eubF56Bi7yzwiEMnzbpAXMzd/urJPNB0/JlqbCHGZr7bJxckAimByiyYhsXwTfkGqUtWUDMjKEeS/a5W1q0CenF/FNgeYxX/fDyjU6DXc63CPm9pprgTCH92fKva/HJ63AGce7o+9XFnFepCG4Z2qZKcCiIdcP6+g2s5vFvK/1iSxcHAFf34n4xh6gx3rpcljstZ2Wn+T4AmrG2PC1A7Ny9+mMAQG5vSssF9UhBxO8ITgvJQ+dlnp4p/TEEnIC7/RXDtn55bqWoOyqXRImMT6Aue7Og7Oyq8mOSaZj3yIMLWEdFA7Dk/99AtUFK5bvofwEu5ZT+AkO/EkPueX6y+R7X/xL+fW3vrykgPST9vtfeVxLS4vp7iTcI7w0ODgoSWhwtN5b9z91OzI0Ck7GagFXRUfkSKXVBK4CU08iwh0DdDXwvRk+zZHEMVOXLL/CDPDcIWrTd6HFnnAJSFlGlLA7Z6w2WJMiMk8Jad7l8wnHVyMw/L3Iwk1GQ2R1ua2fRrQSaXKpeEA3hVicLSZJk4uuhjAVADLiw50Y0UFbwgARyBzH8fY8ptAtLoaQROoD4+glxjvUO4Q2utwp9c22I/g1KmT2lVaKS8pA094LlwJ+UIpsp8cQDrgd9wOYSAZ9T8vpSx5LPmOg2ed3bZOxt/+CzNx2jQ3E1kae9Zxz3ynPYUK4u11SiT+WqTV/Y4EY4NZwVZN9zhSSgmE8VNAVTXaS9XST36yYfSC/zQ3mryExJuk3fpiUDwL29O4eO5Gns8snAwbOzi1iqsOEXRNefr+9yFWaY4nxRl7QhiNx+z4S2U5p1v1OPYZ5bvgMqNlm/I/SbghxqfkquRzxUF1gFIls97q21Yg7akRCw6sg5F+KprZfTuyzVWTNLRHBiCh7jLfSGCit867nYCWZBLBANAd3PSiRV+M8fJ4ELimL2HvcC5RFInhFwZx0LUzncyRpPzWJCEKFQrJ+aDlT9Nojg/C+bJOXRPfK3zbslt9Zs8VAmy8C+Wt2BgKIj/gYCCn9LiTn/VTPcfl8f7e85/DTcgAgBiZWKYHkjPINCIE9Lmh/cx6dTXMNaR6QkUmrjddT6LddY5XlWmzWGpOUK0sY8A+tZLxDzlmwSqHbaTuuFXHyYLDJFAfgBkWadJaxmrQdkxSiP+eJSWI7hQEfBjKfgjZcFTnOKgNHzzxNij5pwAxMjV0w9IbxYTQ8ptN27IkO2GM1TtPT3GyqdnsEqQDSMTtmzFXeKneFP4QQlhy+ZptIliiIJKJ4nomIYhbB/62xU6aZN4fSmY7TOo0NrIKrM+HXNcePwoDX11Fo4ZhK9dLKpAHsbfhelIJMYQCBgPli4i5OqSgmCa6OpPbEY/jVEL6XEtBt8NvKSXnyMVblwUryQATIzTegQpKLCRsDAiWpFrkHlc4JvMHFdVIhMhu0Qv96xLl1n5wBiIMV7hg/QzqOuJg91S3y/XnbjvMUY/v+7OQBOT6dlZMLVjDY6YSksWyVgXbW6/Gum2EtnnLgM5yTCP8dgasmaUMMzD8oE11j1mEkkd0OhUQMJrFejKHDgRbMn5CYcJ+yTXacC6v10hxx5kXyog35mKRKh+QHk7R0OmS2bpdUVtFSw8i5t94XD0cAoUur7Ln9Z3vYpULwl3M/RKsRKFPdJpdP9MHlzn6znLP8FEKZAkxoHGkSQ2PMWZvHW+Bk79AneawiHCpAAss01sgfk8R7Hl2aLpm/TRPKvg7eIYqSx76InLjzcC8388TE1iMQ/Cn0PlEFrxfkPGLuowcHsvKHjyzIHswlGQcDHjvRK42TVqA6GokZl2p4AstN7VaIfn5XxPT7bSjpLtD5fwcKnMnP6LdWI88MLUX/k2n9+vXSBdcIQn1TKFL6+te/bjZvueUWLfofvw4j9mtqrspcZycQ7j402SSf6dopnf2IRcF0R//laeSs0ESyLUgKFw5bBssISWUXmWMpJO1usQKR90cfxwTD4FICHZBCKiS5Z0zNFikd22zWW8qOmvWoS1o5uYLR3yaTxcS7ArqdBvE3ZEbkPbAgfW1ru+m3N9mAaRtZ6Z3lyhS6xYaoFZKOZ4qFJFbXReykPaJCEqBkvzd9szmyErkalDLIVUTygi0EkNCyu8JqsiggFVrrUYIM65bzJBS4l/ICg7dwhW2isJHKkVuCFDgFJsC52HH/ohrLyNQtzebd7TbDqrgSKeqR1jP3UlsIeXVgWRtQYA6XY2hsHv7ZJZjnySz1y2Bg/QHsKPMKSRqgS8tHKGuZ8/lkhTwE6xpprXOp47YKLXoMy9oRP0PS507j39OY5KgevQPube9bt03+eP12oy2m1WopEJPxxt8A7PnHZKTlj/D/J8s0oM0xK0B6kRrNSTyLUeff3wLlQdi5cikIwTySa5IOT9obQyuSJpH1dCG1cfsNdA7a58e6LgCn/OZDR2UNVN35YHL41yvlqipk8wBcakbBoAN2O72QkOmRTukcthO1F8Y8BeHsu6M4ltLNGw5JLPa46YbgGJVTd+aR7cph8WEMVaPLEdJH91DO/o4moN0mVXoYWFdVQNaD2wyR55QYiE4Ie9KZgBtY34ZYmypc4kioXAYXqwD8YDXKUy5fWq3LtUL4b5LmSCMEOEmFPMK4k9XOpcudq1XAWJ8KoA0FRYc50C3o7kWaA6ocKTreY9b+HEmmEAtF+JsCbDUBG0jziedIrxPUkanHlFFQpPUrlBszlndTWGIRBTgKqR15wRi0TmEv74Jaor2/SN1t4w5Bjsm+SUZI2jApNWX2Pk2X+lA9nRVAGwpCEhNpkgjLXW5fMfFCgBvgBriLhhN90uhAL3SsjC3tM8cqomMu1GD2JZGSAWjjSQRtII0D/ZNU7dzYuJ0fJzwKEJZ7KQJBPDFjn9/BdL+p2gzUu5nhaWmMWGFoxIGKsPLvN++U/YhN8RLv358fGM4z/Fvip001haTndrof7T0A2w247qmc/Q1ZwFyPI+dTOGZ5go3hMdM6E11t1ioAbXO88yFAvytpQlkKUudKM1XlxrOB43Kw2lkjMPBtfYoWQ5HTC3b8UWQ7voc6Xm0HGM2vdW2UP924Q365cx0sfQU+Rs+/eXJ5mdYF3Xiebl4ruyb7gHDnhKTMciEpmRo2h1U6kAbuJGE5X8zZezpWjzhTJ2SzTiH19Xtm2UpCkuZim3DADV4UVQVuuDp0SD686RJ5a8dadiUEXBiDpZ9KEyVVDBC04WsAxPATrUocu3mdVBhQ0CLtdRZ1CkgVjg94PixP1CM8hfnniBv7/f1d2D9/7oAddc6f3/Nf8kuCmMDe8Y53GBS7l7/85fLFL35R/uqv/kp++7d/W2pqauR1r3vdf8l5fhadUEj6avml5lSdsWEwCAH5x9WXyyMQBlphSiaNACQh5JDtmivtIE4BiSbyFIQkovAQ3ek6wBP7aScEqngESUqRc4WklqQ5BqSA6AZESsU2mXVbwApJ/UiMR5pw7cyOZ3E2S5LCQY905kzyPj10b6hFHsuslljqgBa59aJ0BO259yXX+eowic/YmW14b5fIjyAIfXYLcg+tN+2Y0E4pb0nywICfCdlOj2tPtJvN4wBvUOI9S5ZfqbtnXavwwCSMpODJvqJjmk7bCQyZdxADYH/PYnextcB7wHziRkqh3iLpJEIaiAlaSUE38dGSpAhupgILum2POyEp7nJNaR3XKlwSxEE1jGRUVDD8w1XPg9XKnv8/jqYNahSPm3MwsEVCUh4G3AoktCKlscnM8nR/WIkIFZuJ2snT36bFCUkKh+2v574yHc1wWQkhYSdpnUtUPJazTIopxILxSCWFJFgwSKcc2MJVNQ3ygWy53HJ8COhuVUCfspO2Qmqz7VB1vRyqaDCWsqnh1TI13CVxJOv8zRODyyyVbE8XqqXWU3hgVlPPMlI5gEImXQLFh/sD8sEnFuTjT9k2gwBpmLt6h22I5biz6FSXiMUkAiIplngcY8FJs81F9cS/Qkhy3z5cF89Gm6bte8WEvCp4TLnYq9rMpDl8erFW/gkgC584ZAV8VZjkIbkd8xNI2XeVAgqpICTZ78MUehaaK2ncOPFheIObKGlFS5KDvGdupnDGMoJMYjlClzFQuUdBkbcmOUHINPAt1NKUia4zFklWdztkNl/TkrsKoFJW1mHqo2krJBHRbWnbDJyXAAMOgA1+IWcSvjRHkteSpCkHcoiRVGbQCwFu8tzARXVxqlE0r5xa3TOMMQUtltv3QJnXAKwfeXc7WGSo5GEi2XIo5WKeZL/nYkli32HCjIOSSHZO2gzUuxvHTkmzc7dTSxLr9uP7KUUEM0hhjvDSxvpaKGmKx0Fv/QKsZqRZWImtJckKF1sDJ0x5WoUkJwBtjlmlwWHPfJlRSxIQLs+V1HOgEu6VUpeR4d9+s2QAdLMJbrKkbiD8lZ3aD2S7BSgUauSHU0njGUKL+q9DQLoYghJ1IPSUeHGqv0h5V4kUHM89MlDyUoi4amL2UJuu7ZDLJvvhJmnvZzYFZYyPki6OsNJzC2lJms/Y+zBeDS8KjyVJ0xF4hSSO9Yx5pcWHKUaUKCTNI6FuBm/30lIQiYkLY70mlGWuJKb84Lh6Ta0V0O/Z0Awo8MK1qmKAoA2TTrmh5+B62n7Sklll3w3GZpNOAeSCdJPHFTMOQf/2C9Ykc19+Hhae1/rn4eee+29873vfK+9+97vlvvvuk1e/+tXyW7/1W8JYpQceeMAg3J17T/99LQMI9szC//cLicvMRXTC3U7p67VrpY0BrqBJ5AEKOmS7libLDBghyTWmoES6Pt4rl8ECpcMUlf+vjj2BXDKdriUGZGdJSrpGeUtS2SbTpjxzDMIZrFcO9nkCiEWl6Gx5kpi4kwx8f5VeTaGXezOb8jFQWhpdOAL7EjQ/yQ7pgQXDTy2DdvIamYMWew8GWsBTz7hM8V53u0xro9E2kWFWxoJJPxXZzu9qp+dZBTcl0jGCN+AOpiE0jiMPD2OKzpXUkhRzcXyhk1ajqse3PbzXbNIiQJc7Us+BUbMutaBbU3LPS0Uea5Z0cquMNv++tFZaAVKFpIBzQySU+GofIzED9ze1JKlQ6z1PleVhYalEqAmC1EnG3S5lr6k/W2BkmDvr0aGsYaQWYSegcO3NdVWAAbcMvrUiiexoLP3+eK9jpW11O2Ni1ZVIhSRrSbJM/Nq4fZa9qbkiGFgi22kSWW9/CgPe12jvwS7kiQq7+A8y6LR6UZgTuJ6qO8sH8L2MAkBlF4TPbUCzIv3GiYelK5KRq8EM+OlSoCRGymf8xcgHNC2nZq0wl0WsHGkciFUk/rakY964P15jf1eVC6pnmZLJ0RRexHP5EYoKglhZcg8065bZOpu7Hfva6gLbCdevsMqKLVK7aAX6r56ulLtOZeRbpxlfEQMTCEjzxWTesqPXlHBpBBZD9rpXSiSr7dWaMeyCyhn/RMrVWsuSttO1QoDTBYiiB78XKozUXSjh0iiwPQUfkgpCZse3iDgBiq7HdA8lnUoWC9q+Q/K7BCPht8PRLha3Qr8mxWay70C7vXdViAEh+d2WTKFbaI6kNsfMszhvSYKQxGStJM2fx21jScI6d3ytNIbs9zIMoBtaL7Lj69kk726XdXl/mCtJ3e147/W+mUSyBKxxdC4w4IsQ4GdohvQQESLL+/vxXiCvHRjoyVyViRH5jUticgVcZLPp4rGViJ+7qurlpZu7PL3AJbm9MA4VVbidTMBe6/wC3O0wp4YQw0tr9ebFfaaFuttFoJAkbaqz36fXkpSrqzaQ6CHkPgsg7uZcSIViCkmL4N3psjf+ppch715cyhCbNAoLZ+ieO01Xi3MJa03G3q31rcu6fwny//xD4vOAcLdM/2/Ail3TXTx/6EGRXijbKqwgmnVADOWTduzIIn2Hn+bTdlys8HgIJREvPOe8BMYQBwafzPxh+RxJTgmhFXlrkiehLK1k6j5Ky5Tm3OIx/BaZ9y8AMKRQ1t57TS5+z/oWCEmF36eKgdBCGELXcrZ3Uw38anBPFT1ELUmZQEbWQRG3DTFLXnr+Kvudfb8PLqXzhfHQ2+bC9vlxB5a/LefH7/qpfwXhvj/2sY/JzMyMPPXUU8LcScePH5eLL774p+77Z9UBB+0YNDPlGLCGEHAdRvRyR3TUnL4NA347rEqk6UVoyR3qUnP1KLKM1zpfalNdiEuqH5Y/+d5+eWHaDhg3lE/J1tBg3tWOrVVImne+52pJIiOofv3PrT9utEJlYHIyUHXpZGDPhj4WyTjkYORAbhlYs0oR3a4WAYhQBxQwP20KT5hcRN5M5jFC1YKenl9vtIH+Y2pqLKM07LTprJ9yCXHVIqLHZLrsJKT5kmieP5uQpEzR8UxC+jv+HgLJ7+G+XqJdntOaCGWkGCCdl2IIHIdWkklsleLI31S9AIYO7y4BfHh/nnKuItrGvzauTY83y8LgzXg+G03iT7apq7CTqVqSrgDkqX1bCj0wRmjS9a/a/kKtx40GliS1CvFZB10iz+Fsjbe5cV9Q7alanrRBXkiCcEyiJYl0aUPx5GUKz3Gh7nZDiMtbiUacFaYFgd8FS5Jlmk6ASXNx1ebwtfOwJEHT66daWLrCUcT+AVe2Bt8iNbx+hl5d7phD7K+eTsm+pQpjmfqj+QOy3f3GoSiAReDuRm2p5jviuRir87zGVqB/W4ux9/zJ+GVy0iXhZd4qpVwmZjbH+gtMz5SLD9TYH23LdZDuJy3zeAeW36vo0kHI/QAkITKeRwvsPZ7bZL62DFhm3ghJzoVtGu8Eqdol2xxysSUsG89WcoV3ZgY5b+yx3A9D5UEobJK65BYsSfYYU+lZqLtdr1pzHSO4kiWJ77tar8YXKyDIWpej6az9NhjXpqQxlxHnAqflug7g3qoAlS6yJBW+X21baq1jJJNppqNWKKG7HRnE+NzD9hAg01U7kBONX/L3NQ7GmsIWkSM15optyLyTFqsqPe52psiWq7tUL9IAJK4yZfct3ioDLX8qmk83724XbjT1IUBIDDjlUCO+gUknrDckMzanl+v+XCxJJ/GN5srtfXeHyXdGAIIwawX0JTDL/35bhbxvV5ncCNeo1+6AG/hYhyzMQunFwRCUgcvq5Y0A+AhD4vBQDrm+zkTq9plOz8ikmZsE7tNh3PsU+moybqFUSIbojgsvlNa2VuG7wXutuXnYv7rchZwwdaZzsk4t6pUUbGrtPMd3dRygV+vH7XtzDAADpO8PtJqch3RpVWuKqXCLYA89KSbkymiPKeltqTX51CKDlh/wto0OnaIeDzobuPu5nIPtg/belwP8yU/zWfvuJEJ2TGE949ny7nYYy0LxwnlUWPZ+PzwmLyRBKaEUQT4rzZHkF5LYRr9JKgpITCS/EQAv03g+P5ybNN4Jjw7l5ARj7kBfatwh1H12wjOByiv1EvkhYpNSTx2V2LHTpl2DsySFgBSrsUimwi1olVagj7svxCZ5b815t31BSDrLI40CMYpJZTs6Os7S8n9eNV3tmJfoJbkhOe0SwjEuiTQIX/EOTFakOeR9oOUhjEBLJkdMVlxpynWx4CxJoWo7Ia1xfhiE4iUpaAO3NSYp6ZiluEsWxzqNS9rlgCGiDj1qyociqDErpZIgsh9qqUYRQMtA+YhPicP8Bs+pYisIEwsFl7uoR0gac0g6tpVdJtatNhsjFXagpwvLVMROQJUF3tK0Sbu4JM3sfS6WJAb7cwLj5Z5yFirT2Y+xUHe7BJ6qar/LP/N1JJ7dK/Wf/ophUgkdrcRJ5dFEa96NTcu9a9UQa2B+J2KqSFmnLQ46S9LW2gJDqMfTjS4vJIGJ9ZNa4AjxrULPXAbvGnzsk8jfNZuz91ePu7YlnBeYVajSunag35EoHPOfYAnsf6tPw6ftz2XdDHQv0rnEJBHQRGOSKPjzPlFcS1RYRp39nMmSFCu3rqrXDNv7pElMGQ8zACHm0XErXD18dLf8oD8L9K8lef/B+6RmakqaXTLdQTCcS/EyI3D+9prNcluDZfZ2wbWI15MObRR5wjLyvB5ag2dqXiERBzChTAvrAgAkIY04lDBuK3CDMissUwpQABoAOmOJGMEkEjkz4J8Uml0uRGkfTPK5ZQSJYVFwAvm4FnL23ilDX+PukVd4nnDunPtnxuSbw33aFUADFmXB3fvl7nYrCEkuLuZUzlkOAHJBUiGJSbW/CQvW7z2clC/A/ZOuVWpNGgejl43YezsPdDUS0QSVVEiKpk+AeS4weVofca5xBBCh9ViVJudqSdJ4JH5HdNPVOBgKZfG5h+xpjtRIzYIVOF***REMOVED***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",
      "text/html": [
       "<div>            <script src=\"https://cdnjs.cloudflare.com/ajax/libs/mathjax/2.7.5/MathJax.js?config=TeX-AMS-MML_SVG\"></script><script type=\"text/javascript\">if (window.MathJax && window.MathJax.Hub && window.MathJax.Hub.Config) {window.MathJax.Hub.Config({SVG: {font: \"STIX-Web\"}});}</script>                <script type=\"text/javascript\">window.PlotlyConfig = {MathJaxConfig: 'local'};</script>\n",
       "        <script charset=\"utf-8\" src=\"https://cdn.plot.ly/plotly-3.0.1.min.js\"></script>                <div id=\"a9908bc4-2011-4f79-b657-122ced77e4ce\" class=\"plotly-graph-div\" style=\"height:525px; width:100%;\"></div>            <script type=\"text/javascript\">                window.PLOTLYENV=window.PLOTLYENV || {};                                if (document.getElementById(\"a9908bc4-2011-4f79-b657-122ced77e4ce\")) {                    Plotly.newPlot(                        \"a9908bc4-2011-4f79-b657-122ced77e4ce\",                        [{\"line\":{\"color\":\"rgba(255, 99, 132, 1)\"},\"mode\":\"lines+markers\",\"name\":\"A\",\"x\":{\"dtype\":\"i1\",\"bdata\":\"AAECAwQFBgcICQoLDA0ODxAREhMUFRYXGBkaGxwdHh8gISIjJCUmJygpKissLS4vMDEyMzQ1Njc4OTo7PD0+P0BBQkNERUZHSElKS0xNTk9QUVJTVFVWV1hZWltcXV5fYGFiYw==\"},\"y\":{\"dtype\":\"f8\",\"bdata\":\"HO0bKCdm679Po2cRz5LZP2I9A2o4SPS\\u002fu7\\u002fFmHQc\\u002fD9GnGlZWXXwv20SrC0iPuK\\u002flXmzEKrG\\u002fT9ZUSgR6qfbv5c2rrcliPO\\u002fuTRfoeoo2r\\u002fU1qGQKa2+v08G\\u002fStPiPi\\u002fV5T5G+Oy97+po0oEmPzIv252PK9Ldc8\\u002fE4jzHIVD5r924R9cr7P3PxRveB2Rzuo\\u002fgNQvwPeNpD\\u002frsY6qmuniP9sSAxpQl9a\\u002f0hctryIAzL+9CDXeS3gFQAaaz0b7BOS\\u002f74YkxtVw578uvR8kwBbzv+sCEr1FPuO\\u002fnXhg1WU98r\\u002fAVC6z1JzMP89NpHxA+to\\u002ffXZWa3Ni9T8pRbmZ2Y3hP6KSu5JMVtI\\u002fEaKNrdMB8T9BqZBU+vzxP1YBC4v\\u002fId2\\u002f9+bk2wnp4b8Wg3\\u002ffoV\\u002fkP8CEIvzhmua\\u002fq7y2hqnt8D819YXTm9Pwv31ZHFsAOQBAo8azm7VR8L\\u002fzfG+mnartv2SEgq30HrW\\u002fAIrYpW3E+b9dfiucKBP6PzMNWW4al+6\\u002fxyWFPUl34L8gEZJyiGDXPzSHKU0v2\\u002fS\\u002ffWsoEUn8879IMoNal0njvyX\\u002fC7hPrfM\\u002fltYFOBhd2r\\u002fwLdcNvuL0P5Cf2LlK7+U\\u002f4vVka4bG4T8f9RHYJSP6PzcUiHoF\\u002fP8\\u002fhJTfBpHY5T8Ta1u+sSMCQN5FnxaMHeE\\u002fS89+FUib77+2fYXHtbrhvwrzF6A5AOC\\u002fNRx1CDK79z8dB0R10D3\\u002fv9PsnmEL0u4\\u002f7s1EmCPa6r97HaKhD4DyP8rQF\\u002fjUYABA8MHE6V+F678v\\u002fGvuaenIP7ZIek7MCta\\u002fTGF2hud+87\\u002fbrrY3LSHrv\\u002fToNa0w3\\u002fG\\u002fYsR3aNR45L+WaQHR6L3kP84i+LgPIuW\\u002frqVJfsTV9b8KQgvjFsapv7ptgSBML9G\\u002f4TkrdYbc87+evNrSfFDEPycwqTqFpOq\\u002fcKmjAodIyj991NrPJJcEwIROhVM2xQXAhAb3gsDH7z\\u002fwbqVr0knTP9WHGWWvdOY\\u002fdZJSgNff4z8TkdSgkqXNP1AcdprzJOe\\u002flSxDPsNi5j86i9awW7zRv9\\u002fUtX8nF+4\\u002fLfAx43aA3z8=\"},\"type\":\"scatter\"},{\"line\":{\"color\":\"rgba(54, 162, 235, 1)\"},\"mode\":\"lines+markers\",\"name\":\"B\",\"x\":{\"dtype\":\"i1\",\"bdata\":\"AAECAwQFBgcICQoLDA0ODxAREhMUFRYXGBkaGxwdHh8gISIjJCUmJygpKissLS4vMDEyMzQ1Njc4OTo7PD0+P0BBQkNERUZHSElKS0xNTk9QUVJTVFVWV1hZWltcXV5fYGFiYw==\"},\"y\":{\"dtype\":\"f8\",\"bdata\":\"FX+FrHCi7j+Nc78ZTiXKv8Omr4KWady\\u002fwWYhRm8ACEAgOEv\\u002fKuD7P2iwhfxiJ7U\\u002fjdSGE6TB4D8\\u002fjbCWC\\u002frkvzeVUiv0\\u002feK\\u002fUuBuaCa\\u002f6L\\u002ffezSEB1HjP8nWbf01jvA\\u002fjCGODQIq7r\\u002f7sPVSIan6v5GFkyb4J\\u002fQ\\u002fNIWXXSpl4z8hSX2toSnxP5aTWHsTrec\\u002fE5xFz9MP0T\\u002f+wwQOCs76P5ACxYLeBMA\\u002fYZuz8Otel79ihObZHWfovwafkP8dL\\u002fG\\u002f4n604rymw788W2KXaFv2vw\\u002flrIreyvg\\u002fin69E1vS8r9h49bDmuXMv\\u002f8lUg14y+s\\u002fhmVRemcS4L9b1dbUQL\\u002fOP8CmidXTNfw\\u002fytzToUeg2z9o1WFLM5rUP9G64zVSs\\u002fo\\u002fHDIZ4SHU17+8Vre9hwLsP\\u002f5coPNEQPW\\u002f7DSFvyvM1b+xZs7208a2v+xYveQRe\\u002f2\\u002feXSdv+Bv\\u002fL\\u002fHE6wyh5HNvzYa6F9ZBfC\\u002f0oThVv+a+78UtcHTbeLZv5dWdrRcGu2\\u002f7z84nIOc3r\\u002fvtM99a3Xkv2mUm0sWKdC\\u002f1xMHYf3V578CoMT7pTviP8cymKnNleQ\\u002fBeGD+YCw77\\u002fMxlV1\\u002frbWvxU+8KIY0vO\\u002flrmqhPHB8T+DMCWB4zr8P2CRKXaAkd8\\u002fT+FXsa3p3z\\u002fOnwWveTTiP4rkEffMqPY\\u002fYQI\\u002fe6AM\\u002fD\\u002f+hZIuZ5TiP5\\u002fgYHE11wJAe6owh8QH9b\\u002fOtkbvdirVvyAEe1FtC\\u002fe\\u002f6\\u002fQxOJG70j9XBftYCx3VPxCe5mgCoAHAy0asyxiz0z8wVp7mOu+7v1yTlF6Bacq\\u002f6qNldrpjtL+di9Ne2DnwP4v+tbt\\u002fRuS\\u002f2ZJCrdBz9z\\u002fdk28qXA\\u002faPxb7A9HvSs0\\u002fKAtNOROa0z\\u002fv3PAnFPHDP0CEaTgIovU\\u002fL8hpWgbB1T942Jc7RFLkP7PGAXRwQvk\\u002fFMSc8qp9vD\\u002fydm+G5qTlv0ClxeCOYvq\\u002fPors3j2HA0C9i+EkSb\\u002fwP4SYNjluuuw\\u002fUOCBxE3L67+8mbmsASTzv+IU\\u002fEFtaNW\\u002fNhvfliJnwr9n5BiZg33bv3jdMWYwpLo\\u002fNJpb+Fpc178=\"},\"type\":\"scatter\"},{\"line\":{\"color\":\"rgba(255, 206, 86, 1)\"},\"mode\":\"lines+markers\",\"name\":\"C\",\"x\":{\"dtype\":\"i1\",\"bdata\":\"AAECAwQFBgcICQoLDA0ODxAREhMUFRYXGBkaGxwdHh8gISIjJCUmJygpKissLS4vMDEyMzQ1Njc4OTo7PD0+P0BBQkNERUZHSElKS0xNTk9QUVJTVFVWV1hZWltcXV5fYGFiYw==\"},\"y\":{\"dtype\":\"f8\",\"bdata\":\"rWvqtGno8D+ClvP9Qt7Zv+bkFwY0UuC\\u002fFNwyVa4gtj9vBi9zCjLlv3vCTLGjYd8\\u002f0\\u002fmBK1BJoD8BOJCJahvqv0I5f99py9e\\u002fNcRnMdXTAUChPZlg\\u002fOvJP1\\u002f3Ef7UPuO\\u002fv5TKrtQk0T\\u002fTVGBxSrasv3bNQx2wavE\\u002fC23YlqHe8D+dEUsbYrTXP2uLa9S3Qry\\u002foj5V5G4Q8z9qB2WlT5joP7ui3vj5dpw\\u002f4KiGzoSS7T+SsT+sbMXOP2alSxA47bi\\u002f1QPE5RmD7D9f7UZmTQXxP2T6gydGP\\u002fm\\u002fMOTU+4ww9b+xBI3vLvTjPzUw4oI9WwFAtWxwWtoU5T+R812zFUvzPxb+h+nNcYq\\u002fuuf5B63z8j9N+ekB1V3GP0o547YVo8U\\u002fw91nPjXI+T8YbsZto+PlP2mhQdpclPA\\u002f\\u002f5+9+jWd17919QO+pVPsv9wYvekAcQHAQZ0KR71Vx78mbFLp6m7jPwLj3a+8a8o\\u002f3TpSYjgq9j\\u002fHtYorjPvMvy5bMOS70fE\\u002fvMqBFL4++T8s+vuHIv70v5c1zFcc9+M\\u002f8jBIddT0\\u002fb9w\\u002fyeGZFbtPxNwVx4Tpfc\\u002fN74tz3gI4L9\\u002f7Rf41mj4v87wV4GnZoU\\u002fXT126YostD\\u002fOV6ZXzeTrv9\\u002fFidWJP8A\\u002fDDoB4PCe8D92uo5goarfP\\u002fQxS\\u002ffcotu\\u002fv12UX1ZEvz+qaTFFP5DsP7FczLRjXLk\\u002fMjoFcyLs4T\\u002fkANE8J4e\\u002fvxlIecIfBNQ\\u002fq98XPXqz9b8HwNDK7rHuv2aoZfTiJwfAEjnAzPqg+78njD091ufTP0J1PPbMYe8\\u002f4edfqtik2b\\u002fitWcJGSz+P30lcUv6pOy\\u002fYiM4XK0ewj\\u002fAb0Co8O+rP9kyOQHjDL8\\u002ftDbHudeo8D8ZgmK2DJ7Yv3eYF93QkNy\\u002fj6vildGy6z9LbTPwIzDbv1ybm\\u002fCievm\\u002fD5hEIwZB3j\\u002f\\u002f2ytV837vv4EHVbRbst8\\u002fgV3xd+J74r\\u002fXK9BQSfLpv8uAy37Q0OO\\u002f4gJgFJDv5j88BzNfC+nrv588Qaj9x\\u002fG\\u002fC8IVn5bw9b\\u002fwtj16eyfcv+hxuRgK8PG\\u002fuX8AMig4178=\"},\"type\":\"scatter\"},{\"line\":{\"color\":\"rgba(75, 192, 192, 1)\"},\"mode\":\"lines+markers\",\"name\":\"D\",\"x\":{\"dtype\":\"i1\",\"bdata\":\"AAECAwQFBgcICQoLDA0ODxAREhMUFRYXGBkaGxwdHh8gISIjJCUmJygpKissLS4vMDEyMzQ1Njc4OTo7PD0+P0BBQkNERUZHSElKS0xNTk9QUVJTVFVWV1hZWltcXV5fYGFiYw==\"},\"y\":{\"dtype\":\"f8\",\"bdata\":\"5blbevbI5z\\u002fsrSNmFiLoP8rHGVBUA+G\\u002fMLgmFjeW8T9mQW4CL5S+vzl4e15WXv6\\u002fHRITRMxD\\u002fD\\u002fGNl7VpQfYv5RXmiGr8\\u002fS\\u002fnsHK0emD3r9b5W8wf4HJv55pJDflseY\\u002f+h6fR3258T9N+kGD+Y3lv8G9OweMQPW\\u002fcHgODO\\u002fQ4r9To7PzkTriP6zGlNbwIeC\\u002f3GhBVAp4\\u002fL\\u002fQm4J0wgX4v\\u002f\\u002fskYJRUPo\\u002f3Zc95FSX4b+MrEXWrs74PzlFePcY89s\\u002fAlajCNt45r+ItcF7y7X9P9AULuADH8E\\u002feC0xjTdAwj9NQ6GVC2oFwKS8ojl9rs0\\u002f+cEE2O2H4D\\u002fVNdg+QVNEv4NVcFkaPe8\\u002fGHMB4jU9uT99H1IwH+P0v1UxrYxOwtM\\u002fsAR1oqz0478oGlqYYKfkv5\\u002fk1agetqO\\u002fbUVo6AH1oT+g70P2EK6gv0hrz8W7yMO\\u002fJdRpEM3J+b8WPGvoBALcP9GU1mRwnO+\\u002fwE3v\\u002fhh19D9aMUsySBzgP5Z2HH4ppeU\\u002f9QCKrtYpzD\\u002fUjquWsKDmv6NY1kJzavw\\u002fAR5vmDje07\\u002fCal6lXdvaP\\u002fQxZTkmuuw\\u002fXTbm47lmAECZGyGLjd7vP9FLSF\\u002fYA\\u002fK\\u002fBZAeiqq46T+dde+68ry1P3FHdb88xKo\\u002fpOu7C3cQ778pvcqS+cfuv1uCjKDxGfs\\u002fwrAXAV3r5b9pzO+4KSTgv\\u002f1SZ7Q8V+c\\u002fiWU55mnM9j8dnU7PVkTVv+7B7pJ\\u002ftOu\\u002fG+HGKejq578l6i54\\u002fMjyP7hzl5aTXuA\\u002fpFo3k2C+0L+BB\\u002ft5KMHgP+BmeAbuO8K\\u002fGwJOz1gY5r8r04xbXm7lv3aJtZpWRuC\\u002f91kGHzVi3D8Oce2UE\\u002fvWv55MJ9RpxPW\\u002faq\\u002fnDyjPAsB\\u002fxk\\u002fWtIXjPxC7l8qJBN2\\u002fqW8X4Wgwl7+blY+IjAS4v\\u002fEUOomf9vS\\u002f1Y0Cz9pg4r+mvAKVmRz+v9LjMfiwVe0\\u002feXMy+NVv8r9B+lxCb33rPxm7a2D5Fvi\\u002fbK0Gj\\u002fVH7D8j2Bnrc6eNv9DHuCIipeC\\u002fvztwmnPt5j\\u002fY1nZXldDVP530vHE5mPm\\u002fy49V4z7N2b8=\"},\"type\":\"scatter\"}],                        {\"template\":{\"data\":{\"histogram2dcontour\":[{\"type\":\"histogram2dcontour\",\"colorbar\":{\"outlinewidth\":0,\"ticks\":\"\"},\"colorscale\":[[0.0,\"#0d0887\"],[0.1111111111111111,\"#46039f\"],[0.2222222222222222,\"#7201a8\"],[0.3333333333333333,\"#9c179e\"],[0.4444444444444444,\"#bd3786\"],[0.5555555555555556,\"#d8576b\"],[0.6666666666666666,\"#ed7953\"],[0.7777777777777778,\"#fb9f3a\"],[0.8888888888888888,\"#fdca26\"],[1.0,\"#f0f921\"]]}],\"choropleth\":[{\"type\":\"choropleth\",\"colorbar\":{\"outlinewidth\":0,\"ticks\":\"\"}}],\"histogram2d\":[{\"type\":\"histogram2d\",\"colorbar\":{\"outlinewidth\":0,\"ticks\":\"\"},\"colorscale\":[[0.0,\"#0d0887\"],[0.1111111111111111,\"#46039f\"],[0.2222222222222222,\"#7201a8\"],[0.3333333333333333,\"#9c179e\"],[0.4444444444444444,\"#bd3786\"],[0.5555555555555556,\"#d8576b\"],[0.6666666666666666,\"#ed7953\"],[0.7777777777777778,\"#fb9f3a\"],[0.8888888888888888,\"#fdca26\"],[1.0,\"#f0f921\"]]}],\"heatmap\":[{\"type\":\"heatmap\",\"colorbar\":{\"outlinewidth\":0,\"ticks\":\"\"},\"colorscale\":[[0.0,\"#0d0887\"],[0.1111111111111111,\"#46039f\"],[0.2222222222222222,\"#7201a8\"],[0.3333333333333333,\"#9c179e\"],[0.4444444444444444,\"#bd3786\"],[0.5555555555555556,\"#d8576b\"],[0.6666666666666666,\"#ed7953\"],[0.7777777777777778,\"#fb9f3a\"],[0.8888888888888888,\"#fdca26\"],[1.0,\"#f0f921\"]]}],\"contourcarpet\":[{\"type\":\"contourcarpet\",\"colorbar\":{\"outlinewidth\":0,\"ticks\":\"\"}}],\"contour\":[{\"type\":\"contour\",\"colorbar\":{\"outlinewidth\":0,\"ticks\":\"\"},\"colorscale\":[[0.0,\"#0d0887\"],[0.1111111111111111,\"#46039f\"],[0.2222222222222222,\"#7201a8\"],[0.3333333333333333,\"#9c179e\"],[0.4444444444444444,\"#bd3786\"],[0.5555555555555556,\"#d8576b\"],[0.6666666666666666,\"#ed7953\"],[0.7777777777777778,\"#fb9f3a\"],[0.8888888888888888,\"#fdca26\"],[1.0,\"#f0f921\"]]}],\"surface\":[{\"type\":\"surface\",\"colorbar\":{\"outlinewidth\":0,\"ticks\":\"\"},\"colorscale\":[[0.0,\"#0d0887\"],[0.1111111111111111,\"#46039f\"],[0.2222222222222222,\"#7201a8\"],[0.3333333333333333,\"#9c179e\"],[0.4444444444444444,\"#bd3786\"],[0.5555555555555556,\"#d8576b\"],[0.6666666666666666,\"#ed7953\"],[0.7777777777777778,\"#fb9f3a\"],[0.8888888888888888,\"#fdca26\"],[1.0,\"#f0f921\"]]}],\"mesh3d\":[{\"type\":\"mesh3d\",\"colorbar\":{\"outlinewidth\":0,\"ticks\":\"\"}}],\"scatter\":[{\"fillpattern\":{\"fillmode\":\"overlay\",\"size\":10,\"solidity\":0.2},\"type\":\"scatter\"}],\"parcoords\":[{\"type\":\"parcoords\",\"line\":{\"colorbar\":{\"outlinewidth\":0,\"ticks\":\"\"}}}],\"scatterpolargl\":[{\"type\":\"scatterpolargl\",\"marker\":{\"colorbar\":{\"outlinewidth\":0,\"ticks\":\"\"}}}],\"bar\":[{\"error_x\":{\"color\":\"#2a3f5f\"},\"error_y\":{\"color\":\"#2a3f5f\"},\"marker\":{\"line\":{\"color\":\"#E5ECF6\",\"width\":0.5},\"pattern\":{\"fillmode\":\"overlay\",\"size\":10,\"solidity\":0.2}},\"type\":\"bar\"}],\"scattergeo\":[{\"type\":\"scattergeo\",\"marker\":{\"colorbar\":{\"outlinewidth\":0,\"ticks\":\"\"}}}],\"scatterpolar\":[{\"type\":\"scatterpolar\",\"marker\":{\"colorbar\":{\"outlinewidth\":0,\"ticks\":\"\"}}}],\"histogram\":[{\"marker\":{\"pattern\":{\"fillmode\":\"overlay\",\"size\":10,\"solidity\":0.2}},\"type\":\"histogram\"}],\"scattergl\":[{\"type\":\"scattergl\",\"marker\":{\"colorbar\":{\"outlinewidth\":0,\"ticks\":\"\"}}}],\"scatter3d\":[{\"type\":\"scatter3d\",\"line\":{\"colorbar\":{\"outlinewidth\":0,\"ticks\":\"\"}},\"marker\":{\"colorbar\":{\"outlinewidth\":0,\"ticks\":\"\"}}}],\"scattermap\":[{\"type\":\"scattermap\",\"marker\":{\"colorbar\":{\"outlinewidth\":0,\"ticks\":\"\"}}}],\"scattermapbox\":[{\"type\":\"scattermapbox\",\"marker\":{\"colorbar\":{\"outlinewidth\":0,\"ticks\":\"\"}}}],\"scatterternary\":[{\"type\":\"scatterternary\",\"marker\":{\"colorbar\":{\"outlinewidth\":0,\"ticks\":\"\"}}}],\"scattercarpet\":[{\"type\":\"scattercarpet\",\"marker\":{\"colorbar\":{\"outlinewidth\":0,\"ticks\":\"\"}}}],\"carpet\":[{\"aaxis\":{\"endlinecolor\":\"#2a3f5f\",\"gridcolor\":\"white\",\"linecolor\":\"white\",\"minorgridcolor\":\"white\",\"startlinecolor\":\"#2a3f5f\"},\"baxis\":{\"endlinecolor\":\"#2a3f5f\",\"gridcolor\":\"white\",\"linecolor\":\"white\",\"minorgridcolor\":\"white\",\"startlinecolor\":\"#2a3f5f\"},\"type\":\"carpet\"}],\"table\":[{\"cells\":{\"fill\":{\"color\":\"#EBF0F8\"},\"line\":{\"color\":\"white\"}},\"header\":{\"fill\":{\"color\":\"#C8D4E3\"},\"line\":{\"color\":\"white\"}},\"type\":\"table\"}],\"barpolar\":[{\"marker\":{\"line\":{\"color\":\"#E5ECF6\",\"width\":0.5},\"pattern\":{\"fillmode\":\"overlay\",\"size\":10,\"solidity\":0.2}},\"type\":\"barpolar\"}],\"pie\":[{\"automargin\":true,\"type\":\"pie\"}]},\"layout\":{\"autotypenumbers\":\"strict\",\"colorway\":[\"#636efa\",\"#EF553B\",\"#00cc96\",\"#ab63fa\",\"#FFA15A\",\"#19d3f3\",\"#FF6692\",\"#B6E880\",\"#FF97FF\",\"#FECB52\"],\"font\":{\"color\":\"#2a3f5f\"},\"hovermode\":\"closest\",\"hoverlabel\":{\"align\":\"left\"},\"paper_bgcolor\":\"white\",\"plot_bgcolor\":\"#E5ECF6\",\"polar\":{\"bgcolor\":\"#E5ECF6\",\"angularaxis\":{\"gridcolor\":\"white\",\"linecolor\":\"white\",\"ticks\":\"\"},\"radialaxis\":{\"gridcolor\":\"white\",\"linecolor\":\"white\",\"ticks\":\"\"}},\"ternary\":{\"bgcolor\":\"#E5ECF6\",\"aaxis\":{\"gridcolor\":\"white\",\"linecolor\":\"white\",\"ticks\":\"\"},\"baxis\":{\"gridcolor\":\"white\",\"linecolor\":\"white\",\"ticks\":\"\"},\"caxis\":{\"gridcolor\":\"white\",\"linecolor\":\"white\",\"ticks\":\"\"}},\"coloraxis\":{\"colorbar\":{\"outlinewidth\":0,\"ticks\":\"\"}},\"colorscale\":{\"sequential\":[[0.0,\"#0d0887\"],[0.1111111111111111,\"#46039f\"],[0.2222222222222222,\"#7201a8\"],[0.3333333333333333,\"#9c179e\"],[0.4444444444444444,\"#bd3786\"],[0.5555555555555556,\"#d8576b\"],[0.6666666666666666,\"#ed7953\"],[0.7777777777777778,\"#fb9f3a\"],[0.8888888888888888,\"#fdca26\"],[1.0,\"#f0f921\"]],\"sequentialminus\":[[0.0,\"#0d0887\"],[0.1111111111111111,\"#46039f\"],[0.2222222222222222,\"#7201a8\"],[0.3333333333333333,\"#9c179e\"],[0.4444444444444444,\"#bd3786\"],[0.5555555555555556,\"#d8576b\"],[0.6666666666666666,\"#ed7953\"],[0.7777777777777778,\"#fb9f3a\"],[0.8888888888888888,\"#fdca26\"],[1.0,\"#f0f921\"]],\"diverging\":[[0,\"#8e0152\"],[0.1,\"#c51b7d\"],[0.2,\"#de77ae\"],[0.3,\"#f1b6da\"],[0.4,\"#fde0ef\"],[0.5,\"#f7f7f7\"],[0.6,\"#e6f5d0\"],[0.7,\"#b8e186\"],[0.8,\"#7fbc41\"],[0.9,\"#4d9221\"],[1,\"#276419\"]]},\"xaxis\":{\"gridcolor\":\"white\",\"linecolor\":\"white\",\"ticks\":\"\",\"title\":{\"standoff\":15},\"zerolinecolor\":\"white\",\"automargin\":true,\"zerolinewidth\":2},\"yaxis\":{\"gridcolor\":\"white\",\"linecolor\":\"white\",\"ticks\":\"\",\"title\":{\"standoff\":15},\"zerolinecolor\":\"white\",\"automargin\":true,\"zerolinewidth\":2},\"scene\":{\"xaxis\":{\"backgroundcolor\":\"#E5ECF6\",\"gridcolor\":\"white\",\"linecolor\":\"white\",\"showbackground\":true,\"ticks\":\"\",\"zerolinecolor\":\"white\",\"gridwidth\":2},\"yaxis\":{\"backgroundcolor\":\"#E5ECF6\",\"gridcolor\":\"white\",\"linecolor\":\"white\",\"showbackground\":true,\"ticks\":\"\",\"zerolinecolor\":\"white\",\"gridwidth\":2},\"zaxis\":{\"backgroundcolor\":\"#E5ECF6\",\"gridcolor\":\"white\",\"linecolor\":\"white\",\"showbackground\":true,\"ticks\":\"\",\"zerolinecolor\":\"white\",\"gridwidth\":2}},\"shapedefaults\":{\"line\":{\"color\":\"#2a3f5f\"}},\"annotationdefaults\":{\"arrowcolor\":\"#2a3f5f\",\"arrowhead\":0,\"arrowwidth\":1},\"geo\":{\"bgcolor\":\"white\",\"landcolor\":\"#E5ECF6\",\"subunitcolor\":\"white\",\"showland\":true,\"showlakes\":true,\"lakecolor\":\"white\"},\"title\":{\"x\":0.05},\"mapbox\":{\"style\":\"light\"}}},\"xaxis\":{\"tickfont\":{\"size\":16,\"color\":\"blue\"},\"title\":{\"text\":\"x\"}},\"yaxis\":{\"tickfont\":{\"size\":16,\"color\":\"black\"},\"title\":{\"text\":\"y\"}},\"title\":{\"text\":\"Colored Graph\",\"font\":{\"size\":24,\"color\":\"red\"}}},                        {\"responsive\": true}                    ).then(function(){\n",
       "                            \n",
       "var gd = document.getElementById('a9908bc4-2011-4f79-b657-122ced77e4ce');\n",
       "var x = new MutationObserver(function (mutations, observer) {{\n",
       "        var display = window.getComputedStyle(gd).display;\n",
       "        if (!display || display === 'none') {{\n",
       "            console.log([gd, 'removed!']);\n",
       "            Plotly.purge(gd);\n",
       "            observer.disconnect();\n",
       "        }}\n",
       "}});\n",
       "\n",
       "// Listen for the removal of the full notebook cells\n",
       "var notebookContainer = gd.closest('#notebook-container');\n",
       "if (notebookContainer) {{\n",
       "    x.observe(notebookContainer, {childList: true});\n",
       "}}\n",
       "\n",
       "// Listen for the clearing of the current output cell\n",
       "var outputEl = gd.closest('.output');\n",
       "if (outputEl) {{\n",
       "    x.observe(outputEl, {childList: true});\n",
       "}}\n",
       "\n",
       "                        })                };            </script>        </div>"
      ]
     },
     "metadata": {},
     "output_type": "display_data"
    }
   ],
   "source": [
    "import pandas as pd\n",
    "import numpy as np\n",
    "import plotly.graph_objs as go\n",
    "\n",
    "# Sample DataFrame with random values\n",
    "df = pd.DataFrame(np.random.randn(100, 4), columns=list('ABCD'))\n",
    "\n",
    "# Define different RGBA colors for each column\n",
    "colors = [\n",
    "    'rgba(255, 99, 132, 1)',    # red\n",
    "    'rgba(54, 162, 235, 1)',    # blue\n",
    "    'rgba(255, 206, 86, 1)',    # yellow\n",
    "    'rgba(75, 192, 192, 1)'     # teal\n",
    "]\n",
    "\n",
    "# Create figure\n",
    "fig = go.Figure()\n",
    "\n",
    "# Add traces for each column with a different color\n",
    "for i, col in enumerate(df.columns):\n",
    "    fig.add_trace(go.Scatter(\n",
    "        x=df.index,\n",
    "        y=df[col],\n",
    "        mode='lines+markers',\n",
    "        name=col,\n",
    "        line=dict(color=colors[i])\n",
    "    ))\n",
    "\n",
    "# Customize layout\n",
    "fig.update_layout(\n",
    "    title='Colored Graph',\n",
    "    xaxis_title='x',\n",
    "    yaxis_title='y',\n",
    "    xaxis=dict(tickfont=dict(size=16, color='blue')),\n",
    "    yaxis=dict(tickfont=dict(size=16, color='black')),\n",
    "    title_font=dict(size=24, color='red')\n",
    ")\n",
    "\n",
    "# Show figure\n",
    "fig.show()\n"
   ]
  },
  {
   "cell_type": "code",
   "execution_count": 100,
   "id": "41759ea1-9a3f-4366-b6b7-d35fab1e0b05",
   "metadata": {},
   "outputs": [
    {
     "name": "stdout",
     "output_type": "stream",
     "text": [
      "rgba(255, 153, 51, 1.0)\n"
     ]
    },
    {
     "data": {
      "application/vnd.plotly.v1+json": {
       "config": {
        "linkText": "Export to plot.ly",
        "plotlyServerURL": "https://plot.ly",
        "showLink": false
       },
       "data": [
        {
         "marker": {
          "color": "rgba(255, 153, 51, 1.0)"
         },
         "mode": "markers",
         "type": "scatter",
         "x": {
          "bdata": "Biat6/WP6r9xvyw1sKrUP1yPkZ30w+E/kP6gbyNA4T90Z5pq68fSP4R4kVQtNfG/z2qvbWLe2D+s6sQDcejqvzJ+SzCAsME/oak3nj/d67+S3uK7IHGuP3YY571r2OK/NzF76Tq03z+Rbl3Fp2XevxI9uf/U/Ne/hMCe4w8h8j+DEhKoCyXgP4ABlBa+P+W/jI1quXzt27/DInYHfRjnP022ugd/W/a/sqQmNYdHAUBOkWiHyUy7v++Mxc9/FPk/kdU+CPLS07/4eJic0cnSP97kVy797aU/GSo/pDcG+D8ZJOlzqvfXP433NOnMffA/wbumxLUE0L8GQPUdxh3RPyNKcGgoFri/cnwjkxmv2L8pzeaxBAO9P64rT13qq+4/Wx2nYF0I4T886gxopNHxPxY5kYnLlfG/iAmUfCJG6T+EZstOs5z+P7mk8zOOY7k/hzgf2+f05L/HFGACHsHgP4tW8b0tGfW/QPy4l2E/CUAPerOUy6zHvy3qXJGokeE/8Wc/rqwA8b+V+xTx2fHCvw==",
          "dtype": "f8"
         },
         "y": {
          "bdata": "w0RsLvBMkz818jcYYuT5v1dGnme8fM8/wAA+viDF97+r46G/rE3Uv21hvXf15O6/ToC17ReiBUBVGMS8iS/hv99QZBySQfA/CU3aLvtXwj9WEF6sqrnoP+b4ML9R1QxA0hW2uhnj2D/sdzaiKkXpv6rwcbvw6vK/7/rElgWA2D9Wt7pBc6H7P16trUHE5tw/EYUZraul27/dl61XGKH1v4dLulHLaPm/HjW0H7g/AUDbMb1g7azyv3lvC4kxMMw/j6jThMnp8789rj+x6QLYPyMUl3aLMME/o9NixDpe+j+rDNv+tNTjv/xK5QqPN94/KH7Ff3xgAsDnLGTapDHwv9l+pG2jmgJAD0kvC//U3j8KD/ciZKDpv4feEyjne+k/bWksoAED2r+QhBMqNUjvv3dxMntWruW/9eOQ3aHr3z/zElu0hs31P5DQfLConf2/MKducZQx87/XWcK03prwP4odmrztSv8/heaK4pmEur8+43TXozjevzhKYMmPMuc/T+Nfz2wM8j95IMbOS1/Svw==",
          "dtype": "f8"
         }
        }
       ],
       "layout": {
        "height": 500,
        "plot_bgcolor": "grey",
        "template": {
         "data": {
          "bar": [
           {
            "error_x": {
             "color": "#2a3f5f"
            },
            "error_y": {
             "color": "#2a3f5f"
            },
            "marker": {
             "line": {
              "color": "#E5ECF6",
              "width": 0.5
             },
             "pattern": {
              "fillmode": "overlay",
              "size": 10,
              "solidity": 0.2
             }
            },
            "type": "bar"
           }
          ],
          "barpolar": [
           {
            "marker": {
             "line": {
              "color": "#E5ECF6",
              "width": 0.5
             },
             "pattern": {
              "fillmode": "overlay",
              "size": 10,
              "solidity": 0.2
             }
            },
            "type": "barpolar"
           }
          ],
          "carpet": [
           {
            "aaxis": {
             "endlinecolor": "#2a3f5f",
             "gridcolor": "white",
             "linecolor": "white",
             "minorgridcolor": "white",
             "startlinecolor": "#2a3f5f"
            },
            "baxis": {
             "endlinecolor": "#2a3f5f",
             "gridcolor": "white",
             "linecolor": "white",
             "minorgridcolor": "white",
             "startlinecolor": "#2a3f5f"
            },
            "type": "carpet"
           }
          ],
          "choropleth": [
           {
            "colorbar": {
             "outlinewidth": 0,
             "ticks": ""
            },
            "type": "choropleth"
           }
          ],
          "contour": [
           {
            "colorbar": {
             "outlinewidth": 0,
             "ticks": ""
            },
            "colorscale": [
             [
              0,
              "#0d0887"
             ],
             [
              0.1111111111111111,
              "#46039f"
             ],
             [
              0.2222222222222222,
              "#7201a8"
             ],
             [
              0.3333333333333333,
              "#9c179e"
             ],
             [
              0.4444444444444444,
              "#bd3786"
             ],
             [
              0.5555555555555556,
              "#d8576b"
             ],
             [
              0.6666666666666666,
              "#ed7953"
             ],
             [
              0.7777777777777778,
              "#fb9f3a"
             ],
             [
              0.8888888888888888,
              "#fdca26"
             ],
             [
              1,
              "#f0f921"
             ]
            ],
            "type": "contour"
           }
          ],
          "contourcarpet": [
           {
            "colorbar": {
             "outlinewidth": 0,
             "ticks": ""
            },
            "type": "contourcarpet"
           }
          ],
          "heatmap": [
           {
            "colorbar": {
             "outlinewidth": 0,
             "ticks": ""
            },
            "colorscale": [
             [
              0,
              "#0d0887"
             ],
             [
              0.1111111111111111,
              "#46039f"
             ],
             [
              0.2222222222222222,
              "#7201a8"
             ],
             [
              0.3333333333333333,
              "#9c179e"
             ],
             [
              0.4444444444444444,
              "#bd3786"
             ],
             [
              0.5555555555555556,
              "#d8576b"
             ],
             [
              0.6666666666666666,
              "#ed7953"
             ],
             [
              0.7777777777777778,
              "#fb9f3a"
             ],
             [
              0.8888888888888888,
              "#fdca26"
             ],
             [
              1,
              "#f0f921"
             ]
            ],
            "type": "heatmap"
           }
          ],
          "histogram": [
           {
            "marker": {
             "pattern": {
              "fillmode": "overlay",
              "size": 10,
              "solidity": 0.2
             }
            },
            "type": "histogram"
           }
          ],
          "histogram2d": [
           {
            "colorbar": {
             "outlinewidth": 0,
             "ticks": ""
            },
            "colorscale": [
             [
              0,
              "#0d0887"
             ],
             [
              0.1111111111111111,
              "#46039f"
             ],
             [
              0.2222222222222222,
              "#7201a8"
             ],
             [
              0.3333333333333333,
              "#9c179e"
             ],
             [
              0.4444444444444444,
              "#bd3786"
             ],
             [
              0.5555555555555556,
              "#d8576b"
             ],
             [
              0.6666666666666666,
              "#ed7953"
             ],
             [
              0.7777777777777778,
              "#fb9f3a"
             ],
             [
              0.8888888888888888,
              "#fdca26"
             ],
             [
              1,
              "#f0f921"
             ]
            ],
            "type": "histogram2d"
           }
          ],
          "histogram2dcontour": [
           {
            "colorbar": {
             "outlinewidth": 0,
             "ticks": ""
            },
            "colorscale": [
             [
              0,
              "#0d0887"
             ],
             [
              0.1111111111111111,
              "#46039f"
             ],
             [
              0.2222222222222222,
              "#7201a8"
             ],
             [
              0.3333333333333333,
              "#9c179e"
             ],
             [
              0.4444444444444444,
              "#bd3786"
             ],
             [
              0.5555555555555556,
              "#d8576b"
             ],
             [
              0.6666666666666666,
              "#ed7953"
             ],
             [
              0.7777777777777778,
              "#fb9f3a"
             ],
             [
              0.8888888888888888,
              "#fdca26"
             ],
             [
              1,
              "#f0f921"
             ]
            ],
            "type": "histogram2dcontour"
           }
          ],
          "mesh3d": [
           {
            "colorbar": {
             "outlinewidth": 0,
             "ticks": ""
            },
            "type": "mesh3d"
           }
          ],
          "parcoords": [
           {
            "line": {
             "colorbar": {
              "outlinewidth": 0,
              "ticks": ""
             }
            },
            "type": "parcoords"
           }
          ],
          "pie": [
           {
            "automargin": true,
            "type": "pie"
           }
          ],
          "scatter": [
           {
            "fillpattern": {
             "fillmode": "overlay",
             "size": 10,
             "solidity": 0.2
            },
            "type": "scatter"
           }
          ],
          "scatter3d": [
           {
            "line": {
             "colorbar": {
              "outlinewidth": 0,
              "ticks": ""
             }
            },
            "marker": {
             "colorbar": {
              "outlinewidth": 0,
              "ticks": ""
             }
            },
            "type": "scatter3d"
           }
          ],
          "scattercarpet": [
           {
            "marker": {
             "colorbar": {
              "outlinewidth": 0,
              "ticks": ""
             }
            },
            "type": "scattercarpet"
           }
          ],
          "scattergeo": [
           {
            "marker": {
             "colorbar": {
              "outlinewidth": 0,
              "ticks": ""
             }
            },
            "type": "scattergeo"
           }
          ],
          "scattergl": [
           {
            "marker": {
             "colorbar": {
              "outlinewidth": 0,
              "ticks": ""
             }
            },
            "type": "scattergl"
           }
          ],
          "scattermap": [
           {
            "marker": {
             "colorbar": {
              "outlinewidth": 0,
              "ticks": ""
             }
            },
            "type": "scattermap"
           }
          ],
          "scattermapbox": [
           {
            "marker": {
             "colorbar": {
              "outlinewidth": 0,
              "ticks": ""
             }
            },
            "type": "scattermapbox"
           }
          ],
          "scatterpolar": [
           {
            "marker": {
             "colorbar": {
              "outlinewidth": 0,
              "ticks": ""
             }
            },
            "type": "scatterpolar"
           }
          ],
          "scatterpolargl": [
           {
            "marker": {
             "colorbar": {
              "outlinewidth": 0,
              "ticks": ""
             }
            },
            "type": "scatterpolargl"
           }
          ],
          "scatterternary": [
           {
            "marker": {
             "colorbar": {
              "outlinewidth": 0,
              "ticks": ""
             }
            },
            "type": "scatterternary"
           }
          ],
          "surface": [
           {
            "colorbar": {
             "outlinewidth": 0,
             "ticks": ""
            },
            "colorscale": [
             [
              0,
              "#0d0887"
             ],
             [
              0.1111111111111111,
              "#46039f"
             ],
             [
              0.2222222222222222,
              "#7201a8"
             ],
             [
              0.3333333333333333,
              "#9c179e"
             ],
             [
              0.4444444444444444,
              "#bd3786"
             ],
             [
              0.5555555555555556,
              "#d8576b"
             ],
             [
              0.6666666666666666,
              "#ed7953"
             ],
             [
              0.7777777777777778,
              "#fb9f3a"
             ],
             [
              0.8888888888888888,
              "#fdca26"
             ],
             [
              1,
              "#f0f921"
             ]
            ],
            "type": "surface"
           }
          ],
          "table": [
           {
            "cells": {
             "fill": {
              "color": "#EBF0F8"
             },
             "line": {
              "color": "white"
             }
            },
            "header": {
             "fill": {
              "color": "#C8D4E3"
             },
             "line": {
              "color": "white"
             }
            },
            "type": "table"
           }
          ]
         },
         "layout": {
          "annotationdefaults": {
           "arrowcolor": "#2a3f5f",
           "arrowhead": 0,
           "arrowwidth": 1
          },
          "autotypenumbers": "strict",
          "coloraxis": {
           "colorbar": {
            "outlinewidth": 0,
            "ticks": ""
           }
          },
          "colorscale": {
           "diverging": [
            [
             0,
             "#8e0152"
            ],
            [
             0.1,
             "#c51b7d"
            ],
            [
             0.2,
             "#de77ae"
            ],
            [
             0.3,
             "#f1b6da"
            ],
            [
             0.4,
             "#fde0ef"
            ],
            [
             0.5,
             "#f7f7f7"
            ],
            [
             0.6,
             "#e6f5d0"
            ],
            [
             0.7,
             "#b8e186"
            ],
            [
             0.8,
             "#7fbc41"
            ],
            [
             0.9,
             "#4d9221"
            ],
            [
             1,
             "#276419"
            ]
           ],
           "sequential": [
            [
             0,
             "#0d0887"
            ],
            [
             0.1111111111111111,
             "#46039f"
            ],
            [
             0.2222222222222222,
             "#7201a8"
            ],
            [
             0.3333333333333333,
             "#9c179e"
            ],
            [
             0.4444444444444444,
             "#bd3786"
            ],
            [
             0.5555555555555556,
             "#d8576b"
            ],
            [
             0.6666666666666666,
             "#ed7953"
            ],
            [
             0.7777777777777778,
             "#fb9f3a"
            ],
            [
             0.8888888888888888,
             "#fdca26"
            ],
            [
             1,
             "#f0f921"
            ]
           ],
           "sequentialminus": [
            [
             0,
             "#0d0887"
            ],
            [
             0.1111111111111111,
             "#46039f"
            ],
            [
             0.2222222222222222,
             "#7201a8"
            ],
            [
             0.3333333333333333,
             "#9c179e"
            ],
            [
             0.4444444444444444,
             "#bd3786"
            ],
            [
             0.5555555555555556,
             "#d8576b"
            ],
            [
             0.6666666666666666,
             "#ed7953"
            ],
            [
             0.7777777777777778,
             "#fb9f3a"
            ],
            [
             0.8888888888888888,
             "#fdca26"
            ],
            [
             1,
             "#f0f921"
            ]
           ]
          },
          "colorway": [
           "#636efa",
           "#EF553B",
           "#00cc96",
           "#ab63fa",
           "#FFA15A",
           "#19d3f3",
           "#FF6692",
           "#B6E880",
           "#FF97FF",
           "#FECB52"
          ],
          "font": {
           "color": "#2a3f5f"
          },
          "geo": {
           "bgcolor": "white",
           "lakecolor": "white",
           "landcolor": "#E5ECF6",
           "showlakes": true,
           "showland": true,
           "subunitcolor": "white"
          },
          "hoverlabel": {
           "align": "left"
          },
          "hovermode": "closest",
          "mapbox": {
           "style": "light"
          },
          "paper_bgcolor": "white",
          "plot_bgcolor": "#E5ECF6",
          "polar": {
           "angularaxis": {
            "gridcolor": "white",
            "linecolor": "white",
            "ticks": ""
           },
           "bgcolor": "#E5ECF6",
           "radialaxis": {
            "gridcolor": "white",
            "linecolor": "white",
            "ticks": ""
           }
          },
          "scene": {
           "xaxis": {
            "backgroundcolor": "#E5ECF6",
            "gridcolor": "white",
            "gridwidth": 2,
            "linecolor": "white",
            "showbackground": true,
            "ticks": "",
            "zerolinecolor": "white"
           },
           "yaxis": {
            "backgroundcolor": "#E5ECF6",
            "gridcolor": "white",
            "gridwidth": 2,
            "linecolor": "white",
            "showbackground": true,
            "ticks": "",
            "zerolinecolor": "white"
           },
           "zaxis": {
            "backgroundcolor": "#E5ECF6",
            "gridcolor": "white",
            "gridwidth": 2,
            "linecolor": "white",
            "showbackground": true,
            "ticks": "",
            "zerolinecolor": "white"
           }
          },
          "shapedefaults": {
           "line": {
            "color": "#2a3f5f"
           }
          },
          "ternary": {
           "aaxis": {
            "gridcolor": "white",
            "linecolor": "white",
            "ticks": ""
           },
           "baxis": {
            "gridcolor": "white",
            "linecolor": "white",
            "ticks": ""
           },
           "bgcolor": "#E5ECF6",
           "caxis": {
            "gridcolor": "white",
            "linecolor": "white",
            "ticks": ""
           }
          },
          "title": {
           "x": 0.05
          },
          "xaxis": {
           "automargin": true,
           "gridcolor": "white",
           "linecolor": "white",
           "ticks": "",
           "title": {
            "standoff": 15
           },
           "zerolinecolor": "white",
           "zerolinewidth": 2
          },
          "yaxis": {
           "automargin": true,
           "gridcolor": "white",
           "linecolor": "white",
           "ticks": "",
           "title": {
            "standoff": 15
           },
           "zerolinecolor": "white",
           "zerolinewidth": 2
          }
         }
        },
        "title": {
         "text": "scatter plot"
        },
        "width": 800,
        "xaxis": {
         "showgrid": true,
         "title": {
          "text": "x"
         },
         "zeroline": true
        },
        "yaxis": {
         "showgrid": true,
         "title": {
          "text": "y"
         },
         "zeroline": true
        }
       }
      },
      "image/png": "[encoded data removed]",
      "text/html": [
       "<div>            <script src=\"https://cdnjs.cloudflare.com/ajax/libs/mathjax/2.7.5/MathJax.js?config=TeX-AMS-MML_SVG\"></script><script type=\"text/javascript\">if (window.MathJax && window.MathJax.Hub && window.MathJax.Hub.Config) {window.MathJax.Hub.Config({SVG: {font: \"STIX-Web\"}});}</script>                <script type=\"text/javascript\">window.PlotlyConfig = {MathJaxConfig: 'local'};</script>\n",
       "        <script charset=\"utf-8\" src=\"https://cdn.plot.ly/plotly-3.0.1.min.js\"></script>                <div id=\"4d518604-e013-4c29-8612-58ccfee932ed\" class=\"plotly-graph-div\" style=\"height:500px; width:800px;\"></div>            <script type=\"text/javascript\">                window.PLOTLYENV=window.PLOTLYENV || {};                                if (document.getElementById(\"4d518604-e013-4c29-8612-58ccfee932ed\")) {                    Plotly.newPlot(                        \"4d518604-e013-4c29-8612-58ccfee932ed\",                        [{\"marker\":{\"color\":\"rgba(255, 153, 51, 1.0)\"},\"mode\":\"markers\",\"x\":{\"dtype\":\"f8\",\"bdata\":\"Biat6\\u002fWP6r9xvyw1sKrUP1yPkZ30w+E\\u002fkP6gbyNA4T90Z5pq68fSP4R4kVQtNfG\\u002fz2qvbWLe2D+s6sQDcejqvzJ+SzCAsME\\u002foak3nj\\u002fd67+S3uK7IHGuP3YY571r2OK\\u002fNzF76Tq03z+Rbl3Fp2XevxI9uf\\u002fU\\u002fNe\\u002fhMCe4w8h8j+DEhKoCyXgP4ABlBa+P+W\\u002fjI1quXzt27\\u002fDInYHfRjnP022ugd\\u002fW\\u002fa\\u002fsqQmNYdHAUBOkWiHyUy7v++Mxc9\\u002fFPk\\u002fkdU+CPLS07\\u002f4eJic0cnSP97kVy797aU\\u002fGSo\\u002fpDcG+D8ZJOlzqvfXP433NOnMffA\\u002fwbumxLUE0L8GQPUdxh3RPyNKcGgoFri\\u002fcnwjkxmv2L8pzeaxBAO9P64rT13qq+4\\u002fWx2nYF0I4T886gxopNHxPxY5kYnLlfG\\u002fiAmUfCJG6T+EZstOs5z+P7mk8zOOY7k\\u002fhzgf2+f05L\\u002fHFGACHsHgP4tW8b0tGfW\\u002fQPy4l2E\\u002fCUAPerOUy6zHvy3qXJGokeE\\u002f8Wc\\u002frqwA8b+V+xTx2fHCvw==\"},\"y\":{\"dtype\":\"f8\",\"bdata\":\"w0RsLvBMkz818jcYYuT5v1dGnme8fM8\\u002fwAA+viDF97+r46G\\u002frE3Uv21hvXf15O6\\u002fToC17ReiBUBVGMS8iS\\u002fhv99QZBySQfA\\u002fCU3aLvtXwj9WEF6sqrnoP+b4ML9R1QxA0hW2uhnj2D\\u002fsdzaiKkXpv6rwcbvw6vK\\u002f7\\u002frElgWA2D9Wt7pBc6H7P16trUHE5tw\\u002fEYUZraul27\\u002fdl61XGKH1v4dLulHLaPm\\u002fHjW0H7g\\u002fAUDbMb1g7azyv3lvC4kxMMw\\u002fj6jThMnp8789rj+x6QLYPyMUl3aLMME\\u002fo9NixDpe+j+rDNv+tNTjv\\u002fxK5QqPN94\\u002fKH7Ff3xgAsDnLGTapDHwv9l+pG2jmgJAD0kvC\\u002f\\u002fU3j8KD\\u002fciZKDpv4feEyjne+k\\u002fbWksoAED2r+QhBMqNUjvv3dxMntWruW\\u002f9eOQ3aHr3z\\u002fzElu0hs31P5DQfLConf2\\u002fMKducZQx87\\u002fXWcK03prwP4odmrztSv8\\u002fheaK4pmEur8+43TXozjevzhKYMmPMuc\\u002fT+Nfz2wM8j95IMbOS1\\u002fSvw==\"},\"type\":\"scatter\"}],                        {\"height\":500,\"plot_bgcolor\":\"grey\",\"template\":{\"data\":{\"barpolar\":[{\"marker\":{\"line\":{\"color\":\"#E5ECF6\",\"width\":0.5},\"pattern\":{\"fillmode\":\"overlay\",\"size\":10,\"solidity\":0.2}},\"type\":\"barpolar\"}],\"bar\":[{\"error_x\":{\"color\":\"#2a3f5f\"},\"error_y\":{\"color\":\"#2a3f5f\"},\"marker\":{\"line\":{\"color\":\"#E5ECF6\",\"width\":0.5},\"pattern\":{\"fillmode\":\"overlay\",\"size\":10,\"solidity\":0.2}},\"type\":\"bar\"}],\"carpet\":[{\"aaxis\":{\"endlinecolor\":\"#2a3f5f\",\"gridcolor\":\"white\",\"linecolor\":\"white\",\"minorgridcolor\":\"white\",\"startlinecolor\":\"#2a3f5f\"},\"baxis\":{\"endlinecolor\":\"#2a3f5f\",\"gridcolor\":\"white\",\"linecolor\":\"white\",\"minorgridcolor\":\"white\",\"startlinecolor\":\"#2a3f5f\"},\"type\":\"carpet\"}],\"choropleth\":[{\"colorbar\":{\"outlinewidth\":0,\"ticks\":\"\"},\"type\":\"choropleth\"}],\"contourcarpet\":[{\"colorbar\":{\"outlinewidth\":0,\"ticks\":\"\"},\"type\":\"contourcarpet\"}],\"contour\":[{\"colorbar\":{\"outlinewidth\":0,\"ticks\":\"\"},\"colorscale\":[[0.0,\"#0d0887\"],[0.1111111111111111,\"#46039f\"],[0.2222222222222222,\"#7201a8\"],[0.3333333333333333,\"#9c179e\"],[0.4444444444444444,\"#bd3786\"],[0.5555555555555556,\"#d8576b\"],[0.6666666666666666,\"#ed7953\"],[0.7777777777777778,\"#fb9f3a\"],[0.8888888888888888,\"#fdca26\"],[1.0,\"#f0f921\"]],\"type\":\"contour\"}],\"heatmap\":[{\"colorbar\":{\"outlinewidth\":0,\"ticks\":\"\"},\"colorscale\":[[0.0,\"#0d0887\"],[0.1111111111111111,\"#46039f\"],[0.2222222222222222,\"#7201a8\"],[0.3333333333333333,\"#9c179e\"],[0.4444444444444444,\"#bd3786\"],[0.5555555555555556,\"#d8576b\"],[0.6666666666666666,\"#ed7953\"],[0.7777777777777778,\"#fb9f3a\"],[0.8888888888888888,\"#fdca26\"],[1.0,\"#f0f921\"]],\"type\":\"heatmap\"}],\"histogram2dcontour\":[{\"colorbar\":{\"outlinewidth\":0,\"ticks\":\"\"},\"colorscale\":[[0.0,\"#0d0887\"],[0.1111111111111111,\"#46039f\"],[0.2222222222222222,\"#7201a8\"],[0.3333333333333333,\"#9c179e\"],[0.4444444444444444,\"#bd3786\"],[0.5555555555555556,\"#d8576b\"],[0.6666666666666666,\"#ed7953\"],[0.7777777777777778,\"#fb9f3a\"],[0.8888888888888888,\"#fdca26\"],[1.0,\"#f0f921\"]],\"type\":\"histogram2dcontour\"}],\"histogram2d\":[{\"colorbar\":{\"outlinewidth\":0,\"ticks\":\"\"},\"colorscale\":[[0.0,\"#0d0887\"],[0.1111111111111111,\"#46039f\"],[0.2222222222222222,\"#7201a8\"],[0.3333333333333333,\"#9c179e\"],[0.4444444444444444,\"#bd3786\"],[0.5555555555555556,\"#d8576b\"],[0.6666666666666666,\"#ed7953\"],[0.7777777777777778,\"#fb9f3a\"],[0.8888888888888888,\"#fdca26\"],[1.0,\"#f0f921\"]],\"type\":\"histogram2d\"}],\"histogram\":[{\"marker\":{\"pattern\":{\"fillmode\":\"overlay\",\"size\":10,\"solidity\":0.2}},\"type\":\"histogram\"}],\"mesh3d\":[{\"colorbar\":{\"outlinewidth\":0,\"ticks\":\"\"},\"type\":\"mesh3d\"}],\"parcoords\":[{\"line\":{\"colorbar\":{\"outlinewidth\":0,\"ticks\":\"\"}},\"type\":\"parcoords\"}],\"pie\":[{\"automargin\":true,\"type\":\"pie\"}],\"scatter3d\":[{\"line\":{\"colorbar\":{\"outlinewidth\":0,\"ticks\":\"\"}},\"marker\":{\"colorbar\":{\"outlinewidth\":0,\"ticks\":\"\"}},\"type\":\"scatter3d\"}],\"scattercarpet\":[{\"marker\":{\"colorbar\":{\"outlinewidth\":0,\"ticks\":\"\"}},\"type\":\"scattercarpet\"}],\"scattergeo\":[{\"marker\":{\"colorbar\":{\"outlinewidth\":0,\"ticks\":\"\"}},\"type\":\"scattergeo\"}],\"scattergl\":[{\"marker\":{\"colorbar\":{\"outlinewidth\":0,\"ticks\":\"\"}},\"type\":\"scattergl\"}],\"scattermapbox\":[{\"marker\":{\"colorbar\":{\"outlinewidth\":0,\"ticks\":\"\"}},\"type\":\"scattermapbox\"}],\"scattermap\":[{\"marker\":{\"colorbar\":{\"outlinewidth\":0,\"ticks\":\"\"}},\"type\":\"scattermap\"}],\"scatterpolargl\":[{\"marker\":{\"colorbar\":{\"outlinewidth\":0,\"ticks\":\"\"}},\"type\":\"scatterpolargl\"}],\"scatterpolar\":[{\"marker\":{\"colorbar\":{\"outlinewidth\":0,\"ticks\":\"\"}},\"type\":\"scatterpolar\"}],\"scatter\":[{\"fillpattern\":{\"fillmode\":\"overlay\",\"size\":10,\"solidity\":0.2},\"type\":\"scatter\"}],\"scatterternary\":[{\"marker\":{\"colorbar\":{\"outlinewidth\":0,\"ticks\":\"\"}},\"type\":\"scatterternary\"}],\"surface\":[{\"colorbar\":{\"outlinewidth\":0,\"ticks\":\"\"},\"colorscale\":[[0.0,\"#0d0887\"],[0.1111111111111111,\"#46039f\"],[0.2222222222222222,\"#7201a8\"],[0.3333333333333333,\"#9c179e\"],[0.4444444444444444,\"#bd3786\"],[0.5555555555555556,\"#d8576b\"],[0.6666666666666666,\"#ed7953\"],[0.7777777777777778,\"#fb9f3a\"],[0.8888888888888888,\"#fdca26\"],[1.0,\"#f0f921\"]],\"type\":\"surface\"}],\"table\":[{\"cells\":{\"fill\":{\"color\":\"#EBF0F8\"},\"line\":{\"color\":\"white\"}},\"header\":{\"fill\":{\"color\":\"#C8D4E3\"},\"line\":{\"color\":\"white\"}},\"type\":\"table\"}]},\"layout\":{\"annotationdefaults\":{\"arrowcolor\":\"#2a3f5f\",\"arrowhead\":0,\"arrowwidth\":1},\"autotypenumbers\":\"strict\",\"coloraxis\":{\"colorbar\":{\"outlinewidth\":0,\"ticks\":\"\"}},\"colorscale\":{\"diverging\":[[0,\"#8e0152\"],[0.1,\"#c51b7d\"],[0.2,\"#de77ae\"],[0.3,\"#f1b6da\"],[0.4,\"#fde0ef\"],[0.5,\"#f7f7f7\"],[0.6,\"#e6f5d0\"],[0.7,\"#b8e186\"],[0.8,\"#7fbc41\"],[0.9,\"#4d9221\"],[1,\"#276419\"]],\"sequential\":[[0.0,\"#0d0887\"],[0.1111111111111111,\"#46039f\"],[0.2222222222222222,\"#7201a8\"],[0.3333333333333333,\"#9c179e\"],[0.4444444444444444,\"#bd3786\"],[0.5555555555555556,\"#d8576b\"],[0.6666666666666666,\"#ed7953\"],[0.7777777777777778,\"#fb9f3a\"],[0.8888888888888888,\"#fdca26\"],[1.0,\"#f0f921\"]],\"sequentialminus\":[[0.0,\"#0d0887\"],[0.1111111111111111,\"#46039f\"],[0.2222222222222222,\"#7201a8\"],[0.3333333333333333,\"#9c179e\"],[0.4444444444444444,\"#bd3786\"],[0.5555555555555556,\"#d8576b\"],[0.6666666666666666,\"#ed7953\"],[0.7777777777777778,\"#fb9f3a\"],[0.8888888888888888,\"#fdca26\"],[1.0,\"#f0f921\"]]},\"colorway\":[\"#636efa\",\"#EF553B\",\"#00cc96\",\"#ab63fa\",\"#FFA15A\",\"#19d3f3\",\"#FF6692\",\"#B6E880\",\"#FF97FF\",\"#FECB52\"],\"font\":{\"color\":\"#2a3f5f\"},\"geo\":{\"bgcolor\":\"white\",\"lakecolor\":\"white\",\"landcolor\":\"#E5ECF6\",\"showlakes\":true,\"showland\":true,\"subunitcolor\":\"white\"},\"hoverlabel\":{\"align\":\"left\"},\"hovermode\":\"closest\",\"mapbox\":{\"style\":\"light\"},\"paper_bgcolor\":\"white\",\"plot_bgcolor\":\"#E5ECF6\",\"polar\":{\"angularaxis\":{\"gridcolor\":\"white\",\"linecolor\":\"white\",\"ticks\":\"\"},\"bgcolor\":\"#E5ECF6\",\"radialaxis\":{\"gridcolor\":\"white\",\"linecolor\":\"white\",\"ticks\":\"\"}},\"scene\":{\"xaxis\":{\"backgroundcolor\":\"#E5ECF6\",\"gridcolor\":\"white\",\"gridwidth\":2,\"linecolor\":\"white\",\"showbackground\":true,\"ticks\":\"\",\"zerolinecolor\":\"white\"},\"yaxis\":{\"backgroundcolor\":\"#E5ECF6\",\"gridcolor\":\"white\",\"gridwidth\":2,\"linecolor\":\"white\",\"showbackground\":true,\"ticks\":\"\",\"zerolinecolor\":\"white\"},\"zaxis\":{\"backgroundcolor\":\"#E5ECF6\",\"gridcolor\":\"white\",\"gridwidth\":2,\"linecolor\":\"white\",\"showbackground\":true,\"ticks\":\"\",\"zerolinecolor\":\"white\"}},\"shapedefaults\":{\"line\":{\"color\":\"#2a3f5f\"}},\"ternary\":{\"aaxis\":{\"gridcolor\":\"white\",\"linecolor\":\"white\",\"ticks\":\"\"},\"baxis\":{\"gridcolor\":\"white\",\"linecolor\":\"white\",\"ticks\":\"\"},\"bgcolor\":\"#E5ECF6\",\"caxis\":{\"gridcolor\":\"white\",\"linecolor\":\"white\",\"ticks\":\"\"}},\"title\":{\"x\":0.05},\"xaxis\":{\"automargin\":true,\"gridcolor\":\"white\",\"linecolor\":\"white\",\"ticks\":\"\",\"title\":{\"standoff\":15},\"zerolinecolor\":\"white\",\"zerolinewidth\":2},\"yaxis\":{\"automargin\":true,\"gridcolor\":\"white\",\"linecolor\":\"white\",\"ticks\":\"\",\"title\":{\"standoff\":15},\"zerolinecolor\":\"white\",\"zerolinewidth\":2}}},\"title\":{\"text\":\"scatter plot\"},\"width\":800,\"xaxis\":{\"showgrid\":true,\"title\":{\"text\":\"x\"},\"zeroline\":true},\"yaxis\":{\"showgrid\":true,\"title\":{\"text\":\"y\"},\"zeroline\":true}},                        {\"responsive\": true}                    ).then(function(){\n",
       "                            \n",
       "var gd = document.getElementById('4d518604-e013-4c29-8612-58ccfee932ed');\n",
       "var x = new MutationObserver(function (mutations, observer) {{\n",
       "        var display = window.getComputedStyle(gd).display;\n",
       "        if (!display || display === 'none') {{\n",
       "            console.log([gd, 'removed!']);\n",
       "            Plotly.purge(gd);\n",
       "            observer.disconnect();\n",
       "        }}\n",
       "}});\n",
       "\n",
       "// Listen for the removal of the full notebook cells\n",
       "var notebookContainer = gd.closest('#notebook-container');\n",
       "if (notebookContainer) {{\n",
       "    x.observe(notebookContainer, {childList: true});\n",
       "}}\n",
       "\n",
       "// Listen for the clearing of the current output cell\n",
       "var outputEl = gd.closest('.output');\n",
       "if (outputEl) {{\n",
       "    x.observe(outputEl, {childList: true});\n",
       "}}\n",
       "\n",
       "                        })                };            </script>        </div>"
      ]
     },
     "metadata": {},
     "output_type": "display_data"
    }
   ],
   "source": [
    "\n",
    "df = pd.DataFrame({\n",
    "    'A': np.random.randn(50),\n",
    "    'B': np.random.randn(50)\n",
    "})\n",
    "\n",
    "alpha = np.float64(1.0)\n",
    "alpha_float = float(alpha)\n",
    "\n",
    "color_str = f'rgba(255, 153, 51, {alpha_float})'\n",
    "print(color_str)  # rgba(255, 153, 51, 1.0)\n",
    "\n",
    "trace = go.Scatter(\n",
    "    x=df['A'],\n",
    "    y=df['B'],\n",
    "    mode='markers',\n",
    "    marker=dict(color=color_str)\n",
    ")\n",
    "\n",
    "layout = go.Layout(\n",
    "    title='scatter plot',\n",
    "    xaxis=dict(title='x', showgrid=True, zeroline=True),\n",
    "    yaxis=dict(title='y', showgrid=True, zeroline=True),\n",
    "    plot_bgcolor='grey',\n",
    "    width=800,\n",
    "    height=500\n",
    ")\n",
    "\n",
    "fig = go.Figure(data=[trace], layout=layout)\n",
    "pyo.iplot(fig)\n",
    "\n"
   ]
  },
  {
   "cell_type": "code",
   "execution_count": 127,
   "id": "5d5a791e-4c52-4302-88b7-cf4116069390",
   "metadata": {},
   "outputs": [
    {
     "data": {
      "application/vnd.plotly.v1+json": {
       "config": {
        "plotlyServerURL": "https://plot.ly"
       },
       "data": [
        {
         "marker": {
          "color": "rgba(255, 153, 51, 1.0)"
         },
         "name": "A",
         "type": "box",
         "y": {
          "bdata": "Biat6/WP6r9xvyw1sKrUP1yPkZ30w+E/kP6gbyNA4T90Z5pq68fSP4R4kVQtNfG/z2qvbWLe2D+s6sQDcejqvzJ+SzCAsME/oak3nj/d67+S3uK7IHGuP3YY571r2OK/NzF76Tq03z+Rbl3Fp2XevxI9uf/U/Ne/hMCe4w8h8j+DEhKoCyXgP4ABlBa+P+W/jI1quXzt27/DInYHfRjnP022ugd/W/a/sqQmNYdHAUBOkWiHyUy7v++Mxc9/FPk/kdU+CPLS07/4eJic0cnSP97kVy797aU/GSo/pDcG+D8ZJOlzqvfXP433NOnMffA/wbumxLUE0L8GQPUdxh3RPyNKcGgoFri/cnwjkxmv2L8pzeaxBAO9P64rT13qq+4/Wx2nYF0I4T886gxopNHxPxY5kYnLlfG/iAmUfCJG6T+EZstOs5z+P7mk8zOOY7k/hzgf2+f05L/HFGACHsHgP4tW8b0tGfW/QPy4l2E/CUAPerOUy6zHvy3qXJGokeE/8Wc/rqwA8b+V+xTx2fHCvw==",
          "dtype": "f8"
         }
        },
        {
         "marker": {
          "color": "rgba(255, 153, 51, 1.0)"
         },
         "name": "B",
         "type": "box",
         "y": {
          "bdata": "w0RsLvBMkz818jcYYuT5v1dGnme8fM8/wAA+viDF97+r46G/rE3Uv21hvXf15O6/ToC17ReiBUBVGMS8iS/hv99QZBySQfA/CU3aLvtXwj9WEF6sqrnoP+b4ML9R1QxA0hW2uhnj2D/sdzaiKkXpv6rwcbvw6vK/7/rElgWA2D9Wt7pBc6H7P16trUHE5tw/EYUZraul27/dl61XGKH1v4dLulHLaPm/HjW0H7g/AUDbMb1g7azyv3lvC4kxMMw/j6jThMnp8789rj+x6QLYPyMUl3aLMME/o9NixDpe+j+rDNv+tNTjv/xK5QqPN94/KH7Ff3xgAsDnLGTapDHwv9l+pG2jmgJAD0kvC//U3j8KD/ciZKDpv4feEyjne+k/bWksoAED2r+QhBMqNUjvv3dxMntWruW/9eOQ3aHr3z/zElu0hs31P5DQfLConf2/MKducZQx87/XWcK03prwP4odmrztSv8/heaK4pmEur8+43TXozjevzhKYMmPMuc/T+Nfz2wM8j95IMbOS1/Svw==",
          "dtype": "f8"
         }
        }
       ],
       "layout": {
        "height": 500,
        "plot_bgcolor": "rgba(230,230,250, 0.5)",
        "template": {
         "data": {
          "bar": [
           {
            "error_x": {
             "color": "#2a3f5f"
            },
            "error_y": {
             "color": "#2a3f5f"
            },
            "marker": {
             "line": {
              "color": "#E5ECF6",
              "width": 0.5
             },
             "pattern": {
              "fillmode": "overlay",
              "size": 10,
              "solidity": 0.2
             }
            },
            "type": "bar"
           }
          ],
          "barpolar": [
           {
            "marker": {
             "line": {
              "color": "#E5ECF6",
              "width": 0.5
             },
             "pattern": {
              "fillmode": "overlay",
              "size": 10,
              "solidity": 0.2
             }
            },
            "type": "barpolar"
           }
          ],
          "carpet": [
           {
            "aaxis": {
             "endlinecolor": "#2a3f5f",
             "gridcolor": "white",
             "linecolor": "white",
             "minorgridcolor": "white",
             "startlinecolor": "#2a3f5f"
            },
            "baxis": {
             "endlinecolor": "#2a3f5f",
             "gridcolor": "white",
             "linecolor": "white",
             "minorgridcolor": "white",
             "startlinecolor": "#2a3f5f"
            },
            "type": "carpet"
           }
          ],
          "choropleth": [
           {
            "colorbar": {
             "outlinewidth": 0,
             "ticks": ""
            },
            "type": "choropleth"
           }
          ],
          "contour": [
           {
            "colorbar": {
             "outlinewidth": 0,
             "ticks": ""
            },
            "colorscale": [
             [
              0,
              "#0d0887"
             ],
             [
              0.1111111111111111,
              "#46039f"
             ],
             [
              0.2222222222222222,
              "#7201a8"
             ],
             [
              0.3333333333333333,
              "#9c179e"
             ],
             [
              0.4444444444444444,
              "#bd3786"
             ],
             [
              0.5555555555555556,
              "#d8576b"
             ],
             [
              0.6666666666666666,
              "#ed7953"
             ],
             [
              0.7777777777777778,
              "#fb9f3a"
             ],
             [
              0.8888888888888888,
              "#fdca26"
             ],
             [
              1,
              "#f0f921"
             ]
            ],
            "type": "contour"
           }
          ],
          "contourcarpet": [
           {
            "colorbar": {
             "outlinewidth": 0,
             "ticks": ""
            },
            "type": "contourcarpet"
           }
          ],
          "heatmap": [
           {
            "colorbar": {
             "outlinewidth": 0,
             "ticks": ""
            },
            "colorscale": [
             [
              0,
              "#0d0887"
             ],
             [
              0.1111111111111111,
              "#46039f"
             ],
             [
              0.2222222222222222,
              "#7201a8"
             ],
             [
              0.3333333333333333,
              "#9c179e"
             ],
             [
              0.4444444444444444,
              "#bd3786"
             ],
             [
              0.5555555555555556,
              "#d8576b"
             ],
             [
              0.6666666666666666,
              "#ed7953"
             ],
             [
              0.7777777777777778,
              "#fb9f3a"
             ],
             [
              0.8888888888888888,
              "#fdca26"
             ],
             [
              1,
              "#f0f921"
             ]
            ],
            "type": "heatmap"
           }
          ],
          "histogram": [
           {
            "marker": {
             "pattern": {
              "fillmode": "overlay",
              "size": 10,
              "solidity": 0.2
             }
            },
            "type": "histogram"
           }
          ],
          "histogram2d": [
           {
            "colorbar": {
             "outlinewidth": 0,
             "ticks": ""
            },
            "colorscale": [
             [
              0,
              "#0d0887"
             ],
             [
              0.1111111111111111,
              "#46039f"
             ],
             [
              0.2222222222222222,
              "#7201a8"
             ],
             [
              0.3333333333333333,
              "#9c179e"
             ],
             [
              0.4444444444444444,
              "#bd3786"
             ],
             [
              0.5555555555555556,
              "#d8576b"
             ],
             [
              0.6666666666666666,
              "#ed7953"
             ],
             [
              0.7777777777777778,
              "#fb9f3a"
             ],
             [
              0.8888888888888888,
              "#fdca26"
             ],
             [
              1,
              "#f0f921"
             ]
            ],
            "type": "histogram2d"
           }
          ],
          "histogram2dcontour": [
           {
            "colorbar": {
             "outlinewidth": 0,
             "ticks": ""
            },
            "colorscale": [
             [
              0,
              "#0d0887"
             ],
             [
              0.1111111111111111,
              "#46039f"
             ],
             [
              0.2222222222222222,
              "#7201a8"
             ],
             [
              0.3333333333333333,
              "#9c179e"
             ],
             [
              0.4444444444444444,
              "#bd3786"
             ],
             [
              0.5555555555555556,
              "#d8576b"
             ],
             [
              0.6666666666666666,
              "#ed7953"
             ],
             [
              0.7777777777777778,
              "#fb9f3a"
             ],
             [
              0.8888888888888888,
              "#fdca26"
             ],
             [
              1,
              "#f0f921"
             ]
            ],
            "type": "histogram2dcontour"
           }
          ],
          "mesh3d": [
           {
            "colorbar": {
             "outlinewidth": 0,
             "ticks": ""
            },
            "type": "mesh3d"
           }
          ],
          "parcoords": [
           {
            "line": {
             "colorbar": {
              "outlinewidth": 0,
              "ticks": ""
             }
            },
            "type": "parcoords"
           }
          ],
          "pie": [
           {
            "automargin": true,
            "type": "pie"
           }
          ],
          "scatter": [
           {
            "fillpattern": {
             "fillmode": "overlay",
             "size": 10,
             "solidity": 0.2
            },
            "type": "scatter"
           }
          ],
          "scatter3d": [
           {
            "line": {
             "colorbar": {
              "outlinewidth": 0,
              "ticks": ""
             }
            },
            "marker": {
             "colorbar": {
              "outlinewidth": 0,
              "ticks": ""
             }
            },
            "type": "scatter3d"
           }
          ],
          "scattercarpet": [
           {
            "marker": {
             "colorbar": {
              "outlinewidth": 0,
              "ticks": ""
             }
            },
            "type": "scattercarpet"
           }
          ],
          "scattergeo": [
           {
            "marker": {
             "colorbar": {
              "outlinewidth": 0,
              "ticks": ""
             }
            },
            "type": "scattergeo"
           }
          ],
          "scattergl": [
           {
            "marker": {
             "colorbar": {
              "outlinewidth": 0,
              "ticks": ""
             }
            },
            "type": "scattergl"
           }
          ],
          "scattermap": [
           {
            "marker": {
             "colorbar": {
              "outlinewidth": 0,
              "ticks": ""
             }
            },
            "type": "scattermap"
           }
          ],
          "scattermapbox": [
           {
            "marker": {
             "colorbar": {
              "outlinewidth": 0,
              "ticks": ""
             }
            },
            "type": "scattermapbox"
           }
          ],
          "scatterpolar": [
           {
            "marker": {
             "colorbar": {
              "outlinewidth": 0,
              "ticks": ""
             }
            },
            "type": "scatterpolar"
           }
          ],
          "scatterpolargl": [
           {
            "marker": {
             "colorbar": {
              "outlinewidth": 0,
              "ticks": ""
             }
            },
            "type": "scatterpolargl"
           }
          ],
          "scatterternary": [
           {
            "marker": {
             "colorbar": {
              "outlinewidth": 0,
              "ticks": ""
             }
            },
            "type": "scatterternary"
           }
          ],
          "surface": [
           {
            "colorbar": {
             "outlinewidth": 0,
             "ticks": ""
            },
            "colorscale": [
             [
              0,
              "#0d0887"
             ],
             [
              0.1111111111111111,
              "#46039f"
             ],
             [
              0.2222222222222222,
              "#7201a8"
             ],
             [
              0.3333333333333333,
              "#9c179e"
             ],
             [
              0.4444444444444444,
              "#bd3786"
             ],
             [
              0.5555555555555556,
              "#d8576b"
             ],
             [
              0.6666666666666666,
              "#ed7953"
             ],
             [
              0.7777777777777778,
              "#fb9f3a"
             ],
             [
              0.8888888888888888,
              "#fdca26"
             ],
             [
              1,
              "#f0f921"
             ]
            ],
            "type": "surface"
           }
          ],
          "table": [
           {
            "cells": {
             "fill": {
              "color": "#EBF0F8"
             },
             "line": {
              "color": "white"
             }
            },
            "header": {
             "fill": {
              "color": "#C8D4E3"
             },
             "line": {
              "color": "white"
             }
            },
            "type": "table"
           }
          ]
         },
         "layout": {
          "annotationdefaults": {
           "arrowcolor": "#2a3f5f",
           "arrowhead": 0,
           "arrowwidth": 1
          },
          "autotypenumbers": "strict",
          "coloraxis": {
           "colorbar": {
            "outlinewidth": 0,
            "ticks": ""
           }
          },
          "colorscale": {
           "diverging": [
            [
             0,
             "#8e0152"
            ],
            [
             0.1,
             "#c51b7d"
            ],
            [
             0.2,
             "#de77ae"
            ],
            [
             0.3,
             "#f1b6da"
            ],
            [
             0.4,
             "#fde0ef"
            ],
            [
             0.5,
             "#f7f7f7"
            ],
            [
             0.6,
             "#e6f5d0"
            ],
            [
             0.7,
             "#b8e186"
            ],
            [
             0.8,
             "#7fbc41"
            ],
            [
             0.9,
             "#4d9221"
            ],
            [
             1,
             "#276419"
            ]
           ],
           "sequential": [
            [
             0,
             "#0d0887"
            ],
            [
             0.1111111111111111,
             "#46039f"
            ],
            [
             0.2222222222222222,
             "#7201a8"
            ],
            [
             0.3333333333333333,
             "#9c179e"
            ],
            [
             0.4444444444444444,
             "#bd3786"
            ],
            [
             0.5555555555555556,
             "#d8576b"
            ],
            [
             0.6666666666666666,
             "#ed7953"
            ],
            [
             0.7777777777777778,
             "#fb9f3a"
            ],
            [
             0.8888888888888888,
             "#fdca26"
            ],
            [
             1,
             "#f0f921"
            ]
           ],
           "sequentialminus": [
            [
             0,
             "#0d0887"
            ],
            [
             0.1111111111111111,
             "#46039f"
            ],
            [
             0.2222222222222222,
             "#7201a8"
            ],
            [
             0.3333333333333333,
             "#9c179e"
            ],
            [
             0.4444444444444444,
             "#bd3786"
            ],
            [
             0.5555555555555556,
             "#d8576b"
            ],
            [
             0.6666666666666666,
             "#ed7953"
            ],
            [
             0.7777777777777778,
             "#fb9f3a"
            ],
            [
             0.8888888888888888,
             "#fdca26"
            ],
            [
             1,
             "#f0f921"
            ]
           ]
          },
          "colorway": [
           "#636efa",
           "#EF553B",
           "#00cc96",
           "#ab63fa",
           "#FFA15A",
           "#19d3f3",
           "#FF6692",
           "#B6E880",
           "#FF97FF",
           "#FECB52"
          ],
          "font": {
           "color": "#2a3f5f"
          },
          "geo": {
           "bgcolor": "white",
           "lakecolor": "white",
           "landcolor": "#E5ECF6",
           "showlakes": true,
           "showland": true,
           "subunitcolor": "white"
          },
          "hoverlabel": {
           "align": "left"
          },
          "hovermode": "closest",
          "mapbox": {
           "style": "light"
          },
          "paper_bgcolor": "white",
          "plot_bgcolor": "#E5ECF6",
          "polar": {
           "angularaxis": {
            "gridcolor": "white",
            "linecolor": "white",
            "ticks": ""
           },
           "bgcolor": "#E5ECF6",
           "radialaxis": {
            "gridcolor": "white",
            "linecolor": "white",
            "ticks": ""
           }
          },
          "scene": {
           "xaxis": {
            "backgroundcolor": "#E5ECF6",
            "gridcolor": "white",
            "gridwidth": 2,
            "linecolor": "white",
            "showbackground": true,
            "ticks": "",
            "zerolinecolor": "white"
           },
           "yaxis": {
            "backgroundcolor": "#E5ECF6",
            "gridcolor": "white",
            "gridwidth": 2,
            "linecolor": "white",
            "showbackground": true,
            "ticks": "",
            "zerolinecolor": "white"
           },
           "zaxis": {
            "backgroundcolor": "#E5ECF6",
            "gridcolor": "white",
            "gridwidth": 2,
            "linecolor": "white",
            "showbackground": true,
            "ticks": "",
            "zerolinecolor": "white"
           }
          },
          "shapedefaults": {
           "line": {
            "color": "#2a3f5f"
           }
          },
          "ternary": {
           "aaxis": {
            "gridcolor": "white",
            "linecolor": "white",
            "ticks": ""
           },
           "baxis": {
            "gridcolor": "white",
            "linecolor": "white",
            "ticks": ""
           },
           "bgcolor": "#E5ECF6",
           "caxis": {
            "gridcolor": "white",
            "linecolor": "white",
            "ticks": ""
           }
          },
          "title": {
           "x": 0.05
          },
          "xaxis": {
           "automargin": true,
           "gridcolor": "white",
           "linecolor": "white",
           "ticks": "",
           "title": {
            "standoff": 15
           },
           "zerolinecolor": "white",
           "zerolinewidth": 2
          },
          "yaxis": {
           "automargin": true,
           "gridcolor": "white",
           "linecolor": "white",
           "ticks": "",
           "title": {
            "standoff": 15
           },
           "zerolinecolor": "white",
           "zerolinewidth": 2
          }
         }
        },
        "title": {
         "text": "Box plots for A & B"
        },
        "width": 800,
        "xaxis": {
         "title": {
          "text": "Columns"
         }
        },
        "yaxis": {
         "title": {
          "text": "Values"
         },
         "zeroline": false
        }
       }
      },
      "image/png": "[encoded data removed]",
      "text/html": [
       "<div>            <script src=\"https://cdnjs.cloudflare.com/ajax/libs/mathjax/2.7.5/MathJax.js?config=TeX-AMS-MML_SVG\"></script><script type=\"text/javascript\">if (window.MathJax && window.MathJax.Hub && window.MathJax.Hub.Config) {window.MathJax.Hub.Config({SVG: {font: \"STIX-Web\"}});}</script>                <script type=\"text/javascript\">window.PlotlyConfig = {MathJaxConfig: 'local'};</script>\n",
       "        <script charset=\"utf-8\" src=\"https://cdn.plot.ly/plotly-3.0.1.min.js\"></script>                <div id=\"856969d1-abb4-40b4-9a4f-ca68a7f684a6\" class=\"plotly-graph-div\" style=\"height:500px; width:800px;\"></div>            <script type=\"text/javascript\">                window.PLOTLYENV=window.PLOTLYENV || {};                                if (document.getElementById(\"856969d1-abb4-40b4-9a4f-ca68a7f684a6\")) {                    Plotly.newPlot(                        \"856969d1-abb4-40b4-9a4f-ca68a7f684a6\",                        [{\"marker\":{\"color\":\"rgba(255, 153, 51, 1.0)\"},\"name\":\"A\",\"y\":{\"dtype\":\"f8\",\"bdata\":\"Biat6\\u002fWP6r9xvyw1sKrUP1yPkZ30w+E\\u002fkP6gbyNA4T90Z5pq68fSP4R4kVQtNfG\\u002fz2qvbWLe2D+s6sQDcejqvzJ+SzCAsME\\u002foak3nj\\u002fd67+S3uK7IHGuP3YY571r2OK\\u002fNzF76Tq03z+Rbl3Fp2XevxI9uf\\u002fU\\u002fNe\\u002fhMCe4w8h8j+DEhKoCyXgP4ABlBa+P+W\\u002fjI1quXzt27\\u002fDInYHfRjnP022ugd\\u002fW\\u002fa\\u002fsqQmNYdHAUBOkWiHyUy7v++Mxc9\\u002fFPk\\u002fkdU+CPLS07\\u002f4eJic0cnSP97kVy797aU\\u002fGSo\\u002fpDcG+D8ZJOlzqvfXP433NOnMffA\\u002fwbumxLUE0L8GQPUdxh3RPyNKcGgoFri\\u002fcnwjkxmv2L8pzeaxBAO9P64rT13qq+4\\u002fWx2nYF0I4T886gxopNHxPxY5kYnLlfG\\u002fiAmUfCJG6T+EZstOs5z+P7mk8zOOY7k\\u002fhzgf2+f05L\\u002fHFGACHsHgP4tW8b0tGfW\\u002fQPy4l2E\\u002fCUAPerOUy6zHvy3qXJGokeE\\u002f8Wc\\u002frqwA8b+V+xTx2fHCvw==\"},\"type\":\"box\"},{\"marker\":{\"color\":\"rgba(255, 153, 51, 1.0)\"},\"name\":\"B\",\"y\":{\"dtype\":\"f8\",\"bdata\":\"w0RsLvBMkz818jcYYuT5v1dGnme8fM8\\u002fwAA+viDF97+r46G\\u002frE3Uv21hvXf15O6\\u002fToC17ReiBUBVGMS8iS\\u002fhv99QZBySQfA\\u002fCU3aLvtXwj9WEF6sqrnoP+b4ML9R1QxA0hW2uhnj2D\\u002fsdzaiKkXpv6rwcbvw6vK\\u002f7\\u002frElgWA2D9Wt7pBc6H7P16trUHE5tw\\u002fEYUZraul27\\u002fdl61XGKH1v4dLulHLaPm\\u002fHjW0H7g\\u002fAUDbMb1g7azyv3lvC4kxMMw\\u002fj6jThMnp8789rj+x6QLYPyMUl3aLMME\\u002fo9NixDpe+j+rDNv+tNTjv\\u002fxK5QqPN94\\u002fKH7Ff3xgAsDnLGTapDHwv9l+pG2jmgJAD0kvC\\u002f\\u002fU3j8KD\\u002fciZKDpv4feEyjne+k\\u002fbWksoAED2r+QhBMqNUjvv3dxMntWruW\\u002f9eOQ3aHr3z\\u002fzElu0hs31P5DQfLConf2\\u002fMKducZQx87\\u002fXWcK03prwP4odmrztSv8\\u002fheaK4pmEur8+43TXozjevzhKYMmPMuc\\u002fT+Nfz2wM8j95IMbOS1\\u002fSvw==\"},\"type\":\"box\"}],                        {\"template\":{\"data\":{\"histogram2dcontour\":[{\"type\":\"histogram2dcontour\",\"colorbar\":{\"outlinewidth\":0,\"ticks\":\"\"},\"colorscale\":[[0.0,\"#0d0887\"],[0.1111111111111111,\"#46039f\"],[0.2222222222222222,\"#7201a8\"],[0.3333333333333333,\"#9c179e\"],[0.4444444444444444,\"#bd3786\"],[0.5555555555555556,\"#d8576b\"],[0.6666666666666666,\"#ed7953\"],[0.7777777777777778,\"#fb9f3a\"],[0.8888888888888888,\"#fdca26\"],[1.0,\"#f0f921\"]]}],\"choropleth\":[{\"type\":\"choropleth\",\"colorbar\":{\"outlinewidth\":0,\"ticks\":\"\"}}],\"histogram2d\":[{\"type\":\"histogram2d\",\"colorbar\":{\"outlinewidth\":0,\"ticks\":\"\"},\"colorscale\":[[0.0,\"#0d0887\"],[0.1111111111111111,\"#46039f\"],[0.2222222222222222,\"#7201a8\"],[0.3333333333333333,\"#9c179e\"],[0.4444444444444444,\"#bd3786\"],[0.5555555555555556,\"#d8576b\"],[0.6666666666666666,\"#ed7953\"],[0.7777777777777778,\"#fb9f3a\"],[0.8888888888888888,\"#fdca26\"],[1.0,\"#f0f921\"]]}],\"heatmap\":[{\"type\":\"heatmap\",\"colorbar\":{\"outlinewidth\":0,\"ticks\":\"\"},\"colorscale\":[[0.0,\"#0d0887\"],[0.1111111111111111,\"#46039f\"],[0.2222222222222222,\"#7201a8\"],[0.3333333333333333,\"#9c179e\"],[0.4444444444444444,\"#bd3786\"],[0.5555555555555556,\"#d8576b\"],[0.6666666666666666,\"#ed7953\"],[0.7777777777777778,\"#fb9f3a\"],[0.8888888888888888,\"#fdca26\"],[1.0,\"#f0f921\"]]}],\"contourcarpet\":[{\"type\":\"contourcarpet\",\"colorbar\":{\"outlinewidth\":0,\"ticks\":\"\"}}],\"contour\":[{\"type\":\"contour\",\"colorbar\":{\"outlinewidth\":0,\"ticks\":\"\"},\"colorscale\":[[0.0,\"#0d0887\"],[0.1111111111111111,\"#46039f\"],[0.2222222222222222,\"#7201a8\"],[0.3333333333333333,\"#9c179e\"],[0.4444444444444444,\"#bd3786\"],[0.5555555555555556,\"#d8576b\"],[0.6666666666666666,\"#ed7953\"],[0.7777777777777778,\"#fb9f3a\"],[0.8888888888888888,\"#fdca26\"],[1.0,\"#f0f921\"]]}],\"surface\":[{\"type\":\"surface\",\"colorbar\":{\"outlinewidth\":0,\"ticks\":\"\"},\"colorscale\":[[0.0,\"#0d0887\"],[0.1111111111111111,\"#46039f\"],[0.2222222222222222,\"#7201a8\"],[0.3333333333333333,\"#9c179e\"],[0.4444444444444444,\"#bd3786\"],[0.5555555555555556,\"#d8576b\"],[0.6666666666666666,\"#ed7953\"],[0.7777777777777778,\"#fb9f3a\"],[0.8888888888888888,\"#fdca26\"],[1.0,\"#f0f921\"]]}],\"mesh3d\":[{\"type\":\"mesh3d\",\"colorbar\":{\"outlinewidth\":0,\"ticks\":\"\"}}],\"scatter\":[{\"fillpattern\":{\"fillmode\":\"overlay\",\"size\":10,\"solidity\":0.2},\"type\":\"scatter\"}],\"parcoords\":[{\"type\":\"parcoords\",\"line\":{\"colorbar\":{\"outlinewidth\":0,\"ticks\":\"\"}}}],\"scatterpolargl\":[{\"type\":\"scatterpolargl\",\"marker\":{\"colorbar\":{\"outlinewidth\":0,\"ticks\":\"\"}}}],\"bar\":[{\"error_x\":{\"color\":\"#2a3f5f\"},\"error_y\":{\"color\":\"#2a3f5f\"},\"marker\":{\"line\":{\"color\":\"#E5ECF6\",\"width\":0.5},\"pattern\":{\"fillmode\":\"overlay\",\"size\":10,\"solidity\":0.2}},\"type\":\"bar\"}],\"scattergeo\":[{\"type\":\"scattergeo\",\"marker\":{\"colorbar\":{\"outlinewidth\":0,\"ticks\":\"\"}}}],\"scatterpolar\":[{\"type\":\"scatterpolar\",\"marker\":{\"colorbar\":{\"outlinewidth\":0,\"ticks\":\"\"}}}],\"histogram\":[{\"marker\":{\"pattern\":{\"fillmode\":\"overlay\",\"size\":10,\"solidity\":0.2}},\"type\":\"histogram\"}],\"scattergl\":[{\"type\":\"scattergl\",\"marker\":{\"colorbar\":{\"outlinewidth\":0,\"ticks\":\"\"}}}],\"scatter3d\":[{\"type\":\"scatter3d\",\"line\":{\"colorbar\":{\"outlinewidth\":0,\"ticks\":\"\"}},\"marker\":{\"colorbar\":{\"outlinewidth\":0,\"ticks\":\"\"}}}],\"scattermap\":[{\"type\":\"scattermap\",\"marker\":{\"colorbar\":{\"outlinewidth\":0,\"ticks\":\"\"}}}],\"scattermapbox\":[{\"type\":\"scattermapbox\",\"marker\":{\"colorbar\":{\"outlinewidth\":0,\"ticks\":\"\"}}}],\"scatterternary\":[{\"type\":\"scatterternary\",\"marker\":{\"colorbar\":{\"outlinewidth\":0,\"ticks\":\"\"}}}],\"scattercarpet\":[{\"type\":\"scattercarpet\",\"marker\":{\"colorbar\":{\"outlinewidth\":0,\"ticks\":\"\"}}}],\"carpet\":[{\"aaxis\":{\"endlinecolor\":\"#2a3f5f\",\"gridcolor\":\"white\",\"linecolor\":\"white\",\"minorgridcolor\":\"white\",\"startlinecolor\":\"#2a3f5f\"},\"baxis\":{\"endlinecolor\":\"#2a3f5f\",\"gridcolor\":\"white\",\"linecolor\":\"white\",\"minorgridcolor\":\"white\",\"startlinecolor\":\"#2a3f5f\"},\"type\":\"carpet\"}],\"table\":[{\"cells\":{\"fill\":{\"color\":\"#EBF0F8\"},\"line\":{\"color\":\"white\"}},\"header\":{\"fill\":{\"color\":\"#C8D4E3\"},\"line\":{\"color\":\"white\"}},\"type\":\"table\"}],\"barpolar\":[{\"marker\":{\"line\":{\"color\":\"#E5ECF6\",\"width\":0.5},\"pattern\":{\"fillmode\":\"overlay\",\"size\":10,\"solidity\":0.2}},\"type\":\"barpolar\"}],\"pie\":[{\"automargin\":true,\"type\":\"pie\"}]},\"layout\":{\"autotypenumbers\":\"strict\",\"colorway\":[\"#636efa\",\"#EF553B\",\"#00cc96\",\"#ab63fa\",\"#FFA15A\",\"#19d3f3\",\"#FF6692\",\"#B6E880\",\"#FF97FF\",\"#FECB52\"],\"font\":{\"color\":\"#2a3f5f\"},\"hovermode\":\"closest\",\"hoverlabel\":{\"align\":\"left\"},\"paper_bgcolor\":\"white\",\"plot_bgcolor\":\"#E5ECF6\",\"polar\":{\"bgcolor\":\"#E5ECF6\",\"angularaxis\":{\"gridcolor\":\"white\",\"linecolor\":\"white\",\"ticks\":\"\"},\"radialaxis\":{\"gridcolor\":\"white\",\"linecolor\":\"white\",\"ticks\":\"\"}},\"ternary\":{\"bgcolor\":\"#E5ECF6\",\"aaxis\":{\"gridcolor\":\"white\",\"linecolor\":\"white\",\"ticks\":\"\"},\"baxis\":{\"gridcolor\":\"white\",\"linecolor\":\"white\",\"ticks\":\"\"},\"caxis\":{\"gridcolor\":\"white\",\"linecolor\":\"white\",\"ticks\":\"\"}},\"coloraxis\":{\"colorbar\":{\"outlinewidth\":0,\"ticks\":\"\"}},\"colorscale\":{\"sequential\":[[0.0,\"#0d0887\"],[0.1111111111111111,\"#46039f\"],[0.2222222222222222,\"#7201a8\"],[0.3333333333333333,\"#9c179e\"],[0.4444444444444444,\"#bd3786\"],[0.5555555555555556,\"#d8576b\"],[0.6666666666666666,\"#ed7953\"],[0.7777777777777778,\"#fb9f3a\"],[0.8888888888888888,\"#fdca26\"],[1.0,\"#f0f921\"]],\"sequentialminus\":[[0.0,\"#0d0887\"],[0.1111111111111111,\"#46039f\"],[0.2222222222222222,\"#7201a8\"],[0.3333333333333333,\"#9c179e\"],[0.4444444444444444,\"#bd3786\"],[0.5555555555555556,\"#d8576b\"],[0.6666666666666666,\"#ed7953\"],[0.7777777777777778,\"#fb9f3a\"],[0.8888888888888888,\"#fdca26\"],[1.0,\"#f0f921\"]],\"diverging\":[[0,\"#8e0152\"],[0.1,\"#c51b7d\"],[0.2,\"#de77ae\"],[0.3,\"#f1b6da\"],[0.4,\"#fde0ef\"],[0.5,\"#f7f7f7\"],[0.6,\"#e6f5d0\"],[0.7,\"#b8e186\"],[0.8,\"#7fbc41\"],[0.9,\"#4d9221\"],[1,\"#276419\"]]},\"xaxis\":{\"gridcolor\":\"white\",\"linecolor\":\"white\",\"ticks\":\"\",\"title\":{\"standoff\":15},\"zerolinecolor\":\"white\",\"automargin\":true,\"zerolinewidth\":2},\"yaxis\":{\"gridcolor\":\"white\",\"linecolor\":\"white\",\"ticks\":\"\",\"title\":{\"standoff\":15},\"zerolinecolor\":\"white\",\"automargin\":true,\"zerolinewidth\":2},\"scene\":{\"xaxis\":{\"backgroundcolor\":\"#E5ECF6\",\"gridcolor\":\"white\",\"linecolor\":\"white\",\"showbackground\":true,\"ticks\":\"\",\"zerolinecolor\":\"white\",\"gridwidth\":2},\"yaxis\":{\"backgroundcolor\":\"#E5ECF6\",\"gridcolor\":\"white\",\"linecolor\":\"white\",\"showbackground\":true,\"ticks\":\"\",\"zerolinecolor\":\"white\",\"gridwidth\":2},\"zaxis\":{\"backgroundcolor\":\"#E5ECF6\",\"gridcolor\":\"white\",\"linecolor\":\"white\",\"showbackground\":true,\"ticks\":\"\",\"zerolinecolor\":\"white\",\"gridwidth\":2}},\"shapedefaults\":{\"line\":{\"color\":\"#2a3f5f\"}},\"annotationdefaults\":{\"arrowcolor\":\"#2a3f5f\",\"arrowhead\":0,\"arrowwidth\":1},\"geo\":{\"bgcolor\":\"white\",\"landcolor\":\"#E5ECF6\",\"subunitcolor\":\"white\",\"showland\":true,\"showlakes\":true,\"lakecolor\":\"white\"},\"title\":{\"x\":0.05},\"mapbox\":{\"style\":\"light\"}}},\"yaxis\":{\"title\":{\"text\":\"Values\"},\"zeroline\":false},\"title\":{\"text\":\"Box plots for A & B\"},\"xaxis\":{\"title\":{\"text\":\"Columns\"}},\"plot_bgcolor\":\"rgba(230,230,250, 0.5)\",\"width\":800,\"height\":500},                        {\"responsive\": true}                    ).then(function(){\n",
       "                            \n",
       "var gd = document.getElementById('856969d1-abb4-40b4-9a4f-ca68a7f684a6');\n",
       "var x = new MutationObserver(function (mutations, observer) {{\n",
       "        var display = window.getComputedStyle(gd).display;\n",
       "        if (!display || display === 'none') {{\n",
       "            console.log([gd, 'removed!']);\n",
       "            Plotly.purge(gd);\n",
       "            observer.disconnect();\n",
       "        }}\n",
       "}});\n",
       "\n",
       "// Listen for the removal of the full notebook cells\n",
       "var notebookContainer = gd.closest('#notebook-container');\n",
       "if (notebookContainer) {{\n",
       "    x.observe(notebookContainer, {childList: true});\n",
       "}}\n",
       "\n",
       "// Listen for the clearing of the current output cell\n",
       "var outputEl = gd.closest('.output');\n",
       "if (outputEl) {{\n",
       "    x.observe(outputEl, {childList: true});\n",
       "}}\n",
       "\n",
       "                        })                };            </script>        </div>"
      ]
     },
     "metadata": {},
     "output_type": "display_data"
    }
   ],
   "source": [
    "import plotly.graph_objs as go\n",
    "\n",
    "# Create an empty Figure object\n",
    "fig = go.Figure()\n",
    "\n",
    "# Loop over the specified columns to create a box plot for each\n",
    "for col in ['A', 'B']:  # You can replace this list with df.columns.tolist() to include all columns\n",
    "    fig.add_trace(go.Box(\n",
    "        y=df[col],  # Data for the current column\n",
    "        name=col,   # Name of the box plot (appears in the legend and x-axis)\n",
    "        marker=dict(color='rgba(255, 153, 51, 1.0)')  # Set the marker color for the boxes\n",
    "    ))\n",
    "\n",
    "# Customize the layout of the figure\n",
    "fig.update_layout(\n",
    "    title='Box plots for A & B',  # Title of the plot\n",
    "    xaxis=dict(title='Columns'),  # Label for the x-axis\n",
    "    yaxis=dict(title='Values', zeroline=False),  # Label for the y-axis, no zero line\n",
    "    plot_bgcolor='rgba(230,230,250, 0.5)',  # Background color with transparency\n",
    "    width=800,  # Width of the plot in pixels\n",
    "    height=500  # Height of the plot in pixels\n",
    ")\n",
    "\n",
    "# Display the figure\n",
    "fig.show()\n",
    "\n"
   ]
  },
  {
   "cell_type": "code",
   "execution_count": 50,
   "id": "509eec75-b98e-426a-9245-5f2e9c4cd3fd",
   "metadata": {},
   "outputs": [],
   "source": [
    "df3 = pd.DataFrame ({'x': [1,2,3,4,5], 'y': [10,20,30,40,50], 'z':[500,400,300,200,200]})"
   ]
  },
  {
   "cell_type": "code",
   "execution_count": 51,
   "id": "e49b8ba0-51cd-4ca5-a1d2-eb82b438ff9a",
   "metadata": {},
   "outputs": [
    {
     "data": {
      "text/html": [
       "<div>\n",
       "<style scoped>\n",
       "    .dataframe tbody tr th:only-of-type {\n",
       "        vertical-align: middle;\n",
       "    }\n",
       "\n",
       "    .dataframe tbody tr th {\n",
       "        vertical-align: top;\n",
       "    }\n",
       "\n",
       "    .dataframe thead th {\n",
       "        text-align: right;\n",
       "    }\n",
       "</style>\n",
       "<table border=\"1\" class=\"dataframe\">\n",
       "  <thead>\n",
       "    <tr style=\"text-align: right;\">\n",
       "      <th></th>\n",
       "      <th>x</th>\n",
       "      <th>y</th>\n",
       "      <th>z</th>\n",
       "    </tr>\n",
       "  </thead>\n",
       "  <tbody>\n",
       "    <tr>\n",
       "      <th>0</th>\n",
       "      <td>1</td>\n",
       "      <td>10</td>\n",
       "      <td>500</td>\n",
       "    </tr>\n",
       "    <tr>\n",
       "      <th>1</th>\n",
       "      <td>2</td>\n",
       "      <td>20</td>\n",
       "      <td>400</td>\n",
       "    </tr>\n",
       "    <tr>\n",
       "      <th>2</th>\n",
       "      <td>3</td>\n",
       "      <td>30</td>\n",
       "      <td>300</td>\n",
       "    </tr>\n",
       "    <tr>\n",
       "      <th>3</th>\n",
       "      <td>4</td>\n",
       "      <td>40</td>\n",
       "      <td>200</td>\n",
       "    </tr>\n",
       "    <tr>\n",
       "      <th>4</th>\n",
       "      <td>5</td>\n",
       "      <td>50</td>\n",
       "      <td>200</td>\n",
       "    </tr>\n",
       "  </tbody>\n",
       "</table>\n",
       "</div>"
      ],
      "text/plain": [
       "   x   y    z\n",
       "0  1  10  500\n",
       "1  2  20  400\n",
       "2  3  30  300\n",
       "3  4  40  200\n",
       "4  5  50  200"
      ]
     },
     "execution_count": 51,
     "metadata": {},
     "output_type": "execute_result"
    }
   ],
   "source": [
    "df3"
   ]
  },
  {
   "cell_type": "code",
   "execution_count": 129,
   "id": "eb05746b-c5a6-4007-918f-798b61aeb45d",
   "metadata": {},
   "outputs": [
    {
     "data": {
      "application/vnd.plotly.v1+json": {
       "config": {
        "linkText": "Export to plot.ly",
        "plotlyServerURL": "https://plot.ly",
        "showLink": true
       },
       "data": [
        {
         "colorscale": [
          [
           0,
           "rgb(255, 153, 51)"
          ],
          [
           0.1111111111111111,
           "rgb(55, 128, 191)"
          ],
          [
           0.2222222222222222,
           "rgb(50, 171, 96)"
          ],
          [
           0.3333333333333333,
           "rgb(128, 0, 128)"
          ],
          [
           0.4444444444444444,
           "rgb(219, 64, 82)"
          ],
          [
           0.5555555555555556,
           "rgb(0, 128, 128)"
          ],
          [
           0.6666666666666666,
           "rgb(255, 255, 51)"
          ],
          [
           0.7777777777777778,
           "rgb(128, 128, 0)"
          ],
          [
           0.8888888888888888,
           "rgb(251, 128, 114)"
          ],
          [
           1,
           "rgb(128, 177, 211)"
          ]
         ],
         "type": "surface",
         "x": [
          0,
          1,
          2,
          3,
          4,
          5,
          6,
          7,
          8,
          9,
          10,
          11,
          12,
          13,
          14,
          15,
          16,
          17,
          18,
          19,
          20,
          21,
          22,
          23,
          24,
          25,
          26,
          27,
          28,
          29,
          30,
          31,
          32,
          33,
          34,
          35,
          36,
          37,
          38,
          39,
          40,
          41,
          42,
          43,
          44,
          45,
          46,
          47,
          48,
          49
         ],
         "y": [
          "A",
          "B"
         ],
         "z": {
          "bdata": "Biat6/WP6r9xvyw1sKrUP1yPkZ30w+E/kP6gbyNA4T90Z5pq68fSP4R4kVQtNfG/z2qvbWLe2D+s6sQDcejqvzJ+SzCAsME/oak3nj/d67+S3uK7IHGuP3YY571r2OK/NzF76Tq03z+Rbl3Fp2XevxI9uf/U/Ne/hMCe4w8h8j+DEhKoCyXgP4ABlBa+P+W/jI1quXzt27/DInYHfRjnP022ugd/W/a/sqQmNYdHAUBOkWiHyUy7v++Mxc9/FPk/kdU+CPLS07/4eJic0cnSP97kVy797aU/GSo/pDcG+D8ZJOlzqvfXP433NOnMffA/wbumxLUE0L8GQPUdxh3RPyNKcGgoFri/cnwjkxmv2L8pzeaxBAO9P64rT13qq+4/Wx2nYF0I4T886gxopNHxPxY5kYnLlfG/iAmUfCJG6T+EZstOs5z+P7mk8zOOY7k/hzgf2+f05L/HFGACHsHgP4tW8b0tGfW/QPy4l2E/CUAPerOUy6zHvy3qXJGokeE/8Wc/rqwA8b+V+xTx2fHCv8NEbC7wTJM/NfI3GGLk+b9XRp5nvHzPP8AAPr4gxfe/q+Ohv6xN1L9tYb139eTuv06Ate0XogVAVRjEvIkv4b/fUGQckkHwPwlN2i77V8I/VhBerKq56D/m+DC/UdUMQNIVtroZ49g/7Hc2oipF6b+q8HG78Oryv+/6xJYFgNg/Vre6QXOh+z9era1BxObcPxGFGa2rpdu/3ZetVxih9b+HS7pRy2j5vx41tB+4PwFA2zG9YO2s8r95bwuJMTDMP4+o04TJ6fO/Pa4/sekC2D8jFJd2izDBP6PTYsQ6Xvo/qwzb/rTU47/8SuUKjzfePyh+xX98YALA5yxk2qQx8L/ZfqRto5oCQA9JLwv/1N4/Cg/3ImSg6b+H3hMo53vpP21pLKABA9q/kIQTKjVI7793cTJ7Vq7lv/XjkN2h698/8xJbtIbN9T+Q0HywqJ39vzCnbnGUMfO/11nCtN6a8D+KHZq87Ur/P4XmiuKZhLq/PuN016M43r84SmDJjzLnP0/jX89sDPI/eSDGzktf0r8=",
          "dtype": "f8",
          "shape": "2, 50"
         }
        }
       ],
       "layout": {
        "height": 800,
        "scene": {
         "xaxis": {
          "title": {
           "text": "X"
          }
         },
         "yaxis": {
          "title": {
           "text": "Y"
          }
         },
         "zaxis": {
          "title": {
           "text": "Z"
          }
         }
        },
        "template": {
         "data": {
          "bar": [
           {
            "error_x": {
             "color": "#2a3f5f"
            },
            "error_y": {
             "color": "#2a3f5f"
            },
            "marker": {
             "line": {
              "color": "#E5ECF6",
              "width": 0.5
             },
             "pattern": {
              "fillmode": "overlay",
              "size": 10,
              "solidity": 0.2
             }
            },
            "type": "bar"
           }
          ],
          "barpolar": [
           {
            "marker": {
             "line": {
              "color": "#E5ECF6",
              "width": 0.5
             },
             "pattern": {
              "fillmode": "overlay",
              "size": 10,
              "solidity": 0.2
             }
            },
            "type": "barpolar"
           }
          ],
          "carpet": [
           {
            "aaxis": {
             "endlinecolor": "#2a3f5f",
             "gridcolor": "white",
             "linecolor": "white",
             "minorgridcolor": "white",
             "startlinecolor": "#2a3f5f"
            },
            "baxis": {
             "endlinecolor": "#2a3f5f",
             "gridcolor": "white",
             "linecolor": "white",
             "minorgridcolor": "white",
             "startlinecolor": "#2a3f5f"
            },
            "type": "carpet"
           }
          ],
          "choropleth": [
           {
            "colorbar": {
             "outlinewidth": 0,
             "ticks": ""
            },
            "type": "choropleth"
           }
          ],
          "contour": [
           {
            "colorbar": {
             "outlinewidth": 0,
             "ticks": ""
            },
            "colorscale": [
             [
              0,
              "#0d0887"
             ],
             [
              0.1111111111111111,
              "#46039f"
             ],
             [
              0.2222222222222222,
              "#7201a8"
             ],
             [
              0.3333333333333333,
              "#9c179e"
             ],
             [
              0.4444444444444444,
              "#bd3786"
             ],
             [
              0.5555555555555556,
              "#d8576b"
             ],
             [
              0.6666666666666666,
              "#ed7953"
             ],
             [
              0.7777777777777778,
              "#fb9f3a"
             ],
             [
              0.8888888888888888,
              "#fdca26"
             ],
             [
              1,
              "#f0f921"
             ]
            ],
            "type": "contour"
           }
          ],
          "contourcarpet": [
           {
            "colorbar": {
             "outlinewidth": 0,
             "ticks": ""
            },
            "type": "contourcarpet"
           }
          ],
          "heatmap": [
           {
            "colorbar": {
             "outlinewidth": 0,
             "ticks": ""
            },
            "colorscale": [
             [
              0,
              "#0d0887"
             ],
             [
              0.1111111111111111,
              "#46039f"
             ],
             [
              0.2222222222222222,
              "#7201a8"
             ],
             [
              0.3333333333333333,
              "#9c179e"
             ],
             [
              0.4444444444444444,
              "#bd3786"
             ],
             [
              0.5555555555555556,
              "#d8576b"
             ],
             [
              0.6666666666666666,
              "#ed7953"
             ],
             [
              0.7777777777777778,
              "#fb9f3a"
             ],
             [
              0.8888888888888888,
              "#fdca26"
             ],
             [
              1,
              "#f0f921"
             ]
            ],
            "type": "heatmap"
           }
          ],
          "histogram": [
           {
            "marker": {
             "pattern": {
              "fillmode": "overlay",
              "size": 10,
              "solidity": 0.2
             }
            },
            "type": "histogram"
           }
          ],
          "histogram2d": [
           {
            "colorbar": {
             "outlinewidth": 0,
             "ticks": ""
            },
            "colorscale": [
             [
              0,
              "#0d0887"
             ],
             [
              0.1111111111111111,
              "#46039f"
             ],
             [
              0.2222222222222222,
              "#7201a8"
             ],
             [
              0.3333333333333333,
              "#9c179e"
             ],
             [
              0.4444444444444444,
              "#bd3786"
             ],
             [
              0.5555555555555556,
              "#d8576b"
             ],
             [
              0.6666666666666666,
              "#ed7953"
             ],
             [
              0.7777777777777778,
              "#fb9f3a"
             ],
             [
              0.8888888888888888,
              "#fdca26"
             ],
             [
              1,
              "#f0f921"
             ]
            ],
            "type": "histogram2d"
           }
          ],
          "histogram2dcontour": [
           {
            "colorbar": {
             "outlinewidth": 0,
             "ticks": ""
            },
            "colorscale": [
             [
              0,
              "#0d0887"
             ],
             [
              0.1111111111111111,
              "#46039f"
             ],
             [
              0.2222222222222222,
              "#7201a8"
             ],
             [
              0.3333333333333333,
              "#9c179e"
             ],
             [
              0.4444444444444444,
              "#bd3786"
             ],
             [
              0.5555555555555556,
              "#d8576b"
             ],
             [
              0.6666666666666666,
              "#ed7953"
             ],
             [
              0.7777777777777778,
              "#fb9f3a"
             ],
             [
              0.8888888888888888,
              "#fdca26"
             ],
             [
              1,
              "#f0f921"
             ]
            ],
            "type": "histogram2dcontour"
           }
          ],
          "mesh3d": [
           {
            "colorbar": {
             "outlinewidth": 0,
             "ticks": ""
            },
            "type": "mesh3d"
           }
          ],
          "parcoords": [
           {
            "line": {
             "colorbar": {
              "outlinewidth": 0,
              "ticks": ""
             }
            },
            "type": "parcoords"
           }
          ],
          "pie": [
           {
            "automargin": true,
            "type": "pie"
           }
          ],
          "scatter": [
           {
            "fillpattern": {
             "fillmode": "overlay",
             "size": 10,
             "solidity": 0.2
            },
            "type": "scatter"
           }
          ],
          "scatter3d": [
           {
            "line": {
             "colorbar": {
              "outlinewidth": 0,
              "ticks": ""
             }
            },
            "marker": {
             "colorbar": {
              "outlinewidth": 0,
              "ticks": ""
             }
            },
            "type": "scatter3d"
           }
          ],
          "scattercarpet": [
           {
            "marker": {
             "colorbar": {
              "outlinewidth": 0,
              "ticks": ""
             }
            },
            "type": "scattercarpet"
           }
          ],
          "scattergeo": [
           {
            "marker": {
             "colorbar": {
              "outlinewidth": 0,
              "ticks": ""
             }
            },
            "type": "scattergeo"
           }
          ],
          "scattergl": [
           {
            "marker": {
             "colorbar": {
              "outlinewidth": 0,
              "ticks": ""
             }
            },
            "type": "scattergl"
           }
          ],
          "scattermap": [
           {
            "marker": {
             "colorbar": {
              "outlinewidth": 0,
              "ticks": ""
             }
            },
            "type": "scattermap"
           }
          ],
          "scattermapbox": [
           {
            "marker": {
             "colorbar": {
              "outlinewidth": 0,
              "ticks": ""
             }
            },
            "type": "scattermapbox"
           }
          ],
          "scatterpolar": [
           {
            "marker": {
             "colorbar": {
              "outlinewidth": 0,
              "ticks": ""
             }
            },
            "type": "scatterpolar"
           }
          ],
          "scatterpolargl": [
           {
            "marker": {
             "colorbar": {
              "outlinewidth": 0,
              "ticks": ""
             }
            },
            "type": "scatterpolargl"
           }
          ],
          "scatterternary": [
           {
            "marker": {
             "colorbar": {
              "outlinewidth": 0,
              "ticks": ""
             }
            },
            "type": "scatterternary"
           }
          ],
          "surface": [
           {
            "colorbar": {
             "outlinewidth": 0,
             "ticks": ""
            },
            "colorscale": [
             [
              0,
              "#0d0887"
             ],
             [
              0.1111111111111111,
              "#46039f"
             ],
             [
              0.2222222222222222,
              "#7201a8"
             ],
             [
              0.3333333333333333,
              "#9c179e"
             ],
             [
              0.4444444444444444,
              "#bd3786"
             ],
             [
              0.5555555555555556,
              "#d8576b"
             ],
             [
              0.6666666666666666,
              "#ed7953"
             ],
             [
              0.7777777777777778,
              "#fb9f3a"
             ],
             [
              0.8888888888888888,
              "#fdca26"
             ],
             [
              1,
              "#f0f921"
             ]
            ],
            "type": "surface"
           }
          ],
          "table": [
           {
            "cells": {
             "fill": {
              "color": "#EBF0F8"
             },
             "line": {
              "color": "white"
             }
            },
            "header": {
             "fill": {
              "color": "#C8D4E3"
             },
             "line": {
              "color": "white"
             }
            },
            "type": "table"
           }
          ]
         },
         "layout": {
          "annotationdefaults": {
           "arrowcolor": "#2a3f5f",
           "arrowhead": 0,
           "arrowwidth": 1
          },
          "autotypenumbers": "strict",
          "coloraxis": {
           "colorbar": {
            "outlinewidth": 0,
            "ticks": ""
           }
          },
          "colorscale": {
           "diverging": [
            [
             0,
             "#8e0152"
            ],
            [
             0.1,
             "#c51b7d"
            ],
            [
             0.2,
             "#de77ae"
            ],
            [
             0.3,
             "#f1b6da"
            ],
            [
             0.4,
             "#fde0ef"
            ],
            [
             0.5,
             "#f7f7f7"
            ],
            [
             0.6,
             "#e6f5d0"
            ],
            [
             0.7,
             "#b8e186"
            ],
            [
             0.8,
             "#7fbc41"
            ],
            [
             0.9,
             "#4d9221"
            ],
            [
             1,
             "#276419"
            ]
           ],
           "sequential": [
            [
             0,
             "#0d0887"
            ],
            [
             0.1111111111111111,
             "#46039f"
            ],
            [
             0.2222222222222222,
             "#7201a8"
            ],
            [
             0.3333333333333333,
             "#9c179e"
            ],
            [
             0.4444444444444444,
             "#bd3786"
            ],
            [
             0.5555555555555556,
             "#d8576b"
            ],
            [
             0.6666666666666666,
             "#ed7953"
            ],
            [
             0.7777777777777778,
             "#fb9f3a"
            ],
            [
             0.8888888888888888,
             "#fdca26"
            ],
            [
             1,
             "#f0f921"
            ]
           ],
           "sequentialminus": [
            [
             0,
             "#0d0887"
            ],
            [
             0.1111111111111111,
             "#46039f"
            ],
            [
             0.2222222222222222,
             "#7201a8"
            ],
            [
             0.3333333333333333,
             "#9c179e"
            ],
            [
             0.4444444444444444,
             "#bd3786"
            ],
            [
             0.5555555555555556,
             "#d8576b"
            ],
            [
             0.6666666666666666,
             "#ed7953"
            ],
            [
             0.7777777777777778,
             "#fb9f3a"
            ],
            [
             0.8888888888888888,
             "#fdca26"
            ],
            [
             1,
             "#f0f921"
            ]
           ]
          },
          "colorway": [
           "#636efa",
           "#EF553B",
           "#00cc96",
           "#ab63fa",
           "#FFA15A",
           "#19d3f3",
           "#FF6692",
           "#B6E880",
           "#FF97FF",
           "#FECB52"
          ],
          "font": {
           "color": "#2a3f5f"
          },
          "geo": {
           "bgcolor": "white",
           "lakecolor": "white",
           "landcolor": "#E5ECF6",
           "showlakes": true,
           "showland": true,
           "subunitcolor": "white"
          },
          "hoverlabel": {
           "align": "left"
          },
          "hovermode": "closest",
          "mapbox": {
           "style": "light"
          },
          "paper_bgcolor": "white",
          "plot_bgcolor": "#E5ECF6",
          "polar": {
           "angularaxis": {
            "gridcolor": "white",
            "linecolor": "white",
            "ticks": ""
           },
           "bgcolor": "#E5ECF6",
           "radialaxis": {
            "gridcolor": "white",
            "linecolor": "white",
            "ticks": ""
           }
          },
          "scene": {
           "xaxis": {
            "backgroundcolor": "#E5ECF6",
            "gridcolor": "white",
            "gridwidth": 2,
            "linecolor": "white",
            "showbackground": true,
            "ticks": "",
            "zerolinecolor": "white"
           },
           "yaxis": {
            "backgroundcolor": "#E5ECF6",
            "gridcolor": "white",
            "gridwidth": 2,
            "linecolor": "white",
            "showbackground": true,
            "ticks": "",
            "zerolinecolor": "white"
           },
           "zaxis": {
            "backgroundcolor": "#E5ECF6",
            "gridcolor": "white",
            "gridwidth": 2,
            "linecolor": "white",
            "showbackground": true,
            "ticks": "",
            "zerolinecolor": "white"
           }
          },
          "shapedefaults": {
           "line": {
            "color": "#2a3f5f"
           }
          },
          "ternary": {
           "aaxis": {
            "gridcolor": "white",
            "linecolor": "white",
            "ticks": ""
           },
           "baxis": {
            "gridcolor": "white",
            "linecolor": "white",
            "ticks": ""
           },
           "bgcolor": "#E5ECF6",
           "caxis": {
            "gridcolor": "white",
            "linecolor": "white",
            "ticks": ""
           }
          },
          "title": {
           "x": 0.05
          },
          "xaxis": {
           "automargin": true,
           "gridcolor": "white",
           "linecolor": "white",
           "ticks": "",
           "title": {
            "standoff": 15
           },
           "zerolinecolor": "white",
           "zerolinewidth": 2
          },
          "yaxis": {
           "automargin": true,
           "gridcolor": "white",
           "linecolor": "white",
           "ticks": "",
           "title": {
            "standoff": 15
           },
           "zerolinecolor": "white",
           "zerolinewidth": 2
          }
         }
        },
        "title": {
         "text": "3D service plot"
        },
        "width": 800
       }
      },
      "image/png": "[encoded data removed]",
      "text/html": [
       "<div>            <script src=\"https://cdnjs.cloudflare.com/ajax/libs/mathjax/2.7.5/MathJax.js?config=TeX-AMS-MML_SVG\"></script><script type=\"text/javascript\">if (window.MathJax && window.MathJax.Hub && window.MathJax.Hub.Config) {window.MathJax.Hub.Config({SVG: {font: \"STIX-Web\"}});}</script>                <script type=\"text/javascript\">window.PlotlyConfig = {MathJaxConfig: 'local'};</script>\n",
       "        <script charset=\"utf-8\" src=\"https://cdn.plot.ly/plotly-3.0.1.min.js\"></script>                <div id=\"43e40ba1-a35c-4ca0-a8de-18dfcdcfd024\" class=\"plotly-graph-div\" style=\"height:800px; width:800px;\"></div>            <script type=\"text/javascript\">                window.PLOTLYENV=window.PLOTLYENV || {};\n",
       "                    window.PLOTLYENV.BASE_URL='https://plot.ly';                                if (document.getElementById(\"43e40ba1-a35c-4ca0-a8de-18dfcdcfd024\")) {                    Plotly.newPlot(                        \"43e40ba1-a35c-4ca0-a8de-18dfcdcfd024\",                        [{\"colorscale\":[[0.0,\"rgb(255, 153, 51)\"],[0.1111111111111111,\"rgb(55, 128, 191)\"],[0.2222222222222222,\"rgb(50, 171, 96)\"],[0.3333333333333333,\"rgb(128, 0, 128)\"],[0.4444444444444444,\"rgb(219, 64, 82)\"],[0.5555555555555556,\"rgb(0, 128, 128)\"],[0.6666666666666666,\"rgb(255, 255, 51)\"],[0.7777777777777778,\"rgb(128, 128, 0)\"],[0.8888888888888888,\"rgb(251, 128, 114)\"],[1.0,\"rgb(128, 177, 211)\"]],\"x\":[0,1,2,3,4,5,6,7,8,9,10,11,12,13,14,15,16,17,18,19,20,21,22,23,24,25,26,27,28,29,30,31,32,33,34,35,36,37,38,39,40,41,42,43,44,45,46,47,48,49],\"y\":[\"A\",\"B\"],\"z\":{\"dtype\":\"f8\",\"bdata\":\"Biat6\\u002fWP6r9xvyw1sKrUP1yPkZ30w+E\\u002fkP6gbyNA4T90Z5pq68fSP4R4kVQtNfG\\u002fz2qvbWLe2D+s6sQDcejqvzJ+SzCAsME\\u002foak3nj\\u002fd67+S3uK7IHGuP3YY571r2OK\\u002fNzF76Tq03z+Rbl3Fp2XevxI9uf\\u002fU\\u002fNe\\u002fhMCe4w8h8j+DEhKoCyXgP4ABlBa+P+W\\u002fjI1quXzt27\\u002fDInYHfRjnP022ugd\\u002fW\\u002fa\\u002fsqQmNYdHAUBOkWiHyUy7v++Mxc9\\u002fFPk\\u002fkdU+CPLS07\\u002f4eJic0cnSP97kVy797aU\\u002fGSo\\u002fpDcG+D8ZJOlzqvfXP433NOnMffA\\u002fwbumxLUE0L8GQPUdxh3RPyNKcGgoFri\\u002fcnwjkxmv2L8pzeaxBAO9P64rT13qq+4\\u002fWx2nYF0I4T886gxopNHxPxY5kYnLlfG\\u002fiAmUfCJG6T+EZstOs5z+P7mk8zOOY7k\\u002fhzgf2+f05L\\u002fHFGACHsHgP4tW8b0tGfW\\u002fQPy4l2E\\u002fCUAPerOUy6zHvy3qXJGokeE\\u002f8Wc\\u002frqwA8b+V+xTx2fHCv8NEbC7wTJM\\u002fNfI3GGLk+b9XRp5nvHzPP8AAPr4gxfe\\u002fq+Ohv6xN1L9tYb139eTuv06Ate0XogVAVRjEvIkv4b\\u002ffUGQckkHwPwlN2i77V8I\\u002fVhBerKq56D\\u002fm+DC\\u002fUdUMQNIVtroZ49g\\u002f7Hc2oipF6b+q8HG78Oryv+\\u002f6xJYFgNg\\u002fVre6QXOh+z9era1BxObcPxGFGa2rpdu\\u002f3ZetVxih9b+HS7pRy2j5vx41tB+4PwFA2zG9YO2s8r95bwuJMTDMP4+o04TJ6fO\\u002fPa4\\u002fsekC2D8jFJd2izDBP6PTYsQ6Xvo\\u002fqwzb\\u002frTU47\\u002f8SuUKjzfePyh+xX98YALA5yxk2qQx8L\\u002fZfqRto5oCQA9JLwv\\u002f1N4\\u002fCg\\u002f3ImSg6b+H3hMo53vpP21pLKABA9q\\u002fkIQTKjVI7793cTJ7Vq7lv\\u002fXjkN2h698\\u002f8xJbtIbN9T+Q0HywqJ39vzCnbnGUMfO\\u002f11nCtN6a8D+KHZq87Ur\\u002fP4XmiuKZhLq\\u002fPuN016M43r84SmDJjzLnP0\\u002fjX89sDPI\\u002feSDGzktf0r8=\",\"shape\":\"2, 50\"},\"type\":\"surface\"}],                        {\"height\":800,\"scene\":{\"xaxis\":{\"title\":{\"text\":\"X\"}},\"yaxis\":{\"title\":{\"text\":\"Y\"}},\"zaxis\":{\"title\":{\"text\":\"Z\"}}},\"template\":{\"data\":{\"barpolar\":[{\"marker\":{\"line\":{\"color\":\"#E5ECF6\",\"width\":0.5},\"pattern\":{\"fillmode\":\"overlay\",\"size\":10,\"solidity\":0.2}},\"type\":\"barpolar\"}],\"bar\":[{\"error_x\":{\"color\":\"#2a3f5f\"},\"error_y\":{\"color\":\"#2a3f5f\"},\"marker\":{\"line\":{\"color\":\"#E5ECF6\",\"width\":0.5},\"pattern\":{\"fillmode\":\"overlay\",\"size\":10,\"solidity\":0.2}},\"type\":\"bar\"}],\"carpet\":[{\"aaxis\":{\"endlinecolor\":\"#2a3f5f\",\"gridcolor\":\"white\",\"linecolor\":\"white\",\"minorgridcolor\":\"white\",\"startlinecolor\":\"#2a3f5f\"},\"baxis\":{\"endlinecolor\":\"#2a3f5f\",\"gridcolor\":\"white\",\"linecolor\":\"white\",\"minorgridcolor\":\"white\",\"startlinecolor\":\"#2a3f5f\"},\"type\":\"carpet\"}],\"choropleth\":[{\"colorbar\":{\"outlinewidth\":0,\"ticks\":\"\"},\"type\":\"choropleth\"}],\"contourcarpet\":[{\"colorbar\":{\"outlinewidth\":0,\"ticks\":\"\"},\"type\":\"contourcarpet\"}],\"contour\":[{\"colorbar\":{\"outlinewidth\":0,\"ticks\":\"\"},\"colorscale\":[[0.0,\"#0d0887\"],[0.1111111111111111,\"#46039f\"],[0.2222222222222222,\"#7201a8\"],[0.3333333333333333,\"#9c179e\"],[0.4444444444444444,\"#bd3786\"],[0.5555555555555556,\"#d8576b\"],[0.6666666666666666,\"#ed7953\"],[0.7777777777777778,\"#fb9f3a\"],[0.8888888888888888,\"#fdca26\"],[1.0,\"#f0f921\"]],\"type\":\"contour\"}],\"heatmap\":[{\"colorbar\":{\"outlinewidth\":0,\"ticks\":\"\"},\"colorscale\":[[0.0,\"#0d0887\"],[0.1111111111111111,\"#46039f\"],[0.2222222222222222,\"#7201a8\"],[0.3333333333333333,\"#9c179e\"],[0.4444444444444444,\"#bd3786\"],[0.5555555555555556,\"#d8576b\"],[0.6666666666666666,\"#ed7953\"],[0.7777777777777778,\"#fb9f3a\"],[0.8888888888888888,\"#fdca26\"],[1.0,\"#f0f921\"]],\"type\":\"heatmap\"}],\"histogram2dcontour\":[{\"colorbar\":{\"outlinewidth\":0,\"ticks\":\"\"},\"colorscale\":[[0.0,\"#0d0887\"],[0.1111111111111111,\"#46039f\"],[0.2222222222222222,\"#7201a8\"],[0.3333333333333333,\"#9c179e\"],[0.4444444444444444,\"#bd3786\"],[0.5555555555555556,\"#d8576b\"],[0.6666666666666666,\"#ed7953\"],[0.7777777777777778,\"#fb9f3a\"],[0.8888888888888888,\"#fdca26\"],[1.0,\"#f0f921\"]],\"type\":\"histogram2dcontour\"}],\"histogram2d\":[{\"colorbar\":{\"outlinewidth\":0,\"ticks\":\"\"},\"colorscale\":[[0.0,\"#0d0887\"],[0.1111111111111111,\"#46039f\"],[0.2222222222222222,\"#7201a8\"],[0.3333333333333333,\"#9c179e\"],[0.4444444444444444,\"#bd3786\"],[0.5555555555555556,\"#d8576b\"],[0.6666666666666666,\"#ed7953\"],[0.7777777777777778,\"#fb9f3a\"],[0.8888888888888888,\"#fdca26\"],[1.0,\"#f0f921\"]],\"type\":\"histogram2d\"}],\"histogram\":[{\"marker\":{\"pattern\":{\"fillmode\":\"overlay\",\"size\":10,\"solidity\":0.2}},\"type\":\"histogram\"}],\"mesh3d\":[{\"colorbar\":{\"outlinewidth\":0,\"ticks\":\"\"},\"type\":\"mesh3d\"}],\"parcoords\":[{\"line\":{\"colorbar\":{\"outlinewidth\":0,\"ticks\":\"\"}},\"type\":\"parcoords\"}],\"pie\":[{\"automargin\":true,\"type\":\"pie\"}],\"scatter3d\":[{\"line\":{\"colorbar\":{\"outlinewidth\":0,\"ticks\":\"\"}},\"marker\":{\"colorbar\":{\"outlinewidth\":0,\"ticks\":\"\"}},\"type\":\"scatter3d\"}],\"scattercarpet\":[{\"marker\":{\"colorbar\":{\"outlinewidth\":0,\"ticks\":\"\"}},\"type\":\"scattercarpet\"}],\"scattergeo\":[{\"marker\":{\"colorbar\":{\"outlinewidth\":0,\"ticks\":\"\"}},\"type\":\"scattergeo\"}],\"scattergl\":[{\"marker\":{\"colorbar\":{\"outlinewidth\":0,\"ticks\":\"\"}},\"type\":\"scattergl\"}],\"scattermapbox\":[{\"marker\":{\"colorbar\":{\"outlinewidth\":0,\"ticks\":\"\"}},\"type\":\"scattermapbox\"}],\"scattermap\":[{\"marker\":{\"colorbar\":{\"outlinewidth\":0,\"ticks\":\"\"}},\"type\":\"scattermap\"}],\"scatterpolargl\":[{\"marker\":{\"colorbar\":{\"outlinewidth\":0,\"ticks\":\"\"}},\"type\":\"scatterpolargl\"}],\"scatterpolar\":[{\"marker\":{\"colorbar\":{\"outlinewidth\":0,\"ticks\":\"\"}},\"type\":\"scatterpolar\"}],\"scatter\":[{\"fillpattern\":{\"fillmode\":\"overlay\",\"size\":10,\"solidity\":0.2},\"type\":\"scatter\"}],\"scatterternary\":[{\"marker\":{\"colorbar\":{\"outlinewidth\":0,\"ticks\":\"\"}},\"type\":\"scatterternary\"}],\"surface\":[{\"colorbar\":{\"outlinewidth\":0,\"ticks\":\"\"},\"colorscale\":[[0.0,\"#0d0887\"],[0.1111111111111111,\"#46039f\"],[0.2222222222222222,\"#7201a8\"],[0.3333333333333333,\"#9c179e\"],[0.4444444444444444,\"#bd3786\"],[0.5555555555555556,\"#d8576b\"],[0.6666666666666666,\"#ed7953\"],[0.7777777777777778,\"#fb9f3a\"],[0.8888888888888888,\"#fdca26\"],[1.0,\"#f0f921\"]],\"type\":\"surface\"}],\"table\":[{\"cells\":{\"fill\":{\"color\":\"#EBF0F8\"},\"line\":{\"color\":\"white\"}},\"header\":{\"fill\":{\"color\":\"#C8D4E3\"},\"line\":{\"color\":\"white\"}},\"type\":\"table\"}]},\"layout\":{\"annotationdefaults\":{\"arrowcolor\":\"#2a3f5f\",\"arrowhead\":0,\"arrowwidth\":1},\"autotypenumbers\":\"strict\",\"coloraxis\":{\"colorbar\":{\"outlinewidth\":0,\"ticks\":\"\"}},\"colorscale\":{\"diverging\":[[0,\"#8e0152\"],[0.1,\"#c51b7d\"],[0.2,\"#de77ae\"],[0.3,\"#f1b6da\"],[0.4,\"#fde0ef\"],[0.5,\"#f7f7f7\"],[0.6,\"#e6f5d0\"],[0.7,\"#b8e186\"],[0.8,\"#7fbc41\"],[0.9,\"#4d9221\"],[1,\"#276419\"]],\"sequential\":[[0.0,\"#0d0887\"],[0.1111111111111111,\"#46039f\"],[0.2222222222222222,\"#7201a8\"],[0.3333333333333333,\"#9c179e\"],[0.4444444444444444,\"#bd3786\"],[0.5555555555555556,\"#d8576b\"],[0.6666666666666666,\"#ed7953\"],[0.7777777777777778,\"#fb9f3a\"],[0.8888888888888888,\"#fdca26\"],[1.0,\"#f0f921\"]],\"sequentialminus\":[[0.0,\"#0d0887\"],[0.1111111111111111,\"#46039f\"],[0.2222222222222222,\"#7201a8\"],[0.3333333333333333,\"#9c179e\"],[0.4444444444444444,\"#bd3786\"],[0.5555555555555556,\"#d8576b\"],[0.6666666666666666,\"#ed7953\"],[0.7777777777777778,\"#fb9f3a\"],[0.8888888888888888,\"#fdca26\"],[1.0,\"#f0f921\"]]},\"colorway\":[\"#636efa\",\"#EF553B\",\"#00cc96\",\"#ab63fa\",\"#FFA15A\",\"#19d3f3\",\"#FF6692\",\"#B6E880\",\"#FF97FF\",\"#FECB52\"],\"font\":{\"color\":\"#2a3f5f\"},\"geo\":{\"bgcolor\":\"white\",\"lakecolor\":\"white\",\"landcolor\":\"#E5ECF6\",\"showlakes\":true,\"showland\":true,\"subunitcolor\":\"white\"},\"hoverlabel\":{\"align\":\"left\"},\"hovermode\":\"closest\",\"mapbox\":{\"style\":\"light\"},\"paper_bgcolor\":\"white\",\"plot_bgcolor\":\"#E5ECF6\",\"polar\":{\"angularaxis\":{\"gridcolor\":\"white\",\"linecolor\":\"white\",\"ticks\":\"\"},\"bgcolor\":\"#E5ECF6\",\"radialaxis\":{\"gridcolor\":\"white\",\"linecolor\":\"white\",\"ticks\":\"\"}},\"scene\":{\"xaxis\":{\"backgroundcolor\":\"#E5ECF6\",\"gridcolor\":\"white\",\"gridwidth\":2,\"linecolor\":\"white\",\"showbackground\":true,\"ticks\":\"\",\"zerolinecolor\":\"white\"},\"yaxis\":{\"backgroundcolor\":\"#E5ECF6\",\"gridcolor\":\"white\",\"gridwidth\":2,\"linecolor\":\"white\",\"showbackground\":true,\"ticks\":\"\",\"zerolinecolor\":\"white\"},\"zaxis\":{\"backgroundcolor\":\"#E5ECF6\",\"gridcolor\":\"white\",\"gridwidth\":2,\"linecolor\":\"white\",\"showbackground\":true,\"ticks\":\"\",\"zerolinecolor\":\"white\"}},\"shapedefaults\":{\"line\":{\"color\":\"#2a3f5f\"}},\"ternary\":{\"aaxis\":{\"gridcolor\":\"white\",\"linecolor\":\"white\",\"ticks\":\"\"},\"baxis\":{\"gridcolor\":\"white\",\"linecolor\":\"white\",\"ticks\":\"\"},\"bgcolor\":\"#E5ECF6\",\"caxis\":{\"gridcolor\":\"white\",\"linecolor\":\"white\",\"ticks\":\"\"}},\"title\":{\"x\":0.05},\"xaxis\":{\"automargin\":true,\"gridcolor\":\"white\",\"linecolor\":\"white\",\"ticks\":\"\",\"title\":{\"standoff\":15},\"zerolinecolor\":\"white\",\"zerolinewidth\":2},\"yaxis\":{\"automargin\":true,\"gridcolor\":\"white\",\"linecolor\":\"white\",\"ticks\":\"\",\"title\":{\"standoff\":15},\"zerolinecolor\":\"white\",\"zerolinewidth\":2}}},\"title\":{\"text\":\"3D service plot\"},\"width\":800},                        {\"showLink\": true, \"linkText\": \"Export to plot.ly\", \"plotlyServerURL\": \"https://plot.ly\", \"responsive\": true}                    ).then(function(){\n",
       "                            \n",
       "var gd = document.getElementById('43e40ba1-a35c-4ca0-a8de-18dfcdcfd024');\n",
       "var x = new MutationObserver(function (mutations, observer) {{\n",
       "        var display = window.getComputedStyle(gd).display;\n",
       "        if (!display || display === 'none') {{\n",
       "            console.log([gd, 'removed!']);\n",
       "            Plotly.purge(gd);\n",
       "            observer.disconnect();\n",
       "        }}\n",
       "}});\n",
       "\n",
       "// Listen for the removal of the full notebook cells\n",
       "var notebookContainer = gd.closest('#notebook-container');\n",
       "if (notebookContainer) {{\n",
       "    x.observe(notebookContainer, {childList: true});\n",
       "}}\n",
       "\n",
       "// Listen for the clearing of the current output cell\n",
       "var outputEl = gd.closest('.output');\n",
       "if (outputEl) {{\n",
       "    x.observe(outputEl, {childList: true});\n",
       "}}\n",
       "\n",
       "                        })                };            </script>        </div>"
      ]
     },
     "metadata": {},
     "output_type": "display_data"
    }
   ],
   "source": [
    "# Define the layout for the 3D surface plot using Plotly's Layout object\n",
    "layout = go.Layout(\n",
    "    title='3D service plot',  # Title of the entire plot\n",
    "    scene=dict(               # Configure the 3D coordinate system (scene)\n",
    "        xaxis=dict(title='X'),  # Label for the X-axis\n",
    "        yaxis=dict(title='Y'),  # Label for the Y-axis\n",
    "        zaxis=dict(title='Z'),  # Label for the Z-axis\n",
    "    ),\n",
    "    width=800,   # Set the width of the plot in pixels\n",
    "    height=800   # Set the height of the plot in pixels\n",
    ")\n",
    "\n",
    "# Use cufflinks' iplot method to create a 3D surface plot from the DataFrame 'df'\n",
    "df.iplot(kind='surface', layout=layout)\n",
    "# - 'kind=\"surface\"' specifies that the plot type is a 3D surface\n",
    "# - 'layout=layout' applies the layout settings defined above, including titles and size\n"
   ]
  },
  {
   "cell_type": "code",
   "execution_count": 130,
   "id": "fe4d4720-527a-4721-bc1d-d712fd649d7d",
   "metadata": {
    "scrolled": true
   },
   "outputs": [
    {
     "data": {
      "application/vnd.plotly.v1+json": {
       "config": {
        "plotlyServerURL": "https://plot.ly"
       },
       "data": [
        {
         "mode": "markers",
         "type": "scatter",
         "x": {
          "bdata": "AQIDBAU=",
          "dtype": "i1"
         },
         "y": {
          "bdata": "BQYHCAk=",
          "dtype": "i1"
         }
        }
       ],
       "layout": {
        "template": {
         "data": {
          "bar": [
           {
            "error_x": {
             "color": "#2a3f5f"
            },
            "error_y": {
             "color": "#2a3f5f"
            },
            "marker": {
             "line": {
              "color": "#E5ECF6",
              "width": 0.5
             },
             "pattern": {
              "fillmode": "overlay",
              "size": 10,
              "solidity": 0.2
             }
            },
            "type": "bar"
           }
          ],
          "barpolar": [
           {
            "marker": {
             "line": {
              "color": "#E5ECF6",
              "width": 0.5
             },
             "pattern": {
              "fillmode": "overlay",
              "size": 10,
              "solidity": 0.2
             }
            },
            "type": "barpolar"
           }
          ],
          "carpet": [
           {
            "aaxis": {
             "endlinecolor": "#2a3f5f",
             "gridcolor": "white",
             "linecolor": "white",
             "minorgridcolor": "white",
             "startlinecolor": "#2a3f5f"
            },
            "baxis": {
             "endlinecolor": "#2a3f5f",
             "gridcolor": "white",
             "linecolor": "white",
             "minorgridcolor": "white",
             "startlinecolor": "#2a3f5f"
            },
            "type": "carpet"
           }
          ],
          "choropleth": [
           {
            "colorbar": {
             "outlinewidth": 0,
             "ticks": ""
            },
            "type": "choropleth"
           }
          ],
          "contour": [
           {
            "colorbar": {
             "outlinewidth": 0,
             "ticks": ""
            },
            "colorscale": [
             [
              0,
              "#0d0887"
             ],
             [
              0.1111111111111111,
              "#46039f"
             ],
             [
              0.2222222222222222,
              "#7201a8"
             ],
             [
              0.3333333333333333,
              "#9c179e"
             ],
             [
              0.4444444444444444,
              "#bd3786"
             ],
             [
              0.5555555555555556,
              "#d8576b"
             ],
             [
              0.6666666666666666,
              "#ed7953"
             ],
             [
              0.7777777777777778,
              "#fb9f3a"
             ],
             [
              0.8888888888888888,
              "#fdca26"
             ],
             [
              1,
              "#f0f921"
             ]
            ],
            "type": "contour"
           }
          ],
          "contourcarpet": [
           {
            "colorbar": {
             "outlinewidth": 0,
             "ticks": ""
            },
            "type": "contourcarpet"
           }
          ],
          "heatmap": [
           {
            "colorbar": {
             "outlinewidth": 0,
             "ticks": ""
            },
            "colorscale": [
             [
              0,
              "#0d0887"
             ],
             [
              0.1111111111111111,
              "#46039f"
             ],
             [
              0.2222222222222222,
              "#7201a8"
             ],
             [
              0.3333333333333333,
              "#9c179e"
             ],
             [
              0.4444444444444444,
              "#bd3786"
             ],
             [
              0.5555555555555556,
              "#d8576b"
             ],
             [
              0.6666666666666666,
              "#ed7953"
             ],
             [
              0.7777777777777778,
              "#fb9f3a"
             ],
             [
              0.8888888888888888,
              "#fdca26"
             ],
             [
              1,
              "#f0f921"
             ]
            ],
            "type": "heatmap"
           }
          ],
          "histogram": [
           {
            "marker": {
             "pattern": {
              "fillmode": "overlay",
              "size": 10,
              "solidity": 0.2
             }
            },
            "type": "histogram"
           }
          ],
          "histogram2d": [
           {
            "colorbar": {
             "outlinewidth": 0,
             "ticks": ""
            },
            "colorscale": [
             [
              0,
              "#0d0887"
             ],
             [
              0.1111111111111111,
              "#46039f"
             ],
             [
              0.2222222222222222,
              "#7201a8"
             ],
             [
              0.3333333333333333,
              "#9c179e"
             ],
             [
              0.4444444444444444,
              "#bd3786"
             ],
             [
              0.5555555555555556,
              "#d8576b"
             ],
             [
              0.6666666666666666,
              "#ed7953"
             ],
             [
              0.7777777777777778,
              "#fb9f3a"
             ],
             [
              0.8888888888888888,
              "#fdca26"
             ],
             [
              1,
              "#f0f921"
             ]
            ],
            "type": "histogram2d"
           }
          ],
          "histogram2dcontour": [
           {
            "colorbar": {
             "outlinewidth": 0,
             "ticks": ""
            },
            "colorscale": [
             [
              0,
              "#0d0887"
             ],
             [
              0.1111111111111111,
              "#46039f"
             ],
             [
              0.2222222222222222,
              "#7201a8"
             ],
             [
              0.3333333333333333,
              "#9c179e"
             ],
             [
              0.4444444444444444,
              "#bd3786"
             ],
             [
              0.5555555555555556,
              "#d8576b"
             ],
             [
              0.6666666666666666,
              "#ed7953"
             ],
             [
              0.7777777777777778,
              "#fb9f3a"
             ],
             [
              0.8888888888888888,
              "#fdca26"
             ],
             [
              1,
              "#f0f921"
             ]
            ],
            "type": "histogram2dcontour"
           }
          ],
          "mesh3d": [
           {
            "colorbar": {
             "outlinewidth": 0,
             "ticks": ""
            },
            "type": "mesh3d"
           }
          ],
          "parcoords": [
           {
            "line": {
             "colorbar": {
              "outlinewidth": 0,
              "ticks": ""
             }
            },
            "type": "parcoords"
           }
          ],
          "pie": [
           {
            "automargin": true,
            "type": "pie"
           }
          ],
          "scatter": [
           {
            "fillpattern": {
             "fillmode": "overlay",
             "size": 10,
             "solidity": 0.2
            },
            "type": "scatter"
           }
          ],
          "scatter3d": [
           {
            "line": {
             "colorbar": {
              "outlinewidth": 0,
              "ticks": ""
             }
            },
            "marker": {
             "colorbar": {
              "outlinewidth": 0,
              "ticks": ""
             }
            },
            "type": "scatter3d"
           }
          ],
          "scattercarpet": [
           {
            "marker": {
             "colorbar": {
              "outlinewidth": 0,
              "ticks": ""
             }
            },
            "type": "scattercarpet"
           }
          ],
          "scattergeo": [
           {
            "marker": {
             "colorbar": {
              "outlinewidth": 0,
              "ticks": ""
             }
            },
            "type": "scattergeo"
           }
          ],
          "scattergl": [
           {
            "marker": {
             "colorbar": {
              "outlinewidth": 0,
              "ticks": ""
             }
            },
            "type": "scattergl"
           }
          ],
          "scattermap": [
           {
            "marker": {
             "colorbar": {
              "outlinewidth": 0,
              "ticks": ""
             }
            },
            "type": "scattermap"
           }
          ],
          "scattermapbox": [
           {
            "marker": {
             "colorbar": {
              "outlinewidth": 0,
              "ticks": ""
             }
            },
            "type": "scattermapbox"
           }
          ],
          "scatterpolar": [
           {
            "marker": {
             "colorbar": {
              "outlinewidth": 0,
              "ticks": ""
             }
            },
            "type": "scatterpolar"
           }
          ],
          "scatterpolargl": [
           {
            "marker": {
             "colorbar": {
              "outlinewidth": 0,
              "ticks": ""
             }
            },
            "type": "scatterpolargl"
           }
          ],
          "scatterternary": [
           {
            "marker": {
             "colorbar": {
              "outlinewidth": 0,
              "ticks": ""
             }
            },
            "type": "scatterternary"
           }
          ],
          "surface": [
           {
            "colorbar": {
             "outlinewidth": 0,
             "ticks": ""
            },
            "colorscale": [
             [
              0,
              "#0d0887"
             ],
             [
              0.1111111111111111,
              "#46039f"
             ],
             [
              0.2222222222222222,
              "#7201a8"
             ],
             [
              0.3333333333333333,
              "#9c179e"
             ],
             [
              0.4444444444444444,
              "#bd3786"
             ],
             [
              0.5555555555555556,
              "#d8576b"
             ],
             [
              0.6666666666666666,
              "#ed7953"
             ],
             [
              0.7777777777777778,
              "#fb9f3a"
             ],
             [
              0.8888888888888888,
              "#fdca26"
             ],
             [
              1,
              "#f0f921"
             ]
            ],
            "type": "surface"
           }
          ],
          "table": [
           {
            "cells": {
             "fill": {
              "color": "#EBF0F8"
             },
             "line": {
              "color": "white"
             }
            },
            "header": {
             "fill": {
              "color": "#C8D4E3"
             },
             "line": {
              "color": "white"
             }
            },
            "type": "table"
           }
          ]
         },
         "layout": {
          "annotationdefaults": {
           "arrowcolor": "#2a3f5f",
           "arrowhead": 0,
           "arrowwidth": 1
          },
          "autotypenumbers": "strict",
          "coloraxis": {
           "colorbar": {
            "outlinewidth": 0,
            "ticks": ""
           }
          },
          "colorscale": {
           "diverging": [
            [
             0,
             "#8e0152"
            ],
            [
             0.1,
             "#c51b7d"
            ],
            [
             0.2,
             "#de77ae"
            ],
            [
             0.3,
             "#f1b6da"
            ],
            [
             0.4,
             "#fde0ef"
            ],
            [
             0.5,
             "#f7f7f7"
            ],
            [
             0.6,
             "#e6f5d0"
            ],
            [
             0.7,
             "#b8e186"
            ],
            [
             0.8,
             "#7fbc41"
            ],
            [
             0.9,
             "#4d9221"
            ],
            [
             1,
             "#276419"
            ]
           ],
           "sequential": [
            [
             0,
             "#0d0887"
            ],
            [
             0.1111111111111111,
             "#46039f"
            ],
            [
             0.2222222222222222,
             "#7201a8"
            ],
            [
             0.3333333333333333,
             "#9c179e"
            ],
            [
             0.4444444444444444,
             "#bd3786"
            ],
            [
             0.5555555555555556,
             "#d8576b"
            ],
            [
             0.6666666666666666,
             "#ed7953"
            ],
            [
             0.7777777777777778,
             "#fb9f3a"
            ],
            [
             0.8888888888888888,
             "#fdca26"
            ],
            [
             1,
             "#f0f921"
            ]
           ],
           "sequentialminus": [
            [
             0,
             "#0d0887"
            ],
            [
             0.1111111111111111,
             "#46039f"
            ],
            [
             0.2222222222222222,
             "#7201a8"
            ],
            [
             0.3333333333333333,
             "#9c179e"
            ],
            [
             0.4444444444444444,
             "#bd3786"
            ],
            [
             0.5555555555555556,
             "#d8576b"
            ],
            [
             0.6666666666666666,
             "#ed7953"
            ],
            [
             0.7777777777777778,
             "#fb9f3a"
            ],
            [
             0.8888888888888888,
             "#fdca26"
            ],
            [
             1,
             "#f0f921"
            ]
           ]
          },
          "colorway": [
           "#636efa",
           "#EF553B",
           "#00cc96",
           "#ab63fa",
           "#FFA15A",
           "#19d3f3",
           "#FF6692",
           "#B6E880",
           "#FF97FF",
           "#FECB52"
          ],
          "font": {
           "color": "#2a3f5f"
          },
          "geo": {
           "bgcolor": "white",
           "lakecolor": "white",
           "landcolor": "#E5ECF6",
           "showlakes": true,
           "showland": true,
           "subunitcolor": "white"
          },
          "hoverlabel": {
           "align": "left"
          },
          "hovermode": "closest",
          "mapbox": {
           "style": "light"
          },
          "paper_bgcolor": "white",
          "plot_bgcolor": "#E5ECF6",
          "polar": {
           "angularaxis": {
            "gridcolor": "white",
            "linecolor": "white",
            "ticks": ""
           },
           "bgcolor": "#E5ECF6",
           "radialaxis": {
            "gridcolor": "white",
            "linecolor": "white",
            "ticks": ""
           }
          },
          "scene": {
           "xaxis": {
            "backgroundcolor": "#E5ECF6",
            "gridcolor": "white",
            "gridwidth": 2,
            "linecolor": "white",
            "showbackground": true,
            "ticks": "",
            "zerolinecolor": "white"
           },
           "yaxis": {
            "backgroundcolor": "#E5ECF6",
            "gridcolor": "white",
            "gridwidth": 2,
            "linecolor": "white",
            "showbackground": true,
            "ticks": "",
            "zerolinecolor": "white"
           },
           "zaxis": {
            "backgroundcolor": "#E5ECF6",
            "gridcolor": "white",
            "gridwidth": 2,
            "linecolor": "white",
            "showbackground": true,
            "ticks": "",
            "zerolinecolor": "white"
           }
          },
          "shapedefaults": {
           "line": {
            "color": "#2a3f5f"
           }
          },
          "ternary": {
           "aaxis": {
            "gridcolor": "white",
            "linecolor": "white",
            "ticks": ""
           },
           "baxis": {
            "gridcolor": "white",
            "linecolor": "white",
            "ticks": ""
           },
           "bgcolor": "#E5ECF6",
           "caxis": {
            "gridcolor": "white",
            "linecolor": "white",
            "ticks": ""
           }
          },
          "title": {
           "x": 0.05
          },
          "xaxis": {
           "automargin": true,
           "gridcolor": "white",
           "linecolor": "white",
           "ticks": "",
           "title": {
            "standoff": 15
           },
           "zerolinecolor": "white",
           "zerolinewidth": 2
          },
          "yaxis": {
           "automargin": true,
           "gridcolor": "white",
           "linecolor": "white",
           "ticks": "",
           "title": {
            "standoff": 15
           },
           "zerolinecolor": "white",
           "zerolinewidth": 2
          }
         }
        },
        "title": {
         "text": "Scatter Plot"
        },
        "xaxis": {
         "title": {
          "text": "X values"
         }
        },
        "yaxis": {
         "title": {
          "text": "Y Values"
         }
        }
       }
      },
      "image/png": "[encoded data removed]",
      "text/html": [
       "<div>            <script src=\"https://cdnjs.cloudflare.com/ajax/libs/mathjax/2.7.5/MathJax.js?config=TeX-AMS-MML_SVG\"></script><script type=\"text/javascript\">if (window.MathJax && window.MathJax.Hub && window.MathJax.Hub.Config) {window.MathJax.Hub.Config({SVG: {font: \"STIX-Web\"}});}</script>                <script type=\"text/javascript\">window.PlotlyConfig = {MathJaxConfig: 'local'};</script>\n",
       "        <script charset=\"utf-8\" src=\"https://cdn.plot.ly/plotly-3.0.1.min.js\"></script>                <div id=\"884adb08-b85c-4892-b224-41c760808443\" class=\"plotly-graph-div\" style=\"height:525px; width:100%;\"></div>            <script type=\"text/javascript\">                window.PLOTLYENV=window.PLOTLYENV || {};                                if (document.getElementById(\"884adb08-b85c-4892-b224-41c760808443\")) {                    Plotly.newPlot(                        \"884adb08-b85c-4892-b224-41c760808443\",                        [{\"mode\":\"markers\",\"x\":{\"dtype\":\"i1\",\"bdata\":\"AQIDBAU=\"},\"y\":{\"dtype\":\"i1\",\"bdata\":\"BQYHCAk=\"},\"type\":\"scatter\"}],                        {\"template\":{\"data\":{\"histogram2dcontour\":[{\"type\":\"histogram2dcontour\",\"colorbar\":{\"outlinewidth\":0,\"ticks\":\"\"},\"colorscale\":[[0.0,\"#0d0887\"],[0.1111111111111111,\"#46039f\"],[0.2222222222222222,\"#7201a8\"],[0.3333333333333333,\"#9c179e\"],[0.4444444444444444,\"#bd3786\"],[0.5555555555555556,\"#d8576b\"],[0.6666666666666666,\"#ed7953\"],[0.7777777777777778,\"#fb9f3a\"],[0.8888888888888888,\"#fdca26\"],[1.0,\"#f0f921\"]]}],\"choropleth\":[{\"type\":\"choropleth\",\"colorbar\":{\"outlinewidth\":0,\"ticks\":\"\"}}],\"histogram2d\":[{\"type\":\"histogram2d\",\"colorbar\":{\"outlinewidth\":0,\"ticks\":\"\"},\"colorscale\":[[0.0,\"#0d0887\"],[0.1111111111111111,\"#46039f\"],[0.2222222222222222,\"#7201a8\"],[0.3333333333333333,\"#9c179e\"],[0.4444444444444444,\"#bd3786\"],[0.5555555555555556,\"#d8576b\"],[0.6666666666666666,\"#ed7953\"],[0.7777777777777778,\"#fb9f3a\"],[0.8888888888888888,\"#fdca26\"],[1.0,\"#f0f921\"]]}],\"heatmap\":[{\"type\":\"heatmap\",\"colorbar\":{\"outlinewidth\":0,\"ticks\":\"\"},\"colorscale\":[[0.0,\"#0d0887\"],[0.1111111111111111,\"#46039f\"],[0.2222222222222222,\"#7201a8\"],[0.3333333333333333,\"#9c179e\"],[0.4444444444444444,\"#bd3786\"],[0.5555555555555556,\"#d8576b\"],[0.6666666666666666,\"#ed7953\"],[0.7777777777777778,\"#fb9f3a\"],[0.8888888888888888,\"#fdca26\"],[1.0,\"#f0f921\"]]}],\"contourcarpet\":[{\"type\":\"contourcarpet\",\"colorbar\":{\"outlinewidth\":0,\"ticks\":\"\"}}],\"contour\":[{\"type\":\"contour\",\"colorbar\":{\"outlinewidth\":0,\"ticks\":\"\"},\"colorscale\":[[0.0,\"#0d0887\"],[0.1111111111111111,\"#46039f\"],[0.2222222222222222,\"#7201a8\"],[0.3333333333333333,\"#9c179e\"],[0.4444444444444444,\"#bd3786\"],[0.5555555555555556,\"#d8576b\"],[0.6666666666666666,\"#ed7953\"],[0.7777777777777778,\"#fb9f3a\"],[0.8888888888888888,\"#fdca26\"],[1.0,\"#f0f921\"]]}],\"surface\":[{\"type\":\"surface\",\"colorbar\":{\"outlinewidth\":0,\"ticks\":\"\"},\"colorscale\":[[0.0,\"#0d0887\"],[0.1111111111111111,\"#46039f\"],[0.2222222222222222,\"#7201a8\"],[0.3333333333333333,\"#9c179e\"],[0.4444444444444444,\"#bd3786\"],[0.5555555555555556,\"#d8576b\"],[0.6666666666666666,\"#ed7953\"],[0.7777777777777778,\"#fb9f3a\"],[0.8888888888888888,\"#fdca26\"],[1.0,\"#f0f921\"]]}],\"mesh3d\":[{\"type\":\"mesh3d\",\"colorbar\":{\"outlinewidth\":0,\"ticks\":\"\"}}],\"scatter\":[{\"fillpattern\":{\"fillmode\":\"overlay\",\"size\":10,\"solidity\":0.2},\"type\":\"scatter\"}],\"parcoords\":[{\"type\":\"parcoords\",\"line\":{\"colorbar\":{\"outlinewidth\":0,\"ticks\":\"\"}}}],\"scatterpolargl\":[{\"type\":\"scatterpolargl\",\"marker\":{\"colorbar\":{\"outlinewidth\":0,\"ticks\":\"\"}}}],\"bar\":[{\"error_x\":{\"color\":\"#2a3f5f\"},\"error_y\":{\"color\":\"#2a3f5f\"},\"marker\":{\"line\":{\"color\":\"#E5ECF6\",\"width\":0.5},\"pattern\":{\"fillmode\":\"overlay\",\"size\":10,\"solidity\":0.2}},\"type\":\"bar\"}],\"scattergeo\":[{\"type\":\"scattergeo\",\"marker\":{\"colorbar\":{\"outlinewidth\":0,\"ticks\":\"\"}}}],\"scatterpolar\":[{\"type\":\"scatterpolar\",\"marker\":{\"colorbar\":{\"outlinewidth\":0,\"ticks\":\"\"}}}],\"histogram\":[{\"marker\":{\"pattern\":{\"fillmode\":\"overlay\",\"size\":10,\"solidity\":0.2}},\"type\":\"histogram\"}],\"scattergl\":[{\"type\":\"scattergl\",\"marker\":{\"colorbar\":{\"outlinewidth\":0,\"ticks\":\"\"}}}],\"scatter3d\":[{\"type\":\"scatter3d\",\"line\":{\"colorbar\":{\"outlinewidth\":0,\"ticks\":\"\"}},\"marker\":{\"colorbar\":{\"outlinewidth\":0,\"ticks\":\"\"}}}],\"scattermap\":[{\"type\":\"scattermap\",\"marker\":{\"colorbar\":{\"outlinewidth\":0,\"ticks\":\"\"}}}],\"scattermapbox\":[{\"type\":\"scattermapbox\",\"marker\":{\"colorbar\":{\"outlinewidth\":0,\"ticks\":\"\"}}}],\"scatterternary\":[{\"type\":\"scatterternary\",\"marker\":{\"colorbar\":{\"outlinewidth\":0,\"ticks\":\"\"}}}],\"scattercarpet\":[{\"type\":\"scattercarpet\",\"marker\":{\"colorbar\":{\"outlinewidth\":0,\"ticks\":\"\"}}}],\"carpet\":[{\"aaxis\":{\"endlinecolor\":\"#2a3f5f\",\"gridcolor\":\"white\",\"linecolor\":\"white\",\"minorgridcolor\":\"white\",\"startlinecolor\":\"#2a3f5f\"},\"baxis\":{\"endlinecolor\":\"#2a3f5f\",\"gridcolor\":\"white\",\"linecolor\":\"white\",\"minorgridcolor\":\"white\",\"startlinecolor\":\"#2a3f5f\"},\"type\":\"carpet\"}],\"table\":[{\"cells\":{\"fill\":{\"color\":\"#EBF0F8\"},\"line\":{\"color\":\"white\"}},\"header\":{\"fill\":{\"color\":\"#C8D4E3\"},\"line\":{\"color\":\"white\"}},\"type\":\"table\"}],\"barpolar\":[{\"marker\":{\"line\":{\"color\":\"#E5ECF6\",\"width\":0.5},\"pattern\":{\"fillmode\":\"overlay\",\"size\":10,\"solidity\":0.2}},\"type\":\"barpolar\"}],\"pie\":[{\"automargin\":true,\"type\":\"pie\"}]},\"layout\":{\"autotypenumbers\":\"strict\",\"colorway\":[\"#636efa\",\"#EF553B\",\"#00cc96\",\"#ab63fa\",\"#FFA15A\",\"#19d3f3\",\"#FF6692\",\"#B6E880\",\"#FF97FF\",\"#FECB52\"],\"font\":{\"color\":\"#2a3f5f\"},\"hovermode\":\"closest\",\"hoverlabel\":{\"align\":\"left\"},\"paper_bgcolor\":\"white\",\"plot_bgcolor\":\"#E5ECF6\",\"polar\":{\"bgcolor\":\"#E5ECF6\",\"angularaxis\":{\"gridcolor\":\"white\",\"linecolor\":\"white\",\"ticks\":\"\"},\"radialaxis\":{\"gridcolor\":\"white\",\"linecolor\":\"white\",\"ticks\":\"\"}},\"ternary\":{\"bgcolor\":\"#E5ECF6\",\"aaxis\":{\"gridcolor\":\"white\",\"linecolor\":\"white\",\"ticks\":\"\"},\"baxis\":{\"gridcolor\":\"white\",\"linecolor\":\"white\",\"ticks\":\"\"},\"caxis\":{\"gridcolor\":\"white\",\"linecolor\":\"white\",\"ticks\":\"\"}},\"coloraxis\":{\"colorbar\":{\"outlinewidth\":0,\"ticks\":\"\"}},\"colorscale\":{\"sequential\":[[0.0,\"#0d0887\"],[0.1111111111111111,\"#46039f\"],[0.2222222222222222,\"#7201a8\"],[0.3333333333333333,\"#9c179e\"],[0.4444444444444444,\"#bd3786\"],[0.5555555555555556,\"#d8576b\"],[0.6666666666666666,\"#ed7953\"],[0.7777777777777778,\"#fb9f3a\"],[0.8888888888888888,\"#fdca26\"],[1.0,\"#f0f921\"]],\"sequentialminus\":[[0.0,\"#0d0887\"],[0.1111111111111111,\"#46039f\"],[0.2222222222222222,\"#7201a8\"],[0.3333333333333333,\"#9c179e\"],[0.4444444444444444,\"#bd3786\"],[0.5555555555555556,\"#d8576b\"],[0.6666666666666666,\"#ed7953\"],[0.7777777777777778,\"#fb9f3a\"],[0.8888888888888888,\"#fdca26\"],[1.0,\"#f0f921\"]],\"diverging\":[[0,\"#8e0152\"],[0.1,\"#c51b7d\"],[0.2,\"#de77ae\"],[0.3,\"#f1b6da\"],[0.4,\"#fde0ef\"],[0.5,\"#f7f7f7\"],[0.6,\"#e6f5d0\"],[0.7,\"#b8e186\"],[0.8,\"#7fbc41\"],[0.9,\"#4d9221\"],[1,\"#276419\"]]},\"xaxis\":{\"gridcolor\":\"white\",\"linecolor\":\"white\",\"ticks\":\"\",\"title\":{\"standoff\":15},\"zerolinecolor\":\"white\",\"automargin\":true,\"zerolinewidth\":2},\"yaxis\":{\"gridcolor\":\"white\",\"linecolor\":\"white\",\"ticks\":\"\",\"title\":{\"standoff\":15},\"zerolinecolor\":\"white\",\"automargin\":true,\"zerolinewidth\":2},\"scene\":{\"xaxis\":{\"backgroundcolor\":\"#E5ECF6\",\"gridcolor\":\"white\",\"linecolor\":\"white\",\"showbackground\":true,\"ticks\":\"\",\"zerolinecolor\":\"white\",\"gridwidth\":2},\"yaxis\":{\"backgroundcolor\":\"#E5ECF6\",\"gridcolor\":\"white\",\"linecolor\":\"white\",\"showbackground\":true,\"ticks\":\"\",\"zerolinecolor\":\"white\",\"gridwidth\":2},\"zaxis\":{\"backgroundcolor\":\"#E5ECF6\",\"gridcolor\":\"white\",\"linecolor\":\"white\",\"showbackground\":true,\"ticks\":\"\",\"zerolinecolor\":\"white\",\"gridwidth\":2}},\"shapedefaults\":{\"line\":{\"color\":\"#2a3f5f\"}},\"annotationdefaults\":{\"arrowcolor\":\"#2a3f5f\",\"arrowhead\":0,\"arrowwidth\":1},\"geo\":{\"bgcolor\":\"white\",\"landcolor\":\"#E5ECF6\",\"subunitcolor\":\"white\",\"showland\":true,\"showlakes\":true,\"lakecolor\":\"white\"},\"title\":{\"x\":0.05},\"mapbox\":{\"style\":\"light\"}}},\"title\":{\"text\":\"Scatter Plot\"},\"xaxis\":{\"title\":{\"text\":\"X values\"}},\"yaxis\":{\"title\":{\"text\":\"Y Values\"}}},                        {\"responsive\": true}                    ).then(function(){\n",
       "                            \n",
       "var gd = document.getElementById('884adb08-b85c-4892-b224-41c760808443');\n",
       "var x = new MutationObserver(function (mutations, observer) {{\n",
       "        var display = window.getComputedStyle(gd).display;\n",
       "        if (!display || display === 'none') {{\n",
       "            console.log([gd, 'removed!']);\n",
       "            Plotly.purge(gd);\n",
       "            observer.disconnect();\n",
       "        }}\n",
       "}});\n",
       "\n",
       "// Listen for the removal of the full notebook cells\n",
       "var notebookContainer = gd.closest('#notebook-container');\n",
       "if (notebookContainer) {{\n",
       "    x.observe(notebookContainer, {childList: true});\n",
       "}}\n",
       "\n",
       "// Listen for the clearing of the current output cell\n",
       "var outputEl = gd.closest('.output');\n",
       "if (outputEl) {{\n",
       "    x.observe(outputEl, {childList: true});\n",
       "}}\n",
       "\n",
       "                        })                };            </script>        </div>"
      ]
     },
     "metadata": {},
     "output_type": "display_data"
    }
   ],
   "source": [
    "import plotly.graph_objs as go\n",
    "import pandas as pd\n",
    "\n",
    "# Create a sample DataFrame with two columns A and B\n",
    "data = {\n",
    "    'A': [1, 2, 3, 4, 5],  # X-axis values\n",
    "    'B': [5, 6, 7, 8, 9]   # Y-axis values\n",
    "}\n",
    "df = pd.DataFrame(data)\n",
    "\n",
    "# Create a Scatter plot figure using Plotly\n",
    "fig = go.Figure(\n",
    "    go.Scatter(\n",
    "        x=df['A'],         # Set x-axis data from column 'A'\n",
    "        y=df['B'],         # Set y-axis data from column 'B'\n",
    "        mode='markers'     # Display only markers (points)\n",
    "    )\n",
    ")\n",
    "\n",
    "# Update the layout of the figure with titles and styling\n",
    "fig.update_layout(\n",
    "    title='Scatter Plot',        # Title of the plot\n",
    "    xaxis_title='X values',      # Label for the x-axis\n",
    "    yaxis_title='Y Values',      # Label for the y-axis\n",
    "    template='plotly'            # Use Plotly's default styling template\n",
    ")\n",
    "\n",
    "# Show the interactive plot\n",
    "fig.show()\n"
   ]
  },
  {
   "cell_type": "code",
   "execution_count": 28,
   "id": "f97876eb-a009-4226-9dbd-66ac825d3ef9",
   "metadata": {},
   "outputs": [
    {
     "data": {
      "text/plain": [
       "<Axes: >"
      ]
     },
     "execution_count": 28,
     "metadata": {},
     "output_type": "execute_result"
    },
    {
     "data": {
      "image/png": "[encoded data removed]",
      "text/plain": [
       "<Figure size 640x480 with 1 Axes>"
      ]
     },
     "metadata": {},
     "output_type": "display_data"
    }
   ],
   "source": [
    "df.plot()"
   ]
  },
  {
   "cell_type": "code",
   "execution_count": null,
   "id": "1efb1788-ee1c-47ca-941b-a7f25424fdb9",
   "metadata": {},
   "outputs": [],
   "source": []
  },
  {
   "cell_type": "code",
   "execution_count": null,
   "id": "1ec8d6ce-d11f-4a61-91fc-73274e3d7536",
   "metadata": {},
   "outputs": [],
   "source": []
  },
  {
   "cell_type": "code",
   "execution_count": null,
   "id": "da099b15-da32-44a5-a1fc-3b0c4d45327b",
   "metadata": {},
   "outputs": [],
   "source": []
  },
  {
   "cell_type": "code",
   "execution_count": null,
   "id": "38b26b73-4933-437b-9005-0e61e3401f1e",
   "metadata": {},
   "outputs": [],
   "source": []
  },
  {
   "cell_type": "code",
   "execution_count": null,
   "id": "ca74d6ae-2626-4cf3-a5f3-56288a50780d",
   "metadata": {},
   "outputs": [],
   "source": []
  },
  {
   "cell_type": "code",
   "execution_count": null,
   "id": "61198fc3-f8f2-4279-b4d7-52bdd009176b",
   "metadata": {},
   "outputs": [],
   "source": []
  }
 ],
 "metadata": {
  "kernelspec": {
   "display_name": "Python 3 (ipykernel)",
   "language": "python",
   "name": "python3"
  },
  "language_info": {
   "codemirror_mode": {
    "name": "ipython",
    "version": 3
   },
   "file_extension": ".py",
   "mimetype": "text/x-python",
   "name": "python",
   "nbconvert_exporter": "python",
   "pygments_lexer": "ipython3",
   "version": "3.11.11"
  }
 },
 "nbformat": 4,
 "nbformat_minor": 5
}
