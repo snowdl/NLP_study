{
 "cells": [
  {
   "cell_type": "code",
   "execution_count": 77,
   "id": "a4d255b9-0706-4945-ad34-cc9b6669559e",
   "metadata": {},
   "outputs": [],
   "source": [
    "#import libraries\n",
    "import numpy as np  # numerical operations\n",
    "import matplotlib.pyplot as plt  # for data visualization\n",
    "from tensorflow.keras.datasets import imdb  # IMDB dataset\n",
    "from tensorflow.keras.preprocessing.sequence import pad_sequences  # for sequence padding\n",
    "from tensorflow.keras.models import Sequential  # model architecture\n",
    "from tensorflow.keras.layers import Embedding, LSTM, Dense, Bidirectional, Dropout  # neural network layers\n"
   ]
  },
  {
   "cell_type": "code",
   "execution_count": 37,
   "id": "b066d11f-2aae-4218-b9d1-034ec3571f0a",
   "metadata": {},
   "outputs": [],
   "source": [
    "# 1. Load the IMDb dataset (top 10,000 most frequent words)\n",
    "(X_train, y_train), (X_test, y_test) = imdb.load_data(num_words=10000)"
   ]
  },
  {
   "cell_type": "code",
   "execution_count": 38,
   "id": "3f734508-cbc1-47d1-af3a-b8740f997e11",
   "metadata": {},
   "outputs": [
    {
     "name": "stdout",
     "output_type": "stream",
     "text": [
      "Number of training reviews: 25000\n",
      "Number of test reviews: 25000\n",
      "Number of categories: 2\n"
     ]
    }
   ],
   "source": [
    "#2. Print basic dataset information\n",
    "print('Number of training reviews:', len(X_train))\n",
    "print('Number of test reviews:', len(X_test))\n",
    "num_classes = len(set(y_train))\n",
    "print('Number of categories:', num_classes)"
   ]
  },
  {
   "cell_type": "code",
   "execution_count": 78,
   "id": "85b5442e-e5a3-4de4-ac8a-c9624c6ce0de",
   "metadata": {},
   "outputs": [
    {
     "name": "stdout",
     "output_type": "stream",
     "text": [
      "Frequency of each label:\n",
      "[[    0     1]\n",
      " [12500 12500]]\n"
     ]
    }
   ],
   "source": [
    "# 3. Print frequency of each label (class distribution)\n",
    "unique_elements, counts_elements = np.unique(y_train, return_counts=True)\n",
    "print(\"Frequency of each label:\")\n",
    "print(np.asarray((unique_elements, counts_elements)))\n",
    "\n",
    "# 0 = negative, 1 = positive, [12500 12500]] = num of samples"
   ]
  },
  {
   "cell_type": "code",
   "execution_count": 40,
   "id": "cf795c71-6af9-480e-a3ed-935f16cce5a4",
   "metadata": {},
   "outputs": [
    {
     "name": "stdout",
     "output_type": "stream",
     "text": [
      "First training review: [1, 14, 22, 16, 43, 530, 973, 1622, 1385, 65, 458, 4468, 66, 3941, 4, 173, 36, 256, 5, 25, 100, 43, 838, 112, 50, 670, 2, 9, 35, 480, 284, 5, 150, 4, 172, 112, 167, 2, 336, 385, 39, 4, 172, 4536, 1111, 17, 546, 38, 13, 447, 4, 192, 50, 16, 6, 147, 2025, 19, 14, 22, 4, 1920, 4613, 469, 4, 22, 71, 87, 12, 16, 43, 530, 38, 76, 15, 13, 1247, 4, 22, 17, 515, 17, 12, 16, 626, 18, 2, 5, 62, 386, 12, 8, 316, 8, 106, 5, 4, 2223, 5244, 16, 480, 66, 3785, 33, 4, 130, 12, 16, 38, 619, 5, 25, 124, 51, 36, 135, 48, 25, 1415, 33, 6, 22, 12, 215, 28, 77, 52, 5, 14, 407, 16, 82, 2, 8, 4, 107, 117, 5952, 15, 256, 4, 2, 7, 3766, 5, 723, 36, 71, 43, 530, 476, 26, 400, 317, 46, 7, 4, 2, 1029, 13, 104, 88, 4, 381, 15, 297, 98, 32, 2071, 56, 26, 141, 6, 194, 7486, 18, 4, 226, 22, 21, 134, 476, 26, 480, 5, 144, 30, 5535, 18, 51, 36, 28, 224, 92, 25, 104, 4, 226, 65, 16, 38, 1334, 88, 12, 16, 283, 5, 16, 4472, 113, 103, 32, 15, 16, 5345, 19, 178, 32]\n",
      "Review length: 218\n"
     ]
    }
   ],
   "source": [
    "# 4. Show first training review and its length\n",
    "print('First training review:', X_train[0])\n",
    "print('Review length:', len(X_train[0]))"
   ]
  },
  {
   "cell_type": "code",
   "execution_count": 41,
   "id": "a5ff05d0-0e3c-44a4-af00-08b4bbd79632",
   "metadata": {},
   "outputs": [
    {
     "name": "stdout",
     "output_type": "stream",
     "text": [
      "Maximum review length: 2494\n",
      "Average review length: 238.71364\n"
     ]
    }
   ],
   "source": [
    "# 5. Analyze review length distribution\n",
    "reviews_length = [len(review) for review in X_train]\n",
    "print('Maximum review length:', np.max(reviews_length))\n",
    "print('Average review length:', np.mean(reviews_length))"
   ]
  },
  {
   "cell_type": "code",
   "execution_count": 42,
   "id": "0ce732ec-0c78-4416-abae-2f3b13470c0d",
   "metadata": {},
   "outputs": [
    {
     "data": {
      "image/png": "[encoded data removed]",
      "text/plain": [
       "<Figure size 640x480 with 2 Axes>"
      ]
     },
     "metadata": {},
     "output_type": "display_data"
    }
   ],
   "source": [
    "plt.subplot(1, 2, 1)\n",
    "plt.boxplot(reviews_length)\n",
    "plt.subplot(1, 2, 2)\n",
    "plt.hist(reviews_length, bins=50)\n",
    "plt.show()"
   ]
  },
  {
   "cell_type": "code",
   "execution_count": 79,
   "id": "d54c1309-f156-4013-9525-5611ea2de316",
   "metadata": {},
   "outputs": [],
   "source": [
    "# 6. Pad sequences to fixed length (max_len=100)\n",
    "#Sequences shorter than 100 are padded with zeros at the beginning; longer sequences are truncated to 100.\n",
    "max_len = 100\n",
    "X_train_padded = pad_sequences(X_train, maxlen=max_len)\n",
    "X_test_padded = pad_sequences(X_test, maxlen=max_len)\n"
   ]
  },
  {
   "cell_type": "code",
   "execution_count": 81,
   "id": "a1d5ce12-1537-47b9-838b-48b319904c23",
   "metadata": {},
   "outputs": [],
   "source": [
    "# 7. Prepare index-to-word dictionary to decode reviews\n",
    "#Get the word-to-index mapping from the IMDb dataset and create an index-to-word dictionary.\n",
    "#add 3 to each original index because the first three indices are reserved for special tokens (<pad>, <sos>, <unk>).\n",
    "\n",
    "word_to_index = imdb.get_word_index()\n",
    "index_to_word = {value + 3: key for key, value in word_to_index.items()}\n",
    "for index, token in enumerate((\"<pad>\", \"<sos>\", \"<unk>\")):\n",
    "    index_to_word[index] = token"
   ]
  },
  {
   "cell_type": "code",
   "execution_count": 45,
   "id": "268da0f0-340f-4909-b076-78fb1e951dfe",
   "metadata": {},
   "outputs": [
    {
     "name": "stdout",
     "output_type": "stream",
     "text": [
      "Decoded first training review:\n",
      "<sos> this film was just brilliant casting location scenery story direction everyone's really suited the part they played and you could just imagine being there robert <unk> is an amazing actor and now the same being director <unk> father came from the same scottish island as myself so i loved the fact there was a real connection with this film the witty remarks throughout the film were great it was just brilliant so much that i bought the film as soon as it was released for <unk> and would recommend it to everyone to watch and the fly fishing was amazing really cried at the end it was so sad and you know what they say if you cry at a film it must have been good and this definitely was also <unk> to the two little boy's that played the <unk> of norman and paul they were just brilliant children are often left out of the <unk> list i think because the stars that play them all grown up are such a big profile for the whole film but these children are amazing and should be praised for what they have done don't you think the whole story was so lovely because it was true and was someone's life after all that was shared with us all\n"
     ]
    }
   ],
   "source": [
    "# Print decoded first training review (for verification)\n",
    "print('Decoded first training review:')\n",
    "print(' '.join([index_to_word.get(index, '?') for index in X_train[0]]))"
   ]
  },
  {
   "cell_type": "code",
   "execution_count": 46,
   "id": "5e62936c-e4af-417e-9c8e-ad7c8e7bc2eb",
   "metadata": {},
   "outputs": [
    {
     "name": "stdout",
     "output_type": "stream",
     "text": [
      "Decoded first training review:\n",
      "<sos> this film was just brilliant casting location scenery story direction everyone's really suited the part they played and you could just imagine being there robert <unk> is an amazing actor and now the same being director <unk> father came from the same scottish island as myself so i loved the fact there was a real connection with this film the witty remarks throughout the film were great it was just brilliant so much that i bought the film as soon as it was released for <unk> and would recommend it to everyone to watch and the fly fishing was amazing really cried at the end it was so sad and you know what they say if you cry at a film it must have been good and this definitely was also <unk> to the two little boy's that played the <unk> of norman and paul they were just brilliant children are often left out of the <unk> list i think because the stars that play them all grown up are such a big profile for the whole film but these children are amazing and should be praised for what they have done don't you think the whole story was so lovely because it was true and was someone's life after all that was shared with us all\n"
     ]
    }
   ],
   "source": [
    "# Print decoded first training review (for verification)\n",
    "print('Decoded first training review:')\n",
    "print(' '.join([index_to_word.get(index, '?') for index in X_train[0]]))"
   ]
  },
  {
   "cell_type": "code",
   "execution_count": 48,
   "id": "8e227472-52bf-4628-be33-d55dae1bd6ad",
   "metadata": {},
   "outputs": [],
   "source": [
    "# 8. Define the model\n",
    "vocab_size = 10000  # Number of unique words considered"
   ]
  },
  {
   "cell_type": "code",
   "execution_count": 52,
   "id": "7bf48a39-86ec-499e-9610-5c4fd32c721e",
   "metadata": {},
   "outputs": [
    {
     "data": {
      "text/plain": [
       "\"\\nmodel = Sequential([\\n    Embedding(vocab_size, 128),\\n    LSTM(64),\\n    Dense(1, activation='sigmoid')\\n])\\n\\nmodel.compile(loss='binary_crossentropy', optimizer='adam', metrics=['accuracy'])\\n\""
      ]
     },
     "execution_count": 52,
     "metadata": {},
     "output_type": "execute_result"
    }
   ],
   "source": [
    "# Basic LSTM model\n",
    "\"\"\"\n",
    "model = Sequential([\n",
    "    Embedding(vocab_size, 128),\n",
    "    LSTM(64),\n",
    "    Dense(1, activation='sigmoid')\n",
    "])\n",
    "\n",
    "model.compile(loss='binary_crossentropy', optimizer='adam', metrics=['accuracy'])\n",
    "\"\"\""
   ]
  },
  {
   "cell_type": "code",
   "execution_count": 82,
   "id": "22097a26-e9bf-47af-9675-25966c981672",
   "metadata": {},
   "outputs": [],
   "source": [
    "#Bidirectional LSTM with Dropout (comment out Option A if using this)\n",
    "# Define the model (no input_length)\n",
    "model = Sequential([\n",
    "    Embedding(vocab_size, 128), # converts word indices to 128-dimensional dense vectors\n",
    "    Bidirectional(LSTM(64)), #bidirectional LSTM layer that processes requences forward and backword with 64 units\n",
    "    Dropout(0.5), #applies 50% of dropout to reduce overfitting\n",
    "    Dense(1, activation='sigmoid')\n",
    "])"
   ]
  },
  {
   "cell_type": "code",
   "execution_count": 86,
   "id": "7449d257-ebaf-4c8c-9a09-1e4f37b5c4be",
   "metadata": {},
   "outputs": [],
   "source": [
    "#Build the model manually (specify input shape)\n",
    "model.build(input_shape=(None, 100))  # (batch_size, sequence_length)\n"
   ]
  },
  {
   "cell_type": "code",
   "execution_count": 88,
   "id": "ab7948d9-1a2a-487f-8c9f-d4e1dbb6c341",
   "metadata": {},
   "outputs": [],
   "source": [
    "#Uses binary_crossentropy as the loss function for binary classification\n",
    "#adam optimizer for efficient and popular gradient-based optimization.\n",
    "\n",
    "model.compile(loss='binary_crossentropy', optimizer='adam', metrics=['accuracy'])"
   ]
  },
  {
   "cell_type": "code",
   "execution_count": 89,
   "id": "2ce2c9f6-f5a3-4ae9-a98c-39bb3bff138c",
   "metadata": {},
   "outputs": [
    {
     "data": {
      "text/html": [
       "<pre style=\"white-space:pre;overflow-x:auto;line-height:normal;font-family:Menlo,'DejaVu Sans Mono',consolas,'Courier New',monospace\"><span style=\"font-weight: bold\">Model: \"sequential_10\"</span>\n",
       "</pre>\n"
      ],
      "text/plain": [
       "\u001b[1mModel: \"sequential_10\"\u001b[0m\n"
      ]
     },
     "metadata": {},
     "output_type": "display_data"
    },
    {
     "data": {
      "text/html": [
       "<pre style=\"white-space:pre;overflow-x:auto;line-height:normal;font-family:Menlo,'DejaVu Sans Mono',consolas,'Courier New',monospace\">┏━━━━━━━━━━━━━━━━━━━━━━━━━━━━━━━━━┳━━━━━━━━━━━━━━━━━━━━━━━━┳━━━━━━━━━━━━━━━┓\n",
       "┃<span style=\"font-weight: bold\"> Layer (type)                    </span>┃<span style=\"font-weight: bold\"> Output Shape           </span>┃<span style=\"font-weight: bold\">       Param # </span>┃\n",
       "┡━━━━━━━━━━━━━━━━━━━━━━━━━━━━━━━━━╇━━━━━━━━━━━━━━━━━━━━━━━━╇━━━━━━━━━━━━━━━┩\n",
       "│ embedding_10 (<span style=\"color: #0087ff; text-decoration-color: #0087ff\">Embedding</span>)        │ (<span style=\"color: #00d7ff; text-decoration-color: #00d7ff\">None</span>, <span style=\"color: #00af00; text-decoration-color: #00af00\">100</span>, <span style=\"color: #00af00; text-decoration-color: #00af00\">128</span>)       │     <span style=\"color: #00af00; text-decoration-color: #00af00\">1,280,000</span> │\n",
       "├─────────────────────────────────┼────────────────────────┼───────────────┤\n",
       "│ bidirectional_6 (<span style=\"color: #0087ff; text-decoration-color: #0087ff\">Bidirectional</span>) │ (<span style=\"color: #00d7ff; text-decoration-color: #00d7ff\">None</span>, <span style=\"color: #00af00; text-decoration-color: #00af00\">128</span>)            │        <span style=\"color: #00af00; text-decoration-color: #00af00\">98,816</span> │\n",
       "├─────────────────────────────────┼────────────────────────┼───────────────┤\n",
       "│ dropout_6 (<span style=\"color: #0087ff; text-decoration-color: #0087ff\">Dropout</span>)             │ (<span style=\"color: #00d7ff; text-decoration-color: #00d7ff\">None</span>, <span style=\"color: #00af00; text-decoration-color: #00af00\">128</span>)            │             <span style=\"color: #00af00; text-decoration-color: #00af00\">0</span> │\n",
       "├─────────────────────────────────┼────────────────────────┼───────────────┤\n",
       "│ dense_10 (<span style=\"color: #0087ff; text-decoration-color: #0087ff\">Dense</span>)                │ (<span style=\"color: #00d7ff; text-decoration-color: #00d7ff\">None</span>, <span style=\"color: #00af00; text-decoration-color: #00af00\">1</span>)              │           <span style=\"color: #00af00; text-decoration-color: #00af00\">129</span> │\n",
       "└─────────────────────────────────┴────────────────────────┴───────────────┘\n",
       "</pre>\n"
      ],
      "text/plain": [
       "┏━━━━━━━━━━━━━━━━━━━━━━━━━━━━━━━━━┳━━━━━━━━━━━━━━━━━━━━━━━━┳━━━━━━━━━━━━━━━┓\n",
       "┃\u001b[1m \u001b[0m\u001b[1mLayer (type)                   \u001b[0m\u001b[1m \u001b[0m┃\u001b[1m \u001b[0m\u001b[1mOutput Shape          \u001b[0m\u001b[1m \u001b[0m┃\u001b[1m \u001b[0m\u001b[1m      Param #\u001b[0m\u001b[1m \u001b[0m┃\n",
       "┡━━━━━━━━━━━━━━━━━━━━━━━━━━━━━━━━━╇━━━━━━━━━━━━━━━━━━━━━━━━╇━━━━━━━━━━━━━━━┩\n",
       "│ embedding_10 (\u001b[38;5;33mEmbedding\u001b[0m)        │ (\u001b[38;5;45mNone\u001b[0m, \u001b[38;5;34m100\u001b[0m, \u001b[38;5;34m128\u001b[0m)       │     \u001b[38;5;34m1,280,000\u001b[0m │\n",
       "├─────────────────────────────────┼────────────────────────┼───────────────┤\n",
       "│ bidirectional_6 (\u001b[38;5;33mBidirectional\u001b[0m) │ (\u001b[38;5;45mNone\u001b[0m, \u001b[38;5;34m128\u001b[0m)            │        \u001b[38;5;34m98,816\u001b[0m │\n",
       "├─────────────────────────────────┼────────────────────────┼───────────────┤\n",
       "│ dropout_6 (\u001b[38;5;33mDropout\u001b[0m)             │ (\u001b[38;5;45mNone\u001b[0m, \u001b[38;5;34m128\u001b[0m)            │             \u001b[38;5;34m0\u001b[0m │\n",
       "├─────────────────────────────────┼────────────────────────┼───────────────┤\n",
       "│ dense_10 (\u001b[38;5;33mDense\u001b[0m)                │ (\u001b[38;5;45mNone\u001b[0m, \u001b[38;5;34m1\u001b[0m)              │           \u001b[38;5;34m129\u001b[0m │\n",
       "└─────────────────────────────────┴────────────────────────┴───────────────┘\n"
      ]
     },
     "metadata": {},
     "output_type": "display_data"
    },
    {
     "data": {
      "text/html": [
       "<pre style=\"white-space:pre;overflow-x:auto;line-height:normal;font-family:Menlo,'DejaVu Sans Mono',consolas,'Courier New',monospace\"><span style=\"font-weight: bold\"> Total params: </span><span style=\"color: #00af00; text-decoration-color: #00af00\">1,378,945</span> (5.26 MB)\n",
       "</pre>\n"
      ],
      "text/plain": [
       "\u001b[1m Total params: \u001b[0m\u001b[38;5;34m1,378,945\u001b[0m (5.26 MB)\n"
      ]
     },
     "metadata": {},
     "output_type": "display_data"
    },
    {
     "data": {
      "text/html": [
       "<pre style=\"white-space:pre;overflow-x:auto;line-height:normal;font-family:Menlo,'DejaVu Sans Mono',consolas,'Courier New',monospace\"><span style=\"font-weight: bold\"> Trainable params: </span><span style=\"color: #00af00; text-decoration-color: #00af00\">1,378,945</span> (5.26 MB)\n",
       "</pre>\n"
      ],
      "text/plain": [
       "\u001b[1m Trainable params: \u001b[0m\u001b[38;5;34m1,378,945\u001b[0m (5.26 MB)\n"
      ]
     },
     "metadata": {},
     "output_type": "display_data"
    },
    {
     "data": {
      "text/html": [
       "<pre style=\"white-space:pre;overflow-x:auto;line-height:normal;font-family:Menlo,'DejaVu Sans Mono',consolas,'Courier New',monospace\"><span style=\"font-weight: bold\"> Non-trainable params: </span><span style=\"color: #00af00; text-decoration-color: #00af00\">0</span> (0.00 B)\n",
       "</pre>\n"
      ],
      "text/plain": [
       "\u001b[1m Non-trainable params: \u001b[0m\u001b[38;5;34m0\u001b[0m (0.00 B)\n"
      ]
     },
     "metadata": {},
     "output_type": "display_data"
    }
   ],
   "source": [
    "# Show model summary\n",
    "model.summary()"
   ]
  },
  {
   "cell_type": "code",
   "execution_count": 90,
   "id": "0021494a-fa99-4fe1-8ddc-096d13b97b07",
   "metadata": {},
   "outputs": [
    {
     "name": "stdout",
     "output_type": "stream",
     "text": [
      "Epoch 1/5\n",
      "\u001b[1m313/313\u001b[0m \u001b[32m━━━━━━━━━━━━━━━━━━━━\u001b[0m\u001b[37m\u001b[0m \u001b[1m25s\u001b[0m 77ms/step - accuracy: 0.6822 - loss: 0.5621 - val_accuracy: 0.8380 - val_loss: 0.3681\n",
      "Epoch 2/5\n",
      "\u001b[1m313/313\u001b[0m \u001b[32m━━━━━━━━━━━━━━━━━━━━\u001b[0m\u001b[37m\u001b[0m \u001b[1m27s\u001b[0m 85ms/step - accuracy: 0.8989 - loss: 0.2639 - val_accuracy: 0.8448 - val_loss: 0.3542\n",
      "Epoch 3/5\n",
      "\u001b[1m313/313\u001b[0m \u001b[32m━━━━━━━━━━━━━━━━━━━━\u001b[0m\u001b[37m\u001b[0m \u001b[1m28s\u001b[0m 89ms/step - accuracy: 0.9318 - loss: 0.1869 - val_accuracy: 0.8378 - val_loss: 0.3892\n",
      "Epoch 4/5\n",
      "\u001b[1m313/313\u001b[0m \u001b[32m━━━━━━━━━━━━━━━━━━━━\u001b[0m\u001b[37m\u001b[0m \u001b[1m27s\u001b[0m 86ms/step - accuracy: 0.9596 - loss: 0.1135 - val_accuracy: 0.8292 - val_loss: 0.5212\n",
      "Epoch 5/5\n",
      "\u001b[1m313/313\u001b[0m \u001b[32m━━━━━━━━━━━━━━━━━━━━\u001b[0m\u001b[37m\u001b[0m \u001b[1m27s\u001b[0m 85ms/step - accuracy: 0.9745 - loss: 0.0743 - val_accuracy: 0.8254 - val_loss: 0.5439\n"
     ]
    },
    {
     "data": {
      "text/plain": [
       "<keras.src.callbacks.history.History at 0x31727eb50>"
      ]
     },
     "execution_count": 90,
     "metadata": {},
     "output_type": "execute_result"
    }
   ],
   "source": [
    "# 9. Train the model\n",
    "#Run 5 epochs with a batch size of 64 samples per iteration.\n",
    "#20% of the training data for validation \n",
    "model.fit(X_train_padded, y_train, epochs=5, batch_size=64, validation_split=0.2)"
   ]
  },
  {
   "cell_type": "code",
   "execution_count": 22,
   "id": "df6769c0-55c7-4f10-aa27-35addaff670a",
   "metadata": {},
   "outputs": [],
   "source": [
    "#evaluation "
   ]
  },
  {
   "cell_type": "code",
   "execution_count": 55,
   "id": "ec569668-da56-4652-ace8-be269bf42f9b",
   "metadata": {},
   "outputs": [
    {
     "name": "stdout",
     "output_type": "stream",
     "text": [
      "\u001b[1m782/782\u001b[0m \u001b[32m━━━━━━━━━━━━━━━━━━━━\u001b[0m\u001b[37m\u001b[0m \u001b[1m10s\u001b[0m 13ms/step - accuracy: 0.8308 - loss: 0.5275\n",
      "Test Accuracy: 0.8327\n"
     ]
    }
   ],
   "source": [
    "# 1. Evaluate the model on the test set\n",
    "loss, accuracy = model.evaluate(X_test_padded, y_test)\n",
    "print(f'Test Accuracy: {accuracy:.4f}')"
   ]
  },
  {
   "cell_type": "code",
   "execution_count": 56,
   "id": "5c72a8ad-40b3-4b68-962e-ad0c1e931f67",
   "metadata": {},
   "outputs": [
    {
     "name": "stdout",
     "output_type": "stream",
     "text": [
      "\u001b[1m782/782\u001b[0m \u001b[32m━━━━━━━━━━━━━━━━━━━━\u001b[0m\u001b[37m\u001b[0m \u001b[1m10s\u001b[0m 12ms/step\n"
     ]
    }
   ],
   "source": [
    "# 2. Generate predicted probabilities\n",
    "y_pred = model.predict(X_test_padded)"
   ]
  },
  {
   "cell_type": "code",
   "execution_count": 57,
   "id": "40dd62f9-ef56-490d-9b57-c1c08015d67d",
   "metadata": {},
   "outputs": [],
   "source": [
    "# 3. Convert probabilities to binary class labels (threshold = 0.5)\n",
    "y_pred_labels = (y_pred > 0.5).astype(int).flatten()"
   ]
  },
  {
   "cell_type": "code",
   "execution_count": 58,
   "id": "c15c2334-9a35-4b70-83bc-8a7b104a1582",
   "metadata": {},
   "outputs": [
    {
     "name": "stdout",
     "output_type": "stream",
     "text": [
      "Predicted labels (first 10): [1 1 1 1 1 1 1 0 1 1]\n"
     ]
    }
   ],
   "source": [
    "print(\"Predicted labels (first 10):\", y_pred_labels[:10])"
   ]
  },
  {
   "cell_type": "code",
   "execution_count": 59,
   "id": "d027074a-52a6-422b-9e0f-8c35e1a6f1b0",
   "metadata": {},
   "outputs": [],
   "source": [
    "# 4. Print classification metrics (precision, recall, f1-score)\n",
    "from sklearn.metrics import classification_report, confusion_matrix, roc_auc_score"
   ]
  },
  {
   "cell_type": "code",
   "execution_count": 60,
   "id": "18deaa40-0e5e-4c0c-8fe0-eec135442fa1",
   "metadata": {},
   "outputs": [
    {
     "name": "stdout",
     "output_type": "stream",
     "text": [
      "Classification Report:\n",
      "              precision    recall  f1-score   support\n",
      "\n",
      "           0       0.83      0.83      0.83     12500\n",
      "           1       0.83      0.83      0.83     12500\n",
      "\n",
      "    accuracy                           0.83     25000\n",
      "   macro avg       0.83      0.83      0.83     25000\n",
      "weighted avg       0.83      0.83      0.83     25000\n",
      "\n"
     ]
    }
   ],
   "source": [
    "print(\"Classification Report:\")\n",
    "print(classification_report(y_test, y_pred_labels))"
   ]
  },
  {
   "cell_type": "code",
   "execution_count": 61,
   "id": "eaa6ccd0-e7bc-45bc-92d1-7ddfa01f2bc7",
   "metadata": {},
   "outputs": [
    {
     "name": "stdout",
     "output_type": "stream",
     "text": [
      "ROC AUC Score: 0.9081873504\n"
     ]
    }
   ],
   "source": [
    "# 5. Compute and print ROC AUC score\n",
    "print(\"ROC AUC Score:\", roc_auc_score(y_test, y_pred))"
   ]
  },
  {
   "cell_type": "code",
   "execution_count": 62,
   "id": "bca28700-6178-44c2-a1f6-1e306fbf67ec",
   "metadata": {},
   "outputs": [
    {
     "data": {
      "image/png": "[encoded data removed]",
      "text/plain": [
       "<Figure size 640x480 with 2 Axes>"
      ]
     },
     "metadata": {},
     "output_type": "display_data"
    }
   ],
   "source": [
    "# 6. Plot confusion matrix\n",
    "import seaborn as sns\n",
    "import matplotlib.pyplot as plt\n",
    "\n",
    "cm = confusion_matrix(y_test, y_pred_labels)\n",
    "sns.heatmap(cm, annot=True, fmt='d', cmap='Blues')\n",
    "plt.xlabel('Predicted Label')\n",
    "plt.ylabel('True Label')\n",
    "plt.title('Confusion Matrix')\n",
    "plt.show()"
   ]
  },
  {
   "cell_type": "code",
   "execution_count": null,
   "id": "2234f9ca-1a7b-4c3b-af7d-61a0ef3ce06f",
   "metadata": {},
   "outputs": [],
   "source": []
  }
 ],
 "metadata": {
  "kernelspec": {
   "display_name": "Python 3 (ipykernel)",
   "language": "python",
   "name": "python3"
  },
  "language_info": {
   "codemirror_mode": {
    "name": "ipython",
    "version": 3
   },
   "file_extension": ".py",
   "mimetype": "text/x-python",
   "name": "python",
   "nbconvert_exporter": "python",
   "pygments_lexer": "ipython3",
   "version": "3.11.11"
  }
 },
 "nbformat": 4,
 "nbformat_minor": 5
}
