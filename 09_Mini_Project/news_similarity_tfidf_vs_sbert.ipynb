{
 "cells": [
  {
   "cell_type": "code",
   "execution_count": 81,
   "id": "75ba2ca1-5a33-42a4-88e2-7daff1e7d79c",
   "metadata": {},
   "outputs": [],
   "source": [
    "import requests\n",
    "import numpy as np\n",
    "from sklearn.feature_extraction.text import TfidfVectorizer\n",
    "from sklearn.metrics.pairwise import cosine_similarity\n",
    "from sentence_transformers import SentenceTransformer"
   ]
  },
  {
   "cell_type": "code",
   "execution_count": 82,
   "id": "708d171d-1cab-4d00-a7bc-ca7e10d42019",
   "metadata": {},
   "outputs": [],
   "source": [
    "API_KEY = \"***REMOVED***\""
   ]
  },
  {
   "cell_type": "code",
   "execution_count": 106,
   "id": "1efad649-fee7-4aca-b2a4-0ff3ab57df85",
   "metadata": {},
   "outputs": [],
   "source": [
    "\"\"\"\n",
    "step 1: def fetch_news requests and retrieves 100 news articles related to \"AI\" from the NewsAPI.\n",
    "step 2: the query is set to \"AI\", the language is English, the page size is 100, and the results are sorted by publication date.\n",
    "step 3: the response is received in JSON format.\n",
    "step 4 :The docs list is created by combining the title and description of each news article into a single string.\n",
    "step 5: When called, the function returns the docs list containing these combined news texts.\n",
    "\"\"\"\n",
    "def fetch_news(query=\"AI\", page_size=100):\n",
    "    url = (\n",
    "        f\"https://newsapi.org/v2/everything?\"\n",
    "        f\"q={query}&\"\n",
    "        f\"language=en&\"\n",
    "        f\"pageSize={page_size}&\"\n",
    "        f\"sortBy=publishedAt&\"\n",
    "        f\"apiKey={API_KEY}\"\n",
    "    )\n",
    "    response = requests.get(url)\n",
    "    data = response.json()\n",
    "\n",
    "    articles = data.get(\"articles\", [])\n",
    "    docs = []\n",
    "    meta_info = []  #Store source name and publication date\n",
    "\n",
    "    for article in articles:\n",
    "        text = f\"{article['title']} {article.get('description') or ''}\".strip()\n",
    "        docs.append(text)\n",
    "        source = article.get(\"source\", {}).get(\"name\", \"Unknown source\")\n",
    "        published = article.get(\"publishedAt\", \"Unknown date\")\n",
    "        meta_info.append(f\"{source} | {published}\")\n",
    "\n",
    "    return docs, meta_info"
   ]
  },
  {
   "cell_type": "code",
   "execution_count": 101,
   "id": "e728ddc9-dd86-44bc-be1e-4c0104c21063",
   "metadata": {},
   "outputs": [
    {
     "name": "stdout",
     "output_type": "stream",
     "text": [
      "Fetched 100 news articles.\n",
      "Fetched 100 news articles.\n"
     ]
    }
   ],
   "source": [
    "#news data\n",
    "docs, meta_info = fetch_news(query=\"AI\", page_size=100)\n",
    "print(f\"Fetched {len(docs)} news articles.\")\n",
    "print(f\"Fetched {len(meta_info)} news articles.\")"
   ]
  },
  {
   "cell_type": "code",
   "execution_count": 85,
   "id": "a0c06448-a49c-4bc7-9a94-7dc6e75b2add",
   "metadata": {},
   "outputs": [],
   "source": [
    "# embedding - use TF-IDF Vs SBERT"
   ]
  },
  {
   "cell_type": "code",
   "execution_count": 51,
   "id": "93e19e54-54ef-4132-85be-3d552b6b1660",
   "metadata": {},
   "outputs": [],
   "source": [
    "#TF-IDF"
   ]
  },
  {
   "cell_type": "code",
   "execution_count": 89,
   "id": "3f97bffa-e213-4778-a582-56e2506bb986",
   "metadata": {
    "scrolled": true
   },
   "outputs": [
    {
     "name": "stdout",
     "output_type": "stream",
     "text": [
      "TF-IDF vectors shape: (100, 1309)\n"
     ]
    }
   ],
   "source": [
    "#set max_features=5000 = the vectorizer will select only the top 5000 most important/frequenct words\n",
    "#helps prevent the vector size from becoming too large  + saving memories\n",
    "tfidf = TfidfVectorizer(max_features=5000)\n",
    "tfidf_vectors = tfidf.fit_transform(docs)\n",
    "tfidf_sim = cosine_similarity(tfidf_vectors)\n",
    "print(f\"TF-IDF vectors shape: {tfidf_vectors.shape}\")"
   ]
  },
  {
   "cell_type": "code",
   "execution_count": null,
   "id": "42dc40e5-6822-45f8-9f91-3449d7c1983b",
   "metadata": {},
   "outputs": [],
   "source": []
  },
  {
   "cell_type": "code",
   "execution_count": 54,
   "id": "6b75fad4-79f8-4b4f-942d-f8e65b157fa2",
   "metadata": {},
   "outputs": [],
   "source": [
    "#SBERT"
   ]
  },
  {
   "cell_type": "code",
   "execution_count": 55,
   "id": "9220fa9b-02b5-407a-8736-a69e90851632",
   "metadata": {},
   "outputs": [],
   "source": [
    "from sentence_transformers import SentenceTransformer"
   ]
  },
  {
   "cell_type": "code",
   "execution_count": 90,
   "id": "bcb0d6c9-4e64-4260-86d1-e66d4be7f0f0",
   "metadata": {},
   "outputs": [
    {
     "data": {
      "application/vnd.jupyter.widget-view+json": {
       "model_id": "fe82984a785f4883aff43d12d57d1083",
       "version_major": 2,
       "version_minor": 0
      },
      "text/plain": [
       "Batches:   0%|          | 0/4 [00:00<?, ?it/s]"
      ]
     },
     "metadata": {},
     "output_type": "display_data"
    },
    {
     "name": "stdout",
     "output_type": "stream",
     "text": [
      "SBERT vectors shape: (100, 384)\n"
     ]
    }
   ],
   "source": [
    "sbert_model = SentenceTransformer('all-MiniLM-L6-v2')\n",
    "sbert_vectors = sbert_model.encode(docs, show_progress_bar=True)\n",
    "sbert_sim = cosine_similarity(sbert_vectors)\n",
    "print(f\"SBERT vectors shape: {sbert_vectors.shape}\")"
   ]
  },
  {
   "cell_type": "code",
   "execution_count": 57,
   "id": "8301ec22-1c1f-4ee2-8708-fa402a5c1f2d",
   "metadata": {},
   "outputs": [
    {
     "data": {
      "text/plain": [
       "'\\nKeypoints :\\nTF-IDF\\n\\nRepresents each document as a sparse vector based on word occurrence frequency.\\n\\nHigh dimensional (thousands of features) and word-focused, so it weakly captures sentence meaning.\\n\\nSBERT\\n\\nDense vector based on sentence-level semantics (usually 384 dimensions).\\n\\nEffectively captures sentence meaning and is efficient due to its lower dimensionality.\\n'"
      ]
     },
     "execution_count": 57,
     "metadata": {},
     "output_type": "execute_result"
    }
   ],
   "source": [
    "\"\"\"\n",
    "Keypoints :\n",
    "TF-IDF\n",
    "\n",
    "Represents each document as a sparse vector based on word occurrence frequency.\n",
    "\n",
    "High dimensional (thousands of features) and word-focused, so it weakly captures sentence meaning.\n",
    "\n",
    "SBERT\n",
    "\n",
    "Dense vector based on sentence-level semantics (usually 384 dimensions).\n",
    "\n",
    "Effectively captures sentence meaning and is efficient due to its lower dimensionality.\n",
    "\"\"\""
   ]
  },
  {
   "cell_type": "code",
   "execution_count": 66,
   "id": "fd244c64-ddd2-4704-a9e2-ff68e0847a70",
   "metadata": {},
   "outputs": [],
   "source": [
    "#Comparison of the Two Similarity Matrices =>Although the shapes of the two matrices are the same, the actual values inside them can differ significantly due to the different underlying representations."
   ]
  },
  {
   "cell_type": "code",
   "execution_count": 91,
   "id": "6215250a-7e90-4e64-b028-51171f4953c0",
   "metadata": {},
   "outputs": [
    {
     "name": "stdout",
     "output_type": "stream",
     "text": [
      "[[1.   0.13 0.09 0.03 0.05]\n",
      " [0.13 1.   0.1  0.01 0.01]\n",
      " [0.09 0.1  1.   0.13 0.04]\n",
      " [0.03 0.01 0.13 1.   0.12]\n",
      " [0.05 0.01 0.04 0.12 1.  ]]\n"
     ]
    }
   ],
   "source": [
    "print(np.round(tfidf_sim[:5, :5], 2))"
   ]
  },
  {
   "cell_type": "code",
   "execution_count": 92,
   "id": "4e512092-9d87-46bb-a002-1de1d2c11478",
   "metadata": {},
   "outputs": [
    {
     "name": "stdout",
     "output_type": "stream",
     "text": [
      "[[ 1.    0.29  0.12  0.04  0.09]\n",
      " [ 0.29  1.    0.33  0.14 -0.  ]\n",
      " [ 0.12  0.33  1.    0.32  0.18]\n",
      " [ 0.04  0.14  0.32  1.    0.3 ]\n",
      " [ 0.09 -0.    0.18  0.3   1.  ]]\n"
     ]
    }
   ],
   "source": [
    "print(np.round(sbert_sim[:5, :5], 2))"
   ]
  },
  {
   "cell_type": "code",
   "execution_count": 69,
   "id": "402c8bb2-768c-4892-99ac-33ba5450f2a2",
   "metadata": {},
   "outputs": [],
   "source": [
    "#Compare the similarity rankings of other sentences based on a single sentence"
   ]
  },
  {
   "cell_type": "code",
   "execution_count": 93,
   "id": "de937b72-e911-4358-9265-16680987d16f",
   "metadata": {},
   "outputs": [],
   "source": [
    "def recommend_similar_articles(sim_matrix, article_index, top_n=5):\n",
    "    \"\"\"\n",
    "    Given a similarity matrix and a target article index,\n",
    "    returns the indices of the top_n most similar articles excluding the target itself.\n",
    "    \"\"\"\n",
    "    sim_scores = sim_matrix[article_index]\n",
    "    similar_indices = np.argsort(-sim_scores)  # 내림차순 정렬\n",
    "    similar_indices = similar_indices[similar_indices != article_index]  # 자기 자신 제외\n",
    "    top_indices = similar_indices[:top_n]\n",
    "    return top_indices\n"
   ]
  },
  {
   "cell_type": "code",
   "execution_count": 94,
   "id": "fb13c6db-b063-4f8e-89c5-88bba27803e7",
   "metadata": {},
   "outputs": [],
   "source": [
    "target_index = 0"
   ]
  },
  {
   "cell_type": "code",
   "execution_count": 107,
   "id": "373ab4b7-87f1-437e-9352-1fc54338658d",
   "metadata": {},
   "outputs": [
    {
     "name": "stdout",
     "output_type": "stream",
     "text": [
      "Target Article:\n",
      "- inspect-viz 0.2.7 Data visualization for Inspect AI large language model evalutions.\n",
      "  (Pypi.org | 2025-07-18T12:05:04Z)\n"
     ]
    }
   ],
   "source": [
    "print(\"Target Article:\")\n",
    "print(f\"- {docs[target_index]}\")\n",
    "print(f\"  ({meta_info[target_index]})\")\n"
   ]
  },
  {
   "cell_type": "code",
   "execution_count": 104,
   "id": "84d95124-cec7-4545-80c5-914d4807462e",
   "metadata": {},
   "outputs": [
    {
     "name": "stdout",
     "output_type": "stream",
     "text": [
      "\n",
      "TF-IDF 기반 추천 뉴스:\n",
      "- 'Black Swan' author Nassim Taleb shares 4 life lessons — and reveals what keeps him awake at night \"The Black Swan\" author Nassim Taleb told BI that discipline, health, and building the right skills are key ingredients for a good life.\n",
      "  (Business Insider | 2025-07-18T11:33:45Z)\n",
      "- Beamr Reports Entering PoCs in Video Data Compression Solution for Autonomous Vehicle Herzliya, Israel, July 18, 2025 (GLOBE NEWSWIRE) -- Beamr Imaging Ltd. (NASDAQ: BMR), a leader in video optimization technology and solutions, today announced a further update on its progress of validating Beamr content-adaptive, GPU-accelerated technology to…\n",
      "  (GlobeNewswire | 2025-07-18T11:21:00Z)\n",
      "- South Korea Poised to Become Regional Hub for Smart Prefabricated Construction - South Korea Prefabricated Construction Market Intelligence and Future Growth Dynamics Databook South Korea's prefabricated construction market is projected to reach KRW 13 trillion by 2025, growing at a 4.7% annual rate. From 2025-2029, a CAGR of 4% is expected, expanding the market to KRW 15.90 trillion by 2029. Key drivers include robotics integratio…\n",
      "  (GlobeNewswire | 2025-07-18T11:22:00Z)\n",
      "- Your Future: AI Models Will Find You Via Your Personal Website In an AI powered world where people increasingly bypass Google and the social networks when doing research, a personal website will be an increasingly important tool to get found.\n",
      "  (Davidmeermanscott.com | 2025-07-18T12:03:59Z)\n",
      "- Precision Harvesting Industry Analysis Report 2025 | Market to Reach $29 Billion by 2030, Driven by Demand for High-Value Crops and Expansion of Leasing and Custom Hiring Centers in Emerging Economies The precision harvesting market is set to reach USD 29.79 billion by 2030, growing at a 6.7% CAGR from 2025. This growth is fueled by rising labor costs and AI, IoT, and imaging advancements in agriculture, enhancing yield and reducing waste. The software seg…\n",
      "  (GlobeNewswire | 2025-07-18T11:21:00Z)\n"
     ]
    }
   ],
   "source": [
    "print(\"\\nTF-IDF based Recommended Articles:\")\n",
    "tfidf_recommendations = recommend_similar_articles(tfidf_sim, target_index, top_n=5)\n",
    "for idx in tfidf_recommendations:\n",
    "    print(f\"- {docs[idx]}\")\n",
    "    print(f\"  ({meta_info[idx]})\")"
   ]
  },
  {
   "cell_type": "code",
   "execution_count": 108,
   "id": "d0afc910-3dc4-4d98-a24f-00fcc7059378",
   "metadata": {},
   "outputs": [
    {
     "name": "stdout",
     "output_type": "stream",
     "text": [
      "\n",
      "SBERT based Recommended Articles:\n",
      "- 'Black Swan' author Nassim Taleb shares 4 life lessons — and reveals what keeps him awake at night \"The Black Swan\" author Nassim Taleb told BI that discipline, health, and building the right skills are key ingredients for a good life.\n",
      "  (Business Insider | 2025-07-18T11:33:45Z)\n",
      "- Beamr Reports Entering PoCs in Video Data Compression Solution for Autonomous Vehicle Herzliya, Israel, July 18, 2025 (GLOBE NEWSWIRE) -- Beamr Imaging Ltd. (NASDAQ: BMR), a leader in video optimization technology and solutions, today announced a further update on its progress of validating Beamr content-adaptive, GPU-accelerated technology to…\n",
      "  (GlobeNewswire | 2025-07-18T11:21:00Z)\n",
      "- South Korea Poised to Become Regional Hub for Smart Prefabricated Construction - South Korea Prefabricated Construction Market Intelligence and Future Growth Dynamics Databook South Korea's prefabricated construction market is projected to reach KRW 13 trillion by 2025, growing at a 4.7% annual rate. From 2025-2029, a CAGR of 4% is expected, expanding the market to KRW 15.90 trillion by 2029. Key drivers include robotics integratio…\n",
      "  (GlobeNewswire | 2025-07-18T11:22:00Z)\n",
      "- Defunding NPR and PBS passed the Senate — and it’s a direct hit to rural America As feared, President Donald Trump, with the help of Congress, is making good on his threat to cut federal funding for NPR, PBS and other public broadcasting. It’s a dark […]\n",
      "The post Defunding NPR and PBS passed the Senate — and it’s a direct hit to rural Ame…\n",
      "  (Poynter | 2025-07-18T11:30:14Z)\n",
      "- Your Future: AI Models Will Find You Via Your Personal Website In an AI powered world where people increasingly bypass Google and the social networks when doing research, a personal website will be an increasingly important tool to get found.\n",
      "  (Davidmeermanscott.com | 2025-07-18T12:03:59Z)\n"
     ]
    }
   ],
   "source": [
    "print(\"\\nSBERT based Recommended Articles:\")\n",
    "sbert_recommendations = recommend_similar_articles(sbert_sim, target_index, top_n=5)\n",
    "for idx in sbert_recommendations:\n",
    "    print(f\"- {docs[idx]}\")\n",
    "    print(f\"  ({meta_info[idx]})\")"
   ]
  },
  {
   "cell_type": "code",
   "execution_count": null,
   "id": "ebf5260f-3971-41e3-930c-ed554402b2ad",
   "metadata": {},
   "outputs": [],
   "source": []
  }
 ],
 "metadata": {
  "kernelspec": {
   "display_name": "Python 3 (ipykernel)",
   "language": "python",
   "name": "python3"
  },
  "language_info": {
   "codemirror_mode": {
    "name": "ipython",
    "version": 3
   },
   "file_extension": ".py",
   "mimetype": "text/x-python",
   "name": "python",
   "nbconvert_exporter": "python",
   "pygments_lexer": "ipython3",
   "version": "3.11.11"
  }
 },
 "nbformat": 4,
 "nbformat_minor": 5
}
