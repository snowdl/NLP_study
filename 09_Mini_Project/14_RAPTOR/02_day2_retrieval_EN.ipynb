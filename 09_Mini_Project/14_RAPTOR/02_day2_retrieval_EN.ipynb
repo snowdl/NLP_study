{
 "cells": [
  {
   "cell_type": "code",
   "execution_count": 2,
   "id": "3bc1e5fe-61a8-4285-a31a-4a48c219289c",
   "metadata": {},
   "outputs": [],
   "source": [
    "import os, json\n",
    "from pathlib import Path\n",
    "import numpy as np\n",
    "from tqdm.auto import tqdm\n",
    "from sklearn.feature_extraction.text import TfidfVectorizer\n",
    "from sklearn.metrics.pairwise import cosine_similarity\n",
    "\n",
    "# Disable parallelism warning from Hugging Face tokenizers (optional)\n",
    "os.environ[\"TOKENIZERS_PARALLELISM\"] = \"false\""
   ]
  },
  {
   "cell_type": "code",
   "execution_count": 6,
   "id": "0a4c8b80-c77a-4843-a2bf-4a3a5e890f26",
   "metadata": {},
   "outputs": [],
   "source": [
    "#Step 2. 데이터 불러오기"
   ]
  },
  {
   "cell_type": "code",
   "execution_count": 4,
   "id": "7061fd46-3a83-453f-9778-5672a6c870d1",
   "metadata": {},
   "outputs": [],
   "source": [
    "# === 1. Define base paths ===\n",
    "BASE = Path.cwd().parents[0] / \"13_RAPTOR\" if (Path.cwd().name != \"13_RAPTOR\") else Path.cwd()\n",
    "OUT  = BASE / \"outputs\""
   ]
  },
  {
   "cell_type": "code",
   "execution_count": 5,
   "id": "17647106-1d82-4823-a150-883ba8df7a89",
   "metadata": {},
   "outputs": [],
   "source": [
    "# === 2. Define file paths ===\n",
    "chunks_path = OUT / \"chunks.jsonl\"\n",
    "summ_smoke  = OUT / \"chunk_summaries_smoke.jsonl\"\n",
    "summ_all    = OUT / \"chunk_summaries.jsonl\"\n",
    "nodes_path  = OUT / \"tree_nodes.jsonl\""
   ]
  },
  {
   "cell_type": "code",
   "execution_count": 6,
   "id": "501b2605-8e22-4aa7-91e7-bb9876e93507",
   "metadata": {},
   "outputs": [],
   "source": [
    "# Use smoke summaries if available, otherwise full summaries\n",
    "summ_path = summ_smoke if summ_smoke.exists() else summ_all"
   ]
  },
  {
   "cell_type": "code",
   "execution_count": 7,
   "id": "3c50cfa9-c04a-4e68-a556-4a2486db7dd2",
   "metadata": {},
   "outputs": [],
   "source": [
    "# === 3. Load JSONL data ===\n",
    "# Original text chunks\n",
    "chunk_text = {json.loads(l)[\"chunk_id\"]: json.loads(l)[\"text\"] \n",
    "              for l in open(chunks_path, encoding=\"utf-8\")}\n",
    "# Leaf-level summaries\n",
    "leaf_summary = {json.loads(l)[\"chunk_id\"]: json.loads(l)[\"summary\"] \n",
    "                for l in open(summ_path, encoding=\"utf-8\")}\n",
    "# Node-level summaries\n",
    "nodes = [json.loads(l) for l in open(nodes_path, encoding=\"utf-8\")]\n"
   ]
  },
  {
   "cell_type": "code",
   "execution_count": 8,
   "id": "2ac22ef3-2702-48ae-9762-6741d2797a85",
   "metadata": {},
   "outputs": [],
   "source": [
    "# === 4. Organize node info ===\n",
    "node_info = {nd[\"node_id\"]: (nd[\"level\"], nd[\"children\"], nd[\"summary\"]) \n",
    "             for nd in nodes}"
   ]
  },
  {
   "cell_type": "code",
   "execution_count": 9,
   "id": "ebdad9c1-2ec4-4be4-bd38-ee87a30e46b7",
   "metadata": {},
   "outputs": [
    {
     "name": "stdout",
     "output_type": "stream",
     "text": [
      "✅ Load complete: 11 summaries\n"
     ]
    }
   ],
   "source": [
    "# === 5. Build search corpus (nodes + leaves) ===\n",
    "corpus_ids, corpus_txt = [], []\n",
    "for nid, (_, _, summ) in node_info.items():\n",
    "    corpus_ids.append(nid); corpus_txt.append(summ)\n",
    "for cid, summ in leaf_summary.items():\n",
    "    corpus_ids.append(cid); corpus_txt.append(summ)\n",
    "\n",
    "print(\"✅ Load complete:\", len(corpus_ids), \"summaries\")"
   ]
  },
  {
   "cell_type": "code",
   "execution_count": 8,
   "id": "2d01991b-2ae5-40d3-b73e-1068018cada4",
   "metadata": {},
   "outputs": [],
   "source": [
    "#Step 3. 간단 임베딩 인덱스"
   ]
  },
  {
   "cell_type": "code",
   "execution_count": 14,
   "id": "04d5ff28-e944-4140-a73e-e4f312e33129",
   "metadata": {},
   "outputs": [],
   "source": [
    "# === 1. Load libraries & data ===\n",
    "try:\n",
    "    from sentence_transformers import SentenceTransformer\n",
    "    from sklearn.feature_extraction.text import TfidfVectorizer\n",
    "    from sklearn.metrics.pairwise import cosine_similarity\n",
    "    import numpy as np\n",
    "except ImportError as e:\n",
    "    raise RuntimeError(\"Required libraries are missing. Please install first.\") from e"
   ]
  },
  {
   "cell_type": "code",
   "execution_count": 15,
   "id": "67bd433a-2e88-4d2f-9251-caf7b935897c",
   "metadata": {},
   "outputs": [
    {
     "data": {
      "application/vnd.jupyter.widget-view+json": {
       "model_id": "0edc6b96f2b749869d02911c248a92df",
       "version_major": 2,
       "version_minor": 0
      },
      "text/plain": [
       "Batches:   0%|          | 0/1 [00:00<?, ?it/s]"
      ]
     },
     "metadata": {},
     "output_type": "display_data"
    },
    {
     "name": "stdout",
     "output_type": "stream",
     "text": [
      "✅ Using SBERT embeddings\n"
     ]
    }
   ],
   "source": [
    "# === 2. Select embedding backend (SBERT → fallback TF-IDF) ===\n",
    "try:\n",
    "    model = SentenceTransformer(\"all-MiniLM-L6-v2\")\n",
    "    emb_mat = model.encode(\n",
    "        corpus_txt,\n",
    "        normalize_embeddings=True,\n",
    "        show_progress_bar=True\n",
    "    )\n",
    "    backend = \"sbert\"\n",
    "    print(\"✅ Using SBERT embeddings\")\n",
    "except Exception:\n",
    "    # === 3. Fallback to TF-IDF ===\n",
    "    vect = TfidfVectorizer(ngram_range=(1, 2), max_features=50_000)\n",
    "    emb_mat = vect.fit_transform(corpus_txt)\n",
    "    backend = \"tfidf\"\n",
    "    print(\"✅ Using TF-IDF (fallback)\")\n"
   ]
  },
  {
   "cell_type": "code",
   "execution_count": 17,
   "id": "4260eff5-dd59-493a-969a-7054eea665a2",
   "metadata": {},
   "outputs": [],
   "source": [
    "# === 3. Encode query ===\n",
    "def encode_query(query: str):\n",
    "    if backend == \"sbert\":\n",
    "        return model.encode([query], normalize_embeddings=True)[0]\n",
    "    else:\n",
    "        return vect.transform([query])"
   ]
  },
  {
   "cell_type": "code",
   "execution_count": 18,
   "id": "105da041-1c9e-44f0-8182-eceaa7266426",
   "metadata": {},
   "outputs": [],
   "source": [
    "# === 4. Search top-k ===\n",
    "def topk_in_corpus(query: str, k: int = 5):\n",
    "    qv = encode_query(query)\n",
    "    if backend == \"sbert\":\n",
    "        sims = emb_mat @ qv  # cosine similarity via dot product\n",
    "    else:\n",
    "        sims = cosine_similarity(emb_mat, qv).ravel()\n",
    "    idx = np.argsort(-sims)[:k]\n",
    "    return [(corpus_ids[i], float(sims[i])) for i in idx]"
   ]
  },
  {
   "cell_type": "code",
   "execution_count": 19,
   "id": "bde8e001-487b-454c-9c79-042737cc731d",
   "metadata": {},
   "outputs": [
    {
     "name": "stdout",
     "output_type": "stream",
     "text": [
      "🔎 Query: large language models\n",
      "  L1_N0002 | 0.0857 | ...\n",
      "  L2_N0001 | 0.0857 | ...\n",
      "  L2_N0002 | 0.0693 | ...\n",
      "  L3_N0001 | 0.0693 | ...\n",
      "  C0004 | 0.0534 | Dursley; she always got so upset at any mention of her sister. He didn’t blame h...\n"
     ]
    }
   ],
   "source": [
    "# === 5. Display results immediately ===\n",
    "query = \"large language models\"\n",
    "results = topk_in_corpus(query, k=5)\n",
    "\n",
    "print(\"🔎 Query:\", query)\n",
    "for rid, score in results:\n",
    "    snippet = chunk_text.get(rid, \"\")[:80]  # show first 80 characters\n",
    "    print(f\"  {rid} | {score:.4f} | {snippet}...\")"
   ]
  },
  {
   "cell_type": "code",
   "execution_count": null,
   "id": "67db0cc3-6247-4cd3-8dfc-4eb38579a691",
   "metadata": {},
   "outputs": [],
   "source": [
    "#Step 4. Retrieval & 답변"
   ]
  },
  {
   "cell_type": "code",
   "execution_count": 20,
   "id": "89f46ecf-be40-4c58-9dc3-92559c53c2a1",
   "metadata": {},
   "outputs": [],
   "source": [
    "# === Text & retrieval utilities (highly modularized) ===\n",
    "import re\n",
    "from typing import List, Tuple, Dict, Iterable, Optional\n",
    "import numpy as np\n",
    "from sklearn.feature_extraction.text import TfidfVectorizer\n",
    "from sklearn.metrics.pairwise import cosine_similarity"
   ]
  },
  {
   "cell_type": "code",
   "execution_count": 21,
   "id": "7ef49350-163b-4ac6-85ae-5f16158635b2",
   "metadata": {},
   "outputs": [],
   "source": [
    "# --- 0) Constants & precompiled regex ---\n",
    "STOPWORDS = {\n",
    "    \"the\",\"a\",\"an\",\"and\",\"or\",\"of\",\"to\",\"in\",\"on\",\"at\",\"for\",\"with\",\n",
    "    \"is\",\"are\",\"was\",\"were\",\"do\",\"does\",\"did\",\"what\",\"who\",\"where\",\n",
    "    \"when\",\"how\",\"why\"\n",
    "}\n",
    "SENT_SPLIT_RE = re.compile(r'(?<=[.!?]\")\\s+|(?<=[.!?])\\s+')\n",
    "MR_FIX_RE     = re.compile(r\"\\bM\\s+r\\.\")"
   ]
  },
  {
   "cell_type": "code",
   "execution_count": 22,
   "id": "d869ff8a-9dff-49cf-ba4b-caa335dcc774",
   "metadata": {},
   "outputs": [],
   "source": [
    "# --- 1) Basic text cleaning / splitting / keywords ---\n",
    "def clean_text(s: str) -> str:\n",
    "    \"\"\"Light cleanup: fix 'M r.' → 'Mr.', collapse spaces.\"\"\"\n",
    "    s = MR_FIX_RE.sub(\"Mr.\", s)\n",
    "    s = re.sub(r\"\\s{2,}\", \" \", s)\n",
    "    return s.strip()\n",
    "\n",
    "def split_sentences(text: str) -> List[str]:\n",
    "    \"\"\"Split text into sentences by quotes/terminal punctuation.\"\"\"\n",
    "    return [t.strip() for t in SENT_SPLIT_RE.split(text) if t.strip()]\n",
    "\n",
    "def extract_keywords(q: str, stop: Iterable[str] = STOPWORDS) -> List[str]:\n",
    "    \"\"\"Lowercase, tokenize, remove stopwords/short tokens; return unique sorted.\"\"\"\n",
    "    toks = re.findall(r\"[A-Za-z']+\", q.lower())\n",
    "    return sorted({t for t in toks if t not in stop and len(t) >= 3})\n"
   ]
  },
  {
   "cell_type": "code",
   "execution_count": 23,
   "id": "5600d282-bd69-482f-93c8-a974e92b11ad",
   "metadata": {},
   "outputs": [],
   "source": [
    "# --- 2) ID helpers & de-duplication ---\n",
    "def is_chunk_id(x) -> bool:\n",
    "    \"\"\"Return True if id looks like a chunk id (e.g., 'C0001').\"\"\"\n",
    "    return isinstance(x, str) and x.startswith(\"C\")\n",
    "\n",
    "def unique_stable(seq: Iterable[str]) -> List[str]:\n",
    "    \"\"\"De-duplicate while preserving order.\"\"\"\n",
    "    seen, out = set(), []\n",
    "    for x in seq:\n",
    "        if x not in seen:\n",
    "            out.append(x); seen.add(x)\n",
    "    return out\n"
   ]
  },
  {
   "cell_type": "code",
   "execution_count": 24,
   "id": "ba5dc839-a8ae-4f2e-bfc8-b7533ed58c4c",
   "metadata": {},
   "outputs": [],
   "source": [
    "# --- 3) Graph traversal (nodes → leaf chunks) ---\n",
    "def descend_to_chunks(\n",
    "    start_ids: List[str],\n",
    "    node_info: Dict[str, Tuple[int, List[str], str]],\n",
    "    leaf_summary: Dict[str, str],\n",
    "    max_hops: int = 3\n",
    ") -> List[str]:\n",
    "    \"\"\"\n",
    "    Breadth-first descend from nodes to leaf chunk ids, up to max_hops.\n",
    "    Accepts that some leaves may appear only in leaf_summary.\n",
    "    \"\"\"\n",
    "    out, frontier = [], list(start_ids)\n",
    "    for _ in range(max_hops):\n",
    "        nxt = []\n",
    "        for _id in frontier:\n",
    "            if is_chunk_id(_id):\n",
    "                out.append(_id)\n",
    "            elif _id in node_info:\n",
    "                _, children, _ = node_info[_id]\n",
    "                nxt.extend(children)\n",
    "            elif _id in leaf_summary:  # Leaf known only by summary\n",
    "                out.append(_id)\n",
    "        frontier = nxt\n",
    "        if not frontier:\n",
    "            break\n",
    "    return unique_stable(out)"
   ]
  },
  {
   "cell_type": "code",
   "execution_count": 25,
   "id": "b8729882-d1a5-45b8-a712-1b2ef29ac1dd",
   "metadata": {},
   "outputs": [],
   "source": [
    "# --- 4) TF-IDF building & ranking helpers ---\n",
    "def build_tfidf(\n",
    "    texts: List[str],\n",
    "    ngram_range: Tuple[int, int] = (1, 2),\n",
    "    max_features: int = 50_000,\n",
    "    min_df: int = 1\n",
    ") -> Tuple[TfidfVectorizer, \"scipy.sparse.spmatrix\"]:\n",
    "    \"\"\"Fit a TF-IDF vectorizer on texts and return (vectorizer, matrix).\"\"\"\n",
    "    vect = TfidfVectorizer(ngram_range=ngram_range, max_features=max_features, min_df=min_df)\n",
    "    M = vect.fit_transform(texts)\n",
    "    return vect, M\n",
    "\n",
    "def rank_with_tfidf(\n",
    "    texts: List[str],\n",
    "    query: str,\n",
    "    k: int,\n",
    "    vect: Optional[TfidfVectorizer] = None,\n",
    "    M: Optional[\"scipy.sparse.spmatrix\"] = None\n",
    ") -> List[Tuple[int, float]]:\n",
    "    \"\"\"\n",
    "    Rank texts by cosine similarity between TF-IDF(texts) and TF-IDF(query).\n",
    "    If vect/M are not provided, fit on the fly.\n",
    "    Returns list of (index, score) sorted desc by score, top-k.\n",
    "    \"\"\"\n",
    "    if vect is None or M is None:\n",
    "        vect, M = build_tfidf(texts)\n",
    "    qv = vect.transform([query])\n",
    "    sims = cosine_similarity(M, qv).ravel()\n",
    "    order = np.argsort(-sims)[:k]\n",
    "    return [(int(i), float(sims[i])) for i in order]"
   ]
  },
  {
   "cell_type": "code",
   "execution_count": 26,
   "id": "2d728dc4-267f-4e6e-95bf-930c99d9fe50",
   "metadata": {},
   "outputs": [],
   "source": [
    "# --- 5) Candidate chunk collection ---\n",
    "def collect_candidate_chunks(\n",
    "    candidate_ids: List[str],\n",
    "    chunk_text: Dict[str, str]\n",
    ") -> Tuple[List[str], List[str]]:\n",
    "    \"\"\"\n",
    "    From candidate chunk ids, collect aligned (ids, cleaned_texts).\n",
    "    Filters out chunks not present in chunk_text.\n",
    "    \"\"\"\n",
    "    cids, ctexts = [], []\n",
    "    for cid in candidate_ids:\n",
    "        if cid in chunk_text:\n",
    "            cids.append(cid)\n",
    "            ctexts.append(clean_text(chunk_text[cid]))\n",
    "    return cids, ctexts"
   ]
  },
  {
   "cell_type": "code",
   "execution_count": 27,
   "id": "8958b31e-717e-4d54-a664-e29ad82c3247",
   "metadata": {},
   "outputs": [],
   "source": [
    "# === Part 1/6: Imports, constants, and regex ===\n",
    "import re\n",
    "from typing import List, Tuple, Dict, Iterable, Optional\n",
    "import numpy as np\n",
    "from sklearn.feature_extraction.text import TfidfVectorizer\n",
    "from sklearn.metrics.pairwise import cosine_similarity\n",
    "\n",
    "STOPWORDS = {\n",
    "    \"the\",\"a\",\"an\",\"and\",\"or\",\"of\",\"to\",\"in\",\"on\",\"at\",\"for\",\"with\",\n",
    "    \"is\",\"are\",\"was\",\"were\",\"do\",\"does\",\"did\",\"what\",\"who\",\"where\",\n",
    "    \"when\",\"how\",\"why\"\n",
    "}\n",
    "SENT_SPLIT_RE = re.compile(r'(?<=[.!?]\")\\s+|(?<=[.!?])\\s+')\n",
    "MR_FIX_RE     = re.compile(r\"\\bM\\s+r\\.\")\n"
   ]
  },
  {
   "cell_type": "code",
   "execution_count": 28,
   "id": "033ba269-2674-49df-9283-3499d03f7f3c",
   "metadata": {},
   "outputs": [],
   "source": [
    "# === Part 2/6: Text utilities and ID helpers ===\n",
    "def clean_text(s: str) -> str:\n",
    "    \"\"\"Light cleanup: fix 'M r.' → 'Mr.', collapse spaces.\"\"\"\n",
    "    s = MR_FIX_RE.sub(\"Mr.\", s)\n",
    "    s = re.sub(r\"\\s{2,}\", \" \", s)\n",
    "    return s.strip()\n",
    "\n",
    "def split_sentences(text: str) -> List[str]:\n",
    "    \"\"\"Split text into sentences by quotes/terminal punctuation.\"\"\"\n",
    "    return [t.strip() for t in SENT_SPLIT_RE.split(text) if t.strip()]\n",
    "\n",
    "def extract_keywords(q: str, stop: Iterable[str] = STOPWORDS) -> List[str]:\n",
    "    \"\"\"Lowercase tokenize, remove stopwords/short tokens; return unique sorted keywords.\"\"\"\n",
    "    toks = re.findall(r\"[A-Za-z']+\", q.lower())\n",
    "    return sorted({t for t in toks if t not in stop and len(t) >= 3})\n",
    "\n",
    "def is_chunk_id(x) -> bool:\n",
    "    \"\"\"Return True if id looks like a chunk id (e.g., 'C0001').\"\"\"\n",
    "    return isinstance(x, str) and x.startswith(\"C\")\n",
    "\n",
    "def unique_stable(seq: Iterable[str]) -> List[str]:\n",
    "    \"\"\"De-duplicate while preserving original order.\"\"\"\n",
    "    seen, out = set(), []\n",
    "    for x in seq:\n",
    "        if x not in seen:\n",
    "            out.append(x); seen.add(x)\n",
    "    return out\n"
   ]
  },
  {
   "cell_type": "code",
   "execution_count": 29,
   "id": "34f122dd-26c4-471c-84a8-00271aeb69d6",
   "metadata": {},
   "outputs": [],
   "source": [
    "# === Part 3/6: Graph traversal (nodes → leaf chunks) ===\n",
    "def descend_to_chunks(\n",
    "    start_ids: List[str],\n",
    "    node_info: Dict[str, Tuple[int, List[str], str]],\n",
    "    leaf_summary: Dict[str, str],\n",
    "    max_hops: int = 3\n",
    ") -> List[str]:\n",
    "    \"\"\"\n",
    "    Breadth-first descend from nodes to leaf chunk ids, up to max_hops.\n",
    "    Accepts that some leaves may appear only in leaf_summary.\n",
    "    \"\"\"\n",
    "    out, frontier = [], list(start_ids)\n",
    "    for _ in range(max_hops):\n",
    "        nxt = []\n",
    "        for _id in frontier:\n",
    "            if is_chunk_id(_id):\n",
    "                out.append(_id)\n",
    "            elif _id in node_info:\n",
    "                _, children, _ = node_info[_id]\n",
    "                nxt.extend(children)\n",
    "            elif _id in leaf_summary:  # Leaf known only by summary\n",
    "                out.append(_id)\n",
    "        frontier = nxt\n",
    "        if not frontier:\n",
    "            break\n",
    "    return unique_stable(out)\n"
   ]
  },
  {
   "cell_type": "code",
   "execution_count": 30,
   "id": "53685ba9-28ed-4e0f-94b9-09c972e86102",
   "metadata": {},
   "outputs": [],
   "source": [
    "# === Part 4/6: TF-IDF helpers (fit and rank) ===\n",
    "def build_tfidf(\n",
    "    texts: List[str],\n",
    "    ngram_range: Tuple[int, int] = (1, 2),\n",
    "    max_features: int = 50_000,\n",
    "    min_df: int = 1\n",
    ") -> Tuple[TfidfVectorizer, \"scipy.sparse.spmatrix\"]:\n",
    "    \"\"\"Fit a TF-IDF vectorizer on texts and return (vectorizer, matrix).\"\"\"\n",
    "    vect = TfidfVectorizer(ngram_range=ngram_range, max_features=max_features, min_df=min_df)\n",
    "    M = vect.fit_transform(texts)\n",
    "    return vect, M\n",
    "\n",
    "def rank_with_tfidf(\n",
    "    texts: List[str],\n",
    "    query: str,\n",
    "    k: int,\n",
    "    vect: Optional[TfidfVectorizer] = None,\n",
    "    M: Optional[\"scipy.sparse.spmatrix\"] = None\n",
    ") -> List[Tuple[int, float]]:\n",
    "    \"\"\"\n",
    "    Rank texts by cosine similarity between TF-IDF(texts) and TF-IDF(query).\n",
    "    If vect/M are not provided, fit on the fly.\n",
    "    Returns list of (index, score) sorted desc by score, top-k.\n",
    "    \"\"\"\n",
    "    if vect is None or M is None:\n",
    "        vect, M = build_tfidf(texts)\n",
    "    qv = vect.transform([query])\n",
    "    sims = cosine_similarity(M, qv).ravel()\n",
    "    order = np.argsort(-sims)[:k]\n",
    "    return [(int(i), float(sims[i])) for i in order]\n"
   ]
  },
  {
   "cell_type": "code",
   "execution_count": 31,
   "id": "14465fdf-8969-4d37-a504-b7089c9d88d5",
   "metadata": {},
   "outputs": [],
   "source": [
    "# === Part 5/6: Retrieval orchestration (finely split) ===\n",
    "def get_mixed_hits(query: str, topk_nodes: int, topk_fn) -> List[Tuple[str, float]]:\n",
    "    \"\"\"Call embedding/top-k backend to fetch mixed node/leaf candidates.\"\"\"\n",
    "    return topk_fn(query, k=topk_nodes)\n",
    "\n",
    "def get_candidate_chunk_ids(\n",
    "    hit_ids: List[str],\n",
    "    node_info: Dict[str, Tuple[int, List[str], str]],\n",
    "    leaf_summary: Dict[str, str],\n",
    "    max_hops: int = 3\n",
    ") -> List[str]:\n",
    "    \"\"\"Traverse graph to collect leaf chunk candidates from mixed ids.\"\"\"\n",
    "    return descend_to_chunks(hit_ids, node_info=node_info, leaf_summary=leaf_summary, max_hops=max_hops)\n",
    "\n",
    "def ensure_candidates_with_fallback(candidate_ids: List[str], hit_ids: List[str]) -> List[str]:\n",
    "    \"\"\"If traversal produced nothing, fall back to chunk-looking ids from hits.\"\"\"\n",
    "    return candidate_ids if candidate_ids else [hid for hid in hit_ids if is_chunk_id(hid)]\n",
    "\n",
    "def rerank_candidates(\n",
    "    query: str,\n",
    "    candidate_chunk_ids: List[str],\n",
    "    chunk_text: Dict[str, str],\n",
    "    topk_chunks: int\n",
    ") -> List[Tuple[str, float]]:\n",
    "    \"\"\"Compute TF-IDF similarities over candidate chunk texts and return top-k.\"\"\"\n",
    "    # Collect chunk texts\n",
    "    cids, ctexts = [], []\n",
    "    for cid in candidate_chunk_ids:\n",
    "        if cid in chunk_text:\n",
    "            cids.append(cid); ctexts.append(clean_text(chunk_text[cid]))\n",
    "    if not ctexts:\n",
    "        return []\n",
    "    # Rank and map indices back to ids\n",
    "    ranks = rank_with_tfidf(ctexts, query, k=topk_chunks)\n",
    "    return [(cids[i], score) for (i, score) in ranks]\n",
    "\n",
    "def raptor_retrieve(\n",
    "    query: str,\n",
    "    node_info: Dict[str, Tuple[int, List[str], str]],\n",
    "    leaf_summary: Dict[str, str],\n",
    "    chunk_text: Dict[str, str],\n",
    "    topk_nodes: int = 6,\n",
    "    topk_chunks: int = 5,\n",
    "    topk_fn=None\n",
    ") -> Dict[str, List[Tuple[str, float]]]:\n",
    "    \"\"\"\n",
    "    1) get_mixed_hits\n",
    "    2) get_candidate_chunk_ids\n",
    "    3) ensure_candidates_with_fallback\n",
    "    4) rerank_candidates\n",
    "    \"\"\"\n",
    "    if topk_fn is None:\n",
    "        raise ValueError(\"topk_fn is required (e.g., topk_in_corpus)\")\n",
    "\n",
    "    hits = get_mixed_hits(query, topk_nodes, topk_fn)  # [(id, score), ...]\n",
    "    hit_ids = [hid for (hid, _) in hits]\n",
    "\n",
    "    candidates = get_candidate_chunk_ids(hit_ids, node_info=node_info, leaf_summary=leaf_summary, max_hops=3)\n",
    "    candidates = ensure_candidates_with_fallback(candidates, hit_ids)\n",
    "\n",
    "    top_chunks = rerank_candidates(query, candidates, chunk_text, topk_chunks)\n",
    "    return {\"nodes\": hits, \"chunks\": top_chunks}\n"
   ]
  },
  {
   "cell_type": "code",
   "execution_count": 32,
   "id": "1a1634fc-1cd0-4608-bf4a-3f67d01a5ade",
   "metadata": {},
   "outputs": [],
   "source": [
    "# === Part 6/6: Answer composition + quick test helpers ===\n",
    "def pick_key_sentences(query: str, text: str, sent_per_chunk: int = 2) -> str:\n",
    "    \"\"\"\n",
    "    From a chunk:\n",
    "      1) split into sentences,\n",
    "      2) filter by keyword presence (if any),\n",
    "      3) TF-IDF re-rank filtered sentences vs. query,\n",
    "      4) return top-N concatenated.\n",
    "    \"\"\"\n",
    "    if not text:\n",
    "        return \"\"\n",
    "    sents = split_sentences(text)\n",
    "    if not sents:\n",
    "        return \"\"\n",
    "    kws = extract_keywords(query)\n",
    "    filtered = [s for s in sents if any(k in s.lower() for k in kws)] or sents\n",
    "    ranks = rank_with_tfidf(filtered, query, k=sent_per_chunk)\n",
    "    return \" \".join(filtered[i] for (i, _) in ranks)\n",
    "\n",
    "def compose_answer_from_chunks(\n",
    "    query: str,\n",
    "    top_chunks: List[Tuple[str, float]],\n",
    "    chunk_text: Dict[str, str],\n",
    "    max_chars: int = 400\n",
    ") -> str:\n",
    "    \"\"\"Build an answer by taking top sentences from each top chunk; truncate by max_chars.\"\"\"\n",
    "    snippets = []\n",
    "    for cid, _ in top_chunks:\n",
    "        picked = pick_key_sentences(query, clean_text(chunk_text.get(cid, \"\")))\n",
    "        if picked:\n",
    "            snippets.append(f\"[{cid}] {picked}\")\n",
    "        if len(\" \".join(snippets)) > max_chars:\n",
    "            break\n",
    "    return \" \".join(snippets).strip()\n",
    "\n",
    "def answer_query(\n",
    "    query: str,\n",
    "    node_info: Dict[str, Tuple[int, List[str], str]],\n",
    "    leaf_summary: Dict[str, str],\n",
    "    chunk_text: Dict[str, str],\n",
    "    topk_nodes: int = 6,\n",
    "    topk_chunks: int = 5,\n",
    "    sent_per_chunk: int = 2,\n",
    "    max_chars: int = 400,\n",
    "    topk_fn=None\n",
    ") -> Dict[str, object]:\n",
    "    \"\"\"End-to-end: retrieval + light extractive summarization.\"\"\"\n",
    "    res = raptor_retrieve(\n",
    "        query=query,\n",
    "        node_info=node_info,\n",
    "        leaf_summary=leaf_summary,\n",
    "        chunk_text=chunk_text,\n",
    "        topk_nodes=topk_nodes,\n",
    "        topk_chunks=topk_chunks,\n",
    "        topk_fn=topk_fn\n",
    "    )\n",
    "    answer = compose_answer_from_chunks(query, res.get(\"chunks\", []), chunk_text, max_chars)\n",
    "    if not answer:\n",
    "        # Fallback to leaf summaries if nothing was extracted\n",
    "        fb = []\n",
    "        for hid, _ in (topk_fn(query, k=6) if topk_fn else []):\n",
    "            if is_chunk_id(hid) and hid in leaf_summary:\n",
    "                fb.append(f\"[{hid}-summary] {leaf_summary[hid]}\")\n",
    "                if len(fb) >= 2:\n",
    "                    break\n",
    "        answer = \" \".join(fb).strip() if fb else \"(no matching evidence)\"\n",
    "    return {\"retrieval\": res, \"answer\": answer}\n",
    "\n",
    "def print_top_items(title: str, items: List[Tuple[str, float]], limit: int = 5, preview_map: Dict[str, str] = None, preview_len: int = 80):\n",
    "    \"\"\"Pretty-print top (id, score[, preview]) items for quick inspection.\"\"\"\n",
    "    print(f\"\\n{title}\")\n",
    "    print(\"-\" * len(title))\n",
    "    for i, (iid, score) in enumerate(items[:limit], 1):\n",
    "        if preview_map is not None:\n",
    "            snippet = clean_text(preview_map.get(iid, \"\"))[:preview_len]\n",
    "            print(f\"{i:>2}. {iid} | {score:.4f} | {snippet}...\")\n",
    "        else:\n",
    "            print(f\"{i:>2}. {iid} | {score:.4f}\")\n",
    "\n",
    "def demo_query(query: str, topk_nodes: int = 6, topk_chunks: int = 5, sent_per_chunk: int = 2, max_chars: int = 400):\n",
    "    \"\"\"\n",
    "    One-liner demo: run retrieval + show nodes/chunks + print final answer.\n",
    "    Requires `topk_in_corpus`, `node_info`, `leaf_summary`, `chunk_text` in scope.\n",
    "    \"\"\"\n",
    "    res = raptor_retrieve(\n",
    "        query=query,\n",
    "        node_info=node_info,\n",
    "        leaf_summary=leaf_summary,\n",
    "        chunk_text=chunk_text,\n",
    "        topk_nodes=topk_nodes,\n",
    "        topk_chunks=topk_chunks,\n",
    "        topk_fn=topk_in_corpus\n",
    "    )\n",
    "    print_top_items(\"Top nodes/leaves\", res[\"nodes\"], preview_map=leaf_summary)\n",
    "    print_top_items(\"Top chunks\", res[\"chunks\"], preview_map=chunk_text)\n",
    "\n",
    "    out = answer_query(\n",
    "        query=query,\n",
    "        node_info=node_info,\n",
    "        leaf_summary=leaf_summary,\n",
    "        chunk_text=chunk_text,\n",
    "        topk_nodes=topk_nodes,\n",
    "        topk_chunks=topk_chunks,\n",
    "        sent_per_chunk=sent_per_chunk,\n",
    "        max_chars=max_chars,\n",
    "        topk_fn=topk_in_corpus\n",
    "    )\n",
    "    print(\"\\n🧩 Answer\")\n",
    "    print(\"---------\")\n",
    "    print(out[\"answer\"])\n",
    "    return out\n"
   ]
  },
  {
   "cell_type": "code",
   "execution_count": 33,
   "id": "4afbae4c-f704-4ba3-af2b-c8eb62f0c3bf",
   "metadata": {},
   "outputs": [
    {
     "name": "stdout",
     "output_type": "stream",
     "text": [
      "🔎 Query: large language models evaluation and tree index\n",
      "\n",
      "Top nodes/leaves\n",
      "----------------\n",
      " 1. L1_N0002 | 0.0499 | ...\n",
      " 2. L2_N0001 | 0.0499 | ...\n",
      " 3. C0004 | -0.0058 | The first thing Mr....\n",
      " 4. L2_N0002 | -0.0075 | ...\n",
      " 5. L3_N0001 | -0.0075 | ...\n",
      "\n",
      "Top chunks\n",
      "----------\n",
      " 1. C0001 | 0.1231 | Mr. and Mrs. Dursley, of number four, Privet Drive, were proud to say that they ...\n",
      " 2. C0002 | 0.0969 | Dursley on the cheek, and tried to kiss Dudley good-bye but missed, because Dudl...\n",
      " 3. C0003 | 0.0740 | Dursley arrived in the Grunnings parking lot, his mind back on drills. Mr. Dursl...\n",
      " 4. C0004 | 0.0729 | Dursley; she always got so upset at any mention of her sister. He didn’t blame h...\n",
      " 5. C0005 | 0.0698 | When Dudley had been put to bed, he went into the living room in time to catch t...\n",
      "\n",
      "🧩 Answer\n",
      "---------\n",
      "[C0001] None of them noticed a large, tawny owl flutter past the window. He was a big, beefy man with hardly any neck, although he did have a very large mustache. [C0002] As he drove toward town he thought of nothing except a large order of drills he was hoping to get that day. It was on the corner of the street that he noticed the first sign of something peculiar — a cat reading a map. [C0003] It was on his way back past them, clutching a large doughnut in a bag, that he caught a few words of what they were saying. He didn’t see the owls swooping past in broad daylight, though people down in the street did; they pointed and gazed open-mouthed as owl after owl sped overhead.\n"
     ]
    }
   ],
   "source": [
    "# --- Quick smoke test ---\n",
    "try:\n",
    "    _ = (topk_in_corpus, node_info, leaf_summary, chunk_text)\n",
    "except NameError as e:\n",
    "    raise RuntimeError(\n",
    "        \"Missing required globals: topk_in_corpus, node_info, leaf_summary, chunk_text.\\n\"\n",
    "        \"Load them first using your existing RAPTOR setup.\"\n",
    "    ) from e\n",
    "\n",
    "test_query = \"large language models evaluation and tree index\"\n",
    "print(f\"🔎 Query: {test_query}\")\n",
    "_ = demo_query(test_query, topk_nodes=6, topk_chunks=5, sent_per_chunk=2, max_chars=400)\n"
   ]
  },
  {
   "cell_type": "code",
   "execution_count": 25,
   "id": "1ff94ceb-9b00-4346-bb86-605ae3e5dcfc",
   "metadata": {},
   "outputs": [],
   "source": [
    "#Step 5. 테스트!"
   ]
  },
  {
   "cell_type": "code",
   "execution_count": 37,
   "id": "32416217-b50b-40f0-96aa-4a0f1e527521",
   "metadata": {},
   "outputs": [],
   "source": [
    "def pretty_answer(query: str, topk_nodes=6, topk_chunks=5, sent_per_chunk=2, max_chars=400):\n",
    "    # Safety checks for required globals\n",
    "    try:\n",
    "        _ = (node_info, leaf_summary, chunk_text, topk_in_corpus)\n",
    "    except NameError as e:\n",
    "        raise RuntimeError(\n",
    "            \"Missing required globals. Make sure these exist in the session:\\n\"\n",
    "            \" - node_info\\n - leaf_summary\\n - chunk_text\\n - topk_in_corpus\"\n",
    "        ) from e\n",
    "\n",
    "    out = answer_query(\n",
    "        query=query,\n",
    "        node_info=node_info,\n",
    "        leaf_summary=leaf_summary,\n",
    "        chunk_text=chunk_text,\n",
    "        topk_nodes=topk_nodes,\n",
    "        topk_chunks=topk_chunks,\n",
    "        sent_per_chunk=sent_per_chunk,\n",
    "        max_chars=max_chars,\n",
    "        topk_fn=topk_in_corpus,   # <-- pass the retrieval backend\n",
    "    )\n",
    "\n",
    "    print(\"🔎 Q:\", query)\n",
    "    print(\"💬 A:\", out[\"answer\"])\n",
    "    return out\n"
   ]
  },
  {
   "cell_type": "code",
   "execution_count": 38,
   "id": "17f6798b-927e-4800-804c-84ea59531f2f",
   "metadata": {},
   "outputs": [
    {
     "name": "stdout",
     "output_type": "stream",
     "text": [
      "🔎 Q: Who is Harry Potter's best friend?\n",
      "💬 A: [C0003] He was sure there were lots of people called Potter who had a son called Harry. Come to think of it, he wasn’t even sure his nephew was called Harry. [C0001] Potter was Mrs. None of them noticed a large, tawny owl flutter past the window. [C0004] Rejoice, for You-Know-Who has gone at last! Dursley; she always got so upset at any mention of her sister. [C0002] Dursley couldn’t bear people who dressed in funny clothes — the getups you saw on young people! Dursley on the cheek, and tried to kiss Dudley good-bye but missed, because Dudley was now having a tantrum and throwing his cereal at the walls.\n",
      "🔎 Q: What strange events happened on Privet Drive?\n",
      "💬 A: [C0002] There was a tabby cat standing on the corner of Privet Drive, but there wasn’t a map in sight. It was now reading the sign that said Privet Drive — no, looking at the sign; cats couldn’t read maps or signs. [C0001] Dursley, of number four, Privet Drive, were proud to say that they were perfectly normal, thank you very much. Dursley woke up on the dull, gray Tuesday our story starts, there was nothing about the cloudy sky outside to suggest that strange and mysterious things would soon be happening all over the country.\n"
     ]
    },
    {
     "data": {
      "text/plain": [
       "{'retrieval': {'nodes': [('L1_N0003', 0.2585400640964508),\n",
       "   ('C0005', 0.2585400640964508),\n",
       "   ('L1_N0001', 0.2353595793247223),\n",
       "   ('C0001', 0.2353595793247223),\n",
       "   ('C0002', 0.1981765478849411),\n",
       "   ('C0003', 0.1439816802740097)],\n",
       "  'chunks': [('C0002', 0.11857809291952338),\n",
       "   ('C0001', 0.08515568181128577),\n",
       "   ('C0003', 0.03252912274508405),\n",
       "   ('C0005', 0.010153593782822781)]},\n",
       " 'answer': '[C0002] There was a tabby cat standing on the corner of Privet Drive, but there wasn’t a map in sight. It was now reading the sign that said Privet Drive — no, looking at the sign; cats couldn’t read maps or signs. [C0001] Dursley, of number four, Privet Drive, were proud to say that they were perfectly normal, thank you very much. Dursley woke up on the dull, gray Tuesday our story starts, there was nothing about the cloudy sky outside to suggest that strange and mysterious things would soon be happening all over the country.'}"
      ]
     },
     "execution_count": 38,
     "metadata": {},
     "output_type": "execute_result"
    }
   ],
   "source": [
    "pretty_answer(\"Who is Harry Potter's best friend?\")\n",
    "pretty_answer(\"What strange events happened on Privet Drive?\")"
   ]
  },
  {
   "cell_type": "code",
   "execution_count": null,
   "id": "e3da474e-8c07-467d-973f-85fbc9a6c3c2",
   "metadata": {},
   "outputs": [],
   "source": []
  }
 ],
 "metadata": {
  "kernelspec": {
   "display_name": "Python (nlp_env)",
   "language": "python",
   "name": "nlp_env"
  },
  "language_info": {
   "codemirror_mode": {
    "name": "ipython",
    "version": 3
   },
   "file_extension": ".py",
   "mimetype": "text/x-python",
   "name": "python",
   "nbconvert_exporter": "python",
   "pygments_lexer": "ipython3",
   "version": "3.10.12"
  }
 },
 "nbformat": 4,
 "nbformat_minor": 5
}
