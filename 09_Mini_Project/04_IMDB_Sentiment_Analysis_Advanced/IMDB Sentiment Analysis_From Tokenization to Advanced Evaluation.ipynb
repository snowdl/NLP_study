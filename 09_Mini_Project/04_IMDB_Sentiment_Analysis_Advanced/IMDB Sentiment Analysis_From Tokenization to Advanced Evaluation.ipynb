{
 "cells": [
  {
   "cell_type": "code",
   "execution_count": 1,
   "id": "c0881979-3fca-44f5-bba7-2f5063ccbfda",
   "metadata": {},
   "outputs": [],
   "source": [
    "from tensorflow.keras import optimizers"
   ]
  },
  {
   "cell_type": "code",
   "execution_count": 4,
   "id": "7a577f3b-ce5e-479f-82b7-6b8de78b622f",
   "metadata": {},
   "outputs": [],
   "source": [
    "# Create an Adam optimizer with a learning rate of 0.001\n",
    "# and gradient clipping with a maximum norm of 1\n",
    "adam = optimizers.Adam(learning_rate=0.001, clipnorm=1)"
   ]
  },
  {
   "cell_type": "code",
   "execution_count": 5,
   "id": "a06496c9-c772-4dd5-ac13-ce1f548700f6",
   "metadata": {},
   "outputs": [],
   "source": [
    "#preprocessing"
   ]
  },
  {
   "cell_type": "code",
   "execution_count": 8,
   "id": "042ab070-a757-4283-9ab7-8288f475b6f3",
   "metadata": {},
   "outputs": [],
   "source": [
    "# Import the Tokenizer class for converting text into sequences\n",
    "from tensorflow.keras.preprocessing.text import Tokenizer\n",
    "from tensorflow.keras.preprocessing.sequence import pad_sequences"
   ]
  },
  {
   "cell_type": "code",
   "execution_count": 12,
   "id": "574853e7-4aae-4f0e-aa07-1a199bcb719d",
   "metadata": {},
   "outputs": [],
   "source": [
    "# Create a Tokenizer instance\n",
    "tokenizer = Tokenizer()\n",
    "# Sample training text\n",
    "train_text = \"I am learning NLP and NLP is fun\""
   ]
  },
  {
   "cell_type": "code",
   "execution_count": 13,
   "id": "55ef6aa4-ba1e-4124-acdd-356cc9edc7e0",
   "metadata": {},
   "outputs": [],
   "source": [
    "# Fit the tokenizer on the text (builds the word index)\n",
    "tokenizer.fit_on_texts([train_text])"
   ]
  },
  {
   "cell_type": "code",
   "execution_count": 15,
   "id": "a9de3ee2-ef52-47e2-b5ef-6c04c51bc165",
   "metadata": {},
   "outputs": [
    {
     "name": "stdout",
     "output_type": "stream",
     "text": [
      "{'nlp': 1, 'i': 2, 'am': 3, 'learning': 4, 'and': 5, 'is': 6, 'fun': 7}\n"
     ]
    }
   ],
   "source": [
    "# Print the resulting word index (a dictionary of word -> integer)\n",
    "#The Tokenizer assigns lower indices to words that appear more frequently.\n",
    "#In this case, \"NLP\" appears twice, so it is assigned index 1.\n",
    "print(tokenizer.word_index)"
   ]
  },
  {
   "cell_type": "code",
   "execution_count": 20,
   "id": "43450961-d67a-4f5d-9ade-3fb14377115b",
   "metadata": {},
   "outputs": [],
   "source": [
    "#Text to be encoded\n",
    "sub_text = \"I am learning NLP and NLP is fun \""
   ]
  },
  {
   "cell_type": "code",
   "execution_count": 21,
   "id": "7a747390-f33c-4779-bd48-5c9d1922c193",
   "metadata": {},
   "outputs": [],
   "source": [
    "# Convert the text to a sequence of integers\n",
    "sequences = tokenizer.texts_to_sequences([sub_text])[0]"
   ]
  },
  {
   "cell_type": "code",
   "execution_count": 23,
   "id": "f7c174a8-c5fd-493d-b8db-a85a667d6b9f",
   "metadata": {},
   "outputs": [
    {
     "name": "stdout",
     "output_type": "stream",
     "text": [
      "Encoded text: I am learning NLP and NLP is fun \n"
     ]
    }
   ],
   "source": [
    "# Print the original text\n",
    "print(\"Encoded text:\", sub_text)"
   ]
  },
  {
   "cell_type": "code",
   "execution_count": 24,
   "id": "02696e0f-4afd-48eb-b47e-296fbbe9a16a",
   "metadata": {},
   "outputs": [
    {
     "name": "stdout",
     "output_type": "stream",
     "text": [
      "Sequence of integers: [2, 3, 4, 1, 5, 1, 6, 7]\n"
     ]
    }
   ],
   "source": [
    "# Print the integer sequence\n",
    "print(\"Sequence of integers:\", sequences)"
   ]
  },
  {
   "cell_type": "code",
   "execution_count": 25,
   "id": "38a85156-059a-4f5c-845b-246b391161ef",
   "metadata": {},
   "outputs": [],
   "source": [
    "#padding"
   ]
  },
  {
   "cell_type": "code",
   "execution_count": 26,
   "id": "a9d99559-fe55-460f-888b-ae24be0a5021",
   "metadata": {},
   "outputs": [],
   "source": [
    "# Pad the sequence (make it fixed length)"
   ]
  },
  {
   "cell_type": "code",
   "execution_count": 28,
   "id": "9974dfd2-ac77-442f-b908-ee2b43d42739",
   "metadata": {},
   "outputs": [],
   "source": [
    "#maxlen=10 : Sets the fixed length of all sequences to 10. Sequences longer than 10 will be truncated; shorter sequences will be padded with zeros\n",
    "#padding='post' : Adds the padding after the actual sequence (at the end).\n",
    "#(default is padding='pre') : 'pre', padding is added before the sequence (at the beginning). For example, [0, 0, 1, 2, 3]\n",
    "\n",
    "padded_sequence = pad_sequences([sequences], maxlen=10, padding='post')"
   ]
  },
  {
   "cell_type": "code",
   "execution_count": 31,
   "id": "269ffb22-514e-46d9-b86b-1cdd97645817",
   "metadata": {},
   "outputs": [
    {
     "name": "stdout",
     "output_type": "stream",
     "text": [
      "[[2 3 4 1 5 1 6 7 0 0]]\n"
     ]
    }
   ],
   "source": [
    "print(padded_sequence)"
   ]
  },
  {
   "cell_type": "code",
   "execution_count": 35,
   "id": "64b77384-52d0-420d-8107-798a06770bce",
   "metadata": {},
   "outputs": [],
   "source": [
    "padded_pre = pad_sequences([sequences], maxlen=10, padding='pre')"
   ]
  },
  {
   "cell_type": "code",
   "execution_count": 36,
   "id": "11f986ca-46c3-473d-a219-e8db93e2be48",
   "metadata": {},
   "outputs": [
    {
     "name": "stdout",
     "output_type": "stream",
     "text": [
      "[[0 0 2 3 4 1 5 1 6 7]]\n"
     ]
    }
   ],
   "source": [
    "print(padded_pre)"
   ]
  },
  {
   "cell_type": "code",
   "execution_count": 39,
   "id": "e3bf6c01-7674-4435-a1bd-78657130c986",
   "metadata": {},
   "outputs": [],
   "source": [
    "tokenized_text = [['Hope', 'to', 'see', 'you', 'soon'], ['Nice', 'to', 'see', 'you', 'again']]"
   ]
  },
  {
   "cell_type": "code",
   "execution_count": 40,
   "id": "c9a35346-b4bb-45ce-85e8-48a8af79941f",
   "metadata": {},
   "outputs": [],
   "source": [
    "# Create tokenizer and fit on tokenized texts\n",
    "tokenizer = Tokenizer()"
   ]
  },
  {
   "cell_type": "code",
   "execution_count": 41,
   "id": "7f6d4aac-54bc-4436-b2d3-35a9d5c272ce",
   "metadata": {},
   "outputs": [],
   "source": [
    "tokenizer.fit_on_texts(tokenized_text)"
   ]
  },
  {
   "cell_type": "code",
   "execution_count": 43,
   "id": "b91916e8-40be-4dda-951d-5c6aaa09db32",
   "metadata": {},
   "outputs": [],
   "source": [
    "# Convert tokenized texts to sequences of integers\n",
    "sequences = tokenizer.texts_to_sequences(tokenized_text)"
   ]
  },
  {
   "cell_type": "code",
   "execution_count": 44,
   "id": "fe70c837-2a9c-4f2b-9182-1965d16f1870",
   "metadata": {},
   "outputs": [
    {
     "name": "stdout",
     "output_type": "stream",
     "text": [
      "Word index: {'to': 1, 'see': 2, 'you': 3, 'hope': 4, 'soon': 5, 'nice': 6, 'again': 7}\n",
      "Sequences: [[4, 1, 2, 3, 5], [6, 1, 2, 3, 7]]\n"
     ]
    }
   ],
   "source": [
    "print(\"Word index:\", tokenizer.word_index)\n",
    "print(\"Sequences:\", sequences)"
   ]
  },
  {
   "cell_type": "code",
   "execution_count": 45,
   "id": "3e8f083d-fcad-4314-9779-e68d06f2af5d",
   "metadata": {},
   "outputs": [],
   "source": [
    "#padding"
   ]
  },
  {
   "cell_type": "code",
   "execution_count": null,
   "id": "29f72132-dad4-42d2-8e88-607e07013a83",
   "metadata": {},
   "outputs": [],
   "source": []
  },
  {
   "cell_type": "code",
   "execution_count": 48,
   "id": "15cb9210-d212-4950-b909-b39dd1e775de",
   "metadata": {},
   "outputs": [],
   "source": [
    "from tensorflow.keras.preprocessing.sequence import pad_sequences"
   ]
  },
  {
   "cell_type": "code",
   "execution_count": null,
   "id": "2fa8cd9c-4f78-4508-a8a7-1cc659a44ec2",
   "metadata": {},
   "outputs": [],
   "source": []
  },
  {
   "cell_type": "code",
   "execution_count": 49,
   "id": "e89fb269-4111-4633-bf6d-fbae879736e9",
   "metadata": {},
   "outputs": [],
   "source": [
    "padded_sequences = pad_sequences(sequences, padding='post')"
   ]
  },
  {
   "cell_type": "code",
   "execution_count": 50,
   "id": "d087e810-d69e-47ac-8f14-3e023daa22b0",
   "metadata": {},
   "outputs": [
    {
     "name": "stdout",
     "output_type": "stream",
     "text": [
      "Padded sequences: [[4 1 2 3 5]\n",
      " [6 1 2 3 7]]\n"
     ]
    }
   ],
   "source": [
    "print(\"Padded sequences:\", padded_sequences)"
   ]
  },
  {
   "cell_type": "code",
   "execution_count": 53,
   "id": "51895fd7-027e-4566-b44c-88ca7ed6e06a",
   "metadata": {},
   "outputs": [],
   "source": [
    "#embedding layer"
   ]
  },
  {
   "cell_type": "code",
   "execution_count": 54,
   "id": "36dd410e-5f2b-48c2-acd3-8af13388809f",
   "metadata": {},
   "outputs": [],
   "source": [
    "from tensorflow.keras.models import Sequential\n",
    "from tensorflow.keras.layers import Embedding"
   ]
  },
  {
   "cell_type": "code",
   "execution_count": 59,
   "id": "38666e1a-b132-4b85-bad3-4a15bb1c14fb",
   "metadata": {},
   "outputs": [],
   "source": [
    "# Calculate the vocabulary size for the embedding layer\n",
    "# +1 is added because index 0 is reserved for padding (no actual word)\n",
    "vocab_size = len(tokenizer.word_index) + 1"
   ]
  },
  {
   "cell_type": "code",
   "execution_count": 60,
   "id": "2391df99-d21f-4347-bbb0-509f92da8846",
   "metadata": {},
   "outputs": [
    {
     "name": "stdout",
     "output_type": "stream",
     "text": [
      "8\n"
     ]
    }
   ],
   "source": [
    "print(vocab_size)"
   ]
  },
  {
   "cell_type": "code",
   "execution_count": 61,
   "id": "0b25f6da-4f97-4b82-be03-4b81b218b222",
   "metadata": {},
   "outputs": [],
   "source": [
    "num_words = len(tokenizer.word_index)"
   ]
  },
  {
   "cell_type": "code",
   "execution_count": 58,
   "id": "b5b3902e-02bb-486d-aecd-02d585944a38",
   "metadata": {},
   "outputs": [
    {
     "name": "stdout",
     "output_type": "stream",
     "text": [
      "7\n"
     ]
    }
   ],
   "source": [
    "print(num_words)"
   ]
  },
  {
   "cell_type": "code",
   "execution_count": 62,
   "id": "bc51df18-048c-40ce-84c6-c65dc0dbf4c4",
   "metadata": {},
   "outputs": [],
   "source": [
    "embedding_dim = 4 "
   ]
  },
  {
   "cell_type": "code",
   "execution_count": 63,
   "id": "23c6577e-1a17-4c94-89fb-5f5a88507e85",
   "metadata": {},
   "outputs": [],
   "source": [
    "model = Sequential()"
   ]
  },
  {
   "cell_type": "code",
   "execution_count": 68,
   "id": "4b205bf5-1429-4043-a863-082c604d3bcf",
   "metadata": {},
   "outputs": [],
   "source": [
    "#Add an Embedding layer that maps integer word indices to dense vectors\n",
    "# input_dim=8->  the embedding layer can handle integer word indices from 0 to 7\n",
    "# output_dim=4->Each word will be represented as a 4-dimensional dense vector.\n",
    "model.add(Embedding(input_dim=vocab_size, output_dim=embedding_dim))"
   ]
  },
  {
   "cell_type": "code",
   "execution_count": 69,
   "id": "cd34329e-00b3-4902-b4f2-43513e0c294a",
   "metadata": {},
   "outputs": [],
   "source": [
    "from datasets import load_dataset"
   ]
  },
  {
   "cell_type": "code",
   "execution_count": 70,
   "id": "8e132607-aad3-48c0-94a3-ae75a6466d9c",
   "metadata": {},
   "outputs": [
    {
     "data": {
      "application/vnd.jupyter.widget-view+json": {
       "model_id": "fccc4f73f2c04560b763359c428d5c3b",
       "version_major": 2,
       "version_minor": 0
      },
      "text/plain": [
       "README.md: 0.00B [00:00, ?B/s]"
      ]
     },
     "metadata": {},
     "output_type": "display_data"
    },
    {
     "data": {
      "application/vnd.jupyter.widget-view+json": {
       "model_id": "4537c6f832f24566912269a5fa904f97",
       "version_major": 2,
       "version_minor": 0
      },
      "text/plain": [
       "train-00000-of-00001.parquet:   0%|          | 0.00/21.0M [00:00<?, ?B/s]"
      ]
     },
     "metadata": {},
     "output_type": "display_data"
    },
    {
     "data": {
      "application/vnd.jupyter.widget-view+json": {
       "model_id": "3b86d76a086443d0ba06b4eaf4378afa",
       "version_major": 2,
       "version_minor": 0
      },
      "text/plain": [
       "test-00000-of-00001.parquet:   0%|          | 0.00/20.5M [00:00<?, ?B/s]"
      ]
     },
     "metadata": {},
     "output_type": "display_data"
    },
    {
     "data": {
      "application/vnd.jupyter.widget-view+json": {
       "model_id": "98d72cbc5ed5408491a22929afc3080b",
       "version_major": 2,
       "version_minor": 0
      },
      "text/plain": [
       "unsupervised-00000-of-00001.parquet:   0%|          | 0.00/42.0M [00:00<?, ?B/s]"
      ]
     },
     "metadata": {},
     "output_type": "display_data"
    },
    {
     "data": {
      "application/vnd.jupyter.widget-view+json": {
       "model_id": "714cecc37d7e4afcb7de4bff8bd23436",
       "version_major": 2,
       "version_minor": 0
      },
      "text/plain": [
       "Generating train split:   0%|          | 0/25000 [00:00<?, ? examples/s]"
      ]
     },
     "metadata": {},
     "output_type": "display_data"
    },
    {
     "data": {
      "application/vnd.jupyter.widget-view+json": {
       "model_id": "18e6689c714d42ddbdbe695859ea4f0f",
       "version_major": 2,
       "version_minor": 0
      },
      "text/plain": [
       "Generating test split:   0%|          | 0/25000 [00:00<?, ? examples/s]"
      ]
     },
     "metadata": {},
     "output_type": "display_data"
    },
    {
     "data": {
      "application/vnd.jupyter.widget-view+json": {
       "model_id": "524ff873821c4a26a2daa9345312250f",
       "version_major": 2,
       "version_minor": 0
      },
      "text/plain": [
       "Generating unsupervised split:   0%|          | 0/50000 [00:00<?, ? examples/s]"
      ]
     },
     "metadata": {},
     "output_type": "display_data"
    }
   ],
   "source": [
    "dataset = load_dataset(\"imdb\")"
   ]
  },
  {
   "cell_type": "code",
   "execution_count": 71,
   "id": "9fed3bd4-f1d8-4f3b-9b30-99d6dc8e5bdd",
   "metadata": {},
   "outputs": [
    {
     "name": "stdout",
     "output_type": "stream",
     "text": [
      "{'text': 'I rented I AM CURIOUS-YELLOW from my video store because of all the controversy that surrounded it when it was first released in 1967. I also heard that at first it was seized by U.S. customs if it ever tried to enter this country, therefore being a fan of films considered \"controversial\" I really had to see this for myself.<br /><br />The plot is centered around a young Swedish drama student named Lena who wants to learn everything she can about life. In particular she wants to focus her attentions to making some sort of documentary on what the average Swede thought about certain political issues such as the Vietnam War and race issues in the United States. In between asking politicians and ordinary denizens of Stockholm about their opinions on politics, she has sex with her drama teacher, classmates, and married men.<br /><br />What kills me about I AM CURIOUS-YELLOW is that 40 years ago, this was considered pornographic. Really, the sex and nudity scenes are few and far between, even then it\\'s not shot like some cheaply made porno. While my countrymen mind find it shocking, in reality sex and nudity are a major staple in Swedish cinema. Even Ingmar Bergman, arguably their answer to good old boy John Ford, had sex scenes in his films.<br /><br />I do commend the filmmakers for the fact that any sex shown in the film is shown for artistic purposes rather than just to shock people and make money to be shown in pornographic theaters in America. I AM CURIOUS-YELLOW is a good film for anyone wanting to study the meat and potatoes (no pun intended) of Swedish cinema. But really, this film doesn\\'t have much of a plot.', 'label': 0}\n"
     ]
    }
   ],
   "source": [
    "print(dataset[\"train\"][0])"
   ]
  },
  {
   "cell_type": "code",
   "execution_count": 72,
   "id": "cb6fd96a-8755-4f03-ba7a-e494bc4e82ee",
   "metadata": {},
   "outputs": [],
   "source": [
    "from tensorflow.keras.preprocessing.text import Tokenizer"
   ]
  },
  {
   "cell_type": "code",
   "execution_count": 73,
   "id": "19bcfacd-d95e-4530-9157-d004e76e1403",
   "metadata": {},
   "outputs": [],
   "source": [
    "from tensorflow.keras.preprocessing.sequence import pad_sequences"
   ]
  },
  {
   "cell_type": "code",
   "execution_count": 74,
   "id": "661fd81f-3b61-4fbe-a832-ed84e43350e4",
   "metadata": {},
   "outputs": [],
   "source": [
    "# Training set texts: used for model training\n",
    "train_texts = dataset[\"train\"][\"text\"]\n",
    "# Test set texts: used for evaluating model performance\n",
    "test_texts = dataset[\"test\"][\"text\"]"
   ]
  },
  {
   "cell_type": "code",
   "execution_count": 75,
   "id": "085cd405-ccc6-4e82-a154-7d9442e8f2ae",
   "metadata": {},
   "outputs": [],
   "source": [
    "# Create a tokenizer with a vocabulary size limit of 10,000 words and specify \"<OOV>\" token for out-of-vocabulary words\n",
    "tokenizer = Tokenizer(num_words=10000, oov_token=\"<OOV>\")\n",
    "tokenizer.fit_on_texts(train_texts)"
   ]
  },
  {
   "cell_type": "code",
   "execution_count": 76,
   "id": "71f1f741-8516-4260-a0d2-ef123912914d",
   "metadata": {},
   "outputs": [],
   "source": [
    "# Convert text data into sequences of integers based on the tokenizer's word index\n",
    "train_sequences = tokenizer.texts_to_sequences(train_texts)"
   ]
  },
  {
   "cell_type": "code",
   "execution_count": 77,
   "id": "5fbb544c-538b-43fe-af9d-92079f80f135",
   "metadata": {},
   "outputs": [],
   "source": [
    "test_sequences = tokenizer.texts_to_sequences(test_texts)"
   ]
  },
  {
   "cell_type": "code",
   "execution_count": 78,
   "id": "f6603543-6385-422d-93b8-cd643b98cb1d",
   "metadata": {},
   "outputs": [],
   "source": [
    "# Pad sequences to a maximum length of 200\n",
    "max_length = 200"
   ]
  },
  {
   "cell_type": "code",
   "execution_count": 79,
   "id": "bf24975f-f995-4008-b7b2-355910c18311",
   "metadata": {},
   "outputs": [],
   "source": [
    "# If a sequence is shorter than 200, pad with 0s at the end (post-padding)\n",
    "train_padded = pad_sequences(train_sequences, maxlen=max_length, padding='post', truncating='post')"
   ]
  },
  {
   "cell_type": "code",
   "execution_count": 81,
   "id": "3ba5f09a-4607-44a6-9402-174efa9bcbed",
   "metadata": {},
   "outputs": [],
   "source": [
    "test_padded = pad_sequences(test_sequences, maxlen=max_length, padding='post', truncating='post')"
   ]
  },
  {
   "cell_type": "code",
   "execution_count": 83,
   "id": "18ed1864-a2f0-4796-ba53-eae019fc2059",
   "metadata": {},
   "outputs": [],
   "source": [
    "#get ready to put labels"
   ]
  },
  {
   "cell_type": "code",
   "execution_count": 84,
   "id": "4efd374b-33ca-45c9-88be-678c765539cb",
   "metadata": {},
   "outputs": [],
   "source": [
    "import numpy as np"
   ]
  },
  {
   "cell_type": "code",
   "execution_count": 85,
   "id": "166510ad-ee4b-41cf-94f0-b80f1737eebe",
   "metadata": {},
   "outputs": [],
   "source": [
    "# Convert labels (0 = negative, 1 = positive) into NumPy arrays for training and testing"
   ]
  },
  {
   "cell_type": "code",
   "execution_count": 86,
   "id": "5ec82640-807b-48df-95a0-bc7110e58002",
   "metadata": {},
   "outputs": [],
   "source": [
    "train_labels = np.array(dataset[\"train\"][\"label\"])\n",
    "test_labels = np.array(dataset[\"test\"][\"label\"])"
   ]
  },
  {
   "cell_type": "code",
   "execution_count": 87,
   "id": "5b663c6b-b78f-4867-851c-0a8312da24de",
   "metadata": {},
   "outputs": [],
   "source": [
    "#model : Functional API"
   ]
  },
  {
   "cell_type": "code",
   "execution_count": 91,
   "id": "d3d0a6d4-ea29-4521-b9a0-907f09ecef70",
   "metadata": {},
   "outputs": [],
   "source": [
    "from tensorflow.keras.models import Model\n",
    "from tensorflow.keras.layers import Input, Embedding, LSTM, Dense, Dropout"
   ]
  },
  {
   "cell_type": "code",
   "execution_count": 89,
   "id": "2c4f5ba2-e904-4a94-a8b3-c72ec0192be4",
   "metadata": {},
   "outputs": [],
   "source": [
    "vocab_size = 10000  # Should match the num_words used in the tokenizer"
   ]
  },
  {
   "cell_type": "code",
   "execution_count": 90,
   "id": "1c19aace-38a9-4c8d-9fb9-53bf9a8b7e72",
   "metadata": {},
   "outputs": [],
   "source": [
    "embedding_dim = 64       # Size of the embedding vectors\n",
    "max_length = 200         # Maximum length of input sequences"
   ]
  },
  {
   "cell_type": "code",
   "execution_count": 92,
   "id": "097ffcbb-58d9-4724-a3ad-5e54b612b051",
   "metadata": {},
   "outputs": [],
   "source": [
    "# Define input layer with fixed shape\n",
    "input_layer = Input(shape=(max_length,), name='Input')"
   ]
  },
  {
   "cell_type": "code",
   "execution_count": 94,
   "id": "8b3b98e9-3047-4465-9540-f33f45835d76",
   "metadata": {},
   "outputs": [
    {
     "name": "stderr",
     "output_type": "stream",
     "text": [
      "/Users/jessicahong/.pyenv/versions/3.11.11/lib/python3.11/site-packages/keras/src/layers/core/embedding.py:90: UserWarning: Argument `input_length` is deprecated. Just remove it.\n",
      "  warnings.warn(\n"
     ]
    }
   ],
   "source": [
    "# Embedding layer: turns integers into dense vectors\n",
    "embedding_layer = Embedding(input_dim=vocab_size, output_dim=embedding_dim, input_length=max_length, name='Embedding')(input_layer)"
   ]
  },
  {
   "cell_type": "code",
   "execution_count": 95,
   "id": "05d0ca09-ede5-4230-85f8-53abb497c8ee",
   "metadata": {},
   "outputs": [],
   "source": [
    "# LSTM layer: learns sequential patterns\n",
    "lstm_layer = LSTM(64, name='LSTM')(embedding_layer)"
   ]
  },
  {
   "cell_type": "code",
   "execution_count": 96,
   "id": "155a0a9f-1a41-4d17-b52f-36ff4af3e092",
   "metadata": {},
   "outputs": [],
   "source": [
    "# Dropout layer: helps prevent overfitting\n",
    "dropout_layer = Dropout(0.5, name='Dropout')(lstm_layer)"
   ]
  },
  {
   "cell_type": "code",
   "execution_count": 97,
   "id": "33f7951e-2fca-44d4-acff-b9150d697698",
   "metadata": {},
   "outputs": [],
   "source": [
    "# Output layer: binary classification\n",
    "output_layer = Dense(1, activation='sigmoid', name='Output')(dropout_layer)"
   ]
  },
  {
   "cell_type": "code",
   "execution_count": 98,
   "id": "fb6d8263-8f01-427d-8c75-2f0f108b11d9",
   "metadata": {},
   "outputs": [],
   "source": [
    "# Create the model\n",
    "model = Model(inputs=input_layer, outputs=output_layer, name='IMDB_Classifier_Model')\n"
   ]
  },
  {
   "cell_type": "code",
   "execution_count": 99,
   "id": "744e0bc5-c904-4cd9-9fa5-b4a2d5045e5e",
   "metadata": {},
   "outputs": [
    {
     "data": {
      "text/html": [
       "<pre style=\"white-space:pre;overflow-x:auto;line-height:normal;font-family:Menlo,'DejaVu Sans Mono',consolas,'Courier New',monospace\"><span style=\"font-weight: bold\">Model: \"IMDB_Classifier_Model\"</span>\n",
       "</pre>\n"
      ],
      "text/plain": [
       "\u001b[1mModel: \"IMDB_Classifier_Model\"\u001b[0m\n"
      ]
     },
     "metadata": {},
     "output_type": "display_data"
    },
    {
     "data": {
      "text/html": [
       "<pre style=\"white-space:pre;overflow-x:auto;line-height:normal;font-family:Menlo,'DejaVu Sans Mono',consolas,'Courier New',monospace\">┏━━━━━━━━━━━━━━━━━━━━━━━━━━━━━━━━━┳━━━━━━━━━━━━━━━━━━━━━━━━┳━━━━━━━━━━━━━━━┓\n",
       "┃<span style=\"font-weight: bold\"> Layer (type)                    </span>┃<span style=\"font-weight: bold\"> Output Shape           </span>┃<span style=\"font-weight: bold\">       Param # </span>┃\n",
       "┡━━━━━━━━━━━━━━━━━━━━━━━━━━━━━━━━━╇━━━━━━━━━━━━━━━━━━━━━━━━╇━━━━━━━━━━━━━━━┩\n",
       "│ Input (<span style=\"color: #0087ff; text-decoration-color: #0087ff\">InputLayer</span>)              │ (<span style=\"color: #00d7ff; text-decoration-color: #00d7ff\">None</span>, <span style=\"color: #00af00; text-decoration-color: #00af00\">200</span>)            │             <span style=\"color: #00af00; text-decoration-color: #00af00\">0</span> │\n",
       "├─────────────────────────────────┼────────────────────────┼───────────────┤\n",
       "│ Embedding (<span style=\"color: #0087ff; text-decoration-color: #0087ff\">Embedding</span>)           │ (<span style=\"color: #00d7ff; text-decoration-color: #00d7ff\">None</span>, <span style=\"color: #00af00; text-decoration-color: #00af00\">200</span>, <span style=\"color: #00af00; text-decoration-color: #00af00\">64</span>)        │       <span style=\"color: #00af00; text-decoration-color: #00af00\">640,000</span> │\n",
       "├─────────────────────────────────┼────────────────────────┼───────────────┤\n",
       "│ LSTM (<span style=\"color: #0087ff; text-decoration-color: #0087ff\">LSTM</span>)                     │ (<span style=\"color: #00d7ff; text-decoration-color: #00d7ff\">None</span>, <span style=\"color: #00af00; text-decoration-color: #00af00\">64</span>)             │        <span style=\"color: #00af00; text-decoration-color: #00af00\">33,024</span> │\n",
       "├─────────────────────────────────┼────────────────────────┼───────────────┤\n",
       "│ Dropout (<span style=\"color: #0087ff; text-decoration-color: #0087ff\">Dropout</span>)               │ (<span style=\"color: #00d7ff; text-decoration-color: #00d7ff\">None</span>, <span style=\"color: #00af00; text-decoration-color: #00af00\">64</span>)             │             <span style=\"color: #00af00; text-decoration-color: #00af00\">0</span> │\n",
       "├─────────────────────────────────┼────────────────────────┼───────────────┤\n",
       "│ Output (<span style=\"color: #0087ff; text-decoration-color: #0087ff\">Dense</span>)                  │ (<span style=\"color: #00d7ff; text-decoration-color: #00d7ff\">None</span>, <span style=\"color: #00af00; text-decoration-color: #00af00\">1</span>)              │            <span style=\"color: #00af00; text-decoration-color: #00af00\">65</span> │\n",
       "└─────────────────────────────────┴────────────────────────┴───────────────┘\n",
       "</pre>\n"
      ],
      "text/plain": [
       "┏━━━━━━━━━━━━━━━━━━━━━━━━━━━━━━━━━┳━━━━━━━━━━━━━━━━━━━━━━━━┳━━━━━━━━━━━━━━━┓\n",
       "┃\u001b[1m \u001b[0m\u001b[1mLayer (type)                   \u001b[0m\u001b[1m \u001b[0m┃\u001b[1m \u001b[0m\u001b[1mOutput Shape          \u001b[0m\u001b[1m \u001b[0m┃\u001b[1m \u001b[0m\u001b[1m      Param #\u001b[0m\u001b[1m \u001b[0m┃\n",
       "┡━━━━━━━━━━━━━━━━━━━━━━━━━━━━━━━━━╇━━━━━━━━━━━━━━━━━━━━━━━━╇━━━━━━━━━━━━━━━┩\n",
       "│ Input (\u001b[38;5;33mInputLayer\u001b[0m)              │ (\u001b[38;5;45mNone\u001b[0m, \u001b[38;5;34m200\u001b[0m)            │             \u001b[38;5;34m0\u001b[0m │\n",
       "├─────────────────────────────────┼────────────────────────┼───────────────┤\n",
       "│ Embedding (\u001b[38;5;33mEmbedding\u001b[0m)           │ (\u001b[38;5;45mNone\u001b[0m, \u001b[38;5;34m200\u001b[0m, \u001b[38;5;34m64\u001b[0m)        │       \u001b[38;5;34m640,000\u001b[0m │\n",
       "├─────────────────────────────────┼────────────────────────┼───────────────┤\n",
       "│ LSTM (\u001b[38;5;33mLSTM\u001b[0m)                     │ (\u001b[38;5;45mNone\u001b[0m, \u001b[38;5;34m64\u001b[0m)             │        \u001b[38;5;34m33,024\u001b[0m │\n",
       "├─────────────────────────────────┼────────────────────────┼───────────────┤\n",
       "│ Dropout (\u001b[38;5;33mDropout\u001b[0m)               │ (\u001b[38;5;45mNone\u001b[0m, \u001b[38;5;34m64\u001b[0m)             │             \u001b[38;5;34m0\u001b[0m │\n",
       "├─────────────────────────────────┼────────────────────────┼───────────────┤\n",
       "│ Output (\u001b[38;5;33mDense\u001b[0m)                  │ (\u001b[38;5;45mNone\u001b[0m, \u001b[38;5;34m1\u001b[0m)              │            \u001b[38;5;34m65\u001b[0m │\n",
       "└─────────────────────────────────┴────────────────────────┴───────────────┘\n"
      ]
     },
     "metadata": {},
     "output_type": "display_data"
    },
    {
     "data": {
      "text/html": [
       "<pre style=\"white-space:pre;overflow-x:auto;line-height:normal;font-family:Menlo,'DejaVu Sans Mono',consolas,'Courier New',monospace\"><span style=\"font-weight: bold\"> Total params: </span><span style=\"color: #00af00; text-decoration-color: #00af00\">673,089</span> (2.57 MB)\n",
       "</pre>\n"
      ],
      "text/plain": [
       "\u001b[1m Total params: \u001b[0m\u001b[38;5;34m673,089\u001b[0m (2.57 MB)\n"
      ]
     },
     "metadata": {},
     "output_type": "display_data"
    },
    {
     "data": {
      "text/html": [
       "<pre style=\"white-space:pre;overflow-x:auto;line-height:normal;font-family:Menlo,'DejaVu Sans Mono',consolas,'Courier New',monospace\"><span style=\"font-weight: bold\"> Trainable params: </span><span style=\"color: #00af00; text-decoration-color: #00af00\">673,089</span> (2.57 MB)\n",
       "</pre>\n"
      ],
      "text/plain": [
       "\u001b[1m Trainable params: \u001b[0m\u001b[38;5;34m673,089\u001b[0m (2.57 MB)\n"
      ]
     },
     "metadata": {},
     "output_type": "display_data"
    },
    {
     "data": {
      "text/html": [
       "<pre style=\"white-space:pre;overflow-x:auto;line-height:normal;font-family:Menlo,'DejaVu Sans Mono',consolas,'Courier New',monospace\"><span style=\"font-weight: bold\"> Non-trainable params: </span><span style=\"color: #00af00; text-decoration-color: #00af00\">0</span> (0.00 B)\n",
       "</pre>\n"
      ],
      "text/plain": [
       "\u001b[1m Non-trainable params: \u001b[0m\u001b[38;5;34m0\u001b[0m (0.00 B)\n"
      ]
     },
     "metadata": {},
     "output_type": "display_data"
    }
   ],
   "source": [
    "# Compile the model\n",
    "model.compile(loss='binary_crossentropy', optimizer='adam', metrics=['accuracy'])\n",
    "\n",
    "# Display the model summary\n",
    "model.summary()"
   ]
  },
  {
   "cell_type": "code",
   "execution_count": 100,
   "id": "a3a2a575-de61-4ae7-9f4e-22de81aa89c5",
   "metadata": {},
   "outputs": [],
   "source": [
    "#Training the Model"
   ]
  },
  {
   "cell_type": "code",
   "execution_count": 101,
   "id": "1f16c406-10b1-4fa1-915a-d6444823126a",
   "metadata": {},
   "outputs": [
    {
     "name": "stdout",
     "output_type": "stream",
     "text": [
      "Epoch 1/5\n",
      "\u001b[1m157/157\u001b[0m \u001b[32m━━━━━━━━━━━━━━━━━━━━\u001b[0m\u001b[37m\u001b[0m \u001b[1m20s\u001b[0m 124ms/step - accuracy: 0.6257 - loss: 0.6676 - val_accuracy: 0.0010 - val_loss: 0.9789\n",
      "Epoch 2/5\n",
      "\u001b[1m157/157\u001b[0m \u001b[32m━━━━━━━━━━━━━━━━━━━━\u001b[0m\u001b[37m\u001b[0m \u001b[1m20s\u001b[0m 127ms/step - accuracy: 0.6396 - loss: 0.6418 - val_accuracy: 0.0598 - val_loss: 0.9972\n",
      "Epoch 3/5\n",
      "\u001b[1m157/157\u001b[0m \u001b[32m━━━━━━━━━━━━━━━━━━━━\u001b[0m\u001b[37m\u001b[0m \u001b[1m20s\u001b[0m 128ms/step - accuracy: 0.6593 - loss: 0.6114 - val_accuracy: 0.0792 - val_loss: 1.0086\n",
      "Epoch 4/5\n",
      "\u001b[1m157/157\u001b[0m \u001b[32m━━━━━━━━━━━━━━━━━━━━\u001b[0m\u001b[37m\u001b[0m \u001b[1m20s\u001b[0m 129ms/step - accuracy: 0.6776 - loss: 0.5855 - val_accuracy: 0.2262 - val_loss: 0.8992\n",
      "Epoch 5/5\n",
      "\u001b[1m157/157\u001b[0m \u001b[32m━━━━━━━━━━━━━━━━━━━━\u001b[0m\u001b[37m\u001b[0m \u001b[1m20s\u001b[0m 126ms/step - accuracy: 0.7229 - loss: 0.5336 - val_accuracy: 0.6282 - val_loss: 0.5759\n"
     ]
    }
   ],
   "source": [
    "#Train the model on padded sequences and labels\n",
    "history = model.fit(\n",
    "    train_padded,          # Input data\n",
    "    train_labels,          # Corresponding labels\n",
    "    epochs=5,              # Number of training epochs\n",
    "    batch_size=128,        # Number of samples per gradient update\n",
    "    validation_split=0.2,  # Use 20% of training data for validation\n",
    "    verbose=1              # Show training progress\n",
    ")\n"
   ]
  },
  {
   "cell_type": "code",
   "execution_count": 102,
   "id": "1ae2261f-7d1b-4d01-998d-a431300c142a",
   "metadata": {},
   "outputs": [],
   "source": [
    "# Train the model using the training data\n",
    "# - train_padded: input sequences\n",
    "# - train_labels: binary sentiment labels (0 or 1)\n",
    "# - validation_split: reserve part of training data for validation\n",
    "# - batch_size: number of samples used per training step\n",
    "# - epochs: number of passes through the full dataset"
   ]
  },
  {
   "cell_type": "code",
   "execution_count": 103,
   "id": "25a594e3-84a7-41de-be26-15509d5665ea",
   "metadata": {},
   "outputs": [],
   "source": [
    "#Model Evaluation"
   ]
  },
  {
   "cell_type": "code",
   "execution_count": 104,
   "id": "9e7abd60-717f-4e1c-97d6-407f9aba808f",
   "metadata": {},
   "outputs": [],
   "source": [
    "#loss + accuracy"
   ]
  },
  {
   "cell_type": "code",
   "execution_count": 106,
   "id": "afeb650c-97cc-4da4-b11f-190daad754b4",
   "metadata": {},
   "outputs": [
    {
     "name": "stdout",
     "output_type": "stream",
     "text": [
      "Test Loss: 0.5530\n",
      "Test Accuracy: 0.7455\n"
     ]
    }
   ],
   "source": [
    "loss, accuracy = model.evaluate(test_padded, test_labels, verbose=0)\n",
    "print(f\"Test Loss: {loss:.4f}\")\n",
    "print(f\"Test Accuracy: {accuracy:.4f}\")"
   ]
  },
  {
   "cell_type": "code",
   "execution_count": 108,
   "id": "b6634fc2-772c-43c5-9348-3ba5b6c9cf46",
   "metadata": {},
   "outputs": [],
   "source": [
    "#predicted values"
   ]
  },
  {
   "cell_type": "code",
   "execution_count": 110,
   "id": "a219a62d-db17-41cf-b785-586e4fd20195",
   "metadata": {},
   "outputs": [],
   "source": [
    "# Predict probabilities for test data\n",
    "y_probs = model.predict(test_padded, verbose=0)\n",
    "\n",
    "# Convert probabilities to binary labels (threshold = 0.5)\n",
    "# - If probability > 0.5, assign class 1 (positive)\n",
    "# - Otherwise, assign class 0 (negative)\n",
    "# - Flatten the array to 1D for compatibility with evaluation metrics\n",
    "y_preds = (y_probs > 0.5).astype(\"int32\").flatten()"
   ]
  },
  {
   "cell_type": "code",
   "execution_count": 111,
   "id": "ec4dbb46-1165-4135-8dd1-b7d739151d60",
   "metadata": {},
   "outputs": [],
   "source": [
    "#(Precision, Recall, F1, Accuracy"
   ]
  },
  {
   "cell_type": "code",
   "execution_count": 113,
   "id": "cbd54bd5-31c1-4c9f-b56b-d521855a89ee",
   "metadata": {},
   "outputs": [
    {
     "name": "stdout",
     "output_type": "stream",
     "text": [
      "Detailed Classification Metrics:\n",
      "Accuracy : 0.7455\n",
      "Precision: 0.8129\n",
      "Recall   : 0.6378\n",
      "F1 Score : 0.7148\n"
     ]
    }
   ],
   "source": [
    "from sklearn.metrics import accuracy_score, precision_score, recall_score, f1_score\n",
    "\n",
    "print(\"Detailed Classification Metrics:\")\n",
    "print(f\"Accuracy : {accuracy_score(test_labels, y_preds):.4f}\")\n",
    "print(f\"Precision: {precision_score(test_labels, y_preds):.4f}\")\n",
    "print(f\"Recall   : {recall_score(test_labels, y_preds):.4f}\")\n",
    "print(f\"F1 Score : {f1_score(test_labels, y_preds):.4f}\")"
   ]
  },
  {
   "cell_type": "code",
   "execution_count": 114,
   "id": "f77f2e88-aac7-4973-8d51-21bbe0e9adf7",
   "metadata": {},
   "outputs": [],
   "source": [
    "#Confusion Matrix "
   ]
  },
  {
   "cell_type": "code",
   "execution_count": 115,
   "id": "c149ad03-1c3e-4f4a-851c-e64e7f0e1367",
   "metadata": {},
   "outputs": [
    {
     "data": {
      "image/png": "[encoded data removed]",
      "text/plain": [
       "<Figure size 500x400 with 2 Axes>"
      ]
     },
     "metadata": {},
     "output_type": "display_data"
    }
   ],
   "source": [
    "from sklearn.metrics import confusion_matrix\n",
    "import seaborn as sns\n",
    "import matplotlib.pyplot as plt\n",
    "\n",
    "cm = confusion_matrix(test_labels, y_preds)\n",
    "\n",
    "plt.figure(figsize=(5,4))\n",
    "sns.heatmap(cm, annot=True, fmt='d', cmap='Blues')\n",
    "plt.xlabel(\"Predicted Label\")\n",
    "plt.ylabel(\"True Label\")\n",
    "plt.title(\"Confusion Matrix\")\n",
    "plt.show()"
   ]
  },
  {
   "cell_type": "code",
   "execution_count": 117,
   "id": "afb7c1af-5701-4eeb-b88e-42ca87a747dd",
   "metadata": {},
   "outputs": [],
   "source": [
    "#ROC Curve(Receiver Operating Characteristic Curve) + AUC Score(Area Under the Curve)"
   ]
  },
  {
   "cell_type": "code",
   "execution_count": 118,
   "id": "ba77ff02-c34e-41ad-9e50-25e4b51a8e13",
   "metadata": {},
   "outputs": [
    {
     "data": {
      "image/png": "[encoded data removed]",
      "text/plain": [
       "<Figure size 600x500 with 1 Axes>"
      ]
     },
     "metadata": {},
     "output_type": "display_data"
    }
   ],
   "source": [
    "from sklearn.metrics import roc_curve, auc\n",
    "\n",
    "fpr, tpr, thresholds = roc_curve(test_labels, y_probs)\n",
    "roc_auc = auc(fpr, tpr)\n",
    "\n",
    "plt.figure(figsize=(6, 5))\n",
    "plt.plot(fpr, tpr, label=f\"ROC Curve (AUC = {roc_auc:.4f})\")\n",
    "plt.plot([0, 1], [0, 1], linestyle=\"--\", color=\"gray\")\n",
    "plt.xlabel(\"False Positive Rate\")\n",
    "plt.ylabel(\"True Positive Rate\")\n",
    "plt.title(\"Receiver Operating Characteristic (ROC) Curve\")\n",
    "plt.legend()\n",
    "plt.grid(True)\n",
    "plt.show()"
   ]
  },
  {
   "cell_type": "code",
   "execution_count": 119,
   "id": "bb8aa07a-8905-428b-a222-dca17a1f68fa",
   "metadata": {},
   "outputs": [],
   "source": [
    "#Precision-Recall Curve"
   ]
  },
  {
   "cell_type": "code",
   "execution_count": 121,
   "id": "bfde2ae9-47a2-4b34-b6ce-2a383cc5b0a4",
   "metadata": {},
   "outputs": [
    {
     "data": {
      "image/png": "[encoded data removed]",
      "text/plain": [
       "<Figure size 600x500 with 1 Axes>"
      ]
     },
     "metadata": {},
     "output_type": "display_data"
    }
   ],
   "source": [
    "from sklearn.metrics import precision_recall_curve, average_precision_score\n",
    "import matplotlib.pyplot as plt\n",
    "\n",
    "# Calculate precision-recall pairs for different probability thresholds\n",
    "# precision: array of precision values at each threshold\n",
    "# recall: array of recall values at each threshold\n",
    "# thresholds: array of threshold values used to compute precision and recall\n",
    "precision, recall, thresholds = precision_recall_curve(test_labels, y_probs)\n",
    "\n",
    "# Compute the average precision (AP) score, which summarizes the precision-recall curve as a single number\n",
    "# AP is a weighted mean of precisions achieved at each threshold, with increase in recall from previous threshold used as weight\n",
    "avg_precision = average_precision_score(test_labels, y_probs)\n",
    "\n",
    "# Set up the plot size (width=6 inches, height=5 inches)\n",
    "plt.figure(figsize=(6,5))\n",
    "\n",
    "# Plot Recall (x-axis) against Precision (y-axis)\n",
    "# Label includes the average precision value formatted to 4 decimal places\n",
    "plt.plot(recall, precision, label=f'Precision-Recall curve (AP={avg_precision:.4f})')\n",
    "\n",
    "# Label x-axis as 'Recall'\n",
    "plt.xlabel('Recall')\n",
    "\n",
    "# Label y-axis as 'Precision'\n",
    "plt.ylabel('Precision')\n",
    "\n",
    "# Title for the plot\n",
    "plt.title('Precision-Recall Curve')\n",
    "\n",
    "# Show legend on the plot (to display AP in the label)\n",
    "plt.legend()\n",
    "\n",
    "# Add a grid for easier reading of the plot\n",
    "plt.grid(True)\n",
    "\n",
    "# Display the plot\n",
    "plt.show()\n"
   ]
  },
  {
   "cell_type": "code",
   "execution_count": 123,
   "id": "9fc794cf-af6d-4d6e-882a-7e15d5b5aa1c",
   "metadata": {},
   "outputs": [],
   "source": [
    "#Calibration Curve (Model Probability Calibration Evaluation)\n",
    "#Evaluates how well the predicted probabilities from the model match the true likelihood of the event."
   ]
  },
  {
   "cell_type": "code",
   "execution_count": 125,
   "id": "d680a137-c1df-48b9-a43a-f39ef439098e",
   "metadata": {},
   "outputs": [
    {
     "data": {
      "image/png": "[encoded data removed]",
      "text/plain": [
       "<Figure size 600x500 with 1 Axes>"
      ]
     },
     "metadata": {},
     "output_type": "display_data"
    }
   ],
   "source": [
    "from sklearn.calibration import calibration_curve\n",
    "import matplotlib.pyplot as plt\n",
    "\n",
    "# Compute calibration curve (also known as reliability curve)\n",
    "# prob_true: fraction of positives in each bin (true event rate)\n",
    "# prob_pred: mean predicted probability in each bin\n",
    "# n_bins=10 divides the data into 10 equally spaced probability bins\n",
    "prob_true, prob_pred = calibration_curve(test_labels, y_probs, n_bins=10)\n",
    "\n",
    "# Create a new figure with specified size (width=6 inches, height=5 inches)\n",
    "plt.figure(figsize=(6,5))\n",
    "\n",
    "# Plot the calibration curve:\n",
    "# x-axis: mean predicted probability in each bin\n",
    "# y-axis: actual fraction of positive samples in each bin\n",
    "# marker='o' plots circular markers at each bin point\n",
    "plt.plot(prob_pred, prob_true, marker='o', label='Calibration curve')\n",
    "\n",
    "# Plot the reference line for a perfectly calibrated model:\n",
    "# This is a diagonal line where predicted probability equals observed frequency\n",
    "plt.plot([0,1], [0,1], linestyle='--', label='Perfectly calibrated')\n",
    "\n",
    "# Label the x-axis as 'Mean predicted probability'\n",
    "plt.xlabel('Mean predicted probability')\n",
    "\n",
    "# Label the y-axis as 'Fraction of positives' (true event rate)\n",
    "plt.ylabel('Fraction of positives')\n",
    "\n",
    "# Title of the plot\n",
    "plt.title('Calibration Curve')\n",
    "\n",
    "# Display the legend to distinguish plotted lines\n",
    "plt.legend()\n",
    "\n",
    "# Add a grid for easier visualization and interpretation\n",
    "plt.grid(True)\n",
    "\n",
    "# Render the plot to the screen\n",
    "plt.show()\n"
   ]
  },
  {
   "cell_type": "code",
   "execution_count": null,
   "id": "6d175c9a-13de-4225-adaf-24adbf280a90",
   "metadata": {},
   "outputs": [],
   "source": []
  }
 ],
 "metadata": {
  "kernelspec": {
   "display_name": "Python 3 (ipykernel)",
   "language": "python",
   "name": "python3"
  },
  "language_info": {
   "codemirror_mode": {
    "name": "ipython",
    "version": 3
   },
   "file_extension": ".py",
   "mimetype": "text/x-python",
   "name": "python",
   "nbconvert_exporter": "python",
   "pygments_lexer": "ipython3",
   "version": "3.11.11"
  }
 },
 "nbformat": 4,
 "nbformat_minor": 5
}
