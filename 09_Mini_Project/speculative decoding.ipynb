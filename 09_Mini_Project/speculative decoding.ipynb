{
 "cells": [
  {
   "cell_type": "code",
   "execution_count": 37,
   "id": "d7840898-1f20-4da8-986e-6f8ce17a7357",
   "metadata": {},
   "outputs": [],
   "source": [
    "# === Unigram drafter + Bigram verifier + Prefix-Accept \n",
    "import random\n",
    "from collections import Counter\n",
    "import matplotlib.pyplot as plt"
   ]
  },
  {
   "cell_type": "code",
   "execution_count": 39,
   "id": "73b210b6-c218-420f-b400-86e8f6bd515b",
   "metadata": {},
   "outputs": [],
   "source": [
    "random.seed(42)"
   ]
  },
  {
   "cell_type": "code",
   "execution_count": 40,
   "id": "c83047b4-740d-4144-a89c-465bd0ed8060",
   "metadata": {},
   "outputs": [
    {
     "name": "stdout",
     "output_type": "stream",
     "text": [
      "tokens: ['the', 'wolf', 'ran', 'into', 'the', 'forest']\n"
     ]
    }
   ],
   "source": [
    "# 1) 코퍼스 & 토큰\n",
    "corpus = \"the wolf ran into the forest\"\n",
    "tokens = corpus.lower().split()\n",
    "print(\"tokens:\", tokens)"
   ]
  },
  {
   "cell_type": "code",
   "execution_count": 41,
   "id": "45ea70c4-9cf1-441a-b1f0-fbc8bc963bc1",
   "metadata": {},
   "outputs": [],
   "source": [
    "# 1) 유니그램(작은 모델: 초안 생성용)\n",
    "unigram_counts = Counter(tokens)\n",
    "unigram_vocab  = list(unigram_counts.keys())\n",
    "unigram_weights = [unigram_counts[w] for w in unigram_vocab]"
   ]
  },
  {
   "cell_type": "code",
   "execution_count": 42,
   "id": "b58e9f41-424f-4c47-a201-27c664165b10",
   "metadata": {},
   "outputs": [],
   "source": [
    "def draft_tokens_unigram(k=3):\n",
    "    # 자주 나온 단어일수록 뽑힐 확률 ↑\n",
    "    return random.choices(unigram_vocab, weights=unigram_weights, k=k)"
   ]
  },
  {
   "cell_type": "code",
   "execution_count": 43,
   "id": "22396f7f-f304-4ad9-83c8-ae332bbc79d8",
   "metadata": {},
   "outputs": [
    {
     "name": "stdout",
     "output_type": "stream",
     "text": [
      "['the', 'wolf', 'ran', 'into', 'the', 'forest']\n"
     ]
    }
   ],
   "source": [
    "print(tokens)"
   ]
  },
  {
   "cell_type": "code",
   "execution_count": 44,
   "id": "90869ec7-26cd-4494-bfc4-4ff59fc9eaeb",
   "metadata": {},
   "outputs": [
    {
     "name": "stdout",
     "output_type": "stream",
     "text": [
      "단어들: ['the', 'wolf', 'ran', 'into', 'forest']\n",
      "가중치: [2, 1, 1, 1, 1]\n",
      "샘플 draft: ['ran', 'the', 'the', 'the', 'into']\n"
     ]
    }
   ],
   "source": [
    "# 4) 확인 + 그래프\n",
    "print(\"단어들:\", unigram_vocab)\n",
    "print(\"가중치:\", unigram_weights)\n",
    "print(\"샘플 draft:\", draft_tokens_unigram(k=5))"
   ]
  },
  {
   "cell_type": "code",
   "execution_count": 45,
   "id": "b172d737-76e2-4f9b-aa4c-47a27d2db2a8",
   "metadata": {},
   "outputs": [
    {
     "data": {
      "image/png": "[encoded data removed]",
      "text/plain": [
       "<Figure size 640x480 with 1 Axes>"
      ]
     },
     "metadata": {},
     "output_type": "display_data"
    }
   ],
   "source": [
    "plt.bar(unigram_vocab, unigram_weights)\n",
    "plt.title(\"Word Frequencies in Corpus\")\n",
    "plt.xlabel(\"Words\"); plt.ylabel(\"Frequency\")\n",
    "plt.show()"
   ]
  },
  {
   "cell_type": "code",
   "execution_count": 32,
   "id": "c15f121d-abcc-4bb9-b095-eca8d36a4b43",
   "metadata": {},
   "outputs": [],
   "source": [
    "#바이그램(큰 모델용): 직전 단어 → 다음 단어 최빈값"
   ]
  },
  {
   "cell_type": "code",
   "execution_count": 33,
   "id": "633b19f6-af76-463b-aa13-f1e71382a713",
   "metadata": {},
   "outputs": [],
   "source": [
    "from collections import defaultdict, Counter"
   ]
  },
  {
   "cell_type": "code",
   "execution_count": 46,
   "id": "2d20be7b-a6e8-4ea4-9ae9-8d67b39a9098",
   "metadata": {},
   "outputs": [],
   "source": [
    "# 2) 바이그램(큰 모델: 검증용) — 네가 준 로직을 안전하게 보완(get 사용)\n",
    "#    #바이그램(큰 모델용): 직전 단어 → 다음 단어 최빈값\n",
    "bigram_next = defaultdict(Counter)\n",
    "for a, b in zip(tokens, tokens[1:]):\n",
    "    bigram_next[a][b] += 1"
   ]
  },
  {
   "cell_type": "code",
   "execution_count": 48,
   "id": "daa00e6a-deba-47b7-9423-add3b1053ce0",
   "metadata": {},
   "outputs": [
    {
     "name": "stdout",
     "output_type": "stream",
     "text": [
      "Bigram verify for 'ran' -> into\n"
     ]
    }
   ],
   "source": [
    "def verify_next_token(prev_word):\n",
    "    \"\"\"바이그램 최빈값, 없으면 유니그램 최빈값으로 백오프\"\"\"\n",
    "    dist = bigram_next.get(prev_word)    # get으로 안전 접근(없는 키 생성 방지)\n",
    "    if dist:\n",
    "        return dist.most_common(1)[0][0]\n",
    "    return unigram_counts.most_common(1)[0][0]\n",
    "\n",
    "print(\"Bigram verify for 'ran' ->\", verify_next_token(\"ran\"))  # 예상: 'into'"
   ]
  },
  {
   "cell_type": "code",
   "execution_count": 49,
   "id": "df995dd0-83e0-4ee8-af61-98a81a77e109",
   "metadata": {},
   "outputs": [],
   "source": [
    "# 3) Prefix-Accept: 맞는 구간까지만 빠르게 채택, 첫 불일치에서 멈춤\n",
    "def speculative_prefix_accept(prompt_tokens, k=5):\n",
    "    draft = draft_tokens_unigram(k)\n",
    "    accepted = []\n",
    "    prev = prompt_tokens[-1]  # 직전 단어(바이그램 조건)\n",
    "\n",
    "    for t in draft:\n",
    "        v = verify_next_token(prev)      # 큰 모델 검증\n",
    "        if t == v:                       # 일치 → 채택하고 컨텍스트 확장\n",
    "            accepted.append(t)\n",
    "            prev = t\n",
    "        else:                            # 불일치 → 검증 토큰으로 교체하고 종료\n",
    "            accepted.append(v)\n",
    "            break\n",
    "\n",
    "    final = prompt_tokens + accepted\n",
    "    return draft, accepted, final\n",
    "\n"
   ]
  },
  {
   "cell_type": "code",
   "execution_count": 52,
   "id": "7b56d173-27e7-4f34-a11c-97e77e981938",
   "metadata": {},
   "outputs": [],
   "source": [
    "# 4) 데모 실행\n",
    "prompt = [\"the\", \"wolf\", \"ran\"]  # 직전 단어 'ran'이라 'into'가 자연스럽게 이어짐\n",
    "draft, accepted, final = speculative_prefix_accept(prompt, k=5)"
   ]
  },
  {
   "cell_type": "code",
   "execution_count": 53,
   "id": "3d9a6fe1-0f05-463c-8d86-e68ed7a768ce",
   "metadata": {},
   "outputs": [
    {
     "name": "stdout",
     "output_type": "stream",
     "text": [
      "\n",
      "Prompt   : the wolf ran\n",
      "Draft    : ['the', 'ran', 'the', 'the', 'ran']\n",
      "Accepted : ['into']\n",
      "Final    : the wolf ran into\n"
     ]
    }
   ],
   "source": [
    "print(\"\\nPrompt   :\", \" \".join(prompt))\n",
    "print(\"Draft    :\", draft)\n",
    "print(\"Accepted :\", accepted)\n",
    "print(\"Final    :\", \" \".join(final))"
   ]
  },
  {
   "cell_type": "code",
   "execution_count": null,
   "id": "4fcf6944-f9e0-49b4-bce5-3de096a3b75e",
   "metadata": {},
   "outputs": [],
   "source": []
  }
 ],
 "metadata": {
  "kernelspec": {
   "display_name": "Python (nlp_env)",
   "language": "python",
   "name": "nlp_env"
  },
  "language_info": {
   "codemirror_mode": {
    "name": "ipython",
    "version": 3
   },
   "file_extension": ".py",
   "mimetype": "text/x-python",
   "name": "python",
   "nbconvert_exporter": "python",
   "pygments_lexer": "ipython3",
   "version": "3.10.12"
  }
 },
 "nbformat": 4,
 "nbformat_minor": 5
}
