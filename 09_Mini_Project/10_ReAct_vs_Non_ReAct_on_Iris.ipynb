{
 "cells": [
  {
   "cell_type": "code",
   "execution_count": 1,
   "id": "3687f0bc-62e9-4d6c-bbcd-209f8aa411bb",
   "metadata": {},
   "outputs": [
    {
     "name": "stdout",
     "output_type": "stream",
     "text": [
      "/Users/jessicahong/.pyenv/versions/3.10.12/envs/nlp_automl_env/bin/python\n",
      "Requirement already satisfied: pip in /Users/jessicahong/.pyenv/versions/3.10.12/envs/nlp_automl_env/lib/python3.10/site-packages (25.2)\n",
      "Requirement already satisfied: wikipedia in /Users/jessicahong/.pyenv/versions/3.10.12/envs/nlp_automl_env/lib/python3.10/site-packages (1.4.0)\n",
      "Requirement already satisfied: beautifulsoup4 in /Users/jessicahong/.pyenv/versions/3.10.12/envs/nlp_automl_env/lib/python3.10/site-packages (from wikipedia) (4.13.4)\n",
      "Requirement already satisfied: requests<3.0.0,>=2.0.0 in /Users/jessicahong/.pyenv/versions/3.10.12/envs/nlp_automl_env/lib/python3.10/site-packages (from wikipedia) (2.32.4)\n",
      "Requirement already satisfied: charset_normalizer<4,>=2 in /Users/jessicahong/.pyenv/versions/3.10.12/envs/nlp_automl_env/lib/python3.10/site-packages (from requests<3.0.0,>=2.0.0->wikipedia) (3.4.3)\n",
      "Requirement already satisfied: idna<4,>=2.5 in /Users/jessicahong/.pyenv/versions/3.10.12/envs/nlp_automl_env/lib/python3.10/site-packages (from requests<3.0.0,>=2.0.0->wikipedia) (3.10)\n",
      "Requirement already satisfied: urllib3<3,>=1.21.1 in /Users/jessicahong/.pyenv/versions/3.10.12/envs/nlp_automl_env/lib/python3.10/site-packages (from requests<3.0.0,>=2.0.0->wikipedia) (2.5.0)\n",
      "Requirement already satisfied: certifi>=2017.4.17 in /Users/jessicahong/.pyenv/versions/3.10.12/envs/nlp_automl_env/lib/python3.10/site-packages (from requests<3.0.0,>=2.0.0->wikipedia) (2025.8.3)\n",
      "Requirement already satisfied: soupsieve>1.2 in /Users/jessicahong/.pyenv/versions/3.10.12/envs/nlp_automl_env/lib/python3.10/site-packages (from beautifulsoup4->wikipedia) (2.7)\n",
      "Requirement already satisfied: typing-extensions>=4.0.0 in /Users/jessicahong/.pyenv/versions/3.10.12/envs/nlp_automl_env/lib/python3.10/site-packages (from beautifulsoup4->wikipedia) (4.14.1)\n"
     ]
    },
    {
     "data": {
      "text/plain": [
       "0"
      ]
     },
     "execution_count": 1,
     "metadata": {},
     "output_type": "execute_result"
    }
   ],
   "source": [
    "import sys, subprocess, shlex\n",
    "print(sys.executable)  # 확인용\n",
    "subprocess.check_call(shlex.split(f\"{sys.executable} -m pip install --upgrade pip wikipedia\"))"
   ]
  },
  {
   "cell_type": "code",
   "execution_count": 2,
   "id": "44550b6e-4ef2-42eb-8b7c-72a6295cf5c7",
   "metadata": {},
   "outputs": [],
   "source": [
    "import re\n",
    "import time\n",
    "import pandas as pd\n",
    "import numpy as np\n",
    "import wikipedia"
   ]
  },
  {
   "cell_type": "code",
   "execution_count": 3,
   "id": "b7983df2-a9ea-4752-a075-21e5261b9ae5",
   "metadata": {},
   "outputs": [],
   "source": [
    "df = pd.read_csv(\"../11_data/iris.csv\")"
   ]
  },
  {
   "cell_type": "code",
   "execution_count": 4,
   "id": "b5bc788a-7bc6-4824-8e0c-e8178c7f181c",
   "metadata": {},
   "outputs": [
    {
     "name": "stdout",
     "output_type": "stream",
     "text": [
      "   sepal_length  sepal_width  petal_length  petal_width species\n",
      "0           5.1          3.5           1.4          0.2  setosa\n",
      "1           4.9          3.0           1.4          0.2  setosa\n",
      "2           4.7          3.2           1.3          0.2  setosa\n",
      "3           4.6          3.1           1.5          0.2  setosa\n",
      "4           5.0          3.6           1.4          0.2  setosa\n"
     ]
    }
   ],
   "source": [
    "print(df.head())"
   ]
  },
  {
   "cell_type": "code",
   "execution_count": null,
   "id": "37507302-700b-4054-84eb-40aab03dc3bd",
   "metadata": {},
   "outputs": [],
   "source": [
    "#React func\n",
    "# Internal data queries are handled with pandas\n",
    "#External knowledge queries are handled with the Wikipedia API."
   ]
  },
  {
   "cell_type": "code",
   "execution_count": null,
   "id": "3bca7ced-c1f8-4167-a9d0-30c3a808e7fe",
   "metadata": {},
   "outputs": [],
   "source": [
    "User input (query) ─┐\n",
    "                    ├─> react_internal_avg_by_species(query, df)\n",
    "DataFrame (df) ─────┘\n",
    "                          │\n",
    "                          ▼\n",
    "                Dictionary (dict) returned\n",
    "                ┌─────────────────────────────┐\n",
    "                │ Thought: ...                 │\n",
    "                │ Action: ...                  │\n",
    "                │ Observation: pandas result   │\n",
    "                │ Answer: final response text  │\n",
    "                └─────────────────────────────┘\n",
    "                          │\n",
    "                          ▼\n",
    "                   Stored in res variable\n"
   ]
  },
  {
   "cell_type": "code",
   "execution_count": 89,
   "id": "40fa1d47-6321-476c-a2e0-c9cdf8c951d8",
   "metadata": {},
   "outputs": [
    {
     "data": {
      "text/plain": [
       "'\\n1) **Run data & tool cells**  \\n   Functions: `tool_mean_by_species`, `tool_wikipedia_summary`, `_infer_wiki_term`\\n\\n2) **Run handler cells**  \\n   Functions: `baseline_internal`, `baseline_external`, `react_internal_avg_by_species`, `react_external_explain_species`\\n\\n3) **Run evaluation utilities (4 cells)**  \\n   Functions: `eval_internal`, `eval_external`, `summarize` (and small helpers)\\n\\n4) **Run examples or `run_all()`**  \\n   Produces on-screen results and saves CSVs (`react_vs_baseline_detail.csv`, `react_vs_baseline_summary.csv`).\\n   '"
      ]
     },
     "execution_count": 89,
     "metadata": {},
     "output_type": "execute_result"
    }
   ],
   "source": [
    "# Execution Order (Always Follow These Steps)\n",
    "\"\"\"\n",
    "1) **Run data & tool cells**  \n",
    "   Functions: `tool_mean_by_species`, `tool_wikipedia_summary`, `_infer_wiki_term`\n",
    "\n",
    "2) **Run handler cells**  \n",
    "   Functions: `baseline_internal`, `baseline_external`, `react_internal_avg_by_species`, `react_external_explain_species`\n",
    "\n",
    "3) **Run evaluation utilities (4 cells)**  \n",
    "   Functions: `eval_internal`, `eval_external`, `summarize` (and small helpers)\n",
    "\n",
    "4) **Run examples or `run_all()`**  \n",
    "   Produces on-screen results and saves CSVs (`react_vs_baseline_detail.csv`, `react_vs_baseline_summary.csv`).\n",
    "   \"\"\""
   ]
  },
  {
   "cell_type": "code",
   "execution_count": 5,
   "id": "c3f1f0aa-06a3-4a53-84f4-5f1d638dd3b1",
   "metadata": {},
   "outputs": [],
   "source": [
    "#imports and helpers\n",
    "#error handling"
   ]
  },
  {
   "cell_type": "code",
   "execution_count": 25,
   "id": "8e33aae1-8aec-4850-8e3f-4c507e8a1a37",
   "metadata": {},
   "outputs": [],
   "source": [
    "from __future__ import annotations\n",
    "from typing import Optional\n",
    "import pandas as pd"
   ]
  },
  {
   "cell_type": "code",
   "execution_count": 26,
   "id": "e33e4a24-cf6c-4f0c-a01e-1aa32245e359",
   "metadata": {},
   "outputs": [],
   "source": [
    "def _check_inputs(df: pd.DataFrame, column: str) -> pd.DataFrame:\n",
    "    \"\"\"Validate df and required columns; raise informative errors.\"\"\"\n",
    "    if not isinstance(df, pd.DataFrame):\n",
    "        raise TypeError(\"`df` must be a pandas DataFrame.\")\n",
    "    if not isinstance(column, str) or not column:\n",
    "        raise TypeError(\"`column` must be a non-empty string.\")\n",
    "\n",
    "    # remove duplicates while preserving order\n",
    "    required = [\"species\", column]\n",
    "    seen = set()\n",
    "    required_unique = [c for c in required if not (c in seen or seen.add(c))]\n",
    "\n",
    "    missing = [c for c in required_unique if c not in df.columns]\n",
    "    if missing:\n",
    "        raise ValueError(f\"Missing column(s): {missing}\")\n",
    "    return df"
   ]
  },
  {
   "cell_type": "code",
   "execution_count": 27,
   "id": "e9a752f2-173c-4c3c-9b4e-edc8aee08d99",
   "metadata": {},
   "outputs": [
    {
     "name": "stdout",
     "output_type": "stream",
     "text": [
      "_check_inputs OK → True\n"
     ]
    }
   ],
   "source": [
    "df_ok = pd.DataFrame({\n",
    "    \"species\": [\"setosa\",\"versicolor\"],\n",
    "    \"petal_length\": [1.4, 4.7],\n",
    "})\n",
    "print(\"_check_inputs OK →\", _check_inputs(df_ok, \"petal_length\").equals(df_ok))\n"
   ]
  },
  {
   "cell_type": "code",
   "execution_count": 28,
   "id": "88ceb234-f530-444c-8f6c-762b66682ff8",
   "metadata": {},
   "outputs": [
    {
     "name": "stdout",
     "output_type": "stream",
     "text": [
      "no species → ValueError Missing column(s): ['species']\n"
     ]
    }
   ],
   "source": [
    "# 2) no species \n",
    "df_no_species = pd.DataFrame({\"petal_length\":[1.4,4.7]})\n",
    "try:\n",
    "    _check_inputs(df_no_species, \"petal_length\")\n",
    "except Exception as e:\n",
    "    print(\"no species →\", type(e).__name__, str(e))"
   ]
  },
  {
   "cell_type": "code",
   "execution_count": 29,
   "id": "fff88777-c4fa-48ab-8f17-12339bfe2904",
   "metadata": {},
   "outputs": [
    {
     "name": "stdout",
     "output_type": "stream",
     "text": [
      "no target column → ValueError Missing column(s): ['petal_length']\n"
     ]
    }
   ],
   "source": [
    "# 3) No target column \n",
    "df_no_col = pd.DataFrame({\"species\":[\"setosa\",\"versicolor\"]})\n",
    "try:\n",
    "    _check_inputs(df_no_col, \"petal_length\")\n",
    "except Exception as e:\n",
    "    print(\"no target column →\", type(e).__name__, str(e))\n"
   ]
  },
  {
   "cell_type": "code",
   "execution_count": 30,
   "id": "aaa5db37-5906-463a-86c4-04423883f4ad",
   "metadata": {},
   "outputs": [
    {
     "name": "stdout",
     "output_type": "stream",
     "text": [
      "empty column name → TypeError `column` must be a non-empty string.\n"
     ]
    }
   ],
   "source": [
    "# 4)empty string case\n",
    "try:\n",
    "    _check_inputs(df_ok, \"\")\n",
    "except Exception as e:\n",
    "    print(\"empty column name →\", type(e).__name__, str(e))"
   ]
  },
  {
   "cell_type": "code",
   "execution_count": 31,
   "id": "7ac180f4-c3fc-4bd5-88a3-f0ebcdf958d0",
   "metadata": {},
   "outputs": [
    {
     "name": "stdout",
     "output_type": "stream",
     "text": [
      "missing argument → TypeError _check_inputs() missing 1 required positional argument: 'column'\n"
     ]
    }
   ],
   "source": [
    "# 5)missing argument case\n",
    "try:\n",
    "    _check_inputs(df_ok) \n",
    "except Exception as e:\n",
    "    print(\"missing argument →\", type(e).__name__, str(e))\n",
    "# 기대: TypeError _check_inputs() missing 1 required positional argument: 'column'"
   ]
  },
  {
   "cell_type": "code",
   "execution_count": null,
   "id": "5658d448-7b83-438a-a926-a7efcc52bbb2",
   "metadata": {},
   "outputs": [],
   "source": []
  },
  {
   "cell_type": "code",
   "execution_count": 32,
   "id": "aec66984-ae39-4f28-ad1b-44168b38f235",
   "metadata": {},
   "outputs": [
    {
     "name": "stdout",
     "output_type": "stream",
     "text": [
      "column == 'species' → OK (no duplicate missing names)\n"
     ]
    }
   ],
   "source": [
    "# 6) column == 'species' check duplicates\n",
    "try:\n",
    "    _check_inputs(df_ok, \"species\")\n",
    "    print(\"column == 'species' → OK (no duplicate missing names)\")\n",
    "except Exception as e:\n",
    "    print(\"column == 'species' →\", type(e).__name__, str(e))"
   ]
  },
  {
   "cell_type": "code",
   "execution_count": 33,
   "id": "9ad1b8a3-0c4e-4969-b3eb-2557f3372e0c",
   "metadata": {},
   "outputs": [
    {
     "name": "stdout",
     "output_type": "stream",
     "text": [
      "✅ OK: (2, 2)\n",
      "     species  petal_length\n",
      "0     setosa           1.4\n",
      "1  virginica           5.5\n"
     ]
    }
   ],
   "source": [
    "df_ok = pd.DataFrame({\"species\":[\"setosa\",\"virginica\"], \"petal_length\":[1.4, 5.5]})\n",
    "res = _prepare_df(df_ok, \"petal_length\", dropna=True)\n",
    "print(\"✅ OK:\", res.shape)\n",
    "print(res)"
   ]
  },
  {
   "cell_type": "code",
   "execution_count": 34,
   "id": "8a57f38c-7473-4fed-8c85-672af9eaa24b",
   "metadata": {},
   "outputs": [],
   "source": [
    "import math"
   ]
  },
  {
   "cell_type": "code",
   "execution_count": 36,
   "id": "7f805e94-c4ea-41e2-8366-aca1d49ace9c",
   "metadata": {},
   "outputs": [],
   "source": [
    "def _prepare_df(df: pd.DataFrame, column: str, dropna: bool) -> pd.DataFrame:\n",
    "    \"\"\"Optionally drop NaNs and ensure the DataFrame is not empty afterwards.\"\"\"\n",
    "    work = df.dropna(subset=[\"species\", column]) if dropna else df\n",
    "    if work.empty:\n",
    "        raise ValueError(\"No rows to aggregate after filtering (empty DataFrame).\")\n",
    "    return work"
   ]
  },
  {
   "cell_type": "code",
   "execution_count": 37,
   "id": "c86efa87-eec2-4566-873e-322a6479334b",
   "metadata": {},
   "outputs": [
    {
     "name": "stdout",
     "output_type": "stream",
     "text": [
      "✅ Raised as expected: No rows to aggregate after filtering (empty DataFrame).\n"
     ]
    }
   ],
   "source": [
    "df_err = pd.DataFrame({\"species\":[None, None], \"petal_length\":[math.nan, math.nan]})\n",
    "try:\n",
    "    _prepare_df(df_err, \"petal_length\", dropna=True)\n",
    "    print(\"❌ Unexpected: no error\")\n",
    "except ValueError as e:\n",
    "    print(\"✅ Raised as expected:\", e)"
   ]
  },
  {
   "cell_type": "code",
   "execution_count": 40,
   "id": "d9d70921-c7ba-4d0f-a095-55215ff7e0a0",
   "metadata": {},
   "outputs": [
    {
     "data": {
      "text/plain": [
       "'\\n    Compute the mean of a numeric `column` grouped by the \\'species\\' column.\\n\\n    Parameters\\n    ----------\\n    df : pd.DataFrame\\n        DataFrame that must contain \\'species\\' and the target `column`.\\n    column : str\\n        Name of the numeric column to aggregate (e.g., \\'petal_length\\').\\n    dropna : bool, default True\\n        Drop rows where \\'species\\' or the target column is NaN before grouping.\\n    digits : int or None, default None\\n        If provided, round the resulting means to this number of decimals.\\n    sort : bool, default True\\n        Sort the resulting Series by index (species).\\n\\n    Returns\\n    -------\\n    pd.Series\\n        Series indexed by species with mean values.\\n        The Series name is set to f\"mean_{column}_by_species\".\\n'"
      ]
     },
     "execution_count": 40,
     "metadata": {},
     "output_type": "execute_result"
    }
   ],
   "source": [
    "#------Tool function\n",
    "\"\"\"\n",
    "    Compute the mean of a numeric `column` grouped by the 'species' column.\n",
    "\n",
    "    Parameters\n",
    "    ----------\n",
    "    df : pd.DataFrame\n",
    "        DataFrame that must contain 'species' and the target `column`.\n",
    "    column : str\n",
    "        Name of the numeric column to aggregate (e.g., 'petal_length').\n",
    "    dropna : bool, default True\n",
    "        Drop rows where 'species' or the target column is NaN before grouping.\n",
    "    digits : int or None, default None\n",
    "        If provided, round the resulting means to this number of decimals.\n",
    "    sort : bool, default True\n",
    "        Sort the resulting Series by index (species).\n",
    "\n",
    "    Returns\n",
    "    -------\n",
    "    pd.Series\n",
    "        Series indexed by species with mean values.\n",
    "        The Series name is set to f\"mean_{column}_by_species\".\n",
    "\"\"\""
   ]
  },
  {
   "cell_type": "code",
   "execution_count": 41,
   "id": "c23f994f-d77b-485a-8bca-2186f37375a4",
   "metadata": {},
   "outputs": [],
   "source": [
    "def tool_mean_by_species(\n",
    "    df: pd.DataFrame,\n",
    "    column: str,\n",
    "    *,\n",
    "    dropna: bool = True,\n",
    "    digits: Optional[int] = None,\n",
    "    sort: bool = True,\n",
    ") -> pd.Series:\n",
    "\n",
    "    # validate & prepare\n",
    "    work = _prepare_df(_check_inputs(df, column), column, dropna)\n",
    "\n",
    "    # aggregate\n",
    "    result = work.groupby(\"species\")[column].mean()\n",
    "\n",
    "    # post-process\n",
    "    if digits is not None:\n",
    "        result = result.round(digits)\n",
    "    if sort:\n",
    "        result = result.sort_index()\n",
    "\n",
    "    result.name = f\"mean_{column}_by_species\"\n",
    "    return result\n"
   ]
  },
  {
   "cell_type": "code",
   "execution_count": null,
   "id": "b8b947d4-92ae-4542-a801-7d6c8c81b001",
   "metadata": {},
   "outputs": [],
   "source": [
    "# Internaldata query"
   ]
  },
  {
   "cell_type": "code",
   "execution_count": 42,
   "id": "9bd80833-a71e-4aa6-b60a-ac95c109cfbc",
   "metadata": {},
   "outputs": [
    {
     "name": "stdout",
     "output_type": "stream",
     "text": [
      "=== Average petal length by species ===\n",
      "species\n",
      "setosa        1.462\n",
      "versicolor    4.260\n",
      "virginica     5.552\n",
      "Name: mean_petal_length_by_species, dtype: float64\n"
     ]
    }
   ],
   "source": [
    "result = tool_mean_by_species(df, \"petal_length\")\n",
    "print(\"=== Average petal length by species ===\")\n",
    "print(result)"
   ]
  },
  {
   "cell_type": "code",
   "execution_count": 43,
   "id": "71a8d941-4e48-4a71-902e-9d48c1852bf0",
   "metadata": {},
   "outputs": [],
   "source": [
    "#columns to test\n",
    "columns_to_test = [\"sepal_length\", \"sepal_width\", \"petal_length\", \"petal_width\"]"
   ]
  },
  {
   "cell_type": "code",
   "execution_count": 44,
   "id": "ab9f5ade-1c7b-4e80-a5cb-bf897490e606",
   "metadata": {},
   "outputs": [
    {
     "name": "stdout",
     "output_type": "stream",
     "text": [
      "\n",
      "Column: sepal_length\n",
      "species\n",
      "setosa        5.006\n",
      "versicolor    5.936\n",
      "virginica     6.588\n",
      "Name: mean_sepal_length_by_species, dtype: float64\n",
      "\n",
      "Column: sepal_width\n",
      "species\n",
      "setosa        3.428\n",
      "versicolor    2.770\n",
      "virginica     2.974\n",
      "Name: mean_sepal_width_by_species, dtype: float64\n",
      "\n",
      "Column: petal_length\n",
      "species\n",
      "setosa        1.462\n",
      "versicolor    4.260\n",
      "virginica     5.552\n",
      "Name: mean_petal_length_by_species, dtype: float64\n",
      "\n",
      "Column: petal_width\n",
      "species\n",
      "setosa        0.246\n",
      "versicolor    1.326\n",
      "virginica     2.026\n",
      "Name: mean_petal_width_by_species, dtype: float64\n"
     ]
    }
   ],
   "source": [
    "for col in columns_to_test:\n",
    "    result = tool_mean_by_species(df, col)\n",
    "    print(f\"\\nColumn: {col}\")\n",
    "    print(result)"
   ]
  },
  {
   "cell_type": "code",
   "execution_count": 45,
   "id": "5a30a669-4cac-4dfb-98fa-103de2ff16bd",
   "metadata": {},
   "outputs": [],
   "source": [
    "from typing import Any, Dict\n",
    "import re, time\n",
    "import pandas as pd"
   ]
  },
  {
   "cell_type": "code",
   "execution_count": 51,
   "id": "f4937f2a-2e51-4297-8c52-2efab323a682",
   "metadata": {},
   "outputs": [],
   "source": [
    "#helpers"
   ]
  },
  {
   "cell_type": "code",
   "execution_count": 52,
   "id": "c830dc9c-9d58-4139-9491-3602d7813192",
   "metadata": {},
   "outputs": [],
   "source": [
    "# Normalize user query: lowercase and collapse underscores/spaces into single spaces.\n",
    "def _normalize_query(q: str) -> str:\n",
    "    q = q.lower()\n",
    "    return re.sub(r\"[_\\s]+\", \" \", q).strip()\n",
    "\n",
    "# Check if query matches: average/avg/mean + (petal length | petal_length) + species\n",
    "def _matches_avg_petal_by_species(q: str) -> bool:\n",
    "    has_avg = any(k in q for k in [\"average\", \"avg\", \"mean\"])\n",
    "    has_petal = any(k in q for k in [\"petal length\", \"petal_length\"])\n",
    "    has_species = \"species\" in q\n",
    "    return has_avg and has_petal and has_species"
   ]
  },
  {
   "cell_type": "code",
   "execution_count": 53,
   "id": "32934398-f410-45aa-9069-9907eaea658b",
   "metadata": {},
   "outputs": [],
   "source": [
    "#ReAct internal handler"
   ]
  },
  {
   "cell_type": "code",
   "execution_count": 54,
   "id": "24451b92-e2eb-41e8-9522-6c5f465e02ea",
   "metadata": {},
   "outputs": [],
   "source": [
    "def react_internal_avg_by_species(query: str, df: pd.DataFrame) -> Dict[str, Any]:\n",
    "    t0 = time.perf_counter()\n",
    "    qn = _normalize_query(query)\n",
    "\n",
    "    # If the pattern matches, compute species-wise mean with the tool function.\n",
    "    if _matches_avg_petal_by_species(qn):\n",
    "        thought = \"I need to calculate the average petal length by species.\"\n",
    "        action = \"pandas groupby → mean\"\n",
    "        try:\n",
    "            # Dispatcher → call the actual tool (pandas aggregation)\n",
    "            observation = tool_mean_by_species(df, \"petal_length\")\n",
    "            # Compose a readable answer.\n",
    "            answer = \"Average petal length by species:\\n\" + observation.to_string()\n",
    "            return {\n",
    "                \"Thought\": thought, #Thought: human-readable reasoning step\n",
    "                \"Action\": action, # Action:  chosen tool/operation (string label)\n",
    "                \"Observation\": observation, # Observation: actual tool result (pd.Series)\n",
    "                \"Answer\": answer, # Answer: final user-facing string\n",
    "                \"latency\": time.perf_counter() - t0, #atency: wall-clock seconds for this call\n",
    "                \"tool_calls\": 1, # tool_calls: how many tool ops were executed (for later comparison)\n",
    "                \"error\": None, #error: error text if something failed, else None\n",
    "            }\n",
    "\n",
    "           # Surface a clean error message while preserving the ReAct schema.  \n",
    "        except Exception as ex:\n",
    "            return {\n",
    "                \"Thought\": thought,\n",
    "                \"Action\": action,\n",
    "                \"Observation\": None,\n",
    "                \"Answer\": f\"Failed to compute means: {type(ex).__name__}: {ex}\",\n",
    "                \"latency\": time.perf_counter() - t0,\n",
    "                \"tool_calls\": 1,\n",
    "                \"error\": str(ex),\n",
    "            }\n",
    "\n",
    "    # Unmatched pattern\n",
    "      # If the query doesn't match the pattern, return a gentle nudge.\n",
    "    return {\n",
    "        \"Thought\": \"Pattern not matched\",\n",
    "        \"Action\": \"None\",\n",
    "        \"Observation\": None,\n",
    "        \"Answer\": \"Try: 'average petal length by species'\",\n",
    "        \"latency\": time.perf_counter() - t0,\n",
    "        \"tool_calls\": 0,\n",
    "        \"error\": \"unmatched\",\n",
    "    }"
   ]
  },
  {
   "cell_type": "code",
   "execution_count": 55,
   "id": "45db6f66-e1bb-4ae3-b3e3-9fb4b6a5660e",
   "metadata": {},
   "outputs": [],
   "source": [
    "# Wikipedia setup (install first with: pip install wikipedia)"
   ]
  },
  {
   "cell_type": "code",
   "execution_count": 56,
   "id": "84599d32-e21d-499e-abbd-b8d4374aa24a",
   "metadata": {},
   "outputs": [],
   "source": [
    "try:\n",
    "    import wikipedia\n",
    "except ModuleNotFoundError:\n",
    "    raise ModuleNotFoundError(\"Please install `wikipedia` package (e.g., `pip install wikipedia`).\")\n",
    "\n",
    "# Set default language for the current session\n",
    "wikipedia.set_lang(\"en\")  # default; function below can override per-call"
   ]
  },
  {
   "cell_type": "code",
   "execution_count": 57,
   "id": "373f85fd-0ec5-48c2-ba9a-a0886861d138",
   "metadata": {},
   "outputs": [],
   "source": [
    "from __future__ import annotations\n",
    "from functools import lru_cache\n",
    "\n",
    "# --- Tool function: actual executable code that calls Wikipedia ---\n",
    "@lru_cache(maxsize=256)  # cache by (term, sentences, lang) to avoid repeat calls\n",
    "def tool_wikipedia_summary(term: str, sentences: int = 2, lang: str = \"en\") -> str:\n",
    "    \"\"\"\n",
    "    Return a short summary for `term` from Wikipedia.\n",
    "    - Uses auto_suggest to correct common typos.\n",
    "    - Handles disambiguation and missing-page errors gracefully.\n",
    "    \"\"\"\n",
    "    try:\n",
    "        # (0) Basic input sanitization\n",
    "        term = (term or \"\").strip()\n",
    "        if not term:\n",
    "            return \"Empty search term.\"\n",
    "\n",
    "        # (1) Set Wikipedia language if provided (overrides the session default)\n",
    "        if lang:\n",
    "            wikipedia.set_lang(lang)\n",
    "\n",
    "        # (2) Query Wikipedia summary\n",
    "        return wikipedia.summary(\n",
    "            term,\n",
    "            sentences=max(1, int(sentences)),  # ensure >= 1\n",
    "            auto_suggest=True\n",
    "        )\n",
    "\n",
    "    except wikipedia.DisambiguationError as e:   # (3-1) Ambiguity: multiple possible pages\n",
    "        options_preview = \", \".join(e.options[:5])  # show first 5 candidates\n",
    "        return f\"Ambiguous term on Wikipedia. Please be more specific. Suggestions: {options_preview}\"\n",
    "\n",
    "    except wikipedia.PageError:                  # (3-2) Page not found\n",
    "        return \"No matching Wikipedia page found.\"\n",
    "\n",
    "    except Exception as ex:                      # (3-3) Any other unexpected error\n",
    "        return f\"Wiki error: {type(ex).__name__}: {ex}\""
   ]
  },
  {
   "cell_type": "code",
   "execution_count": 58,
   "id": "6e6134ab-d456-4287-9ba5-2ee0babb491a",
   "metadata": {},
   "outputs": [
    {
     "name": "stdout",
     "output_type": "stream",
     "text": [
      "Iris setosa, known as the beachhead iris, bristle-pointed iris, or a number of other common names, is a species of flowering plant in the genus Iris of the family Iridaceae. It belongs the subgenus Limniris and the series Tripetalae.\n",
      "Ambiguous term on Wikipedia. Please be more specific. Suggestions: Ireland, Ireland, Éire, Erse (disambiguation), Republic of Ireland\n"
     ]
    },
    {
     "name": "stderr",
     "output_type": "stream",
     "text": [
      "/Users/jessicahong/.pyenv/versions/3.10.12/envs/nlp_automl_env/lib/python3.10/site-packages/wikipedia/wikipedia.py:389: GuessedAtParserWarning: No parser was explicitly specified, so I'm using the best available HTML parser for this system (\"html.parser\"). This usually isn't a problem, but if you run this code on another system, or in a different virtual environment, it may use a different parser and behave differently.\n",
      "\n",
      "The code that caused this warning is on line 389 of the file /Users/jessicahong/.pyenv/versions/3.10.12/envs/nlp_automl_env/lib/python3.10/site-packages/wikipedia/wikipedia.py. To get rid of this warning, pass the additional argument 'features=\"html.parser\"' to the BeautifulSoup constructor.\n",
      "\n",
      "  lis = BeautifulSoup(html).find_all('li')\n"
     ]
    }
   ],
   "source": [
    "print(tool_wikipedia_summary(\"Iris setosa\", sentences=2, lang=\"en\")[:300])\n",
    "print(tool_wikipedia_summary(\"Iris\", sentences=1, lang=\"en\")[:300])  # may hit disambiguation"
   ]
  },
  {
   "cell_type": "code",
   "execution_count": 59,
   "id": "300cbb5b-fe21-4f89-b0c0-cff8a79a164f",
   "metadata": {},
   "outputs": [
    {
     "data": {
      "text/plain": [
       "'청계천(淸溪川)은 대한민국 서울특별시 시내에 있는 지방하천으로, 한강 수계에 속하며 중랑천의 지류이다. 최장 발원지는 종로구 청운동에 위치한 ‘백운동 계곡’이며, 남으로 흐르다가 청계광장 부근의 지하에서 삼청동천을 합치며 몸집을 키운다.'"
      ]
     },
     "execution_count": 59,
     "metadata": {},
     "output_type": "execute_result"
    }
   ],
   "source": [
    "tool_wikipedia_summary(\"아이리스 세토사\", lang=\"ko\")  "
   ]
  },
  {
   "cell_type": "code",
   "execution_count": 60,
   "id": "3756b49a-2778-43b4-8ff6-2d5172859bd7",
   "metadata": {},
   "outputs": [
    {
     "data": {
      "text/plain": [
       "'No matching Wikipedia page found.'"
      ]
     },
     "execution_count": 60,
     "metadata": {},
     "output_type": "execute_result"
    }
   ],
   "source": [
    "tool_wikipedia_summary(\"Iris virginica\", lang=None) "
   ]
  },
  {
   "cell_type": "code",
   "execution_count": null,
   "id": "6a47c9e1-1bc6-4c0c-8cfa-50475f8a3f00",
   "metadata": {},
   "outputs": [],
   "source": [
    "#Cell#2: External ReAct Execution Block"
   ]
  },
  {
   "cell_type": "code",
   "execution_count": 61,
   "id": "26ae3d1b-2d3b-4407-9ee2-403041c028c8",
   "metadata": {},
   "outputs": [],
   "source": [
    "from typing import Any, Dict\n",
    "import time\n",
    "\n",
    "# Normalize + pick a Wikipedia term from the query.\n",
    "# If one of the three iris species is mentioned, map to the canonical page title.\n",
    "def _infer_wiki_term(raw_query: str) -> str:\n",
    "    q = (raw_query or \"\").strip().lower()\n",
    "    if \"setosa\" in q:\n",
    "        return \"Iris setosa\"\n",
    "    if \"versicolor\" in q:\n",
    "        return \"Iris versicolor\"\n",
    "    if \"virginica\" in q:\n",
    "        return \"Iris virginica\"\n",
    "    return (raw_query or \"\").strip()  # fallback: use original input as-is"
   ]
  },
  {
   "cell_type": "code",
   "execution_count": 63,
   "id": "24b18c68-74d6-44dc-a1ee-b4c06a81bb64",
   "metadata": {},
   "outputs": [
    {
     "data": {
      "text/plain": [
       "'\\n  ReAct-style external block:\\n    - Thought: reasoning text (not executed)\\n    - Action:  chosen tool label\\n    - Observation: tool output (Wikipedia summary string)\\n    - Answer: final user-facing response\\n    - latency/tool_calls: for later comparison\\n  '"
      ]
     },
     "execution_count": 63,
     "metadata": {},
     "output_type": "execute_result"
    }
   ],
   "source": [
    "  \"\"\"\n",
    "    ReAct-style external block:\n",
    "      - Thought: reasoning text (not executed)\n",
    "      - Action:  chosen tool label\n",
    "      - Observation: tool output (Wikipedia summary string)\n",
    "      - Answer: final user-facing response\n",
    "      - latency/tool_calls: for later comparison\n",
    "    \"\"\""
   ]
  },
  {
   "cell_type": "code",
   "execution_count": 64,
   "id": "df541a19-8b9f-4e16-974f-2ee0c7a4a074",
   "metadata": {},
   "outputs": [],
   "source": [
    "def react_external_explain_species(query: str, lang: str = \"en\") -> Dict[str, Any]:\n",
    "  \n",
    "    t0 = time.perf_counter()\n",
    "\n",
    "    # Decide which Wikipedia term to query (simple rule-based extraction).\n",
    "    term = _infer_wiki_term(query)\n",
    "\n",
    "    # Logs (for traceability; these are not executable steps).\n",
    "    thought = f\"Information about '{term}' is external; I'll query Wikipedia.\"\n",
    "    action = \"wikipedia.summary(term, sentences=2, lang)\"\n",
    "\n",
    "    # Execute the tool (Observation). tool_wikipedia_summary already handles errors.\n",
    "    observation = tool_wikipedia_summary(term=term, sentences=2, lang=lang)\n",
    "\n",
    "    # For now, the final answer is equal to the observation.\n",
    "    answer = observation\n",
    "\n",
    "    return {\n",
    "        \"Thought\": thought,\n",
    "        \"Action\": action,\n",
    "        \"Observation\": observation,\n",
    "        \"Answer\": answer,\n",
    "        \"latency\": time.perf_counter() - t0,\n",
    "        \"tool_calls\": 1,\n",
    "        \"error\": None,\n",
    "    }"
   ]
  },
  {
   "cell_type": "code",
   "execution_count": 65,
   "id": "3d59ceda-843c-4742-a721-2eca53123e82",
   "metadata": {},
   "outputs": [
    {
     "name": "stdout",
     "output_type": "stream",
     "text": [
      "Thought: Information about 'Iris setosa' is external; I'll query Wikipedia.\n",
      "Action: wikipedia.summary(term, sentences=2, lang)\n",
      "Observation: Iris setosa, known as the beachhead iris, bristle-pointed iris, or a number of other common names, is a species of flowering plant in the genus Iris of the family Iridaceae. It belongs the subgenus Limniris and the series Tripetalae.\n",
      "Answer: Iris setosa, known as the beachhead iris, bristle-pointed iris, or a number of other common names, is a species of flowering plant in the genus Iris of the family Iridaceae. It belongs the subgenus Limniris and the series Tripetalae.\n"
     ]
    }
   ],
   "source": [
    "# Example 1: Normal case\n",
    "res = react_external_explain_species(\"Explain Iris setosa\", lang=\"en\")\n",
    "print(\"Thought:\", res[\"Thought\"])\n",
    "print(\"Action:\", res[\"Action\"])\n",
    "print(\"Observation:\", res[\"Observation\"])\n",
    "print(\"Answer:\", res[\"Answer\"])\n"
   ]
  },
  {
   "cell_type": "code",
   "execution_count": 67,
   "id": "f348d66e-8312-4cb8-b677-628dddcf4e86",
   "metadata": {},
   "outputs": [
    {
     "data": {
      "text/plain": [
       "'\\n    Direct Wikipedia call without ReAct steps.\\n    Returns the same schema keys used for comparison (Answer/latency/tool_calls/error).\\n'"
      ]
     },
     "execution_count": 67,
     "metadata": {},
     "output_type": "execute_result"
    }
   ],
   "source": [
    "#non ReAct\n",
    "\"\"\"\n",
    "    Direct Wikipedia call without ReAct steps.\n",
    "    Returns the same schema keys used for comparison (Answer/latency/tool_calls/error).\n",
    "\"\"\""
   ]
  },
  {
   "cell_type": "code",
   "execution_count": 68,
   "id": "9cb3feef-157b-45ee-90a1-e38849a2110d",
   "metadata": {},
   "outputs": [],
   "source": [
    "from typing import Any, Dict\n",
    "import time\n",
    "\n",
    "# Non-ReAct baseline: directly call the Wikipedia tool (no Thought/Action loop)\n",
    "def baseline_external(query: str, lang: str = \"en\") -> Dict[str, Any]:\n",
    "    \"\"\"\n",
    "    Direct Wikipedia call without ReAct steps.\n",
    "    Adds success/note fields for easier reporting.\n",
    "    \"\"\"\n",
    "    t0 = time.perf_counter()\n",
    "    term = _infer_wiki_term(query)  # reuse the same mapper used by the ReAct version\n",
    "\n",
    "    try:\n",
    "        obs = tool_wikipedia_summary(term=term, sentences=2, lang=lang)\n",
    "    except Exception as ex:\n",
    "        # Safety net (tool_wikipedia_summary already handles most errors)\n",
    "        return {\n",
    "            \"Answer\": \"\",\n",
    "            \"Observation\": None,\n",
    "            \"latency\": time.perf_counter() - t0,\n",
    "            \"tool_calls\": 1,\n",
    "            \"error\": f\"{type(ex).__name__}: {ex}\",\n",
    "            \"success\": 0.0,\n",
    "            \"note\": \"exception in baseline_external\",\n",
    "        }\n",
    "\n",
    "    ok = _is_success_wiki(obs)\n",
    "    return {\n",
    "        \"Answer\": obs,\n",
    "        \"Observation\": obs,\n",
    "        \"latency\": time.perf_counter() - t0,\n",
    "        \"tool_calls\": 1,\n",
    "        \"error\": None if ok else \"wiki_failure\",\n",
    "        \"success\": 1.0 if ok else 0.0,\n",
    "        \"note\": \"\" if ok else obs[:120],\n",
    "    }\n",
    "\n",
    "# Simple success criterion for Wikipedia responses\n",
    "_BAD_PREFIXES = (\"Ambiguous term\", \"No matching Wikipedia page\", \"Wiki error\")\n",
    "\n",
    "def _is_success_wiki(answer: str, *, min_len: int = 30) -> bool:\n",
    "    \"\"\"Treat disambiguation/missing/error messages or very short replies as failures.\"\"\"\n",
    "    a = (answer or \"\").strip()\n",
    "    if not a:\n",
    "        return False\n",
    "    if len(a) < min_len:\n",
    "        return False\n",
    "    # Safer than startswith (in case the library changes wording)\n",
    "    if any(bad in a for bad in _BAD_PREFIXES):\n",
    "        return False\n",
    "    return True\n",
    "\n"
   ]
  },
  {
   "cell_type": "code",
   "execution_count": 75,
   "id": "bf01134f-00e9-424f-8f4d-90474f6e39f3",
   "metadata": {},
   "outputs": [],
   "source": [
    "from typing import Any, Dict\n",
    "import re, time\n",
    "import pandas as pd\n",
    "\n",
    "def baseline_internal(query: str, df: pd.DataFrame) -> Dict[str, Any]:\n",
    "    \"\"\"\n",
    "    Non-ReAct baseline for: 'average petal length by species'.\n",
    "    - Robust matching with word-boundary regex (avg|average|mean), (petal[ _]?length), species\n",
    "    - Single tool call via tool_mean_by_species\n",
    "    - Stable return schema for later comparisons\n",
    "    \"\"\"\n",
    "    t0 = time.perf_counter()\n",
    "\n",
    "    # Normalize query once\n",
    "    q = re.sub(r\"[_\\s]+\", \" \", (query or \"\").lower()).strip()\n",
    "\n",
    "    # Word-boundary matching is safer than naive substring checks\n",
    "    has_avg     = re.search(r\"\\b(avg|average|mean)\\b\", q) is not None\n",
    "    has_p_length= re.search(r\"\\bpetal[ _]?length\\b\", q) is not None\n",
    "    has_species = re.search(r\"\\bspecies\\b\", q) is not None\n",
    "\n",
    "    if has_avg and has_p_length and has_species:\n",
    "        try:\n",
    "            obs = tool_mean_by_species(df, \"petal_length\")  # pandas groupby → mean\n",
    "            ans = \"Average petal length by species:\\n\" + obs.to_string()\n",
    "            return {\n",
    "                \"Answer\": ans,\n",
    "                \"Observation\": obs,\n",
    "                \"latency\": time.perf_counter() - t0,\n",
    "                \"tool_calls\": 1,\n",
    "                \"error\": None,\n",
    "            }\n",
    "        except Exception as ex:\n",
    "            return {\n",
    "                \"Answer\": f\"Failed to compute means: {type(ex).__name__}: {ex}\",\n",
    "                \"Observation\": None,\n",
    "                \"latency\": time.perf_counter() - t0,\n",
    "                \"tool_calls\": 1,\n",
    "                \"error\": str(ex),\n",
    "            }\n",
    "\n",
    "    # Pattern not matched → gentle nudge\n",
    "    return {\n",
    "        \"Answer\": \"Pattern not matched. Try: 'average petal length by species'\",\n",
    "        \"Observation\": None,\n",
    "        \"latency\": time.perf_counter() - t0,\n",
    "        \"tool_calls\": 0,\n",
    "        \"error\": \"unmatched\",\n",
    "    }"
   ]
  },
  {
   "cell_type": "code",
   "execution_count": 76,
   "id": "ddc28d38-09d6-4b6a-a944-a03d473b5df2",
   "metadata": {},
   "outputs": [],
   "source": [
    "from typing import Any, Dict\n",
    "import time\n",
    "\n",
    "# Same simple success heuristic used in eval (treat disambiguation/missing/error as failures)\n",
    "_BAD_PREFIXES = (\"Ambiguous term\", \"No matching Wikipedia page\", \"Wiki error\")\n",
    "\n",
    "def _is_success_wiki(answer: str, *, min_len: int = 30) -> bool:\n",
    "    \"\"\"Treat disambiguation/missing/error messages or very short replies as failures.\"\"\"\n",
    "    a = (answer or \"\").strip()\n",
    "    if not a or len(a) < min_len:\n",
    "        return False\n",
    "    return not any(bad in a for bad in _BAD_PREFIXES)\n",
    "\n",
    "def baseline_external(query: str, lang: str = \"en\") -> Dict[str, Any]:\n",
    "    \"\"\"\n",
    "    Non-ReAct baseline for external knowledge (Wikipedia).\n",
    "    - Reuses the same term-mapper as ReAct to keep behavior consistent\n",
    "    - Calls tool_wikipedia_summary once\n",
    "    - Returns success/note fields for easier reporting\n",
    "    \"\"\"\n",
    "    t0 = time.perf_counter()\n",
    "    term = _infer_wiki_term(query)  # reuse the ReAct mapper (Iris setosa/versicolor/virginica → canonical)\n",
    "\n",
    "    try:\n",
    "        obs = tool_wikipedia_summary(term=term, sentences=2, lang=lang)\n",
    "    except Exception as ex:\n",
    "        # Safety net; tool_wikipedia_summary already handles typical errors\n",
    "        return {\n",
    "            \"Answer\": \"\",\n",
    "            \"Observation\": None,\n",
    "            \"latency\": time.perf_counter() - t0,\n",
    "            \"tool_calls\": 1,\n",
    "            \"error\": f\"{type(ex).__name__}: {ex}\",\n",
    "            \"success\": 0.0,\n",
    "            \"note\": \"exception in baseline_external\",\n",
    "        }\n",
    "\n",
    "    ok = _is_success_wiki(obs)\n",
    "    return {\n",
    "        \"Answer\": obs,\n",
    "        \"Observation\": obs,\n",
    "        \"latency\": time.perf_counter() - t0,\n",
    "        \"tool_calls\": 1,\n",
    "        \"error\": None if ok else \"wiki_failure\",\n",
    "        \"success\": 1.0 if ok else 0.0,\n",
    "        \"note\": \"\" if ok else obs[:120],\n",
    "    }\n"
   ]
  },
  {
   "cell_type": "code",
   "execution_count": null,
   "id": "f0c2509a-d114-4a6e-88a2-42ed25146b3c",
   "metadata": {},
   "outputs": [],
   "source": [
    "#check internal baseline "
   ]
  },
  {
   "cell_type": "code",
   "execution_count": 78,
   "id": "a5fd2b88-4039-4e1b-8505-b0fa06ee9d9e",
   "metadata": {},
   "outputs": [
    {
     "name": "stdout",
     "output_type": "stream",
     "text": [
      "[internal/baseline] tool_calls=1  latency_ms=12.52\n",
      "Average petal length by species:\n",
      "species\n",
      "setosa        1.462\n",
      "versicolor    4.260\n",
      "virginica     5.552 \n",
      "\n",
      "[internal/react] tool_calls=1  latency_ms=2.53\n",
      "Average petal length by species:\n",
      "species\n",
      "setosa        1.462\n",
      "versicolor    4.260\n",
      "virginica     5.552 \n",
      "\n"
     ]
    }
   ],
   "source": [
    "q = \"average petal length by species\"\n",
    "\n",
    "for name, fn in [(\"baseline\", baseline_internal), (\"react\", react_internal_avg_by_species)]:\n",
    "    res = fn(q, df)\n",
    "    print(f\"[internal/{name}] tool_calls={res.get('tool_calls')}  latency_ms={res.get('latency',0)*1000:.2f}\")\n",
    "    print(res[\"Answer\"], \"\\n\")\n"
   ]
  },
  {
   "cell_type": "code",
   "execution_count": null,
   "id": "cab06981-085a-46ac-b7eb-9f4cf32809cc",
   "metadata": {},
   "outputs": [],
   "source": [
    "!which python"
   ]
  },
  {
   "cell_type": "code",
   "execution_count": null,
   "id": "55de0c73-3fbc-487a-8812-ce13d7ed949c",
   "metadata": {},
   "outputs": [],
   "source": [
    "import os\n",
    "os.environ[\"MISTRAL_API_KEY\"] = \"MISTRAL_API_KEY\"  # 네가 발급받은 실제 키\n",
    "print(os.getenv(\"MISTRAL_API_KEY\"))"
   ]
  },
  {
   "cell_type": "code",
   "execution_count": null,
   "id": "d4341756-9040-41d6-b62f-a4512164facb",
   "metadata": {},
   "outputs": [],
   "source": [
    "%cd /Users/jessicahong/11_data/open-rag-bench\n",
    "!python -m openragbench.pipeline.data_processing.get_arxiv --help"
   ]
  },
  {
   "cell_type": "code",
   "execution_count": 90,
   "id": "86a0b3d8-7888-47da-9a66-1d8b3430735d",
   "metadata": {},
   "outputs": [
    {
     "name": "stdout",
     "output_type": "stream",
     "text": [
      "RAG Bench ready! /Users/jessicahong/11_data/open-rag-bench/openragbench/__init__.py\n"
     ]
    }
   ],
   "source": [
    "import sys\n",
    "sys.path.append(\"/Users/jessicahong/11_data/open-rag-bench\")  # 레포 루트\n",
    "import openragbench\n",
    "print(\"RAG Bench ready!\", openragbench.__file__)\n"
   ]
  },
  {
   "cell_type": "code",
   "execution_count": null,
   "id": "873c6baa-42e8-4ba2-a4b1-42ef5f438cbc",
   "metadata": {},
   "outputs": [],
   "source": [
    "#Evalaution"
   ]
  },
  {
   "cell_type": "code",
   "execution_count": 79,
   "id": "6cccccd1-edcb-4a9e-9618-e6fed1e21424",
   "metadata": {},
   "outputs": [],
   "source": [
    "import time, pandas as pd, numpy as np\n",
    "\n",
    "def _is_success_wiki(answer: str, min_len: int = 30) -> bool:\n",
    "    bad = (\"Ambiguous term\", \"No matching Wikipedia page\", \"Wiki error\")\n",
    "    a = (answer or \"\").strip()\n",
    "    return bool(a) and len(a) >= min_len and not any(b in a for b in bad)\n",
    "\n",
    "def eval_internal(df, queries, baseline_fn, react_fn):\n",
    "    rows = []\n",
    "    gt = df.groupby(\"species\")[\"petal_length\"].mean()\n",
    "    for q in queries:\n",
    "        # baseline\n",
    "        b = baseline_fn(q, df)\n",
    "        b_ok = isinstance(b.get(\"Observation\"), pd.Series) and \\\n",
    "               b[\"Observation\"].sort_index().equals(gt.sort_index())\n",
    "        rows.append({\"task\":\"internal\",\"query\":q,\"method\":\"baseline\",\n",
    "                     \"success\":float(b_ok),\"latency_ms\":round(b[\"latency\"]*1000,2),\n",
    "                     \"tool_calls\":b.get(\"tool_calls\",1)})\n",
    "        # react\n",
    "        r = react_fn(q, df)\n",
    "        r_obs = r.get(\"Observation\")\n",
    "        r_ok = isinstance(r_obs, pd.Series) and r_obs.sort_index().equals(gt.sort_index())\n",
    "        rows.append({\"task\":\"internal\",\"query\":q,\"method\":\"react\",\n",
    "                     \"success\":float(r_ok),\"latency_ms\":round(r[\"latency\"]*1000,2),\n",
    "                     \"tool_calls\":r.get(\"tool_calls\",1)})\n",
    "    return pd.DataFrame(rows)\n",
    "\n",
    "def eval_external(queries, baseline_fn, react_fn, lang=\"en\"):\n",
    "    rows = []\n",
    "    for q in queries:\n",
    "        b = baseline_fn(q, lang=lang)\n",
    "        rows.append({\"task\":\"external\",\"query\":q,\"method\":\"baseline\",\n",
    "                     \"success\":float(_is_success_wiki(b[\"Answer\"])),\n",
    "                     \"latency_ms\":round(b[\"latency\"]*1000,2),\n",
    "                     \"tool_calls\":b.get(\"tool_calls\",1)})\n",
    "        r = react_fn(q, lang=lang)\n",
    "        rows.append({\"task\":\"external\",\"query\":q,\"method\":\"react\",\n",
    "                     \"success\":float(_is_success_wiki(r[\"Answer\"])),\n",
    "                     \"latency_ms\":round(r[\"latency\"]*1000,2),\n",
    "                     \"tool_calls\":r.get(\"tool_calls\",1)})\n",
    "    return pd.DataFrame(rows)\n",
    "\n",
    "def summarize(df):\n",
    "    return (df.groupby([\"task\",\"method\"])\n",
    "              .agg(success_rate=(\"success\",\"mean\"),\n",
    "                   mean_latency_ms=(\"latency_ms\",\"mean\"),\n",
    "                   mean_tool_calls=(\"tool_calls\",\"mean\"),\n",
    "                   n=(\"success\",\"count\"))\n",
    "              .round(3)\n",
    "              .reset_index())\n"
   ]
  },
  {
   "cell_type": "code",
   "execution_count": 80,
   "id": "a0d2659c-0eb3-4a9e-92a6-34a81935eeac",
   "metadata": {},
   "outputs": [
    {
     "name": "stdout",
     "output_type": "stream",
     "text": [
      "=== Summary ===\n"
     ]
    },
    {
     "data": {
      "text/html": [
       "<div>\n",
       "<style scoped>\n",
       "    .dataframe tbody tr th:only-of-type {\n",
       "        vertical-align: middle;\n",
       "    }\n",
       "\n",
       "    .dataframe tbody tr th {\n",
       "        vertical-align: top;\n",
       "    }\n",
       "\n",
       "    .dataframe thead th {\n",
       "        text-align: right;\n",
       "    }\n",
       "</style>\n",
       "<table border=\"1\" class=\"dataframe\">\n",
       "  <thead>\n",
       "    <tr style=\"text-align: right;\">\n",
       "      <th></th>\n",
       "      <th>task</th>\n",
       "      <th>method</th>\n",
       "      <th>success_rate</th>\n",
       "      <th>mean_latency_ms</th>\n",
       "      <th>mean_tool_calls</th>\n",
       "      <th>n</th>\n",
       "    </tr>\n",
       "  </thead>\n",
       "  <tbody>\n",
       "    <tr>\n",
       "      <th>0</th>\n",
       "      <td>external</td>\n",
       "      <td>baseline</td>\n",
       "      <td>1.0</td>\n",
       "      <td>1499.202</td>\n",
       "      <td>1.0</td>\n",
       "      <td>4</td>\n",
       "    </tr>\n",
       "    <tr>\n",
       "      <th>1</th>\n",
       "      <td>external</td>\n",
       "      <td>react</td>\n",
       "      <td>1.0</td>\n",
       "      <td>0.008</td>\n",
       "      <td>1.0</td>\n",
       "      <td>4</td>\n",
       "    </tr>\n",
       "    <tr>\n",
       "      <th>2</th>\n",
       "      <td>internal</td>\n",
       "      <td>baseline</td>\n",
       "      <td>1.0</td>\n",
       "      <td>3.295</td>\n",
       "      <td>1.0</td>\n",
       "      <td>2</td>\n",
       "    </tr>\n",
       "    <tr>\n",
       "      <th>3</th>\n",
       "      <td>internal</td>\n",
       "      <td>react</td>\n",
       "      <td>1.0</td>\n",
       "      <td>1.760</td>\n",
       "      <td>1.0</td>\n",
       "      <td>2</td>\n",
       "    </tr>\n",
       "  </tbody>\n",
       "</table>\n",
       "</div>"
      ],
      "text/plain": [
       "       task    method  success_rate  mean_latency_ms  mean_tool_calls  n\n",
       "0  external  baseline           1.0         1499.202              1.0  4\n",
       "1  external     react           1.0            0.008              1.0  4\n",
       "2  internal  baseline           1.0            3.295              1.0  2\n",
       "3  internal     react           1.0            1.760              1.0  2"
      ]
     },
     "metadata": {},
     "output_type": "display_data"
    },
    {
     "name": "stdout",
     "output_type": "stream",
     "text": [
      "\n",
      "=== Detail (head) ===\n"
     ]
    },
    {
     "data": {
      "text/html": [
       "<div>\n",
       "<style scoped>\n",
       "    .dataframe tbody tr th:only-of-type {\n",
       "        vertical-align: middle;\n",
       "    }\n",
       "\n",
       "    .dataframe tbody tr th {\n",
       "        vertical-align: top;\n",
       "    }\n",
       "\n",
       "    .dataframe thead th {\n",
       "        text-align: right;\n",
       "    }\n",
       "</style>\n",
       "<table border=\"1\" class=\"dataframe\">\n",
       "  <thead>\n",
       "    <tr style=\"text-align: right;\">\n",
       "      <th></th>\n",
       "      <th>task</th>\n",
       "      <th>query</th>\n",
       "      <th>method</th>\n",
       "      <th>success</th>\n",
       "      <th>latency_ms</th>\n",
       "      <th>tool_calls</th>\n",
       "    </tr>\n",
       "  </thead>\n",
       "  <tbody>\n",
       "    <tr>\n",
       "      <th>0</th>\n",
       "      <td>internal</td>\n",
       "      <td>average petal length by species</td>\n",
       "      <td>baseline</td>\n",
       "      <td>1.0</td>\n",
       "      <td>4.70</td>\n",
       "      <td>1</td>\n",
       "    </tr>\n",
       "    <tr>\n",
       "      <th>1</th>\n",
       "      <td>internal</td>\n",
       "      <td>average petal length by species</td>\n",
       "      <td>react</td>\n",
       "      <td>1.0</td>\n",
       "      <td>2.01</td>\n",
       "      <td>1</td>\n",
       "    </tr>\n",
       "    <tr>\n",
       "      <th>2</th>\n",
       "      <td>internal</td>\n",
       "      <td>avg petal_length by species</td>\n",
       "      <td>baseline</td>\n",
       "      <td>1.0</td>\n",
       "      <td>1.89</td>\n",
       "      <td>1</td>\n",
       "    </tr>\n",
       "    <tr>\n",
       "      <th>3</th>\n",
       "      <td>internal</td>\n",
       "      <td>avg petal_length by species</td>\n",
       "      <td>react</td>\n",
       "      <td>1.0</td>\n",
       "      <td>1.51</td>\n",
       "      <td>1</td>\n",
       "    </tr>\n",
       "    <tr>\n",
       "      <th>4</th>\n",
       "      <td>external</td>\n",
       "      <td>Explain Iris setosa</td>\n",
       "      <td>baseline</td>\n",
       "      <td>1.0</td>\n",
       "      <td>0.02</td>\n",
       "      <td>1</td>\n",
       "    </tr>\n",
       "    <tr>\n",
       "      <th>5</th>\n",
       "      <td>external</td>\n",
       "      <td>Explain Iris setosa</td>\n",
       "      <td>react</td>\n",
       "      <td>1.0</td>\n",
       "      <td>0.00</td>\n",
       "      <td>1</td>\n",
       "    </tr>\n",
       "    <tr>\n",
       "      <th>6</th>\n",
       "      <td>external</td>\n",
       "      <td>Explain Iris versicolor</td>\n",
       "      <td>baseline</td>\n",
       "      <td>1.0</td>\n",
       "      <td>1993.94</td>\n",
       "      <td>1</td>\n",
       "    </tr>\n",
       "    <tr>\n",
       "      <th>7</th>\n",
       "      <td>external</td>\n",
       "      <td>Explain Iris versicolor</td>\n",
       "      <td>react</td>\n",
       "      <td>1.0</td>\n",
       "      <td>0.01</td>\n",
       "      <td>1</td>\n",
       "    </tr>\n",
       "    <tr>\n",
       "      <th>8</th>\n",
       "      <td>external</td>\n",
       "      <td>Explain Iris virginica</td>\n",
       "      <td>baseline</td>\n",
       "      <td>1.0</td>\n",
       "      <td>2046.65</td>\n",
       "      <td>1</td>\n",
       "    </tr>\n",
       "    <tr>\n",
       "      <th>9</th>\n",
       "      <td>external</td>\n",
       "      <td>Explain Iris virginica</td>\n",
       "      <td>react</td>\n",
       "      <td>1.0</td>\n",
       "      <td>0.01</td>\n",
       "      <td>1</td>\n",
       "    </tr>\n",
       "  </tbody>\n",
       "</table>\n",
       "</div>"
      ],
      "text/plain": [
       "       task                            query    method  success  latency_ms  \\\n",
       "0  internal  average petal length by species  baseline      1.0        4.70   \n",
       "1  internal  average petal length by species     react      1.0        2.01   \n",
       "2  internal      avg petal_length by species  baseline      1.0        1.89   \n",
       "3  internal      avg petal_length by species     react      1.0        1.51   \n",
       "4  external              Explain Iris setosa  baseline      1.0        0.02   \n",
       "5  external              Explain Iris setosa     react      1.0        0.00   \n",
       "6  external          Explain Iris versicolor  baseline      1.0     1993.94   \n",
       "7  external          Explain Iris versicolor     react      1.0        0.01   \n",
       "8  external           Explain Iris virginica  baseline      1.0     2046.65   \n",
       "9  external           Explain Iris virginica     react      1.0        0.01   \n",
       "\n",
       "   tool_calls  \n",
       "0           1  \n",
       "1           1  \n",
       "2           1  \n",
       "3           1  \n",
       "4           1  \n",
       "5           1  \n",
       "6           1  \n",
       "7           1  \n",
       "8           1  \n",
       "9           1  "
      ]
     },
     "metadata": {},
     "output_type": "display_data"
    }
   ],
   "source": [
    "# 내부 비교\n",
    "qs_int = [\"average petal length by species\", \"avg petal_length by species\"]\n",
    "detail_int = eval_internal(df, qs_int, baseline_internal, react_internal_avg_by_species)\n",
    "\n",
    "# 외부 비교\n",
    "qs_ext = [\"Explain Iris setosa\", \"Explain Iris versicolor\", \"Explain Iris virginica\", \"Explain Iris flower\"]\n",
    "detail_ext = eval_external(qs_ext, baseline_external, react_external_explain_species, lang=\"en\")\n",
    "\n",
    "# 합치고 요약\n",
    "detail = pd.concat([detail_int, detail_ext], ignore_index=True)\n",
    "summary = summarize(detail)\n",
    "\n",
    "print(\"=== Summary ===\")\n",
    "display(summary)\n",
    "print(\"\\n=== Detail (head) ===\")\n",
    "display(detail.head(10))\n"
   ]
  },
  {
   "cell_type": "code",
   "execution_count": 81,
   "id": "1aa7cfc5-3253-4692-92a2-2dbccf0dbc8e",
   "metadata": {},
   "outputs": [],
   "source": [
    "# Cell 1 — Utilities (imports & helpers)\n",
    "\n",
    "import time, random\n",
    "from typing import Callable, Dict, Any, List, Optional\n",
    "import pandas as pd\n",
    "import numpy as np\n",
    "\n",
    "def _round_ms(seconds: float) -> float:\n",
    "    \"\"\"Convert seconds → milliseconds with rounding.\"\"\"\n",
    "    return round((seconds or 0.0) * 1000.0, 2)\n",
    "\n",
    "def _series_equal(a: pd.Series, b: pd.Series, atol: float = 1e-9) -> bool:\n",
    "    \"\"\"Check equality of two Series: same index + close values.\"\"\"\n",
    "    if not isinstance(a, pd.Series) or not isinstance(b, pd.Series):\n",
    "        return False\n",
    "    a = a.sort_index()\n",
    "    b = b.sort_index()\n",
    "    if not a.index.equals(b.index):\n",
    "        return False\n",
    "    try:\n",
    "        return np.allclose(a.values, b.values, atol=atol, rtol=0.0, equal_nan=True)\n",
    "    except Exception:\n",
    "        return False\n",
    "\n",
    "_BAD_PREFIXES = (\"Ambiguous term\", \"No matching Wikipedia page\", \"Wiki error\")\n",
    "\n",
    "def _is_success_wiki(answer: str, min_len: int = 30) -> bool:\n",
    "    \"\"\"Treat disambiguation/missing/error or very short replies as failure.\"\"\"\n",
    "    a = (answer or \"\").strip()\n",
    "    return bool(a) and len(a) >= min_len and not any(b in a for b in _BAD_PREFIXES)\n"
   ]
  },
  {
   "cell_type": "code",
   "execution_count": 82,
   "id": "114c8587-01a3-43bf-b10e-299f3efddc53",
   "metadata": {},
   "outputs": [],
   "source": [
    "# Cell 2 — Internal evaluator\n",
    "\n",
    "from typing import Tuple\n",
    "\n",
    "def eval_internal(\n",
    "    df: pd.DataFrame,\n",
    "    queries: List[str],\n",
    "    baseline_fn: Callable[[str, pd.DataFrame], Dict[str, Any]],\n",
    "    react_fn: Callable[[str, pd.DataFrame], Dict[str, Any]],\n",
    ") -> pd.DataFrame:\n",
    "    \"\"\"Evaluate internal handlers against pandas ground truth.\"\"\"\n",
    "    gt = df.groupby(\"species\")[\"petal_length\"].mean()\n",
    "    rows: List[Dict[str, Any]] = []\n",
    "\n",
    "    for q in queries:\n",
    "        # Baseline\n",
    "        b = baseline_fn(q, df)\n",
    "        b_ok = _series_equal(b.get(\"Observation\"), gt)\n",
    "        rows.append({\n",
    "            \"task\": \"internal\",\n",
    "            \"query\": q,\n",
    "            \"method\": \"baseline\",\n",
    "            \"success\": float(b_ok),\n",
    "            \"latency_ms\": _round_ms(b.get(\"latency\", 0.0)),\n",
    "            \"tool_calls\": int(b.get(\"tool_calls\", 1)),\n",
    "        })\n",
    "\n",
    "        # ReAct\n",
    "        r = react_fn(q, df)\n",
    "        r_ok = _series_equal(r.get(\"Observation\"), gt)\n",
    "        rows.append({\n",
    "            \"task\": \"internal\",\n",
    "            \"query\": q,\n",
    "            \"method\": \"react\",\n",
    "            \"success\": float(r_ok),\n",
    "            \"latency_ms\": _round_ms(r.get(\"latency\", 0.0)),\n",
    "            \"tool_calls\": int(r.get(\"tool_calls\", 1)),\n",
    "        })\n",
    "\n",
    "    return pd.DataFrame(rows)"
   ]
  },
  {
   "cell_type": "code",
   "execution_count": 83,
   "id": "7bdc138c-8877-4953-adec-98484d5798c8",
   "metadata": {},
   "outputs": [],
   "source": [
    "# Cell 3 — External evaluator (fair mode / repeats / shuffling)\n",
    "\n",
    "def eval_external(\n",
    "    queries: List[str],\n",
    "    baseline_fn: Callable[..., Dict[str, Any]],\n",
    "    react_fn: Callable[..., Dict[str, Any]],\n",
    "    *,\n",
    "    lang: str = \"en\",\n",
    "    fair: bool = False,\n",
    "    repeats: int = 1,\n",
    "    shuffle: bool = False,\n",
    "    cache_clear_fn: Optional[Callable[[], None]] = None,\n",
    "    seed: Optional[int] = 42,\n",
    ") -> pd.DataFrame:\n",
    "    \"\"\"\n",
    "    Evaluate external (Wikipedia) handlers.\n",
    "\n",
    "    fair=True  → clear tool cache before each call (avoids 'first caller pays' bias)\n",
    "    repeats>1  → run multiple times per (query, method) and average metrics\n",
    "    shuffle=True → randomize method order per query to reduce order effects\n",
    "    cache_clear_fn → typically: getattr(tool_wikipedia_summary, \"cache_clear\", None)\n",
    "    \"\"\"\n",
    "    rng = random.Random(seed)\n",
    "    rows: List[Dict[str, Any]] = []\n",
    "\n",
    "    def _maybe_clear():\n",
    "        if fair and cache_clear_fn is not None:\n",
    "            try:\n",
    "                cache_clear_fn()\n",
    "            except Exception:\n",
    "                pass\n",
    "\n",
    "    for q in queries:\n",
    "        methods = [(\"baseline\", baseline_fn), (\"react\", react_fn)]\n",
    "        if shuffle:\n",
    "            rng.shuffle(methods)\n",
    "\n",
    "        for name, fn in methods:\n",
    "            latencies, successes, toolcalls = [], [], []\n",
    "            for _ in range(max(1, repeats)):\n",
    "                _maybe_clear()\n",
    "                res = fn(q, lang=lang)  # both baseline_external / react_external take (query, lang=)\n",
    "                ans = res.get(\"Answer\", \"\")\n",
    "                succ = res.get(\"success\")\n",
    "                if succ is None:\n",
    "                    succ = float(_is_success_wiki(ans))\n",
    "                latencies.append(_round_ms(res.get(\"latency\", 0.0)))\n",
    "                successes.append(float(succ))\n",
    "                toolcalls.append(int(res.get(\"tool_calls\", 1)))\n",
    "\n",
    "            rows.append({\n",
    "                \"task\": \"external\",\n",
    "                \"query\": q,\n",
    "                \"method\": name,\n",
    "                \"success\": float(np.mean(successes)),\n",
    "                \"latency_ms\": float(np.mean(latencies)),\n",
    "                \"tool_calls\": float(np.mean(toolcalls)),\n",
    "                \"repeats\": repeats,\n",
    "                \"fair\": fair,\n",
    "                \"shuffled\": shuffle,\n",
    "            })\n",
    "\n",
    "    return pd.DataFrame(rows)"
   ]
  },
  {
   "cell_type": "code",
   "execution_count": 84,
   "id": "db9491e9-e15e-4024-8d26-239c8ea9803f",
   "metadata": {},
   "outputs": [],
   "source": [
    "# Cell 4 — Summary\n",
    "\n",
    "def summarize(df: pd.DataFrame) -> pd.DataFrame:\n",
    "    \"\"\"Aggregate by task/method into success rate, mean latency, mean tool calls.\"\"\"\n",
    "    out = (df.groupby([\"task\",\"method\"])\n",
    "             .agg(success_rate=(\"success\",\"mean\"),\n",
    "                  mean_latency_ms=(\"latency_ms\",\"mean\"),\n",
    "                  mean_tool_calls=(\"tool_calls\",\"mean\"),\n",
    "                  n=(\"success\",\"count\"))\n",
    "             .round(3)\n",
    "             .reset_index())\n",
    "    return out\n",
    "\n",
    "# --- Example usage (uncomment to run) ---\n",
    "# # Internal\n",
    "# detail_int = eval_internal(\n",
    "#     df=df,\n",
    "#     queries=[\"average petal length by species\", \"avg petal_length by species\"],\n",
    "#     baseline_fn=baseline_internal,\n",
    "#     react_fn=react_internal_avg_by_species,\n",
    "# )\n",
    "#\n",
    "# # External (fair mode: clear LRU cache each call, shuffle order, 1 repeat)\n",
    "# detail_ext = eval_external(\n",
    "#     queries=[\"Explain Iris setosa\",\"Explain Iris versicolor\",\"Explain Iris virginica\",\"Explain Iris flower\"],\n",
    "#     baseline_fn=baseline_external,\n",
    "#     react_fn=react_external_explain_species,\n",
    "#     lang=\"en\",\n",
    "#     fair=True,\n",
    "#     repeats=1,\n",
    "#     shuffle=True,\n",
    "#     cache_clear_fn=getattr(tool_wikipedia_summary, \"cache_clear\", None),\n",
    "# )\n",
    "#\n",
    "# detail = pd.concat([detail_int, detail_ext], ignore_index=True)\n",
    "# display(summarize(detail))\n",
    "# display(detail.head(10))"
   ]
  },
  {
   "cell_type": "code",
   "execution_count": 86,
   "id": "f79824c9-3076-4ee6-b6e2-adfdf76d617c",
   "metadata": {},
   "outputs": [
    {
     "data": {
      "text/html": [
       "<div>\n",
       "<style scoped>\n",
       "    .dataframe tbody tr th:only-of-type {\n",
       "        vertical-align: middle;\n",
       "    }\n",
       "\n",
       "    .dataframe tbody tr th {\n",
       "        vertical-align: top;\n",
       "    }\n",
       "\n",
       "    .dataframe thead th {\n",
       "        text-align: right;\n",
       "    }\n",
       "</style>\n",
       "<table border=\"1\" class=\"dataframe\">\n",
       "  <thead>\n",
       "    <tr style=\"text-align: right;\">\n",
       "      <th></th>\n",
       "      <th>task</th>\n",
       "      <th>method</th>\n",
       "      <th>success_rate</th>\n",
       "      <th>mean_latency_ms</th>\n",
       "      <th>mean_tool_calls</th>\n",
       "      <th>n</th>\n",
       "    </tr>\n",
       "  </thead>\n",
       "  <tbody>\n",
       "    <tr>\n",
       "      <th>0</th>\n",
       "      <td>external</td>\n",
       "      <td>baseline</td>\n",
       "      <td>1.0</td>\n",
       "      <td>1499.202</td>\n",
       "      <td>1.0</td>\n",
       "      <td>4</td>\n",
       "    </tr>\n",
       "    <tr>\n",
       "      <th>1</th>\n",
       "      <td>external</td>\n",
       "      <td>react</td>\n",
       "      <td>1.0</td>\n",
       "      <td>0.008</td>\n",
       "      <td>1.0</td>\n",
       "      <td>4</td>\n",
       "    </tr>\n",
       "    <tr>\n",
       "      <th>2</th>\n",
       "      <td>internal</td>\n",
       "      <td>baseline</td>\n",
       "      <td>1.0</td>\n",
       "      <td>3.295</td>\n",
       "      <td>1.0</td>\n",
       "      <td>2</td>\n",
       "    </tr>\n",
       "    <tr>\n",
       "      <th>3</th>\n",
       "      <td>internal</td>\n",
       "      <td>react</td>\n",
       "      <td>1.0</td>\n",
       "      <td>1.760</td>\n",
       "      <td>1.0</td>\n",
       "      <td>2</td>\n",
       "    </tr>\n",
       "  </tbody>\n",
       "</table>\n",
       "</div>"
      ],
      "text/plain": [
       "       task    method  success_rate  mean_latency_ms  mean_tool_calls  n\n",
       "0  external  baseline           1.0         1499.202              1.0  4\n",
       "1  external     react           1.0            0.008              1.0  4\n",
       "2  internal  baseline           1.0            3.295              1.0  2\n",
       "3  internal     react           1.0            1.760              1.0  2"
      ]
     },
     "execution_count": 86,
     "metadata": {},
     "output_type": "execute_result"
    }
   ],
   "source": [
    "summarize(detail)"
   ]
  },
  {
   "cell_type": "code",
   "execution_count": 87,
   "id": "1f17b1ac-268e-4039-bf1e-c5f9d7925c99",
   "metadata": {},
   "outputs": [
    {
     "data": {
      "text/html": [
       "<div>\n",
       "<style scoped>\n",
       "    .dataframe tbody tr th:only-of-type {\n",
       "        vertical-align: middle;\n",
       "    }\n",
       "\n",
       "    .dataframe tbody tr th {\n",
       "        vertical-align: top;\n",
       "    }\n",
       "\n",
       "    .dataframe thead th {\n",
       "        text-align: right;\n",
       "    }\n",
       "</style>\n",
       "<table border=\"1\" class=\"dataframe\">\n",
       "  <thead>\n",
       "    <tr style=\"text-align: right;\">\n",
       "      <th></th>\n",
       "      <th>task</th>\n",
       "      <th>query</th>\n",
       "      <th>method</th>\n",
       "      <th>success</th>\n",
       "      <th>latency_ms</th>\n",
       "      <th>tool_calls</th>\n",
       "    </tr>\n",
       "  </thead>\n",
       "  <tbody>\n",
       "    <tr>\n",
       "      <th>0</th>\n",
       "      <td>internal</td>\n",
       "      <td>average petal length by species</td>\n",
       "      <td>baseline</td>\n",
       "      <td>1.0</td>\n",
       "      <td>4.70</td>\n",
       "      <td>1</td>\n",
       "    </tr>\n",
       "    <tr>\n",
       "      <th>1</th>\n",
       "      <td>internal</td>\n",
       "      <td>average petal length by species</td>\n",
       "      <td>react</td>\n",
       "      <td>1.0</td>\n",
       "      <td>2.01</td>\n",
       "      <td>1</td>\n",
       "    </tr>\n",
       "    <tr>\n",
       "      <th>2</th>\n",
       "      <td>internal</td>\n",
       "      <td>avg petal_length by species</td>\n",
       "      <td>baseline</td>\n",
       "      <td>1.0</td>\n",
       "      <td>1.89</td>\n",
       "      <td>1</td>\n",
       "    </tr>\n",
       "    <tr>\n",
       "      <th>3</th>\n",
       "      <td>internal</td>\n",
       "      <td>avg petal_length by species</td>\n",
       "      <td>react</td>\n",
       "      <td>1.0</td>\n",
       "      <td>1.51</td>\n",
       "      <td>1</td>\n",
       "    </tr>\n",
       "    <tr>\n",
       "      <th>4</th>\n",
       "      <td>external</td>\n",
       "      <td>Explain Iris setosa</td>\n",
       "      <td>baseline</td>\n",
       "      <td>1.0</td>\n",
       "      <td>0.02</td>\n",
       "      <td>1</td>\n",
       "    </tr>\n",
       "    <tr>\n",
       "      <th>5</th>\n",
       "      <td>external</td>\n",
       "      <td>Explain Iris setosa</td>\n",
       "      <td>react</td>\n",
       "      <td>1.0</td>\n",
       "      <td>0.00</td>\n",
       "      <td>1</td>\n",
       "    </tr>\n",
       "    <tr>\n",
       "      <th>6</th>\n",
       "      <td>external</td>\n",
       "      <td>Explain Iris versicolor</td>\n",
       "      <td>baseline</td>\n",
       "      <td>1.0</td>\n",
       "      <td>1993.94</td>\n",
       "      <td>1</td>\n",
       "    </tr>\n",
       "    <tr>\n",
       "      <th>7</th>\n",
       "      <td>external</td>\n",
       "      <td>Explain Iris versicolor</td>\n",
       "      <td>react</td>\n",
       "      <td>1.0</td>\n",
       "      <td>0.01</td>\n",
       "      <td>1</td>\n",
       "    </tr>\n",
       "    <tr>\n",
       "      <th>8</th>\n",
       "      <td>external</td>\n",
       "      <td>Explain Iris virginica</td>\n",
       "      <td>baseline</td>\n",
       "      <td>1.0</td>\n",
       "      <td>2046.65</td>\n",
       "      <td>1</td>\n",
       "    </tr>\n",
       "    <tr>\n",
       "      <th>9</th>\n",
       "      <td>external</td>\n",
       "      <td>Explain Iris virginica</td>\n",
       "      <td>react</td>\n",
       "      <td>1.0</td>\n",
       "      <td>0.01</td>\n",
       "      <td>1</td>\n",
       "    </tr>\n",
       "  </tbody>\n",
       "</table>\n",
       "</div>"
      ],
      "text/plain": [
       "       task                            query    method  success  latency_ms  \\\n",
       "0  internal  average petal length by species  baseline      1.0        4.70   \n",
       "1  internal  average petal length by species     react      1.0        2.01   \n",
       "2  internal      avg petal_length by species  baseline      1.0        1.89   \n",
       "3  internal      avg petal_length by species     react      1.0        1.51   \n",
       "4  external              Explain Iris setosa  baseline      1.0        0.02   \n",
       "5  external              Explain Iris setosa     react      1.0        0.00   \n",
       "6  external          Explain Iris versicolor  baseline      1.0     1993.94   \n",
       "7  external          Explain Iris versicolor     react      1.0        0.01   \n",
       "8  external           Explain Iris virginica  baseline      1.0     2046.65   \n",
       "9  external           Explain Iris virginica     react      1.0        0.01   \n",
       "\n",
       "   tool_calls  \n",
       "0           1  \n",
       "1           1  \n",
       "2           1  \n",
       "3           1  \n",
       "4           1  \n",
       "5           1  \n",
       "6           1  \n",
       "7           1  \n",
       "8           1  \n",
       "9           1  "
      ]
     },
     "execution_count": 87,
     "metadata": {},
     "output_type": "execute_result"
    }
   ],
   "source": [
    "detail.head(10)"
   ]
  },
  {
   "cell_type": "code",
   "execution_count": null,
   "id": "4f97a82c-0ce9-49cf-8235-661fea182dfd",
   "metadata": {},
   "outputs": [],
   "source": []
  }
 ],
 "metadata": {
  "kernelspec": {
   "display_name": "Python (nlp_automl_env)",
   "language": "python",
   "name": "nlp_automl_env"
  },
  "language_info": {
   "codemirror_mode": {
    "name": "ipython",
    "version": 3
   },
   "file_extension": ".py",
   "mimetype": "text/x-python",
   "name": "python",
   "nbconvert_exporter": "python",
   "pygments_lexer": "ipython3",
   "version": "3.10.12"
  }
 },
 "nbformat": 4,
 "nbformat_minor": 5
}
